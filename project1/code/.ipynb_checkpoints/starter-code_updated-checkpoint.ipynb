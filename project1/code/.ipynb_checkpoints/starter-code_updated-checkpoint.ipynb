{
 "cells": [
  {
   "cell_type": "markdown",
   "metadata": {},
   "source": [
    "# Project 1: SAT & ACT Analysis"
   ]
  },
  {
   "cell_type": "markdown",
   "metadata": {},
   "source": [
    "\n",
    "## Problem Statement"
   ]
  },
  {
   "cell_type": "markdown",
   "metadata": {},
   "source": [
    "This project analyses the SAT and ACT participation rates along with the test scores in the USA. Performance and participation rates differ across states and the goal of the paper is to extract and analyse data using various forms of statistical inferences and visualization tools to provide recommendations to the college board to increase SAT participation rates. Analysis is based on SAT and ACT data in 2017 and 2018."
   ]
  },
  {
   "cell_type": "markdown",
   "metadata": {},
   "source": [
    "## Executive Summary\n",
    "\n",
    "In general, the ACT is a more common mode of exam as compared to the SAT.\n",
    "\n",
<<<<<<< HEAD
    "High participation rates on either the SAT or the ACT typically means low participation rates for the other test across states in the USA. This trend is heightened in states where the ACT is mandatory. Thus, it makes sense to channel the resources and funds to states where the ACT is not compulsory. As far as test scores are concerned, they remained fairly similar even at the high and low ends of the grades. However, a trend that emerges from the data is that states do not fare as well if tests are mandatory.In order to increase the SAT participation rates, the board should channel the resources to states where the ACT is not contracted. \n",
    "\n",
    "I would recommend the state of Pennsylvania for the following reasons: It is of close proximity to states where the SAT is contracted. Secondly, they have also experienced an increased in participation rates for the SAT from 65% to 70%. In addition, as discovered earlier in the preliminary analysis, high participation rates tend to correspond to low test scores. However, it is worth pointing out that Pennsylvania increased their SAT scores from 2017 to 2018. As such, this could indicate that the students are seeking out the SAT as opposed to the ACT. \n",
    "\n",
    "Another state one might consider is California as there is a lot of room for overall participation in the SAT. This would capitalise on absolute numbers instead of participation rate as there are 850, 000 students not covered by either the SAT or the ACT. This implies that a 1% increase in participation rate would lead to a much higher rise in absolute numbers in terms of participation."
=======
    "High participation rates on either the SAT or the ACT typically means low participation rates for the other test across states in the USA. This trend is heightened in states where the ACT is mandatory. Thus, it makes sense to channel the resources and funds to states where the ACT is not compulsory.\n",
    "\n",
    "As far as test scores are concerned, they remained fairly similar even at the high and low ends of the grades. However, a trend that emerges from the data is that states do not fare as well if tests are mandatory.\n",
    "\n",
    "In order to increase the SAT participation rates, the board should channel the resources to states where the ACT is not contracted. I would recommend the state of Pennsylvania for the following reasons: It is of close proximity to states where the SAT is contracted. Secondly, they have also experienced an increased in participation rates for the SAT from 65% to 70%. In addition, as discovered earlier in the preliminary analysis, high participation rates tend to correspond to low test scores. However, it is worth pointing out that Pennsylvania increased their SAT scores from 2017 to 2018. As such, this could indicate that the students are seeking out the SAT as opposed to the ACT. https://www.applerouth.com/blog/2016/01/13/how-the-sat-got-its-groove-back/"
>>>>>>> temp-branch
   ]
  },
  {
   "cell_type": "markdown",
   "metadata": {},
   "source": [
    "### Contents:\n",
    "- [2017 Data Import & Cleaning](#Data-Import-and-Cleaning)\n",
    "- [2018 Data Import and Cleaning](#2018-Data-Import-and-Cleaning)\n",
    "- [Exploratory Data Analysis](#Exploratory-Data-Analysis)\n",
    "- [Data Visualization](#Visualize-the-data)\n",
    "- [Descriptive and Inferential Statistics](#Descriptive-and-Inferential-Statistics)\n",
    "- [Outside Research](#Outside-Research)\n",
    "- [Conclusions and Recommendations](#Conclusions-and-Recommendations)"
   ]
  },
  {
   "cell_type": "markdown",
   "metadata": {},
   "source": [
    "**If you combine your problem statement, executive summary, data dictionary, and conclusions/recommendations, you have an amazing README.md file that quickly aligns your audience to the contents of your project.** Don't forget to cite your data sources!"
   ]
  },
  {
   "cell_type": "markdown",
   "metadata": {},
   "source": [
    "*All libraries used should be added here*"
   ]
  },
  {
   "cell_type": "code",
   "execution_count": 1,
   "metadata": {},
   "outputs": [],
   "source": [
    "import pandas as pd\n",
    "import numpy as np\n",
    "import seaborn as sns\n",
    "import matplotlib.pyplot as plt\n",
    "\n",
    "\n",
    "plt.style.use('fivethirtyeight')   # Style sheets for doing your plot, one of the pop ones, fivethirtyyeight\n",
    "%matplotlib inline\n",
    "\n",
    "# Increase default figure and font sizes for easier viewing.\n",
    "plt.rcParams['figure.figsize'] = (8, 6)\n",
    "plt.rcParams['font.size'] = 14"
   ]
  },
  {
   "cell_type": "markdown",
   "metadata": {},
   "source": [
    "## 2017 Data Import and Cleaning"
   ]
  },
  {
   "cell_type": "markdown",
   "metadata": {},
   "source": [
    "#### 1. Read In SAT & ACT  Data\n",
    "\n",
    "Read in the `sat_2017.csv` and `act_2017.csv` files and assign them to appropriately named pandas dataframes."
   ]
  },
  {
   "cell_type": "code",
   "execution_count": 2,
   "metadata": {},
   "outputs": [],
   "source": [
    "sat_2017 = '../data/sat_2017.csv'\n",
    "sat_2017 = pd.read_csv(sat_2017)"
   ]
  },
  {
   "cell_type": "code",
   "execution_count": 3,
   "metadata": {
    "scrolled": true
   },
   "outputs": [
    {
     "data": {
      "text/html": [
       "<div>\n",
       "<style scoped>\n",
       "    .dataframe tbody tr th:only-of-type {\n",
       "        vertical-align: middle;\n",
       "    }\n",
       "\n",
       "    .dataframe tbody tr th {\n",
       "        vertical-align: top;\n",
       "    }\n",
       "\n",
       "    .dataframe thead th {\n",
       "        text-align: right;\n",
       "    }\n",
       "</style>\n",
       "<table border=\"1\" class=\"dataframe\">\n",
       "  <thead>\n",
       "    <tr style=\"text-align: right;\">\n",
       "      <th></th>\n",
       "      <th>State</th>\n",
       "      <th>Participation</th>\n",
       "      <th>Evidence-Based Reading and Writing</th>\n",
       "      <th>Math</th>\n",
       "      <th>Total</th>\n",
       "    </tr>\n",
       "  </thead>\n",
       "  <tbody>\n",
       "    <tr>\n",
       "      <th>0</th>\n",
       "      <td>Alabama</td>\n",
       "      <td>5%</td>\n",
       "      <td>593</td>\n",
       "      <td>572</td>\n",
       "      <td>1165</td>\n",
       "    </tr>\n",
       "    <tr>\n",
       "      <th>1</th>\n",
       "      <td>Alaska</td>\n",
       "      <td>38%</td>\n",
       "      <td>547</td>\n",
       "      <td>533</td>\n",
       "      <td>1080</td>\n",
       "    </tr>\n",
       "    <tr>\n",
       "      <th>2</th>\n",
       "      <td>Arizona</td>\n",
       "      <td>30%</td>\n",
       "      <td>563</td>\n",
       "      <td>553</td>\n",
       "      <td>1116</td>\n",
       "    </tr>\n",
       "    <tr>\n",
       "      <th>3</th>\n",
       "      <td>Arkansas</td>\n",
       "      <td>3%</td>\n",
       "      <td>614</td>\n",
       "      <td>594</td>\n",
       "      <td>1208</td>\n",
       "    </tr>\n",
       "    <tr>\n",
       "      <th>4</th>\n",
       "      <td>California</td>\n",
       "      <td>53%</td>\n",
       "      <td>531</td>\n",
       "      <td>524</td>\n",
       "      <td>1055</td>\n",
       "    </tr>\n",
       "    <tr>\n",
       "      <th>5</th>\n",
       "      <td>Colorado</td>\n",
       "      <td>11%</td>\n",
       "      <td>606</td>\n",
       "      <td>595</td>\n",
       "      <td>1201</td>\n",
       "    </tr>\n",
       "    <tr>\n",
       "      <th>6</th>\n",
       "      <td>Connecticut</td>\n",
       "      <td>100%</td>\n",
       "      <td>530</td>\n",
       "      <td>512</td>\n",
       "      <td>1041</td>\n",
       "    </tr>\n",
       "    <tr>\n",
       "      <th>7</th>\n",
       "      <td>Delaware</td>\n",
       "      <td>100%</td>\n",
       "      <td>503</td>\n",
       "      <td>492</td>\n",
       "      <td>996</td>\n",
       "    </tr>\n",
       "    <tr>\n",
       "      <th>8</th>\n",
       "      <td>District of Columbia</td>\n",
       "      <td>100%</td>\n",
       "      <td>482</td>\n",
       "      <td>468</td>\n",
       "      <td>950</td>\n",
       "    </tr>\n",
       "    <tr>\n",
       "      <th>9</th>\n",
       "      <td>Florida</td>\n",
       "      <td>83%</td>\n",
       "      <td>520</td>\n",
       "      <td>497</td>\n",
       "      <td>1017</td>\n",
       "    </tr>\n",
       "    <tr>\n",
       "      <th>10</th>\n",
       "      <td>Georgia</td>\n",
       "      <td>61%</td>\n",
       "      <td>535</td>\n",
       "      <td>515</td>\n",
       "      <td>1050</td>\n",
       "    </tr>\n",
       "    <tr>\n",
       "      <th>11</th>\n",
       "      <td>Hawaii</td>\n",
       "      <td>55%</td>\n",
       "      <td>544</td>\n",
       "      <td>541</td>\n",
       "      <td>1085</td>\n",
       "    </tr>\n",
       "    <tr>\n",
       "      <th>12</th>\n",
       "      <td>Idaho</td>\n",
       "      <td>93%</td>\n",
       "      <td>513</td>\n",
       "      <td>493</td>\n",
       "      <td>1005</td>\n",
       "    </tr>\n",
       "    <tr>\n",
       "      <th>13</th>\n",
       "      <td>Illinois</td>\n",
       "      <td>9%</td>\n",
       "      <td>559</td>\n",
       "      <td>556</td>\n",
       "      <td>1115</td>\n",
       "    </tr>\n",
       "    <tr>\n",
       "      <th>14</th>\n",
       "      <td>Indiana</td>\n",
       "      <td>63%</td>\n",
       "      <td>542</td>\n",
       "      <td>532</td>\n",
       "      <td>1074</td>\n",
       "    </tr>\n",
       "    <tr>\n",
       "      <th>15</th>\n",
       "      <td>Iowa</td>\n",
       "      <td>2%</td>\n",
       "      <td>641</td>\n",
       "      <td>635</td>\n",
       "      <td>1275</td>\n",
       "    </tr>\n",
       "    <tr>\n",
       "      <th>16</th>\n",
       "      <td>Kansas</td>\n",
       "      <td>4%</td>\n",
       "      <td>632</td>\n",
       "      <td>628</td>\n",
       "      <td>1260</td>\n",
       "    </tr>\n",
       "    <tr>\n",
       "      <th>17</th>\n",
       "      <td>Kentucky</td>\n",
       "      <td>4%</td>\n",
       "      <td>631</td>\n",
       "      <td>616</td>\n",
       "      <td>1247</td>\n",
       "    </tr>\n",
       "    <tr>\n",
       "      <th>18</th>\n",
       "      <td>Louisiana</td>\n",
       "      <td>4%</td>\n",
       "      <td>611</td>\n",
       "      <td>586</td>\n",
       "      <td>1198</td>\n",
       "    </tr>\n",
       "    <tr>\n",
       "      <th>19</th>\n",
       "      <td>Maine</td>\n",
       "      <td>95%</td>\n",
       "      <td>513</td>\n",
       "      <td>499</td>\n",
       "      <td>1012</td>\n",
       "    </tr>\n",
       "    <tr>\n",
       "      <th>20</th>\n",
       "      <td>Maryland</td>\n",
       "      <td>69%</td>\n",
       "      <td>536</td>\n",
       "      <td>52</td>\n",
       "      <td>1060</td>\n",
       "    </tr>\n",
       "    <tr>\n",
       "      <th>21</th>\n",
       "      <td>Massachusetts</td>\n",
       "      <td>76%</td>\n",
       "      <td>555</td>\n",
       "      <td>551</td>\n",
       "      <td>1107</td>\n",
       "    </tr>\n",
       "    <tr>\n",
       "      <th>22</th>\n",
       "      <td>Michigan</td>\n",
       "      <td>100%</td>\n",
       "      <td>509</td>\n",
       "      <td>495</td>\n",
       "      <td>1005</td>\n",
       "    </tr>\n",
       "    <tr>\n",
       "      <th>23</th>\n",
       "      <td>Minnesota</td>\n",
       "      <td>3%</td>\n",
       "      <td>644</td>\n",
       "      <td>651</td>\n",
       "      <td>1295</td>\n",
       "    </tr>\n",
       "    <tr>\n",
       "      <th>24</th>\n",
       "      <td>Mississippi</td>\n",
       "      <td>2%</td>\n",
       "      <td>634</td>\n",
       "      <td>607</td>\n",
       "      <td>1242</td>\n",
       "    </tr>\n",
       "    <tr>\n",
       "      <th>25</th>\n",
       "      <td>Missouri</td>\n",
       "      <td>3%</td>\n",
       "      <td>640</td>\n",
       "      <td>631</td>\n",
       "      <td>1271</td>\n",
       "    </tr>\n",
       "    <tr>\n",
       "      <th>26</th>\n",
       "      <td>Montana</td>\n",
       "      <td>10%</td>\n",
       "      <td>605</td>\n",
       "      <td>591</td>\n",
       "      <td>1196</td>\n",
       "    </tr>\n",
       "    <tr>\n",
       "      <th>27</th>\n",
       "      <td>Nebraska</td>\n",
       "      <td>3%</td>\n",
       "      <td>629</td>\n",
       "      <td>625</td>\n",
       "      <td>1253</td>\n",
       "    </tr>\n",
       "    <tr>\n",
       "      <th>28</th>\n",
       "      <td>Nevada</td>\n",
       "      <td>26%</td>\n",
       "      <td>563</td>\n",
       "      <td>553</td>\n",
       "      <td>1116</td>\n",
       "    </tr>\n",
       "    <tr>\n",
       "      <th>29</th>\n",
       "      <td>New Hampshire</td>\n",
       "      <td>96%</td>\n",
       "      <td>532</td>\n",
       "      <td>520</td>\n",
       "      <td>1052</td>\n",
       "    </tr>\n",
       "    <tr>\n",
       "      <th>30</th>\n",
       "      <td>New Jersey</td>\n",
       "      <td>70%</td>\n",
       "      <td>530</td>\n",
       "      <td>526</td>\n",
       "      <td>1056</td>\n",
       "    </tr>\n",
       "    <tr>\n",
       "      <th>31</th>\n",
       "      <td>New Mexico</td>\n",
       "      <td>11%</td>\n",
       "      <td>577</td>\n",
       "      <td>561</td>\n",
       "      <td>1138</td>\n",
       "    </tr>\n",
       "    <tr>\n",
       "      <th>32</th>\n",
       "      <td>New York</td>\n",
       "      <td>67%</td>\n",
       "      <td>528</td>\n",
       "      <td>523</td>\n",
       "      <td>1052</td>\n",
       "    </tr>\n",
       "    <tr>\n",
       "      <th>33</th>\n",
       "      <td>North Carolina</td>\n",
       "      <td>49%</td>\n",
       "      <td>546</td>\n",
       "      <td>535</td>\n",
       "      <td>1081</td>\n",
       "    </tr>\n",
       "    <tr>\n",
       "      <th>34</th>\n",
       "      <td>North Dakota</td>\n",
       "      <td>2%</td>\n",
       "      <td>635</td>\n",
       "      <td>621</td>\n",
       "      <td>1256</td>\n",
       "    </tr>\n",
       "    <tr>\n",
       "      <th>35</th>\n",
       "      <td>Ohio</td>\n",
       "      <td>12%</td>\n",
       "      <td>578</td>\n",
       "      <td>570</td>\n",
       "      <td>1149</td>\n",
       "    </tr>\n",
       "    <tr>\n",
       "      <th>36</th>\n",
       "      <td>Oklahoma</td>\n",
       "      <td>7%</td>\n",
       "      <td>530</td>\n",
       "      <td>517</td>\n",
       "      <td>1047</td>\n",
       "    </tr>\n",
       "    <tr>\n",
       "      <th>37</th>\n",
       "      <td>Oregon</td>\n",
       "      <td>43%</td>\n",
       "      <td>560</td>\n",
       "      <td>548</td>\n",
       "      <td>1108</td>\n",
       "    </tr>\n",
       "    <tr>\n",
       "      <th>38</th>\n",
       "      <td>Pennsylvania</td>\n",
       "      <td>65%</td>\n",
       "      <td>540</td>\n",
       "      <td>531</td>\n",
       "      <td>1071</td>\n",
       "    </tr>\n",
       "    <tr>\n",
       "      <th>39</th>\n",
       "      <td>Rhode Island</td>\n",
       "      <td>71%</td>\n",
       "      <td>539</td>\n",
       "      <td>524</td>\n",
       "      <td>1062</td>\n",
       "    </tr>\n",
       "    <tr>\n",
       "      <th>40</th>\n",
       "      <td>South Carolina</td>\n",
       "      <td>50%</td>\n",
       "      <td>543</td>\n",
       "      <td>521</td>\n",
       "      <td>1064</td>\n",
       "    </tr>\n",
       "    <tr>\n",
       "      <th>41</th>\n",
       "      <td>South Dakota</td>\n",
       "      <td>3%</td>\n",
       "      <td>612</td>\n",
       "      <td>603</td>\n",
       "      <td>1216</td>\n",
       "    </tr>\n",
       "    <tr>\n",
       "      <th>42</th>\n",
       "      <td>Tennessee</td>\n",
       "      <td>5%</td>\n",
       "      <td>623</td>\n",
       "      <td>604</td>\n",
       "      <td>1228</td>\n",
       "    </tr>\n",
       "    <tr>\n",
       "      <th>43</th>\n",
       "      <td>Texas</td>\n",
       "      <td>62%</td>\n",
       "      <td>513</td>\n",
       "      <td>507</td>\n",
       "      <td>1020</td>\n",
       "    </tr>\n",
       "    <tr>\n",
       "      <th>44</th>\n",
       "      <td>Utah</td>\n",
       "      <td>3%</td>\n",
       "      <td>624</td>\n",
       "      <td>614</td>\n",
       "      <td>1238</td>\n",
       "    </tr>\n",
       "    <tr>\n",
       "      <th>45</th>\n",
       "      <td>Vermont</td>\n",
       "      <td>60%</td>\n",
       "      <td>562</td>\n",
       "      <td>551</td>\n",
       "      <td>1114</td>\n",
       "    </tr>\n",
       "    <tr>\n",
       "      <th>46</th>\n",
       "      <td>Virginia</td>\n",
       "      <td>65%</td>\n",
       "      <td>561</td>\n",
       "      <td>541</td>\n",
       "      <td>1102</td>\n",
       "    </tr>\n",
       "    <tr>\n",
       "      <th>47</th>\n",
       "      <td>Washington</td>\n",
       "      <td>64%</td>\n",
       "      <td>541</td>\n",
       "      <td>534</td>\n",
       "      <td>1075</td>\n",
       "    </tr>\n",
       "    <tr>\n",
       "      <th>48</th>\n",
       "      <td>West Virginia</td>\n",
       "      <td>14%</td>\n",
       "      <td>558</td>\n",
       "      <td>528</td>\n",
       "      <td>1086</td>\n",
       "    </tr>\n",
       "    <tr>\n",
       "      <th>49</th>\n",
       "      <td>Wisconsin</td>\n",
       "      <td>3%</td>\n",
       "      <td>642</td>\n",
       "      <td>649</td>\n",
       "      <td>1291</td>\n",
       "    </tr>\n",
       "    <tr>\n",
       "      <th>50</th>\n",
       "      <td>Wyoming</td>\n",
       "      <td>3%</td>\n",
       "      <td>626</td>\n",
       "      <td>604</td>\n",
       "      <td>1230</td>\n",
       "    </tr>\n",
       "  </tbody>\n",
       "</table>\n",
       "</div>"
      ],
      "text/plain": [
       "                   State Participation  Evidence-Based Reading and Writing  \\\n",
       "0                Alabama            5%                                 593   \n",
       "1                 Alaska           38%                                 547   \n",
       "2                Arizona           30%                                 563   \n",
       "3               Arkansas            3%                                 614   \n",
       "4             California           53%                                 531   \n",
       "5               Colorado           11%                                 606   \n",
       "6            Connecticut          100%                                 530   \n",
       "7               Delaware          100%                                 503   \n",
       "8   District of Columbia          100%                                 482   \n",
       "9                Florida           83%                                 520   \n",
       "10               Georgia           61%                                 535   \n",
       "11                Hawaii           55%                                 544   \n",
       "12                 Idaho           93%                                 513   \n",
       "13              Illinois            9%                                 559   \n",
       "14               Indiana           63%                                 542   \n",
       "15                  Iowa            2%                                 641   \n",
       "16                Kansas            4%                                 632   \n",
       "17              Kentucky            4%                                 631   \n",
       "18             Louisiana            4%                                 611   \n",
       "19                 Maine           95%                                 513   \n",
       "20              Maryland           69%                                 536   \n",
       "21         Massachusetts           76%                                 555   \n",
       "22              Michigan          100%                                 509   \n",
       "23             Minnesota            3%                                 644   \n",
       "24           Mississippi            2%                                 634   \n",
       "25              Missouri            3%                                 640   \n",
       "26               Montana           10%                                 605   \n",
       "27              Nebraska            3%                                 629   \n",
       "28                Nevada           26%                                 563   \n",
       "29         New Hampshire           96%                                 532   \n",
       "30            New Jersey           70%                                 530   \n",
       "31            New Mexico           11%                                 577   \n",
       "32              New York           67%                                 528   \n",
       "33        North Carolina           49%                                 546   \n",
       "34          North Dakota            2%                                 635   \n",
       "35                  Ohio           12%                                 578   \n",
       "36              Oklahoma            7%                                 530   \n",
       "37                Oregon           43%                                 560   \n",
       "38          Pennsylvania           65%                                 540   \n",
       "39          Rhode Island           71%                                 539   \n",
       "40        South Carolina           50%                                 543   \n",
       "41          South Dakota            3%                                 612   \n",
       "42             Tennessee            5%                                 623   \n",
       "43                 Texas           62%                                 513   \n",
       "44                  Utah            3%                                 624   \n",
       "45               Vermont           60%                                 562   \n",
       "46              Virginia           65%                                 561   \n",
       "47            Washington           64%                                 541   \n",
       "48         West Virginia           14%                                 558   \n",
       "49             Wisconsin            3%                                 642   \n",
       "50               Wyoming            3%                                 626   \n",
       "\n",
       "    Math  Total  \n",
       "0    572   1165  \n",
       "1    533   1080  \n",
       "2    553   1116  \n",
       "3    594   1208  \n",
       "4    524   1055  \n",
       "5    595   1201  \n",
       "6    512   1041  \n",
       "7    492    996  \n",
       "8    468    950  \n",
       "9    497   1017  \n",
       "10   515   1050  \n",
       "11   541   1085  \n",
       "12   493   1005  \n",
       "13   556   1115  \n",
       "14   532   1074  \n",
       "15   635   1275  \n",
       "16   628   1260  \n",
       "17   616   1247  \n",
       "18   586   1198  \n",
       "19   499   1012  \n",
       "20    52   1060  \n",
       "21   551   1107  \n",
       "22   495   1005  \n",
       "23   651   1295  \n",
       "24   607   1242  \n",
       "25   631   1271  \n",
       "26   591   1196  \n",
       "27   625   1253  \n",
       "28   553   1116  \n",
       "29   520   1052  \n",
       "30   526   1056  \n",
       "31   561   1138  \n",
       "32   523   1052  \n",
       "33   535   1081  \n",
       "34   621   1256  \n",
       "35   570   1149  \n",
       "36   517   1047  \n",
       "37   548   1108  \n",
       "38   531   1071  \n",
       "39   524   1062  \n",
       "40   521   1064  \n",
       "41   603   1216  \n",
       "42   604   1228  \n",
       "43   507   1020  \n",
       "44   614   1238  \n",
       "45   551   1114  \n",
       "46   541   1102  \n",
       "47   534   1075  \n",
       "48   528   1086  \n",
       "49   649   1291  \n",
       "50   604   1230  "
      ]
     },
     "execution_count": 3,
     "metadata": {},
     "output_type": "execute_result"
    }
   ],
   "source": [
    "sat_2017"
   ]
  },
  {
   "cell_type": "code",
   "execution_count": 4,
   "metadata": {},
   "outputs": [
    {
     "data": {
      "text/plain": [
       "(51, 5)"
      ]
     },
     "execution_count": 4,
     "metadata": {},
     "output_type": "execute_result"
    }
   ],
   "source": [
    "sat_2017.shape"
   ]
  },
  {
   "cell_type": "code",
   "execution_count": 5,
   "metadata": {},
   "outputs": [
    {
     "data": {
      "text/plain": [
       "Index(['State', 'Participation', 'Evidence-Based Reading and Writing', 'Math',\n",
       "       'Total'],\n",
       "      dtype='object')"
      ]
     },
     "execution_count": 5,
     "metadata": {},
     "output_type": "execute_result"
    }
   ],
   "source": [
    "sat_2017.columns"
   ]
  },
  {
   "cell_type": "code",
   "execution_count": 6,
   "metadata": {},
   "outputs": [],
   "source": [
    "act_2017 = '../data/act_2017.csv'\n",
    "act_2017 = pd.read_csv(act_2017)"
   ]
  },
  {
   "cell_type": "code",
   "execution_count": 7,
   "metadata": {},
   "outputs": [
    {
     "data": {
      "text/html": [
       "<div>\n",
       "<style scoped>\n",
       "    .dataframe tbody tr th:only-of-type {\n",
       "        vertical-align: middle;\n",
       "    }\n",
       "\n",
       "    .dataframe tbody tr th {\n",
       "        vertical-align: top;\n",
       "    }\n",
       "\n",
       "    .dataframe thead th {\n",
       "        text-align: right;\n",
       "    }\n",
       "</style>\n",
       "<table border=\"1\" class=\"dataframe\">\n",
       "  <thead>\n",
       "    <tr style=\"text-align: right;\">\n",
       "      <th></th>\n",
       "      <th>State</th>\n",
       "      <th>Participation</th>\n",
       "      <th>English</th>\n",
       "      <th>Math</th>\n",
       "      <th>Reading</th>\n",
       "      <th>Science</th>\n",
       "      <th>Composite</th>\n",
       "    </tr>\n",
       "  </thead>\n",
       "  <tbody>\n",
       "    <tr>\n",
       "      <th>0</th>\n",
       "      <td>National</td>\n",
       "      <td>60%</td>\n",
       "      <td>20.3</td>\n",
       "      <td>20.7</td>\n",
       "      <td>21.4</td>\n",
       "      <td>21.0</td>\n",
       "      <td>21.0</td>\n",
       "    </tr>\n",
       "    <tr>\n",
       "      <th>1</th>\n",
       "      <td>Alabama</td>\n",
       "      <td>100%</td>\n",
       "      <td>18.9</td>\n",
       "      <td>18.4</td>\n",
       "      <td>19.7</td>\n",
       "      <td>19.4</td>\n",
       "      <td>19.2</td>\n",
       "    </tr>\n",
       "    <tr>\n",
       "      <th>2</th>\n",
       "      <td>Alaska</td>\n",
       "      <td>65%</td>\n",
       "      <td>18.7</td>\n",
       "      <td>19.8</td>\n",
       "      <td>20.4</td>\n",
       "      <td>19.9</td>\n",
       "      <td>19.8</td>\n",
       "    </tr>\n",
       "    <tr>\n",
       "      <th>3</th>\n",
       "      <td>Arizona</td>\n",
       "      <td>62%</td>\n",
       "      <td>18.6</td>\n",
       "      <td>19.8</td>\n",
       "      <td>20.1</td>\n",
       "      <td>19.8</td>\n",
       "      <td>19.7</td>\n",
       "    </tr>\n",
       "    <tr>\n",
       "      <th>4</th>\n",
       "      <td>Arkansas</td>\n",
       "      <td>100%</td>\n",
       "      <td>18.9</td>\n",
       "      <td>19.0</td>\n",
       "      <td>19.7</td>\n",
       "      <td>19.5</td>\n",
       "      <td>19.4</td>\n",
       "    </tr>\n",
       "    <tr>\n",
       "      <th>5</th>\n",
       "      <td>California</td>\n",
       "      <td>31%</td>\n",
       "      <td>22.5</td>\n",
       "      <td>22.7</td>\n",
       "      <td>23.1</td>\n",
       "      <td>22.2</td>\n",
       "      <td>22.8</td>\n",
       "    </tr>\n",
       "    <tr>\n",
       "      <th>6</th>\n",
       "      <td>Colorado</td>\n",
       "      <td>100%</td>\n",
       "      <td>20.1</td>\n",
       "      <td>20.3</td>\n",
       "      <td>21.2</td>\n",
       "      <td>20.9</td>\n",
       "      <td>20.8</td>\n",
       "    </tr>\n",
       "    <tr>\n",
       "      <th>7</th>\n",
       "      <td>Connecticut</td>\n",
       "      <td>31%</td>\n",
       "      <td>25.5</td>\n",
       "      <td>24.6</td>\n",
       "      <td>25.6</td>\n",
       "      <td>24.6</td>\n",
       "      <td>25.2</td>\n",
       "    </tr>\n",
       "    <tr>\n",
       "      <th>8</th>\n",
       "      <td>Delaware</td>\n",
       "      <td>18%</td>\n",
       "      <td>24.1</td>\n",
       "      <td>23.4</td>\n",
       "      <td>24.8</td>\n",
       "      <td>23.6</td>\n",
       "      <td>24.1</td>\n",
       "    </tr>\n",
       "    <tr>\n",
       "      <th>9</th>\n",
       "      <td>District of Columbia</td>\n",
       "      <td>32%</td>\n",
       "      <td>24.4</td>\n",
       "      <td>23.5</td>\n",
       "      <td>24.9</td>\n",
       "      <td>23.5</td>\n",
       "      <td>24.2</td>\n",
       "    </tr>\n",
       "    <tr>\n",
       "      <th>10</th>\n",
       "      <td>Florida</td>\n",
       "      <td>73%</td>\n",
       "      <td>19.0</td>\n",
       "      <td>19.4</td>\n",
       "      <td>21.0</td>\n",
       "      <td>19.4</td>\n",
       "      <td>19.8</td>\n",
       "    </tr>\n",
       "    <tr>\n",
       "      <th>11</th>\n",
       "      <td>Georgia</td>\n",
       "      <td>55%</td>\n",
       "      <td>21.0</td>\n",
       "      <td>20.9</td>\n",
       "      <td>22.0</td>\n",
       "      <td>21.3</td>\n",
       "      <td>21.4</td>\n",
       "    </tr>\n",
       "    <tr>\n",
       "      <th>12</th>\n",
       "      <td>Hawaii</td>\n",
       "      <td>90%</td>\n",
       "      <td>17.8</td>\n",
       "      <td>19.2</td>\n",
       "      <td>19.2</td>\n",
       "      <td>19.3</td>\n",
       "      <td>19.0</td>\n",
       "    </tr>\n",
       "    <tr>\n",
       "      <th>13</th>\n",
       "      <td>Idaho</td>\n",
       "      <td>38%</td>\n",
       "      <td>21.9</td>\n",
       "      <td>21.8</td>\n",
       "      <td>23.0</td>\n",
       "      <td>22.1</td>\n",
       "      <td>22.3</td>\n",
       "    </tr>\n",
       "    <tr>\n",
       "      <th>14</th>\n",
       "      <td>Illinois</td>\n",
       "      <td>93%</td>\n",
       "      <td>21.0</td>\n",
       "      <td>21.2</td>\n",
       "      <td>21.6</td>\n",
       "      <td>21.3</td>\n",
       "      <td>21.4</td>\n",
       "    </tr>\n",
       "    <tr>\n",
       "      <th>15</th>\n",
       "      <td>Indiana</td>\n",
       "      <td>35%</td>\n",
       "      <td>22.0</td>\n",
       "      <td>22.4</td>\n",
       "      <td>23.2</td>\n",
       "      <td>22.3</td>\n",
       "      <td>22.6</td>\n",
       "    </tr>\n",
       "    <tr>\n",
       "      <th>16</th>\n",
       "      <td>Iowa</td>\n",
       "      <td>67%</td>\n",
       "      <td>21.2</td>\n",
       "      <td>21.3</td>\n",
       "      <td>22.6</td>\n",
       "      <td>22.1</td>\n",
       "      <td>21.9</td>\n",
       "    </tr>\n",
       "    <tr>\n",
       "      <th>17</th>\n",
       "      <td>Kansas</td>\n",
       "      <td>73%</td>\n",
       "      <td>21.1</td>\n",
       "      <td>21.3</td>\n",
       "      <td>22.3</td>\n",
       "      <td>21.7</td>\n",
       "      <td>21.7</td>\n",
       "    </tr>\n",
       "    <tr>\n",
       "      <th>18</th>\n",
       "      <td>Kentucky</td>\n",
       "      <td>100%</td>\n",
       "      <td>19.6</td>\n",
       "      <td>19.4</td>\n",
       "      <td>20.5</td>\n",
       "      <td>20.1</td>\n",
       "      <td>20.0</td>\n",
       "    </tr>\n",
       "    <tr>\n",
       "      <th>19</th>\n",
       "      <td>Louisiana</td>\n",
       "      <td>100%</td>\n",
       "      <td>19.4</td>\n",
       "      <td>18.8</td>\n",
       "      <td>19.8</td>\n",
       "      <td>19.6</td>\n",
       "      <td>19.5</td>\n",
       "    </tr>\n",
       "    <tr>\n",
       "      <th>20</th>\n",
       "      <td>Maine</td>\n",
       "      <td>8%</td>\n",
       "      <td>24.2</td>\n",
       "      <td>24.0</td>\n",
       "      <td>24.8</td>\n",
       "      <td>23.7</td>\n",
       "      <td>24.3</td>\n",
       "    </tr>\n",
       "    <tr>\n",
       "      <th>21</th>\n",
       "      <td>Maryland</td>\n",
       "      <td>28%</td>\n",
       "      <td>23.3</td>\n",
       "      <td>23.1</td>\n",
       "      <td>24.2</td>\n",
       "      <td>2.3</td>\n",
       "      <td>23.6</td>\n",
       "    </tr>\n",
       "    <tr>\n",
       "      <th>22</th>\n",
       "      <td>Massachusetts</td>\n",
       "      <td>29%</td>\n",
       "      <td>25.4</td>\n",
       "      <td>25.3</td>\n",
       "      <td>25.9</td>\n",
       "      <td>24.7</td>\n",
       "      <td>25.4</td>\n",
       "    </tr>\n",
       "    <tr>\n",
       "      <th>23</th>\n",
       "      <td>Michigan</td>\n",
       "      <td>29%</td>\n",
       "      <td>24.1</td>\n",
       "      <td>23.7</td>\n",
       "      <td>24.5</td>\n",
       "      <td>23.8</td>\n",
       "      <td>24.1</td>\n",
       "    </tr>\n",
       "    <tr>\n",
       "      <th>24</th>\n",
       "      <td>Minnesota</td>\n",
       "      <td>100%</td>\n",
       "      <td>20.4</td>\n",
       "      <td>21.5</td>\n",
       "      <td>21.8</td>\n",
       "      <td>21.6</td>\n",
       "      <td>21.5</td>\n",
       "    </tr>\n",
       "    <tr>\n",
       "      <th>25</th>\n",
       "      <td>Mississippi</td>\n",
       "      <td>100%</td>\n",
       "      <td>18.2</td>\n",
       "      <td>18.1</td>\n",
       "      <td>18.8</td>\n",
       "      <td>18.8</td>\n",
       "      <td>18.6</td>\n",
       "    </tr>\n",
       "    <tr>\n",
       "      <th>26</th>\n",
       "      <td>Missouri</td>\n",
       "      <td>100%</td>\n",
       "      <td>19.8</td>\n",
       "      <td>19.9</td>\n",
       "      <td>20.8</td>\n",
       "      <td>20.5</td>\n",
       "      <td>20.4</td>\n",
       "    </tr>\n",
       "    <tr>\n",
       "      <th>27</th>\n",
       "      <td>Montana</td>\n",
       "      <td>100%</td>\n",
       "      <td>19.0</td>\n",
       "      <td>20.2</td>\n",
       "      <td>21.0</td>\n",
       "      <td>20.5</td>\n",
       "      <td>20.3</td>\n",
       "    </tr>\n",
       "    <tr>\n",
       "      <th>28</th>\n",
       "      <td>Nebraska</td>\n",
       "      <td>84%</td>\n",
       "      <td>20.9</td>\n",
       "      <td>20.9</td>\n",
       "      <td>21.9</td>\n",
       "      <td>21.5</td>\n",
       "      <td>21.4</td>\n",
       "    </tr>\n",
       "    <tr>\n",
       "      <th>29</th>\n",
       "      <td>Nevada</td>\n",
       "      <td>100%</td>\n",
       "      <td>16.3</td>\n",
       "      <td>18.0</td>\n",
       "      <td>18.1</td>\n",
       "      <td>18.2</td>\n",
       "      <td>17.8</td>\n",
       "    </tr>\n",
       "    <tr>\n",
       "      <th>30</th>\n",
       "      <td>New Hampshire</td>\n",
       "      <td>18%</td>\n",
       "      <td>25.4</td>\n",
       "      <td>25.1</td>\n",
       "      <td>26.0</td>\n",
       "      <td>24.9</td>\n",
       "      <td>25.5</td>\n",
       "    </tr>\n",
       "    <tr>\n",
       "      <th>31</th>\n",
       "      <td>New Jersey</td>\n",
       "      <td>34%</td>\n",
       "      <td>23.8</td>\n",
       "      <td>23.8</td>\n",
       "      <td>24.1</td>\n",
       "      <td>23.2</td>\n",
       "      <td>23.9</td>\n",
       "    </tr>\n",
       "    <tr>\n",
       "      <th>32</th>\n",
       "      <td>New Mexico</td>\n",
       "      <td>66%</td>\n",
       "      <td>18.6</td>\n",
       "      <td>19.4</td>\n",
       "      <td>20.4</td>\n",
       "      <td>20.0</td>\n",
       "      <td>19.7</td>\n",
       "    </tr>\n",
       "    <tr>\n",
       "      <th>33</th>\n",
       "      <td>New York</td>\n",
       "      <td>31%</td>\n",
       "      <td>23.8</td>\n",
       "      <td>24.0</td>\n",
       "      <td>24.6</td>\n",
       "      <td>23.9</td>\n",
       "      <td>24.2</td>\n",
       "    </tr>\n",
       "    <tr>\n",
       "      <th>34</th>\n",
       "      <td>North Carolina</td>\n",
       "      <td>100%</td>\n",
       "      <td>17.8</td>\n",
       "      <td>19.3</td>\n",
       "      <td>19.6</td>\n",
       "      <td>19.3</td>\n",
       "      <td>19.1</td>\n",
       "    </tr>\n",
       "    <tr>\n",
       "      <th>35</th>\n",
       "      <td>North Dakota</td>\n",
       "      <td>98%</td>\n",
       "      <td>19.0</td>\n",
       "      <td>20.4</td>\n",
       "      <td>20.5</td>\n",
       "      <td>20.6</td>\n",
       "      <td>20.3</td>\n",
       "    </tr>\n",
       "    <tr>\n",
       "      <th>36</th>\n",
       "      <td>Ohio</td>\n",
       "      <td>75%</td>\n",
       "      <td>21.2</td>\n",
       "      <td>21.6</td>\n",
       "      <td>22.5</td>\n",
       "      <td>22.0</td>\n",
       "      <td>22.0</td>\n",
       "    </tr>\n",
       "    <tr>\n",
       "      <th>37</th>\n",
       "      <td>Oklahoma</td>\n",
       "      <td>100%</td>\n",
       "      <td>18.5</td>\n",
       "      <td>18.8</td>\n",
       "      <td>20.1</td>\n",
       "      <td>19.6</td>\n",
       "      <td>19.4</td>\n",
       "    </tr>\n",
       "    <tr>\n",
       "      <th>38</th>\n",
       "      <td>Oregon</td>\n",
       "      <td>40%</td>\n",
       "      <td>21.2</td>\n",
       "      <td>21.5</td>\n",
       "      <td>22.4</td>\n",
       "      <td>21.7</td>\n",
       "      <td>21.8</td>\n",
       "    </tr>\n",
       "    <tr>\n",
       "      <th>39</th>\n",
       "      <td>Pennsylvania</td>\n",
       "      <td>23%</td>\n",
       "      <td>23.4</td>\n",
       "      <td>23.4</td>\n",
       "      <td>24.2</td>\n",
       "      <td>23.3</td>\n",
       "      <td>23.7</td>\n",
       "    </tr>\n",
       "    <tr>\n",
       "      <th>40</th>\n",
       "      <td>Rhode Island</td>\n",
       "      <td>21%</td>\n",
       "      <td>24.0</td>\n",
       "      <td>23.3</td>\n",
       "      <td>24.7</td>\n",
       "      <td>23.4</td>\n",
       "      <td>24.0</td>\n",
       "    </tr>\n",
       "    <tr>\n",
       "      <th>41</th>\n",
       "      <td>South Carolina</td>\n",
       "      <td>100%</td>\n",
       "      <td>17.5</td>\n",
       "      <td>18.6</td>\n",
       "      <td>19.1</td>\n",
       "      <td>18.9</td>\n",
       "      <td>18.7</td>\n",
       "    </tr>\n",
       "    <tr>\n",
       "      <th>42</th>\n",
       "      <td>South Dakota</td>\n",
       "      <td>80%</td>\n",
       "      <td>20.7</td>\n",
       "      <td>21.5</td>\n",
       "      <td>22.3</td>\n",
       "      <td>22.0</td>\n",
       "      <td>21.8</td>\n",
       "    </tr>\n",
       "    <tr>\n",
       "      <th>43</th>\n",
       "      <td>Tennessee</td>\n",
       "      <td>100%</td>\n",
       "      <td>19.5</td>\n",
       "      <td>19.2</td>\n",
       "      <td>20.1</td>\n",
       "      <td>19.9</td>\n",
       "      <td>19.8</td>\n",
       "    </tr>\n",
       "    <tr>\n",
       "      <th>44</th>\n",
       "      <td>Texas</td>\n",
       "      <td>45%</td>\n",
       "      <td>19.5</td>\n",
       "      <td>20.7</td>\n",
       "      <td>21.1</td>\n",
       "      <td>20.9</td>\n",
       "      <td>20.7</td>\n",
       "    </tr>\n",
       "    <tr>\n",
       "      <th>45</th>\n",
       "      <td>Utah</td>\n",
       "      <td>100%</td>\n",
       "      <td>19.5</td>\n",
       "      <td>19.9</td>\n",
       "      <td>20.8</td>\n",
       "      <td>20.6</td>\n",
       "      <td>20.3</td>\n",
       "    </tr>\n",
       "    <tr>\n",
       "      <th>46</th>\n",
       "      <td>Vermont</td>\n",
       "      <td>29%</td>\n",
       "      <td>23.3</td>\n",
       "      <td>23.1</td>\n",
       "      <td>24.4</td>\n",
       "      <td>23.2</td>\n",
       "      <td>23.6</td>\n",
       "    </tr>\n",
       "    <tr>\n",
       "      <th>47</th>\n",
       "      <td>Virginia</td>\n",
       "      <td>29%</td>\n",
       "      <td>23.5</td>\n",
       "      <td>23.3</td>\n",
       "      <td>24.6</td>\n",
       "      <td>23.5</td>\n",
       "      <td>23.8</td>\n",
       "    </tr>\n",
       "    <tr>\n",
       "      <th>48</th>\n",
       "      <td>Washington</td>\n",
       "      <td>29%</td>\n",
       "      <td>20.9</td>\n",
       "      <td>21.9</td>\n",
       "      <td>22.1</td>\n",
       "      <td>22.0</td>\n",
       "      <td>21.9</td>\n",
       "    </tr>\n",
       "    <tr>\n",
       "      <th>49</th>\n",
       "      <td>West Virginia</td>\n",
       "      <td>69%</td>\n",
       "      <td>20.0</td>\n",
       "      <td>19.4</td>\n",
       "      <td>21.2</td>\n",
       "      <td>20.5</td>\n",
       "      <td>20.4</td>\n",
       "    </tr>\n",
       "    <tr>\n",
       "      <th>50</th>\n",
       "      <td>Wisconsin</td>\n",
       "      <td>100%</td>\n",
       "      <td>19.7</td>\n",
       "      <td>20.4</td>\n",
       "      <td>20.6</td>\n",
       "      <td>20.9</td>\n",
       "      <td>20.5</td>\n",
       "    </tr>\n",
       "    <tr>\n",
       "      <th>51</th>\n",
       "      <td>Wyoming</td>\n",
       "      <td>100%</td>\n",
       "      <td>19.4</td>\n",
       "      <td>19.8</td>\n",
       "      <td>20.8</td>\n",
       "      <td>20.6</td>\n",
       "      <td>20.2x</td>\n",
       "    </tr>\n",
       "  </tbody>\n",
       "</table>\n",
       "</div>"
      ],
      "text/plain": [
       "                   State Participation  English  Math  Reading  Science  \\\n",
       "0               National           60%     20.3  20.7     21.4     21.0   \n",
       "1                Alabama          100%     18.9  18.4     19.7     19.4   \n",
       "2                 Alaska           65%     18.7  19.8     20.4     19.9   \n",
       "3                Arizona           62%     18.6  19.8     20.1     19.8   \n",
       "4               Arkansas          100%     18.9  19.0     19.7     19.5   \n",
       "5             California           31%     22.5  22.7     23.1     22.2   \n",
       "6               Colorado          100%     20.1  20.3     21.2     20.9   \n",
       "7            Connecticut           31%     25.5  24.6     25.6     24.6   \n",
       "8               Delaware           18%     24.1  23.4     24.8     23.6   \n",
       "9   District of Columbia           32%     24.4  23.5     24.9     23.5   \n",
       "10               Florida           73%     19.0  19.4     21.0     19.4   \n",
       "11               Georgia           55%     21.0  20.9     22.0     21.3   \n",
       "12                Hawaii           90%     17.8  19.2     19.2     19.3   \n",
       "13                 Idaho           38%     21.9  21.8     23.0     22.1   \n",
       "14              Illinois           93%     21.0  21.2     21.6     21.3   \n",
       "15               Indiana           35%     22.0  22.4     23.2     22.3   \n",
       "16                  Iowa           67%     21.2  21.3     22.6     22.1   \n",
       "17                Kansas           73%     21.1  21.3     22.3     21.7   \n",
       "18              Kentucky          100%     19.6  19.4     20.5     20.1   \n",
       "19             Louisiana          100%     19.4  18.8     19.8     19.6   \n",
       "20                 Maine            8%     24.2  24.0     24.8     23.7   \n",
       "21              Maryland           28%     23.3  23.1     24.2      2.3   \n",
       "22         Massachusetts           29%     25.4  25.3     25.9     24.7   \n",
       "23              Michigan           29%     24.1  23.7     24.5     23.8   \n",
       "24             Minnesota          100%     20.4  21.5     21.8     21.6   \n",
       "25           Mississippi          100%     18.2  18.1     18.8     18.8   \n",
       "26              Missouri          100%     19.8  19.9     20.8     20.5   \n",
       "27               Montana          100%     19.0  20.2     21.0     20.5   \n",
       "28              Nebraska           84%     20.9  20.9     21.9     21.5   \n",
       "29                Nevada          100%     16.3  18.0     18.1     18.2   \n",
       "30         New Hampshire           18%     25.4  25.1     26.0     24.9   \n",
       "31            New Jersey           34%     23.8  23.8     24.1     23.2   \n",
       "32            New Mexico           66%     18.6  19.4     20.4     20.0   \n",
       "33              New York           31%     23.8  24.0     24.6     23.9   \n",
       "34        North Carolina          100%     17.8  19.3     19.6     19.3   \n",
       "35          North Dakota           98%     19.0  20.4     20.5     20.6   \n",
       "36                  Ohio           75%     21.2  21.6     22.5     22.0   \n",
       "37              Oklahoma          100%     18.5  18.8     20.1     19.6   \n",
       "38                Oregon           40%     21.2  21.5     22.4     21.7   \n",
       "39          Pennsylvania           23%     23.4  23.4     24.2     23.3   \n",
       "40          Rhode Island           21%     24.0  23.3     24.7     23.4   \n",
       "41        South Carolina          100%     17.5  18.6     19.1     18.9   \n",
       "42          South Dakota           80%     20.7  21.5     22.3     22.0   \n",
       "43             Tennessee          100%     19.5  19.2     20.1     19.9   \n",
       "44                 Texas           45%     19.5  20.7     21.1     20.9   \n",
       "45                  Utah          100%     19.5  19.9     20.8     20.6   \n",
       "46               Vermont           29%     23.3  23.1     24.4     23.2   \n",
       "47              Virginia           29%     23.5  23.3     24.6     23.5   \n",
       "48            Washington           29%     20.9  21.9     22.1     22.0   \n",
       "49         West Virginia           69%     20.0  19.4     21.2     20.5   \n",
       "50             Wisconsin          100%     19.7  20.4     20.6     20.9   \n",
       "51               Wyoming          100%     19.4  19.8     20.8     20.6   \n",
       "\n",
       "   Composite  \n",
       "0       21.0  \n",
       "1       19.2  \n",
       "2       19.8  \n",
       "3       19.7  \n",
       "4       19.4  \n",
       "5       22.8  \n",
       "6       20.8  \n",
       "7       25.2  \n",
       "8       24.1  \n",
       "9       24.2  \n",
       "10      19.8  \n",
       "11      21.4  \n",
       "12      19.0  \n",
       "13      22.3  \n",
       "14      21.4  \n",
       "15      22.6  \n",
       "16      21.9  \n",
       "17      21.7  \n",
       "18      20.0  \n",
       "19      19.5  \n",
       "20      24.3  \n",
       "21      23.6  \n",
       "22      25.4  \n",
       "23      24.1  \n",
       "24      21.5  \n",
       "25      18.6  \n",
       "26      20.4  \n",
       "27      20.3  \n",
       "28      21.4  \n",
       "29      17.8  \n",
       "30      25.5  \n",
       "31      23.9  \n",
       "32      19.7  \n",
       "33      24.2  \n",
       "34      19.1  \n",
       "35      20.3  \n",
       "36      22.0  \n",
       "37      19.4  \n",
       "38      21.8  \n",
       "39      23.7  \n",
       "40      24.0  \n",
       "41      18.7  \n",
       "42      21.8  \n",
       "43      19.8  \n",
       "44      20.7  \n",
       "45      20.3  \n",
       "46      23.6  \n",
       "47      23.8  \n",
       "48      21.9  \n",
       "49      20.4  \n",
       "50      20.5  \n",
       "51     20.2x  "
      ]
     },
     "execution_count": 7,
     "metadata": {},
     "output_type": "execute_result"
    }
   ],
   "source": [
    "act_2017"
   ]
  },
  {
   "cell_type": "code",
   "execution_count": 8,
   "metadata": {},
   "outputs": [
    {
     "data": {
      "text/plain": [
       "(52, 7)"
      ]
     },
     "execution_count": 8,
     "metadata": {},
     "output_type": "execute_result"
    }
   ],
   "source": [
    "act_2017.shape"
   ]
  },
  {
   "cell_type": "code",
   "execution_count": null,
   "metadata": {},
   "outputs": [],
   "source": []
  },
  {
   "cell_type": "markdown",
   "metadata": {},
   "source": [
    "#### 2. Display Data\n",
    "\n",
    "Print the first 10 rows of each dataframe to your jupyter notebook"
   ]
  },
  {
   "cell_type": "code",
   "execution_count": 9,
   "metadata": {},
   "outputs": [
    {
     "data": {
      "text/html": [
       "<div>\n",
       "<style scoped>\n",
       "    .dataframe tbody tr th:only-of-type {\n",
       "        vertical-align: middle;\n",
       "    }\n",
       "\n",
       "    .dataframe tbody tr th {\n",
       "        vertical-align: top;\n",
       "    }\n",
       "\n",
       "    .dataframe thead th {\n",
       "        text-align: right;\n",
       "    }\n",
       "</style>\n",
       "<table border=\"1\" class=\"dataframe\">\n",
       "  <thead>\n",
       "    <tr style=\"text-align: right;\">\n",
       "      <th></th>\n",
       "      <th>State</th>\n",
       "      <th>Participation</th>\n",
       "      <th>Evidence-Based Reading and Writing</th>\n",
       "      <th>Math</th>\n",
       "      <th>Total</th>\n",
       "    </tr>\n",
       "  </thead>\n",
       "  <tbody>\n",
       "    <tr>\n",
       "      <th>0</th>\n",
       "      <td>Alabama</td>\n",
       "      <td>5%</td>\n",
       "      <td>593</td>\n",
       "      <td>572</td>\n",
       "      <td>1165</td>\n",
       "    </tr>\n",
       "    <tr>\n",
       "      <th>1</th>\n",
       "      <td>Alaska</td>\n",
       "      <td>38%</td>\n",
       "      <td>547</td>\n",
       "      <td>533</td>\n",
       "      <td>1080</td>\n",
       "    </tr>\n",
       "    <tr>\n",
       "      <th>2</th>\n",
       "      <td>Arizona</td>\n",
       "      <td>30%</td>\n",
       "      <td>563</td>\n",
       "      <td>553</td>\n",
       "      <td>1116</td>\n",
       "    </tr>\n",
       "    <tr>\n",
       "      <th>3</th>\n",
       "      <td>Arkansas</td>\n",
       "      <td>3%</td>\n",
       "      <td>614</td>\n",
       "      <td>594</td>\n",
       "      <td>1208</td>\n",
       "    </tr>\n",
       "    <tr>\n",
       "      <th>4</th>\n",
       "      <td>California</td>\n",
       "      <td>53%</td>\n",
       "      <td>531</td>\n",
       "      <td>524</td>\n",
       "      <td>1055</td>\n",
       "    </tr>\n",
       "    <tr>\n",
       "      <th>5</th>\n",
       "      <td>Colorado</td>\n",
       "      <td>11%</td>\n",
       "      <td>606</td>\n",
       "      <td>595</td>\n",
       "      <td>1201</td>\n",
       "    </tr>\n",
       "    <tr>\n",
       "      <th>6</th>\n",
       "      <td>Connecticut</td>\n",
       "      <td>100%</td>\n",
       "      <td>530</td>\n",
       "      <td>512</td>\n",
       "      <td>1041</td>\n",
       "    </tr>\n",
       "    <tr>\n",
       "      <th>7</th>\n",
       "      <td>Delaware</td>\n",
       "      <td>100%</td>\n",
       "      <td>503</td>\n",
       "      <td>492</td>\n",
       "      <td>996</td>\n",
       "    </tr>\n",
       "    <tr>\n",
       "      <th>8</th>\n",
       "      <td>District of Columbia</td>\n",
       "      <td>100%</td>\n",
       "      <td>482</td>\n",
       "      <td>468</td>\n",
       "      <td>950</td>\n",
       "    </tr>\n",
       "    <tr>\n",
       "      <th>9</th>\n",
       "      <td>Florida</td>\n",
       "      <td>83%</td>\n",
       "      <td>520</td>\n",
       "      <td>497</td>\n",
       "      <td>1017</td>\n",
       "    </tr>\n",
       "  </tbody>\n",
       "</table>\n",
       "</div>"
      ],
      "text/plain": [
       "                  State Participation  Evidence-Based Reading and Writing  \\\n",
       "0               Alabama            5%                                 593   \n",
       "1                Alaska           38%                                 547   \n",
       "2               Arizona           30%                                 563   \n",
       "3              Arkansas            3%                                 614   \n",
       "4            California           53%                                 531   \n",
       "5              Colorado           11%                                 606   \n",
       "6           Connecticut          100%                                 530   \n",
       "7              Delaware          100%                                 503   \n",
       "8  District of Columbia          100%                                 482   \n",
       "9               Florida           83%                                 520   \n",
       "\n",
       "   Math  Total  \n",
       "0   572   1165  \n",
       "1   533   1080  \n",
       "2   553   1116  \n",
       "3   594   1208  \n",
       "4   524   1055  \n",
       "5   595   1201  \n",
       "6   512   1041  \n",
       "7   492    996  \n",
       "8   468    950  \n",
       "9   497   1017  "
      ]
     },
     "execution_count": 9,
     "metadata": {},
     "output_type": "execute_result"
    }
   ],
   "source": [
    "#Code:\n",
    "sat_2017.head(10)\n",
    "\n"
   ]
  },
  {
   "cell_type": "code",
   "execution_count": 10,
   "metadata": {},
   "outputs": [
    {
     "data": {
      "text/html": [
       "<div>\n",
       "<style scoped>\n",
       "    .dataframe tbody tr th:only-of-type {\n",
       "        vertical-align: middle;\n",
       "    }\n",
       "\n",
       "    .dataframe tbody tr th {\n",
       "        vertical-align: top;\n",
       "    }\n",
       "\n",
       "    .dataframe thead th {\n",
       "        text-align: right;\n",
       "    }\n",
       "</style>\n",
       "<table border=\"1\" class=\"dataframe\">\n",
       "  <thead>\n",
       "    <tr style=\"text-align: right;\">\n",
       "      <th></th>\n",
       "      <th>State</th>\n",
       "      <th>Participation</th>\n",
       "      <th>English</th>\n",
       "      <th>Math</th>\n",
       "      <th>Reading</th>\n",
       "      <th>Science</th>\n",
       "      <th>Composite</th>\n",
       "    </tr>\n",
       "  </thead>\n",
       "  <tbody>\n",
       "    <tr>\n",
       "      <th>0</th>\n",
       "      <td>National</td>\n",
       "      <td>60%</td>\n",
       "      <td>20.3</td>\n",
       "      <td>20.7</td>\n",
       "      <td>21.4</td>\n",
       "      <td>21.0</td>\n",
       "      <td>21.0</td>\n",
       "    </tr>\n",
       "    <tr>\n",
       "      <th>1</th>\n",
       "      <td>Alabama</td>\n",
       "      <td>100%</td>\n",
       "      <td>18.9</td>\n",
       "      <td>18.4</td>\n",
       "      <td>19.7</td>\n",
       "      <td>19.4</td>\n",
       "      <td>19.2</td>\n",
       "    </tr>\n",
       "    <tr>\n",
       "      <th>2</th>\n",
       "      <td>Alaska</td>\n",
       "      <td>65%</td>\n",
       "      <td>18.7</td>\n",
       "      <td>19.8</td>\n",
       "      <td>20.4</td>\n",
       "      <td>19.9</td>\n",
       "      <td>19.8</td>\n",
       "    </tr>\n",
       "    <tr>\n",
       "      <th>3</th>\n",
       "      <td>Arizona</td>\n",
       "      <td>62%</td>\n",
       "      <td>18.6</td>\n",
       "      <td>19.8</td>\n",
       "      <td>20.1</td>\n",
       "      <td>19.8</td>\n",
       "      <td>19.7</td>\n",
       "    </tr>\n",
       "    <tr>\n",
       "      <th>4</th>\n",
       "      <td>Arkansas</td>\n",
       "      <td>100%</td>\n",
       "      <td>18.9</td>\n",
       "      <td>19.0</td>\n",
       "      <td>19.7</td>\n",
       "      <td>19.5</td>\n",
       "      <td>19.4</td>\n",
       "    </tr>\n",
       "    <tr>\n",
       "      <th>5</th>\n",
       "      <td>California</td>\n",
       "      <td>31%</td>\n",
       "      <td>22.5</td>\n",
       "      <td>22.7</td>\n",
       "      <td>23.1</td>\n",
       "      <td>22.2</td>\n",
       "      <td>22.8</td>\n",
       "    </tr>\n",
       "    <tr>\n",
       "      <th>6</th>\n",
       "      <td>Colorado</td>\n",
       "      <td>100%</td>\n",
       "      <td>20.1</td>\n",
       "      <td>20.3</td>\n",
       "      <td>21.2</td>\n",
       "      <td>20.9</td>\n",
       "      <td>20.8</td>\n",
       "    </tr>\n",
       "    <tr>\n",
       "      <th>7</th>\n",
       "      <td>Connecticut</td>\n",
       "      <td>31%</td>\n",
       "      <td>25.5</td>\n",
       "      <td>24.6</td>\n",
       "      <td>25.6</td>\n",
       "      <td>24.6</td>\n",
       "      <td>25.2</td>\n",
       "    </tr>\n",
       "    <tr>\n",
       "      <th>8</th>\n",
       "      <td>Delaware</td>\n",
       "      <td>18%</td>\n",
       "      <td>24.1</td>\n",
       "      <td>23.4</td>\n",
       "      <td>24.8</td>\n",
       "      <td>23.6</td>\n",
       "      <td>24.1</td>\n",
       "    </tr>\n",
       "    <tr>\n",
       "      <th>9</th>\n",
       "      <td>District of Columbia</td>\n",
       "      <td>32%</td>\n",
       "      <td>24.4</td>\n",
       "      <td>23.5</td>\n",
       "      <td>24.9</td>\n",
       "      <td>23.5</td>\n",
       "      <td>24.2</td>\n",
       "    </tr>\n",
       "  </tbody>\n",
       "</table>\n",
       "</div>"
      ],
      "text/plain": [
       "                  State Participation  English  Math  Reading  Science  \\\n",
       "0              National           60%     20.3  20.7     21.4     21.0   \n",
       "1               Alabama          100%     18.9  18.4     19.7     19.4   \n",
       "2                Alaska           65%     18.7  19.8     20.4     19.9   \n",
       "3               Arizona           62%     18.6  19.8     20.1     19.8   \n",
       "4              Arkansas          100%     18.9  19.0     19.7     19.5   \n",
       "5            California           31%     22.5  22.7     23.1     22.2   \n",
       "6              Colorado          100%     20.1  20.3     21.2     20.9   \n",
       "7           Connecticut           31%     25.5  24.6     25.6     24.6   \n",
       "8              Delaware           18%     24.1  23.4     24.8     23.6   \n",
       "9  District of Columbia           32%     24.4  23.5     24.9     23.5   \n",
       "\n",
       "  Composite  \n",
       "0      21.0  \n",
       "1      19.2  \n",
       "2      19.8  \n",
       "3      19.7  \n",
       "4      19.4  \n",
       "5      22.8  \n",
       "6      20.8  \n",
       "7      25.2  \n",
       "8      24.1  \n",
       "9      24.2  "
      ]
     },
     "execution_count": 10,
     "metadata": {},
     "output_type": "execute_result"
    }
   ],
   "source": [
    "act_2017.head(10)"
   ]
  },
  {
   "cell_type": "markdown",
   "metadata": {},
   "source": [
    "#### 3. Verbally Describe Data\n",
    " "
   ]
  },
  {
   "cell_type": "markdown",
   "metadata": {},
   "source": [
    "The 2017 SAT data contains 51 rows and 5 columns. The columns are 'State', 'Participation', 'Evidence-Based reading and writing', 'Math' and 'Total'. 'State' and 'Participation' are object types. 'Evidenced-Based reading and writing', 'Math' and 'Total' are integer types. There are no missing values.\n",
    "\n",
    "The 2017 ACT data contains 52 rows and 7 columns. The columns are 'State', 'Participation', 'English', 'Math' , 'Reading','Science' and 'Composite'. 'State' and 'Participation' are object types. 'English', 'Math' , 'Reading' and 'Science' are float types.'State' and 'Participation' are object types while 'Evidenced-Based reading and writing', 'Math' and 'Total' are integer types. There are no missing values.\n",
    "\n",
    "It appears that the data is trying illustrate the participation rates of the 50 states in the US. However, I would like to look through why there is an extra row in the 2017 SAT data and 2 extra rows in the 2017 ACT data."
   ]
  },
  {
   "cell_type": "markdown",
   "metadata": {},
   "source": [
    "#### 4a. Does the data look complete? "
   ]
  },
  {
   "cell_type": "markdown",
   "metadata": {},
   "source": [
    "The data looks complete with no missing values and it appears that the data is trying illustrate the participation rates of the 50 states in the US. However, it seems odd that there is an extra row in the 2017 SAT data and 2 extra rows in the 2017 ACT data."
   ]
  },
  {
   "cell_type": "markdown",
   "metadata": {},
   "source": [
    "#### 4b. Are there any obvious issues with the observations?\n",
    "\n",
    "**What is the minimum *possible* value for each test/subtest? What is the maximum *possible* value?**\n",
    "\n",
    "Consider comparing any questionable values to the sources of your data:\n",
    "- [SAT](https://blog.collegevine.com/here-are-the-average-sat-scores-by-state/)\n",
    "- [ACT](https://blog.prepscholar.com/act-scores-by-state-averages-highs-and-lows)"
   ]
  },
  {
   "cell_type": "code",
   "execution_count": 11,
   "metadata": {},
   "outputs": [
    {
     "data": {
      "text/plain": [
       "0     False\n",
       "1     False\n",
       "2     False\n",
       "3     False\n",
       "4     False\n",
       "5     False\n",
       "6     False\n",
       "7     False\n",
       "8     False\n",
       "9     False\n",
       "10    False\n",
       "11    False\n",
       "12    False\n",
       "13    False\n",
       "14    False\n",
       "15    False\n",
       "16    False\n",
       "17    False\n",
       "18    False\n",
       "19    False\n",
       "20    False\n",
       "21    False\n",
       "22    False\n",
       "23    False\n",
       "24    False\n",
       "25    False\n",
       "26    False\n",
       "27    False\n",
       "28    False\n",
       "29    False\n",
       "30    False\n",
       "31    False\n",
       "32    False\n",
       "33    False\n",
       "34    False\n",
       "35    False\n",
       "36    False\n",
       "37    False\n",
       "38    False\n",
       "39    False\n",
       "40    False\n",
       "41    False\n",
       "42    False\n",
       "43    False\n",
       "44    False\n",
       "45    False\n",
       "46    False\n",
       "47    False\n",
       "48    False\n",
       "49    False\n",
       "50    False\n",
       "dtype: bool"
      ]
     },
     "execution_count": 11,
     "metadata": {},
     "output_type": "execute_result"
    }
   ],
   "source": [
    "# Check if there are any duplicated rows under the state column  \n",
    "sat_2017.duplicated('State')"
   ]
  },
  {
   "cell_type": "code",
   "execution_count": 12,
   "metadata": {},
   "outputs": [
    {
     "data": {
      "text/plain": [
       "0    False\n",
       "1    False\n",
       "2    False\n",
       "3    False\n",
       "4    False\n",
       "dtype: bool"
      ]
     },
     "execution_count": 12,
     "metadata": {},
     "output_type": "execute_result"
    }
   ],
   "source": [
    "act_2017.duplicated('State').head(5)"
   ]
  },
  {
   "cell_type": "code",
   "execution_count": 13,
   "metadata": {},
   "outputs": [
    {
     "data": {
      "text/html": [
       "<div>\n",
       "<style scoped>\n",
       "    .dataframe tbody tr th:only-of-type {\n",
       "        vertical-align: middle;\n",
       "    }\n",
       "\n",
       "    .dataframe tbody tr th {\n",
       "        vertical-align: top;\n",
       "    }\n",
       "\n",
       "    .dataframe thead th {\n",
       "        text-align: right;\n",
       "    }\n",
       "</style>\n",
       "<table border=\"1\" class=\"dataframe\">\n",
       "  <thead>\n",
       "    <tr style=\"text-align: right;\">\n",
       "      <th></th>\n",
       "      <th>State</th>\n",
       "      <th>Participation_x</th>\n",
       "      <th>Evidence-Based Reading and Writing</th>\n",
       "      <th>Math_x</th>\n",
       "      <th>Total</th>\n",
       "      <th>Participation_y</th>\n",
       "      <th>English</th>\n",
       "      <th>Math_y</th>\n",
       "      <th>Reading</th>\n",
       "      <th>Science</th>\n",
       "      <th>Composite</th>\n",
       "    </tr>\n",
       "  </thead>\n",
       "  <tbody>\n",
       "    <tr>\n",
       "      <th>51</th>\n",
       "      <td>National</td>\n",
       "      <td>NaN</td>\n",
       "      <td>NaN</td>\n",
       "      <td>NaN</td>\n",
       "      <td>NaN</td>\n",
       "      <td>60%</td>\n",
       "      <td>20.3</td>\n",
       "      <td>20.7</td>\n",
       "      <td>21.4</td>\n",
       "      <td>21.0</td>\n",
       "      <td>21.0</td>\n",
       "    </tr>\n",
       "  </tbody>\n",
       "</table>\n",
       "</div>"
      ],
      "text/plain": [
       "       State Participation_x  Evidence-Based Reading and Writing  Math_x  \\\n",
       "51  National             NaN                                 NaN     NaN   \n",
       "\n",
       "    Total Participation_y  English  Math_y  Reading  Science Composite  \n",
       "51    NaN             60%     20.3    20.7     21.4     21.0      21.0  "
      ]
     },
     "execution_count": 13,
     "metadata": {},
     "output_type": "execute_result"
    }
   ],
   "source": [
    "# As there are no duplicate rows, investigate where the additional row is\n",
    "\n",
    "add_row = pd.merge(sat_2017, act_2017, left_on='State', right_on='State', how ='outer')\n",
    "add_row[add_row.isnull().any(axis=1)]"
   ]
  },
  {
   "cell_type": "code",
   "execution_count": 14,
   "metadata": {},
   "outputs": [
    {
     "name": "stdout",
     "output_type": "stream",
     "text": [
      "<class 'pandas.core.frame.DataFrame'>\n",
      "RangeIndex: 51 entries, 0 to 50\n",
      "Data columns (total 5 columns):\n",
      "State                                 51 non-null object\n",
      "Participation                         51 non-null object\n",
      "Evidence-Based Reading and Writing    51 non-null int64\n",
      "Math                                  51 non-null int64\n",
      "Total                                 51 non-null int64\n",
      "dtypes: int64(3), object(2)\n",
      "memory usage: 2.1+ KB\n"
     ]
    }
   ],
   "source": [
    "sat_2017.info()"
   ]
  },
  {
   "cell_type": "code",
   "execution_count": 15,
   "metadata": {},
   "outputs": [
    {
     "name": "stdout",
     "output_type": "stream",
     "text": [
      "<class 'pandas.core.frame.DataFrame'>\n",
      "RangeIndex: 52 entries, 0 to 51\n",
      "Data columns (total 7 columns):\n",
      "State            52 non-null object\n",
      "Participation    52 non-null object\n",
      "English          52 non-null float64\n",
      "Math             52 non-null float64\n",
      "Reading          52 non-null float64\n",
      "Science          52 non-null float64\n",
      "Composite        52 non-null object\n",
      "dtypes: float64(4), object(3)\n",
      "memory usage: 2.9+ KB\n"
     ]
    }
   ],
   "source": [
    "act_2017.info()"
   ]
  },
  {
   "cell_type": "code",
   "execution_count": 16,
   "metadata": {},
   "outputs": [
    {
     "data": {
      "text/plain": [
       "0      21.0\n",
       "1      19.2\n",
       "2      19.8\n",
       "3      19.7\n",
       "4      19.4\n",
       "5      22.8\n",
       "6      20.8\n",
       "7      25.2\n",
       "8      24.1\n",
       "9      24.2\n",
       "10     19.8\n",
       "11     21.4\n",
       "12     19.0\n",
       "13     22.3\n",
       "14     21.4\n",
       "15     22.6\n",
       "16     21.9\n",
       "17     21.7\n",
       "18     20.0\n",
       "19     19.5\n",
       "20     24.3\n",
       "21     23.6\n",
       "22     25.4\n",
       "23     24.1\n",
       "24     21.5\n",
       "25     18.6\n",
       "26     20.4\n",
       "27     20.3\n",
       "28     21.4\n",
       "29     17.8\n",
       "30     25.5\n",
       "31     23.9\n",
       "32     19.7\n",
       "33     24.2\n",
       "34     19.1\n",
       "35     20.3\n",
       "36     22.0\n",
       "37     19.4\n",
       "38     21.8\n",
       "39     23.7\n",
       "40     24.0\n",
       "41     18.7\n",
       "42     21.8\n",
       "43     19.8\n",
       "44     20.7\n",
       "45     20.3\n",
       "46     23.6\n",
       "47     23.8\n",
       "48     21.9\n",
       "49     20.4\n",
       "50     20.5\n",
       "51    20.2x\n",
       "Name: Composite, dtype: object"
      ]
     },
     "execution_count": 16,
     "metadata": {},
     "output_type": "execute_result"
    }
   ],
   "source": [
    "act_2017['Composite']"
   ]
  },
  {
   "cell_type": "code",
   "execution_count": 17,
   "metadata": {},
   "outputs": [
    {
     "name": "stdout",
     "output_type": "stream",
     "text": [
      "       State Participation  Evidence-Based Reading and Writing  Math  Total\n",
      "20  Maryland           69%                                 536    52   1060\n"
     ]
    }
   ],
   "source": [
    "# Print row that has a 52 as the SAT math grade\n",
    "\n",
    "print(sat_2017[sat_2017.Math == 52.0])\n"
   ]
  },
  {
   "cell_type": "code",
   "execution_count": 18,
   "metadata": {},
   "outputs": [
    {
     "name": "stdout",
     "output_type": "stream",
     "text": [
      "       State Participation  English  Math  Reading  Science Composite\n",
      "21  Maryland           28%     23.3  23.1     24.2      2.3      23.6\n"
     ]
    }
   ],
   "source": [
    "# Print row that has 2.3 as the ACT science score\n",
    "\n",
    "print(act_2017[act_2017.Science == 2.3])"
   ]
  },
  {
   "cell_type": "markdown",
   "metadata": {},
   "source": [
    "### Answer: Issues with data\n",
    "\n",
    "There are several issues that were discovered with both data sets:\n",
    "\n",
    "SAT 2017:\n",
    "\n",
    "- The lowest possible math score an individual could possibly attain in the SAT subject section is 200 but in this case, the data showed that the math score for Maryland is 52\n",
    "- 'Participation' column is not of the integer data type and therefore, it would not allow for further calculation\n",
    "\n",
    "ACT 2017:\n",
    "\n",
    "- There is an extra row found under the ACT 2017 which consists of the National averages in the US\n",
    "- The science score for maryland is 2.3 is extremely low and thus needs further investigation\n",
    "- 'Composite' was found to be of the object data type when it should have been a float\n"
   ]
  },
  {
   "cell_type": "markdown",
   "metadata": {},
   "source": [
    "#### 4c. Fix any errors you identified\n",
    "\n",
    "**The data is available** so there's no need to guess or calculate anything. If you didn't find any errors, continue to the next step."
   ]
  },
  {
   "cell_type": "code",
   "execution_count": 19,
   "metadata": {},
   "outputs": [],
   "source": [
    "sat_2017['Math'].replace(52,524,inplace=True)"
   ]
  },
  {
   "cell_type": "code",
   "execution_count": 20,
   "metadata": {},
   "outputs": [],
   "source": [
    "act_2017['Science'].replace(2.3,23.2,inplace=True)"
   ]
  },
  {
   "cell_type": "markdown",
   "metadata": {},
   "source": [
    "#### 5. What are your data types? \n",
    "Display the data types of each feature. "
   ]
  },
  {
   "cell_type": "code",
   "execution_count": 21,
   "metadata": {},
   "outputs": [
    {
     "data": {
      "text/plain": [
       "State                                 object\n",
       "Participation                         object\n",
       "Evidence-Based Reading and Writing     int64\n",
       "Math                                   int64\n",
       "Total                                  int64\n",
       "dtype: object"
      ]
     },
     "execution_count": 21,
     "metadata": {},
     "output_type": "execute_result"
    }
   ],
   "source": [
    "#code\n",
    "sat_2017.dtypes"
   ]
  },
  {
   "cell_type": "code",
   "execution_count": 22,
   "metadata": {},
   "outputs": [
    {
     "data": {
      "text/plain": [
       "State             object\n",
       "Participation     object\n",
       "English          float64\n",
       "Math             float64\n",
       "Reading          float64\n",
       "Science          float64\n",
       "Composite         object\n",
       "dtype: object"
      ]
     },
     "execution_count": 22,
     "metadata": {},
     "output_type": "execute_result"
    }
   ],
   "source": [
    "act_2017.dtypes"
   ]
  },
  {
   "cell_type": "markdown",
   "metadata": {},
   "source": [
    "What did you learn?\n",
    "- Do any of them seem odd? \n",
    "\n",
    "- Which ones are not as they should be?  \n",
    "\n"
   ]
  },
  {
   "cell_type": "markdown",
   "metadata": {},
   "source": [
    "Answer: It is odd that 'Composite' is of an object type when it should have been a float. 'Participation' is an object type for both sat_2017 and act_2017 and therefore calculations would not be possible."
   ]
  },
  {
   "cell_type": "markdown",
   "metadata": {},
   "source": [
    "#### 6. Fix Incorrect Data Types\n",
    "Based on what you discovered above, use appropriate methods to re-type incorrectly typed data.\n",
    "- Define a function that will allow you to convert participation rates to an appropriate numeric type. Use `map` or `apply` to change these columns in each dataframe."
   ]
  },
  {
   "cell_type": "code",
   "execution_count": 23,
   "metadata": {},
   "outputs": [],
   "source": [
    "def object_to_float(x):\n",
    "    return float(x.strip('%'))/100\n",
    "\n",
    "sat_2017['Participation'] = sat_2017['Participation'].apply(object_to_float)\n"
   ]
  },
  {
   "cell_type": "code",
   "execution_count": 24,
   "metadata": {},
   "outputs": [
    {
     "data": {
      "text/plain": [
       "State                                  object\n",
       "Participation                         float64\n",
       "Evidence-Based Reading and Writing      int64\n",
       "Math                                    int64\n",
       "Total                                   int64\n",
       "dtype: object"
      ]
     },
     "execution_count": 24,
     "metadata": {},
     "output_type": "execute_result"
    }
   ],
   "source": [
    "sat_2017.dtypes"
   ]
  },
  {
   "cell_type": "code",
   "execution_count": 25,
   "metadata": {},
   "outputs": [],
   "source": [
    "act_2017['Participation'] = act_2017['Participation'].apply(object_to_float)"
   ]
  },
  {
   "cell_type": "code",
   "execution_count": 26,
   "metadata": {},
   "outputs": [
    {
     "data": {
      "text/plain": [
       "State             object\n",
       "Participation    float64\n",
       "English          float64\n",
       "Math             float64\n",
       "Reading          float64\n",
       "Science          float64\n",
       "Composite         object\n",
       "dtype: object"
      ]
     },
     "execution_count": 26,
     "metadata": {},
     "output_type": "execute_result"
    }
   ],
   "source": [
    "act_2017.dtypes"
   ]
  },
  {
   "cell_type": "markdown",
   "metadata": {},
   "source": [
    "- Fix any individual values preventing other columns from being the appropriate type."
   ]
  },
  {
   "cell_type": "code",
   "execution_count": 27,
   "metadata": {},
   "outputs": [
    {
     "data": {
      "text/plain": [
       "'20.2x'"
      ]
     },
     "execution_count": 27,
     "metadata": {},
     "output_type": "execute_result"
    }
   ],
   "source": [
    "act_2017['Composite'][51]"
   ]
  },
  {
   "cell_type": "code",
   "execution_count": 28,
   "metadata": {},
   "outputs": [],
   "source": [
    "act_2017['Composite'].replace('20.2x','23.2',inplace=True)"
   ]
  },
  {
   "cell_type": "markdown",
   "metadata": {},
   "source": [
    "- Finish your data modifications by making sure the columns are now typed appropriately."
   ]
  },
  {
   "cell_type": "code",
   "execution_count": 29,
   "metadata": {},
   "outputs": [],
   "source": [
    "act_2017['Composite'] = act_2017['Composite'].astype(float)"
   ]
  },
  {
   "cell_type": "markdown",
   "metadata": {},
   "source": [
    "- Display the data types again to confirm they are correct."
   ]
  },
  {
   "cell_type": "code",
   "execution_count": 30,
   "metadata": {},
   "outputs": [
    {
     "data": {
      "text/plain": [
       "State                                  object\n",
       "Participation                         float64\n",
       "Evidence-Based Reading and Writing      int64\n",
       "Math                                    int64\n",
       "Total                                   int64\n",
       "dtype: object"
      ]
     },
     "execution_count": 30,
     "metadata": {},
     "output_type": "execute_result"
    }
   ],
   "source": [
    "sat_2017.dtypes"
   ]
  },
  {
   "cell_type": "code",
   "execution_count": 31,
   "metadata": {},
   "outputs": [
    {
     "data": {
      "text/plain": [
       "State             object\n",
       "Participation    float64\n",
       "English          float64\n",
       "Math             float64\n",
       "Reading          float64\n",
       "Science          float64\n",
       "Composite        float64\n",
       "dtype: object"
      ]
     },
     "execution_count": 31,
     "metadata": {},
     "output_type": "execute_result"
    }
   ],
   "source": [
    "act_2017.dtypes"
   ]
  },
  {
   "cell_type": "markdown",
   "metadata": {},
   "source": [
    "#### 7. Rename Columns\n",
    "Change the names of the columns to more expressive names so that you can tell the difference the SAT columns and the ACT columns. Your solution should map all column names being changed at once (no repeated singular name-changes). **We will be combining these data with some of the data from 2018, and so you should name columns in an appropriate way**.\n",
    "\n",
    "**Guidelines**:\n",
    "- Column names should be all lowercase (you will thank yourself when you start pushing data to SQL later in the course)\n",
    "- Column names should not contain spaces (underscores will suffice--this allows for using the `df.column_name` method to access columns in addition to `df['column_name']`.\n",
    "- Column names should be unique and informative (the only feature that we actually share between dataframes is the state)."
   ]
  },
  {
   "cell_type": "code",
   "execution_count": 32,
   "metadata": {},
   "outputs": [],
   "source": [
    " sat_2017.rename(columns={'State':'state',\n",
    "                 'Participation':'sat_participation_17',\n",
    "                 'Evidence-Based Reading and Writing':'sat_erw_17',\n",
    "                 'Math':'sat_math_17',\n",
    "                 'Total':'sat_total_17'}, inplace=True)\n",
    "\n",
    "\n",
    "\n",
    "act_2017.rename(columns={'State':'state',\n",
    "                 'Participation':'act_participation_17',\n",
    "                 'English':'act_eng_17',\n",
    "                 'Math':'act_math_17',\n",
    "                 'Reading':'act_reading_17',\n",
    "                 'Science':'act_science_17',\n",
    "                 'Composite':'act_composite_17'}, inplace=True)\n",
    "\n",
    "\n"
   ]
  },
  {
   "cell_type": "code",
   "execution_count": 33,
   "metadata": {},
   "outputs": [],
   "source": [
    "# Convert all int to floats\n",
    "sat_2017['sat_erw_17'] = sat_2017['sat_erw_17'].astype(float)\n",
    "sat_2017['sat_math_17'] = sat_2017['sat_math_17'].astype(float)\n",
    "sat_2017['sat_total_17'] = sat_2017['sat_total_17'].astype(float)\n"
   ]
  },
  {
   "cell_type": "code",
   "execution_count": 34,
   "metadata": {},
   "outputs": [
    {
     "name": "stdout",
     "output_type": "stream",
     "text": [
      "<class 'pandas.core.frame.DataFrame'>\n",
      "RangeIndex: 51 entries, 0 to 50\n",
      "Data columns (total 5 columns):\n",
      "state                   51 non-null object\n",
      "sat_participation_17    51 non-null float64\n",
      "sat_erw_17              51 non-null float64\n",
      "sat_math_17             51 non-null float64\n",
      "sat_total_17            51 non-null float64\n",
      "dtypes: float64(4), object(1)\n",
      "memory usage: 2.1+ KB\n"
     ]
    }
   ],
   "source": [
    "sat_2017.info()"
   ]
  },
  {
   "cell_type": "markdown",
   "metadata": {},
   "source": [
    "#### 8. Create a data dictionary\n",
    "\n",
    "Now that we've fixed our data, and given it appropriate names, let's create a [data dictionary](http://library.ucmerced.edu/node/10249). \n",
    "\n",
    "A data dictionary provides a quick overview of features/variables/columns, alongside data types and descriptions. The more descriptive you can be, the more useful this document is.\n",
    "\n",
    "Example of a Fictional Data Dictionary Entry: \n",
    "\n",
    "|Feature|Type|Dataset|Description|\n",
    "|---|---|---|---|\n",
    "|**county_pop**|*integer*|2010 census|The population of the county (units in thousands, where 2.5 represents 2500 people).| \n",
    "|**per_poverty**|*float*|2010 census|The percent of the county over the age of 18 living below the 200% of official US poverty rate (units percent to two decimal places 98.10 means 98.1%)|\n",
    "\n",
    "[Here's a quick link to a short guide for formatting markdown in Jupyter notebooks](https://jupyter-notebook.readthedocs.io/en/stable/examples/Notebook/Working%20With%20Markdown%20Cells.html).\n",
    "\n",
    "Provided is the skeleton for formatting a markdown table, with columns headers that will help you create a data dictionary to quickly summarize your data, as well as some examples. **This would be a great thing to copy and paste into your custom README for this project.**"
   ]
  },
  {
   "cell_type": "markdown",
   "metadata": {},
   "source": [
    "|Feature|Type|Dataset|Description|\n",
    "|---|---|---|---|\n",
    "|state|object|ACT/SAT|Names of the 50 states in the USA| \n",
    "|sat_participation_17|float|ACT/SAT|State participation rate (%) in 2017|\n",
    "|sat_erw_17|float|ACT/SAT|State mean score for Evidence-Based Reading and Writing in 2017|\n",
    "|sat_math_17|float|ACT/SAT|State mean score for Math in 2017|\n",
    "|sat_total_17|float|ACT/SAT|State mean total (Evidence-Based Reading and Writing and Math combined total) in 2017|\n",
    "|act_participation_17|float|ACT/SAT|State participation rate (%) in 2017| \n",
    "|act_eng_17|float|ACT/SAT|State mean score for English in 2017|\n",
    "|act_math_17|float|ACT/SAT|State mean score for Math in 2017|\n",
    "|act_reading_17|float|ACT/SAT|State mean score for Reading in 2017|\n",
    "|act_science_17|float|ACT/SAT|State mean score for Science in 2017|\n",
    "|act_composite_17|float|ACT/SAT|State mean composite score (average score for English, Math, Reading, and Science) in 2017| \n",
    "|sat_participation_18|float|ACT/SAT|State participation rate (%) in 2018|\n",
    "|sat_erw_18|float|ACT/SAT|State mean score for Evidence-Based Reading and Writing in 2018|\n",
    "|sat_math_18|float|ACT/SAT|State mean score for Math in 2018|\n",
    "|sat_total_18|float|ACT/SAT|State mean total (Evidence-Based Reading and Writing and Math combined total) in 2017|\n",
    "|act_participation_18|float|ACT/SAT|State participation rate (%) in 2018| \n",
    "|act_eng_18|float|ACT/SAT|State mean score for English in 2018|\n",
    "|act_math_18|float|ACT/SAT|State mean score for Math in 2018|\n",
    "|act_reading_18|float|ACT/SAT|State mean score for Reading in 2018|\n",
    "|act_science_18|float|ACT/SAT|State mean score for Science in 2018|\n",
    "|act_composite_18|float|ACT/SAT|State mean composite score (average score for English, Math, Reading, and Science) in 2018| \n"
   ]
  },
  {
   "cell_type": "markdown",
   "metadata": {},
   "source": [
    "#### 9. Drop unnecessary rows\n",
    "\n",
    "One of our dataframes contains an extra row. Identify and remove this from the dataframe."
   ]
  },
  {
   "cell_type": "code",
   "execution_count": 35,
   "metadata": {},
   "outputs": [],
   "source": [
    "act_2017.drop([0],axis=0,inplace=True)"
   ]
  },
  {
   "cell_type": "markdown",
   "metadata": {},
   "source": [
    "#### 10. Merge Dataframes\n",
    "\n",
    "Join the 2017 ACT and SAT dataframes using the state in each dataframe as the key. Assign this to a new variable."
   ]
  },
  {
   "cell_type": "code",
   "execution_count": 36,
   "metadata": {},
   "outputs": [
    {
     "data": {
      "text/html": [
       "<div>\n",
       "<style scoped>\n",
       "    .dataframe tbody tr th:only-of-type {\n",
       "        vertical-align: middle;\n",
       "    }\n",
       "\n",
       "    .dataframe tbody tr th {\n",
       "        vertical-align: top;\n",
       "    }\n",
       "\n",
       "    .dataframe thead th {\n",
       "        text-align: right;\n",
       "    }\n",
       "</style>\n",
       "<table border=\"1\" class=\"dataframe\">\n",
       "  <thead>\n",
       "    <tr style=\"text-align: right;\">\n",
       "      <th></th>\n",
       "      <th>state</th>\n",
       "      <th>sat_participation_17</th>\n",
       "      <th>sat_erw_17</th>\n",
       "      <th>sat_math_17</th>\n",
       "      <th>sat_total_17</th>\n",
       "      <th>act_participation_17</th>\n",
       "      <th>act_eng_17</th>\n",
       "      <th>act_math_17</th>\n",
       "      <th>act_reading_17</th>\n",
       "      <th>act_science_17</th>\n",
       "      <th>act_composite_17</th>\n",
       "    </tr>\n",
       "  </thead>\n",
       "  <tbody>\n",
       "    <tr>\n",
       "      <th>0</th>\n",
       "      <td>Alabama</td>\n",
       "      <td>0.05</td>\n",
       "      <td>593.0</td>\n",
       "      <td>572.0</td>\n",
       "      <td>1165.0</td>\n",
       "      <td>1.00</td>\n",
       "      <td>18.9</td>\n",
       "      <td>18.4</td>\n",
       "      <td>19.7</td>\n",
       "      <td>19.4</td>\n",
       "      <td>19.2</td>\n",
       "    </tr>\n",
       "    <tr>\n",
       "      <th>1</th>\n",
       "      <td>Alaska</td>\n",
       "      <td>0.38</td>\n",
       "      <td>547.0</td>\n",
       "      <td>533.0</td>\n",
       "      <td>1080.0</td>\n",
       "      <td>0.65</td>\n",
       "      <td>18.7</td>\n",
       "      <td>19.8</td>\n",
       "      <td>20.4</td>\n",
       "      <td>19.9</td>\n",
       "      <td>19.8</td>\n",
       "    </tr>\n",
       "    <tr>\n",
       "      <th>2</th>\n",
       "      <td>Arizona</td>\n",
       "      <td>0.30</td>\n",
       "      <td>563.0</td>\n",
       "      <td>553.0</td>\n",
       "      <td>1116.0</td>\n",
       "      <td>0.62</td>\n",
       "      <td>18.6</td>\n",
       "      <td>19.8</td>\n",
       "      <td>20.1</td>\n",
       "      <td>19.8</td>\n",
       "      <td>19.7</td>\n",
       "    </tr>\n",
       "    <tr>\n",
       "      <th>3</th>\n",
       "      <td>Arkansas</td>\n",
       "      <td>0.03</td>\n",
       "      <td>614.0</td>\n",
       "      <td>594.0</td>\n",
       "      <td>1208.0</td>\n",
       "      <td>1.00</td>\n",
       "      <td>18.9</td>\n",
       "      <td>19.0</td>\n",
       "      <td>19.7</td>\n",
       "      <td>19.5</td>\n",
       "      <td>19.4</td>\n",
       "    </tr>\n",
       "    <tr>\n",
       "      <th>4</th>\n",
       "      <td>California</td>\n",
       "      <td>0.53</td>\n",
       "      <td>531.0</td>\n",
       "      <td>524.0</td>\n",
       "      <td>1055.0</td>\n",
       "      <td>0.31</td>\n",
       "      <td>22.5</td>\n",
       "      <td>22.7</td>\n",
       "      <td>23.1</td>\n",
       "      <td>22.2</td>\n",
       "      <td>22.8</td>\n",
       "    </tr>\n",
       "  </tbody>\n",
       "</table>\n",
       "</div>"
      ],
      "text/plain": [
       "        state  sat_participation_17  sat_erw_17  sat_math_17  sat_total_17  \\\n",
       "0     Alabama                  0.05       593.0        572.0        1165.0   \n",
       "1      Alaska                  0.38       547.0        533.0        1080.0   \n",
       "2     Arizona                  0.30       563.0        553.0        1116.0   \n",
       "3    Arkansas                  0.03       614.0        594.0        1208.0   \n",
       "4  California                  0.53       531.0        524.0        1055.0   \n",
       "\n",
       "   act_participation_17  act_eng_17  act_math_17  act_reading_17  \\\n",
       "0                  1.00        18.9         18.4            19.7   \n",
       "1                  0.65        18.7         19.8            20.4   \n",
       "2                  0.62        18.6         19.8            20.1   \n",
       "3                  1.00        18.9         19.0            19.7   \n",
       "4                  0.31        22.5         22.7            23.1   \n",
       "\n",
       "   act_science_17  act_composite_17  \n",
       "0            19.4              19.2  \n",
       "1            19.9              19.8  \n",
       "2            19.8              19.7  \n",
       "3            19.5              19.4  \n",
       "4            22.2              22.8  "
      ]
     },
     "execution_count": 36,
     "metadata": {},
     "output_type": "execute_result"
    }
   ],
   "source": [
    "sat_act_2017 = pd.merge(sat_2017, act_2017, on='state', how='inner')\n",
    "sat_act_2017.head()"
   ]
  },
  {
   "cell_type": "markdown",
   "metadata": {},
   "source": [
    "#### 11. Save your cleaned, merged dataframe\n",
    "\n",
    "Use a relative path to save out your data as `combined_2017.csv`."
   ]
  },
  {
   "cell_type": "code",
   "execution_count": 37,
   "metadata": {},
   "outputs": [],
   "source": [
    "sat_act_2017.to_csv(r'../data/combined_2017.csv')"
   ]
  },
  {
   "cell_type": "markdown",
   "metadata": {},
   "source": [
    "## 2018 Data Import and Cleaning"
   ]
  },
  {
   "cell_type": "markdown",
   "metadata": {},
   "source": [
    "Links to the 2018 ACT and SAT data are provided in the README. These data live in PDFs, and so you'll get to enjoy practicing some *manual* data collection. Save these data as a CSV in your `data` directory, and import, explore, and clean these data in the same way you did above. **Make sure you comment on your steps so it is clear *why* you are doing each process**."
   ]
  },
  {
   "cell_type": "code",
   "execution_count": 38,
   "metadata": {},
   "outputs": [],
   "source": [
    "sat_2018 = pd.read_csv('../data/sat_2018.csv')\n",
    "act_2018 = pd.read_csv('../data/act_2018_updated.csv')"
   ]
  },
  {
   "cell_type": "markdown",
   "metadata": {},
   "source": [
    "#### Renaming columns"
   ]
  },
  {
   "cell_type": "code",
   "execution_count": 39,
   "metadata": {},
   "outputs": [],
   "source": [
    "# Renamed Columns\n",
    "sat_2018.rename(columns={'State':'state',\n",
    "                 'Participation':'sat_participation_18',\n",
    "                 'Evidence-Based Reading and Writing':'sat_erw_18',\n",
    "                 'Math':'sat_math_18',\n",
    "                 'Total':'sat_total_18'}, inplace=True)\n",
    "\n",
    "\n",
    "\n",
    "act_2018.rename(columns={'State':'state',\n",
    "                 'Percentage of Students Tested':'act_participation_18',\n",
    "                 'Average English Score':'act_eng_18',\n",
    "                 'Average Math Score':'act_math_18',\n",
    "                 'Average Reading Score':'act_reading_18',\n",
    "                 'Average Science Score':'act_science_18',\n",
    "                 'Average Composite Score':'act_composite_18'}, inplace=True)"
   ]
  },
  {
   "cell_type": "markdown",
   "metadata": {},
   "source": [
    "#### Converting all columns into floats apart from 'state'"
   ]
  },
  {
   "cell_type": "code",
   "execution_count": 40,
   "metadata": {},
   "outputs": [],
   "source": [
    "# Convert all int to floats (sat_2018)\n",
    "sat_2018['sat_erw_18'] = sat_2018['sat_erw_18'].astype(float)\n",
    "sat_2018['sat_math_18'] = sat_2018['sat_math_18'].astype(float)\n",
    "sat_2018['sat_total_18'] = sat_2018['sat_total_18'].astype(float)"
   ]
  },
  {
   "cell_type": "code",
   "execution_count": 41,
   "metadata": {},
   "outputs": [],
   "source": [
    "# Convert int to float (act_2018)\n",
    "act_2018['act_participation_18'] = act_2018['act_participation_18'].astype(float)"
   ]
  },
  {
   "cell_type": "code",
   "execution_count": 42,
   "metadata": {},
   "outputs": [],
   "source": [
    "sat_2018['sat_participation_18'] = sat_2018['sat_participation_18'].apply(object_to_float)\n"
   ]
  },
  {
   "cell_type": "markdown",
   "metadata": {},
   "source": [
    "#### Restucturing data frames"
   ]
  },
  {
   "cell_type": "code",
   "execution_count": 43,
   "metadata": {},
   "outputs": [],
   "source": [
    "# Rearranging columns in act_2018 to match structure of act_2017\n",
    "act_2018 = act_2018[['state','act_participation_18','act_eng_18','act_math_18','act_reading_18','act_science_18','act_composite_18']]"
   ]
  },
  {
   "cell_type": "code",
   "execution_count": 44,
   "metadata": {},
   "outputs": [],
   "source": [
    "# Divide participation rates for act_2018 in order to match act_2017\n",
    "act_2018['act_participation_18'] = act_2018['act_participation_18'].div(100)"
   ]
  },
  {
   "cell_type": "markdown",
   "metadata": {},
   "source": [
    "#### Double-checking to see if dataframes are in order"
   ]
  },
  {
   "cell_type": "code",
   "execution_count": 45,
   "metadata": {},
   "outputs": [
    {
     "data": {
      "text/html": [
       "<div>\n",
       "<style scoped>\n",
       "    .dataframe tbody tr th:only-of-type {\n",
       "        vertical-align: middle;\n",
       "    }\n",
       "\n",
       "    .dataframe tbody tr th {\n",
       "        vertical-align: top;\n",
       "    }\n",
       "\n",
       "    .dataframe thead th {\n",
       "        text-align: right;\n",
       "    }\n",
       "</style>\n",
       "<table border=\"1\" class=\"dataframe\">\n",
       "  <thead>\n",
       "    <tr style=\"text-align: right;\">\n",
       "      <th></th>\n",
       "      <th>state</th>\n",
       "      <th>sat_participation_17</th>\n",
       "      <th>sat_erw_17</th>\n",
       "      <th>sat_math_17</th>\n",
       "      <th>sat_total_17</th>\n",
       "    </tr>\n",
       "  </thead>\n",
       "  <tbody>\n",
       "    <tr>\n",
       "      <th>0</th>\n",
       "      <td>Alabama</td>\n",
       "      <td>0.05</td>\n",
       "      <td>593.0</td>\n",
       "      <td>572.0</td>\n",
       "      <td>1165.0</td>\n",
       "    </tr>\n",
       "    <tr>\n",
       "      <th>1</th>\n",
       "      <td>Alaska</td>\n",
       "      <td>0.38</td>\n",
       "      <td>547.0</td>\n",
       "      <td>533.0</td>\n",
       "      <td>1080.0</td>\n",
       "    </tr>\n",
       "    <tr>\n",
       "      <th>2</th>\n",
       "      <td>Arizona</td>\n",
       "      <td>0.30</td>\n",
       "      <td>563.0</td>\n",
       "      <td>553.0</td>\n",
       "      <td>1116.0</td>\n",
       "    </tr>\n",
       "    <tr>\n",
       "      <th>3</th>\n",
       "      <td>Arkansas</td>\n",
       "      <td>0.03</td>\n",
       "      <td>614.0</td>\n",
       "      <td>594.0</td>\n",
       "      <td>1208.0</td>\n",
       "    </tr>\n",
       "    <tr>\n",
       "      <th>4</th>\n",
       "      <td>California</td>\n",
       "      <td>0.53</td>\n",
       "      <td>531.0</td>\n",
       "      <td>524.0</td>\n",
       "      <td>1055.0</td>\n",
       "    </tr>\n",
       "  </tbody>\n",
       "</table>\n",
       "</div>"
      ],
      "text/plain": [
       "        state  sat_participation_17  sat_erw_17  sat_math_17  sat_total_17\n",
       "0     Alabama                  0.05       593.0        572.0        1165.0\n",
       "1      Alaska                  0.38       547.0        533.0        1080.0\n",
       "2     Arizona                  0.30       563.0        553.0        1116.0\n",
       "3    Arkansas                  0.03       614.0        594.0        1208.0\n",
       "4  California                  0.53       531.0        524.0        1055.0"
      ]
     },
     "execution_count": 45,
     "metadata": {},
     "output_type": "execute_result"
    }
   ],
   "source": [
    "sat_2017.head()"
   ]
  },
  {
   "cell_type": "code",
   "execution_count": 46,
   "metadata": {},
   "outputs": [
    {
     "data": {
      "text/html": [
       "<div>\n",
       "<style scoped>\n",
       "    .dataframe tbody tr th:only-of-type {\n",
       "        vertical-align: middle;\n",
       "    }\n",
       "\n",
       "    .dataframe tbody tr th {\n",
       "        vertical-align: top;\n",
       "    }\n",
       "\n",
       "    .dataframe thead th {\n",
       "        text-align: right;\n",
       "    }\n",
       "</style>\n",
       "<table border=\"1\" class=\"dataframe\">\n",
       "  <thead>\n",
       "    <tr style=\"text-align: right;\">\n",
       "      <th></th>\n",
       "      <th>state</th>\n",
       "      <th>sat_participation_18</th>\n",
       "      <th>sat_erw_18</th>\n",
       "      <th>sat_math_18</th>\n",
       "      <th>sat_total_18</th>\n",
       "    </tr>\n",
       "  </thead>\n",
       "  <tbody>\n",
       "    <tr>\n",
       "      <th>0</th>\n",
       "      <td>Alabama</td>\n",
       "      <td>0.06</td>\n",
       "      <td>595.0</td>\n",
       "      <td>571.0</td>\n",
       "      <td>1166.0</td>\n",
       "    </tr>\n",
       "    <tr>\n",
       "      <th>1</th>\n",
       "      <td>Alaska</td>\n",
       "      <td>0.43</td>\n",
       "      <td>562.0</td>\n",
       "      <td>544.0</td>\n",
       "      <td>1106.0</td>\n",
       "    </tr>\n",
       "    <tr>\n",
       "      <th>2</th>\n",
       "      <td>Arizona</td>\n",
       "      <td>0.29</td>\n",
       "      <td>577.0</td>\n",
       "      <td>572.0</td>\n",
       "      <td>1149.0</td>\n",
       "    </tr>\n",
       "    <tr>\n",
       "      <th>3</th>\n",
       "      <td>Arkansas</td>\n",
       "      <td>0.05</td>\n",
       "      <td>592.0</td>\n",
       "      <td>576.0</td>\n",
       "      <td>1169.0</td>\n",
       "    </tr>\n",
       "    <tr>\n",
       "      <th>4</th>\n",
       "      <td>California</td>\n",
       "      <td>0.60</td>\n",
       "      <td>540.0</td>\n",
       "      <td>536.0</td>\n",
       "      <td>1076.0</td>\n",
       "    </tr>\n",
       "  </tbody>\n",
       "</table>\n",
       "</div>"
      ],
      "text/plain": [
       "        state  sat_participation_18  sat_erw_18  sat_math_18  sat_total_18\n",
       "0     Alabama                  0.06       595.0        571.0        1166.0\n",
       "1      Alaska                  0.43       562.0        544.0        1106.0\n",
       "2     Arizona                  0.29       577.0        572.0        1149.0\n",
       "3    Arkansas                  0.05       592.0        576.0        1169.0\n",
       "4  California                  0.60       540.0        536.0        1076.0"
      ]
     },
     "execution_count": 46,
     "metadata": {},
     "output_type": "execute_result"
    }
   ],
   "source": [
    "sat_2018.head()"
   ]
  },
  {
   "cell_type": "code",
   "execution_count": 47,
   "metadata": {},
   "outputs": [
    {
     "data": {
      "text/plain": [
       "state                    object\n",
       "sat_participation_18    float64\n",
       "sat_erw_18              float64\n",
       "sat_math_18             float64\n",
       "sat_total_18            float64\n",
       "dtype: object"
      ]
     },
     "execution_count": 47,
     "metadata": {},
     "output_type": "execute_result"
    }
   ],
   "source": [
    "sat_2018.dtypes"
   ]
  },
  {
   "cell_type": "code",
   "execution_count": 48,
   "metadata": {},
   "outputs": [
    {
     "data": {
      "text/plain": [
       "(51, 5)"
      ]
     },
     "execution_count": 48,
     "metadata": {},
     "output_type": "execute_result"
    }
   ],
   "source": [
    "sat_2018.shape"
   ]
  },
  {
   "cell_type": "code",
   "execution_count": 49,
   "metadata": {},
   "outputs": [
    {
     "data": {
      "text/html": [
       "<div>\n",
       "<style scoped>\n",
       "    .dataframe tbody tr th:only-of-type {\n",
       "        vertical-align: middle;\n",
       "    }\n",
       "\n",
       "    .dataframe tbody tr th {\n",
       "        vertical-align: top;\n",
       "    }\n",
       "\n",
       "    .dataframe thead th {\n",
       "        text-align: right;\n",
       "    }\n",
       "</style>\n",
       "<table border=\"1\" class=\"dataframe\">\n",
       "  <thead>\n",
       "    <tr style=\"text-align: right;\">\n",
       "      <th></th>\n",
       "      <th>state</th>\n",
       "      <th>act_participation_18</th>\n",
       "      <th>act_eng_18</th>\n",
       "      <th>act_math_18</th>\n",
       "      <th>act_reading_18</th>\n",
       "      <th>act_science_18</th>\n",
       "      <th>act_composite_18</th>\n",
       "    </tr>\n",
       "  </thead>\n",
       "  <tbody>\n",
       "    <tr>\n",
       "      <th>0</th>\n",
       "      <td>Alabama</td>\n",
       "      <td>1.00</td>\n",
       "      <td>18.9</td>\n",
       "      <td>18.3</td>\n",
       "      <td>19.6</td>\n",
       "      <td>19.0</td>\n",
       "      <td>19.1</td>\n",
       "    </tr>\n",
       "    <tr>\n",
       "      <th>1</th>\n",
       "      <td>Alaska</td>\n",
       "      <td>0.33</td>\n",
       "      <td>19.8</td>\n",
       "      <td>20.6</td>\n",
       "      <td>21.6</td>\n",
       "      <td>20.7</td>\n",
       "      <td>20.8</td>\n",
       "    </tr>\n",
       "    <tr>\n",
       "      <th>2</th>\n",
       "      <td>Arizona</td>\n",
       "      <td>0.66</td>\n",
       "      <td>18.2</td>\n",
       "      <td>19.4</td>\n",
       "      <td>19.5</td>\n",
       "      <td>19.2</td>\n",
       "      <td>19.2</td>\n",
       "    </tr>\n",
       "    <tr>\n",
       "      <th>3</th>\n",
       "      <td>Arkansas</td>\n",
       "      <td>1.00</td>\n",
       "      <td>19.1</td>\n",
       "      <td>18.9</td>\n",
       "      <td>19.7</td>\n",
       "      <td>19.4</td>\n",
       "      <td>19.4</td>\n",
       "    </tr>\n",
       "    <tr>\n",
       "      <th>4</th>\n",
       "      <td>California</td>\n",
       "      <td>0.27</td>\n",
       "      <td>22.5</td>\n",
       "      <td>22.5</td>\n",
       "      <td>23.0</td>\n",
       "      <td>22.1</td>\n",
       "      <td>22.7</td>\n",
       "    </tr>\n",
       "  </tbody>\n",
       "</table>\n",
       "</div>"
      ],
      "text/plain": [
       "        state  act_participation_18  act_eng_18  act_math_18  act_reading_18  \\\n",
       "0     Alabama                  1.00        18.9         18.3            19.6   \n",
       "1      Alaska                  0.33        19.8         20.6            21.6   \n",
       "2     Arizona                  0.66        18.2         19.4            19.5   \n",
       "3    Arkansas                  1.00        19.1         18.9            19.7   \n",
       "4  California                  0.27        22.5         22.5            23.0   \n",
       "\n",
       "   act_science_18  act_composite_18  \n",
       "0            19.0              19.1  \n",
       "1            20.7              20.8  \n",
       "2            19.2              19.2  \n",
       "3            19.4              19.4  \n",
       "4            22.1              22.7  "
      ]
     },
     "execution_count": 49,
     "metadata": {},
     "output_type": "execute_result"
    }
   ],
   "source": [
    "act_2018.head()"
   ]
  },
  {
   "cell_type": "code",
   "execution_count": 50,
   "metadata": {},
   "outputs": [
    {
     "data": {
      "text/plain": [
       "(51, 7)"
      ]
     },
     "execution_count": 50,
     "metadata": {},
     "output_type": "execute_result"
    }
   ],
   "source": [
    "act_2018.shape"
   ]
  },
  {
   "cell_type": "code",
   "execution_count": 51,
   "metadata": {},
   "outputs": [
    {
     "data": {
      "text/plain": [
       "state                    object\n",
       "act_participation_18    float64\n",
       "act_eng_18              float64\n",
       "act_math_18             float64\n",
       "act_reading_18          float64\n",
       "act_science_18          float64\n",
       "act_composite_18        float64\n",
       "dtype: object"
      ]
     },
     "execution_count": 51,
     "metadata": {},
     "output_type": "execute_result"
    }
   ],
   "source": [
    "act_2018.dtypes"
   ]
  },
  {
   "cell_type": "code",
   "execution_count": 52,
   "metadata": {},
   "outputs": [
    {
     "data": {
      "text/html": [
       "<div>\n",
       "<style scoped>\n",
       "    .dataframe tbody tr th:only-of-type {\n",
       "        vertical-align: middle;\n",
       "    }\n",
       "\n",
       "    .dataframe tbody tr th {\n",
       "        vertical-align: top;\n",
       "    }\n",
       "\n",
       "    .dataframe thead th {\n",
       "        text-align: right;\n",
       "    }\n",
       "</style>\n",
       "<table border=\"1\" class=\"dataframe\">\n",
       "  <thead>\n",
       "    <tr style=\"text-align: right;\">\n",
       "      <th></th>\n",
       "      <th>state</th>\n",
       "      <th>sat_participation_17</th>\n",
       "      <th>sat_erw_17</th>\n",
       "      <th>sat_math_17</th>\n",
       "      <th>sat_total_17</th>\n",
       "      <th>act_participation_17</th>\n",
       "      <th>act_eng_17</th>\n",
       "      <th>act_math_17</th>\n",
       "      <th>act_reading_17</th>\n",
       "      <th>act_science_17</th>\n",
       "      <th>act_composite_17</th>\n",
       "    </tr>\n",
       "  </thead>\n",
       "  <tbody>\n",
       "    <tr>\n",
       "      <th>0</th>\n",
       "      <td>Alabama</td>\n",
       "      <td>0.05</td>\n",
       "      <td>593.0</td>\n",
       "      <td>572.0</td>\n",
       "      <td>1165.0</td>\n",
       "      <td>1.00</td>\n",
       "      <td>18.9</td>\n",
       "      <td>18.4</td>\n",
       "      <td>19.7</td>\n",
       "      <td>19.4</td>\n",
       "      <td>19.2</td>\n",
       "    </tr>\n",
       "    <tr>\n",
       "      <th>1</th>\n",
       "      <td>Alaska</td>\n",
       "      <td>0.38</td>\n",
       "      <td>547.0</td>\n",
       "      <td>533.0</td>\n",
       "      <td>1080.0</td>\n",
       "      <td>0.65</td>\n",
       "      <td>18.7</td>\n",
       "      <td>19.8</td>\n",
       "      <td>20.4</td>\n",
       "      <td>19.9</td>\n",
       "      <td>19.8</td>\n",
       "    </tr>\n",
       "    <tr>\n",
       "      <th>2</th>\n",
       "      <td>Arizona</td>\n",
       "      <td>0.30</td>\n",
       "      <td>563.0</td>\n",
       "      <td>553.0</td>\n",
       "      <td>1116.0</td>\n",
       "      <td>0.62</td>\n",
       "      <td>18.6</td>\n",
       "      <td>19.8</td>\n",
       "      <td>20.1</td>\n",
       "      <td>19.8</td>\n",
       "      <td>19.7</td>\n",
       "    </tr>\n",
       "    <tr>\n",
       "      <th>3</th>\n",
       "      <td>Arkansas</td>\n",
       "      <td>0.03</td>\n",
       "      <td>614.0</td>\n",
       "      <td>594.0</td>\n",
       "      <td>1208.0</td>\n",
       "      <td>1.00</td>\n",
       "      <td>18.9</td>\n",
       "      <td>19.0</td>\n",
       "      <td>19.7</td>\n",
       "      <td>19.5</td>\n",
       "      <td>19.4</td>\n",
       "    </tr>\n",
       "    <tr>\n",
       "      <th>4</th>\n",
       "      <td>California</td>\n",
       "      <td>0.53</td>\n",
       "      <td>531.0</td>\n",
       "      <td>524.0</td>\n",
       "      <td>1055.0</td>\n",
       "      <td>0.31</td>\n",
       "      <td>22.5</td>\n",
       "      <td>22.7</td>\n",
       "      <td>23.1</td>\n",
       "      <td>22.2</td>\n",
       "      <td>22.8</td>\n",
       "    </tr>\n",
       "  </tbody>\n",
       "</table>\n",
       "</div>"
      ],
      "text/plain": [
       "        state  sat_participation_17  sat_erw_17  sat_math_17  sat_total_17  \\\n",
       "0     Alabama                  0.05       593.0        572.0        1165.0   \n",
       "1      Alaska                  0.38       547.0        533.0        1080.0   \n",
       "2     Arizona                  0.30       563.0        553.0        1116.0   \n",
       "3    Arkansas                  0.03       614.0        594.0        1208.0   \n",
       "4  California                  0.53       531.0        524.0        1055.0   \n",
       "\n",
       "   act_participation_17  act_eng_17  act_math_17  act_reading_17  \\\n",
       "0                  1.00        18.9         18.4            19.7   \n",
       "1                  0.65        18.7         19.8            20.4   \n",
       "2                  0.62        18.6         19.8            20.1   \n",
       "3                  1.00        18.9         19.0            19.7   \n",
       "4                  0.31        22.5         22.7            23.1   \n",
       "\n",
       "   act_science_17  act_composite_17  \n",
       "0            19.4              19.2  \n",
       "1            19.9              19.8  \n",
       "2            19.8              19.7  \n",
       "3            19.5              19.4  \n",
       "4            22.2              22.8  "
      ]
     },
     "execution_count": 52,
     "metadata": {},
     "output_type": "execute_result"
    }
   ],
   "source": [
    "sat_act_2017.head()"
   ]
  },
  {
   "cell_type": "code",
   "execution_count": 53,
   "metadata": {},
   "outputs": [
    {
     "data": {
      "text/plain": [
       "state                    object\n",
       "sat_participation_17    float64\n",
       "sat_erw_17              float64\n",
       "sat_math_17             float64\n",
       "sat_total_17            float64\n",
       "act_participation_17    float64\n",
       "act_eng_17              float64\n",
       "act_math_17             float64\n",
       "act_reading_17          float64\n",
       "act_science_17          float64\n",
       "act_composite_17        float64\n",
       "dtype: object"
      ]
     },
     "execution_count": 53,
     "metadata": {},
     "output_type": "execute_result"
    }
   ],
   "source": [
    "sat_act_2017.dtypes"
   ]
  },
  {
   "cell_type": "code",
   "execution_count": 54,
   "metadata": {},
   "outputs": [
    {
     "name": "stdout",
     "output_type": "stream",
     "text": [
      "<class 'pandas.core.frame.DataFrame'>\n",
      "Int64Index: 51 entries, 0 to 50\n",
      "Data columns (total 11 columns):\n",
      "state                   51 non-null object\n",
      "sat_participation_17    51 non-null float64\n",
      "sat_erw_17              51 non-null float64\n",
      "sat_math_17             51 non-null float64\n",
      "sat_total_17            51 non-null float64\n",
      "act_participation_17    51 non-null float64\n",
      "act_eng_17              51 non-null float64\n",
      "act_math_17             51 non-null float64\n",
      "act_reading_17          51 non-null float64\n",
      "act_science_17          51 non-null float64\n",
      "act_composite_17        51 non-null float64\n",
      "dtypes: float64(10), object(1)\n",
      "memory usage: 4.8+ KB\n"
     ]
    }
   ],
   "source": [
    "sat_act_2017.info()"
   ]
  },
  {
   "cell_type": "markdown",
   "metadata": {},
   "source": [
    "#### Combine your 2017 and 2018 data into a single dataframe\n",
    "Joining on state names should work, assuming you formatted all your state names identically. Make sure none of your columns (other than state) have identical names. Do yourself a favor and decide if you're encoding participation rates as floats or integers and standardize this across your datasets.\n",
    "\n",
    "Save the contents of this merged dataframe as `final.csv`.\n",
    "\n",
    "**Use this combined dataframe for the remainder of the project**."
   ]
  },
  {
   "cell_type": "markdown",
   "metadata": {},
   "source": [
    "##### Merge SAT 2018 and ACT 2018 into a dataset"
   ]
  },
  {
   "cell_type": "code",
   "execution_count": 55,
   "metadata": {},
   "outputs": [],
   "source": [
    "sat_act_2018 = pd.merge(sat_2018, act_2018, on='state', how='inner')"
   ]
  },
  {
   "cell_type": "code",
   "execution_count": 56,
   "metadata": {},
   "outputs": [
    {
     "data": {
      "text/html": [
       "<div>\n",
       "<style scoped>\n",
       "    .dataframe tbody tr th:only-of-type {\n",
       "        vertical-align: middle;\n",
       "    }\n",
       "\n",
       "    .dataframe tbody tr th {\n",
       "        vertical-align: top;\n",
       "    }\n",
       "\n",
       "    .dataframe thead th {\n",
       "        text-align: right;\n",
       "    }\n",
       "</style>\n",
       "<table border=\"1\" class=\"dataframe\">\n",
       "  <thead>\n",
       "    <tr style=\"text-align: right;\">\n",
       "      <th></th>\n",
       "      <th>state</th>\n",
       "      <th>sat_participation_18</th>\n",
       "      <th>sat_erw_18</th>\n",
       "      <th>sat_math_18</th>\n",
       "      <th>sat_total_18</th>\n",
       "      <th>act_participation_18</th>\n",
       "      <th>act_eng_18</th>\n",
       "      <th>act_math_18</th>\n",
       "      <th>act_reading_18</th>\n",
       "      <th>act_science_18</th>\n",
       "      <th>act_composite_18</th>\n",
       "    </tr>\n",
       "  </thead>\n",
       "  <tbody>\n",
       "    <tr>\n",
       "      <th>0</th>\n",
       "      <td>Alabama</td>\n",
       "      <td>0.06</td>\n",
       "      <td>595.0</td>\n",
       "      <td>571.0</td>\n",
       "      <td>1166.0</td>\n",
       "      <td>1.00</td>\n",
       "      <td>18.9</td>\n",
       "      <td>18.3</td>\n",
       "      <td>19.6</td>\n",
       "      <td>19.0</td>\n",
       "      <td>19.1</td>\n",
       "    </tr>\n",
       "    <tr>\n",
       "      <th>1</th>\n",
       "      <td>Alaska</td>\n",
       "      <td>0.43</td>\n",
       "      <td>562.0</td>\n",
       "      <td>544.0</td>\n",
       "      <td>1106.0</td>\n",
       "      <td>0.33</td>\n",
       "      <td>19.8</td>\n",
       "      <td>20.6</td>\n",
       "      <td>21.6</td>\n",
       "      <td>20.7</td>\n",
       "      <td>20.8</td>\n",
       "    </tr>\n",
       "    <tr>\n",
       "      <th>2</th>\n",
       "      <td>Arizona</td>\n",
       "      <td>0.29</td>\n",
       "      <td>577.0</td>\n",
       "      <td>572.0</td>\n",
       "      <td>1149.0</td>\n",
       "      <td>0.66</td>\n",
       "      <td>18.2</td>\n",
       "      <td>19.4</td>\n",
       "      <td>19.5</td>\n",
       "      <td>19.2</td>\n",
       "      <td>19.2</td>\n",
       "    </tr>\n",
       "    <tr>\n",
       "      <th>3</th>\n",
       "      <td>Arkansas</td>\n",
       "      <td>0.05</td>\n",
       "      <td>592.0</td>\n",
       "      <td>576.0</td>\n",
       "      <td>1169.0</td>\n",
       "      <td>1.00</td>\n",
       "      <td>19.1</td>\n",
       "      <td>18.9</td>\n",
       "      <td>19.7</td>\n",
       "      <td>19.4</td>\n",
       "      <td>19.4</td>\n",
       "    </tr>\n",
       "    <tr>\n",
       "      <th>4</th>\n",
       "      <td>California</td>\n",
       "      <td>0.60</td>\n",
       "      <td>540.0</td>\n",
       "      <td>536.0</td>\n",
       "      <td>1076.0</td>\n",
       "      <td>0.27</td>\n",
       "      <td>22.5</td>\n",
       "      <td>22.5</td>\n",
       "      <td>23.0</td>\n",
       "      <td>22.1</td>\n",
       "      <td>22.7</td>\n",
       "    </tr>\n",
       "  </tbody>\n",
       "</table>\n",
       "</div>"
      ],
      "text/plain": [
       "        state  sat_participation_18  sat_erw_18  sat_math_18  sat_total_18  \\\n",
       "0     Alabama                  0.06       595.0        571.0        1166.0   \n",
       "1      Alaska                  0.43       562.0        544.0        1106.0   \n",
       "2     Arizona                  0.29       577.0        572.0        1149.0   \n",
       "3    Arkansas                  0.05       592.0        576.0        1169.0   \n",
       "4  California                  0.60       540.0        536.0        1076.0   \n",
       "\n",
       "   act_participation_18  act_eng_18  act_math_18  act_reading_18  \\\n",
       "0                  1.00        18.9         18.3            19.6   \n",
       "1                  0.33        19.8         20.6            21.6   \n",
       "2                  0.66        18.2         19.4            19.5   \n",
       "3                  1.00        19.1         18.9            19.7   \n",
       "4                  0.27        22.5         22.5            23.0   \n",
       "\n",
       "   act_science_18  act_composite_18  \n",
       "0            19.0              19.1  \n",
       "1            20.7              20.8  \n",
       "2            19.2              19.2  \n",
       "3            19.4              19.4  \n",
       "4            22.1              22.7  "
      ]
     },
     "execution_count": 56,
     "metadata": {},
     "output_type": "execute_result"
    }
   ],
   "source": [
    "sat_act_2018.head()"
   ]
  },
  {
   "cell_type": "code",
   "execution_count": 57,
   "metadata": {},
   "outputs": [
    {
     "name": "stdout",
     "output_type": "stream",
     "text": [
      "<class 'pandas.core.frame.DataFrame'>\n",
      "Int64Index: 51 entries, 0 to 50\n",
      "Data columns (total 11 columns):\n",
      "state                   51 non-null object\n",
      "sat_participation_18    51 non-null float64\n",
      "sat_erw_18              51 non-null float64\n",
      "sat_math_18             51 non-null float64\n",
      "sat_total_18            51 non-null float64\n",
      "act_participation_18    51 non-null float64\n",
      "act_eng_18              51 non-null float64\n",
      "act_math_18             51 non-null float64\n",
      "act_reading_18          51 non-null float64\n",
      "act_science_18          51 non-null float64\n",
      "act_composite_18        51 non-null float64\n",
      "dtypes: float64(10), object(1)\n",
      "memory usage: 4.8+ KB\n"
     ]
    }
   ],
   "source": [
    "sat_act_2018.info()"
   ]
  },
  {
   "cell_type": "markdown",
   "metadata": {},
   "source": [
    "#### Merge 2017 and 2018 dataset and set 'state' as index"
   ]
  },
  {
   "cell_type": "code",
   "execution_count": 58,
   "metadata": {},
   "outputs": [],
   "source": [
    "final = pd.merge(sat_act_2017, sat_act_2018, on='state')"
   ]
  },
  {
   "cell_type": "code",
   "execution_count": 59,
   "metadata": {},
   "outputs": [],
   "source": [
    "final=final.set_index(keys='state')\n"
   ]
  },
  {
   "cell_type": "code",
   "execution_count": 60,
   "metadata": {},
   "outputs": [
    {
     "data": {
      "text/html": [
       "<div>\n",
       "<style scoped>\n",
       "    .dataframe tbody tr th:only-of-type {\n",
       "        vertical-align: middle;\n",
       "    }\n",
       "\n",
       "    .dataframe tbody tr th {\n",
       "        vertical-align: top;\n",
       "    }\n",
       "\n",
       "    .dataframe thead th {\n",
       "        text-align: right;\n",
       "    }\n",
       "</style>\n",
       "<table border=\"1\" class=\"dataframe\">\n",
       "  <thead>\n",
       "    <tr style=\"text-align: right;\">\n",
       "      <th></th>\n",
       "      <th>sat_participation_17</th>\n",
       "      <th>sat_erw_17</th>\n",
       "      <th>sat_math_17</th>\n",
       "      <th>sat_total_17</th>\n",
       "      <th>act_participation_17</th>\n",
       "      <th>act_eng_17</th>\n",
       "      <th>act_math_17</th>\n",
       "      <th>act_reading_17</th>\n",
       "      <th>act_science_17</th>\n",
       "      <th>act_composite_17</th>\n",
       "      <th>sat_participation_18</th>\n",
       "      <th>sat_erw_18</th>\n",
       "      <th>sat_math_18</th>\n",
       "      <th>sat_total_18</th>\n",
       "      <th>act_participation_18</th>\n",
       "      <th>act_eng_18</th>\n",
       "      <th>act_math_18</th>\n",
       "      <th>act_reading_18</th>\n",
       "      <th>act_science_18</th>\n",
       "      <th>act_composite_18</th>\n",
       "    </tr>\n",
       "    <tr>\n",
       "      <th>state</th>\n",
       "      <th></th>\n",
       "      <th></th>\n",
       "      <th></th>\n",
       "      <th></th>\n",
       "      <th></th>\n",
       "      <th></th>\n",
       "      <th></th>\n",
       "      <th></th>\n",
       "      <th></th>\n",
       "      <th></th>\n",
       "      <th></th>\n",
       "      <th></th>\n",
       "      <th></th>\n",
       "      <th></th>\n",
       "      <th></th>\n",
       "      <th></th>\n",
       "      <th></th>\n",
       "      <th></th>\n",
       "      <th></th>\n",
       "      <th></th>\n",
       "    </tr>\n",
       "  </thead>\n",
       "  <tbody>\n",
       "    <tr>\n",
       "      <th>Alabama</th>\n",
       "      <td>0.05</td>\n",
       "      <td>593.0</td>\n",
       "      <td>572.0</td>\n",
       "      <td>1165.0</td>\n",
       "      <td>1.00</td>\n",
       "      <td>18.9</td>\n",
       "      <td>18.4</td>\n",
       "      <td>19.7</td>\n",
       "      <td>19.4</td>\n",
       "      <td>19.2</td>\n",
       "      <td>0.06</td>\n",
       "      <td>595.0</td>\n",
       "      <td>571.0</td>\n",
       "      <td>1166.0</td>\n",
       "      <td>1.00</td>\n",
       "      <td>18.9</td>\n",
       "      <td>18.3</td>\n",
       "      <td>19.6</td>\n",
       "      <td>19.0</td>\n",
       "      <td>19.1</td>\n",
       "    </tr>\n",
       "    <tr>\n",
       "      <th>Alaska</th>\n",
       "      <td>0.38</td>\n",
       "      <td>547.0</td>\n",
       "      <td>533.0</td>\n",
       "      <td>1080.0</td>\n",
       "      <td>0.65</td>\n",
       "      <td>18.7</td>\n",
       "      <td>19.8</td>\n",
       "      <td>20.4</td>\n",
       "      <td>19.9</td>\n",
       "      <td>19.8</td>\n",
       "      <td>0.43</td>\n",
       "      <td>562.0</td>\n",
       "      <td>544.0</td>\n",
       "      <td>1106.0</td>\n",
       "      <td>0.33</td>\n",
       "      <td>19.8</td>\n",
       "      <td>20.6</td>\n",
       "      <td>21.6</td>\n",
       "      <td>20.7</td>\n",
       "      <td>20.8</td>\n",
       "    </tr>\n",
       "    <tr>\n",
       "      <th>Arizona</th>\n",
       "      <td>0.30</td>\n",
       "      <td>563.0</td>\n",
       "      <td>553.0</td>\n",
       "      <td>1116.0</td>\n",
       "      <td>0.62</td>\n",
       "      <td>18.6</td>\n",
       "      <td>19.8</td>\n",
       "      <td>20.1</td>\n",
       "      <td>19.8</td>\n",
       "      <td>19.7</td>\n",
       "      <td>0.29</td>\n",
       "      <td>577.0</td>\n",
       "      <td>572.0</td>\n",
       "      <td>1149.0</td>\n",
       "      <td>0.66</td>\n",
       "      <td>18.2</td>\n",
       "      <td>19.4</td>\n",
       "      <td>19.5</td>\n",
       "      <td>19.2</td>\n",
       "      <td>19.2</td>\n",
       "    </tr>\n",
       "    <tr>\n",
       "      <th>Arkansas</th>\n",
       "      <td>0.03</td>\n",
       "      <td>614.0</td>\n",
       "      <td>594.0</td>\n",
       "      <td>1208.0</td>\n",
       "      <td>1.00</td>\n",
       "      <td>18.9</td>\n",
       "      <td>19.0</td>\n",
       "      <td>19.7</td>\n",
       "      <td>19.5</td>\n",
       "      <td>19.4</td>\n",
       "      <td>0.05</td>\n",
       "      <td>592.0</td>\n",
       "      <td>576.0</td>\n",
       "      <td>1169.0</td>\n",
       "      <td>1.00</td>\n",
       "      <td>19.1</td>\n",
       "      <td>18.9</td>\n",
       "      <td>19.7</td>\n",
       "      <td>19.4</td>\n",
       "      <td>19.4</td>\n",
       "    </tr>\n",
       "    <tr>\n",
       "      <th>California</th>\n",
       "      <td>0.53</td>\n",
       "      <td>531.0</td>\n",
       "      <td>524.0</td>\n",
       "      <td>1055.0</td>\n",
       "      <td>0.31</td>\n",
       "      <td>22.5</td>\n",
       "      <td>22.7</td>\n",
       "      <td>23.1</td>\n",
       "      <td>22.2</td>\n",
       "      <td>22.8</td>\n",
       "      <td>0.60</td>\n",
       "      <td>540.0</td>\n",
       "      <td>536.0</td>\n",
       "      <td>1076.0</td>\n",
       "      <td>0.27</td>\n",
       "      <td>22.5</td>\n",
       "      <td>22.5</td>\n",
       "      <td>23.0</td>\n",
       "      <td>22.1</td>\n",
       "      <td>22.7</td>\n",
       "    </tr>\n",
       "  </tbody>\n",
       "</table>\n",
       "</div>"
      ],
      "text/plain": [
       "            sat_participation_17  sat_erw_17  sat_math_17  sat_total_17  \\\n",
       "state                                                                     \n",
       "Alabama                     0.05       593.0        572.0        1165.0   \n",
       "Alaska                      0.38       547.0        533.0        1080.0   \n",
       "Arizona                     0.30       563.0        553.0        1116.0   \n",
       "Arkansas                    0.03       614.0        594.0        1208.0   \n",
       "California                  0.53       531.0        524.0        1055.0   \n",
       "\n",
       "            act_participation_17  act_eng_17  act_math_17  act_reading_17  \\\n",
       "state                                                                       \n",
       "Alabama                     1.00        18.9         18.4            19.7   \n",
       "Alaska                      0.65        18.7         19.8            20.4   \n",
       "Arizona                     0.62        18.6         19.8            20.1   \n",
       "Arkansas                    1.00        18.9         19.0            19.7   \n",
       "California                  0.31        22.5         22.7            23.1   \n",
       "\n",
       "            act_science_17  act_composite_17  sat_participation_18  \\\n",
       "state                                                                \n",
       "Alabama               19.4              19.2                  0.06   \n",
       "Alaska                19.9              19.8                  0.43   \n",
       "Arizona               19.8              19.7                  0.29   \n",
       "Arkansas              19.5              19.4                  0.05   \n",
       "California            22.2              22.8                  0.60   \n",
       "\n",
       "            sat_erw_18  sat_math_18  sat_total_18  act_participation_18  \\\n",
       "state                                                                     \n",
       "Alabama          595.0        571.0        1166.0                  1.00   \n",
       "Alaska           562.0        544.0        1106.0                  0.33   \n",
       "Arizona          577.0        572.0        1149.0                  0.66   \n",
       "Arkansas         592.0        576.0        1169.0                  1.00   \n",
       "California       540.0        536.0        1076.0                  0.27   \n",
       "\n",
       "            act_eng_18  act_math_18  act_reading_18  act_science_18  \\\n",
       "state                                                                 \n",
       "Alabama           18.9         18.3            19.6            19.0   \n",
       "Alaska            19.8         20.6            21.6            20.7   \n",
       "Arizona           18.2         19.4            19.5            19.2   \n",
       "Arkansas          19.1         18.9            19.7            19.4   \n",
       "California        22.5         22.5            23.0            22.1   \n",
       "\n",
       "            act_composite_18  \n",
       "state                         \n",
       "Alabama                 19.1  \n",
       "Alaska                  20.8  \n",
       "Arizona                 19.2  \n",
       "Arkansas                19.4  \n",
       "California              22.7  "
      ]
     },
     "execution_count": 60,
     "metadata": {},
     "output_type": "execute_result"
    }
   ],
   "source": [
    "final.head()"
   ]
  },
  {
   "cell_type": "code",
   "execution_count": 61,
   "metadata": {},
   "outputs": [
    {
     "name": "stdout",
     "output_type": "stream",
     "text": [
      "<class 'pandas.core.frame.DataFrame'>\n",
      "Index: 51 entries, Alabama to Wyoming\n",
      "Data columns (total 20 columns):\n",
      "sat_participation_17    51 non-null float64\n",
      "sat_erw_17              51 non-null float64\n",
      "sat_math_17             51 non-null float64\n",
      "sat_total_17            51 non-null float64\n",
      "act_participation_17    51 non-null float64\n",
      "act_eng_17              51 non-null float64\n",
      "act_math_17             51 non-null float64\n",
      "act_reading_17          51 non-null float64\n",
      "act_science_17          51 non-null float64\n",
      "act_composite_17        51 non-null float64\n",
      "sat_participation_18    51 non-null float64\n",
      "sat_erw_18              51 non-null float64\n",
      "sat_math_18             51 non-null float64\n",
      "sat_total_18            51 non-null float64\n",
      "act_participation_18    51 non-null float64\n",
      "act_eng_18              51 non-null float64\n",
      "act_math_18             51 non-null float64\n",
      "act_reading_18          51 non-null float64\n",
      "act_science_18          51 non-null float64\n",
      "act_composite_18        51 non-null float64\n",
      "dtypes: float64(20)\n",
      "memory usage: 8.4+ KB\n"
     ]
    }
   ],
   "source": [
    "final.info()"
   ]
  },
  {
   "cell_type": "code",
   "execution_count": 62,
   "metadata": {},
   "outputs": [],
   "source": [
    "final.to_csv(\"../data/final.csv\")"
   ]
  },
  {
   "cell_type": "markdown",
   "metadata": {},
   "source": [
    "## Exploratory Data Analysis\n",
    "\n",
    "\n",
    "### Summary Statistics\n",
    "Transpose the output of pandas `describe` method to create a quick overview of each numeric feature."
   ]
  },
  {
   "cell_type": "code",
   "execution_count": 63,
   "metadata": {},
   "outputs": [
    {
     "data": {
      "text/html": [
       "<div>\n",
       "<style scoped>\n",
       "    .dataframe tbody tr th:only-of-type {\n",
       "        vertical-align: middle;\n",
       "    }\n",
       "\n",
       "    .dataframe tbody tr th {\n",
       "        vertical-align: top;\n",
       "    }\n",
       "\n",
       "    .dataframe thead th {\n",
       "        text-align: right;\n",
       "    }\n",
       "</style>\n",
       "<table border=\"1\" class=\"dataframe\">\n",
       "  <thead>\n",
       "    <tr style=\"text-align: right;\">\n",
       "      <th></th>\n",
       "      <th>count</th>\n",
       "      <th>mean</th>\n",
       "      <th>std</th>\n",
       "      <th>min</th>\n",
       "      <th>25%</th>\n",
       "      <th>50%</th>\n",
       "      <th>75%</th>\n",
       "      <th>max</th>\n",
       "    </tr>\n",
       "  </thead>\n",
       "  <tbody>\n",
       "    <tr>\n",
       "      <th>sat_participation_17</th>\n",
       "      <td>51.0</td>\n",
       "      <td>0.398039</td>\n",
       "      <td>0.352766</td>\n",
       "      <td>0.02</td>\n",
       "      <td>0.040</td>\n",
       "      <td>0.38</td>\n",
       "      <td>0.660</td>\n",
       "      <td>1.0</td>\n",
       "    </tr>\n",
       "    <tr>\n",
       "      <th>sat_erw_17</th>\n",
       "      <td>51.0</td>\n",
       "      <td>569.117647</td>\n",
       "      <td>45.666901</td>\n",
       "      <td>482.00</td>\n",
       "      <td>533.500</td>\n",
       "      <td>559.00</td>\n",
       "      <td>613.000</td>\n",
       "      <td>644.0</td>\n",
       "    </tr>\n",
       "    <tr>\n",
       "      <th>sat_math_17</th>\n",
       "      <td>51.0</td>\n",
       "      <td>556.882353</td>\n",
       "      <td>47.121395</td>\n",
       "      <td>468.00</td>\n",
       "      <td>523.500</td>\n",
       "      <td>548.00</td>\n",
       "      <td>599.000</td>\n",
       "      <td>651.0</td>\n",
       "    </tr>\n",
       "    <tr>\n",
       "      <th>sat_total_17</th>\n",
       "      <td>51.0</td>\n",
       "      <td>1126.098039</td>\n",
       "      <td>92.494812</td>\n",
       "      <td>950.00</td>\n",
       "      <td>1055.500</td>\n",
       "      <td>1107.00</td>\n",
       "      <td>1212.000</td>\n",
       "      <td>1295.0</td>\n",
       "    </tr>\n",
       "    <tr>\n",
       "      <th>act_participation_17</th>\n",
       "      <td>51.0</td>\n",
       "      <td>0.652549</td>\n",
       "      <td>0.321408</td>\n",
       "      <td>0.08</td>\n",
       "      <td>0.310</td>\n",
       "      <td>0.69</td>\n",
       "      <td>1.000</td>\n",
       "      <td>1.0</td>\n",
       "    </tr>\n",
       "    <tr>\n",
       "      <th>act_eng_17</th>\n",
       "      <td>51.0</td>\n",
       "      <td>20.931373</td>\n",
       "      <td>2.353677</td>\n",
       "      <td>16.30</td>\n",
       "      <td>19.000</td>\n",
       "      <td>20.70</td>\n",
       "      <td>23.300</td>\n",
       "      <td>25.5</td>\n",
       "    </tr>\n",
       "    <tr>\n",
       "      <th>act_math_17</th>\n",
       "      <td>51.0</td>\n",
       "      <td>21.182353</td>\n",
       "      <td>1.981989</td>\n",
       "      <td>18.00</td>\n",
       "      <td>19.400</td>\n",
       "      <td>20.90</td>\n",
       "      <td>23.100</td>\n",
       "      <td>25.3</td>\n",
       "    </tr>\n",
       "    <tr>\n",
       "      <th>act_reading_17</th>\n",
       "      <td>51.0</td>\n",
       "      <td>22.013725</td>\n",
       "      <td>2.067271</td>\n",
       "      <td>18.10</td>\n",
       "      <td>20.450</td>\n",
       "      <td>21.80</td>\n",
       "      <td>24.150</td>\n",
       "      <td>26.0</td>\n",
       "    </tr>\n",
       "    <tr>\n",
       "      <th>act_science_17</th>\n",
       "      <td>51.0</td>\n",
       "      <td>21.450980</td>\n",
       "      <td>1.739353</td>\n",
       "      <td>18.20</td>\n",
       "      <td>19.950</td>\n",
       "      <td>21.30</td>\n",
       "      <td>23.200</td>\n",
       "      <td>24.9</td>\n",
       "    </tr>\n",
       "    <tr>\n",
       "      <th>act_composite_17</th>\n",
       "      <td>51.0</td>\n",
       "      <td>21.578431</td>\n",
       "      <td>2.025173</td>\n",
       "      <td>17.80</td>\n",
       "      <td>19.800</td>\n",
       "      <td>21.40</td>\n",
       "      <td>23.600</td>\n",
       "      <td>25.5</td>\n",
       "    </tr>\n",
       "    <tr>\n",
       "      <th>sat_participation_18</th>\n",
       "      <td>51.0</td>\n",
       "      <td>0.457451</td>\n",
       "      <td>0.373143</td>\n",
       "      <td>0.02</td>\n",
       "      <td>0.045</td>\n",
       "      <td>0.52</td>\n",
       "      <td>0.775</td>\n",
       "      <td>1.0</td>\n",
       "    </tr>\n",
       "    <tr>\n",
       "      <th>sat_erw_18</th>\n",
       "      <td>51.0</td>\n",
       "      <td>563.686275</td>\n",
       "      <td>47.502627</td>\n",
       "      <td>480.00</td>\n",
       "      <td>534.500</td>\n",
       "      <td>552.00</td>\n",
       "      <td>610.500</td>\n",
       "      <td>643.0</td>\n",
       "    </tr>\n",
       "    <tr>\n",
       "      <th>sat_math_18</th>\n",
       "      <td>51.0</td>\n",
       "      <td>556.235294</td>\n",
       "      <td>47.772623</td>\n",
       "      <td>480.00</td>\n",
       "      <td>522.500</td>\n",
       "      <td>544.00</td>\n",
       "      <td>593.500</td>\n",
       "      <td>655.0</td>\n",
       "    </tr>\n",
       "    <tr>\n",
       "      <th>sat_total_18</th>\n",
       "      <td>51.0</td>\n",
       "      <td>1120.019608</td>\n",
       "      <td>94.155083</td>\n",
       "      <td>977.00</td>\n",
       "      <td>1057.500</td>\n",
       "      <td>1098.00</td>\n",
       "      <td>1204.000</td>\n",
       "      <td>1298.0</td>\n",
       "    </tr>\n",
       "    <tr>\n",
       "      <th>act_participation_18</th>\n",
       "      <td>51.0</td>\n",
       "      <td>0.616471</td>\n",
       "      <td>0.340810</td>\n",
       "      <td>0.07</td>\n",
       "      <td>0.285</td>\n",
       "      <td>0.66</td>\n",
       "      <td>1.000</td>\n",
       "      <td>1.0</td>\n",
       "    </tr>\n",
       "    <tr>\n",
       "      <th>act_eng_18</th>\n",
       "      <td>51.0</td>\n",
       "      <td>20.988235</td>\n",
       "      <td>2.446356</td>\n",
       "      <td>16.60</td>\n",
       "      <td>19.100</td>\n",
       "      <td>20.20</td>\n",
       "      <td>23.700</td>\n",
       "      <td>26.0</td>\n",
       "    </tr>\n",
       "    <tr>\n",
       "      <th>act_math_18</th>\n",
       "      <td>51.0</td>\n",
       "      <td>21.125490</td>\n",
       "      <td>2.035765</td>\n",
       "      <td>17.80</td>\n",
       "      <td>19.400</td>\n",
       "      <td>20.70</td>\n",
       "      <td>23.150</td>\n",
       "      <td>25.2</td>\n",
       "    </tr>\n",
       "    <tr>\n",
       "      <th>act_reading_18</th>\n",
       "      <td>51.0</td>\n",
       "      <td>22.015686</td>\n",
       "      <td>2.167245</td>\n",
       "      <td>18.00</td>\n",
       "      <td>20.450</td>\n",
       "      <td>21.60</td>\n",
       "      <td>24.100</td>\n",
       "      <td>26.1</td>\n",
       "    </tr>\n",
       "    <tr>\n",
       "      <th>act_science_18</th>\n",
       "      <td>51.0</td>\n",
       "      <td>21.345098</td>\n",
       "      <td>1.870114</td>\n",
       "      <td>17.90</td>\n",
       "      <td>19.850</td>\n",
       "      <td>21.10</td>\n",
       "      <td>23.050</td>\n",
       "      <td>24.9</td>\n",
       "    </tr>\n",
       "    <tr>\n",
       "      <th>act_composite_18</th>\n",
       "      <td>51.0</td>\n",
       "      <td>21.486275</td>\n",
       "      <td>2.106278</td>\n",
       "      <td>17.70</td>\n",
       "      <td>19.950</td>\n",
       "      <td>21.30</td>\n",
       "      <td>23.550</td>\n",
       "      <td>25.6</td>\n",
       "    </tr>\n",
       "  </tbody>\n",
       "</table>\n",
       "</div>"
      ],
      "text/plain": [
       "                      count         mean        std     min       25%  \\\n",
       "sat_participation_17   51.0     0.398039   0.352766    0.02     0.040   \n",
       "sat_erw_17             51.0   569.117647  45.666901  482.00   533.500   \n",
       "sat_math_17            51.0   556.882353  47.121395  468.00   523.500   \n",
       "sat_total_17           51.0  1126.098039  92.494812  950.00  1055.500   \n",
       "act_participation_17   51.0     0.652549   0.321408    0.08     0.310   \n",
       "act_eng_17             51.0    20.931373   2.353677   16.30    19.000   \n",
       "act_math_17            51.0    21.182353   1.981989   18.00    19.400   \n",
       "act_reading_17         51.0    22.013725   2.067271   18.10    20.450   \n",
       "act_science_17         51.0    21.450980   1.739353   18.20    19.950   \n",
       "act_composite_17       51.0    21.578431   2.025173   17.80    19.800   \n",
       "sat_participation_18   51.0     0.457451   0.373143    0.02     0.045   \n",
       "sat_erw_18             51.0   563.686275  47.502627  480.00   534.500   \n",
       "sat_math_18            51.0   556.235294  47.772623  480.00   522.500   \n",
       "sat_total_18           51.0  1120.019608  94.155083  977.00  1057.500   \n",
       "act_participation_18   51.0     0.616471   0.340810    0.07     0.285   \n",
       "act_eng_18             51.0    20.988235   2.446356   16.60    19.100   \n",
       "act_math_18            51.0    21.125490   2.035765   17.80    19.400   \n",
       "act_reading_18         51.0    22.015686   2.167245   18.00    20.450   \n",
       "act_science_18         51.0    21.345098   1.870114   17.90    19.850   \n",
       "act_composite_18       51.0    21.486275   2.106278   17.70    19.950   \n",
       "\n",
       "                          50%       75%     max  \n",
       "sat_participation_17     0.38     0.660     1.0  \n",
       "sat_erw_17             559.00   613.000   644.0  \n",
       "sat_math_17            548.00   599.000   651.0  \n",
       "sat_total_17          1107.00  1212.000  1295.0  \n",
       "act_participation_17     0.69     1.000     1.0  \n",
       "act_eng_17              20.70    23.300    25.5  \n",
       "act_math_17             20.90    23.100    25.3  \n",
       "act_reading_17          21.80    24.150    26.0  \n",
       "act_science_17          21.30    23.200    24.9  \n",
       "act_composite_17        21.40    23.600    25.5  \n",
       "sat_participation_18     0.52     0.775     1.0  \n",
       "sat_erw_18             552.00   610.500   643.0  \n",
       "sat_math_18            544.00   593.500   655.0  \n",
       "sat_total_18          1098.00  1204.000  1298.0  \n",
       "act_participation_18     0.66     1.000     1.0  \n",
       "act_eng_18              20.20    23.700    26.0  \n",
       "act_math_18             20.70    23.150    25.2  \n",
       "act_reading_18          21.60    24.100    26.1  \n",
       "act_science_18          21.10    23.050    24.9  \n",
       "act_composite_18        21.30    23.550    25.6  "
      ]
     },
     "execution_count": 63,
     "metadata": {},
     "output_type": "execute_result"
    }
   ],
   "source": [
    "final.describe().T"
   ]
  },
  {
   "cell_type": "markdown",
   "metadata": {},
   "source": [
    "#### Manually calculate standard deviation\n",
    "\n",
    "$$\\sigma = \\sqrt{\\frac{1}{n}\\sum_{i=1}^n(x_i - \\mu)^2}$$\n",
    "\n",
    "- Write a function to calculate standard deviation using the formula above"
   ]
  },
  {
   "cell_type": "code",
   "execution_count": 64,
   "metadata": {},
   "outputs": [],
   "source": [
    "def std(series_in):\n",
    "    mean = np.mean(series_in)\n",
    "    n = len(series_in)\n",
    "    \n",
    "    sum_list = [(x-mean)**2 for x in series_in]\n",
    "    \n",
    "    return np.sqrt(np.sum(sum_list)/(n))"
   ]
  },
  {
   "cell_type": "code",
   "execution_count": 65,
   "metadata": {},
   "outputs": [
    {
     "data": {
      "text/plain": [
       "93.22742384464432"
      ]
     },
     "execution_count": 65,
     "metadata": {},
     "output_type": "execute_result"
    }
   ],
   "source": [
    "std(final['sat_total_18'])"
   ]
  },
  {
   "cell_type": "markdown",
   "metadata": {},
   "source": [
    "- Use a **dictionary comprehension** to apply your standard deviation function to each numeric column in the dataframe.  **No loops**  \n",
    "- Assign the output to variable `sd` as a dictionary where: \n",
    "    - Each column name is now a key \n",
    "    - That standard deviation of the column is the value \n",
    "     \n",
    "*Example Output :* `{'ACT_Math': 120, 'ACT_Reading': 120, ...}`"
   ]
  },
  {
   "cell_type": "code",
   "execution_count": 66,
   "metadata": {},
   "outputs": [
    {
     "data": {
      "text/plain": [
       "{'sat_participation_17': 0.3492907076664507,\n",
       " 'sat_erw_17': 45.21697020437866,\n",
       " 'sat_math_17': 46.65713364485504,\n",
       " 'sat_total_17': 91.58351056778743,\n",
       " 'act_participation_17': 0.31824175751231804,\n",
       " 'act_eng_17': 2.3304876369363368,\n",
       " 'act_math_17': 1.9624620273436781,\n",
       " 'act_reading_17': 2.046902931484265,\n",
       " 'act_science_17': 1.7222161451443672,\n",
       " 'act_composite_17': 2.0052200236705917,\n",
       " 'sat_participation_18': 0.3694661922353941,\n",
       " 'sat_erw_18': 47.03460978357609,\n",
       " 'sat_math_18': 47.301945503783536,\n",
       " 'sat_total_18': 93.22742384464432,\n",
       " 'act_participation_18': 0.3374519488199751,\n",
       " 'act_eng_18': 2.4222536143202795,\n",
       " 'act_math_18': 2.0157072555557174,\n",
       " 'act_reading_18': 2.1458918845104216,\n",
       " 'act_science_18': 1.8516885484833538,\n",
       " 'act_composite_18': 2.0855261815801143}"
      ]
     },
     "execution_count": 66,
     "metadata": {},
     "output_type": "execute_result"
    }
   ],
   "source": [
    "{final[col].name:std(final[col]) for col in final}"
   ]
  },
  {
   "cell_type": "markdown",
   "metadata": {},
   "source": [
    "Do your manually calculated standard deviations match up with the output from pandas `describe`? What about numpy's `std` method?"
   ]
  },
  {
   "cell_type": "markdown",
   "metadata": {},
   "source": [
    "In a nutshell, neither is \"incorrect\". Pandas uses the unbiased estimator (N-1 in the denominator), whereas Numpy by default does not."
   ]
  },
  {
   "cell_type": "markdown",
   "metadata": {},
   "source": [
    "#### Investigate trends in the data\n",
    "Using sorting and/or masking (along with the `.head` method to not print our entire dataframe), consider the following questions:\n",
    "\n",
    "- Which states have the highest and lowest participation rates for the:\n",
    "    - 2017 SAT?\n",
    "    - 2018 SAT?\n",
    "    - 2017 ACT?\n",
    "    - 2018 ACT?\n",
    "- Which states have the highest and lowest mean total/composite scores for the:\n",
    "    - 2017 SAT?\n",
    "    - 2018 SAT?\n",
    "    - 2017 ACT?\n",
    "    - 2018 ACT?\n",
    "- Do any states with 100% participation on a given test have a rate change year-to-year?\n",
    "- Do any states show have >50% participation on *both* tests either year?\n",
    "\n",
    "Based on what you've just observed, have you identified any states that you're especially interested in? **Make a note of these and state *why* you think they're interesting**.\n",
    "\n",
    "**You should comment on your findings at each step in a markdown cell below your code block**. Make sure you include at least one example of sorting your dataframe by a column, and one example of using boolean filtering (i.e., masking) to select a subset of the dataframe."
   ]
  },
  {
   "cell_type": "markdown",
   "metadata": {},
   "source": [
    "## Participation Rates"
   ]
  },
  {
   "cell_type": "markdown",
   "metadata": {},
   "source": [
    "Few trends emerge from the initial analysis of participation rates for both tests (SAT and ACT) across states in the US. Overall, data from both years suggests that states with high participation rates for the SAT had low participation rates for the ACT and vice versa. This indicates that students generally focus on a single mode of exam (SAT or ACT). The 100% participation rates also indicate that there is some form of mandatory means of testing students in the USA. As such, it would be more useful to channel resources into increasing participation rates of the SAT in states with low participation rates in the SAT and where the ACT is not mandatory.\n",
    "\n",
    "##### High participation rates for SAT and ACT\n",
    "In 2017, there were 4 states that had 100% SAT participation rates - Connecticut, Delaware, District of Columbia and Michigan. The ACT, on the other hand, had participation rates of 100% across 17 states. In 2018, a similar pattern emerges in that the ACT had 17 states with 100% participation rates while the 100% SAT participation rates included the states of Colorado and Idaho. It is worth pointing out that the participation rate of the SAT 2018 in the District of Columbia fell from 100% to 92% from 2017's figures.\n",
    "\n",
    "##### Low participation rates for SAT and ACT\n",
    "With regards to the the staes having the lowest participation rates, the ACT again seemed to  be more popular amongst states even at the lower end of the distribution. For example, the states that had in the lowest participation in the SAT 2017 and 2018 included North Dakota, Utah, South Dakota, Wisconsin etc. with participation rates ranging from 2% to 3%. As far as the ACT is concerned, Maine had the lowest participation rates at 7% and 8% for 2017 and 2018 respectively. Other states where the ACT's participation rates were fairly low include the states of Rhode Island, New Hampshire etc. with participation rates ranging from 16% to 38%.\n",
    "\n",
    "##### States with more than 50% participation rates for both tests\n",
    "A small number of states had 50% participation rates for both tests such as Florida, Georgia and Hawaii in 2017 while 2018 had included two other states -  North Carolina and South Carolina. It is worth mentioning, however, that North Carolina and South Carolina still had participation rates of 100% for the ACT in both years while having slightly over 50% participation rates for the SAT in 2017 and 2018. \n",
    "\n"
   ]
  },
  {
   "cell_type": "markdown",
   "metadata": {},
   "source": [
    "### SAT participation rates"
   ]
  },
  {
   "cell_type": "markdown",
   "metadata": {},
   "source": [
    "#### Highest and Lowest SAT participation rates in 2017"
   ]
  },
  {
   "cell_type": "code",
   "execution_count": 67,
   "metadata": {},
   "outputs": [
    {
     "data": {
      "text/plain": [
       "state\n",
       "Connecticut             1.00\n",
       "Delaware                1.00\n",
       "District of Columbia    1.00\n",
       "Michigan                1.00\n",
       "New Hampshire           0.96\n",
       "Name: sat_participation_17, dtype: float64"
      ]
     },
     "execution_count": 67,
     "metadata": {},
     "output_type": "execute_result"
    }
   ],
   "source": [
    "final['sat_participation_17'].sort_values(ascending=False).head()"
   ]
  },
  {
   "cell_type": "code",
   "execution_count": 68,
   "metadata": {},
   "outputs": [
    {
     "data": {
      "text/plain": [
       "state\n",
       "North Dakota    0.02\n",
       "Mississippi     0.02\n",
       "Iowa            0.02\n",
       "Missouri        0.03\n",
       "Utah            0.03\n",
       "Name: sat_participation_17, dtype: float64"
      ]
     },
     "execution_count": 68,
     "metadata": {},
     "output_type": "execute_result"
    }
   ],
   "source": [
    "final['sat_participation_17'].sort_values().head()"
   ]
  },
  {
   "cell_type": "markdown",
   "metadata": {},
   "source": [
    "#### Highest and Lowest SAT participation rates in 2018"
   ]
  },
  {
   "cell_type": "code",
   "execution_count": 69,
   "metadata": {},
   "outputs": [
    {
     "data": {
      "text/plain": [
       "state\n",
       "Idaho          1.0\n",
       "Michigan       1.0\n",
       "Delaware       1.0\n",
       "Connecticut    1.0\n",
       "Colorado       1.0\n",
       "Name: sat_participation_18, dtype: float64"
      ]
     },
     "execution_count": 69,
     "metadata": {},
     "output_type": "execute_result"
    }
   ],
   "source": [
    "final['sat_participation_18'].sort_values(ascending=False).head()"
   ]
  },
  {
   "cell_type": "code",
   "execution_count": 70,
   "metadata": {},
   "outputs": [
    {
     "data": {
      "text/plain": [
       "state\n",
       "North Dakota    0.02\n",
       "Wyoming         0.03\n",
       "South Dakota    0.03\n",
       "Nebraska        0.03\n",
       "Wisconsin       0.03\n",
       "Name: sat_participation_18, dtype: float64"
      ]
     },
     "execution_count": 70,
     "metadata": {},
     "output_type": "execute_result"
    }
   ],
   "source": [
    "final['sat_participation_18'].sort_values().head()"
   ]
  },
  {
   "cell_type": "markdown",
   "metadata": {},
   "source": [
    "#### States with 100% SAT participation in 2017 or 2018"
   ]
  },
  {
   "cell_type": "code",
   "execution_count": 71,
   "metadata": {},
   "outputs": [
    {
     "name": "stdout",
     "output_type": "stream",
     "text": [
      "1.0    4\n",
      "Name: sat_participation_17, dtype: int64\n",
      "1.0    5\n",
      "Name: sat_participation_18, dtype: int64\n"
     ]
    }
   ],
   "source": [
    "# Number of states with 100% SAT participation in 2017\n",
    "print(final.sat_participation_17.value_counts().sort_index(ascending=False).head(1))\n",
    "\n",
    "# Number of states with 100% SAT participation in 2018\n",
    "print(final.sat_participation_18.value_counts().sort_index(ascending=False).head(1))"
   ]
  },
  {
   "cell_type": "code",
   "execution_count": 72,
   "metadata": {},
   "outputs": [
    {
     "data": {
      "text/html": [
       "<div>\n",
       "<style scoped>\n",
       "    .dataframe tbody tr th:only-of-type {\n",
       "        vertical-align: middle;\n",
       "    }\n",
       "\n",
       "    .dataframe tbody tr th {\n",
       "        vertical-align: top;\n",
       "    }\n",
       "\n",
       "    .dataframe thead th {\n",
       "        text-align: right;\n",
       "    }\n",
       "</style>\n",
       "<table border=\"1\" class=\"dataframe\">\n",
       "  <thead>\n",
       "    <tr style=\"text-align: right;\">\n",
       "      <th></th>\n",
       "      <th>sat_participation_17</th>\n",
       "      <th>sat_participation_18</th>\n",
       "      <th>act_participation_17</th>\n",
       "      <th>act_participation_18</th>\n",
       "    </tr>\n",
       "    <tr>\n",
       "      <th>state</th>\n",
       "      <th></th>\n",
       "      <th></th>\n",
       "      <th></th>\n",
       "      <th></th>\n",
       "    </tr>\n",
       "  </thead>\n",
       "  <tbody>\n",
       "    <tr>\n",
       "      <th>Colorado</th>\n",
       "      <td>0.11</td>\n",
       "      <td>1.00</td>\n",
       "      <td>1.00</td>\n",
       "      <td>0.30</td>\n",
       "    </tr>\n",
       "    <tr>\n",
       "      <th>Connecticut</th>\n",
       "      <td>1.00</td>\n",
       "      <td>1.00</td>\n",
       "      <td>0.31</td>\n",
       "      <td>0.26</td>\n",
       "    </tr>\n",
       "    <tr>\n",
       "      <th>Delaware</th>\n",
       "      <td>1.00</td>\n",
       "      <td>1.00</td>\n",
       "      <td>0.18</td>\n",
       "      <td>0.17</td>\n",
       "    </tr>\n",
       "    <tr>\n",
       "      <th>District of Columbia</th>\n",
       "      <td>1.00</td>\n",
       "      <td>0.92</td>\n",
       "      <td>0.32</td>\n",
       "      <td>0.32</td>\n",
       "    </tr>\n",
       "    <tr>\n",
       "      <th>Idaho</th>\n",
       "      <td>0.93</td>\n",
       "      <td>1.00</td>\n",
       "      <td>0.38</td>\n",
       "      <td>0.36</td>\n",
       "    </tr>\n",
       "    <tr>\n",
       "      <th>Michigan</th>\n",
       "      <td>1.00</td>\n",
       "      <td>1.00</td>\n",
       "      <td>0.29</td>\n",
       "      <td>0.22</td>\n",
       "    </tr>\n",
       "  </tbody>\n",
       "</table>\n",
       "</div>"
      ],
      "text/plain": [
       "                      sat_participation_17  sat_participation_18  \\\n",
       "state                                                              \n",
       "Colorado                              0.11                  1.00   \n",
       "Connecticut                           1.00                  1.00   \n",
       "Delaware                              1.00                  1.00   \n",
       "District of Columbia                  1.00                  0.92   \n",
       "Idaho                                 0.93                  1.00   \n",
       "Michigan                              1.00                  1.00   \n",
       "\n",
       "                      act_participation_17  act_participation_18  \n",
       "state                                                             \n",
       "Colorado                              1.00                  0.30  \n",
       "Connecticut                           0.31                  0.26  \n",
       "Delaware                              0.18                  0.17  \n",
       "District of Columbia                  0.32                  0.32  \n",
       "Idaho                                 0.38                  0.36  \n",
       "Michigan                              0.29                  0.22  "
      ]
     },
     "execution_count": 72,
     "metadata": {},
     "output_type": "execute_result"
    }
   ],
   "source": [
    "final[(final['sat_participation_17']==1.0) | (final['sat_participation_18']==1.0)]\\\n",
    "      [['sat_participation_17','sat_participation_18','act_participation_17','act_participation_18']]"
   ]
  },
  {
   "cell_type": "markdown",
   "metadata": {},
   "source": [
    "### ACT participation rates"
   ]
  },
  {
   "cell_type": "markdown",
   "metadata": {},
   "source": [
    "#### Highest and Lowest ACT participation rates in 2017"
   ]
  },
  {
   "cell_type": "code",
   "execution_count": 73,
   "metadata": {},
   "outputs": [
    {
     "data": {
      "text/plain": [
       "state\n",
       "Wyoming     1.0\n",
       "Oklahoma    1.0\n",
       "Arkansas    1.0\n",
       "Colorado    1.0\n",
       "Kentucky    1.0\n",
       "Name: act_participation_17, dtype: float64"
      ]
     },
     "execution_count": 73,
     "metadata": {},
     "output_type": "execute_result"
    }
   ],
   "source": [
    "final['act_participation_17'].sort_values(ascending=False).head()"
   ]
  },
  {
   "cell_type": "code",
   "execution_count": 74,
   "metadata": {},
   "outputs": [
    {
     "data": {
      "text/plain": [
       "state\n",
       "Maine            0.08\n",
       "New Hampshire    0.18\n",
       "Delaware         0.18\n",
       "Rhode Island     0.21\n",
       "Pennsylvania     0.23\n",
       "Name: act_participation_17, dtype: float64"
      ]
     },
     "execution_count": 74,
     "metadata": {},
     "output_type": "execute_result"
    }
   ],
   "source": [
    "final['act_participation_17'].sort_values().head()"
   ]
  },
  {
   "cell_type": "markdown",
   "metadata": {},
   "source": [
    "#### Highest and Lowest ACT participation rates in 2018"
   ]
  },
  {
   "cell_type": "code",
   "execution_count": 75,
   "metadata": {},
   "outputs": [
    {
     "data": {
      "text/plain": [
       "state\n",
       "Wyoming      1.0\n",
       "Oklahoma     1.0\n",
       "Arkansas     1.0\n",
       "Kentucky     1.0\n",
       "Louisiana    1.0\n",
       "Name: act_participation_18, dtype: float64"
      ]
     },
     "execution_count": 75,
     "metadata": {},
     "output_type": "execute_result"
    }
   ],
   "source": [
    "final['act_participation_18'].sort_values(ascending=False).head()"
   ]
  },
  {
   "cell_type": "code",
   "execution_count": 76,
   "metadata": {},
   "outputs": [
    {
     "data": {
      "text/plain": [
       "state\n",
       "Maine            0.07\n",
       "Rhode Island     0.15\n",
       "New Hampshire    0.16\n",
       "Delaware         0.17\n",
       "Pennsylvania     0.20\n",
       "Name: act_participation_18, dtype: float64"
      ]
     },
     "execution_count": 76,
     "metadata": {},
     "output_type": "execute_result"
    }
   ],
   "source": [
    "final['act_participation_18'].sort_values().head()"
   ]
  },
  {
   "cell_type": "markdown",
   "metadata": {},
   "source": [
    "#### States with 100% ACT participation in 2017 or 2018"
   ]
  },
  {
   "cell_type": "code",
   "execution_count": 77,
   "metadata": {},
   "outputs": [
    {
     "name": "stdout",
     "output_type": "stream",
     "text": [
      "1.0    17\n",
      "Name: act_participation_17, dtype: int64\n",
      "1.0    17\n",
      "Name: act_participation_18, dtype: int64\n"
     ]
    }
   ],
   "source": [
    "# Number of states with 100% ACT participation in 2017\n",
    "print(final.act_participation_17.value_counts().sort_index(ascending=False).head(1))\n",
    "\n",
    "# Number of states with 100% ACT participation in 2018\n",
    "print(final.act_participation_18.value_counts().sort_index(ascending=False).head(1))"
   ]
  },
  {
   "cell_type": "code",
   "execution_count": 78,
   "metadata": {},
   "outputs": [
    {
     "data": {
      "text/html": [
       "<div>\n",
       "<style scoped>\n",
       "    .dataframe tbody tr th:only-of-type {\n",
       "        vertical-align: middle;\n",
       "    }\n",
       "\n",
       "    .dataframe tbody tr th {\n",
       "        vertical-align: top;\n",
       "    }\n",
       "\n",
       "    .dataframe thead th {\n",
       "        text-align: right;\n",
       "    }\n",
       "</style>\n",
       "<table border=\"1\" class=\"dataframe\">\n",
       "  <thead>\n",
       "    <tr style=\"text-align: right;\">\n",
       "      <th></th>\n",
       "      <th>sat_participation_17</th>\n",
       "      <th>sat_participation_18</th>\n",
       "      <th>act_participation_17</th>\n",
       "      <th>act_participation_18</th>\n",
       "    </tr>\n",
       "    <tr>\n",
       "      <th>state</th>\n",
       "      <th></th>\n",
       "      <th></th>\n",
       "      <th></th>\n",
       "      <th></th>\n",
       "    </tr>\n",
       "  </thead>\n",
       "  <tbody>\n",
       "    <tr>\n",
       "      <th>Alabama</th>\n",
       "      <td>0.05</td>\n",
       "      <td>0.06</td>\n",
       "      <td>1.00</td>\n",
       "      <td>1.00</td>\n",
       "    </tr>\n",
       "    <tr>\n",
       "      <th>Arkansas</th>\n",
       "      <td>0.03</td>\n",
       "      <td>0.05</td>\n",
       "      <td>1.00</td>\n",
       "      <td>1.00</td>\n",
       "    </tr>\n",
       "    <tr>\n",
       "      <th>Colorado</th>\n",
       "      <td>0.11</td>\n",
       "      <td>1.00</td>\n",
       "      <td>1.00</td>\n",
       "      <td>0.30</td>\n",
       "    </tr>\n",
       "    <tr>\n",
       "      <th>Kentucky</th>\n",
       "      <td>0.04</td>\n",
       "      <td>0.04</td>\n",
       "      <td>1.00</td>\n",
       "      <td>1.00</td>\n",
       "    </tr>\n",
       "    <tr>\n",
       "      <th>Louisiana</th>\n",
       "      <td>0.04</td>\n",
       "      <td>0.04</td>\n",
       "      <td>1.00</td>\n",
       "      <td>1.00</td>\n",
       "    </tr>\n",
       "    <tr>\n",
       "      <th>Minnesota</th>\n",
       "      <td>0.03</td>\n",
       "      <td>0.04</td>\n",
       "      <td>1.00</td>\n",
       "      <td>0.99</td>\n",
       "    </tr>\n",
       "    <tr>\n",
       "      <th>Mississippi</th>\n",
       "      <td>0.02</td>\n",
       "      <td>0.03</td>\n",
       "      <td>1.00</td>\n",
       "      <td>1.00</td>\n",
       "    </tr>\n",
       "    <tr>\n",
       "      <th>Missouri</th>\n",
       "      <td>0.03</td>\n",
       "      <td>0.04</td>\n",
       "      <td>1.00</td>\n",
       "      <td>1.00</td>\n",
       "    </tr>\n",
       "    <tr>\n",
       "      <th>Montana</th>\n",
       "      <td>0.10</td>\n",
       "      <td>0.10</td>\n",
       "      <td>1.00</td>\n",
       "      <td>1.00</td>\n",
       "    </tr>\n",
       "    <tr>\n",
       "      <th>Nebraska</th>\n",
       "      <td>0.03</td>\n",
       "      <td>0.03</td>\n",
       "      <td>0.84</td>\n",
       "      <td>1.00</td>\n",
       "    </tr>\n",
       "    <tr>\n",
       "      <th>Nevada</th>\n",
       "      <td>0.26</td>\n",
       "      <td>0.23</td>\n",
       "      <td>1.00</td>\n",
       "      <td>1.00</td>\n",
       "    </tr>\n",
       "    <tr>\n",
       "      <th>North Carolina</th>\n",
       "      <td>0.49</td>\n",
       "      <td>0.52</td>\n",
       "      <td>1.00</td>\n",
       "      <td>1.00</td>\n",
       "    </tr>\n",
       "    <tr>\n",
       "      <th>Ohio</th>\n",
       "      <td>0.12</td>\n",
       "      <td>0.18</td>\n",
       "      <td>0.75</td>\n",
       "      <td>1.00</td>\n",
       "    </tr>\n",
       "    <tr>\n",
       "      <th>Oklahoma</th>\n",
       "      <td>0.07</td>\n",
       "      <td>0.08</td>\n",
       "      <td>1.00</td>\n",
       "      <td>1.00</td>\n",
       "    </tr>\n",
       "    <tr>\n",
       "      <th>South Carolina</th>\n",
       "      <td>0.50</td>\n",
       "      <td>0.55</td>\n",
       "      <td>1.00</td>\n",
       "      <td>1.00</td>\n",
       "    </tr>\n",
       "    <tr>\n",
       "      <th>Tennessee</th>\n",
       "      <td>0.05</td>\n",
       "      <td>0.06</td>\n",
       "      <td>1.00</td>\n",
       "      <td>1.00</td>\n",
       "    </tr>\n",
       "    <tr>\n",
       "      <th>Utah</th>\n",
       "      <td>0.03</td>\n",
       "      <td>0.04</td>\n",
       "      <td>1.00</td>\n",
       "      <td>1.00</td>\n",
       "    </tr>\n",
       "    <tr>\n",
       "      <th>Wisconsin</th>\n",
       "      <td>0.03</td>\n",
       "      <td>0.03</td>\n",
       "      <td>1.00</td>\n",
       "      <td>1.00</td>\n",
       "    </tr>\n",
       "    <tr>\n",
       "      <th>Wyoming</th>\n",
       "      <td>0.03</td>\n",
       "      <td>0.03</td>\n",
       "      <td>1.00</td>\n",
       "      <td>1.00</td>\n",
       "    </tr>\n",
       "  </tbody>\n",
       "</table>\n",
       "</div>"
      ],
      "text/plain": [
       "                sat_participation_17  sat_participation_18  \\\n",
       "state                                                        \n",
       "Alabama                         0.05                  0.06   \n",
       "Arkansas                        0.03                  0.05   \n",
       "Colorado                        0.11                  1.00   \n",
       "Kentucky                        0.04                  0.04   \n",
       "Louisiana                       0.04                  0.04   \n",
       "Minnesota                       0.03                  0.04   \n",
       "Mississippi                     0.02                  0.03   \n",
       "Missouri                        0.03                  0.04   \n",
       "Montana                         0.10                  0.10   \n",
       "Nebraska                        0.03                  0.03   \n",
       "Nevada                          0.26                  0.23   \n",
       "North Carolina                  0.49                  0.52   \n",
       "Ohio                            0.12                  0.18   \n",
       "Oklahoma                        0.07                  0.08   \n",
       "South Carolina                  0.50                  0.55   \n",
       "Tennessee                       0.05                  0.06   \n",
       "Utah                            0.03                  0.04   \n",
       "Wisconsin                       0.03                  0.03   \n",
       "Wyoming                         0.03                  0.03   \n",
       "\n",
       "                act_participation_17  act_participation_18  \n",
       "state                                                       \n",
       "Alabama                         1.00                  1.00  \n",
       "Arkansas                        1.00                  1.00  \n",
       "Colorado                        1.00                  0.30  \n",
       "Kentucky                        1.00                  1.00  \n",
       "Louisiana                       1.00                  1.00  \n",
       "Minnesota                       1.00                  0.99  \n",
       "Mississippi                     1.00                  1.00  \n",
       "Missouri                        1.00                  1.00  \n",
       "Montana                         1.00                  1.00  \n",
       "Nebraska                        0.84                  1.00  \n",
       "Nevada                          1.00                  1.00  \n",
       "North Carolina                  1.00                  1.00  \n",
       "Ohio                            0.75                  1.00  \n",
       "Oklahoma                        1.00                  1.00  \n",
       "South Carolina                  1.00                  1.00  \n",
       "Tennessee                       1.00                  1.00  \n",
       "Utah                            1.00                  1.00  \n",
       "Wisconsin                       1.00                  1.00  \n",
       "Wyoming                         1.00                  1.00  "
      ]
     },
     "execution_count": 78,
     "metadata": {},
     "output_type": "execute_result"
    }
   ],
   "source": [
    "final[(final['act_participation_17']==1.0) | (final['act_participation_18']==1.0)]\\\n",
    "      [['sat_participation_17','sat_participation_18','act_participation_17','act_participation_18']]"
   ]
  },
  {
   "cell_type": "markdown",
   "metadata": {},
   "source": [
    "## Total Scores"
   ]
  },
  {
   "cell_type": "markdown",
   "metadata": {},
   "source": [
    "Generally, the top and bottom scoring states for both tests were fairly similar in 2017 and 2018. Interestingly, the top scoring states had the lowest participation rates for both tests and by the same token, this pattern holds true for the lowest scoring states that had the highest participation rates.\n",
    "\n",
    "##### SAT Scores\n",
    "In 2017, the highest scoring states in the SAT were Minnesota (1295), Wisconsion (1291), and Iowa (1275). In contrast, the lowest scoring states came from the District of Columbia (950), Delaware (996), and Michigan (1005). In 2018, the highest scoring states in the SAT were Minnesota (1298), North Dakota (1283), and Iowa (1275). At the other end, the lowest scoring states included the District of Columbia (977), Delaware (998), and West Virginia (999). \n",
    "\n",
    "##### ACT Scores\n",
    "With regards to the ACT, the highest scoring states in 2017 were New Hampshire (25.5), Massachusetts (25.4), and Connecticut (25.2) while the lowest scoring states were Nevada (17.8), Mississippi (18.6), and South Carolina (18.7). In 2018, the top scoring states included those of Connecticut (25.6), Massachusetts (25.5), and New Hampshire (25.1). The lowest scoring states were Nevada (17.7), South Carolina (18.3), and Mississippi (18.6).\n"
   ]
  },
  {
   "cell_type": "markdown",
   "metadata": {},
   "source": [
    "### Total Scores"
   ]
  },
  {
   "cell_type": "markdown",
   "metadata": {},
   "source": [
    "#### Highest and Lowest SAT scores in 2017"
   ]
  },
  {
   "cell_type": "code",
   "execution_count": 79,
   "metadata": {},
   "outputs": [
    {
     "name": "stdout",
     "output_type": "stream",
     "text": [
      "           sat_total_17\n",
      "state                  \n",
      "Minnesota        1295.0\n",
      "Wisconsin        1291.0\n",
      "Iowa             1275.0\n",
      "Missouri         1271.0\n",
      "Kansas           1260.0\n"
     ]
    }
   ],
   "source": [
    "print(final[['sat_total_17']].sort_values('sat_total_17',ascending=False).head(5))\n"
   ]
  },
  {
   "cell_type": "code",
   "execution_count": 80,
   "metadata": {},
   "outputs": [
    {
     "name": "stdout",
     "output_type": "stream",
     "text": [
      "                      sat_total_17\n",
      "state                             \n",
      "Maine                       1012.0\n",
      "Idaho                       1005.0\n",
      "Michigan                    1005.0\n",
      "Delaware                     996.0\n",
      "District of Columbia         950.0\n"
     ]
    }
   ],
   "source": [
    "print(final[['sat_total_17']].sort_values('sat_total_17',ascending=False).tail(5))"
   ]
  },
  {
   "cell_type": "markdown",
   "metadata": {},
   "source": [
    "#### Highest and Lowest SAT scores in 2018"
   ]
  },
  {
   "cell_type": "code",
   "execution_count": 81,
   "metadata": {},
   "outputs": [
    {
     "name": "stdout",
     "output_type": "stream",
     "text": [
      "              sat_total_18\n",
      "state                     \n",
      "Minnesota           1298.0\n",
      "Wisconsin           1294.0\n",
      "North Dakota        1283.0\n",
      "Iowa                1265.0\n",
      "Kansas              1265.0\n"
     ]
    }
   ],
   "source": [
    "print(final[['sat_total_18']].sort_values('sat_total_18',ascending=False).head(5))"
   ]
  },
  {
   "cell_type": "code",
   "execution_count": 82,
   "metadata": {},
   "outputs": [
    {
     "name": "stdout",
     "output_type": "stream",
     "text": [
      "                      sat_total_18\n",
      "state                             \n",
      "Hawaii                      1010.0\n",
      "Idaho                       1001.0\n",
      "West Virginia                999.0\n",
      "Delaware                     998.0\n",
      "District of Columbia         977.0\n"
     ]
    }
   ],
   "source": [
    "print(final[['sat_total_18']].sort_values('sat_total_18',ascending=False).tail(5))"
   ]
  },
  {
   "cell_type": "markdown",
   "metadata": {},
   "source": [
    "#### Highest and Lowest ACT scores in 2017"
   ]
  },
  {
   "cell_type": "code",
   "execution_count": 83,
   "metadata": {},
   "outputs": [
    {
     "name": "stdout",
     "output_type": "stream",
     "text": [
      "               act_composite_17\n",
      "state                          \n",
      "New Hampshire              25.5\n",
      "Massachusetts              25.4\n",
      "Connecticut                25.2\n",
      "Maine                      24.3\n",
      "New York                   24.2\n"
     ]
    }
   ],
   "source": [
    "print(final[['act_composite_17']].sort_values('act_composite_17',ascending=False).head(5))"
   ]
  },
  {
   "cell_type": "code",
   "execution_count": 84,
   "metadata": {},
   "outputs": [
    {
     "name": "stdout",
     "output_type": "stream",
     "text": [
      "                act_composite_17\n",
      "state                           \n",
      "North Carolina              19.1\n",
      "Hawaii                      19.0\n",
      "South Carolina              18.7\n",
      "Mississippi                 18.6\n",
      "Nevada                      17.8\n"
     ]
    }
   ],
   "source": [
    "print(final[['act_composite_17']].sort_values('act_composite_17',ascending=False).tail(5))"
   ]
  },
  {
   "cell_type": "markdown",
   "metadata": {},
   "source": [
    "#### Highest and Lowest ACT scores in 2018"
   ]
  },
  {
   "cell_type": "code",
   "execution_count": 85,
   "metadata": {},
   "outputs": [
    {
     "name": "stdout",
     "output_type": "stream",
     "text": [
      "               act_composite_18\n",
      "state                          \n",
      "Connecticut                25.6\n",
      "Massachusetts              25.5\n",
      "New Hampshire              25.1\n",
      "New York                   24.5\n",
      "Michigan                   24.4\n"
     ]
    }
   ],
   "source": [
    "print(final[['act_composite_18']].sort_values('act_composite_18',ascending=False).head(5))"
   ]
  },
  {
   "cell_type": "code",
   "execution_count": 86,
   "metadata": {},
   "outputs": [
    {
     "name": "stdout",
     "output_type": "stream",
     "text": [
      "                act_composite_18\n",
      "state                           \n",
      "Alabama                     19.1\n",
      "Hawaii                      18.9\n",
      "Mississippi                 18.6\n",
      "South Carolina              18.3\n",
      "Nevada                      17.7\n"
     ]
    }
   ],
   "source": [
    "print(final[['act_composite_18']].sort_values('act_composite_18',ascending=False).tail(5))"
   ]
  },
  {
   "cell_type": "markdown",
   "metadata": {},
   "source": [
    "#### States with more than 50% participation for both tests in 2017 and 2018"
   ]
  },
  {
   "cell_type": "code",
   "execution_count": 87,
   "metadata": {},
   "outputs": [
    {
     "data": {
      "text/html": [
       "<div>\n",
       "<style scoped>\n",
       "    .dataframe tbody tr th:only-of-type {\n",
       "        vertical-align: middle;\n",
       "    }\n",
       "\n",
       "    .dataframe tbody tr th {\n",
       "        vertical-align: top;\n",
       "    }\n",
       "\n",
       "    .dataframe thead th {\n",
       "        text-align: right;\n",
       "    }\n",
       "</style>\n",
       "<table border=\"1\" class=\"dataframe\">\n",
       "  <thead>\n",
       "    <tr style=\"text-align: right;\">\n",
       "      <th></th>\n",
       "      <th>sat_participation_17</th>\n",
       "      <th>act_participation_17</th>\n",
       "    </tr>\n",
       "    <tr>\n",
       "      <th>state</th>\n",
       "      <th></th>\n",
       "      <th></th>\n",
       "    </tr>\n",
       "  </thead>\n",
       "  <tbody>\n",
       "    <tr>\n",
       "      <th>Florida</th>\n",
       "      <td>0.83</td>\n",
       "      <td>0.73</td>\n",
       "    </tr>\n",
       "    <tr>\n",
       "      <th>Georgia</th>\n",
       "      <td>0.61</td>\n",
       "      <td>0.55</td>\n",
       "    </tr>\n",
       "    <tr>\n",
       "      <th>Hawaii</th>\n",
       "      <td>0.55</td>\n",
       "      <td>0.90</td>\n",
       "    </tr>\n",
       "  </tbody>\n",
       "</table>\n",
       "</div>"
      ],
      "text/plain": [
       "         sat_participation_17  act_participation_17\n",
       "state                                              \n",
       "Florida                  0.83                  0.73\n",
       "Georgia                  0.61                  0.55\n",
       "Hawaii                   0.55                  0.90"
      ]
     },
     "execution_count": 87,
     "metadata": {},
     "output_type": "execute_result"
    }
   ],
   "source": [
    "# States with >50% participation in SAT 2017 and ACT 2017\n",
    "final[(final['sat_participation_17']>0.5) & (final['act_participation_17']>0.5)]\\\n",
    "      [['sat_participation_17','act_participation_17']]"
   ]
  },
  {
   "cell_type": "code",
   "execution_count": 88,
   "metadata": {},
   "outputs": [
    {
     "data": {
      "text/html": [
       "<div>\n",
       "<style scoped>\n",
       "    .dataframe tbody tr th:only-of-type {\n",
       "        vertical-align: middle;\n",
       "    }\n",
       "\n",
       "    .dataframe tbody tr th {\n",
       "        vertical-align: top;\n",
       "    }\n",
       "\n",
       "    .dataframe thead th {\n",
       "        text-align: right;\n",
       "    }\n",
       "</style>\n",
       "<table border=\"1\" class=\"dataframe\">\n",
       "  <thead>\n",
       "    <tr style=\"text-align: right;\">\n",
       "      <th></th>\n",
       "      <th>sat_participation_18</th>\n",
       "      <th>act_participation_18</th>\n",
       "    </tr>\n",
       "    <tr>\n",
       "      <th>state</th>\n",
       "      <th></th>\n",
       "      <th></th>\n",
       "    </tr>\n",
       "  </thead>\n",
       "  <tbody>\n",
       "    <tr>\n",
       "      <th>Florida</th>\n",
       "      <td>0.56</td>\n",
       "      <td>0.66</td>\n",
       "    </tr>\n",
       "    <tr>\n",
       "      <th>Georgia</th>\n",
       "      <td>0.70</td>\n",
       "      <td>0.53</td>\n",
       "    </tr>\n",
       "    <tr>\n",
       "      <th>Hawaii</th>\n",
       "      <td>0.56</td>\n",
       "      <td>0.89</td>\n",
       "    </tr>\n",
       "    <tr>\n",
       "      <th>North Carolina</th>\n",
       "      <td>0.52</td>\n",
       "      <td>1.00</td>\n",
       "    </tr>\n",
       "    <tr>\n",
       "      <th>South Carolina</th>\n",
       "      <td>0.55</td>\n",
       "      <td>1.00</td>\n",
       "    </tr>\n",
       "  </tbody>\n",
       "</table>\n",
       "</div>"
      ],
      "text/plain": [
       "                sat_participation_18  act_participation_18\n",
       "state                                                     \n",
       "Florida                         0.56                  0.66\n",
       "Georgia                         0.70                  0.53\n",
       "Hawaii                          0.56                  0.89\n",
       "North Carolina                  0.52                  1.00\n",
       "South Carolina                  0.55                  1.00"
      ]
     },
     "execution_count": 88,
     "metadata": {},
     "output_type": "execute_result"
    }
   ],
   "source": [
    "# States with >50% participation in SAT 2018 and ACT 2018\n",
    "final[(final['sat_participation_18']>0.5) & (final['act_participation_18']>0.5)]\\\n",
    "      [['sat_participation_18','act_participation_18']]"
   ]
  },
  {
   "cell_type": "markdown",
   "metadata": {},
   "source": [
    "## Visualize the data\n",
    "\n",
    "There's not a magic bullet recommendation for the right number of plots to understand a given dataset, but visualizing your data is *always* a good idea. Not only does it allow you to quickly convey your findings (even if you have a non-technical audience), it will often reveal trends in your data that escaped you when you were looking only at numbers.\n",
    "\n",
    "Some recommendations on plotting:\n",
    "- Plots have titles\n",
    "- Plots have axis labels\n",
    "- Plots have appropriate tick labels\n",
    "- All text is legible in a plot\n",
    "- Plots demonstrate meaningful and valid relationships\n",
    "- Plots are interpreted to aid understanding\n",
    "\n",
    "There is such a thing as too many plots, and there are a *lot* of bad plots. You might make some! (But hopefully not with the guided prompts below)."
   ]
  },
  {
   "cell_type": "markdown",
   "metadata": {},
   "source": [
    "#### Use Seaborn's heatmap with pandas `.corr()` to visualize correlations between all numeric features\n",
    "\n",
    "Heatmaps are generally not appropriate for presentations, and should often be excluded from reports as they can be visually overwhelming. **However**, they can be extremely useful in identify relationships of potential interest (as well as identifying potential collinearity before modeling).\n",
    "\n",
    "*example*:\n",
    "```python\n",
    "sns.heatmap(df.corr())\n",
    "```\n",
    "\n",
    "Please take time to format your output, adding a title. Look through some of the additional arguments and options. (Axis labels aren't really necessary, as long as the title is informative)."
   ]
  },
  {
   "cell_type": "code",
   "execution_count": 89,
   "metadata": {},
   "outputs": [
    {
     "data": {
      "text/plain": [
       "Text(0.5, 1, 'Correlation Heatmap')"
      ]
     },
     "execution_count": 89,
     "metadata": {},
     "output_type": "execute_result"
    },
    {
     "data": {
      "image/png": "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\n",
      "text/plain": [
       "<Figure size 720x720 with 2 Axes>"
      ]
     },
     "metadata": {
      "needs_background": "light"
     },
     "output_type": "display_data"
    }
   ],
   "source": [
    "fig, ax = plt.subplots(figsize=(10, 10))\n",
    "\n",
    "sns.heatmap(final.corr(),annot=True)\n",
    "ax.set_title(\"Correlation Heatmap\", fontsize=16)\n",
    "\n"
   ]
  },
  {
   "cell_type": "code",
   "execution_count": 90,
   "metadata": {},
   "outputs": [
    {
     "data": {
      "text/plain": [
       "<Figure size 432x288 with 0 Axes>"
      ]
     },
     "metadata": {},
     "output_type": "display_data"
    }
   ],
   "source": [
    "\n",
    "# custom function for making histogram subplots\n",
    "def subplot_histograms(dataframe, list_of_columns,list_of_titles,list_of_xlabels):\n",
    "    nrows = int(np.ceil(len(list_of_columns)/4)) \n",
    "    fig, ax = plt.subplots(nrows=nrows, ncols=4,figsize=(13, nrows+2),sharey=True) \n",
    "    \n",
    "    # Ravel turns a matrix into a vector, which is easier to iterate\n",
    "    ax = ax.ravel() \n",
    "    # Gives us an index value to get into all our lists\n",
    "    for i, column in enumerate(list_of_columns): \n",
    "        ax[i].hist(dataframe[column],bins=15)\n",
    "        ax[i].set_title(list_of_titles[i],fontsize=13)\n",
    "        ax[i].set_xlabel(list_of_xlabels[i])\n",
    "plt.tight_layout()\n"
   ]
  },
  {
   "cell_type": "markdown",
   "metadata": {},
   "source": [
    "##### Participation rates for the SAT & ACT\n",
    "These histograms illustrate that the ACT had more states at the higher ends of the distribution indicating that the ACT appears to be more popular than the SAT. As mentioned in the preliminary analysis, there are a lot more states with 100% participation rates on the ACT as compared to the SAT. In addition, the participation distribution is not distributed normally."
   ]
  },
  {
   "cell_type": "code",
   "execution_count": 91,
   "metadata": {},
   "outputs": [
    {
     "data": {
      "image/png": "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\n",
      "text/plain": [
       "<Figure size 936x216 with 4 Axes>"
      ]
     },
     "metadata": {
      "needs_background": "light"
     },
     "output_type": "display_data"
    }
   ],
   "source": [
    "participation = ['sat_participation_17','sat_participation_18','act_participation_17','act_participation_18']\n",
    "titles = ['SAT participation % (2017)','SAT participation % (2018)','ACT participation % (2017)','ACT participation % (2018)']\n",
    "xlabels = ['','','','']\n",
    "subplot_histograms(final,participation,titles,xlabels)\n",
    "plt.tight_layout()\n",
    "\n"
   ]
  },
  {
   "cell_type": "markdown",
   "metadata": {},
   "source": [
    "##### Math Scores for the SAT & ACT\n",
    "The distribution of math scores for both tests are rather similar with spikes at 530 for the SAT and 19 for the ACT.\n"
   ]
  },
  {
   "cell_type": "code",
   "execution_count": 92,
   "metadata": {},
   "outputs": [
    {
     "data": {
      "image/png": "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\n",
      "text/plain": [
       "<Figure size 936x216 with 4 Axes>"
      ]
     },
     "metadata": {
      "needs_background": "light"
     },
     "output_type": "display_data"
    }
   ],
   "source": [
    "participation = ['sat_math_17','sat_math_18','act_math_17','act_math_18']\n",
    "titles = ['SAT math (2017)','SAT math (2018)','ACT math (2017)','ACT math (2018)']\n",
    "xlabels = ['','','','']\n",
    "subplot_histograms(final,participation,titles,xlabels)\n",
    "plt.tight_layout()\n"
   ]
  },
  {
   "cell_type": "markdown",
   "metadata": {},
   "source": [
    "##### Reading/Verbal Scores for the SAT & ACT\n",
    "The reading and verbal scores for both tests have very similar distribution patterns with peaks at 540 for the SAT Evidence-Based reading and writing and 21 for the ACT reading."
   ]
  },
  {
   "cell_type": "code",
   "execution_count": 93,
   "metadata": {},
   "outputs": [
    {
     "data": {
      "image/png": "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\n",
      "text/plain": [
       "<Figure size 936x216 with 4 Axes>"
      ]
     },
     "metadata": {
      "needs_background": "light"
     },
     "output_type": "display_data"
    }
   ],
   "source": [
    "participation = ['sat_erw_17','sat_erw_18','act_reading_17','act_reading_18']\n",
    "titles = ['SAT erw (2017)','SAT erw (2018)','ACT reading (2017)','ACT reading (2018)']\n",
    "xlabels = ['','','','']\n",
    "subplot_histograms(final,participation,titles,xlabels)\n",
    "plt.tight_layout()"
   ]
  },
  {
   "cell_type": "code",
   "execution_count": 94,
   "metadata": {},
   "outputs": [],
   "source": [
    "def scatterplot(dataframe, col1, col2, title,color=None):\n",
    "    sns.regplot(dataframe[col1],dataframe[col2],\n",
    "                scatter_kws={'facecolors':color,'edgecolor':color},\n",
    "                line_kws = {'color':'grey'})\n",
    "    plt.title(title,fontsize=15)\n",
    "    plt.xlabel(col1,fontsize=13)\n",
    "    plt.ylabel(col2,fontsize=13)"
   ]
  },
  {
   "cell_type": "markdown",
   "metadata": {},
   "source": [
    "##### Subject Scores (Math and Verbal/Reading) SAT  2017 vs ACT 2017\n",
    "\n",
    "There appears to be a weak negative correlation between subject specific test scores in both math and reading for the SAT and ACT."
   ]
  },
  {
   "cell_type": "code",
   "execution_count": 95,
   "metadata": {},
   "outputs": [
    {
     "data": {
      "image/png": "iVBORw0KGgoAAAANSUhEUgAABDAAAAEYCAYAAACqUwbqAAAABHNCSVQICAgIfAhkiAAAAAlwSFlzAAALEgAACxIB0t1+/AAAADh0RVh0U29mdHdhcmUAbWF0cGxvdGxpYiB2ZXJzaW9uMy4xLjAsIGh0dHA6Ly9tYXRwbG90bGliLm9yZy+17YcXAAAgAElEQVR4nOzdeXxjZ3X4/8+RLFmy5bHHnn1hnAwTlhKaAP2SZlh+AYZXKZBAyxZ+JKHQUr6FhtCQlK3Lt1BKJyWBlJaWEihJQwOUFMqSlmkD5ZuESYFkYCADcSaZxbN7vMm2ZFvS+f5x79VcyZIt2dp13q+XXjN6JF09V57x8+jc85xHVBVjjDHGGGOMMcaYRhaodweMMcYYY4wxxhhjlmIBDGOMMcYYY4wxxjQ8C2AYY4wxxhhjjDGm4VkAwxhjjDHGGGOMMQ3PAhjGGGOMMcYYY4xpeBbAMMYYY4wxxhhjTMOzAIYxJRCRN4vIj0QkLiJjIvKwiNxc5Lm/JSIqInfktb/EbV/slqrNGRXs951uH65Z5DkbReRWEXlcRGZFZFREviUiu0Sko4TzUxF5Xi3Py9f3t4vI5QXah0Xko8s43ktF5EsiclhEpkVkv4j8nogs+L0qIr8hIj8VkaSI/ExEXpv3eERE/kpE7hORRKF/B0t8vtPl9t8YY9qNjeXZ5zTzWO59/k+twLF+2z1WpMBjj4rI76z0PVZCRMZF5IO++/eJyF01fH+b55iG1FHvDhjT6ETkfcCHgN3Ae4EI8GzgTcAfFHjJle6frxKRqKom3Pv/A/yq73kvAP4SuBw447ZpZXtfGhHpcvsBTv8/X+A5TwPuBSZxPosDQC/w68A3gYvJPb8YsAf4U+A/fO0/q2zvS/Z24IfAv1XweB3AB4BjwPOBjwPbgD/0niQiLwS+DNwK/D7wSuAuETmrqve6T4sBb8H5N/J9nH8bOVQ1JSK/mt8OfAvn52KMMaYIG8uzz2n2sbzqROTJwA6c8bWRvA2Yq+H72TzHNCZVtZvd7LbIDeeX9t8UaJcCbeuAFPCfOBOY1y5y3Fe5z9nSAOf4ercv/+n2f23+uQL7gB8DPQVefxGwOa+tzz3mm+p9fm5/9gGfKdA+DHx0GcdbU6BtNzADhHxt/wV8O+953wa+m/f5ivv364BUiX34Vfcz/s16f752s5vd7NbINxvLm3ssd/veCbzE7c9TK3DM33aPFclrvw54eJHXRWt0zuPAB+v4mds8x24NebMlJMYsrQ84md+oqoWusLwOCALvxJksXVngOWVzU0IfKNB+nZvW1+Xe/x0RecRNzxsRke+6V1uWciVwBHiX2//X5j1+GfDLwHtVNZ7/YlXdp6rHyj2vvHP5JxHZKyKXi8gBEZkRka+LSJ+IXOCey7SI/EBEfinvtTeIyA9FZFJETonI10Rku+/x+9z+v9WXjvimvGNcLyLH3FTaO0Vk1WL9VdWRAs0PA1GcKw3e1bAXAF/Ke95dwPNEJOYeS4v8e1rKlUAc56qZMcaY4mwsr/JY7vY7mT9+ishF7rj7Ql/bb4iznCcpIidE5KMi0uF7/MMiclJEXiAiPwKSwG/4DrtFnGUvM+4Sh5zlHiKy051DnBCRKXGWC72hxFN5Oe64KiJPdvv+BneeMg78q+99ftf9Wc2KyCERuX45/RCRy0TkJ+7n8UMReW6B5+QsIfF9Rs8RkQfdz+IhEbk073UREfl7EZlw/z39pYi8R5ZY6mTzHNOoLIBhzNIeAn5fRK4RkYElnnslTtT+58AXgV8Xkd4K9OEu4BIReVJe++uAr6vqjIi8CPgbnJTRl+Gk6u0FFv0iLiJ9wK8BX1TVnwE/YeFk7YXAPE6UvZrOA/4YeD/wuzjpin8P/DNwJ85kLILzefhtwUldvBwnxbITuE9EetzH3wYM4Swf+VX39u++178RZwD+HeB9OFfUPryM/l8KnFTVMff+k3HSL3+e97wDOJPLHct4DwDEWYP6WuBfVTW53OMYY0ybsLG8+mP5V3C+W1yR1/464Djwf92+vhFnycH3ccbtDwO/x8Jxtwf4HPB3OJ/Fj3yPfc69/2qcq/2fFpFf8z0+6L7fW933+Cpwh+TVZsjnfuF+AQu/MN8MjAGvwVky5C1L+mv3vF8OfBr4CxF5ezn9EJGt7vuddo//GZx5T+difXXFcD6LTwG/iZN586+SW9fjY8BVwJ+4f27HCXIth81zTP3VOwXEbnZr9BvwTOBxnBS2DM66zz8DVuU9b5v7+I3u/V9xX/PmIsctOe0UCOMMnO/xtT3Jfb9XufffCzy4jPN7i9uPZ7n33+ce90m+53wGOFrmcctKOwX+CWdiNehru9k9xht9bZe7bTuKHCcIdAHTea9bbAnJo0DQ1/ZJYLjM870Q5wrRB31tL3T7+oy85z7VbX9RgeOUlFoJvMg9xstq/X/Cbnazm92a7WZjec3G8m8C38hrewz4uPv3gDvu/kPec96GszRhtXv/w+77vjzved4Skr/Na78XuK9InwTnS/Zt+JY6UGAJCU5AZAQIuPef7D7nywU+lxngA3ntH8HJ2im0NKlYP27GqZ/i78c17vv65xT3AXf57nuf0Qt8bc9x217i3l8HzALvzuvHzylxGYfvdTbPsVtD3CwDw5glqOpPgKfhfHH+W5xf/H8E/NBLjXN5KYFfdF/3A5xBe8Wpp6o6h5Oy+Hpf8+tw0uruce/vA54jIh8TkeeLSLjEw18JDKnqQ+79u3DO8fV5z1tO6l+5DqrqId/9x9w/7y3QttlrEJFLReQ/ReQsztWHaZwgxgUlvu+9qpr23X8E2CgiwVJeLCL9OFdgHsK9MpMn/7OTIu3luBJnkrVnBccwxpi2YGP5uW4sq/Ol+yLwUhFZDSAiz8G54v9F9/Gn4YzfXxJn14kOd+nIvThLE57uO1aa3GxJv38tcP85IiLu+/aLyCdF5DDOxZF5nCDPUvOClwP3qGomrz0/I2On298v553HfwGb3Fup/fhfwH9obpbB3Uv005PEzWxxPeL+ucX985k4gbNsAXNVVeAbJR4fsHmOaSwWwDCmBKo6q6pfV9V3qurTcaL2O3BSAj1X4vxinxCnbkMfzoDxYhFZV4Fu3IUzOHu1HV4PfFVVZ90+/rvbr8uA/wbOiMhfu+sTCxKR9e7z/83X5zH3PPyTtWPA+jImUss1nnd/rkC71xYBEJHzcCqjp3Gu4OzEuWI26j1nme8bAEJLvVBEosDX3edfoarzvoe9FMu+vJd59/PftyQiEsJZC/wvqlq37fqMMaaZ2Fhek7H8qziZH692778eOIyzDAZgjfvntzn3hX4eZ5knwFbfsc7mXVzwO13gfifQ796/A2dJxW5gF8684PMsMi9wgx/ebiz5TuXd987jF3nn8Z9551FKPzbkn486NUpKWTYx4QYkPDlzJPfYcG6HHIrcL8rmOabR2DaqxiyDqt4mIrtxUuQQZz/yX3YfHivwktfirGldiXtxBpzXicgXcdIE/ySvX58DPudOsn4TJy1xAvgghXmFyq53bzlE5KnqrAH+Lk5tisvI3UatEbwMZ9LyKnW3uXMnZ/mDacW5GRp34VxJuVRV8ycEj+FkhDwVuN/X/lScgMsQy/NSnEnaPy/z9cYY0/ZsLK88VZ0UkXuA14vI59y+fdH3JXvU/fMtwP4Ch3jcf7hF3io/mOQtlRgVkW6cucHbVPUz3hNKyKq82D1Ooc8mvy/eebwMJ0sg38/L6MdJ8s7HreFV6kWYxXiFa9fibJ2L7/6SbJ5jGpEFMIxZgoisU9XTeW1rcfZN9yLyb8T5RX05zppIv0/gXAFZ0aRHnf2xv8K5dNBRiqTVuf39lIi8htx0zHxXAj/F2bfbL4ITbX8Dzt7v38XZdu2jInK/qk75nywivwyM6Ap3IlmmKM5n74/Qv4GFGWZzVGYy4Pf3OOtxX6SqCwZpdQqyfQ9n0nub76HX46zVncp/TYmuxFlD/H+XeqIxxhgby6ntWH4XTl2rV+LU+PAX3n4E50v1oBuoWa5Xk/u5vRr4oaqqW8BScAIaALhFWF/hbyvg5cADeq5A5WLux8mQ2OhmzSzgFostpR8/AN4kIhHfMhL/jisr8ROc+c8VOIEwL9PkFSW+3uY5puFYAMOYpe0Xka/hpDuexinw9R6cyc3n3ee8Adijqt/Kf7GIfB74KxHZpqqHV9iXLwJvx4nU3+1P4xORD+NU7P4eztWAZwPPo8DVGPf524BLgBtU9bsFHt+DM4D8qTshuBL4DvADEfk4ToXpVThXF34beBZOemqt/RdOaubn3Ks9FwLvJvdKAzgFqy4TkZfiTBgfV9VRlklE/hgn7fjDzl25xPfwz/TcFnV/BtwrIh/DmUi+AieNdFfe8X4dp27HL7vHe4370P+o6hHf8yI4k+tP56WNGmOMKc7G8tqN5V/H+YL+d+TW5UBV0yLyHpwxuw8n22EeOB8nCHGFt5xmCa90617dh7Nzx2U4AQhU9ayIPAz8qYhMu89/H05WTdGlOO7r82trFKSqoyLyIeCT7lLW+3AunDwFp6jmb5bRj1tw/j18Q0RuwVl+ciOlLSFZqp+nReQ24MMiksZZ8vJWoBtnqU9RNs8xDauWFUPtZrdmvAHvwJnwHMcZTA4BXwCe6j7uVXx+Y5HXb8TJDvjDvPaSK5f7XhPAmVgo8OK8xy7nXGpqAmeQuoEClbDd57/X7dfGIo+/0X2fZ+edy18DT+BE9EdxCmy9qsDrl7MLyd68tkIVwr2K4L/ma3szTtppAnjA/ZkMAx/Ne91/4aThZvuV/7xi71ugv/e5zyl0e17ec38Dp+L9LM5k8bUFjjdc5Fhvynvea9z259T7/4bd7GY3uzXLzcby2ozlvtfd5b7uQ0Uef7k7jk7jXHB4GOeLsLf7x4dxtuvMf523C8kunODHDHAU+N28512AE6iZxqnBcX3+Mf1jPc6SijQLd9NYMOfIe/xqnFojSZzAxF7gXeX0w33ei3GW1My6x/tVnPoRS+1Ckn+cDre/b/e1RXEyKSbdn/XH3deOLPEztHmO3RryJqoW2DLGGGOMMca0JxG5GifYsq3efakFEfkukFbVF9e7L8aUywIYxhhjjDHGGNOCROQlOEuRHsIpev4G4P8HXq2qX61n34xZDquBYYwxxhhjjDGtaQpniccHcAIYvwCusuCFaVaWgWGMMcYYY4wxxpiG19AZGBMTExZdMcYYY5pEb2+v1LsPS7G5hTHGGNM88ucWgXp1xBhjjDHGGGOMMaZUFsAwxhhjjDHGGGNMw7MARgUMDQ3Vuws11W7nC3bO7aDdzhfsnNtBu51vrbXy52vn1nxa9bzAzq1Zteq5tep5QXOcmwUwjDHGGGOMMcYY0/AsgGGMMcYYY4wxxpiGZwEMY4wxxhhjjDHGNDwLYBhjjDHGGGOMMabhWQDDGGOMMcYYY4wxDc8CGMaYgh4YDfDKe87wzC+f5JX3nGHPcKLeXTLGmCwR2Soi3xGRAyLyMxF5l++x3xeRX7jtu+vZT2M8e4YTNq4aY8wKWQDDGLPAnuEEuw+GOZVIszosnEqkuWHvhE22jDGNJAVcr6pPAy4B3iEiTxeRy4ArgGeq6i8Bf1XPThoDzrh6w94JG1eNMWaFLIBhjFng1v1ThAJKV0cAEaGrI0A44LQbY0wjUNUTqvqQ+/c4cADYDPxv4KOqOus+drp+vTTGcev+KcIBbFw1xpgV6qh3B4wxjefwVJquvPBmNCgcnkrXp0PGGLMIERkELgYeBG4Cni8ifw4kgfeo6g8KvW5oaGjF712JYzQqO7fKOTgWYVWHMusbRgMKB8ekon1p1J/ZA6MB7jgW4nhS2BRRrto8z6X9mbKO0ajnVgl2bs2nVc8LGuPcduzYUfQxC2AYYxbYFgtydAIivrZEWtkWC9atT8YYU4iIxICvANep6qSIdACrcZaV/ArwJRE5X1U1/7WLTZBKMTQ0tOJjNCo7t8ra/tgZTiXSdHWcuzowk8qwvSfIjh1bK/Iejfoz2zOc4JajE4QDsLZbmEwrtxwNs2lzL7u2REs6RqOeWyXYuTWfVj0vaI5zsyUkxpgFrr0wxnxGmEllUFVmUhnmMk67McY0ChEJ4QQv7lTVu93mYeBudfwPkAHW1KuPxoAzfs5laMtx1ZbPGGMqyQIYpq1YBfDS7NoS5cbtc6yPBhmbU9ZHg9x0SelXSowxptpERIDbgAOqerPvoa8CL3KfcwEQBkZq30Njztm1JcpNl/S25bh6eCpNNCg5bbYs1RizXLaExLQNrwJ4OEBOBfCbLqEtJhDlurQ/wzXPXVvvbhhjTDE7gauA/SKyz217P/BZ4LMi8lNgDrim0PIRY2pt15ZoW843tsWC7vKZc0EMW5ZqjFmummRgFNurXUT+VESOicg+9/brteiPaU+WwmiMMa1DVe9TVVHVZ6rqRe7tW6o6p6pvUtVnqOqzVPXeevfVmHbWzstnjDGVV6slJAX3ancfu8U/8ahRf0wbshRGY4wxxpjaauflM8aYyqvJEhJVPQGccP8eFxFvr3ZjasZSGI0xxhhTC3uGE9y6f4rDU2m2xYJce2Gsrb+wt+vyGWNM5dW8BkbeXu07gXeKyNXAD3GyNMYKva4R9qNdTKP3r9Ka8Xxf0x9g98EwcwElEoBkBuYzwms2TzM0NL7k65vxnFeq3c653c4X7JzbQbXPt9G3WzOm1qzmljHGVE9NAxgF9mr/FPAhQN0/Pwa8pdBrG3mC1Az75VZSs57vDmDTZt8Vkd7Sr4g06zmvRLudc7udL9g5t4N2O19jGoG/5hbgZH6mMty6f8oCGMYYs0I1C2AU2qtdVU/5Hv8H4Bu16o9pT5bCaIwxxphqOjyVZnXYam4ZY0w11GoXkoJ7tYvIRt/TXg38tBb9McYYY4wxphq2xYIk0rk791rNLWOMqYxa7ULi7dX+orwtU3eLyH4R+QlwGfDuGvXHGGOMMcaYirNtQ40xpnpqtQvJfYAUeMi2TTXGGGOMMS3D2TYU24XEGGOqoOa7kBhjjDHGGNPKrOaWMcZUR62WkBhjjDHGGGOMMcYsm2VgmIa3ZzhhaZjGGGOMMcYY0+YsA8M0tD3DCW7YO8GphLMl2alEmhv2TrBnOFHvrhljjDHGGGOMqSELYJiGduv+KcIB6OoIICJ0dQQIB5x2Y4wxxhhjjDHtwwIYpqEdnkoTDeZuYBMNCoen0nXqkTHGGGOMMcaYerAAhmlo22JBEmnNaUuklW2xYJ16ZIwxxhhjjDGmHiyAYRratRfGmMvATCqDqjKTyjCXcdqNMcaYlZiYmGB6epq5uTlUdekXGGOMMaauLIBhGtquLVFuuqSX9dEgY3PK+miQmy7ptV1IjDGmzYnIVhH5jogcEJGfici73PY/FZFjIrLPvf16sWNkMhnm5uaYnp5mfHyceDxOMpkklUrV7kSMMcYYUzLbRtU0vF1bohawMMYYky8FXK+qD4lID/AjEdnjPnaLqv5V2QdMpbLBi0AgQEdHB6FQiI6ODgIBu+ZjjDHG1JsFMIwxxhjTdFT1BHDC/XtcRA4Amyt1fC87Y25uDoBgMEgoFCIUChEMBhGRBa/ZM5zg1v1THJ5Ksy0W5NoLYxaAN8YYYyrIAhjGGGOMaWoiMghcDDwI7ATeKSJXAz/EydIYK/S6Q4cOLff9CAQCBINBfv7znxMIBPj+WJDdB8OEAkpXAI5OwHXfS3Lj9jku7c8s633qbWhoqN5dqJpWPbdWPS+wc2tWrXpurXpe0BjntmPHjqKPWQDDGGOMMU1LRGLAV4DrVHVSRD4FfAhQ98+PAW8p9NrBwcEVvfehQ4cYHBxERPj6zyfoCyudoRAZCRLBKUD9L6MRrnnu2hW9Tz0MDQ0tOoFsZq16bq16XmDn1qxa9dxa9bygOc7NAhjGGGOMaUoiEsIJXtypqncDqOop3+P/AHyj2v1QVU5OzdIXFpifQ0XISJCgBDkSb87si2JquUzGluQYY4zJZxWpjDHGGNN0xClCcRtwQFVv9rVv9D3t1cBPa9GfTd1BkmlnK1ZRJZhJwVyCp3QmcrZrzWSaN6CxZzjBDXsnOJVIszosnEqkuWHvBHuGE039XsYYY5qHZWAYY4wxphntBK4C9ovIPrft/cCVInIRzhKSQ8Dv1qIzV1/Qxe59cSBDJCgk08p8xmnPLwjq7XDi3YLBYC26uGK37p8iHICuDuf6V1eHQCrDrfunKp4ZUcv3alb5GSqv6Q/Q2InfxhizchbAMMYYY0zTUdX7gIVbgcC3at0XgJ0bItx4Edz+6AzHp9Ns6g5y9QVd7NwQWfDcZg1oHJ5ysiH8okHh8FS6qd+rGXkZKuEA2QyV3QfDbNqcsACPMaalWQDDGGOMMaYCdm6IFAxYLKVYQCMUCtHR0UEg0BgrfrfFgpxKpJ1sCFcirWyLVT7gUsv3akaFMlTmAmoZKsaYlleTEVFEtorId0TkgIj8TETelff4e0RERWRNLfpjyrNnOMEr7znDM798klfec4YHRhtjIlVp+edp62yNMcbUgxfQmJ6eZmJigsnJSRKJBPPz86hq3fp17YUx5jLO7iqqykwqw1zGaW/m91qJes0dDk+liQZzM1QiAVo6Q8XmacYYqF0RzxTOPuxPAy4B3iEiTwcnuAHsAo7UqC+mDIWKaO0+GG65QcOKhRljjGlU6XSaZDLJ1NQU4+PjxONxkskkqVSqpgGNXVui3HRJL+ujQcbmlPXRIDdd0luVK/61fK/lqufcYVssSCKd+7NPZmjZDJUHRgM2TzPGADVaQqKqJ4AT7t/jInIA2Aw8AtwC3Ah8rRZ9MeVplxRFKxZmjDGmWaRSKVKpVPa+v35GR0cHzgYt1bFrS3RF42I5W6Ou9L2qrZ5zh2svjHHD3glIZYgGhURamc9Iw2WoVModx0I2TzPGAHWogSEig8DFwIMicjlwTFV/vNRgOzQ0VP3OrUCj92+5Do5FWNWhzPoyEiMBODiWbKlzLnSeAYWDY5I9z1Y631K12zm32/mCnXM7qPb57thh+x7UW7GARigUIhgMVjWgUY5ChSdv2DvBTZfQlF9C61lo1MlQIXcXks3TTfk5luJ4UljbbUVdjTE1DmCISAz4CnAdzrKSDwAvLeW169evzylo1SiDMTiTw1adwG1/7IxbROvcaqPxmSTbV0fYsWNrHXtWWYXOcyaVYXtPkB07trb0z7iYdjvndjtfsHNuB+12vsbhBTSSySQikp0/hUKhuhYEbbVsx3oXGs3PUBkaGq/J+9bDpogymVYr6mqMqVkNDEQkhBO8uFNV7wa2A+cBPxaRQ8AW4CER2VDo9el0mtnZ2YLrP031FCqi1Yopis1SLMwYY4wph6oyPz/PzMxMTkHQesyfChWebOar6DZ3qJ2rNs/nfNZnEmmOTKU5MDZvBT2NaTO12oVEgNuAA6p6M4Cq7lfVdao6qKqDwDDwLFU9WcoxU6kUiUSCeDzOxMQE09PTzM7OkslkqnYe7ahQEa0bt8815ZWSxSxVLOyB0YBVvjbGGNP0vIKg8Xic8fHxms6fChWebOar6M1QaLRVXNqfyX7WJ2YynJ3N0N8pbO4OWkFPY9pMrZaQ7ASuAvaLyD637f2q+q1KHDx///RgMNiwy02aUbukKBYrFrZnOMHug2G6I+mWWLNrjDHGgJOdkT9/8paaVEOhwpPNnrHQ6IVGW4n3Wb/yntxlv82+FMkYU55a7UJyH7BoFMHNwqiIdDqdXXIC5AQzOjpqXre0YZVTCbyd3bp/ilBAbaA0xhjT0rz5UzKZZHp6munp6ezcKRhceZZEocKTNvcw5apn8VRjTP21xbd5f3VuEckGM+pdzKqeWq0SeDUdnkrTlffPxAZKY4wxrSw/OyMQCORcEFru/MkyFsxK1bt4qjGmvtru27s3IPuLWc3MzLRdMVB/JXARoasjQDjgtJtc22JBknlLg22gNMYY00685brT09NMTEwwMTHBzMwMc3NzVn+sCvYMJ0quveU994ofRNqiTpcVTzWmvbVdACOft9TEX8xqbm4OVV36xU2s1SqBV9O1F8aYz4gNlMYY02Jafayvpkwmw+zsbDag4V0QsoDGynlZsqcSubW3CgUm/M9d1aFtUdDSiqca097aYglJqfLTJcPhcLaYVasVArX0u9Lt2hLlxu1z/MtoxNbsGmNMC7nrrrsYGBjIucVisZYb82shv/6YV1Ddu7Xbkt2V1BnzZ8nC4rW3/M+dTbuvaYM6XbYUyZj2ZQGMRXjBDK9uRjgcbpldTVqxEng1Xdqf4Zrnrq13N4wxxlTQ3NwcJ06c4MSJE9m2zs5O+vv7GRgYYM2aNQwMDNDd3d0SY38t5Qc0AoFATkH1Vg5orLTOWDlFKq2gpTGm3bRtAOP+k0luf3SG49NpNnUHufqCLnZuiBR8bn5mhjf4hkKhilTlrgerBG6MMcYsNDs7WzSo4QU0vKCGKZ235MQf0PDPp1opoFFOBkUh5WTJWkatMabdtGUA4/6TSXbvixMKQG9YOJtMs3tfnBsvomgQw8/b1SSZTCIiJJNJkslk023Taul3xhhjmpWIbAVuBzYAGeDTqvoJ3+PvAW4C1qrqyEreq1hQo6uri9HR0ZyghmVqlMYrCpq/y0krBDRWmhVRTpas/7kBxep0GWNaXvN8266g2x+dIRSASNAZHCNBATLc/uhMSQEMP1UllUqRSDjFkhptAF7JGkyzMvbZG2NMVaWA61X1IRHpAX4kIntU9RE3uLELOFKtN/eyCcbGxrJtnZ2drFmzJidbo6ury4IaJSgU0PDqkDXb8t2VZkWUkyXrf+7BMWF7j803jDGtrS0DGMen0/TmRcYjQeH49MrXC+YPwMFgMGfNZy0H4JWuwTTLZ5+9McZUl6qeAE64f4+LyAFgM/AIcAtwI/C1WvZpdnaWY8eOcezYsWxbJBJZUCjUghpLy19y4l0YaoZs10rUGSsnS9Z77tDQEDt2bF1ut40xpik09ghQJZu6g5xNpt3MC0cyrWzqrvx6Qa+IlccbfGtRP2OlazDN8tlnb4wxtSMig8DFwIMicjlwTFV/vFSQ4NnPfjbxeJx4PM7U1BRTU1MV31o1mUwuCGqEQiF6emB1Oa8AACAASURBVHqIxWL09PTQ09NDOBxuuKDGoUOH6t2FgkSEYDCYvS0n23VoaKgKPXMMAu/eGuCOYyGOTwubIspVW+cZTMSp4tsC1T2verNza06tem6tel7QGOe2Y8eOoo+1ZQDj6gu62L0vDmSIBIVkWpnPOO3VNj8/z/z8PIlEourLTawy9fLlL/94TX+A4v+NFqrFZ29LVIwxBkQkBnwFuA5nWckHgJeW8tpnPOMZOffT6TTj4+OcPXs2exsbGyOTyVS0z/Pz84yOjjI6Oppti0QiOUVCvUyNejl06BCDg4N1e/9y+Hc4CYVCSwaCnEyFckb18u0ArqnqOyxUi/OqFzu35tSq59aq5wXNcW5tGcDYuSHCjRdR8i4k1VKsgJW35nOlV2KsMvXyFFr+sftgmE2bEyUHCKr92dsSFWNMMxORrwJ3AF9V1WVHdkUkhBO8uFNV7xaRC4HzAC/7YgvwkIj8L1U9udTxgsFgNnjgqVVQI5lMMjw8zPDwcLYtGo0WXH5ichVabuLPdm20zBZjjDHL15YBDHCCGLUOWCyl0vUzKrEGsx0VWv4xF9Cyln9U+7O3JSrGmCb3CuAlwKSI3AZ8RlUPl3MAcQbF24ADqnozgKruB9b5nnMIeM5KdiFZLKjxi1/8AiAb1Kj08pNEImFBjWXI3y3Om0c1Q/0MY4wxi7Pf4g0sv35G/gC8VECjnCrW5pxCyz8iAcpa/lHtz96WBxljmlwCp+Dm1cDbgPeKyLeBTwHf1NIiATuBq4D9IrLPbXu/qn6rGh3284IamzZtyi6zSKfTjI2NLcjUqGVQw78EJRq1sR6c3eK85bvg1M9IJpMkk0k6OjosQ8MYY5qMBTCaiHdFwVNKRe5yqlgbR6HlH8kMbOstb/lHNT97Wx5kjGlyqqqTwCeBT4rITpxAxpeAMyLyD6r64SUOcB+w6DdPVR2sUH+XFAwGWbNmDWvWrMm2pdNpRkdHOXv2LKOjo4yMjDA+Pl6ToEZXV9eCTA0LajgBjVQqRSKRyLaVe4HIGGNM/VgAo4n5Axr+FMla7HDSyq69MMY77hvn6NQ8qQx0BKArIA219KYWy4MeGA3wB/ecsewdY0zVqer9wP0ich3wZuB3gEUDGM0gGAyydu1a1q5dm23zBzW8WzWCGjMzM8zMzHD06NFsmwU1ClvOBSJjjDH1Yb+VW4Q/RbIWO5y0PG8iKbl3G0W1l6jsGU6w+2CY7kjaioQaY6qh4CVuVR0DbnFvLalQUCOVSmWXn4yMjDA6OlqzoEZ3d/eCoEYk0lg1wmot/wKRf4cTm08ZY0x9WQCjRRXa4cTb3cTSIxd36/4p+joDbOo+N0kZn0k2XIHMai5RuXX/FKGAWpFQY0y1/G69O9BIOjo6CgY18jM1JiYmKh7UmJ6eZnp6miNHjmTburu7iUajTE5Otn1QQ1UXFFj3LzexgIYxxtRWTQIYIrIVuB3YAGSAT6vqJ0TkQ8AVbttp4M2qerwWfWo3hbYY8wIattwkVyWKeDa7w1NpuvLmZFYk1BhTKar6hXr3odF1dHSwbt061q3LbqpS86DGyMi5zVu6u7uzRUL7+/vbNqjhFVj35lPeBSILaBhjTG2UFMAQkXGc/dr/TlV/toz3SQHXq+pDItID/EhE9gA3qeofue9xLfDHwNuXcXxTJi890ltu4k+PbPfsjEoV8Wxm22JBjk6Af2pqRUKNMbXgbo/6fFX9Xr370mgKBTXm5+dzlp+cPXuWycnJqgU1Dh8+t9ttLBZbsPyks7Ozou/b6PIvEFmGhjHGVFepGRhR4GKcrcoeAP4O+JKqzpXyYlU9AZxw/x4XkQPAZlV9xPe0bqDoaPv9738/Ozj29fVZ1kAFFRp8/ctN2k2hApnzmcYq4llt114Y47rvJZmpYpFQY4wpIgx8B7CBvgShUKhgUKNQpkalTU1NMTU1VTSosWbNGvr7+9sqqJGfoeHNqWyHE2OMqYxSv53OqurzROQZOBkSfw18XET+Efh7VR0q9Q1FZBAnGPKge//PcfaBnwAuK/a6Rx991H8Muru7icVi9PT0EIvF6O7urmtQ49ChQ3V772oSEYLBYPbmXUkYGir5R950BoF3bw1wx7EQx6eFTRHlHdvnGUwM08KnnWMQuHF7gDuOafYzuGrrPIOJeEt/Bq3877oYO+fWV+3z3bFjR9mvEZFNizwcYYntUc3iQqEQ69evZ/369dm2egY1enp6FmRqhMPhir93I/ICGh7b4cQYY1amrN+cqvpT4J0icgNwJU4RrneLyHdU9SVLvV5EYsBXgOvc/d9R1Q8AHxCR9wHvBP6khH5kB8iTJ096x6avry+7LrO/v5/+/n5CoVA5p7gshw4dYnBwsOrv0wgCgQBHjx7lKU95SktfSdgBXOO7PzQ0tKxJelMbGuKa5z6p3r2omXb8Gds5t74GPt9himddyiKPmWVaLKjh7XwyMjLC5ORkxd87Ho8Tj8dzLva0a1DDdjgxxpiVWVboV1UTwGeBz4rIxcDblnqNiIRwghd3qurdBZ7yBeCblBDAKNInxsbGGBsb4+DBg9n23t7enKBGuwyQ1ZLJZJifn2dqagoRydmq1Zb1GGOMKdEY8CbgkQKPRYq0mworFNSYm5tjdHSUoaEhVDVbU6PSlgpqeMtPWnnOlr/DidUkM8aYpZUawCj6G1RVHwb+96Ivdn4D3wYcUNWbfe07fMtPLgd+XmJ/SjYxMcHExARPPPFEtq2np2dBUKMdK2mvlKoyPz/P/Px8TjFQ26rVGGPMEh4G1qjq4fwHRKQTW0JSN+FwmA0bNpBMJrPZpV5QwysUOjo6WrOgxqpVq3KyNFo5qFGsJpnVzzDGmHNKDWA8fYXvsxO4CqcI6D637f3AW0XkKTjbqB6mRjuQeAOkf31md3d3NpjhDZBdXV216E7LsK1ajTHGlOgjwHSRx+ZYpCaWqT0vqLFhw4Zs29zcXE49jbNnzxKPxyv+3pOTk0xOTuZciGqXoMZi9TOCwaAFNIwxbamkAIaqHl3Jm6jqfRS+mvKtUo/xjGc8Ixv9974gV5K3PdjRo+dONRqN5mRp9Pf3093dbQNGifK3avUPvI2+znPPcIJb909xeCrNtliQ1/QHaMhV5MYY04RU9d5FHlPgv737IrJTVe+vScdMycLhMBs3bmTjxo3ZtnoHNbxlJ96ftaiDVkv59TP827UWulCUP5e59sIYu7ZEa91tY4ypqBWXPxaRIPABVf2zCvSnqGc/+9mAs2xhZmYmOzB6QY1EIlHx90wkEgwPDzM8PJxt6+zszAlqDAwMVHyv9VaUyWRy1nk28j7pe4YT3LB3gnAAVoeFU4k0uw+G2bQ5YQO/McbU3j3Aqnp3wiytUFBjdnY2WyDUm7tNTU1V/L29oMbjjz+ebevt7V2QqdEqQQ3/Ml5wAhrJZJJkMklHRwf3npjjxgcnc+YyN+yd4KZLsLmMMaapVWL/pg6cwptVDWB4vC1Uu7u7edKTzu2QMDMzk7M92OjoKNPTxbJTl292dpbjx49z/PjxbFswGOTRRx/NCWqsWrXKMjUWkb9PupehsdiVhFq5df8U4QB0dThBla4OYS6g3Lp/ygZ9Y4ypPRtMm1hnZ2fBoEZ+pkY1ghpeHbT8oEYkEiGRSDAwMMDq1aurHtS4/2SS2x+d4fh0mk3dQa6+oIudGypbe01Vs1mvAJ95aJTejBAOhkhrkK5gELC5jDGm+ZUUwBCRNy7ycEOEsru6uujq6mLLli3ZtmQymZOlUa0BMp1Oc/LkyeyWruCsU8wvFNrb29tQmQaNJD9DwwtoeAWsahnQODyVZnU4d74cCTjtxhhjas7SHFtMZ2cnmzZtYtOmTdm2ZDKZM1+rdlDj1KlTgHNhzFt+4l2EqmRQ4/6TSXbvixMKQG9YOJtMs3tfnBsvouJBDL/j02l6wwLpjNMgQicBTkwGSaVSdHRU4hqmMcbUXqm/vf4JOIpTbDNfw14ZiUQibN68mc2bN2fb/JW0vVs1KmmnUilOnz7N6dOns23BYJDVq1fnBDX6+vqswGUBXkADyKmhUYu90rfFgpxKpOnqOPdPO5mBbb32czLGGGOqIRKJFAxq5GdqVDq7VlWzQY2DBw8CTlCj0PKT5Xzpv/3RGUIBiASdeUskKECG2x+dqWoAY1N3kLPJtPt+gCqp9DznRzLE4/GcGhresl7LHDbGNINSfxMfAa5U1e/nPyAiEYpXEm84hSppz8/PMzo6mhPYmJiYqHhti3Q6zcjICCMjI9m2QCBAX19fzgC5evVqi4znKVRDo1pbi117YYwb9k5AKkM0KCTSynxGuPbCWMXewxhjzMqIyFbgdmADzgWWT6vqJ0TkQ8AVbttp4M2qerz4kUyj+tE43H4wyvHpjWzq3sLVz+vi2X3UJKgxPj7O+Ph4TlDDP1/zMjWWmq9lMyF8IkHh+HR1szqvvqCL3fviQIZIUEimlfmM0w4La2iAM7fyghne3y2oYYxpNKV+S94HXAQsCGDgpHY29W+3UCjE+vXrWb9+fbYtlUoxNjaWswRlfHycTKZQEsryZTKZbPBkaGgIODdI+mtq1GKNZjPxby3mv4pQieUmu7ZEuekScnch2Txta0aNMaY+is0xUsD1qvqQiPQAPxKRPcBNqvpHACJyLfDH1GibdlM5xZde9LAzL7u2VpkaY2NjjI2N8dhjjwGlBTUWZEIAybSyqbu6WZ07N0S48SLKqr3hza28i0WQu3WrXVwzxjSCUn8T/R6Fl4+gqrNAyxV26OjoYO3ataxduzbblk6nGR8fzwlqjI2N5ezRXQn+QdKL/INTeMof1GjVfc/L5b+KkEgkEJFsIGO5AY1dW6I5AYuhofFKdtkYY0zpPlKoUVVPACfcv8dF5ACwWVUf8T2tG6uh0ZTKWXpRaMlwIpFYENSYmZmpaB9LCWq8bl0Pn3wiSNI9h/xMiGrauSGy4mUq+Vu3esGMai/nNcaYYkoKYJSTeiki71XVjy6/S40rGAxmByRPJpPhkUceIRKJZAfIsbGx7C/7SvLWaPr3Pe/p6VkQ1IhEqremshmoat3qZxRi+7AbY0xhIvLHRR6aBQ4D96jqX5RwnEHgYuBB9/6fA1cDE8BlxV536NChsvpbrWM0qnqe29GJTmIdypzvGlEAODqRKqtfvb299Pb2cv755zM3N0c8HicejzM1NUU8Hs/JNqiEQkGNVyHEO2KcCa5ivrOHZ23oZuNMnEOHKj8fqeXPLBAIZJea1GK5iZep3Irs3JpPq54XNMa57dixo+hj1cgFez/QkgGMQgKBALFYjMHBQZ785CcDTlAjHo/nbOl69uzZnHWGleINxIcPH862dXd35xQKHRgYIBpt3y/MxXY4qUVAY89wghv2Ttg+7MYYU9gL3NtxnGLhW4GNwF7gfOBvRORlqvo/xQ4gIjHgK8B1qjoJoKofAD4gIu8D3omz3fsC559//oqWhh46dIjBwcFlv76R1fvcth4ZdZdenBujk+kMW7uDDA5uXOSVS/OfW36mxsjISHYr0spRelJxelJxmIXpSbhvSLKF3f3LT1ayDLbePzOvfoaXpVHJgMbQ0NCiX2iamZ1b82nV84LmOLdqBDCauh5GJQQCgZyIPzgR+Xg8nlModHR0lNnZ2Yq///T0NNPT0xw5ciTbFo1GFwQ1urq62rI402IBDa9wVaXcun+KcAC6OpwJWFeHQCpj+7AbY4zjJ8B/qOpNXoOIXA9sAv4/4M+AjwHPL/RiEQnhBC/uVNW7CzzlC8A3KRLA6O3tRVXJZDKk0+kFf1a6mLcp3VJFKCslGo2yZcsWtmzZkm2bmZlZsPyk0kENVV1QAy2/sPuaNWuaarc6r4aGN7e1oqDGmGqoRgDDRvsCvH3GV61alY2OqyrT09MLtnVNJpMVf/9EIsHw8DDDw8PZts7OzpylJwMDA8RisbYbXPIDGpUsCnp4Ks3qvOrj0aBweKq61ceNMaZJXA2sz2v7BHBSVa8Xkb/AyaBYQJzB6jbggKre7Gvfoape/uvlwM8X64CIZL9c5VPVbEDDH9zwbqZ6llOEslK6urro6upi69at2bb8oMbIyEjF52uFCrsHAoEFmRrNEtQoVhTUf2u3OacxZuWsnHAdiQixWIxYLMaTnvSkbPvMzMyCTI1KV9MGmJ2d5fjx4xw/fq7ESTgczgYzvD9XrVrVVgNMflHQQCBAMplkdna27CUn22JBTiXSTuaFK5FWtsUaf+JhjDE1kAB+CScTw/N0nBoYAItFe3cCVwH7RWSf2/Z+4K0i8hSc4uOHWcEOJF5AuxBVpauri1gstiCwkclkLHujAipRhLJS8oMaqlowU6MaQQ3v2J5CQY3Vq1dX9H2rxV8UFFiQAWuFQY0xS7EARgPyBkl/OqO3RZg/sDE1NVXx956bm+PkyZOcPHky29bR0ZGz9CSZTJLJZNpmkMlkMqRSqWz18kAgkFOFe7HgzrUXxrhh7wSkMkSDQiKtzGWcdmOMMXwK+A8R+XucYMM24G3A37iPXwH8tNALVfU+Ci9b/VYV+rmAiGTHg0LbnBfL2rDsjdYgInR3d9Pd3Z29CFXvoEZ3dzcnT57MydRo9LlafkDDKwzqD2q000U0Y8zSrAZGkyi0Rdjs7Gw21dAbyCYnJyv+3qlUitOnT3P69Ols28MPP0x/f39OtkazpDSuVCaTYXZ2NmeNp3+PdP9Au2tLlJsuwXYhMcaYAlT1IyIyjJNJ8TrgGPBeVb3dffxLwJfq2MVlCwQC2RpL+fKXpuQHO0xzWiqoMTIykp2zVSOoEY/H+cUvfpFtCwQCORegmiGo4f1f8Be+7+joYG5ujvn5eVt2YoypSgDjZVU4pimgs7OTjRs3snHjuWrc8/PzC5afTExMVDyVNZ1Oc+bMGc6cOZNtyy8+1d/fz+rVq4um37YKb42nx1+BOxgMsmtL1AIWxhhThBusuL3e/ailxZamAAUzN7z7tjSluRQLakxPTy/I1Kh0YfdMJsPIyAgjIyPZtmAwWLCmRiMHNVKpFHNzc9nMY3+GRkdHR0P33ZhmtGc40dAXX8v6Ziki3cC1wHOAHv9jqvpS98/7KtY7U7ZQKMT69etZv/5cTbRUKsXY2FhOUGN8fLziV3kKFZ8SEfr6+nKuAKxevbpgum2r8KdD+guCWiqkMcYsJCIRYAcL5xUP1KdH9edlbxRi2RvNz18Dbdu2bUDtghrpdLpgUCM/U6O3t7dhAwP5u514mU7+wIYxZnkeGA1wy9EJwgFYHRZOJdLcsHeCmy6hYYIY5f4P/yxwMfBVoPJVJU1VdHR0sHbtWtauXZttS6fTjI+P5wQ1RkdHKz75UVXGxsYYGxvj4MGD2fbe3t6cQqH9/f2Ew+GKvncj8BcE9VgFbmOMcYjI5cDngd68hxRo/TWJy1BK9kahmwU4GlspQQ1vCUo1ghr5WbXNFNTwdpPzeDsLNcpcq9GvZhvjd8exEOEAdHU4/9e7OgRSGW7dP9Uw/27LDWC8FLhAVc8s+UzT0ILBYHZA8mQymWxQwwtojI6O5hRXqpSJiQkmJiZ4/PHHs209PT0LghqRSGNUH6+kYhW4vS1bLaBhjGkjHwP+D/BpVZ2pd2dawWLZG2ABjmZSLKgxNTW1IFPD/wW+EpYKaqxZs4b+/v6GDGqo6oK5Vr2WnewZTnDD3sa+mm2M3/GksLY797tINCgcnlpsU7DaKjeAcRYoe+sLEdmKs751A862Zp9W1U+IyE3AK4E54CDwW6o6Xu7xTWV4xZ76+/uzbV5RKH+mxpkzZ3JqPlRKPB4nHo9z6NChbFt3d3dOUGNgYIBotLV+4XuDbDKZzFly4gU0jDGmha1X1Y/XuxPtpNQARyQSIRqNkk6nc5atmPoSEXp6eujp6WFwcBA4F9Q4cOAAwWCwpkGN/J3qBgYGWLVqVcMFNYotO/HmW9Xq7637pxr+arYxfpsiymRanX+rrkRa2RZrnO8k5QYw3g/cKiJ/qKqjZbwuBVyvqg+JSA/wIxHZA+wB3qeqKRH5S+B9wB+W2SdTRYFAgN7eXnp7ezn//PMBeOKJJxgYGFhQLLTSKY0A09PTTE9Pc+TIkWxbNBrNKRQ6MDBAV1dXS2Qu+JecJBKJ7ADrFQVttAmBMcas0LdF5BJV3VvvjhiHf/eUQlmQxbaH9QIdpva8oMa6detyghrxeJzR0VFGRkay8zX/ktZKKLRTXSWDGvefTHL7ozMcnehk65FRrr6gi50bVp6d6y078YI8/oCGV0+jEg5PpVkdbuyr2cb4XbV5nluOhiGVIRoUEmllLgPXXhird9eylgxgiMg8zlpU/2veIiI5//NUtWgBA1U9AZxw/x4XkQPAZlX9tu9pe4HXlNF3UyciwqpVq1i1alXOQOlfp1mtbcIAEokEw8PDDA8PZ9sikUjOYNnf308sFmv6oEatBlhjjKmTQ8C/icgXcecJHlX9SF16ZBZV6vaw+X9acKO2is3V/Fm19QpqrFmzJhvUWGyedv/JJLv3xQkFINahnE2m2b0vzo0XUZEghl/+fKtSRdi3xYKcSqQb+mq2MX6X9mfYtLm3oeu2lJKB8ZJKvqGIDOIUAn0w76G3AF8s9jr/soJG1Oj9q7TFztdbhrJ9+3bm5uaIx+NMTU1lb9XI1Egmkxw/fpzjx49n2zo6OrJrR3t6eojFYkSj0WUHNSr5M354IsDXTnVwelZY16lcsT7Fxb3lp+Z6E8lgMEgwGKx4hoa3m0y7aLfzBTvndlDt892xY8dKXv5s4GfAM9ybRwELYDSZxQqMFsrcsOBGbfmDGueddx5wLqjhZWl4F6BqEdQIhUIFMzW8edrtj84QCkAkGGAu7fwJGW5/dKbiAYx8hYqwe3Otci4iXXthjBv2TjT01exW1MqFU2txbru2RBv681oygKGq/+39XUReoKrfy3+OiDy/lDcTkRjwFeA6VZ30tX8AZ5nJncVe60WPG9GhQ4caun+VttLzTSQS2QKhXvTf29u7klKpFOPj44yPnyurkp/WWGoBqkr+jO8/meQff+5cUejvEqbSyj+eCLFufc+KB+RKbiU2NDS00i8mTaXdzhfsnNtBo5+vql5W7z6Y2lgsc6NYQVHvZqrHH9TwlgqrKpOTkzlZGqOjoxUPaszPz3Pq1ClOnTqVbfMHNYJnQ/RH+5gJnPuyHwkKx6frs/zCq6ORnxW72DLfXVui3HQJLftluhG1cuHUVj63cpT77eYbwKoC7V8D+gu0Z4lICCd4caeq3u1rvwZ4BfBitRB81XhrCI9Pp9nUHazYGsLliEajbN68mc2bN2fbZmdnswEN78/JyclFjrI8ha4AeFW1/YGN3t7eqi3P8F9RAGcwrtQVhUJbieUHNJp9WY0xxpjWUmph0fzAhgU4qkNEFtQ/KxTUOHv2bMV3qvMHNZ4LMAnz0sFkRw/xztWc7VjFQKwfVa37fKbUZb6NfjW71bRy4dRWPrdylBvAWPCbwi3KuejoIc5vmNuAA6p6s6/913CKdr7Qtk+rHv8awt6wVHUN4XJ1dnayceNGNm7cmG2bm5vL2c717NmzTExMVDzVtFBV7UAgwOrVq7NBjdnZWdLpdEWCGsen0/TmFXSq1hWFQimQgUAge7XACoMaY2pNRB5W1Yvdvw+RW2crS1UvqGnHTMNaqu7GYtvC2rWxylgsqOEvEjo6OlrxoEZIUwzMjzEwP8YgwDj88z+HcpaeDAwM0NPTU9egRrXqaJjytHLh1FY+t3KUFMDwTTCiIvJo3sPrcHYTWcxO4Cpgv4jsc9veD9wKdAJ73P/Qe1X17SX23ZSomlf8qykcDrNhwwY2bNiQbUulUjkBjdHRUcbGxio+QclkMtnB2Fs/vm/fPvr6+nJ2P1m9ejWhUKisY2/qDnI2mXZ/Do5kWtnUXZuCTplMhtnZ2WwtEi87wwtq2OBqjKmym3x//3DdemFagohkaxMUUqiwqPdF0oIbK+MPamzfvh1w5hiFlp9UI1Pj5MmTnDx5MtsWDofp7+/PFgnt7++va1CjWB0Nf2asFWOvvFYunNrK51aOUjMwPoyTffEp4M997RngJHDvYi9W1fsokL0BfKvE9zcrUMsr/tXW0dHBunXrWLduXbYtnU4zPj6eM1COjo5WPK1UVRkbG2NsbCzb5q0d9Qc1+vv7CYeLbsrD1Rd0sXtfHMgQCQrJtDKfcdrrIX9vdO9KgbclngU0jDGVpKpf8P398/Xsi2l9hQqLRqNR+vr6WjJ7o95LhgOBAH19ffT19dU8qDE3N1cwqJGfqVHPXeq8OZdHREgmkyQSiWwgzoIaK9PKhVNb+dzKUVIAw5tgiMjPba/25lPvK/7VFgwGs4OSJ5PJMD4+nlModGxsrOKDpaoyMTHBxMQEjz/+eLZ91apVOQGNgYEBOjs7AWfZzo0X0TA1SfKlUilSqRSJRILx8fFlVd02xphiROQFpTyvUNFwYyqp1OyNYoGORqu/8fBEIFskvJGWDBcLakxMTDA6OpqzA4r/y30lzM3NceLECU6cOLdLc2dnZ07dszVr1tDd3V2XoIaqkkqlSCaT2Tb/v0v/zS4olaaVC6e28rmVo6waGKq6V0SCwA5gLb6simpPNMLhcMMOGI2u0a7410IgEMgW5nzyk58M5F4B8C9BqXRVbYDJyUkmJydztl6NxWLZAXNbfz8f/5UBotHG/4WTX3Xbv6bTC2zYoGqMKcN/5d0PkJulqUAaKJ7KBojIVuB2YANORuinVfUTInIT8EpgDjgI/Jaqjhc/kjGFLbYtrMcLcDRCgdGvnepomiXDXq2x1atXLwhq5GdqVDqoMTs7WzCokZ+pUe+gRv5FN//FJKthtrhWLpzayudWqrICGCLyLOBu4Ek4EwyhxInGSnV3d+fc96Lhqlr0797g0YwpgJXU6Ff8a6XQFQBv/3N/psbZs2dzdvKolKmpKaampjhy5Ei2LRqNvylaaAAAIABJREFU5mzpOjAwQFdXV0MHBBZb09kIg2or7/1tTCtQ1WzhIBG5GrgCp6D3E8D5wEeAfyvhUCngelV9yC0o/iMR2YNTl+t9qpoSkb8E3uce35iK87I3KlVgdCVLQE7PCv1dzbtk2B/U8F98mpiY4Be/+AVAdplwNYIax48f5/jx49m2RgpqwMIlv4009zKmlsrdheTjwL8CfwwcAbYCu4H7KtyvJXnpVaUolvbXTgGOnRsibRewKIV///PBwUHAmXBMT0/nRP9Pnz5dlUyNRCLB8PAww8PD2bZIJJIT0Kj3gFmK/EG12FZi1Wb7YxvTdP4P8ExVjbv3h0TkrcCPgTsWe6GqngBOuH+Pi8gBYLOqftv3tL3AayrfbWOWVsoSFX9Q4zvHZvjITxJ0irIqHCh7Cci6TmUqrS21ZNgLamzYsCE7T/OWCednalQ646WUoMaaNWvqduGp2NzLXyC0keeOxixXuQGMC4FdqjorIqKqUyJyI7AP+MISr62bpfYXz4+Q52dx+DM7TOsTEWKxGLFYjG3btgHwxBNPsH79+pyB8uzZs8zMVH7332QyybFjxzh27Fi2zStC5Q9qVKKydrWKfRXbG91/taAabH/slbMMltbT4D/TVUAEiPvaIkBvOQcRkUHgYuDBvIfeAnxx+d0zpnr8AY5QKMTfPhonFeoi3BFgBhBNk5pPcdvBNJc9aeml1FesT/GPJ0K0+pJh/zLhHTt2APUNavgvPHk7oNQjqOHNvfz88y9b9tscGnzMbghSTvaBiJwGtroBjMPArwATwFlVrXj504mJiYZLjSi0VOWxxx7jvPPOW7BspVUzOw4dOpSNgreLYuecSCRy6mmcPXuWqampmvQpFAplB3Bv4Ozt7S05hfD+k0l274u762XPTXRuvKiHnRsiVf05e5M2f1CjEqmPz/zySVaHJWdwVlXG5pSfvHbDIq+EoaGh7ESoXeSfsz+DxV/d+qZLeltm8Gy3n/PnHzzILUe7a/Yz7e3tLWtmLCKfB7YDHwQOA4M4WRlPqOo1JR4jBvw38Oeqerev/QPAc4DfUN+A7J9beNtkG9MIrvhBhFUdiv/7pSpMpoSv/UrS16YFl6eoKg+NC1871cHpWWFdp3LF+hQX97bnBbhMJsPMzAzxeJx4PJ5dyluL+XkoFKKnp4dYLEZPTw89PT2Ew+GGCB54F3aDwWD2743QLwMPjAbYfTBMKKBEApDMwHxGuHH7HJf2t9f/Y/9cLX9uUe5l0B8Bu4BvAN/FSe+cAX6yoh42kUJfssLhMF1dC6PbtnSl9UWjUTZv3szmzZuzbbOzszk1NUZHR5mcnKz4e8/Pz3Pq1ClOnTqVbQsGgzlBjYGBAfr6+gr+u7390Zm6FfsqVKDKH9TwAhvlBjVsf+yVsQyW1nPHsVCj/0zfAXwCuAfoxCm8+QXgXaW8WERCwFeAO/OCF9cArwBerIsMtisNZrVyQMzOrfa2P3bGHcPOjX0zqQzbe4Ls2LF1ydcPDQ1xzYXn8ya3xoa3xKAV5pyVuqiSTqcXZGqMjY1VPFNjfn4+W6/D42VqrFmzJput0dXV1RAXBquVKduo/9dWqlrn9Qf3nKE7cu53QATnd8C/jEa45rlrK/5+hTTDz6zcf52/jVMtHOAPgI8CPcBvVbJTraLUpSuLFSH1/2maQ2dnJxs3bmTjxo3Ztrm5uexA5g2Yk5OTFf+5ptNpzpw5w5kzZ7Jt3vpR/xKU1atXc3w6TW+4cYp9FQpqlFtLw/bHXpnDU2lW5/2biAaFw1PNUQDOLHQ8KaztbtyfqapOAW8Vkd/G2d3szGIBBz9xLhneBhxQ1Zt97b+GU7Tzhapa+XV+xlRJJcawYjU3/LU20r4AR7stjw4Gg9kLPJ5aBTUKLRGORqNEo1HGx8ez/Sp0UbTa8pef2I5z9dEs87B6L3MpdxvVY76/nwV+p+I9aiPlFCItVsk6P9BhGlM4HGbDhg1s2HBuGcP8/DxjY2M5QY3x8fGKBzUymUz2+B4R4WWhHs4GVzHT2ctkqI94aBUzKg1V7Cu/loY3oPqXn/iDhLY/9spYBkvr2RRRJtPa8D9TN2hxusyX7QSuAvaLyD637f3ArTjZHHvcCfdeVX17pfpqTLVUcwzzLqrlX1n35o/5QY16bANbL4sFNUZGRnLmaJX+TBKJRHY5sse/Q52XsRGN1nYeU2jHOf9FJS9QZkGNymqGeVgjFMwvOz9IRLbgFMrq8berasMW8WwFS1Wy9tiyleYRCoVYt24d69aty7al0+kFQY1qXAVQVbrnJulmEhLODigKxIMxNq8b4Gc/W8v8/Dxzc3OEw1XdIbksxQZU7/9GMBjkRRvD7NpSmzS7VmMZLK3nqs3z3HI03LA/UxFZi7PD2YtxMjCyVHXRAU9V78PZzj3ftyrWQWNqbNeWaE2D7ovNL/N3ScnfCraVFQtqjI2NLcjUqPTcutAOddFoNFsg1LvVOqiRf1EJWHBRqVa7zrWqZpiHNcJy47ICGCLyezgTjTGc2hcepYF3IWkn5S5bKbZcpV2i7o0mGAyyZs0a1qxZk23Lr6xdrT3QBViVniJ+YoofnjgMwI9//GNWrVqVU1Ojv7+fzs7Oir73Snj/jv1BDf+EzD+wmsW1awZLJVIh651OWcyl/Rk2be5tyL65bgU2Am8F/hm4Engv8KV6dsoYs3CXlHz5wQ3/8pRWVGiO5gU1RkZGGB0dZWRkpCrZtIlEgqNHj3L06NFsW1dXV05Aox5BDW/pr7eVq4jkXFhKp9OoqmVqlKgZ5mGNsMyl3AyMDwKXq+q/V6MzpvrKWbZSbLmKl7bfyjutNJJi24VNTk4uCGr4v8RXyuTkJJOTkxw6dCjbFovFFgQ1aj1oLmaxIqF2pWBxtb76V2+VSIVshHTKxTT4z/RFwIWqelpEMqr6TRHZD/wL8Nd17psxZhGLLUvxghn+WyvOGQsFNVKp1IJMjWoENWZmZpiZmWmooIb/Zw9O4GV8fHzB3KtSRUJbUYOP2Q2xzKXcfz1B4NvV6IhpPMWyOaLRKL29vcC5X1S2ZKW2AoEAfX199PX1sX37dsD5WUxOTi4oFpq/J3gleFuRHTlyJNsW7IxyJriKk/QgsdW87GkbeMG21Q0TdfcHNfxXCryBNJVKkU6nLajRZiqRCtkI6ZRNLAR4VYcTItKtqkdE5Kn17JQxZvn8BSD9/Fka/lu++08muf3RGY5Pp9nUHeTqC7rYvOBZjaujo4O1a9eydu25VXH1DGp0d3dndz3xghqRSHV3m8tX6Gdd6KJSo8wZTXGNsMyl3ADGZ3F2HLmtCn0xTcgbpIpZbMmK/74FOlZOROjt7aW3t5fzzjsPcD7/6enpnAFzdHSUZDK5xNHKl55N0E+Cfv5fe3ceJ1la1/n+84stIzIj96quvSub7moGsRXQ4fZMv0AEWkUFR229qAMIouhVe9rRRsSN69zxQrfK0HjFhbUREJVF7igDpSiLcwuwsXu6oZeq6q7qWrMq94zcI+K5f5w4URGREZkRmSe2E9/365WvjDwZGed54kTEefJ3fs/vmYRlOHMFziX62L93T1m2xsDAQMecoEqDGqurqywsLGzK1IjFYg0v5yrdI4hUyE5Ip+xiTwDPw1um/SHgzWY2D0xu+Vci0nX8C2OV01FKp6D84/klfvehZZKWZzhhTK/muOfBRX7yQISJ9jQ7EFsFNZ544gmcc0xPTzM/Px/4mHhpaYmlpaVNQY3KTI12BTVUU6O7dMI0l0YDGG8DvmxmdwGXSn/hnPuuwFoloVHvlJXt6nEo0LEzZkY6nSadTnP06FHA+6d9eXm5LEtjenqalZWVwPefW1/btGRYIpEom3oyPj7O4OBgRwY1/EwNVd4OryBSITshnbKLvRlvxRCAX8ergzEI/EzbWiQiLVVaZ+OPTi6STQyQj0VYdnkisTz5jQ0+dtVxR6GmQlj4QY2lpSUmJiYAL6hROT5rZlCjNJN2YGBgU6HQVtc8q5UpW/mlMVh7tXuaS6MBjD8HsngVvrW2ugRmu+KjvmrZG9V+ltrMjIGBAQYGBjhy5Ehx+8rKSjFDY3p6msnJyeIJJEjr6+tcunSJS5euxUDj8XgxmOF/Hxoa6pjMh2qVt6sVCdUJtfsEkQrZCemU3co597mS2w8AN7exOSLSZqUZbc4i5CxCNBHlqaUIQ0NDAFWLhoZl2ddYLLZphbqNjY2y6SdTU1MsLCw0Lahx9uzZ4rZ0Or0pU6OVQY1qNc3g2oUlvy6fsjV6S6MBjBcBR5xzs01oi8i2drOcbGWwQ8qlUikOHz7M4cOHAThz5gwHDhzYdCVgcXEx8H1vbGwwOTnJ5OS1rPFYLMbo6GjZ9JORkZGOCWpoPmc4BJEK2QnplN3MzIaB7wMOO+fuMbP9QMQ5d7HNTRORFquV0XYwee2f9XpXRqlWp60bxePxLYMaU1NTxUyNoPk1zzopqAHXLixVqpat0SnjRglOowGMs0B3vvulp9SznGzpSa00mq9pKtf09fVx4MABDhw4UNy2vr6+qVDo/PwC3mrKwclms1y9epWrV68Wt0UiEUZHR8umoIyOjnZM1L3afM7SKwOlX9I5gkiFbHc6Zbcys+cBn8GblnoDcA/wLcAbgB9uY9NEpA1qZbS96kh9q6zVWhnFV3lxq1sDHLWCGtWmnwStVlCjcvpJIpEIfN/bqXZxSdNQwmcnNTA+YGa/A1wu/cVWV0rM7AhwP7AfLwDyp865d5jZjwBvAZ4FPN859y8NtkdkR7YqPlqtSrY+5K5JJBLs37+f/fv3F7dtbGzw+VOTfPH0JJGlWfbmFxnYWISAg0H5fL54UvaZWVmmhr/kbKcs0eUPikqXuK1cJ11TUKSHvQN4o3PufWbmZ3f+T+B9bWyTiLRJrYy2iZVgsj+3usDlZ+qWTk2ptVJKJ4rH4+zbt499+/YVt/lBjampqeL3hYWFwPftBzXOnDlT3DY4OEgymSSTybQ1qFFrGoqyZrtXoyP89xe+v4Jrl1utcHurS4pZ4Jedc18zs0HgATM7DjwC/BDwJw22Q6RpqlXJHhgYYGhoaMvlYns5cyMej/PSZx3mpc86XNyWy+XK5mzOzMwwOzsb+BUO51wxI+TUqVPAtRVZKutqVEs3bYfKddJ9pUGN0ts6oUqIPZtrYwsH4JzLmNlA21okIm1VLaPt5Mnm77fWNOXSrN3Si1vdkLFRK6hRmqUxPT3dlKDG4uIii4uLZZm0g4ODxWDGnj3eKnXtCGpA9azZyqkn/lhM47DO0mgA44ad7MQ5d4nCqiXOuUUzexQ45Jw7DuhFIV1hu9R/P4hRq7hot5zsghKNRtmzZw979uwpbsvn88zNzZUFNWZmZgK/uuGcY25ujrm5OZ588sni9qGhobKaGmNjYy2ft7mVatkaoMCGhNpV4Hq8KaoAmNlNwIWafyEi0kK1snZLMzb879lstuPHevF4fFMmrT89uFVBjdJMjaGhobKpJ50Q1KhUmjkbiUTY2Nggm81qLNYmDQUwnHNnt7uPmT3snLtli99PAM8FvtzIvk+2IvS6C53evqB1Sn//50yED16Ic3HVOJh0vOrQBv9+rDknjiD6XBrkqFwuthOzOEpPMEEqPXn6y7pmMhkWFxeLaYjNSNlcWFhgYWGhrF/JZLK41OzMzAzpdLptJ85G+SdU/7v/ZWZ1n1A75b3cbNc+K5IcfPjppn5WdJpmH+Njx47t5s8/APyFmd0NmJl9G/D7wJ8F0TYR6R7Hz690VTHk7TI2KqeidHJgo9r0YD+o4RcJbVYhd39s9tRTTxW3xQcGucgQF22IaHqUVzx7Py84PBj4vutVmTm7trZWfC5U66z1mjFJfKLWL8wsDXwMuMs511BYb5cDpKY6efJkR7cvaJ3S3+PnV3j7uXkSEdg7YCzkHG8/l+DgoeHAT3it6nPllJRq2RytOgGeOXOmuC55qznnWFhYKLsaMDMzU7Xi9G6trq6yurrK1NRUcVt/f3/Z1JPx8XFSqVRXRdmrVeGuPKF2ynu52Uo/K4Zi6yyQaNpnRafpgmP8NiCNtzx7GvhHvLoY97WzUSLSWsfPr3D3Ce9zejRhTK7kuPvEPPfeStd9TvsZG5VZG5U1Njq9vkatoEbl9JOmrE63tMheFtnLBcjA6ctwbmCQI/v2lo3NOmFqcK1aZyoc2jzNCGBUvYRsZnG84MWHnHMfb8J+pcfc93CGRAT6Y14xpv6YQTbPfQ9nuu5k59tu9RRftSJT3VZBeyt+DYvh4WFuuMGbueacI5PJbApqrK6uBr7/5eVllpeXOXfuXHFbMpncFNQYGBjo2JNRrUrcpVcK/BTIel933ar0s2ItV/jM6PLPijAw780zDvyGc+7NZrbHOTe13d+JSPiEcUxXqVbGxsDAAIODg12RsZFIJKquTlca0JiamiKTyQS6X8MLajz55GLZ1ODh4eFN0086IaixXeFQFXDfnZaU6S8MUt4DPOqc+4NW7FPC72wmx2ii/E2fihpnM50bzQ5KtUKjQNVsjdITYadNUWmEmTE4OMjg4CBHjx4FKE4/8YMZ/slzZWUl8P2vrq5y4cIFLly4NjW/r69vU6HQwcHBjj0ZbZUCCRSXniud5xmGk2svf1Z0OMOrfTEI5BW8kErdNqVAdq6XP6e3ytgovUBVGuDopPFctaDG2toa09PTnDp1qriCXNBBDYD5+Xnm5+erBjX8ZV1HR0c7IqgB1S8uqc5Z41q1zuBtwKuAh83swcK2NwN9wDuBvcDfmtmDzrnvblGbpMsdTUeZXMl5UfqClZzjaLp3553Viu77qq173ukpjFsxMwYGBhgYGOD6668vbl9ZWSkLaszMzDTlxLm2tsalS5e4dOlScVs8Ht8U1BgaGuqKDId8Pl91mk7lMmPddmLVZ0Vncs7lzexJYBSvmKdIUZimFMj29Dm9Wa3ioXBtPJfNZjuyeGhfXx8HDx5kfX29OB15dXV1U6HQVgQ1/Kze0kyNTgpq1Crg7o/pSy8qheXC0m61JIDhnPsS3pWWaj7RijZIZwjyasqdt6S5+8Q8ZPOkosZKzrGe97ZLdf6HX7UTYuWczG7+cEylUhw+fJjDh68t61p64vS/N2Xe5sYGk5OTTE5OFrfFYjFGR0fLUhxHRka6IqgB1a8YdFMaZOlnRcTBcjavz4rO8fvAh83sLXjZGMURuHPu4lZ/aGZHgPuB/YW/+1Pn3DvM7EeAtwDPAp7vnPuX5jRdmqkZUwr8Mcjp2SQ3nrqqjI4OojFdY6qN5/yAhh/UyOVyHZWpkUwmOXjwIAcPHixuW11dLY7LHr9whenpaZLZYLNoS1emO336NFA9qDE2NlYzYNQO/jSUaiqzNioLuYddM47S0014TAmBoK+m3H44xb23ovTSgFRmbgwMDDA8PFx2IuzUOZn1qHbiLF027Omnn2ZtbY35+fnA953NZrl69WrZWuiRSKQsqDE+Ps7IyEjXVK6ulQZZLRWy3YGa0s+K07PGjYP6rOgg7y58fwnXamhZ4fZ2b4Ys8MvOua+Z2SDwgJkdBx4Bfgj4kya0V1ok6CkFpWOQoZhTRkeH0Zhu9yKRCIlEomwlNT87o3Qc12lBjUOHDnEmOs4HL+wnvhcG2cCW50itzrE/v8C+/AJ9udYENUZGRorZs3v27GF0dLSjghq+WlkbQFkwI6yZGw0dETN71Dn3rCrbi0unOue+OajGSbg042rK7YdTOrk1kX8yLFVtTmarV0gJSmmF7YGBASYmJtjY2GB2drasUOjc3FzgJ3x/Tuj09HRxm5kVgxr+CbRTT57VlKa0Vqq8SlD6cytOqP5nhbcqx5Gm70/qdsNO/9A5dwm4VLi9aGaPAoecc8eB0AzUelXQUwpUzLfzaUwXvGrTiiszbjvh4tT9TywTj0AyGmGDPhjcx0L/XrLJKL/5wrFipkbp19LSUqBtcM4xOzvL7OzspqBG5fSTTrbVeDws01IaHRUfbnC7SFEvF2gKk63mZAJlFbQ7teDUVuLxONdddx3XXXddcVsul9sU1JidnQ38hO+cY2ZmhpmZmeI2P82xdPWTTqmy3Yitaq1UBjVKMzgk3JxzZ7e7T+lFki3uMwE8F/hyI/s/efJkI3dv2mN0qnb27Y6xCPecTrAecSQjsJqHjbxxx6ElTp6ca/jxTs8mGYo51gofQ2trq0QcnJ61UB3DMPWlkvrWPKVF4INe2e7MmTPb3ufcfB/pmGO9ZJgQAc7NZ8v+fmhoiKGhIW644QbW19fJZDIsLi6yuLhIJpNhbW0tkDb7SoMap06dKm4fGBjg8ccfJ51OMzg4SDqd7voxi39BKRKJ8I1vfKN428zaEtzYagn4ugIYZvZm//4lt303AecQ2YYKNPUG/5/Pyn+waxUQ7YbgRjQaZc+ePezZs6e4LZfLMTc3Vwxo+F9BF0QtTXMsrbI9NDRUlqkxNjZGX19foPtulVqZG6VFaSsDHNJTJrb6pZml8ZZpv8s5t9DIA281QKqHl9Gzu8foVO3u2zHg4KGSulnDu5tScOOpq4UxSIS1tVX6+pIsZ/PcOBgNTVZWu49ZM6lvrefXYCidhtJoUOPMmTPFIp5bOfL0DNOrOZLRa0GA1VyeIwNRJiYObPGX5fwi7qVfy8vLDbW5HktLS2UZINUyaMfGxrpyvFLtmFXL2GjneKzeDIzbC9/jJbfBK5p1GXhdkI2ScFKBpt62VQFRf1pK6fSUoK8ABC0ajRYzInz5fJ75+fmyKtszMzM1izDtxsLCAgsLCzz11FPFbel0uixLY3x8nGQyGfi+W6XWOupA1ROpghuhVTPCaWZxvODFh5xzH29dk6QVgpxSoGK+Io0xM+LxeNkFqcqVT4Ia37z65n7ueXARyJOMGqs5x0be296IakXcS4MaU1NTTE9Ps7ISfE2NygxazMjEB7kSGcYNjPAdx/bzopv2ceLqBvc/sczFpRwHB6K8+uZ+btvf/rHaP19e5f4nljk338eRp2fK2rXVeLzWhaZmZm3UFcBwzn0ngJm90zn3i01rjYSaCjRJLaXTUiozN/ygRuVXJ2Zt+IU5R0dHufHGGwGv/QsLC5uCGtWWK92tTCZDJpPh7NlrWfn9/f2bghqpVKqr5jpWs92UlGqVubs9vVPKmfcifg/wqHPuD9rdHulsKuYrsnuVtdH8MVppodCdZNbetj/JG59DU/6xrxbUWF5e3pSpEXRQA+dIry+QZgFWz3F++mE++GVjLjrIofgwI33DTOWH+b1/XYfnjrQ1iPHPl1e558FF4hFIxxzTqznueXCRNz6HbdtVazxWGdAIsrB7ozUw7jOz/c65y/4GM9sHDDrnTm3xdyKACjRJ4/zgRmXmRuVVgE4Navg1LIaHh7nhBq9eoXOOTCZTtqTr9PR04HM3wTtJLy8vc+7ctZl+yWSS8fHxYoR8fHycgYGBrg9q+La6UpDJZJifny/O7SwtJOpfRQjL89ADbgNeBTxsZg8Wtr0Z6APeCewF/tbMHnTOfXeb2igdRMV8RYK11Rgtl8uRSCSIx+N1TT+5bX+yZf/E9/f309/fz5Ej1z4HWhHUMOcYzS4wml2AFW9clsd48B+HiEzsa9uqdKVFVNdzFKby5Ln/ieUdH5OtxmKV46/KIu/bjcMaDWB8GHgt3rQR317gvcDzG3wsEZEdq7ZCSmlKYzab7djpJ2bG4OAgg4ODxXmGzrniybM0qBH4FQG8ddcvXLgAwNNPeytf9/X1bSoUOjg42PH/zPspj41csfFfF/UWFe2mKt3Hz6+UZbndMRah82ZWB8M59yW8JVer+UQr2yIiItf4581EIkE67U3T8i88+V9B1wzbrXqCGlNTU6yurga63wiO9Po8Tzwxf21bIaO3dPWTZgY1Li7lGK5YaCEZNS4uNecYbTdFPBKJMDw8XPP3jQYwbnbOPVKx7evAzQ0+johI4Pwr6H4xy9ICVKVfncjMGBgYYGBggOuvv764vXTuph/YCHrpMIC1tTUuXbrEpUuXitvi8fimglRDQ0MdMxWjNOVxOGENpTxuZavlYCuvFHTSNJXj51e4+8Q8iQiMJozJlRz3nE5w8NBKt2e+Pd3uBoiIyO74AQ3/4lPp9JOdFglttsqghn+x6dFHHyUajRbHZ0EHNfL5fPGxfZVBjT179jAyMhLIuOPgQLRQRPVaEGM15zg40J66Ytu9DhoNYMyZ2R7n3FTJtj1A8KNpEZFdqlaAqrSmRmlwo1NVm7u5urpaDGb43xcXFwPf98bGBpcvX+by5WtJd7FYjLGxsbJsjeHh4bb8416a8ggUTry7S3ncTunrp5btAhzNyuK47+EMiQj0x7znoz9mrEcc9z2c6dgAhpk96px7VpXtxaVTnXPf3PqWiYhIM1WbfuJPPSkNanTS9GD/YtOePXuqZtD6X5evTpFbD3ZacK2gRul4zM/UaHRMVlpENYK3AoxfRHUnma7N1mgA4zjwLjN7rXMuU1i67J3AZ4NvmohI8EpPmKWZGqlUilQqVTxxdtpVgFLJZJKDBw9y8OBBwMtE+PtH51ldmOX6yCK39C0RXZ5jfn5+m0dqXDab5cqVK1y5cqW4LRqNMjo6WnYSbcX8zVanPNZru9TIZmVxnM3kGK18PiLe9g52uMHtIiISUv450L/wVJmlkc1mOyqgAdUzaJ1zfP7MLJ957BIuM8t+t8B4doH8RvBBjampKaamruUW+GOyRoIapUVUz81nOVIIVABNyXTdrUYDGG8CPgVMm9kVYB/wAPDyoBsmItIqfgHH0iVHS68ClFbW7jTXplFESKb38EhunH/NwxtvHeT7xqPMzs6WTUGZm5sL/OSfy+U2nUAjkQgjIyNlU1BGR0erLqO7U52W8livZmVxHE1HmVzJ0R8reT7ycHS4854PM3tz4Was5LbvJuAcIiLS06plaXRDvTMz40U3jPGiG8aK25xzLC0tbSreqorPAAAgAElEQVQUGnQB92pjsmg0uilTozJ71i+ieubMGSYmDgDwhi/MtDzTtR4NjSSdc1Nmdhvw7cAEcMY599VmNExEpJ0qrwLAtaBGaWCjmSfOetL2tpxG8cIxrrvuOq677rri/bPZLLOzs8zMzHD27FnW1taYm5sLvB/5fH7Tmuj+iiyVdTUql86tV1DrxneiegpcVRYb/YVnp/jVL3vPRypqrOQcG3njzlvSrWt4/W4vfI+X3AbI4xUKf13LWyQiIh2vst5ZN61Kl06nSafTHD16FNgc1JiammJmZqYpQY2rV69y9erV4rZaQY1SnZrp2lAAo7Dm+uuBl+CtPmL+VSDn3IsDb52ISAepFdRoxomz3gKVjZ5cYrEYe/fuZe/evfT19TExMUEul2Nubq6srsbMzEzgtUGcc8zNzTE3N8fp06eL24eGhsqCGuPj45tWmKmmmevGd7pqAY7nD8L/9c3wgSdWOLfiODwQ5+X7Mrxo335yuVxT6280yjn3nQBm9k7n3C+2uz0iItKdqq1KVzou69QsDdg6qDE1NVUMbExenSafXQ9039WCGrFYjP7+fiYnJ9mzZw83xmOcz6ZIxq5lcnZCpmujubz/Fe+qyAfxpo38Ed4a7B8OuF0iIl2h1nKuGxsbxe87CWjUW6AyiGkU0Wi0GDg4dsxbdDOfzzM/P1+2pOvMzEzVlTl2a2FhgYWFBZ566qnitnQ6Xbak6/j4eNkUH18r143vBpXPx5kzU2QymeLP1aaiVN5ucZDjPjPb75wrVoo1s33AoHPuVCsbIiKeyuWY77wl3bGFgDuZnsf2qax1VjktuBNrafhKgxp+odA3fH6alaUMe3ILDG3MM7Q+z+D6HAkX7Jgsm80Wx2QAzwVuIcpCfIhM3zDT0WGmYkO86pb9ge63UY0GMH4c+G7n3ENm9tPOubvN7GPAG5vQNhGRruSnN/r8QEYjBajqzaxo1jQKf7mu0dFRbrzxRsAbACwuLm5a1nVjY2NX+6omk8mQyWQ4e/ZscdvAwEDZ1JPx8XH6+7t/ukgrbTc1BSgGMaLRaFlQozLgEZAPA6/Fmzbi2wu8F3h+UDsRkfpUW4757hPz3Hsr+ue7AXoeO0u1DNrK1U46eUW6i8t5hvsGuEKaK3gF3HF5sitLvPUWitkaT09OBR7UiJFjbGOWsY1Zri9sO/u5GIsV00+GhoZatiJdowGMMefcQ4XbWTOLOudOmNl3Bt0wEZGwqAxo+CdMP6hRTb2ZFa2cRhGJRBgeHmZ4eJhnPOMZgJfqmMlkNgU1gp6/CbC0tMTS0hLnzl2r75hKpTYFNQYGBjpmqkQ38gMc2w3m/IDG0NDQbnZ3s3PukYptXwdu3s2DisjOVFuOmWy+o5dj7kR6HjtfZS0N51xZcdBmZJzuVNUxYR7Gh4eYmBiryNRYZG9ukaH1OYY25hlcnyfehEyNyhXpYrFYcRy2Z8+eYlCjGeOxRgMYF8zseufc08CTwMvMbAoI/vKbiEhI+amNyWSy5hJhjWRWtHMahZkxODjI4OBg1TXRS6egrKysBL7/lZUVLly4wIULF4rb+vr6yuppjI2NMTg4qKBGwAKaUzxnZnucc1Ml2/YAS0E8uIg0ptpyzKmodfpyzB1Hz2P3MTPi8XjZEq6lY7N2Fgetd0z46mcOcM+DeZZjAyT7D3j3yznuutmYiGTKVj8JOnu2WlAjHo9vKhQaRFCj0QDGu4BvA54G3g58EjDgt7f6IzM7AtwP7MerMP6nzrl3mNkY8FEKK5oAP+qcm22wTSIiXavWEmG39/cTjSd47zcWuLSU5WB/9xSorLYmOsDy8vKmmhpLS8H/n7q2tsalS5e4dOlScVs8Hmd8fJxYLEY+n2d8fJzBwcGWpTtKTceBd5nZa51zGTNLA+8EPtvmdon0pGrLMa/kHEfTnbcccyfT89j9KgMaQHGqSTweJxKJtKw4aL3Ztlvfby833HAD4AVnFhYWygIaMzMzgQc1NjY2mJycZHJysrgtiKBGo8uo3ldy+yNm9kUg7Zx7bJs/zQK/7Jz7mpkNAg+Y2XHgJ4F/cM691czeBLwJ+NVG2iQiEjZ+WuPLburjZTeNl10F8IuDdqP+/n76+/s5fPhwcdvq6uqmTI3SopNB2djY4PJlr8zC+fPngWvpjqUn0sp10aXp3gR8Cpg2syvAPuABvELhItJid96S5u4T85C9thzzep5OXY65Y+l5DKfSaSfDw8Pk8/myGmfNDGjUm21bz/38Ze0rpwQvLCzw2GOPEYlEimOyoKfS1Apq+Bmz/vST0dHRmo/RaAZGGefc+Trvdwm4VLi9aGaPAoeAHwBeVLjbB4B/QgEMEZEypVcBUqlUMaCxsbHBxsZGxy4Ptp1/vrxauEqQ4ODAIV79b47xw/uTrK+vb8rUmJ+fD3z/1dIdo9Eoo6OjxaDGOdL81aU4F5bpqWVaW8U5N2VmtwHfTiEb0zn31fa2SqR33X44xb23otUzdknPY2+IRCL09fWVrXZSOe2kW/hBjX379pVNCfYzNfxCoc1Ykc6/yORfaAK46667at5/VwGMnTCzCbxVWb4M7CsEN3DOXTKz62r93cmTJ1vSvp3q9PYFrdf6C+pzL+jW/vrLg+VyubpWmSh15syZ5jVsC/86H+HdT8eJRRypCFxe3OB3v7rG66/f4LnDXvtLp6HkcjkymQyLi4vFFUqaMf0kl8sxNTXF1NS1kgz/G8ZiLM3s/CAfnRzm4qEUz9vXX1aYtZM1+xhvdZVkO+bljL4eeAne6iPmp5E6514cRPtEpDG3H07pH+0A6HnsPZFIhEQiQSKRACirc+Z/76aLTtUyNfL5fNXpJ60setrSAEZhbuvHgLuccwuNzHU5duxY09q1WydPnuzo9gWt1/oL6nMvCFN/K4uC1jpZnjlzphhlb7X/+wszpPpyJKPedI0EsJrL8z/m+/jBbx2r6zGy2Syzs7NlU1Dm5uYCHxxEcAxnFxnOLjLBRZZPwj+fMkZGRspWQBkbGyubK9sJ2nmM6/RfgdcBH8SbNvJHwKvwllcV6VrHz6/o6nsL6HmWTrPda7LeMVqnikQijIyMMDIywo033gi0PqjRsgCGmcXxghcfcs59vLB50swOFLIvDgBXaj+CSHcLw0k2DH3oBZVLg/kpjf48zXpPltemeAS/POvFpRzDFRXak1Hj4lL96ZaxWIy9e/eyd+/e4rZcLsfc3FxZUGN2djbwNE7nHLOzs8zOznL69Oni9uHh4U3LuvpXYqSqHwe+2zn3kJn9tHPubjP7GPDGdjdMZKeOn1/h7hPzJCIwmjAmV3LcfWKee29F58wA6XmWTlPPa7JyjNbtAQ2oHdSYn59nZmambPpJEOOxlgQwCvmg7wEedc79QcmvPgW8Bnhr4fvftKI9Iq0WhpNsGPrQqypTGv0pJ4lEglgsVnVpsH++vMo9Dy4Sj8BwwphezXHPg4u88TkEEsSouqZ5znFwYHfTMqLRaLEgp6/0JPrUU0+xsbHRtCsD8/PzzM/P89RTTxW3pdPpsiVdx8fHSSZVR6NgzDn3UOF21syizrkTZvad2/2hVjiTTnXfwxkSEeiPeRlm/TGDbJ77Hs7ofBkgPc/SaXbymgxjQAO8sefo6Cijo6ObghqVmRqNBjValYFxG15K6MNm9mBh25vxAhd/aWY/hbc064+0qD0iLRWGk2wY+iCeSCRSDGoMDg4ClBWcymaz3P/EMvEIxSkeXqAhz/1PLAcSwKh3TfMglJ5Eo9EoExMT5PN5FhcXy06gzVgXHSjW7Dh79mxx28DAQNnqJ2NjY/T3B9/3LnDBzK53zj0NPAm8zMymgHoOhFY4k450NpNjtCLDLBU1zma6p6BfN9DzLJ0miNdkrSzabiwMWql0PHbTTTcBtYMaW2lJAMM59yWgVsGLl7SiDSLtFIaTbBj6ILXFYjFisWunhMfXltiTyJN1OaIuiznX8BSPrdS7pnmzRCKRqkuILS4ulq2AMjk1TX5jPfD9Ly0tsbS0xLlz54rbUqlUWZbG+Pg4/f39Da2N3oXeBXwb3kWMtwOfxBsv/PZ2f6gVzqRTHU1HmVzJeYH+gpWc42i6Owr/dgs9z9JpmvGarFYY1A9mbGxsdHVAA2oHNbbS8lVIRHpRGE6yYeiD1O/6wXjheHsnzEjeO1EeSAeXyljvmuatYmYMDQ0xNDRUtoTY0tJSWVBjenqa1dXVwPe/srLC+fPnOX/+2grlfX19m4Ia6XQ6NEEN59x9Jbc/YmZfBNLOuccaeZx2rnDWrasX1UN925k7xiLcczrBesSRjMBqHjbyxh2Hljh5cq5p+4XeOmbtfJ6D1kvHLSyq9asdr0l/pZPS1eh2q10r1JUqnQpcSQEMkRa485Y0d5+Yh2yeVNRYyTnW8972bhGGPkj9Ko93Jh9h3fr4recNMzKSDFX0fytmRjqdJp1Oc/311xe3Ly8vlwU1ZmZmmrKs69raGhcvXuTixYvFbYlEorjqiR/UGBoaCkVQwzl3fvt7lWvnCmdhWr2okvq2c8eAg4dKil4Pt6boda8ds3Y9z0HrteMWBrX61QmvyXw+XyzavpMaGl2wepkCGCKtcPvhFPfeSlev4BGGPkj9tjve8XiceDxOKpXq+nXOd6K/v5/+/n4OHz5c3La6ulpWT2N6eppMJhP4vtfX17l8+TKXL18ubovFYptWPxkeHg58351GK5xJp7r9cErnxxbQ8yylOmG1vHa/JiORCH19fWVFQUsDGpVF27uRAhgiLdLuD7QghKEPUr96j7eZbaqhsdOlW7tZMpnk0KFDHDp0qLhtbW2NmZmZsqDGwsJC4PvOZrNcuXKFK1eu/a8ejUbp7+/n8uXLxaDGyMgI0Wg4pn1phTMREfFptbzq/KKgvtIM2masxtYKCmCIiEjgKotOhWVZsEb19fVx4MABDhw4UNzmL+Namq0xPz8f+FWRXC7H4uIijz/+eHGbv1Z7aabG6OhoWfCpi2iFMxERAbRaXr38C07JZLJYENQPZnTLlOCuHLGIiEh3qbUsWGlgo1fE43H27dvHvn37ituy2Syzs7NlQY25ubnAAz35fL6YEeIzM0ZGRsqmoIyNjRGPxwPdd9C0wpmISDA6YerFbtWzWl4Y+hkkMytOCQZvjJBMJkkkEh19sUkBDBERaTk/Q8NXWkcjTPM06xWLxdi7dy979+4tbsvlcszNzZUVCp2ZmQl8QOGcY3Z2ltnZWU6fPl3cPjw8XFYodGxsrOyYiYhI9wvL1IvtVssLSz+bKRKJEIvFGBgYAMqzZzc2NjpmXKYAhpRRZLJ+eq52R8+flPLraPzj5Q3ue3iFs4tZbhiAn/03fdy2N9Y1aY1BikajxeCBL5/PMz8/vymo0YwMlvn5eebn53nqqaeK2wYHB8umn4yNjQW+XxFpPZ2Te1dYpl5st1peWPrZSpXZs35BUP97uwIaCmBIkSKT9dNztTt6/qSastdFX4RLa45f+9d17r01xYsPDLC+vs76+nrHpjS2QiQSYXR0lNHRUW666SbAC2osLi6WBTWmp6fZ2NgIfP+Li4ssLi6WrRF/1113Bb4fEWkdnZN7Wz1TL7rBdqunhaWf7VStIOjGxkYxqNEqCmBIkSKT9dNztTt6/qSarV8Xe0mlUqRSKTY2NlhfX++odMZ2ikQiDA8PMzw8zDOe8QzAmxayuLjIY489RjQaLQY21tbW2txaEek0Oif3tu2mXnSTrVZPC1M/O4VfEDSVSrV09TkFMKRIkcn6BfVc9WrKpl5rUk29r4vSglOlJ8teKgS6HTNjaGiI6667jomJCcALaiwtLW3K1FhdXW1vY0WkrXRO7m3bTb0Ii17pZ7tstfpc0BecFMCQIkUm6xfEc9XLKZt6rUk1O3ld+NF/8P5B96eZKJixmZmRTqdJp9McPXq0uH15ebksoDE9Pc3y8nIbWyoiraRzcm/bbupFWPRKPztFZf2M0mDGbsdoCmBIkSKT9QviudptymY3Z2/otdYdWv0a2+3rwszo6+ujr6+PfD5fDGb0YgHQRvT399Pf38+RI0eK21ZWVooFQv2gRiaTaWMrRaRZdE6WraZehEmv9LMT+ReckskkzrmygEaj4zQFMKRIkcn6BfFc7SZls9uzN/Ra63zteI0F+bqIRCIkk0mSyWSxWvbGxgZmtv0fC6lUikOHDnHo0KHitrW1tWJAw/++sLDQxlaKSBB0ThaRVjKz4nRgv36GP06rpwC5AhhSRpHJ+u32udpNymYYCm7ptdbZ2vUaa8brwk9jTCaT9Pf3MzAw0JIiU2HT19fHgQMHOHDgQHFbM1Y6EZHW0zlZRNolEokUM2idc9uOLSItapeIVLjzljTreVjO5nHOsZzN152yeTaTIxVVwS1pnrC+xsyMRCLBwMAAw8PDDA0N0d/fTzweV3bGDvjFVEVERER2yx+nbUUBDJE28VI2h9mXijK77tiXinLvrcN1XQE5mo6ykiuv5quCWxKkXnmN+QWm0uk0IyMjDA4OkkqlioVBRURERKRztGSEZmbvBb4fuOKc++bCtm8F/hhIA2eAn3DOaTKt9JSdpmyq4JY0W6++xiqLTPn1M7LZLLlcLtBlwEREWq2bC4CLiEDrMjDeD3xPxbZ3A29yzt0CfAK4u0VtEel6u8nekHA4fn6Fl3/6Kt/yV5d5+aevcvz8SqCPr9eYl8YYi8VIpVIMDg4yPDxczNDQlBMR6TZ+cebJlVxZceagzx8iIs3UkgwM59wXzGyiYvMzgS8Ubh8HPgP8ZivaIxIGKrjVu1q1QoheY+X8gEbp9JJcLldcCkxFQUWkk4WhALiISDtrYDwCvKJw+0eAI1vcV0RECkoHoWZGfyxCIuJtl9bya2hUFgVNJBJEIiozJSKd4fj5Fb5ydZ2nFnOcms8yv+YVZA5DcWYR6S3trFL2OuA+M/st4FPA+lZ3PnnyZEsatVOd3r6g9Vp/QX3uBd3S39OzSYZijrWSMWfEwelZa7gP3dLnILWyz/l8nlwuRy6XI5/PtyVD48yZM019/NHR0aY+vojsjp+1FwEcsJF3XFj26vnEoxa64swiEm5tC2A45x4DvgvAzG4Gvm+r+x87dqwVzdqRkydPdnT7gtZr/QX1uRd0U39vPHWVyZVcMQ0YvOV4bxyMcuxY/cls3dTnoLS7z6VFQbPZbNOLgp45c4aJiYmm7qNdVCBcpD5+1t6B/ijnl3JgYA4ur+TZ1x8NfXFmEQmXtuW3mtl1he8R4DfwBhwiu9bs4oYiOxXUa/POW9Ks572ghXOO5Wy+J1YICYNoNEoymSSdTheLgiaTSU032Zn3owLhIts6m8mRihpDiQiHB6LEzcg7yDt6rjiziHS/loyYzOwjwP8HPNPMzpvZTwE/ZmZPAI8BF4H3taItEm6qsC2dKsjXplYICYfSVU78+hmpVKqsSKjU5pz7AjBTsbmyQPgPt7RRIh3oaDrKSs7L9hpKRLhpOMYNQ1Gef11C5w0R6TqtWoXkx2r86h2t2L/0DlXYlk4V9GtTK4SETzQaLWZoOOfY2NgoTjfR6iZ18wuE/w11FAgPoh5KmOvIqG/dp1q/7hiLcM/pBOsRRzICq3nYyBt3HFri5Mm5NrRyZ8J6zEB960Zh7Rd0Rt+2mu6ryzwSKmcz3tXtUqqwLZ1Ar01phJmRSCRIJBIAxZoZfkBDamqoQPhu66G0u6ZKM6lv3adWv44BBw+tcN/DGc5mchwd9upedFMQPKzHDNS3bhTWfkF39E0BDAmVo+loobjhtX8UV3JOFbal7fTalN2IxWLEYrFidoYf0PC/xNNogXCRXqGsPZFwO36+JEiZ7r4gZSNUNUxCpd7ihir0Ka2mwpsSFDMjHo+TSqUYHBxkZGSEdDpNMpns+foZKhAuIiK9ptdqACqAIaFST3HDXnuTS2dQ4U1plloBjb6+vlCvbqIC4SIiIuV11syM/liERMTbHka9falGQmm7NEkV+pR2UQqvtIIf0IjH4/T39zM8PMz6+nqxhkZYqEC4iIhI79VZUwBDek6vvclFpLdFIhGSySSAVjcREREJmV6rsxbe3FKRGkrXQ/eF+U0uIuLzVzcZGBhgeHiYoaEhUqkU8Xi83U0TERGRHei1OmsKYEjP6bU3uYhILdFolGQySTqdLisGGo0qoCsiItINeq3OmqaQSM/x3uT0zFJD0ltLS4nsVGntjFQqVZxu4tfO0HQTERGRztRLddYUwJCe1Etv8l7nrzqTiFC26sy9t6LXgMgW/OkmiUQCgFwuRzabLQY0nHPbPIKIiIhIsBTAEJFQ06ozIsGIRqNEo1H6+voAisEMERERkVZRAENEQk2rzog0RywWIxbTMEJERERaR0U8RSTUtOqMiIiIiEg4KIAhIqGmVWdERERERMJBAQwRCbVeW1pKRERERCSsNHlVREJPq86IiIiIiHQ/BTBERKRhx8+vcN/DGc5mchxNR7nzlrSCRCIiIiLSVJpCIiIiDTl+foW7T8wzueKt8DK5kuPuE/McP7/S7qaJiIiISIi1JIBhZu81sytm9kjJtueY2Qkze9DM/sXMnt+KtoiIyO7c93CGRAT6YxHMjP5YhETE2y4iIiIi0iytysB4P/A9FdvuAf5P59xzgN8q/CwiHez4+RVe/umrfMtfXebln76qK+496mwmRypqZdtSUeNsJtemFomISC/SuESk97QkgOGc+wIwU7kZGCrcHgYutqItIrIzmjYgvqPpKCs5V7ZtJec4mo62qUUiItJrNC4R6U3trIFxF3CvmZ0Dfg/4tTa2RUS2oWkD4rvzljTreVjO5nHOsZzNs573tou0iqanivQ2jUtEelM7VyH5OeCXnHMfM7MfBd4DvLTWnU+ePNmyhu1Ep7cvaL3WX1CfT88mGYo51kpmCUQcnJ610Dw3YelHI3bS5wngl45E+OCFOBeXjINJx6uObDCxskg3PIW9dpyb3d9jx4419fG38H7gD4H7S7b501M/bWbfW/j5Ra1vmog029mMl3lRStMZRcKvnQGM1wD/qXD7r4B3b3XnNg6QtnXy5MmObl/Qeq2/oD4D3HjqKpMrOfpj1xK3lrN5bhyMcuzYkXY0MVA6xo05hvch3m167TiHub/OuS+Y2UTlZjQ9VaQnHE1HC+OSa0EMTWcUCb92BjAuAt8B/BPwYqC3LomJdJk7b0lz94l5yOZJRY2VnNO0ARHpNHcBnzGz38ObJvvvt7pzENkpYc7oUd+6T1j7BZv7dsdYhHtOJ1iPOJIRWM3DRt6449ASJ0/OtamVO9NLxy0swtov6Iy+bXXxpSUBDDP7CF4K5x4zOw/8NvDTwDvMLAasAj/TiraIyM7cfjjFvbd6c0vPZnIcTUe585Y0tx9OtbtpIiK+hqan7jY7JcwZLupb9wlrv6B6344BBw+tXBuXDHfnuKTXjlsYhLVf0B19a0kAwzn3YzV+9W2t2L+IBOP2w6muGxiISE9paHqqiHQ3jUtEek87VyERERERCZI/PRU0PVVERCR02lkDQ0RERGRHND1VRESk9yiAISIiIl1H01NFRER6j6aQiIiIiIiIiEjHM+dcu9tQ0/z8fOc2TkRERMoMDw9bu9uwHY0tREREukfl2EIZGCIiIiIiIiLS8RTAEBEREREREZGO19FTSEREREREREREQBkYIiIiIiIiItIFFMAQERERERERkY6nAEadzCxqZv9qZv+98PMXzezBwtdFM/tkYfuLzGy+5He/1d6W74yZnTGzhwt9+JfCtjEzO25mJwvfRwvbzczuM7NTZva/zOx57W1942r0914ze6zQp0+Y2Uhh+4SZrZQc4z9ub+t3pkaf32JmF0r69r0l9/+1wjF+3My+u30t37kaff5oSX/PmNmDhe1df5zNbMTM/rrwOn7UzP5dmN/HULPPoX0v1+hvqN/HrVbl/P8SM/ta4bn9kpndVNjeV/g8OWVmXzaziXa2ezthPs83ck4v/K5r3hfV+lbyu18xM2dmewo/d81xq9UvM/vFwnH5upndU7K9q4+ZmT3HzE7428zs+YXtXXPMINzjjBp96/rPkWr9Kvldd3yGOOf0VccX8J+BDwP/vcrvPga8unD7RdXu021fwBlgT8W2e4A3FW6/CXhb4fb3Ap8GDLgV+HK72x9Qf78LiBVuv62kvxPAI+1uc5P6/BbgV6rc95uAh4A+4AbgNBBtdx+C6HPF738f+K2wHGfgA8DrC7cTwEiY38db9Dm07+Ua/Q31+7gNz3HZ+R94AnhW4fb/Aby/5PYfF26/Evhou9u+Tb9Ce55v8JzeVe+LWucx4AjwGeCs//tuOm41jtl3An8P9BV+vi4sxwz4LPCykuP0T912zArtDe04o0bfuv5zpFq/Cre75jNEGRh1MLPDwPcB767yu0HgxcAnW92uNvgBvBc9he//oWT7/c5zAhgxswPtaGCQnHOfdc5lCz+eAA63sz1t9gPAXzjn1pxzTwGngOe3uU2BMjMDfhT4SLvbEgQzGwJeCLwHwDm37pybI8Tv41p9Dut7eYtjXEvo38dBq3H+d8BQ4fYwcLFwu/S99dfASwqfK90ktJ8PW3wOhOV98XbgjXivT1+3H7efA97qnFsDcM5dKWwPwzHb6nOkK45ZmMcZOxhPdMVrcptxQ9d8hiiAUZ//hndA81V+94PAPzjnFkq2/Tsze8jMPm1mz25JC4PngM+a2QNm9jOFbfucc5cACt+vK2w/BJwr+dvzhW3dpFp/S70OLwLpu8G8lOLPm9kLWtPEwNXq8y8U0sTe66f9EY5jDFsf5xcAk865kyXbuvk4PwO4Cryv0Id3m9kA4X4f1+pzqTC9l7fqb5jfx61U7fz/euDvzOw88CrgrYXtxee3MMCdB8Zb19SGhfk838g5vev7ZmavAC445x6quG839a3aMbsZeIF5U7I+b2b/trC9m/oF1ft2F3CvmZ0Dfg/4tTU7wIUAAAm1SURBVML2bupbmMcZjY4nuqVvVfvVbZ8hCmBsw8y+H7jinHugxl1+jPIrtl8DjjrnvhV4J92bmXGbc+55wMuAnzezF25x32pXmLptfd6a/TWzXweywIcKmy4B1zvnnkshtbgQ0ew21fr8LuBG4Dl4/fz9wn3DcIxh69d15Xu5249zDHge8K5CH5bwUjlrCcMx3rLPIXwv1+pv2N/HLbHF+f+XgO91zh0G3gf8gf8nVR6mk5/fMJ/nGzmnh6Fvvw5Uq7nWTX2r1q8YMIqXun438JeFrKZu6hdU79vPAb/knDuC95nynsJ9u6lvYR5nNDqe6Ja+VevXW+iyzxAFMLZ3G/AKMzsD/AXwYjP7cwAzG8dLD/pb/87OuQXnXKZw+++AuF8IpZs45y4Wvl8BPoHXz0k/bajw3U/lO483b8p3mGupcF2hRn8xs9cA3w/8hHPeZLBCeth04fYDePPcbm5Hu3ejWp+dc5POuZxzLg/8GdfS37r+GMOWxzkG/BDw0ZL7dvtxPg+cd859ufDzX+OdtEL7PqZ2n8P6Xq7a37C/j1uo2vn/b4FvLXnOPwr8+8Lt4vNb+EwZBmZa2uIGhPk838g5ne7v23fgzbl/qPBaPQx8zcz200V9q3HMzgMfL6SvfwUvE2oPXdQvqNm31wAfL9zlr+jOz+kwjzMaGk/QPX2r1a+u+gxRAGMbzrlfc84dds5N4BXl+pxz7j8Wfv0jeEW9Vv37m9l+f86reRWFI8B0i5u9K4VUokH/Nl7BmkeAT+F94FL4/jeF258CXm2eW4F5P3WsG9Tqr5l9D/CrwCucc8sl999rZtHC7WcAx4AnW9/ynduiz6Xz2n4Q77iDd4xfaV6V/Rvw+vyVVrZ5t7Z4XQO8FHjMOXe+5P5dfZydc5eBc2b2zMKmlwDfIKTvY6jd57C+l7fob2jfx61U7fyPNx942Mz8QNftwKOF26XvrTvwxgttv1JVTZjP842e0+mi90WNvn3VOXedc26i8Fo9jxfIvEyXHLctXo+fxKszR+E9lwCm6P5j9gjeP4HfUbjbiwF/+mpXHDMI9zij0fEEXfKarNGvr3XbZ0is3Q3ocq/k2txX3x3Az5lZFlgBXtmpA5gt7AM+UYjDxIAPO+f+h5l9FS9976eAp/ECOAB/h1el9hSwDLy29U3elVr9PYVXTfh44XcnnHM/i1f85ncKxzgH/KxzrmOvstVQq88fNLPn4KWHnQHeAOCc+7qZ/SXeiSkL/LxzLteWlu9c1T4XfvdKNhfvDMNx/kXgQ2aWwPvH/LV4QdUwvo991fr8VcL7Xq7W3/tC/D5uK+dc1sx+GviYmeWBWbx50OClgH+wcO6Ywftc6VRhPs83dE7vsvfFVuexarrluNU6ZgngvWb2CLAOvKYwpu76Y2ZmGeAd5mVrrQJ+bYxuOWa+MI8z6h5PdNnnSLV+1dKRx8y6739rEREREREREek1mkIiIiIiIiIiIh1PAQwRERERERER6XgKYIiIiIiIiIhIx1MAQ0REREREREQ6ngIYIiIiIiIiItLxFMAQERERERERkY6nAIaIdDQze7+Zvbvd7RARERERkfZSAENEADCzCTNzZna4jW34JzP7jQAf75Vm9kUzWzCzbJXfv9nMMhVfzszuC6oNIiIi4umEsUa9NIYQ6UwKYIhImM0CfwTcVe2Xzrnfdc6l/S/guYAD/ryFbRQREZEAmFk8wIfTGEKkAymAIRJCZnanmT1lZotmdsHMfrew/X1mdq6w/Rtm9uMlf/ZQ4fvjhasIv7nNPt5iZv9gZm8zs6tmNm1m/9nMjprZ5wr7eMDMnlXyN680s4cKVzMumdmfmNlA4Xd/CLwA+M3C/h8v2V2fmf2Zmc0V+vOGep4H59xnnHMfAZ6s5/7AG4AHnXNfqfP+IiIiPakVY43C4/2HwnhizsweNbOfKPndT5rZKTO728zOAw+a2S+b2WdK7vNBM1s1s1Th5//dzL6+3X41hhDpTApgiISMmd0MvBX4fufcIPBs4FOFX38JeA4wAvwO8H4z+6bC77618P2ZhasJ/6WO3b0QOAnsB/4jcC/wHuDngTHgUeAdJfefB368sP8XFL5+A8A59wvAF4H/Utj/M0v+7g7g/y085i8Cf2hmR+toX93MrA/4SeCPg3xcERGRsGnVWMPMbscbV9yFNwZ4Dd4Y4IUld5sADgLHgH8L/D3wgsJ5HeDFwDm8MQfASwv3CYzGECKtowCGSPhkAQOebWZp59ycc+4EgHPuPc65aedczjn3F8D/Al60i3094Zx7d+HxPg1MA59xzj3qnNsAPow3mKCw/087577unMs7507hpWa+pI79fM4596nC330cmMMbHAXpDiBRaLOIiIjU1qqxxn8C3uGc+2JhDPAVvCkary65zwbwJufcinNuubC/ReA2M3s2sAa8F7i9cP+XEHAAA40hRFpGAQyRkHHOPQn8BPDTwEUz+5KZfZeZRczsd8zscTObN7M5vCshe3exu0sVPy9XbFsGBv0fzOz2QkGsq2a2ALytzv1X7mep9HED8gbgQ865TMCPKyIiEiotHGvcAPxqYfrIXOHxfhIv48J3yTm3VtI2B3wOL9PipcBxvIDF7WZ2I3AE+KcdtqcWjSFEWkQBDJEQcs593Dl3O7AH+Evgb4AfA14P/DAw6pwbwZuLaoU/yzezTWaWAD4J/AVwvXNuCPjVkv03vQ1btO2b8FJLlfopIiJShxaNNc4Cb3HOjZR8DTrnvrfkPtUe8+8pD2A8gBe4+HHgK865xQbbUZPGECKtpQCGSMiY2TPN7HvMrB8vrXIeryr2EF7K51UgYmav49pcVArb83hzSJshASSBWefcSuGE/wsV97kM3BTUDs0sambJwr4xs2Thyyru+gbghHPuoU0PIiIiImVaONb4b8BdZvaCwjk9YWbfZmbfvs3fHQeeh1er63POuTzweeBXqHP6iMYQIp1JAQyR8EkAv4037WIOuBPvSsgHgC8Dp4ALwDfhFc0EwDm3Avwm8JFCmuavB9moQlrlzwH3mFkG+H/YPFf07cC3F/a/bYXwOrwKWAE+A0QLt1eAYgHQQlXyV6ErJyIiIvVqyVjDOfdZ4GfwioRPFfb3diC9zd89jbd6yOPOuZnC5r/HC7DUW/9CYwiRDmTeNDERERERERERkc6lDAwRERERERER6XgKYIhIVYX5ppkaX29ud/sAzOyPt2jj9e1un4iIiNTWzrGGxhAi3UlTSERERERERESk4ykDQ0REREREREQ6ngIYIiIiIiIiItLxFMAQERERERERkY6nAIaIiIiIiIiIdLz/H1Dw5IDf+LhkAAAAAElFTkSuQmCC\n",
      "text/plain": [
       "<Figure size 1080x288 with 2 Axes>"
      ]
     },
     "metadata": {
      "needs_background": "light"
     },
     "output_type": "display_data"
    }
   ],
   "source": [
    "plt.figure(figsize=(15,4))\n",
    "\n",
    "\n",
    "plt.subplot(1,2,1)\n",
    "scatterplot(final,'sat_math_17','act_math_17','SAT vs ACT math 2017')\n",
    "\n",
    "\n",
    "plt.subplot(1,2,2)\n",
    "scatterplot(final,'sat_erw_17','act_reading_17','SAT vs ACT verbal/reading 2017')\n",
    "\n",
    "plt.tight_layout()"
   ]
  },
  {
   "cell_type": "markdown",
   "metadata": {},
   "source": [
    "##### Subject Scores (Math and Verbal/Reading) SAT  2018 vs ACT 2018\n",
    "\n",
    "There appears to be a weak negative correlation between subject specific test scores in both math and reading for the SAT and ACT."
   ]
  },
  {
   "cell_type": "code",
   "execution_count": 96,
   "metadata": {},
   "outputs": [
    {
     "data": {
      "image/png": "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\n",
      "text/plain": [
       "<Figure size 1080x288 with 2 Axes>"
      ]
     },
     "metadata": {
      "needs_background": "light"
     },
     "output_type": "display_data"
    }
   ],
   "source": [
    "plt.figure(figsize=(15,4))\n",
    "\n",
    "\n",
    "plt.subplot(1,2,1)\n",
    "scatterplot(final,'sat_math_18','act_math_18','SAT vs ACT math 2018')\n",
    "\n",
    "\n",
    "plt.subplot(1,2,2)\n",
    "scatterplot(final,'sat_erw_18','act_reading_18','SAT vs ACT verbal/reading 2018')\n",
    "\n",
    "plt.tight_layout()"
   ]
  },
  {
   "cell_type": "markdown",
   "metadata": {},
   "source": [
    "##### Total scores SAT 2017 vs ACT 2017 and SAT 2018 vs ACT 2018\n",
    "\n",
    "Predictably, from earlier scatter splots illustrating subject specific correlations, there is a weak negative correlation between test scores for the SAT and ACT in 2017 and 2018."
   ]
  },
  {
   "cell_type": "code",
   "execution_count": 97,
   "metadata": {},
   "outputs": [
    {
     "data": {
      "image/png": "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\n",
      "text/plain": [
       "<Figure size 1080x288 with 2 Axes>"
      ]
     },
     "metadata": {
      "needs_background": "light"
     },
     "output_type": "display_data"
    }
   ],
   "source": [
    "plt.figure(figsize=(15,4))\n",
    "\n",
    "\n",
    "plt.subplot(1,2,1)\n",
    "scatterplot(final,'sat_total_17','act_composite_17','SAT 2017 vs ACT 2017')\n",
    "\n",
    "plt.subplot(1,2,2)\n",
    "scatterplot(final,'sat_total_18','act_composite_18','SAT 2018 vs ACT 2018')\n",
    "\n",
    "plt.tight_layout()"
   ]
  },
  {
   "cell_type": "markdown",
   "metadata": {},
   "source": [
    "##### Total scores for SAT 2017  vs  SAT 2018  and ACT 2017 vs. ACT 2018\n",
    "\n",
    "Test scores in 2017 are positively correlated with test scores in 2018 for both the SAT and the ACT exams."
   ]
  },
  {
   "cell_type": "code",
   "execution_count": 98,
   "metadata": {},
   "outputs": [
    {
     "data": {
      "image/png": "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\n",
      "text/plain": [
       "<Figure size 1080x288 with 2 Axes>"
      ]
     },
     "metadata": {
      "needs_background": "light"
     },
     "output_type": "display_data"
    }
   ],
   "source": [
    "\n",
    "plt.figure(figsize=(15,4))\n",
    "\n",
    "\n",
    "plt.subplot(1,2,1)\n",
    "scatterplot(final,'sat_total_17','sat_total_18','SAT 2017 vs SAT 2018')\n",
    "\n",
    "\n",
    "plt.subplot(1,2,2)\n",
    "scatterplot(final,'act_composite_17','act_composite_18','ACT 2017 vs ACT 2018')\n",
    "\n",
    "plt.tight_layout()\n"
   ]
  },
  {
   "cell_type": "markdown",
   "metadata": {},
   "source": [
    "##### Boxplots\n",
    "\n",
    "The boxplots suggests that the SAT and ACT score distributions were very similar for  subject specific test scores and overall scores in 2017 and 2018. Interestingly, the math scores seem to be higher than the ERW component in the SAT while the ACT test scores were higher for the reading component as compared to the mathematical section of the test. This could have been due to have the structure of the tests. The grading for the ACT consists of 2 subsections in english, namely the english and reading portions. This may indicate that the reason for the lower performance in the SAT exam could have been due to the writing element."
   ]
  },
  {
   "cell_type": "code",
   "execution_count": 99,
   "metadata": {},
   "outputs": [
    {
     "data": {
      "image/png": "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\n",
      "text/plain": [
       "<Figure size 1008x720 with 4 Axes>"
      ]
     },
     "metadata": {
      "needs_background": "light"
     },
     "output_type": "display_data"
    }
   ],
   "source": [
    "sat_scores = ['sat_math_17','sat_math_18','sat_erw_17','sat_erw_18']\n",
    "sat_scores_total = ['sat_total_17','sat_total_18']\n",
    "act_scores = ['act_math_17','act_math_18','act_reading_17','act_reading_18']\n",
    "act_scores_composite = ['act_composite_17','act_composite_18']\n",
    "participation_total = ['sat_participation_17','sat_participation_18','act_participation_17','act_participation_18']\n",
    "\n",
    "fig, ax = plt.subplots(2,2, figsize=(14, 10)) \n",
    "\n",
    "sns.boxplot(data=final[sat_scores],ax = ax[0][0],orient='v')\n",
    "ax[0][0].set_title('Subject Specific SAT scores (2017 and 2018)',fontsize=14)\n",
    "plt.setp(ax[0][0].get_xticklabels(), fontsize=14)\n",
    "\n",
    "sns.boxplot(data=final[sat_scores_total],ax = ax[0][1],orient='v')\n",
    "ax[0][1].set_title('Total SAT scores (2017 and 2018)',fontsize=14)\n",
    "plt.setp(ax[0][1].get_xticklabels(), fontsize=14)\n",
    "\n",
    "sns.boxplot(data=final[act_scores],ax = ax[1][0],orient='v')\n",
    "ax[1][0].set_title('Subject Specific ACT scores (2017 and 2018)',fontsize=14)\n",
    "plt.setp(ax[1][0].get_xticklabels(), fontsize=14)\n",
    "\n",
    "sns.boxplot(data=final[act_scores_composite],ax = ax[1][1],orient='v')\n",
    "ax[1][1].set_title('Total ACT scores (2017 and 2018)',fontsize=14)\n",
    "plt.setp(ax[1][1].get_xticklabels(), fontsize=14)\n",
    "\n",
    "\n",
    "\n",
    "plt.tight_layout()"
   ]
  },
  {
   "cell_type": "markdown",
   "metadata": {},
   "source": [
    "##### Horizontal Bar Plots\n",
    "\n",
    "\n",
    "Few key features emerge from the following bar plots. As it was arranged in ascending order, it can be seen that the Illinois's SAT participation rates skyrockectted from 9% to 99% from 2017 to 2018. At the same time, the participation rates for the ACT plummeted from 93% to 43%.\n",
    "This could be attributed to the fact that Illinois moved ahead by adopting a new testing method by dropping the SAT and replacing it with the ACT. https://www.chicagotribune.com/news/ct-illinois-chooses-sat-met-20160211-story.html\n",
    "\n",
    "The state of Colorado also experienced a similar surge in participation rates from the 2017 to 2018 SAT exams jumping from 11% to 100% while ACT participation rates fell drastically from 100% to 30%. The line of reasoning is similar to that of Illinois in that the ACT replaced the SAT as the mode of assessment for high school juniors. https://www.denverpost.com/2017/03/06/colorado-juniors-sat-college-exam/\n",
    "\n",
    "Finally, Alaska's SAT participation rates dipped by half from 65% to a little over 30%. The state law abolished the requirement of taking the SAT, ACT or WorkKeys to attain diplomas which could have contributed to the fall in the participation rates for the ACT. Interestingly, the participation rates for the SAT remained fairly similar which allows for room to explore this further. https://www.adn.com/alaska-news/education/2016/06/30/students-no-longer-need-national-tests-to-graduate/"
   ]
  },
  {
   "cell_type": "code",
   "execution_count": 132,
   "metadata": {},
   "outputs": [
    {
     "data": {
      "text/plain": [
       "Text(0.5, 0, '')"
      ]
     },
     "execution_count": 132,
     "metadata": {},
     "output_type": "execute_result"
    },
    {
     "data": {
      "image/png": "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\n",
      "text/plain": [
       "<Figure size 792x792 with 2 Axes>"
      ]
     },
     "metadata": {
      "needs_background": "light"
     },
     "output_type": "display_data"
    },
    {
     "data": {
      "image/png": "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\n",
      "text/plain": [
       "<Figure size 792x792 with 2 Axes>"
      ]
     },
     "metadata": {
      "needs_background": "light"
     },
     "output_type": "display_data"
    }
   ],
   "source": [
    "#2017\n",
    "\n",
    "fig, ax = plt.subplots(1,2,figsize=(11, 11),sharey=True) \n",
    "plt.subplots_adjust(wspace=0.03)\n",
    "\n",
    "# SAT participation 2017\n",
    "\n",
    "final = final.sort_values(by='sat_participation_17',ascending=True)\n",
    "sns.barplot(y=final.index.values, x='sat_participation_17',data=final,color='rosybrown',ax=ax[0])\n",
    "ax[0].set_title('SAT 2017',fontsize=16)\n",
    "ax[0].set_xlabel('')\n",
    "ax[0].invert_xaxis()\n",
    "\n",
    "# ACT participation 2017\n",
    "\n",
    "sns.barplot(y=final.index.values, x='act_participation_17',data=final,color='steelblue',ax=ax[1])\n",
    "ax[1].set_title('ACT 2017',fontsize=16)\n",
    "ax[1].set_xlabel('')\n",
    "\n",
    "#2018\n",
    "\n",
    "fig, ax = plt.subplots(1,2,figsize=(11, 11),sharey=True) \n",
    "plt.subplots_adjust(wspace=0.03)\n",
    "\n",
    "# SAT participation 2018\n",
    "\n",
    "sns.barplot(y=final.index.values, x='sat_participation_18',data=final,color='rosybrown',ax=ax[0])\n",
    "ax[0].set_title('SAT 2018',fontsize=16)\n",
    "ax[0].set_xlabel('')\n",
    "ax[0].invert_xaxis()\n",
    "\n",
    "# ACT participation 2018\n",
    "\n",
    "sns.barplot(y=final.index.values, x='act_participation_18',data=final,color='steelblue',ax=ax[1])\n",
    "ax[1].set_title('ACT 2018',fontsize=16)\n",
    "ax[1].set_xlabel('')"
   ]
  },
  {
   "cell_type": "markdown",
   "metadata": {},
   "source": [
    "\n",
    "#### Distributions in the data\n",
    "\n",
    "In this dataset, each data represents a sample from a population.                        \n",
    "For example, for ACT math test:\n",
    "- Population: the test results of all the students who take this test, nation-wide.\n",
    "- Population mean: is the national average of ACT math test (total scores/total no. of test takers) \n",
    "- Sample: the state means of ACT math test. We have 51 samples (51 states)\n",
    "\n",
    "***According to CLT, we generally assuming that data we sample from a population will be normally distributed. Do we observe this trend?***"
   ]
  },
  {
   "cell_type": "markdown",
   "metadata": {},
   "source": [
    "This trend of normal distribution is not observed with some slight exceptions. "
   ]
  },
  {
   "cell_type": "markdown",
   "metadata": {},
   "source": [
    "Does This Assumption Hold for:\n",
    "    - Math\n",
    "    - Reading\n",
    "    - Rates\n",
    "Explain your answers for each distribution and how you think this will affect estimates made from these data."
   ]
  },
  {
   "cell_type": "markdown",
   "metadata": {},
   "source": [
    "For the math and reading scores, this assumption is slightly true. Math scores tends to have higher peaks below the mean value in comparison to the Composite/Total Scores with multiple peaks.\n",
    "\n",
    "The participation distribution correlates with the test scores but the distribution is also influenced by external factors such as mandatory testing for the ACT/SAT in that participation rates would tend towards 100%. "
   ]
  },
  {
   "cell_type": "markdown",
   "metadata": {},
   "source": [
    "#### Estimate Limits of Data\n",
    "\n",
    "Suppose we only seek to understand the relationship between SAT and ACT participation rates in 2017. \n",
    "\n",
    "##### Does it make sense to conduct statistical inference given these data specifically? \n",
    "\n",
    "Why or why not?\n",
    "\n",
    "*(think about granularity, aggregation, the relationships between populations size & rates...consider the actually populations these data describe in answering this question)*"
   ]
  },
  {
   "cell_type": "markdown",
   "metadata": {},
   "source": [
    "When one considers the relationship between two datasets, one might only be able to describe the relationship these variables might have. These tests are measured differently, consists of different sections plus there is a choice element in that whether or not high school students opt to sit for these exams in order to be admitted to high school."
   ]
  },
  {
   "cell_type": "markdown",
   "metadata": {},
   "source": [
    "##### Is it appropriate to compare *these* specific SAT and ACT math scores  - can we say students with higher SAT math score is better than those with lower ACT math score, or vice versa?\n",
    "\n",
    "Why or why not?"
   ]
  },
  {
   "cell_type": "markdown",
   "metadata": {},
   "source": [
    "No, it is not because the SAT and the ACT are measured on different scales. SAT: 200-800 and ACT: 1-36."
   ]
  },
  {
   "cell_type": "markdown",
   "metadata": {},
   "source": [
    "## Outside Research"
   ]
  },
  {
   "cell_type": "markdown",
   "metadata": {},
   "source": [
    "Based upon your observations, choose **three** states that demonstrate interesting trends in their SAT and/or ACT participation rates. Spend some time doing outside research on state policies that might influence these rates, and summarize your findings below. **Feel free to go back and create new plots that highlight these states of interest**. If you bring in any outside tables or charts, make sure you are explicit about having borrowed them. If you quote any text, make sure that it renders as being quoted. (Make sure that you cite your sources -- check with you local instructor for citation preferences)."
   ]
  },
  {
   "cell_type": "code",
   "execution_count": 151,
   "metadata": {},
   "outputs": [
    {
     "data": {
      "text/html": [
       "<div>\n",
       "<style scoped>\n",
       "    .dataframe tbody tr th:only-of-type {\n",
       "        vertical-align: middle;\n",
       "    }\n",
       "\n",
       "    .dataframe tbody tr th {\n",
       "        vertical-align: top;\n",
       "    }\n",
       "\n",
       "    .dataframe thead th {\n",
       "        text-align: right;\n",
       "    }\n",
       "</style>\n",
       "<table border=\"1\" class=\"dataframe\">\n",
       "  <thead>\n",
       "    <tr style=\"text-align: right;\">\n",
       "      <th></th>\n",
       "      <th>sat_participation_17</th>\n",
       "      <th>sat_erw_17</th>\n",
       "      <th>sat_math_17</th>\n",
       "      <th>sat_total_17</th>\n",
       "      <th>act_participation_17</th>\n",
       "      <th>act_eng_17</th>\n",
       "      <th>act_math_17</th>\n",
       "      <th>act_reading_17</th>\n",
       "      <th>act_science_17</th>\n",
       "      <th>act_composite_17</th>\n",
       "      <th>sat_participation_18</th>\n",
       "      <th>sat_erw_18</th>\n",
       "      <th>sat_math_18</th>\n",
       "      <th>sat_total_18</th>\n",
       "      <th>act_participation_18</th>\n",
       "      <th>act_eng_18</th>\n",
       "      <th>act_math_18</th>\n",
       "      <th>act_reading_18</th>\n",
       "      <th>act_science_18</th>\n",
       "      <th>act_composite_18</th>\n",
       "    </tr>\n",
       "    <tr>\n",
       "      <th>state</th>\n",
       "      <th></th>\n",
       "      <th></th>\n",
       "      <th></th>\n",
       "      <th></th>\n",
       "      <th></th>\n",
       "      <th></th>\n",
       "      <th></th>\n",
       "      <th></th>\n",
       "      <th></th>\n",
       "      <th></th>\n",
       "      <th></th>\n",
       "      <th></th>\n",
       "      <th></th>\n",
       "      <th></th>\n",
       "      <th></th>\n",
       "      <th></th>\n",
       "      <th></th>\n",
       "      <th></th>\n",
       "      <th></th>\n",
       "      <th></th>\n",
       "    </tr>\n",
       "  </thead>\n",
       "  <tbody>\n",
       "    <tr>\n",
       "      <th>Florida</th>\n",
       "      <td>0.83</td>\n",
       "      <td>520.0</td>\n",
       "      <td>497.0</td>\n",
       "      <td>1017.0</td>\n",
       "      <td>0.73</td>\n",
       "      <td>19.0</td>\n",
       "      <td>19.4</td>\n",
       "      <td>21.0</td>\n",
       "      <td>19.4</td>\n",
       "      <td>19.8</td>\n",
       "      <td>0.56</td>\n",
       "      <td>550.0</td>\n",
       "      <td>549.0</td>\n",
       "      <td>1099.0</td>\n",
       "      <td>0.66</td>\n",
       "      <td>19.2</td>\n",
       "      <td>19.3</td>\n",
       "      <td>21.1</td>\n",
       "      <td>19.5</td>\n",
       "      <td>19.9</td>\n",
       "    </tr>\n",
       "    <tr>\n",
       "      <th>Illinois</th>\n",
       "      <td>0.09</td>\n",
       "      <td>559.0</td>\n",
       "      <td>556.0</td>\n",
       "      <td>1115.0</td>\n",
       "      <td>0.93</td>\n",
       "      <td>21.0</td>\n",
       "      <td>21.2</td>\n",
       "      <td>21.6</td>\n",
       "      <td>21.3</td>\n",
       "      <td>21.4</td>\n",
       "      <td>0.99</td>\n",
       "      <td>513.0</td>\n",
       "      <td>506.0</td>\n",
       "      <td>1019.0</td>\n",
       "      <td>0.43</td>\n",
       "      <td>24.1</td>\n",
       "      <td>23.4</td>\n",
       "      <td>24.2</td>\n",
       "      <td>23.4</td>\n",
       "      <td>23.9</td>\n",
       "    </tr>\n",
       "    <tr>\n",
       "      <th>Colorado</th>\n",
       "      <td>0.11</td>\n",
       "      <td>606.0</td>\n",
       "      <td>595.0</td>\n",
       "      <td>1201.0</td>\n",
       "      <td>1.00</td>\n",
       "      <td>20.1</td>\n",
       "      <td>20.3</td>\n",
       "      <td>21.2</td>\n",
       "      <td>20.9</td>\n",
       "      <td>20.8</td>\n",
       "      <td>1.00</td>\n",
       "      <td>519.0</td>\n",
       "      <td>506.0</td>\n",
       "      <td>1025.0</td>\n",
       "      <td>0.30</td>\n",
       "      <td>23.9</td>\n",
       "      <td>23.2</td>\n",
       "      <td>24.4</td>\n",
       "      <td>23.5</td>\n",
       "      <td>23.9</td>\n",
       "    </tr>\n",
       "  </tbody>\n",
       "</table>\n",
       "</div>"
      ],
      "text/plain": [
       "          sat_participation_17  sat_erw_17  sat_math_17  sat_total_17  \\\n",
       "state                                                                   \n",
       "Florida                   0.83       520.0        497.0        1017.0   \n",
       "Illinois                  0.09       559.0        556.0        1115.0   \n",
       "Colorado                  0.11       606.0        595.0        1201.0   \n",
       "\n",
       "          act_participation_17  act_eng_17  act_math_17  act_reading_17  \\\n",
       "state                                                                     \n",
       "Florida                   0.73        19.0         19.4            21.0   \n",
       "Illinois                  0.93        21.0         21.2            21.6   \n",
       "Colorado                  1.00        20.1         20.3            21.2   \n",
       "\n",
       "          act_science_17  act_composite_17  sat_participation_18  sat_erw_18  \\\n",
       "state                                                                          \n",
       "Florida             19.4              19.8                  0.56       550.0   \n",
       "Illinois            21.3              21.4                  0.99       513.0   \n",
       "Colorado            20.9              20.8                  1.00       519.0   \n",
       "\n",
       "          sat_math_18  sat_total_18  act_participation_18  act_eng_18  \\\n",
       "state                                                                   \n",
       "Florida         549.0        1099.0                  0.66        19.2   \n",
       "Illinois        506.0        1019.0                  0.43        24.1   \n",
       "Colorado        506.0        1025.0                  0.30        23.9   \n",
       "\n",
       "          act_math_18  act_reading_18  act_science_18  act_composite_18  \n",
       "state                                                                    \n",
       "Florida          19.3            21.1            19.5              19.9  \n",
       "Illinois         23.4            24.2            23.4              23.9  \n",
       "Colorado         23.2            24.4            23.5              23.9  "
      ]
     },
     "execution_count": 151,
     "metadata": {},
     "output_type": "execute_result"
    }
   ],
   "source": [
    "final.loc[['Florida','Illinois','Colorado']]"
   ]
  },
  {
   "cell_type": "markdown",
   "metadata": {},
   "source": [
    "###### Florida\n",
    "\n",
    "Florida has more than 50% participation rates for two consecutive years for both the SAT and the ACT. This could have been made possible because of the free test sessions at school. Not surprisingly, however, higher participation results result in lower test scores. https://www.orlandosentinel.com/news/education/os-ne-act-sat-florida-scores-20181024-story.html\n",
    "\n",
    "##### Illinois\n",
    "Illinois's SAT participation rates skyrockectted from 9% to 99% from 2017 to 2018. At the same time, the participation rates for the ACT plummeted from 93% to 43%. This could be attributed to the fact that Illinois moved ahead by adopting a new testing method by dropping the SAT and replacing it with the ACT. https://www.chicagotribune.com/news/ct-illinois-chooses-sat-met-20160211-story.html\n",
    "\n",
    "##### Colorado\n",
    "\n",
    "The state of Colorado also experienced a similar surge in participation rates from the 2017 to 2018 SAT exams jumping from 11% to 100% while ACT participation rates fell drastically from 100% to 30%. The line of reasoning is similar to that of Illinois in that the ACT replaced the SAT as the mode of assessment for high school juniors. https://www.denverpost.com/2017/03/06/colorado-juniors-sat-college-exam/"
   ]
  },
  {
   "cell_type": "markdown",
   "metadata": {},
   "source": [
    "## Conclusions and Recommendations"
   ]
  },
  {
   "cell_type": "markdown",
   "metadata": {},
   "source": [
    "Based on your exploration of the data, what are you key takeaways and recommendations? Choose one state with a lower participation rate and provide a suggestion for how the College Board might increase participation amongst graduating seniors in this state. Are there additional data you desire that would better inform your investigations?"
   ]
  },
  {
   "cell_type": "code",
   "execution_count": 154,
   "metadata": {},
   "outputs": [
    {
     "data": {
      "text/html": [
       "<div>\n",
       "<style scoped>\n",
       "    .dataframe tbody tr th:only-of-type {\n",
       "        vertical-align: middle;\n",
       "    }\n",
       "\n",
       "    .dataframe tbody tr th {\n",
       "        vertical-align: top;\n",
       "    }\n",
       "\n",
       "    .dataframe thead th {\n",
       "        text-align: right;\n",
       "    }\n",
       "</style>\n",
       "<table border=\"1\" class=\"dataframe\">\n",
       "  <thead>\n",
       "    <tr style=\"text-align: right;\">\n",
       "      <th></th>\n",
       "      <th>sat_participation_17</th>\n",
       "      <th>sat_erw_17</th>\n",
       "      <th>sat_math_17</th>\n",
       "      <th>sat_total_17</th>\n",
       "      <th>act_participation_17</th>\n",
       "      <th>act_eng_17</th>\n",
       "      <th>act_math_17</th>\n",
       "      <th>act_reading_17</th>\n",
       "      <th>act_science_17</th>\n",
       "      <th>act_composite_17</th>\n",
       "      <th>sat_participation_18</th>\n",
       "      <th>sat_erw_18</th>\n",
       "      <th>sat_math_18</th>\n",
       "      <th>sat_total_18</th>\n",
       "      <th>act_participation_18</th>\n",
       "      <th>act_eng_18</th>\n",
       "      <th>act_math_18</th>\n",
       "      <th>act_reading_18</th>\n",
       "      <th>act_science_18</th>\n",
       "      <th>act_composite_18</th>\n",
       "    </tr>\n",
       "    <tr>\n",
       "      <th>state</th>\n",
       "      <th></th>\n",
       "      <th></th>\n",
       "      <th></th>\n",
       "      <th></th>\n",
       "      <th></th>\n",
       "      <th></th>\n",
       "      <th></th>\n",
       "      <th></th>\n",
       "      <th></th>\n",
       "      <th></th>\n",
       "      <th></th>\n",
       "      <th></th>\n",
       "      <th></th>\n",
       "      <th></th>\n",
       "      <th></th>\n",
       "      <th></th>\n",
       "      <th></th>\n",
       "      <th></th>\n",
       "      <th></th>\n",
       "      <th></th>\n",
       "    </tr>\n",
       "  </thead>\n",
       "  <tbody>\n",
       "    <tr>\n",
       "      <th>Pennsylvania</th>\n",
       "      <td>0.65</td>\n",
       "      <td>540.0</td>\n",
       "      <td>531.0</td>\n",
       "      <td>1071.0</td>\n",
       "      <td>0.23</td>\n",
       "      <td>23.4</td>\n",
       "      <td>23.4</td>\n",
       "      <td>24.2</td>\n",
       "      <td>23.3</td>\n",
       "      <td>23.7</td>\n",
       "      <td>0.7</td>\n",
       "      <td>547.0</td>\n",
       "      <td>539.0</td>\n",
       "      <td>1086.0</td>\n",
       "      <td>0.2</td>\n",
       "      <td>23.3</td>\n",
       "      <td>23.2</td>\n",
       "      <td>24.0</td>\n",
       "      <td>23.1</td>\n",
       "      <td>23.5</td>\n",
       "    </tr>\n",
       "  </tbody>\n",
       "</table>\n",
       "</div>"
      ],
      "text/plain": [
       "              sat_participation_17  sat_erw_17  sat_math_17  sat_total_17  \\\n",
       "state                                                                       \n",
       "Pennsylvania                  0.65       540.0        531.0        1071.0   \n",
       "\n",
       "              act_participation_17  act_eng_17  act_math_17  act_reading_17  \\\n",
       "state                                                                         \n",
       "Pennsylvania                  0.23        23.4         23.4            24.2   \n",
       "\n",
       "              act_science_17  act_composite_17  sat_participation_18  \\\n",
       "state                                                                  \n",
       "Pennsylvania            23.3              23.7                   0.7   \n",
       "\n",
       "              sat_erw_18  sat_math_18  sat_total_18  act_participation_18  \\\n",
       "state                                                                       \n",
       "Pennsylvania       547.0        539.0        1086.0                   0.2   \n",
       "\n",
       "              act_eng_18  act_math_18  act_reading_18  act_science_18  \\\n",
       "state                                                                   \n",
       "Pennsylvania        23.3         23.2            24.0            23.1   \n",
       "\n",
       "              act_composite_18  \n",
       "state                           \n",
       "Pennsylvania              23.5  "
      ]
     },
     "execution_count": 154,
     "metadata": {},
     "output_type": "execute_result"
    }
   ],
   "source": [
    "final.loc[['Pennsylvania']]"
   ]
  },
  {
   "cell_type": "markdown",
   "metadata": {},
   "source": [
    "###### Key takeaways\n",
    "In summary, high participation rates usually result in lower test scores and vice versa. High participation rates in one test would also typically mean lower participation rate in the other. In general, there was minimal change in performance for both the SAT and the ACT test scores from 2017 to 2018.\n",
    "\n",
    "##### Recommendations\n",
    "In order to increase the SAT participation rates, the board should channel the resources to states where the ACT is not contracted. I would recommend the state of Pennsylvania for the following reasons: It is of close proximity to states where the SAT is contracted. Secondly, they have also experienced an increased in participation rates for the SAT from 65% to 70%. In addition, as discovered earlier in the preliminary analysis, high participation rates tend to correspond to low test scores. However, it is worth pointing out that Pennsylvania increased their SAT scores from 2017 to 2018. https://www.applerouth.com/blog/2016/01/13/how-the-sat-got-its-groove-back/ \n",
    "\n",
<<<<<<< HEAD
    "Another state one might consider is California as there is a lot of room for overall participation in the SAT. This would capitalise on absolute numbers instead of participation rate as there are 850, 000 students not covered by either the SAT or the ACT. This implies that a 1% increase in participation rate would lead to a much higher rise in absolute numbers in terms of participation.\n",
    "\n",
=======
>>>>>>> temp-branch
    "\n",
    "##### Additional data\n",
    "Additional data in the form of school performance would be helpful not every school adopt the same teaching methods or equipped with the same resources. Other factors such as demographics could be an important factor to analyse the data further."
   ]
  }
 ],
 "metadata": {
  "anaconda-cloud": {},
  "kernelspec": {
   "display_name": "Python 3",
   "language": "python",
   "name": "python3"
  },
  "language_info": {
   "codemirror_mode": {
    "name": "ipython",
    "version": 3
   },
   "file_extension": ".py",
   "mimetype": "text/x-python",
   "name": "python",
   "nbconvert_exporter": "python",
   "pygments_lexer": "ipython3",
   "version": "3.7.3"
  },
  "varInspector": {
   "cols": {
    "lenName": 16,
    "lenType": 16,
    "lenVar": 40
   },
   "kernels_config": {
    "python": {
     "delete_cmd_postfix": "",
     "delete_cmd_prefix": "del ",
     "library": "var_list.py",
     "varRefreshCmd": "print(var_dic_list())"
    },
    "r": {
     "delete_cmd_postfix": ") ",
     "delete_cmd_prefix": "rm(",
     "library": "var_list.r",
     "varRefreshCmd": "cat(var_dic_list()) "
    }
   },
   "types_to_exclude": [
    "module",
    "function",
    "builtin_function_or_method",
    "instance",
    "_Feature"
   ],
   "window_display": false
  }
 },
 "nbformat": 4,
 "nbformat_minor": 2
}
