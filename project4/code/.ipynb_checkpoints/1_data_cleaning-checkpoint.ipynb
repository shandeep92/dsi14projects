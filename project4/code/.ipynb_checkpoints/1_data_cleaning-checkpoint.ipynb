{
 "cells": [
  {
   "cell_type": "markdown",
   "metadata": {},
   "source": [
    "# Project 4: West Nile Virus Prediction"
   ]
  },
  {
   "cell_type": "markdown",
   "metadata": {},
   "source": [
    "## Problem Statement"
   ]
  },
  {
   "cell_type": "markdown",
   "metadata": {},
   "source": [
    "1. **To predict locations with high potential** of having mosquitoes carrying West Nile Virus.\n",
    "2. Find out **factors that contribute to the growth and spread** of the virus in mosquitoes."
   ]
  },
  {
   "cell_type": "markdown",
   "metadata": {},
   "source": [
    "## Executive Summary"
   ]
  },
  {
   "cell_type": "markdown",
   "metadata": {},
   "source": [
    "### Context\n",
    "\n",
    "West-Nile-Virus(WNV) is a mosquito-borne disease that has plagued the continental United States since 1999. The vast majority of infected people will develop mild symptoms that will subside over a few days to several weeks ([source](https://medlineplus.gov/westnilevirus.html)). About 1 out of 150 infected people develop a serious illness. The sometimes neuroinvasive virus may cause encephalitis and meningitis, which can prove to be fatal. There is currently no vaccine to prevent or medication to treat WNV ([source](https://www.cdc.gov/westnile/index.html)).\n",
    "\n",
    "Outbreaks typically intensify over as little as a couple of weeks; however, human case reports are lagging indicators of risk since case reports occur weeks after the time of infection. Thus, environmental surveillance – monitoring enzootic and epizootic WNV transmission in mosquitoes and birds – forms a timelier index of risk, and is an important cornerstone for implementing effective WNV risk reduction efforts.Research and operational experience shows that increases in WNV infection rates in mosquito populations can provide an indicator of developing outbreak conditions several weeks in advance of increases in human infections. Aggressive and timely efforts to reduce the number of infected adult mosquitoes will optimally impact human WNV case incidence ([source](https://www.cdc.gov/westnile/resources/pdfs/wnvGuidelines.pdf)).\n",
    "\n",
    "### Scope\n",
    "\n",
    "The goal of this project is to derive a plan to deploy pesticides throughout the city of Chicago. Hence, the scope of our plan for deployment and cost analysis will also be limited within the city of Chicago. \n",
    "\n",
    "However, the model that we have trained can certainly be used in other states/cities within the United States to predict the potential outbreak of West Nile Virus. \n",
    "\n",
    "The modelling techniques and strategies will be presented to biostaticians,  epidemiologists, American Public Health Service and decision makers from Centers for Disease Control and Prevention (CDC)."
   ]
  },
  {
   "cell_type": "markdown",
   "metadata": {},
   "source": [
    "### Contents:\n",
    "- Jupyter Notebook 1 - ***1_data_cleaning.ipynb***\n",
    "    - [Data Importing and Cleaning](#Data-Importing-and-Cleaning)\n",
    "        - [Cleaning train.csv](#Cleaning-train.csv)\n",
    "        - [Cleaning test.csv](#Cleaning-test.csv)\n",
    "        - [Cleaning spray.csv](#Cleaning-spray.csv)\n",
    "        - [Cleaning weather.csv](#Cleaning-weather.csv)\n",
    "        - [Exporting cleaned data](#Exporting-cleaned-data)\n",
    "- Jupyter Notebook 2 - ***2_merging_data_feature_engineering.ipynb***\n",
    "   - Feature Engineering & Data Merging\n",
    "        - Feature engineering to merge spray data with train & test data\n",
    "        - Feature engineering for spatial correlation\n",
    "        - Merging weather data with train & test data\n",
    "        - Exporting merged data\n",
    "- Jupyter Notebook 3 - ***3_EDA_modelling_evaluation.ipynb.ipynb***\n",
    "     - Exploratory Data Analysis\n",
    "     - Model Preparation\n",
    "        - Modelling Approach\n",
    "        - Classification Metrics\n",
    "        - Class Balancing Techniques\n",
    "     - Classfication Modelling\n",
    "        - *GridSearchCV* for *LogisticRegression* with *SMOTE* balancing technique\n",
    "        - *RandomForestClassifier* with *SMOTE* balancing technique\n",
    "        - *SVC* with *SMOTE* balancing technique\n",
    "        - *GradientBoostingClassifier* with *SMOTE* balancing technique\n",
    "        - *RandomForestClassifier* with *ADASYN* balancing technique\n",
    "        - *RandomForestClassifier* with *ClusterCentroids* balancing technique\n",
    "        - *RandomForestClassifier* with hyperparameter *class_weight='balanced_subsample'*\n",
    "        - Feature Importance\n",
    "        - ROC Curve\n",
    "        - Visualizing the Predictions\n",
    "        - Cost-Benefit Analysis\n",
    "        - Deployment of Model\n",
    "     - Conclusions and Recommendations"
   ]
  },
  {
   "cell_type": "code",
   "execution_count": 1,
   "metadata": {
    "colab": {
     "base_uri": "https://localhost:8080/",
     "height": 121
    },
    "colab_type": "code",
    "executionInfo": {
     "elapsed": 25841,
     "status": "ok",
     "timestamp": 1590207338965,
     "user": {
      "displayName": "Prerak Agarwal",
      "photoUrl": "https://lh3.googleusercontent.com/a-/AOh14GgQiw-kwRfieEqYSgGRU57-wJJC8oriGNC874DiTZk=s64",
      "userId": "03107537425962742698"
     },
     "user_tz": -480
    },
    "id": "0yzfmoZ42TSk",
    "outputId": "f076f8b0-022b-42ee-9884-bb0b4ca59e0f"
   },
   "outputs": [],
   "source": [
    "# Imports\n",
    "\n",
    "import pandas as pd\n",
    "import numpy as np\n",
    "from datetime import datetime\n",
    "import re\n",
    "from sklearn.feature_extraction.text import CountVectorizer\n",
    "\n",
    "pd.set_option('display.max_columns', None)\n",
    "# pd.set_option('display.max_rows', None)\n",
    "pd.set_option('display.max_colwidth', None)"
   ]
  },
  {
   "cell_type": "markdown",
   "metadata": {},
   "source": [
    "## Data Importing and Cleaning"
   ]
  },
  {
   "cell_type": "code",
   "execution_count": 2,
   "metadata": {
    "colab": {},
    "colab_type": "code",
    "id": "La7Mm9lm2TSs"
   },
   "outputs": [],
   "source": [
    "# Importing all given CSV files.\n",
    "\n",
    "train = pd.read_csv(\"../input/train.csv\")\n",
    "test = pd.read_csv(\"../input/test.csv\")\n",
    "spray = pd.read_csv(\"../input/spray.csv\")\n",
    "weather = pd.read_csv(\"../input/weather.csv\")"
   ]
  },
  {
   "cell_type": "code",
   "execution_count": 3,
   "metadata": {},
   "outputs": [],
   "source": [
    "# Defining a function to understand the data better.\n",
    "\n",
    "def eda(df, df_name):\n",
    "    print(df_name.capitalize())\n",
    "    print()\n",
    "    print(f\"Rows: {df.shape[0]} \\t Columns: {df.shape[1]}\")\n",
    "    print()\n",
    "          \n",
    "    print(f\"Number of Missing rows: {df.isnull().sum().sum()}\")\n",
    "    print()\n",
    "          \n",
    "    print(f\"Number of Duplicate rows: {df[df.duplicated(keep=False)].shape[0]}\")\n",
    "    print()\n",
    "          \n",
    "    print(df.dtypes)\n",
    "    print(\"_________________________________________\\n\")"
   ]
  },
  {
   "cell_type": "code",
   "execution_count": 4,
   "metadata": {},
   "outputs": [],
   "source": [
    "data = [(train, 'train'),\n",
    "       (spray, 'spray'),\n",
    "       (weather, 'weather'),\n",
    "       (test,'test')]"
   ]
  },
  {
   "cell_type": "code",
   "execution_count": 5,
   "metadata": {},
   "outputs": [
    {
     "name": "stdout",
     "output_type": "stream",
     "text": [
      "Train\n",
      "\n",
      "Rows: 10506 \t Columns: 12\n",
      "\n",
      "Number of Missing rows: 0\n",
      "\n",
      "Number of Duplicate rows: 1062\n",
      "\n",
      "Date                       object\n",
      "Address                    object\n",
      "Species                    object\n",
      "Block                       int64\n",
      "Street                     object\n",
      "Trap                       object\n",
      "AddressNumberAndStreet     object\n",
      "Latitude                  float64\n",
      "Longitude                 float64\n",
      "AddressAccuracy             int64\n",
      "NumMosquitos                int64\n",
      "WnvPresent                  int64\n",
      "dtype: object\n",
      "_________________________________________\n",
      "\n",
      "Spray\n",
      "\n",
      "Rows: 14835 \t Columns: 4\n",
      "\n",
      "Number of Missing rows: 584\n",
      "\n",
      "Number of Duplicate rows: 543\n",
      "\n",
      "Date          object\n",
      "Time          object\n",
      "Latitude     float64\n",
      "Longitude    float64\n",
      "dtype: object\n",
      "_________________________________________\n",
      "\n",
      "Weather\n",
      "\n",
      "Rows: 2944 \t Columns: 22\n",
      "\n",
      "Number of Missing rows: 0\n",
      "\n",
      "Number of Duplicate rows: 0\n",
      "\n",
      "Station          int64\n",
      "Date            object\n",
      "Tmax             int64\n",
      "Tmin             int64\n",
      "Tavg            object\n",
      "Depart          object\n",
      "DewPoint         int64\n",
      "WetBulb         object\n",
      "Heat            object\n",
      "Cool            object\n",
      "Sunrise         object\n",
      "Sunset          object\n",
      "CodeSum         object\n",
      "Depth           object\n",
      "Water1          object\n",
      "SnowFall        object\n",
      "PrecipTotal     object\n",
      "StnPressure     object\n",
      "SeaLevel        object\n",
      "ResultSpeed    float64\n",
      "ResultDir        int64\n",
      "AvgSpeed        object\n",
      "dtype: object\n",
      "_________________________________________\n",
      "\n",
      "Test\n",
      "\n",
      "Rows: 116293 \t Columns: 11\n",
      "\n",
      "Number of Missing rows: 0\n",
      "\n",
      "Number of Duplicate rows: 0\n",
      "\n",
      "Id                          int64\n",
      "Date                       object\n",
      "Address                    object\n",
      "Species                    object\n",
      "Block                       int64\n",
      "Street                     object\n",
      "Trap                       object\n",
      "AddressNumberAndStreet     object\n",
      "Latitude                  float64\n",
      "Longitude                 float64\n",
      "AddressAccuracy             int64\n",
      "dtype: object\n",
      "_________________________________________\n",
      "\n"
     ]
    },
    {
     "data": {
      "text/plain": [
       "[None, None, None, None]"
      ]
     },
     "execution_count": 5,
     "metadata": {},
     "output_type": "execute_result"
    }
   ],
   "source": [
    "# Printing a summary of all data files.\n",
    "\n",
    "[eda(df, name) for df, name in data]"
   ]
  },
  {
   "cell_type": "markdown",
   "metadata": {
    "colab_type": "text",
    "id": "k52feVY_2TSr"
   },
   "source": [
    "### Cleaning *train.csv*"
   ]
  },
  {
   "cell_type": "code",
   "execution_count": 6,
   "metadata": {
    "colab": {
     "base_uri": "https://localhost:8080/",
     "height": 279
    },
    "colab_type": "code",
    "executionInfo": {
     "elapsed": 26192,
     "status": "ok",
     "timestamp": 1590207339348,
     "user": {
      "displayName": "Prerak Agarwal",
      "photoUrl": "https://lh3.googleusercontent.com/a-/AOh14GgQiw-kwRfieEqYSgGRU57-wJJC8oriGNC874DiTZk=s64",
      "userId": "03107537425962742698"
     },
     "user_tz": -480
    },
    "id": "8n3D6uYX2TSw",
    "outputId": "ca1572b5-da84-462c-80d8-5a36e048d069"
   },
   "outputs": [
    {
     "data": {
      "text/html": [
       "<div>\n",
       "<style scoped>\n",
       "    .dataframe tbody tr th:only-of-type {\n",
       "        vertical-align: middle;\n",
       "    }\n",
       "\n",
       "    .dataframe tbody tr th {\n",
       "        vertical-align: top;\n",
       "    }\n",
       "\n",
       "    .dataframe thead th {\n",
       "        text-align: right;\n",
       "    }\n",
       "</style>\n",
       "<table border=\"1\" class=\"dataframe\">\n",
       "  <thead>\n",
       "    <tr style=\"text-align: right;\">\n",
       "      <th></th>\n",
       "      <th>Date</th>\n",
       "      <th>Address</th>\n",
       "      <th>Species</th>\n",
       "      <th>Block</th>\n",
       "      <th>Street</th>\n",
       "      <th>Trap</th>\n",
       "      <th>AddressNumberAndStreet</th>\n",
       "      <th>Latitude</th>\n",
       "      <th>Longitude</th>\n",
       "      <th>AddressAccuracy</th>\n",
       "      <th>NumMosquitos</th>\n",
       "      <th>WnvPresent</th>\n",
       "    </tr>\n",
       "  </thead>\n",
       "  <tbody>\n",
       "    <tr>\n",
       "      <th>0</th>\n",
       "      <td>2007-05-29</td>\n",
       "      <td>4100 North Oak Park Avenue, Chicago, IL 60634, USA</td>\n",
       "      <td>CULEX PIPIENS/RESTUANS</td>\n",
       "      <td>41</td>\n",
       "      <td>N OAK PARK AVE</td>\n",
       "      <td>T002</td>\n",
       "      <td>4100  N OAK PARK AVE, Chicago, IL</td>\n",
       "      <td>41.954690</td>\n",
       "      <td>-87.800991</td>\n",
       "      <td>9</td>\n",
       "      <td>1</td>\n",
       "      <td>0</td>\n",
       "    </tr>\n",
       "    <tr>\n",
       "      <th>1</th>\n",
       "      <td>2007-05-29</td>\n",
       "      <td>4100 North Oak Park Avenue, Chicago, IL 60634, USA</td>\n",
       "      <td>CULEX RESTUANS</td>\n",
       "      <td>41</td>\n",
       "      <td>N OAK PARK AVE</td>\n",
       "      <td>T002</td>\n",
       "      <td>4100  N OAK PARK AVE, Chicago, IL</td>\n",
       "      <td>41.954690</td>\n",
       "      <td>-87.800991</td>\n",
       "      <td>9</td>\n",
       "      <td>1</td>\n",
       "      <td>0</td>\n",
       "    </tr>\n",
       "    <tr>\n",
       "      <th>2</th>\n",
       "      <td>2007-05-29</td>\n",
       "      <td>6200 North Mandell Avenue, Chicago, IL 60646, USA</td>\n",
       "      <td>CULEX RESTUANS</td>\n",
       "      <td>62</td>\n",
       "      <td>N MANDELL AVE</td>\n",
       "      <td>T007</td>\n",
       "      <td>6200  N MANDELL AVE, Chicago, IL</td>\n",
       "      <td>41.994991</td>\n",
       "      <td>-87.769279</td>\n",
       "      <td>9</td>\n",
       "      <td>1</td>\n",
       "      <td>0</td>\n",
       "    </tr>\n",
       "    <tr>\n",
       "      <th>3</th>\n",
       "      <td>2007-05-29</td>\n",
       "      <td>7900 West Foster Avenue, Chicago, IL 60656, USA</td>\n",
       "      <td>CULEX PIPIENS/RESTUANS</td>\n",
       "      <td>79</td>\n",
       "      <td>W FOSTER AVE</td>\n",
       "      <td>T015</td>\n",
       "      <td>7900  W FOSTER AVE, Chicago, IL</td>\n",
       "      <td>41.974089</td>\n",
       "      <td>-87.824812</td>\n",
       "      <td>8</td>\n",
       "      <td>1</td>\n",
       "      <td>0</td>\n",
       "    </tr>\n",
       "    <tr>\n",
       "      <th>4</th>\n",
       "      <td>2007-05-29</td>\n",
       "      <td>7900 West Foster Avenue, Chicago, IL 60656, USA</td>\n",
       "      <td>CULEX RESTUANS</td>\n",
       "      <td>79</td>\n",
       "      <td>W FOSTER AVE</td>\n",
       "      <td>T015</td>\n",
       "      <td>7900  W FOSTER AVE, Chicago, IL</td>\n",
       "      <td>41.974089</td>\n",
       "      <td>-87.824812</td>\n",
       "      <td>8</td>\n",
       "      <td>4</td>\n",
       "      <td>0</td>\n",
       "    </tr>\n",
       "  </tbody>\n",
       "</table>\n",
       "</div>"
      ],
      "text/plain": [
       "         Date                                             Address  \\\n",
       "0  2007-05-29  4100 North Oak Park Avenue, Chicago, IL 60634, USA   \n",
       "1  2007-05-29  4100 North Oak Park Avenue, Chicago, IL 60634, USA   \n",
       "2  2007-05-29   6200 North Mandell Avenue, Chicago, IL 60646, USA   \n",
       "3  2007-05-29     7900 West Foster Avenue, Chicago, IL 60656, USA   \n",
       "4  2007-05-29     7900 West Foster Avenue, Chicago, IL 60656, USA   \n",
       "\n",
       "                  Species  Block           Street  Trap  \\\n",
       "0  CULEX PIPIENS/RESTUANS     41   N OAK PARK AVE  T002   \n",
       "1          CULEX RESTUANS     41   N OAK PARK AVE  T002   \n",
       "2          CULEX RESTUANS     62    N MANDELL AVE  T007   \n",
       "3  CULEX PIPIENS/RESTUANS     79     W FOSTER AVE  T015   \n",
       "4          CULEX RESTUANS     79     W FOSTER AVE  T015   \n",
       "\n",
       "              AddressNumberAndStreet   Latitude  Longitude  AddressAccuracy  \\\n",
       "0  4100  N OAK PARK AVE, Chicago, IL  41.954690 -87.800991                9   \n",
       "1  4100  N OAK PARK AVE, Chicago, IL  41.954690 -87.800991                9   \n",
       "2   6200  N MANDELL AVE, Chicago, IL  41.994991 -87.769279                9   \n",
       "3    7900  W FOSTER AVE, Chicago, IL  41.974089 -87.824812                8   \n",
       "4    7900  W FOSTER AVE, Chicago, IL  41.974089 -87.824812                8   \n",
       "\n",
       "   NumMosquitos  WnvPresent  \n",
       "0             1           0  \n",
       "1             1           0  \n",
       "2             1           0  \n",
       "3             1           0  \n",
       "4             4           0  "
      ]
     },
     "execution_count": 6,
     "metadata": {},
     "output_type": "execute_result"
    }
   ],
   "source": [
    "train.head()"
   ]
  },
  {
   "cell_type": "code",
   "execution_count": 7,
   "metadata": {
    "colab": {
     "base_uri": "https://localhost:8080/",
     "height": 34
    },
    "colab_type": "code",
    "executionInfo": {
     "elapsed": 26176,
     "status": "ok",
     "timestamp": 1590207339350,
     "user": {
      "displayName": "Prerak Agarwal",
      "photoUrl": "https://lh3.googleusercontent.com/a-/AOh14GgQiw-kwRfieEqYSgGRU57-wJJC8oriGNC874DiTZk=s64",
      "userId": "03107537425962742698"
     },
     "user_tz": -480
    },
    "id": "KrNsovTU2TS2",
    "outputId": "6ee60954-55b2-4c10-8384-e908817dca93"
   },
   "outputs": [
    {
     "data": {
      "text/plain": [
       "(10506, 12)"
      ]
     },
     "execution_count": 7,
     "metadata": {},
     "output_type": "execute_result"
    }
   ],
   "source": [
    "train.shape"
   ]
  },
  {
   "cell_type": "code",
   "execution_count": 8,
   "metadata": {
    "colab": {
     "base_uri": "https://localhost:8080/",
     "height": 84
    },
    "colab_type": "code",
    "executionInfo": {
     "elapsed": 26159,
     "status": "ok",
     "timestamp": 1590207339353,
     "user": {
      "displayName": "Prerak Agarwal",
      "photoUrl": "https://lh3.googleusercontent.com/a-/AOh14GgQiw-kwRfieEqYSgGRU57-wJJC8oriGNC874DiTZk=s64",
      "userId": "03107537425962742698"
     },
     "user_tz": -480
    },
    "id": "NSfxrAJG2TS6",
    "outputId": "8220ad6e-dae6-4d92-b9eb-f3efcbbec220"
   },
   "outputs": [
    {
     "data": {
      "text/plain": [
       "Index(['Date', 'Address', 'Species', 'Block', 'Street', 'Trap',\n",
       "       'AddressNumberAndStreet', 'Latitude', 'Longitude', 'AddressAccuracy',\n",
       "       'NumMosquitos', 'WnvPresent'],\n",
       "      dtype='object')"
      ]
     },
     "execution_count": 8,
     "metadata": {},
     "output_type": "execute_result"
    }
   ],
   "source": [
    "train.columns"
   ]
  },
  {
   "cell_type": "code",
   "execution_count": 9,
   "metadata": {
    "colab": {
     "base_uri": "https://localhost:8080/",
     "height": 235
    },
    "colab_type": "code",
    "executionInfo": {
     "elapsed": 26142,
     "status": "ok",
     "timestamp": 1590207339355,
     "user": {
      "displayName": "Prerak Agarwal",
      "photoUrl": "https://lh3.googleusercontent.com/a-/AOh14GgQiw-kwRfieEqYSgGRU57-wJJC8oriGNC874DiTZk=s64",
      "userId": "03107537425962742698"
     },
     "user_tz": -480
    },
    "id": "D8CHJkWt2TS-",
    "outputId": "2f33382f-fb25-457e-c815-b44793446476"
   },
   "outputs": [
    {
     "data": {
      "text/plain": [
       "Date                       object\n",
       "Address                    object\n",
       "Species                    object\n",
       "Block                       int64\n",
       "Street                     object\n",
       "Trap                       object\n",
       "AddressNumberAndStreet     object\n",
       "Latitude                  float64\n",
       "Longitude                 float64\n",
       "AddressAccuracy             int64\n",
       "NumMosquitos                int64\n",
       "WnvPresent                  int64\n",
       "dtype: object"
      ]
     },
     "execution_count": 9,
     "metadata": {},
     "output_type": "execute_result"
    }
   ],
   "source": [
    "train.dtypes"
   ]
  },
  {
   "cell_type": "code",
   "execution_count": 10,
   "metadata": {
    "colab": {
     "base_uri": "https://localhost:8080/",
     "height": 235
    },
    "colab_type": "code",
    "executionInfo": {
     "elapsed": 26125,
     "status": "ok",
     "timestamp": 1590207339357,
     "user": {
      "displayName": "Prerak Agarwal",
      "photoUrl": "https://lh3.googleusercontent.com/a-/AOh14GgQiw-kwRfieEqYSgGRU57-wJJC8oriGNC874DiTZk=s64",
      "userId": "03107537425962742698"
     },
     "user_tz": -480
    },
    "id": "O2jRyjgF2TTC",
    "outputId": "368d5b6b-7685-447c-ed76-68638a499f41"
   },
   "outputs": [
    {
     "data": {
      "text/plain": [
       "Date                      0\n",
       "Address                   0\n",
       "Species                   0\n",
       "Block                     0\n",
       "Street                    0\n",
       "Trap                      0\n",
       "AddressNumberAndStreet    0\n",
       "Latitude                  0\n",
       "Longitude                 0\n",
       "AddressAccuracy           0\n",
       "NumMosquitos              0\n",
       "WnvPresent                0\n",
       "dtype: int64"
      ]
     },
     "execution_count": 10,
     "metadata": {},
     "output_type": "execute_result"
    }
   ],
   "source": [
    "# Checking for null values.\n",
    "\n",
    "train.isnull().sum()"
   ]
  },
  {
   "cell_type": "code",
   "execution_count": 11,
   "metadata": {
    "colab": {},
    "colab_type": "code",
    "id": "9la5qjcg2TTG"
   },
   "outputs": [],
   "source": [
    "# Dropping unnecessary columns.\n",
    "\n",
    "train_cols_to_drop = ['Address', 'Block', 'Street', 'Trap', 'AddressNumberAndStreet', 'AddressAccuracy', 'NumMosquitos']\n",
    "train.drop(columns=train_cols_to_drop, inplace=True)"
   ]
  },
  {
   "cell_type": "code",
   "execution_count": 12,
   "metadata": {
    "colab": {
     "base_uri": "https://localhost:8080/",
     "height": 34
    },
    "colab_type": "code",
    "executionInfo": {
     "elapsed": 26102,
     "status": "ok",
     "timestamp": 1590207339360,
     "user": {
      "displayName": "Prerak Agarwal",
      "photoUrl": "https://lh3.googleusercontent.com/a-/AOh14GgQiw-kwRfieEqYSgGRU57-wJJC8oriGNC874DiTZk=s64",
      "userId": "03107537425962742698"
     },
     "user_tz": -480
    },
    "id": "8A8jzwPN2TTK",
    "outputId": "13da1a6b-5a37-4e13-8d96-db2dd986fcd9"
   },
   "outputs": [
    {
     "data": {
      "text/plain": [
       "(10506, 5)"
      ]
     },
     "execution_count": 12,
     "metadata": {},
     "output_type": "execute_result"
    }
   ],
   "source": [
    "train.shape"
   ]
  },
  {
   "cell_type": "code",
   "execution_count": 13,
   "metadata": {
    "colab": {},
    "colab_type": "code",
    "id": "Inzow3W42TTP"
   },
   "outputs": [],
   "source": [
    "# Dropping duplicate rows\n",
    "# Since NumMosquitos column is already dropped, there are a lot of rows which have duplicate values in all other columns. These rows need to be dropped.\n",
    "# ignore_index=True to reset the index after dropping all duplicate rows.\n",
    "\n",
    "train.drop_duplicates(ignore_index=True, inplace=True)"
   ]
  },
  {
   "cell_type": "code",
   "execution_count": 14,
   "metadata": {
    "colab": {
     "base_uri": "https://localhost:8080/",
     "height": 34
    },
    "colab_type": "code",
    "executionInfo": {
     "elapsed": 26079,
     "status": "ok",
     "timestamp": 1590207339362,
     "user": {
      "displayName": "Prerak Agarwal",
      "photoUrl": "https://lh3.googleusercontent.com/a-/AOh14GgQiw-kwRfieEqYSgGRU57-wJJC8oriGNC874DiTZk=s64",
      "userId": "03107537425962742698"
     },
     "user_tz": -480
    },
    "id": "-_s3pOmr2TTT",
    "outputId": "5f45b7b2-a3f4-4568-ecea-ec626e4998f6"
   },
   "outputs": [
    {
     "data": {
      "text/plain": [
       "(8610, 5)"
      ]
     },
     "execution_count": 14,
     "metadata": {},
     "output_type": "execute_result"
    }
   ],
   "source": [
    "train.shape"
   ]
  },
  {
   "cell_type": "code",
   "execution_count": 15,
   "metadata": {
    "colab": {},
    "colab_type": "code",
    "id": "RRMnaBXn2TTY"
   },
   "outputs": [],
   "source": [
    "# Converting Date column from object type to datetime type.\n",
    "\n",
    "train['Date'] = train['Date'].map(lambda date: datetime.strptime(date, '%Y-%m-%d'))"
   ]
  },
  {
   "cell_type": "code",
   "execution_count": 16,
   "metadata": {
    "colab": {
     "base_uri": "https://localhost:8080/",
     "height": 118
    },
    "colab_type": "code",
    "executionInfo": {
     "elapsed": 26057,
     "status": "ok",
     "timestamp": 1590207339365,
     "user": {
      "displayName": "Prerak Agarwal",
      "photoUrl": "https://lh3.googleusercontent.com/a-/AOh14GgQiw-kwRfieEqYSgGRU57-wJJC8oriGNC874DiTZk=s64",
      "userId": "03107537425962742698"
     },
     "user_tz": -480
    },
    "id": "OjBp1oJp2TTc",
    "outputId": "3124109e-de73-4034-9ce3-1279bc011524"
   },
   "outputs": [
    {
     "data": {
      "text/plain": [
       "Date          datetime64[ns]\n",
       "Species               object\n",
       "Latitude             float64\n",
       "Longitude            float64\n",
       "WnvPresent             int64\n",
       "dtype: object"
      ]
     },
     "execution_count": 16,
     "metadata": {},
     "output_type": "execute_result"
    }
   ],
   "source": [
    "train.dtypes"
   ]
  },
  {
   "cell_type": "code",
   "execution_count": 17,
   "metadata": {
    "colab": {
     "base_uri": "https://localhost:8080/",
     "height": 168
    },
    "colab_type": "code",
    "executionInfo": {
     "elapsed": 26039,
     "status": "ok",
     "timestamp": 1590207339367,
     "user": {
      "displayName": "Prerak Agarwal",
      "photoUrl": "https://lh3.googleusercontent.com/a-/AOh14GgQiw-kwRfieEqYSgGRU57-wJJC8oriGNC874DiTZk=s64",
      "userId": "03107537425962742698"
     },
     "user_tz": -480
    },
    "id": "poZIKp1w2TTf",
    "outputId": "1d3c15af-8234-4c9d-d15d-4af3a0fe9fd1"
   },
   "outputs": [
    {
     "data": {
      "text/plain": [
       "Species\n",
       "CULEX ERRATICUS             0\n",
       "CULEX PIPIENS             184\n",
       "CULEX PIPIENS/RESTUANS    225\n",
       "CULEX RESTUANS             48\n",
       "CULEX SALINARIUS            0\n",
       "CULEX TARSALIS              0\n",
       "CULEX TERRITANS             0\n",
       "Name: WnvPresent, dtype: int64"
      ]
     },
     "execution_count": 17,
     "metadata": {},
     "output_type": "execute_result"
    }
   ],
   "source": [
    "# Grouping by individual species which have (or don't have) the virus.\n",
    "\n",
    "species = train.groupby('Species')['WnvPresent'].sum()\n",
    "species"
   ]
  },
  {
   "cell_type": "markdown",
   "metadata": {},
   "source": [
    "**Only 3 of 7 species have the West Nile Virus.** Remaining 4 of 7 species do not have the virus, ie. they are virus free. Rows of these virus free species should be dropped."
   ]
  },
  {
   "cell_type": "code",
   "execution_count": 18,
   "metadata": {
    "colab": {
     "base_uri": "https://localhost:8080/",
     "height": 34
    },
    "colab_type": "code",
    "executionInfo": {
     "elapsed": 26022,
     "status": "ok",
     "timestamp": 1590207339369,
     "user": {
      "displayName": "Prerak Agarwal",
      "photoUrl": "https://lh3.googleusercontent.com/a-/AOh14GgQiw-kwRfieEqYSgGRU57-wJJC8oriGNC874DiTZk=s64",
      "userId": "03107537425962742698"
     },
     "user_tz": -480
    },
    "id": "iaWzr_S-2TTj",
    "outputId": "192b6db4-603c-484a-ac9e-994e2347c913"
   },
   "outputs": [
    {
     "data": {
      "text/plain": [
       "Index(['CULEX PIPIENS', 'CULEX PIPIENS/RESTUANS', 'CULEX RESTUANS'], dtype='object', name='Species')"
      ]
     },
     "execution_count": 18,
     "metadata": {},
     "output_type": "execute_result"
    }
   ],
   "source": [
    "# Filtering the species with virus.\n",
    "\n",
    "species_with_virus = species[species!=0].index\n",
    "species_with_virus"
   ]
  },
  {
   "cell_type": "code",
   "execution_count": 19,
   "metadata": {
    "colab": {},
    "colab_type": "code",
    "id": "xJUW8aMt2TTm"
   },
   "outputs": [],
   "source": [
    "# Using list comprehension to create a list of 1 and 0.\n",
    "# 1 if the species is in the list of species_with_virus above. 0 otherwise.\n",
    "\n",
    "train_species_with_virus = [1 if species in species_with_virus else 0 for species in train['Species']]"
   ]
  },
  {
   "cell_type": "code",
   "execution_count": 20,
   "metadata": {
    "colab": {
     "base_uri": "https://localhost:8080/",
     "height": 34
    },
    "colab_type": "code",
    "executionInfo": {
     "elapsed": 26001,
     "status": "ok",
     "timestamp": 1590207339372,
     "user": {
      "displayName": "Prerak Agarwal",
      "photoUrl": "https://lh3.googleusercontent.com/a-/AOh14GgQiw-kwRfieEqYSgGRU57-wJJC8oriGNC874DiTZk=s64",
      "userId": "03107537425962742698"
     },
     "user_tz": -480
    },
    "id": "-K3177y_2TTq",
    "outputId": "b4e9fe1e-e9e0-46f7-9fab-1bd5a2d181d3"
   },
   "outputs": [
    {
     "data": {
      "text/plain": [
       "306"
      ]
     },
     "execution_count": 20,
     "metadata": {},
     "output_type": "execute_result"
    }
   ],
   "source": [
    "# Checking remaining number of rows of species WITHOUT virus (the ones with 4 out of 7 virus free species above).\n",
    "\n",
    "train.shape[0] - sum(train_species_with_virus)\n",
    "\n",
    "# Only 306 rows out of 8304 (3.68%). So these rows can definitely be dropped."
   ]
  },
  {
   "cell_type": "code",
   "execution_count": 21,
   "metadata": {
    "colab": {},
    "colab_type": "code",
    "id": "ZSzjpgxy2TTu"
   },
   "outputs": [],
   "source": [
    "# Assigning above defined list to a new column VirusSpecies.\n",
    "\n",
    "train['VirusSpecies'] = train_species_with_virus"
   ]
  },
  {
   "cell_type": "code",
   "execution_count": 22,
   "metadata": {
    "colab": {},
    "colab_type": "code",
    "id": "dQO3MGf02TTx"
   },
   "outputs": [],
   "source": [
    "#  Keeping only rows with VirusSpecies = 1. Dropping all rows which have VirusSpecies = 0.\n",
    "# .copy() so that the train dataframe gets assigned as a new dataframe instead of just the reference link to it.\n",
    "\n",
    "train = train[train['VirusSpecies']==1].copy()"
   ]
  },
  {
   "cell_type": "code",
   "execution_count": 23,
   "metadata": {
    "colab": {
     "base_uri": "https://localhost:8080/",
     "height": 34
    },
    "colab_type": "code",
    "executionInfo": {
     "elapsed": 27022,
     "status": "ok",
     "timestamp": 1590207340421,
     "user": {
      "displayName": "Prerak Agarwal",
      "photoUrl": "https://lh3.googleusercontent.com/a-/AOh14GgQiw-kwRfieEqYSgGRU57-wJJC8oriGNC874DiTZk=s64",
      "userId": "03107537425962742698"
     },
     "user_tz": -480
    },
    "id": "mmV-0Qhl2TT2",
    "outputId": "0b28eb05-591a-4571-8454-3142e20f9f8b"
   },
   "outputs": [
    {
     "data": {
      "text/plain": [
       "(8304, 6)"
      ]
     },
     "execution_count": 23,
     "metadata": {},
     "output_type": "execute_result"
    }
   ],
   "source": [
    "train.shape"
   ]
  },
  {
   "cell_type": "code",
   "execution_count": 24,
   "metadata": {
    "colab": {},
    "colab_type": "code",
    "id": "NryuYzar2TT6"
   },
   "outputs": [],
   "source": [
    "# Dropping the VirusSpecies column now because it is no longer needed.\n",
    "\n",
    "train.drop(columns=['VirusSpecies'], inplace=True)"
   ]
  },
  {
   "cell_type": "code",
   "execution_count": 25,
   "metadata": {
    "colab": {
     "base_uri": "https://localhost:8080/",
     "height": 34
    },
    "colab_type": "code",
    "executionInfo": {
     "elapsed": 27000,
     "status": "ok",
     "timestamp": 1590207340424,
     "user": {
      "displayName": "Prerak Agarwal",
      "photoUrl": "https://lh3.googleusercontent.com/a-/AOh14GgQiw-kwRfieEqYSgGRU57-wJJC8oriGNC874DiTZk=s64",
      "userId": "03107537425962742698"
     },
     "user_tz": -480
    },
    "id": "CgH-6onG2TT9",
    "outputId": "528abfe3-f35c-499e-ed28-47bf75652090"
   },
   "outputs": [
    {
     "data": {
      "text/plain": [
       "(8304, 5)"
      ]
     },
     "execution_count": 25,
     "metadata": {},
     "output_type": "execute_result"
    }
   ],
   "source": [
    "train.shape"
   ]
  },
  {
   "cell_type": "code",
   "execution_count": 26,
   "metadata": {
    "colab": {
     "base_uri": "https://localhost:8080/",
     "height": 118
    },
    "colab_type": "code",
    "executionInfo": {
     "elapsed": 26984,
     "status": "ok",
     "timestamp": 1590207340425,
     "user": {
      "displayName": "Prerak Agarwal",
      "photoUrl": "https://lh3.googleusercontent.com/a-/AOh14GgQiw-kwRfieEqYSgGRU57-wJJC8oriGNC874DiTZk=s64",
      "userId": "03107537425962742698"
     },
     "user_tz": -480
    },
    "id": "DcQpu0tH2TUB",
    "outputId": "e5966363-804b-4210-cb83-fd8d30d34aeb"
   },
   "outputs": [
    {
     "data": {
      "text/plain": [
       "Date          datetime64[ns]\n",
       "Species               object\n",
       "Latitude             float64\n",
       "Longitude            float64\n",
       "WnvPresent             int64\n",
       "dtype: object"
      ]
     },
     "execution_count": 26,
     "metadata": {},
     "output_type": "execute_result"
    }
   ],
   "source": [
    "train.dtypes"
   ]
  },
  {
   "cell_type": "code",
   "execution_count": 27,
   "metadata": {
    "colab": {
     "base_uri": "https://localhost:8080/",
     "height": 118
    },
    "colab_type": "code",
    "executionInfo": {
     "elapsed": 26966,
     "status": "ok",
     "timestamp": 1590207340427,
     "user": {
      "displayName": "Prerak Agarwal",
      "photoUrl": "https://lh3.googleusercontent.com/a-/AOh14GgQiw-kwRfieEqYSgGRU57-wJJC8oriGNC874DiTZk=s64",
      "userId": "03107537425962742698"
     },
     "user_tz": -480
    },
    "id": "MNUWssd82TUE",
    "outputId": "b543746a-3a31-44ea-d3b4-e471c5ee4cf9"
   },
   "outputs": [
    {
     "data": {
      "text/plain": [
       "Date          0\n",
       "Species       0\n",
       "Latitude      0\n",
       "Longitude     0\n",
       "WnvPresent    0\n",
       "dtype: int64"
      ]
     },
     "execution_count": 27,
     "metadata": {},
     "output_type": "execute_result"
    }
   ],
   "source": [
    "# Checking for null values.\n",
    "\n",
    "train.isnull().sum()"
   ]
  },
  {
   "cell_type": "code",
   "execution_count": 28,
   "metadata": {
    "colab": {
     "base_uri": "https://localhost:8080/",
     "height": 34
    },
    "colab_type": "code",
    "executionInfo": {
     "elapsed": 26946,
     "status": "ok",
     "timestamp": 1590207340427,
     "user": {
      "displayName": "Prerak Agarwal",
      "photoUrl": "https://lh3.googleusercontent.com/a-/AOh14GgQiw-kwRfieEqYSgGRU57-wJJC8oriGNC874DiTZk=s64",
      "userId": "03107537425962742698"
     },
     "user_tz": -480
    },
    "id": "krRF_LIZ2TUH",
    "outputId": "7a5581c8-6c1f-4e8e-9979-d67faf7f06fc"
   },
   "outputs": [
    {
     "data": {
      "text/plain": [
       "3"
      ]
     },
     "execution_count": 28,
     "metadata": {},
     "output_type": "execute_result"
    }
   ],
   "source": [
    "# Checking no. of unique species remaining.\n",
    "\n",
    "len(train['Species'].unique())"
   ]
  },
  {
   "cell_type": "code",
   "execution_count": 29,
   "metadata": {
    "colab": {},
    "colab_type": "code",
    "id": "eM5j65AZ2TUN"
   },
   "outputs": [],
   "source": [
    "train = pd.get_dummies(train, columns=['Species'])"
   ]
  },
  {
   "cell_type": "code",
   "execution_count": 30,
   "metadata": {
    "colab": {
     "base_uri": "https://localhost:8080/",
     "height": 34
    },
    "colab_type": "code",
    "executionInfo": {
     "elapsed": 26910,
     "status": "ok",
     "timestamp": 1590207340430,
     "user": {
      "displayName": "Prerak Agarwal",
      "photoUrl": "https://lh3.googleusercontent.com/a-/AOh14GgQiw-kwRfieEqYSgGRU57-wJJC8oriGNC874DiTZk=s64",
      "userId": "03107537425962742698"
     },
     "user_tz": -480
    },
    "id": "JYBq6q1o2TUQ",
    "outputId": "767265e7-5920-425a-a5a6-1903764f1791"
   },
   "outputs": [
    {
     "data": {
      "text/plain": [
       "(8304, 7)"
      ]
     },
     "execution_count": 30,
     "metadata": {},
     "output_type": "execute_result"
    }
   ],
   "source": [
    "train.shape"
   ]
  },
  {
   "cell_type": "code",
   "execution_count": 31,
   "metadata": {
    "colab": {
     "base_uri": "https://localhost:8080/",
     "height": 34
    },
    "colab_type": "code",
    "executionInfo": {
     "elapsed": 26888,
     "status": "ok",
     "timestamp": 1590207340431,
     "user": {
      "displayName": "Prerak Agarwal",
      "photoUrl": "https://lh3.googleusercontent.com/a-/AOh14GgQiw-kwRfieEqYSgGRU57-wJJC8oriGNC874DiTZk=s64",
      "userId": "03107537425962742698"
     },
     "user_tz": -480
    },
    "id": "q9DzgzbI2TUV",
    "outputId": "fdef267d-88ae-4d98-a9e0-c535d26b43bf"
   },
   "outputs": [
    {
     "data": {
      "text/plain": [
       "7"
      ]
     },
     "execution_count": 31,
     "metadata": {},
     "output_type": "execute_result"
    }
   ],
   "source": [
    "# Checking final number of columns to ensure they are correct.\n",
    "# 5 = Initial number of columns before one-hot encoding.\n",
    "# 1 = Only Species column is being one-hot encoded.\n",
    "# 3 = No. of unique values in Species column.\n",
    "\n",
    "5 - 1 + 3"
   ]
  },
  {
   "cell_type": "code",
   "execution_count": 32,
   "metadata": {
    "colab": {
     "base_uri": "https://localhost:8080/",
     "height": 67
    },
    "colab_type": "code",
    "executionInfo": {
     "elapsed": 26866,
     "status": "ok",
     "timestamp": 1590207340432,
     "user": {
      "displayName": "Prerak Agarwal",
      "photoUrl": "https://lh3.googleusercontent.com/a-/AOh14GgQiw-kwRfieEqYSgGRU57-wJJC8oriGNC874DiTZk=s64",
      "userId": "03107537425962742698"
     },
     "user_tz": -480
    },
    "id": "-syE-TQu2TUa",
    "outputId": "75c5e336-a874-4ba6-a323-54aca87e6e28"
   },
   "outputs": [
    {
     "data": {
      "text/plain": [
       "Index(['Date', 'Latitude', 'Longitude', 'WnvPresent', 'Species_CULEX PIPIENS',\n",
       "       'Species_CULEX PIPIENS/RESTUANS', 'Species_CULEX RESTUANS'],\n",
       "      dtype='object')"
      ]
     },
     "execution_count": 32,
     "metadata": {},
     "output_type": "execute_result"
    }
   ],
   "source": [
    "train.columns"
   ]
  },
  {
   "cell_type": "code",
   "execution_count": 33,
   "metadata": {
    "colab": {},
    "colab_type": "code",
    "id": "SAw3jXT12TUf"
   },
   "outputs": [],
   "source": [
    "# Re-arranging the columns to put target variable WnvPresent as the last column.\n",
    "\n",
    "train_cols = list(train.columns)\n",
    "train_cols.remove('WnvPresent')\n",
    "train_cols.append('WnvPresent')\n",
    "\n",
    "train = train[train_cols]"
   ]
  },
  {
   "cell_type": "markdown",
   "metadata": {
    "colab_type": "text",
    "id": "qBSvqUPY2TUq"
   },
   "source": [
    "### Cleaning *test.csv*"
   ]
  },
  {
   "cell_type": "code",
   "execution_count": 34,
   "metadata": {
    "colab": {
     "base_uri": "https://localhost:8080/",
     "height": 279
    },
    "colab_type": "code",
    "executionInfo": {
     "elapsed": 27933,
     "status": "ok",
     "timestamp": 1590207341543,
     "user": {
      "displayName": "Prerak Agarwal",
      "photoUrl": "https://lh3.googleusercontent.com/a-/AOh14GgQiw-kwRfieEqYSgGRU57-wJJC8oriGNC874DiTZk=s64",
      "userId": "03107537425962742698"
     },
     "user_tz": -480
    },
    "id": "HyGZ84ac2TUt",
    "outputId": "a721aee1-2ad0-400a-f257-c734ad8c6122"
   },
   "outputs": [
    {
     "data": {
      "text/html": [
       "<div>\n",
       "<style scoped>\n",
       "    .dataframe tbody tr th:only-of-type {\n",
       "        vertical-align: middle;\n",
       "    }\n",
       "\n",
       "    .dataframe tbody tr th {\n",
       "        vertical-align: top;\n",
       "    }\n",
       "\n",
       "    .dataframe thead th {\n",
       "        text-align: right;\n",
       "    }\n",
       "</style>\n",
       "<table border=\"1\" class=\"dataframe\">\n",
       "  <thead>\n",
       "    <tr style=\"text-align: right;\">\n",
       "      <th></th>\n",
       "      <th>Id</th>\n",
       "      <th>Date</th>\n",
       "      <th>Address</th>\n",
       "      <th>Species</th>\n",
       "      <th>Block</th>\n",
       "      <th>Street</th>\n",
       "      <th>Trap</th>\n",
       "      <th>AddressNumberAndStreet</th>\n",
       "      <th>Latitude</th>\n",
       "      <th>Longitude</th>\n",
       "      <th>AddressAccuracy</th>\n",
       "    </tr>\n",
       "  </thead>\n",
       "  <tbody>\n",
       "    <tr>\n",
       "      <th>0</th>\n",
       "      <td>1</td>\n",
       "      <td>2008-06-11</td>\n",
       "      <td>4100 North Oak Park Avenue, Chicago, IL 60634, USA</td>\n",
       "      <td>CULEX PIPIENS/RESTUANS</td>\n",
       "      <td>41</td>\n",
       "      <td>N OAK PARK AVE</td>\n",
       "      <td>T002</td>\n",
       "      <td>4100  N OAK PARK AVE, Chicago, IL</td>\n",
       "      <td>41.95469</td>\n",
       "      <td>-87.800991</td>\n",
       "      <td>9</td>\n",
       "    </tr>\n",
       "    <tr>\n",
       "      <th>1</th>\n",
       "      <td>2</td>\n",
       "      <td>2008-06-11</td>\n",
       "      <td>4100 North Oak Park Avenue, Chicago, IL 60634, USA</td>\n",
       "      <td>CULEX RESTUANS</td>\n",
       "      <td>41</td>\n",
       "      <td>N OAK PARK AVE</td>\n",
       "      <td>T002</td>\n",
       "      <td>4100  N OAK PARK AVE, Chicago, IL</td>\n",
       "      <td>41.95469</td>\n",
       "      <td>-87.800991</td>\n",
       "      <td>9</td>\n",
       "    </tr>\n",
       "    <tr>\n",
       "      <th>2</th>\n",
       "      <td>3</td>\n",
       "      <td>2008-06-11</td>\n",
       "      <td>4100 North Oak Park Avenue, Chicago, IL 60634, USA</td>\n",
       "      <td>CULEX PIPIENS</td>\n",
       "      <td>41</td>\n",
       "      <td>N OAK PARK AVE</td>\n",
       "      <td>T002</td>\n",
       "      <td>4100  N OAK PARK AVE, Chicago, IL</td>\n",
       "      <td>41.95469</td>\n",
       "      <td>-87.800991</td>\n",
       "      <td>9</td>\n",
       "    </tr>\n",
       "    <tr>\n",
       "      <th>3</th>\n",
       "      <td>4</td>\n",
       "      <td>2008-06-11</td>\n",
       "      <td>4100 North Oak Park Avenue, Chicago, IL 60634, USA</td>\n",
       "      <td>CULEX SALINARIUS</td>\n",
       "      <td>41</td>\n",
       "      <td>N OAK PARK AVE</td>\n",
       "      <td>T002</td>\n",
       "      <td>4100  N OAK PARK AVE, Chicago, IL</td>\n",
       "      <td>41.95469</td>\n",
       "      <td>-87.800991</td>\n",
       "      <td>9</td>\n",
       "    </tr>\n",
       "    <tr>\n",
       "      <th>4</th>\n",
       "      <td>5</td>\n",
       "      <td>2008-06-11</td>\n",
       "      <td>4100 North Oak Park Avenue, Chicago, IL 60634, USA</td>\n",
       "      <td>CULEX TERRITANS</td>\n",
       "      <td>41</td>\n",
       "      <td>N OAK PARK AVE</td>\n",
       "      <td>T002</td>\n",
       "      <td>4100  N OAK PARK AVE, Chicago, IL</td>\n",
       "      <td>41.95469</td>\n",
       "      <td>-87.800991</td>\n",
       "      <td>9</td>\n",
       "    </tr>\n",
       "  </tbody>\n",
       "</table>\n",
       "</div>"
      ],
      "text/plain": [
       "   Id        Date                                             Address  \\\n",
       "0   1  2008-06-11  4100 North Oak Park Avenue, Chicago, IL 60634, USA   \n",
       "1   2  2008-06-11  4100 North Oak Park Avenue, Chicago, IL 60634, USA   \n",
       "2   3  2008-06-11  4100 North Oak Park Avenue, Chicago, IL 60634, USA   \n",
       "3   4  2008-06-11  4100 North Oak Park Avenue, Chicago, IL 60634, USA   \n",
       "4   5  2008-06-11  4100 North Oak Park Avenue, Chicago, IL 60634, USA   \n",
       "\n",
       "                  Species  Block           Street  Trap  \\\n",
       "0  CULEX PIPIENS/RESTUANS     41   N OAK PARK AVE  T002   \n",
       "1          CULEX RESTUANS     41   N OAK PARK AVE  T002   \n",
       "2           CULEX PIPIENS     41   N OAK PARK AVE  T002   \n",
       "3        CULEX SALINARIUS     41   N OAK PARK AVE  T002   \n",
       "4         CULEX TERRITANS     41   N OAK PARK AVE  T002   \n",
       "\n",
       "              AddressNumberAndStreet  Latitude  Longitude  AddressAccuracy  \n",
       "0  4100  N OAK PARK AVE, Chicago, IL  41.95469 -87.800991                9  \n",
       "1  4100  N OAK PARK AVE, Chicago, IL  41.95469 -87.800991                9  \n",
       "2  4100  N OAK PARK AVE, Chicago, IL  41.95469 -87.800991                9  \n",
       "3  4100  N OAK PARK AVE, Chicago, IL  41.95469 -87.800991                9  \n",
       "4  4100  N OAK PARK AVE, Chicago, IL  41.95469 -87.800991                9  "
      ]
     },
     "execution_count": 34,
     "metadata": {},
     "output_type": "execute_result"
    }
   ],
   "source": [
    "test.head()"
   ]
  },
  {
   "cell_type": "code",
   "execution_count": 35,
   "metadata": {
    "colab": {
     "base_uri": "https://localhost:8080/",
     "height": 34
    },
    "colab_type": "code",
    "executionInfo": {
     "elapsed": 27916,
     "status": "ok",
     "timestamp": 1590207341545,
     "user": {
      "displayName": "Prerak Agarwal",
      "photoUrl": "https://lh3.googleusercontent.com/a-/AOh14GgQiw-kwRfieEqYSgGRU57-wJJC8oriGNC874DiTZk=s64",
      "userId": "03107537425962742698"
     },
     "user_tz": -480
    },
    "id": "ZnDkY2GD2TUw",
    "outputId": "e89e2781-70a6-4158-e11e-b4fddceaa68f"
   },
   "outputs": [
    {
     "data": {
      "text/plain": [
       "(116293, 11)"
      ]
     },
     "execution_count": 35,
     "metadata": {},
     "output_type": "execute_result"
    }
   ],
   "source": [
    "test.shape"
   ]
  },
  {
   "cell_type": "code",
   "execution_count": 36,
   "metadata": {
    "colab": {
     "base_uri": "https://localhost:8080/",
     "height": 67
    },
    "colab_type": "code",
    "executionInfo": {
     "elapsed": 27898,
     "status": "ok",
     "timestamp": 1590207341546,
     "user": {
      "displayName": "Prerak Agarwal",
      "photoUrl": "https://lh3.googleusercontent.com/a-/AOh14GgQiw-kwRfieEqYSgGRU57-wJJC8oriGNC874DiTZk=s64",
      "userId": "03107537425962742698"
     },
     "user_tz": -480
    },
    "id": "6A6rpVgS2TU0",
    "outputId": "f5f894c6-a623-4408-986e-8b5c3ed0f574"
   },
   "outputs": [
    {
     "data": {
      "text/plain": [
       "Index(['Id', 'Date', 'Address', 'Species', 'Block', 'Street', 'Trap',\n",
       "       'AddressNumberAndStreet', 'Latitude', 'Longitude', 'AddressAccuracy'],\n",
       "      dtype='object')"
      ]
     },
     "execution_count": 36,
     "metadata": {},
     "output_type": "execute_result"
    }
   ],
   "source": [
    "test.columns"
   ]
  },
  {
   "cell_type": "code",
   "execution_count": 37,
   "metadata": {
    "colab": {
     "base_uri": "https://localhost:8080/",
     "height": 218
    },
    "colab_type": "code",
    "executionInfo": {
     "elapsed": 27874,
     "status": "ok",
     "timestamp": 1590207341547,
     "user": {
      "displayName": "Prerak Agarwal",
      "photoUrl": "https://lh3.googleusercontent.com/a-/AOh14GgQiw-kwRfieEqYSgGRU57-wJJC8oriGNC874DiTZk=s64",
      "userId": "03107537425962742698"
     },
     "user_tz": -480
    },
    "id": "Sd_wO2fr2TU3",
    "outputId": "11ea2d87-0bc8-4faa-8029-d0f09183b5e2"
   },
   "outputs": [
    {
     "data": {
      "text/plain": [
       "Id                          int64\n",
       "Date                       object\n",
       "Address                    object\n",
       "Species                    object\n",
       "Block                       int64\n",
       "Street                     object\n",
       "Trap                       object\n",
       "AddressNumberAndStreet     object\n",
       "Latitude                  float64\n",
       "Longitude                 float64\n",
       "AddressAccuracy             int64\n",
       "dtype: object"
      ]
     },
     "execution_count": 37,
     "metadata": {},
     "output_type": "execute_result"
    }
   ],
   "source": [
    "test.dtypes"
   ]
  },
  {
   "cell_type": "code",
   "execution_count": 38,
   "metadata": {
    "colab": {
     "base_uri": "https://localhost:8080/",
     "height": 218
    },
    "colab_type": "code",
    "executionInfo": {
     "elapsed": 27854,
     "status": "ok",
     "timestamp": 1590207341549,
     "user": {
      "displayName": "Prerak Agarwal",
      "photoUrl": "https://lh3.googleusercontent.com/a-/AOh14GgQiw-kwRfieEqYSgGRU57-wJJC8oriGNC874DiTZk=s64",
      "userId": "03107537425962742698"
     },
     "user_tz": -480
    },
    "id": "iDYB1pnf2TU6",
    "outputId": "8fe968ba-b947-43e1-f58f-a2bff71bf622"
   },
   "outputs": [
    {
     "data": {
      "text/plain": [
       "Id                        0\n",
       "Date                      0\n",
       "Address                   0\n",
       "Species                   0\n",
       "Block                     0\n",
       "Street                    0\n",
       "Trap                      0\n",
       "AddressNumberAndStreet    0\n",
       "Latitude                  0\n",
       "Longitude                 0\n",
       "AddressAccuracy           0\n",
       "dtype: int64"
      ]
     },
     "execution_count": 38,
     "metadata": {},
     "output_type": "execute_result"
    }
   ],
   "source": [
    "# Checking for null values.\n",
    "\n",
    "test.isnull().sum()"
   ]
  },
  {
   "cell_type": "code",
   "execution_count": 39,
   "metadata": {
    "colab": {},
    "colab_type": "code",
    "id": "V4RzdiOT2TU-"
   },
   "outputs": [],
   "source": [
    "# Dropping unnecessary columns.\n",
    "\n",
    "cols_to_drop = ['Address', 'Block', 'Street', 'Trap', 'AddressNumberAndStreet', 'AddressAccuracy']\n",
    "test.drop(columns=cols_to_drop, inplace=True)"
   ]
  },
  {
   "cell_type": "code",
   "execution_count": 40,
   "metadata": {
    "colab": {
     "base_uri": "https://localhost:8080/",
     "height": 34
    },
    "colab_type": "code",
    "executionInfo": {
     "elapsed": 27831,
     "status": "ok",
     "timestamp": 1590207341553,
     "user": {
      "displayName": "Prerak Agarwal",
      "photoUrl": "https://lh3.googleusercontent.com/a-/AOh14GgQiw-kwRfieEqYSgGRU57-wJJC8oriGNC874DiTZk=s64",
      "userId": "03107537425962742698"
     },
     "user_tz": -480
    },
    "id": "CbNCEbFU2TVB",
    "outputId": "89177bbb-cff9-483e-b83c-6e44dd3fc200"
   },
   "outputs": [
    {
     "data": {
      "text/plain": [
       "(116293, 5)"
      ]
     },
     "execution_count": 40,
     "metadata": {},
     "output_type": "execute_result"
    }
   ],
   "source": [
    "test.shape"
   ]
  },
  {
   "cell_type": "code",
   "execution_count": 41,
   "metadata": {
    "colab": {},
    "colab_type": "code",
    "id": "5QDDtq9M2TVH"
   },
   "outputs": [],
   "source": [
    "# Converting Date column from object type to datetime type.\n",
    "\n",
    "test['Date'] = test['Date'].map(lambda date: datetime.strptime(date, '%Y-%m-%d'))"
   ]
  },
  {
   "cell_type": "code",
   "execution_count": 42,
   "metadata": {
    "colab": {
     "base_uri": "https://localhost:8080/",
     "height": 118
    },
    "colab_type": "code",
    "executionInfo": {
     "elapsed": 28282,
     "status": "ok",
     "timestamp": 1590207342032,
     "user": {
      "displayName": "Prerak Agarwal",
      "photoUrl": "https://lh3.googleusercontent.com/a-/AOh14GgQiw-kwRfieEqYSgGRU57-wJJC8oriGNC874DiTZk=s64",
      "userId": "03107537425962742698"
     },
     "user_tz": -480
    },
    "id": "qLqzGW7W2TVN",
    "outputId": "5e976d19-f326-4b6b-c720-ea9090bbeba5"
   },
   "outputs": [
    {
     "data": {
      "text/plain": [
       "Id                    int64\n",
       "Date         datetime64[ns]\n",
       "Species              object\n",
       "Latitude            float64\n",
       "Longitude           float64\n",
       "dtype: object"
      ]
     },
     "execution_count": 42,
     "metadata": {},
     "output_type": "execute_result"
    }
   ],
   "source": [
    "test.dtypes"
   ]
  },
  {
   "cell_type": "code",
   "execution_count": 43,
   "metadata": {
    "colab": {},
    "colab_type": "code",
    "id": "4RMZR5Pl2TVQ"
   },
   "outputs": [],
   "source": [
    "test = pd.get_dummies(test, columns=['Species'])"
   ]
  },
  {
   "cell_type": "code",
   "execution_count": 44,
   "metadata": {
    "colab": {
     "base_uri": "https://localhost:8080/",
     "height": 34
    },
    "colab_type": "code",
    "executionInfo": {
     "elapsed": 28258,
     "status": "ok",
     "timestamp": 1590207342035,
     "user": {
      "displayName": "Prerak Agarwal",
      "photoUrl": "https://lh3.googleusercontent.com/a-/AOh14GgQiw-kwRfieEqYSgGRU57-wJJC8oriGNC874DiTZk=s64",
      "userId": "03107537425962742698"
     },
     "user_tz": -480
    },
    "id": "we63uiVM2TVU",
    "outputId": "0b0d3dae-4d91-4680-b3b1-93b51669d5db"
   },
   "outputs": [
    {
     "data": {
      "text/plain": [
       "(116293, 12)"
      ]
     },
     "execution_count": 44,
     "metadata": {},
     "output_type": "execute_result"
    }
   ],
   "source": [
    "test.shape"
   ]
  },
  {
   "cell_type": "code",
   "execution_count": 45,
   "metadata": {
    "colab": {
     "base_uri": "https://localhost:8080/",
     "height": 118
    },
    "colab_type": "code",
    "executionInfo": {
     "elapsed": 28240,
     "status": "ok",
     "timestamp": 1590207342036,
     "user": {
      "displayName": "Prerak Agarwal",
      "photoUrl": "https://lh3.googleusercontent.com/a-/AOh14GgQiw-kwRfieEqYSgGRU57-wJJC8oriGNC874DiTZk=s64",
      "userId": "03107537425962742698"
     },
     "user_tz": -480
    },
    "id": "LVR__tzn2TVb",
    "outputId": "e3f0b6bd-cf9a-4d6e-ebb6-bb47125e8f98"
   },
   "outputs": [
    {
     "data": {
      "text/plain": [
       "['Id',\n",
       " 'Species_CULEX ERRATICUS',\n",
       " 'Species_CULEX SALINARIUS',\n",
       " 'Species_CULEX TARSALIS',\n",
       " 'Species_CULEX TERRITANS',\n",
       " 'Species_UNSPECIFIED CULEX']"
      ]
     },
     "execution_count": 45,
     "metadata": {},
     "output_type": "execute_result"
    }
   ],
   "source": [
    "# Filtering extra columns in test df that do not exist in train df.\n",
    "\n",
    "test_extra_cols = []\n",
    "\n",
    "for col in list(test.columns):\n",
    "    if col not in list(train.columns):\n",
    "        test_extra_cols.append(col)\n",
    "\n",
    "test_extra_cols"
   ]
  },
  {
   "cell_type": "code",
   "execution_count": 46,
   "metadata": {
    "colab": {
     "base_uri": "https://localhost:8080/",
     "height": 101
    },
    "colab_type": "code",
    "executionInfo": {
     "elapsed": 28221,
     "status": "ok",
     "timestamp": 1590207342038,
     "user": {
      "displayName": "Prerak Agarwal",
      "photoUrl": "https://lh3.googleusercontent.com/a-/AOh14GgQiw-kwRfieEqYSgGRU57-wJJC8oriGNC874DiTZk=s64",
      "userId": "03107537425962742698"
     },
     "user_tz": -480
    },
    "id": "wkwmpafO2TVh",
    "outputId": "dd03bb26-4d73-4a4e-d326-8d3d1ead232e"
   },
   "outputs": [
    {
     "data": {
      "text/plain": [
       "['Species_CULEX ERRATICUS',\n",
       " 'Species_CULEX SALINARIUS',\n",
       " 'Species_CULEX TARSALIS',\n",
       " 'Species_CULEX TERRITANS',\n",
       " 'Species_UNSPECIFIED CULEX']"
      ]
     },
     "execution_count": 46,
     "metadata": {},
     "output_type": "execute_result"
    }
   ],
   "source": [
    "# Removing Id column from list of extra columns in test df.\n",
    "# We cannot drop Id column because this column is needed for final submission of results to kaggle.\n",
    "\n",
    "test_extra_cols.remove('Id')\n",
    "test_extra_cols"
   ]
  },
  {
   "cell_type": "code",
   "execution_count": 47,
   "metadata": {
    "colab": {},
    "colab_type": "code",
    "id": "Uu9nAzTN2TVl"
   },
   "outputs": [],
   "source": [
    "# Dropping all other extra columns from test df.\n",
    "# These columns can be dropped because they do not exist in train df. So they will never be used in our modelling process.\n",
    "\n",
    "test.drop(columns=test_extra_cols, inplace=True)"
   ]
  },
  {
   "cell_type": "code",
   "execution_count": 48,
   "metadata": {
    "colab": {
     "base_uri": "https://localhost:8080/",
     "height": 34
    },
    "colab_type": "code",
    "executionInfo": {
     "elapsed": 28120,
     "status": "ok",
     "timestamp": 1590207342040,
     "user": {
      "displayName": "Prerak Agarwal",
      "photoUrl": "https://lh3.googleusercontent.com/a-/AOh14GgQiw-kwRfieEqYSgGRU57-wJJC8oriGNC874DiTZk=s64",
      "userId": "03107537425962742698"
     },
     "user_tz": -480
    },
    "id": "nE51dyuK2TVp",
    "outputId": "99649fbd-f400-4df6-bc77-bcd5c2daf869"
   },
   "outputs": [
    {
     "data": {
      "text/plain": [
       "['WnvPresent']"
      ]
     },
     "execution_count": 48,
     "metadata": {},
     "output_type": "execute_result"
    }
   ],
   "source": [
    "# Filtering missing columns in test df that exist in train df.\n",
    "\n",
    "test_missing_cols = []\n",
    "\n",
    "for col in list(train.columns):\n",
    "    if col not in list(test.columns):\n",
    "        test_missing_cols.append(col)\n",
    "\n",
    "test_missing_cols\n",
    "\n",
    "# As expected, only 'WnvPresent' column is missing in test df, and it exists in train df."
   ]
  },
  {
   "cell_type": "code",
   "execution_count": 49,
   "metadata": {
    "colab": {},
    "colab_type": "code",
    "id": "r_5bmTe42TVu"
   },
   "outputs": [],
   "source": [
    "# Ensuring the order of columns in test df is same as train df (just for ease of viewing and comparison purposes).\n",
    "# Retaining the Id column in test as well.\n",
    "\n",
    "test_clean_cols = ['Id']\n",
    "test_clean_cols.extend(list(train.columns))\n",
    "test_clean_cols.remove('WnvPresent')\n",
    "test_clean_cols\n",
    "\n",
    "test = test[test_clean_cols]"
   ]
  },
  {
   "cell_type": "markdown",
   "metadata": {},
   "source": [
    "### Cleaning *spray.csv*"
   ]
  },
  {
   "cell_type": "code",
   "execution_count": 50,
   "metadata": {},
   "outputs": [
    {
     "data": {
      "text/html": [
       "<div>\n",
       "<style scoped>\n",
       "    .dataframe tbody tr th:only-of-type {\n",
       "        vertical-align: middle;\n",
       "    }\n",
       "\n",
       "    .dataframe tbody tr th {\n",
       "        vertical-align: top;\n",
       "    }\n",
       "\n",
       "    .dataframe thead th {\n",
       "        text-align: right;\n",
       "    }\n",
       "</style>\n",
       "<table border=\"1\" class=\"dataframe\">\n",
       "  <thead>\n",
       "    <tr style=\"text-align: right;\">\n",
       "      <th></th>\n",
       "      <th>Date</th>\n",
       "      <th>Time</th>\n",
       "      <th>Latitude</th>\n",
       "      <th>Longitude</th>\n",
       "    </tr>\n",
       "  </thead>\n",
       "  <tbody>\n",
       "    <tr>\n",
       "      <th>0</th>\n",
       "      <td>2011-08-29</td>\n",
       "      <td>6:56:58 PM</td>\n",
       "      <td>42.391623</td>\n",
       "      <td>-88.089163</td>\n",
       "    </tr>\n",
       "    <tr>\n",
       "      <th>1</th>\n",
       "      <td>2011-08-29</td>\n",
       "      <td>6:57:08 PM</td>\n",
       "      <td>42.391348</td>\n",
       "      <td>-88.089163</td>\n",
       "    </tr>\n",
       "    <tr>\n",
       "      <th>2</th>\n",
       "      <td>2011-08-29</td>\n",
       "      <td>6:57:18 PM</td>\n",
       "      <td>42.391022</td>\n",
       "      <td>-88.089157</td>\n",
       "    </tr>\n",
       "    <tr>\n",
       "      <th>3</th>\n",
       "      <td>2011-08-29</td>\n",
       "      <td>6:57:28 PM</td>\n",
       "      <td>42.390637</td>\n",
       "      <td>-88.089158</td>\n",
       "    </tr>\n",
       "    <tr>\n",
       "      <th>4</th>\n",
       "      <td>2011-08-29</td>\n",
       "      <td>6:57:38 PM</td>\n",
       "      <td>42.390410</td>\n",
       "      <td>-88.088858</td>\n",
       "    </tr>\n",
       "  </tbody>\n",
       "</table>\n",
       "</div>"
      ],
      "text/plain": [
       "         Date        Time   Latitude  Longitude\n",
       "0  2011-08-29  6:56:58 PM  42.391623 -88.089163\n",
       "1  2011-08-29  6:57:08 PM  42.391348 -88.089163\n",
       "2  2011-08-29  6:57:18 PM  42.391022 -88.089157\n",
       "3  2011-08-29  6:57:28 PM  42.390637 -88.089158\n",
       "4  2011-08-29  6:57:38 PM  42.390410 -88.088858"
      ]
     },
     "execution_count": 50,
     "metadata": {},
     "output_type": "execute_result"
    }
   ],
   "source": [
    "spray.head()"
   ]
  },
  {
   "cell_type": "code",
   "execution_count": 51,
   "metadata": {},
   "outputs": [
    {
     "data": {
      "text/plain": [
       "(14835, 4)"
      ]
     },
     "execution_count": 51,
     "metadata": {},
     "output_type": "execute_result"
    }
   ],
   "source": [
    "spray.shape"
   ]
  },
  {
   "cell_type": "code",
   "execution_count": 52,
   "metadata": {},
   "outputs": [
    {
     "data": {
      "text/plain": [
       "Index(['Date', 'Time', 'Latitude', 'Longitude'], dtype='object')"
      ]
     },
     "execution_count": 52,
     "metadata": {},
     "output_type": "execute_result"
    }
   ],
   "source": [
    "spray.columns"
   ]
  },
  {
   "cell_type": "code",
   "execution_count": 53,
   "metadata": {},
   "outputs": [
    {
     "data": {
      "text/plain": [
       "Date          object\n",
       "Time          object\n",
       "Latitude     float64\n",
       "Longitude    float64\n",
       "dtype: object"
      ]
     },
     "execution_count": 53,
     "metadata": {},
     "output_type": "execute_result"
    }
   ],
   "source": [
    "spray.dtypes"
   ]
  },
  {
   "cell_type": "code",
   "execution_count": 54,
   "metadata": {},
   "outputs": [
    {
     "data": {
      "text/plain": [
       "Date           0\n",
       "Time         584\n",
       "Latitude       0\n",
       "Longitude      0\n",
       "dtype: int64"
      ]
     },
     "execution_count": 54,
     "metadata": {},
     "output_type": "execute_result"
    }
   ],
   "source": [
    "spray.isnull().sum()"
   ]
  },
  {
   "cell_type": "code",
   "execution_count": 55,
   "metadata": {},
   "outputs": [],
   "source": [
    "# Dropping unnecessary columns.\n",
    "\n",
    "spray.drop(columns='Time', inplace=True)"
   ]
  },
  {
   "cell_type": "code",
   "execution_count": 56,
   "metadata": {},
   "outputs": [],
   "source": [
    "# Converting Date column from object type to datetime type.\n",
    "\n",
    "spray['Date'] = spray['Date'].map(lambda date: datetime.strptime(date, '%Y-%m-%d'))"
   ]
  },
  {
   "cell_type": "code",
   "execution_count": 57,
   "metadata": {},
   "outputs": [
    {
     "data": {
      "text/plain": [
       "Date         datetime64[ns]\n",
       "Latitude            float64\n",
       "Longitude           float64\n",
       "dtype: object"
      ]
     },
     "execution_count": 57,
     "metadata": {},
     "output_type": "execute_result"
    }
   ],
   "source": [
    "spray.dtypes"
   ]
  },
  {
   "cell_type": "markdown",
   "metadata": {},
   "source": [
    "### Cleaning *weather.csv*"
   ]
  },
  {
   "cell_type": "code",
   "execution_count": 58,
   "metadata": {},
   "outputs": [
    {
     "data": {
      "text/html": [
       "<div>\n",
       "<style scoped>\n",
       "    .dataframe tbody tr th:only-of-type {\n",
       "        vertical-align: middle;\n",
       "    }\n",
       "\n",
       "    .dataframe tbody tr th {\n",
       "        vertical-align: top;\n",
       "    }\n",
       "\n",
       "    .dataframe thead th {\n",
       "        text-align: right;\n",
       "    }\n",
       "</style>\n",
       "<table border=\"1\" class=\"dataframe\">\n",
       "  <thead>\n",
       "    <tr style=\"text-align: right;\">\n",
       "      <th></th>\n",
       "      <th>Station</th>\n",
       "      <th>Date</th>\n",
       "      <th>Tmax</th>\n",
       "      <th>Tmin</th>\n",
       "      <th>Tavg</th>\n",
       "      <th>Depart</th>\n",
       "      <th>DewPoint</th>\n",
       "      <th>WetBulb</th>\n",
       "      <th>Heat</th>\n",
       "      <th>Cool</th>\n",
       "      <th>Sunrise</th>\n",
       "      <th>Sunset</th>\n",
       "      <th>CodeSum</th>\n",
       "      <th>Depth</th>\n",
       "      <th>Water1</th>\n",
       "      <th>SnowFall</th>\n",
       "      <th>PrecipTotal</th>\n",
       "      <th>StnPressure</th>\n",
       "      <th>SeaLevel</th>\n",
       "      <th>ResultSpeed</th>\n",
       "      <th>ResultDir</th>\n",
       "      <th>AvgSpeed</th>\n",
       "    </tr>\n",
       "  </thead>\n",
       "  <tbody>\n",
       "    <tr>\n",
       "      <th>0</th>\n",
       "      <td>1</td>\n",
       "      <td>2007-05-01</td>\n",
       "      <td>83</td>\n",
       "      <td>50</td>\n",
       "      <td>67</td>\n",
       "      <td>14</td>\n",
       "      <td>51</td>\n",
       "      <td>56</td>\n",
       "      <td>0</td>\n",
       "      <td>2</td>\n",
       "      <td>0448</td>\n",
       "      <td>1849</td>\n",
       "      <td></td>\n",
       "      <td>0</td>\n",
       "      <td>M</td>\n",
       "      <td>0.0</td>\n",
       "      <td>0.00</td>\n",
       "      <td>29.10</td>\n",
       "      <td>29.82</td>\n",
       "      <td>1.7</td>\n",
       "      <td>27</td>\n",
       "      <td>9.2</td>\n",
       "    </tr>\n",
       "    <tr>\n",
       "      <th>1</th>\n",
       "      <td>2</td>\n",
       "      <td>2007-05-01</td>\n",
       "      <td>84</td>\n",
       "      <td>52</td>\n",
       "      <td>68</td>\n",
       "      <td>M</td>\n",
       "      <td>51</td>\n",
       "      <td>57</td>\n",
       "      <td>0</td>\n",
       "      <td>3</td>\n",
       "      <td>-</td>\n",
       "      <td>-</td>\n",
       "      <td></td>\n",
       "      <td>M</td>\n",
       "      <td>M</td>\n",
       "      <td>M</td>\n",
       "      <td>0.00</td>\n",
       "      <td>29.18</td>\n",
       "      <td>29.82</td>\n",
       "      <td>2.7</td>\n",
       "      <td>25</td>\n",
       "      <td>9.6</td>\n",
       "    </tr>\n",
       "    <tr>\n",
       "      <th>2</th>\n",
       "      <td>1</td>\n",
       "      <td>2007-05-02</td>\n",
       "      <td>59</td>\n",
       "      <td>42</td>\n",
       "      <td>51</td>\n",
       "      <td>-3</td>\n",
       "      <td>42</td>\n",
       "      <td>47</td>\n",
       "      <td>14</td>\n",
       "      <td>0</td>\n",
       "      <td>0447</td>\n",
       "      <td>1850</td>\n",
       "      <td>BR</td>\n",
       "      <td>0</td>\n",
       "      <td>M</td>\n",
       "      <td>0.0</td>\n",
       "      <td>0.00</td>\n",
       "      <td>29.38</td>\n",
       "      <td>30.09</td>\n",
       "      <td>13.0</td>\n",
       "      <td>4</td>\n",
       "      <td>13.4</td>\n",
       "    </tr>\n",
       "    <tr>\n",
       "      <th>3</th>\n",
       "      <td>2</td>\n",
       "      <td>2007-05-02</td>\n",
       "      <td>60</td>\n",
       "      <td>43</td>\n",
       "      <td>52</td>\n",
       "      <td>M</td>\n",
       "      <td>42</td>\n",
       "      <td>47</td>\n",
       "      <td>13</td>\n",
       "      <td>0</td>\n",
       "      <td>-</td>\n",
       "      <td>-</td>\n",
       "      <td>BR HZ</td>\n",
       "      <td>M</td>\n",
       "      <td>M</td>\n",
       "      <td>M</td>\n",
       "      <td>0.00</td>\n",
       "      <td>29.44</td>\n",
       "      <td>30.08</td>\n",
       "      <td>13.3</td>\n",
       "      <td>2</td>\n",
       "      <td>13.4</td>\n",
       "    </tr>\n",
       "    <tr>\n",
       "      <th>4</th>\n",
       "      <td>1</td>\n",
       "      <td>2007-05-03</td>\n",
       "      <td>66</td>\n",
       "      <td>46</td>\n",
       "      <td>56</td>\n",
       "      <td>2</td>\n",
       "      <td>40</td>\n",
       "      <td>48</td>\n",
       "      <td>9</td>\n",
       "      <td>0</td>\n",
       "      <td>0446</td>\n",
       "      <td>1851</td>\n",
       "      <td></td>\n",
       "      <td>0</td>\n",
       "      <td>M</td>\n",
       "      <td>0.0</td>\n",
       "      <td>0.00</td>\n",
       "      <td>29.39</td>\n",
       "      <td>30.12</td>\n",
       "      <td>11.7</td>\n",
       "      <td>7</td>\n",
       "      <td>11.9</td>\n",
       "    </tr>\n",
       "  </tbody>\n",
       "</table>\n",
       "</div>"
      ],
      "text/plain": [
       "   Station        Date  Tmax  Tmin Tavg Depart  DewPoint WetBulb Heat Cool  \\\n",
       "0        1  2007-05-01    83    50   67     14        51      56    0    2   \n",
       "1        2  2007-05-01    84    52   68      M        51      57    0    3   \n",
       "2        1  2007-05-02    59    42   51     -3        42      47   14    0   \n",
       "3        2  2007-05-02    60    43   52      M        42      47   13    0   \n",
       "4        1  2007-05-03    66    46   56      2        40      48    9    0   \n",
       "\n",
       "  Sunrise Sunset CodeSum Depth Water1 SnowFall PrecipTotal StnPressure  \\\n",
       "0    0448   1849             0      M      0.0        0.00       29.10   \n",
       "1       -      -             M      M        M        0.00       29.18   \n",
       "2    0447   1850      BR     0      M      0.0        0.00       29.38   \n",
       "3       -      -   BR HZ     M      M        M        0.00       29.44   \n",
       "4    0446   1851             0      M      0.0        0.00       29.39   \n",
       "\n",
       "  SeaLevel  ResultSpeed  ResultDir AvgSpeed  \n",
       "0    29.82          1.7         27      9.2  \n",
       "1    29.82          2.7         25      9.6  \n",
       "2    30.09         13.0          4     13.4  \n",
       "3    30.08         13.3          2     13.4  \n",
       "4    30.12         11.7          7     11.9  "
      ]
     },
     "execution_count": 58,
     "metadata": {},
     "output_type": "execute_result"
    }
   ],
   "source": [
    "weather.head()"
   ]
  },
  {
   "cell_type": "code",
   "execution_count": 59,
   "metadata": {},
   "outputs": [
    {
     "data": {
      "text/plain": [
       "(2944, 22)"
      ]
     },
     "execution_count": 59,
     "metadata": {},
     "output_type": "execute_result"
    }
   ],
   "source": [
    "weather.shape"
   ]
  },
  {
   "cell_type": "code",
   "execution_count": 60,
   "metadata": {},
   "outputs": [
    {
     "data": {
      "text/plain": [
       "Index(['Station', 'Date', 'Tmax', 'Tmin', 'Tavg', 'Depart', 'DewPoint',\n",
       "       'WetBulb', 'Heat', 'Cool', 'Sunrise', 'Sunset', 'CodeSum', 'Depth',\n",
       "       'Water1', 'SnowFall', 'PrecipTotal', 'StnPressure', 'SeaLevel',\n",
       "       'ResultSpeed', 'ResultDir', 'AvgSpeed'],\n",
       "      dtype='object')"
      ]
     },
     "execution_count": 60,
     "metadata": {},
     "output_type": "execute_result"
    }
   ],
   "source": [
    "weather.columns"
   ]
  },
  {
   "cell_type": "code",
   "execution_count": 61,
   "metadata": {},
   "outputs": [
    {
     "data": {
      "text/plain": [
       "Station          int64\n",
       "Date            object\n",
       "Tmax             int64\n",
       "Tmin             int64\n",
       "Tavg            object\n",
       "Depart          object\n",
       "DewPoint         int64\n",
       "WetBulb         object\n",
       "Heat            object\n",
       "Cool            object\n",
       "Sunrise         object\n",
       "Sunset          object\n",
       "CodeSum         object\n",
       "Depth           object\n",
       "Water1          object\n",
       "SnowFall        object\n",
       "PrecipTotal     object\n",
       "StnPressure     object\n",
       "SeaLevel        object\n",
       "ResultSpeed    float64\n",
       "ResultDir        int64\n",
       "AvgSpeed        object\n",
       "dtype: object"
      ]
     },
     "execution_count": 61,
     "metadata": {},
     "output_type": "execute_result"
    }
   ],
   "source": [
    "weather.dtypes"
   ]
  },
  {
   "cell_type": "code",
   "execution_count": 62,
   "metadata": {},
   "outputs": [
    {
     "data": {
      "text/plain": [
       "Station        0\n",
       "Date           0\n",
       "Tmax           0\n",
       "Tmin           0\n",
       "Tavg           0\n",
       "Depart         0\n",
       "DewPoint       0\n",
       "WetBulb        0\n",
       "Heat           0\n",
       "Cool           0\n",
       "Sunrise        0\n",
       "Sunset         0\n",
       "CodeSum        0\n",
       "Depth          0\n",
       "Water1         0\n",
       "SnowFall       0\n",
       "PrecipTotal    0\n",
       "StnPressure    0\n",
       "SeaLevel       0\n",
       "ResultSpeed    0\n",
       "ResultDir      0\n",
       "AvgSpeed       0\n",
       "dtype: int64"
      ]
     },
     "execution_count": 62,
     "metadata": {},
     "output_type": "execute_result"
    }
   ],
   "source": [
    "weather.isnull().sum()"
   ]
  },
  {
   "cell_type": "code",
   "execution_count": 63,
   "metadata": {},
   "outputs": [
    {
     "name": "stdout",
     "output_type": "stream",
     "text": [
      "2014-10-31 2007-05-01\n"
     ]
    }
   ],
   "source": [
    "print(weather['Date'].max(), weather['Date'].min())"
   ]
  },
  {
   "cell_type": "code",
   "execution_count": 64,
   "metadata": {},
   "outputs": [],
   "source": [
    "# Dropping unnecessary columns.\n",
    "\n",
    "cols_to_drop = ['Water1','Depth','SnowFall']\n",
    "weather.drop(columns=cols_to_drop, inplace=True)"
   ]
  },
  {
   "cell_type": "code",
   "execution_count": 65,
   "metadata": {},
   "outputs": [],
   "source": [
    "# Replacing 'T's and 'M's with 0s in some columns.\n",
    "\n",
    "weather.PrecipTotal.replace(['  T','M'], 0, inplace=True)\n",
    "weather.WetBulb.replace(['M'], 0, inplace=True)\n",
    "weather.Heat.replace(['M'], 0, inplace=True)\n",
    "weather.Cool.replace(['M'], 0, inplace=True)\n",
    "weather.StnPressure.replace(['M'], 0, inplace=True)\n",
    "weather.SeaLevel.replace(['M'], 0, inplace=True)\n",
    "weather.AvgSpeed.replace(['M'], 0, inplace=True)"
   ]
  },
  {
   "cell_type": "code",
   "execution_count": 66,
   "metadata": {},
   "outputs": [],
   "source": [
    "# Changing column dtypes from type object to type float.\n",
    "\n",
    "weather.PrecipTotal = weather.PrecipTotal.astype(float)\n",
    "weather.WetBulb = weather.WetBulb.astype(float)\n",
    "weather.Heat = weather.Heat.astype(float)\n",
    "weather.Cool = weather.Cool.astype(float)\n",
    "weather.StnPressure = weather.StnPressure.astype(float)\n",
    "weather.SeaLevel = weather.SeaLevel.astype(float)\n",
    "weather.AvgSpeed = weather.AvgSpeed.astype(float)"
   ]
  },
  {
   "cell_type": "code",
   "execution_count": 67,
   "metadata": {},
   "outputs": [],
   "source": [
    "# Calculate Tavg using (Tmax + Tmin)/2 to deal with 'M's in Tavg.\n",
    "\n",
    "weather.Tavg = (weather.Tmax + weather.Tmin)/2"
   ]
  },
  {
   "cell_type": "code",
   "execution_count": 68,
   "metadata": {},
   "outputs": [
    {
     "data": {
      "text/html": [
       "<div>\n",
       "<style scoped>\n",
       "    .dataframe tbody tr th:only-of-type {\n",
       "        vertical-align: middle;\n",
       "    }\n",
       "\n",
       "    .dataframe tbody tr th {\n",
       "        vertical-align: top;\n",
       "    }\n",
       "\n",
       "    .dataframe thead th {\n",
       "        text-align: right;\n",
       "    }\n",
       "</style>\n",
       "<table border=\"1\" class=\"dataframe\">\n",
       "  <thead>\n",
       "    <tr style=\"text-align: right;\">\n",
       "      <th></th>\n",
       "      <th>Station</th>\n",
       "      <th>Date</th>\n",
       "      <th>Tmax</th>\n",
       "      <th>Tmin</th>\n",
       "      <th>Tavg</th>\n",
       "      <th>Depart</th>\n",
       "      <th>DewPoint</th>\n",
       "      <th>WetBulb</th>\n",
       "      <th>Heat</th>\n",
       "      <th>Cool</th>\n",
       "      <th>Sunrise</th>\n",
       "      <th>Sunset</th>\n",
       "      <th>CodeSum</th>\n",
       "      <th>PrecipTotal</th>\n",
       "      <th>StnPressure</th>\n",
       "      <th>SeaLevel</th>\n",
       "      <th>ResultSpeed</th>\n",
       "      <th>ResultDir</th>\n",
       "      <th>AvgSpeed</th>\n",
       "    </tr>\n",
       "  </thead>\n",
       "  <tbody>\n",
       "    <tr>\n",
       "      <th>0</th>\n",
       "      <td>1</td>\n",
       "      <td>2007-05-01</td>\n",
       "      <td>83</td>\n",
       "      <td>50</td>\n",
       "      <td>66.5</td>\n",
       "      <td>14</td>\n",
       "      <td>51</td>\n",
       "      <td>56.0</td>\n",
       "      <td>0.0</td>\n",
       "      <td>2.0</td>\n",
       "      <td>0448</td>\n",
       "      <td>1849</td>\n",
       "      <td></td>\n",
       "      <td>0.0</td>\n",
       "      <td>29.10</td>\n",
       "      <td>29.82</td>\n",
       "      <td>1.7</td>\n",
       "      <td>27</td>\n",
       "      <td>9.2</td>\n",
       "    </tr>\n",
       "    <tr>\n",
       "      <th>1</th>\n",
       "      <td>2</td>\n",
       "      <td>2007-05-01</td>\n",
       "      <td>84</td>\n",
       "      <td>52</td>\n",
       "      <td>68.0</td>\n",
       "      <td>M</td>\n",
       "      <td>51</td>\n",
       "      <td>57.0</td>\n",
       "      <td>0.0</td>\n",
       "      <td>3.0</td>\n",
       "      <td>-</td>\n",
       "      <td>-</td>\n",
       "      <td></td>\n",
       "      <td>0.0</td>\n",
       "      <td>29.18</td>\n",
       "      <td>29.82</td>\n",
       "      <td>2.7</td>\n",
       "      <td>25</td>\n",
       "      <td>9.6</td>\n",
       "    </tr>\n",
       "    <tr>\n",
       "      <th>2</th>\n",
       "      <td>1</td>\n",
       "      <td>2007-05-02</td>\n",
       "      <td>59</td>\n",
       "      <td>42</td>\n",
       "      <td>50.5</td>\n",
       "      <td>-3</td>\n",
       "      <td>42</td>\n",
       "      <td>47.0</td>\n",
       "      <td>14.0</td>\n",
       "      <td>0.0</td>\n",
       "      <td>0447</td>\n",
       "      <td>1850</td>\n",
       "      <td>BR</td>\n",
       "      <td>0.0</td>\n",
       "      <td>29.38</td>\n",
       "      <td>30.09</td>\n",
       "      <td>13.0</td>\n",
       "      <td>4</td>\n",
       "      <td>13.4</td>\n",
       "    </tr>\n",
       "    <tr>\n",
       "      <th>3</th>\n",
       "      <td>2</td>\n",
       "      <td>2007-05-02</td>\n",
       "      <td>60</td>\n",
       "      <td>43</td>\n",
       "      <td>51.5</td>\n",
       "      <td>M</td>\n",
       "      <td>42</td>\n",
       "      <td>47.0</td>\n",
       "      <td>13.0</td>\n",
       "      <td>0.0</td>\n",
       "      <td>-</td>\n",
       "      <td>-</td>\n",
       "      <td>BR HZ</td>\n",
       "      <td>0.0</td>\n",
       "      <td>29.44</td>\n",
       "      <td>30.08</td>\n",
       "      <td>13.3</td>\n",
       "      <td>2</td>\n",
       "      <td>13.4</td>\n",
       "    </tr>\n",
       "    <tr>\n",
       "      <th>4</th>\n",
       "      <td>1</td>\n",
       "      <td>2007-05-03</td>\n",
       "      <td>66</td>\n",
       "      <td>46</td>\n",
       "      <td>56.0</td>\n",
       "      <td>2</td>\n",
       "      <td>40</td>\n",
       "      <td>48.0</td>\n",
       "      <td>9.0</td>\n",
       "      <td>0.0</td>\n",
       "      <td>0446</td>\n",
       "      <td>1851</td>\n",
       "      <td></td>\n",
       "      <td>0.0</td>\n",
       "      <td>29.39</td>\n",
       "      <td>30.12</td>\n",
       "      <td>11.7</td>\n",
       "      <td>7</td>\n",
       "      <td>11.9</td>\n",
       "    </tr>\n",
       "  </tbody>\n",
       "</table>\n",
       "</div>"
      ],
      "text/plain": [
       "   Station        Date  Tmax  Tmin  Tavg Depart  DewPoint  WetBulb  Heat  \\\n",
       "0        1  2007-05-01    83    50  66.5     14        51     56.0   0.0   \n",
       "1        2  2007-05-01    84    52  68.0      M        51     57.0   0.0   \n",
       "2        1  2007-05-02    59    42  50.5     -3        42     47.0  14.0   \n",
       "3        2  2007-05-02    60    43  51.5      M        42     47.0  13.0   \n",
       "4        1  2007-05-03    66    46  56.0      2        40     48.0   9.0   \n",
       "\n",
       "   Cool Sunrise Sunset CodeSum  PrecipTotal  StnPressure  SeaLevel  \\\n",
       "0   2.0    0448   1849                  0.0        29.10     29.82   \n",
       "1   3.0       -      -                  0.0        29.18     29.82   \n",
       "2   0.0    0447   1850      BR          0.0        29.38     30.09   \n",
       "3   0.0       -      -   BR HZ          0.0        29.44     30.08   \n",
       "4   0.0    0446   1851                  0.0        29.39     30.12   \n",
       "\n",
       "   ResultSpeed  ResultDir  AvgSpeed  \n",
       "0          1.7         27       9.2  \n",
       "1          2.7         25       9.6  \n",
       "2         13.0          4      13.4  \n",
       "3         13.3          2      13.4  \n",
       "4         11.7          7      11.9  "
      ]
     },
     "execution_count": 68,
     "metadata": {},
     "output_type": "execute_result"
    }
   ],
   "source": [
    "weather.head()"
   ]
  },
  {
   "cell_type": "code",
   "execution_count": 69,
   "metadata": {},
   "outputs": [],
   "source": [
    "# Grouping values from station 1 & 2 by dates.\n",
    "# For all numerical columns, we take the average of the values from stations 1 & 2.\n",
    "\n",
    "weather_stations_combined = weather.groupby('Date').mean()"
   ]
  },
  {
   "cell_type": "code",
   "execution_count": 70,
   "metadata": {},
   "outputs": [],
   "source": [
    "# Dropping the Stations column from weather_stations_combined.\n",
    "\n",
    "weather_stations_combined.drop(['Station'], axis=1, inplace=True)"
   ]
  },
  {
   "cell_type": "code",
   "execution_count": 71,
   "metadata": {},
   "outputs": [
    {
     "data": {
      "text/html": [
       "<div>\n",
       "<style scoped>\n",
       "    .dataframe tbody tr th:only-of-type {\n",
       "        vertical-align: middle;\n",
       "    }\n",
       "\n",
       "    .dataframe tbody tr th {\n",
       "        vertical-align: top;\n",
       "    }\n",
       "\n",
       "    .dataframe thead th {\n",
       "        text-align: right;\n",
       "    }\n",
       "</style>\n",
       "<table border=\"1\" class=\"dataframe\">\n",
       "  <thead>\n",
       "    <tr style=\"text-align: right;\">\n",
       "      <th></th>\n",
       "      <th>Tmax</th>\n",
       "      <th>Tmin</th>\n",
       "      <th>Tavg</th>\n",
       "      <th>DewPoint</th>\n",
       "      <th>WetBulb</th>\n",
       "      <th>Heat</th>\n",
       "      <th>Cool</th>\n",
       "      <th>PrecipTotal</th>\n",
       "      <th>StnPressure</th>\n",
       "      <th>SeaLevel</th>\n",
       "      <th>ResultSpeed</th>\n",
       "      <th>ResultDir</th>\n",
       "      <th>AvgSpeed</th>\n",
       "    </tr>\n",
       "    <tr>\n",
       "      <th>Date</th>\n",
       "      <th></th>\n",
       "      <th></th>\n",
       "      <th></th>\n",
       "      <th></th>\n",
       "      <th></th>\n",
       "      <th></th>\n",
       "      <th></th>\n",
       "      <th></th>\n",
       "      <th></th>\n",
       "      <th></th>\n",
       "      <th></th>\n",
       "      <th></th>\n",
       "      <th></th>\n",
       "    </tr>\n",
       "  </thead>\n",
       "  <tbody>\n",
       "    <tr>\n",
       "      <th>2007-05-01</th>\n",
       "      <td>83.5</td>\n",
       "      <td>51.0</td>\n",
       "      <td>67.25</td>\n",
       "      <td>51.0</td>\n",
       "      <td>56.5</td>\n",
       "      <td>0.0</td>\n",
       "      <td>2.5</td>\n",
       "      <td>0.0</td>\n",
       "      <td>29.140</td>\n",
       "      <td>29.820</td>\n",
       "      <td>2.20</td>\n",
       "      <td>26.0</td>\n",
       "      <td>9.40</td>\n",
       "    </tr>\n",
       "    <tr>\n",
       "      <th>2007-05-02</th>\n",
       "      <td>59.5</td>\n",
       "      <td>42.5</td>\n",
       "      <td>51.00</td>\n",
       "      <td>42.0</td>\n",
       "      <td>47.0</td>\n",
       "      <td>13.5</td>\n",
       "      <td>0.0</td>\n",
       "      <td>0.0</td>\n",
       "      <td>29.410</td>\n",
       "      <td>30.085</td>\n",
       "      <td>13.15</td>\n",
       "      <td>3.0</td>\n",
       "      <td>13.40</td>\n",
       "    </tr>\n",
       "    <tr>\n",
       "      <th>2007-05-03</th>\n",
       "      <td>66.5</td>\n",
       "      <td>47.0</td>\n",
       "      <td>56.75</td>\n",
       "      <td>40.0</td>\n",
       "      <td>49.0</td>\n",
       "      <td>8.0</td>\n",
       "      <td>0.0</td>\n",
       "      <td>0.0</td>\n",
       "      <td>29.425</td>\n",
       "      <td>30.120</td>\n",
       "      <td>12.30</td>\n",
       "      <td>6.5</td>\n",
       "      <td>12.55</td>\n",
       "    </tr>\n",
       "    <tr>\n",
       "      <th>2007-05-04</th>\n",
       "      <td>72.0</td>\n",
       "      <td>50.0</td>\n",
       "      <td>61.00</td>\n",
       "      <td>41.5</td>\n",
       "      <td>50.0</td>\n",
       "      <td>3.5</td>\n",
       "      <td>0.0</td>\n",
       "      <td>0.0</td>\n",
       "      <td>29.335</td>\n",
       "      <td>30.045</td>\n",
       "      <td>10.25</td>\n",
       "      <td>7.5</td>\n",
       "      <td>10.60</td>\n",
       "    </tr>\n",
       "    <tr>\n",
       "      <th>2007-05-05</th>\n",
       "      <td>66.0</td>\n",
       "      <td>53.5</td>\n",
       "      <td>59.75</td>\n",
       "      <td>38.5</td>\n",
       "      <td>49.5</td>\n",
       "      <td>5.0</td>\n",
       "      <td>0.0</td>\n",
       "      <td>0.0</td>\n",
       "      <td>29.430</td>\n",
       "      <td>30.095</td>\n",
       "      <td>11.45</td>\n",
       "      <td>7.0</td>\n",
       "      <td>11.75</td>\n",
       "    </tr>\n",
       "  </tbody>\n",
       "</table>\n",
       "</div>"
      ],
      "text/plain": [
       "            Tmax  Tmin   Tavg  DewPoint  WetBulb  Heat  Cool  PrecipTotal  \\\n",
       "Date                                                                        \n",
       "2007-05-01  83.5  51.0  67.25      51.0     56.5   0.0   2.5          0.0   \n",
       "2007-05-02  59.5  42.5  51.00      42.0     47.0  13.5   0.0          0.0   \n",
       "2007-05-03  66.5  47.0  56.75      40.0     49.0   8.0   0.0          0.0   \n",
       "2007-05-04  72.0  50.0  61.00      41.5     50.0   3.5   0.0          0.0   \n",
       "2007-05-05  66.0  53.5  59.75      38.5     49.5   5.0   0.0          0.0   \n",
       "\n",
       "            StnPressure  SeaLevel  ResultSpeed  ResultDir  AvgSpeed  \n",
       "Date                                                                 \n",
       "2007-05-01       29.140    29.820         2.20       26.0      9.40  \n",
       "2007-05-02       29.410    30.085        13.15        3.0     13.40  \n",
       "2007-05-03       29.425    30.120        12.30        6.5     12.55  \n",
       "2007-05-04       29.335    30.045        10.25        7.5     10.60  \n",
       "2007-05-05       29.430    30.095        11.45        7.0     11.75  "
      ]
     },
     "execution_count": 71,
     "metadata": {},
     "output_type": "execute_result"
    }
   ],
   "source": [
    "weather_stations_combined.head()"
   ]
  },
  {
   "cell_type": "code",
   "execution_count": 72,
   "metadata": {},
   "outputs": [],
   "source": [
    "# Defining a function to convert 24h time to float number (for example, 0445 will be converted to 4.75).\n",
    "\n",
    "def sun_time_converter(sun_time):\n",
    "  \n",
    "  # Getting the hour part of the time to convert to the whole number part in the float number.\n",
    "  hours = sun_time // 100\n",
    "\n",
    "  # Getting the minute part of the time to convert to the decimal part in the float number.\n",
    "  minutes = (sun_time % 100) / 60\n",
    "\n",
    "  return hours + minutes"
   ]
  },
  {
   "cell_type": "code",
   "execution_count": 73,
   "metadata": {},
   "outputs": [],
   "source": [
    "# Creating series of sunrise and sunset times and converting them to dtype float.\n",
    "sunrise_times = weather[weather['Station']==1]['Sunrise'].astype(float)\n",
    "sunset_times = weather[weather['Station']==1]['Sunset'].astype(float)\n",
    "\n",
    "# Mapping the above created function to convert 24h time values to floating point numbers.\n",
    "weather_stations_combined['Sunrise'] = list(sunrise_times.map(sun_time_converter))\n",
    "weather_stations_combined['Sunset'] = list(sunset_times.map(sun_time_converter))"
   ]
  },
  {
   "cell_type": "code",
   "execution_count": 74,
   "metadata": {},
   "outputs": [
    {
     "data": {
      "text/html": [
       "<div>\n",
       "<style scoped>\n",
       "    .dataframe tbody tr th:only-of-type {\n",
       "        vertical-align: middle;\n",
       "    }\n",
       "\n",
       "    .dataframe tbody tr th {\n",
       "        vertical-align: top;\n",
       "    }\n",
       "\n",
       "    .dataframe thead th {\n",
       "        text-align: right;\n",
       "    }\n",
       "</style>\n",
       "<table border=\"1\" class=\"dataframe\">\n",
       "  <thead>\n",
       "    <tr style=\"text-align: right;\">\n",
       "      <th></th>\n",
       "      <th>Tmax</th>\n",
       "      <th>Tmin</th>\n",
       "      <th>Tavg</th>\n",
       "      <th>DewPoint</th>\n",
       "      <th>WetBulb</th>\n",
       "      <th>Heat</th>\n",
       "      <th>Cool</th>\n",
       "      <th>PrecipTotal</th>\n",
       "      <th>StnPressure</th>\n",
       "      <th>SeaLevel</th>\n",
       "      <th>ResultSpeed</th>\n",
       "      <th>ResultDir</th>\n",
       "      <th>AvgSpeed</th>\n",
       "      <th>Sunrise</th>\n",
       "      <th>Sunset</th>\n",
       "    </tr>\n",
       "    <tr>\n",
       "      <th>Date</th>\n",
       "      <th></th>\n",
       "      <th></th>\n",
       "      <th></th>\n",
       "      <th></th>\n",
       "      <th></th>\n",
       "      <th></th>\n",
       "      <th></th>\n",
       "      <th></th>\n",
       "      <th></th>\n",
       "      <th></th>\n",
       "      <th></th>\n",
       "      <th></th>\n",
       "      <th></th>\n",
       "      <th></th>\n",
       "      <th></th>\n",
       "    </tr>\n",
       "  </thead>\n",
       "  <tbody>\n",
       "    <tr>\n",
       "      <th>2007-05-01</th>\n",
       "      <td>83.5</td>\n",
       "      <td>51.0</td>\n",
       "      <td>67.25</td>\n",
       "      <td>51.0</td>\n",
       "      <td>56.5</td>\n",
       "      <td>0.0</td>\n",
       "      <td>2.5</td>\n",
       "      <td>0.0</td>\n",
       "      <td>29.140</td>\n",
       "      <td>29.820</td>\n",
       "      <td>2.20</td>\n",
       "      <td>26.0</td>\n",
       "      <td>9.40</td>\n",
       "      <td>4.800000</td>\n",
       "      <td>18.816667</td>\n",
       "    </tr>\n",
       "    <tr>\n",
       "      <th>2007-05-02</th>\n",
       "      <td>59.5</td>\n",
       "      <td>42.5</td>\n",
       "      <td>51.00</td>\n",
       "      <td>42.0</td>\n",
       "      <td>47.0</td>\n",
       "      <td>13.5</td>\n",
       "      <td>0.0</td>\n",
       "      <td>0.0</td>\n",
       "      <td>29.410</td>\n",
       "      <td>30.085</td>\n",
       "      <td>13.15</td>\n",
       "      <td>3.0</td>\n",
       "      <td>13.40</td>\n",
       "      <td>4.783333</td>\n",
       "      <td>18.833333</td>\n",
       "    </tr>\n",
       "    <tr>\n",
       "      <th>2007-05-03</th>\n",
       "      <td>66.5</td>\n",
       "      <td>47.0</td>\n",
       "      <td>56.75</td>\n",
       "      <td>40.0</td>\n",
       "      <td>49.0</td>\n",
       "      <td>8.0</td>\n",
       "      <td>0.0</td>\n",
       "      <td>0.0</td>\n",
       "      <td>29.425</td>\n",
       "      <td>30.120</td>\n",
       "      <td>12.30</td>\n",
       "      <td>6.5</td>\n",
       "      <td>12.55</td>\n",
       "      <td>4.766667</td>\n",
       "      <td>18.850000</td>\n",
       "    </tr>\n",
       "    <tr>\n",
       "      <th>2007-05-04</th>\n",
       "      <td>72.0</td>\n",
       "      <td>50.0</td>\n",
       "      <td>61.00</td>\n",
       "      <td>41.5</td>\n",
       "      <td>50.0</td>\n",
       "      <td>3.5</td>\n",
       "      <td>0.0</td>\n",
       "      <td>0.0</td>\n",
       "      <td>29.335</td>\n",
       "      <td>30.045</td>\n",
       "      <td>10.25</td>\n",
       "      <td>7.5</td>\n",
       "      <td>10.60</td>\n",
       "      <td>4.733333</td>\n",
       "      <td>18.866667</td>\n",
       "    </tr>\n",
       "    <tr>\n",
       "      <th>2007-05-05</th>\n",
       "      <td>66.0</td>\n",
       "      <td>53.5</td>\n",
       "      <td>59.75</td>\n",
       "      <td>38.5</td>\n",
       "      <td>49.5</td>\n",
       "      <td>5.0</td>\n",
       "      <td>0.0</td>\n",
       "      <td>0.0</td>\n",
       "      <td>29.430</td>\n",
       "      <td>30.095</td>\n",
       "      <td>11.45</td>\n",
       "      <td>7.0</td>\n",
       "      <td>11.75</td>\n",
       "      <td>4.716667</td>\n",
       "      <td>18.883333</td>\n",
       "    </tr>\n",
       "  </tbody>\n",
       "</table>\n",
       "</div>"
      ],
      "text/plain": [
       "            Tmax  Tmin   Tavg  DewPoint  WetBulb  Heat  Cool  PrecipTotal  \\\n",
       "Date                                                                        \n",
       "2007-05-01  83.5  51.0  67.25      51.0     56.5   0.0   2.5          0.0   \n",
       "2007-05-02  59.5  42.5  51.00      42.0     47.0  13.5   0.0          0.0   \n",
       "2007-05-03  66.5  47.0  56.75      40.0     49.0   8.0   0.0          0.0   \n",
       "2007-05-04  72.0  50.0  61.00      41.5     50.0   3.5   0.0          0.0   \n",
       "2007-05-05  66.0  53.5  59.75      38.5     49.5   5.0   0.0          0.0   \n",
       "\n",
       "            StnPressure  SeaLevel  ResultSpeed  ResultDir  AvgSpeed   Sunrise  \\\n",
       "Date                                                                            \n",
       "2007-05-01       29.140    29.820         2.20       26.0      9.40  4.800000   \n",
       "2007-05-02       29.410    30.085        13.15        3.0     13.40  4.783333   \n",
       "2007-05-03       29.425    30.120        12.30        6.5     12.55  4.766667   \n",
       "2007-05-04       29.335    30.045        10.25        7.5     10.60  4.733333   \n",
       "2007-05-05       29.430    30.095        11.45        7.0     11.75  4.716667   \n",
       "\n",
       "               Sunset  \n",
       "Date                   \n",
       "2007-05-01  18.816667  \n",
       "2007-05-02  18.833333  \n",
       "2007-05-03  18.850000  \n",
       "2007-05-04  18.866667  \n",
       "2007-05-05  18.883333  "
      ]
     },
     "execution_count": 74,
     "metadata": {},
     "output_type": "execute_result"
    }
   ],
   "source": [
    "weather_stations_combined.head()"
   ]
  },
  {
   "cell_type": "code",
   "execution_count": 75,
   "metadata": {},
   "outputs": [
    {
     "data": {
      "text/html": [
       "<div>\n",
       "<style scoped>\n",
       "    .dataframe tbody tr th:only-of-type {\n",
       "        vertical-align: middle;\n",
       "    }\n",
       "\n",
       "    .dataframe tbody tr th {\n",
       "        vertical-align: top;\n",
       "    }\n",
       "\n",
       "    .dataframe thead th {\n",
       "        text-align: right;\n",
       "    }\n",
       "</style>\n",
       "<table border=\"1\" class=\"dataframe\">\n",
       "  <thead>\n",
       "    <tr style=\"text-align: right;\">\n",
       "      <th></th>\n",
       "      <th>Station</th>\n",
       "      <th>Date</th>\n",
       "      <th>Tmax</th>\n",
       "      <th>Tmin</th>\n",
       "      <th>Tavg</th>\n",
       "      <th>Depart</th>\n",
       "      <th>DewPoint</th>\n",
       "      <th>WetBulb</th>\n",
       "      <th>Heat</th>\n",
       "      <th>Cool</th>\n",
       "      <th>Sunrise</th>\n",
       "      <th>Sunset</th>\n",
       "      <th>CodeSum</th>\n",
       "      <th>PrecipTotal</th>\n",
       "      <th>StnPressure</th>\n",
       "      <th>SeaLevel</th>\n",
       "      <th>ResultSpeed</th>\n",
       "      <th>ResultDir</th>\n",
       "      <th>AvgSpeed</th>\n",
       "    </tr>\n",
       "  </thead>\n",
       "  <tbody>\n",
       "    <tr>\n",
       "      <th>0</th>\n",
       "      <td>1</td>\n",
       "      <td>2007-05-01</td>\n",
       "      <td>83</td>\n",
       "      <td>50</td>\n",
       "      <td>66.5</td>\n",
       "      <td>14</td>\n",
       "      <td>51</td>\n",
       "      <td>56.0</td>\n",
       "      <td>0.0</td>\n",
       "      <td>2.0</td>\n",
       "      <td>0448</td>\n",
       "      <td>1849</td>\n",
       "      <td></td>\n",
       "      <td>0.0</td>\n",
       "      <td>29.10</td>\n",
       "      <td>29.82</td>\n",
       "      <td>1.7</td>\n",
       "      <td>27</td>\n",
       "      <td>9.2</td>\n",
       "    </tr>\n",
       "    <tr>\n",
       "      <th>1</th>\n",
       "      <td>2</td>\n",
       "      <td>2007-05-01</td>\n",
       "      <td>84</td>\n",
       "      <td>52</td>\n",
       "      <td>68.0</td>\n",
       "      <td>M</td>\n",
       "      <td>51</td>\n",
       "      <td>57.0</td>\n",
       "      <td>0.0</td>\n",
       "      <td>3.0</td>\n",
       "      <td>-</td>\n",
       "      <td>-</td>\n",
       "      <td></td>\n",
       "      <td>0.0</td>\n",
       "      <td>29.18</td>\n",
       "      <td>29.82</td>\n",
       "      <td>2.7</td>\n",
       "      <td>25</td>\n",
       "      <td>9.6</td>\n",
       "    </tr>\n",
       "    <tr>\n",
       "      <th>2</th>\n",
       "      <td>1</td>\n",
       "      <td>2007-05-02</td>\n",
       "      <td>59</td>\n",
       "      <td>42</td>\n",
       "      <td>50.5</td>\n",
       "      <td>-3</td>\n",
       "      <td>42</td>\n",
       "      <td>47.0</td>\n",
       "      <td>14.0</td>\n",
       "      <td>0.0</td>\n",
       "      <td>0447</td>\n",
       "      <td>1850</td>\n",
       "      <td>BR</td>\n",
       "      <td>0.0</td>\n",
       "      <td>29.38</td>\n",
       "      <td>30.09</td>\n",
       "      <td>13.0</td>\n",
       "      <td>4</td>\n",
       "      <td>13.4</td>\n",
       "    </tr>\n",
       "    <tr>\n",
       "      <th>3</th>\n",
       "      <td>2</td>\n",
       "      <td>2007-05-02</td>\n",
       "      <td>60</td>\n",
       "      <td>43</td>\n",
       "      <td>51.5</td>\n",
       "      <td>M</td>\n",
       "      <td>42</td>\n",
       "      <td>47.0</td>\n",
       "      <td>13.0</td>\n",
       "      <td>0.0</td>\n",
       "      <td>-</td>\n",
       "      <td>-</td>\n",
       "      <td>BR HZ</td>\n",
       "      <td>0.0</td>\n",
       "      <td>29.44</td>\n",
       "      <td>30.08</td>\n",
       "      <td>13.3</td>\n",
       "      <td>2</td>\n",
       "      <td>13.4</td>\n",
       "    </tr>\n",
       "    <tr>\n",
       "      <th>4</th>\n",
       "      <td>1</td>\n",
       "      <td>2007-05-03</td>\n",
       "      <td>66</td>\n",
       "      <td>46</td>\n",
       "      <td>56.0</td>\n",
       "      <td>2</td>\n",
       "      <td>40</td>\n",
       "      <td>48.0</td>\n",
       "      <td>9.0</td>\n",
       "      <td>0.0</td>\n",
       "      <td>0446</td>\n",
       "      <td>1851</td>\n",
       "      <td></td>\n",
       "      <td>0.0</td>\n",
       "      <td>29.39</td>\n",
       "      <td>30.12</td>\n",
       "      <td>11.7</td>\n",
       "      <td>7</td>\n",
       "      <td>11.9</td>\n",
       "    </tr>\n",
       "  </tbody>\n",
       "</table>\n",
       "</div>"
      ],
      "text/plain": [
       "   Station        Date  Tmax  Tmin  Tavg Depart  DewPoint  WetBulb  Heat  \\\n",
       "0        1  2007-05-01    83    50  66.5     14        51     56.0   0.0   \n",
       "1        2  2007-05-01    84    52  68.0      M        51     57.0   0.0   \n",
       "2        1  2007-05-02    59    42  50.5     -3        42     47.0  14.0   \n",
       "3        2  2007-05-02    60    43  51.5      M        42     47.0  13.0   \n",
       "4        1  2007-05-03    66    46  56.0      2        40     48.0   9.0   \n",
       "\n",
       "   Cool Sunrise Sunset CodeSum  PrecipTotal  StnPressure  SeaLevel  \\\n",
       "0   2.0    0448   1849                  0.0        29.10     29.82   \n",
       "1   3.0       -      -                  0.0        29.18     29.82   \n",
       "2   0.0    0447   1850      BR          0.0        29.38     30.09   \n",
       "3   0.0       -      -   BR HZ          0.0        29.44     30.08   \n",
       "4   0.0    0446   1851                  0.0        29.39     30.12   \n",
       "\n",
       "   ResultSpeed  ResultDir  AvgSpeed  \n",
       "0          1.7         27       9.2  \n",
       "1          2.7         25       9.6  \n",
       "2         13.0          4      13.4  \n",
       "3         13.3          2      13.4  \n",
       "4         11.7          7      11.9  "
      ]
     },
     "execution_count": 75,
     "metadata": {},
     "output_type": "execute_result"
    }
   ],
   "source": [
    "weather.head()"
   ]
  },
  {
   "cell_type": "code",
   "execution_count": 76,
   "metadata": {},
   "outputs": [],
   "source": [
    "# Replacing string of weather conditions given in the Codesum column.\n",
    "\n",
    "weather['CodeSum'] = weather['CodeSum'].str.replace(\"BCFG\",\"BC FG\")\n",
    "weather['CodeSum'] = weather['CodeSum'].str.replace(\"MIFG\",\"MI FG\")\n",
    "weather['CodeSum'] = weather['CodeSum'].str.replace(\"TSRA\",\"TS RA\")\n",
    "weather['CodeSum'] = weather['CodeSum'].str.replace(\"VCFG\",\"VC FG\")\n",
    "weather['CodeSum'] = weather['CodeSum'].str.replace(\"VCTS\",\"VC TS\")"
   ]
  },
  {
   "cell_type": "code",
   "execution_count": 77,
   "metadata": {},
   "outputs": [],
   "source": [
    "# Defining a function to clean the weather conditions given in Codesum column.\n",
    "\n",
    "def clean_codesum(string):\n",
    "    merge_stations = \" \".join(string)\n",
    "    split_strings = merge_stations.split()\n",
    "    unique_strings = set(split_strings)\n",
    "    return \" \".join(unique_strings)"
   ]
  },
  {
   "cell_type": "code",
   "execution_count": 78,
   "metadata": {},
   "outputs": [],
   "source": [
    "# Applying the above defined function on the Codesum column group by dates.\n",
    "\n",
    "code_sum_combined = weather.groupby('Date')['CodeSum'].agg(clean_codesum)\n",
    "code_sum_list = code_sum_combined.tolist()"
   ]
  },
  {
   "cell_type": "code",
   "execution_count": 79,
   "metadata": {},
   "outputs": [
    {
     "data": {
      "text/html": [
       "<div>\n",
       "<style scoped>\n",
       "    .dataframe tbody tr th:only-of-type {\n",
       "        vertical-align: middle;\n",
       "    }\n",
       "\n",
       "    .dataframe tbody tr th {\n",
       "        vertical-align: top;\n",
       "    }\n",
       "\n",
       "    .dataframe thead th {\n",
       "        text-align: right;\n",
       "    }\n",
       "</style>\n",
       "<table border=\"1\" class=\"dataframe\">\n",
       "  <thead>\n",
       "    <tr style=\"text-align: right;\">\n",
       "      <th></th>\n",
       "      <th>bc</th>\n",
       "      <th>br</th>\n",
       "      <th>dz</th>\n",
       "      <th>fg</th>\n",
       "      <th>fg+</th>\n",
       "      <th>fu</th>\n",
       "      <th>gr</th>\n",
       "      <th>hz</th>\n",
       "      <th>mi</th>\n",
       "      <th>ra</th>\n",
       "      <th>sn</th>\n",
       "      <th>sq</th>\n",
       "      <th>ts</th>\n",
       "      <th>vc</th>\n",
       "    </tr>\n",
       "  </thead>\n",
       "  <tbody>\n",
       "    <tr>\n",
       "      <th>0</th>\n",
       "      <td>0</td>\n",
       "      <td>0</td>\n",
       "      <td>0</td>\n",
       "      <td>0</td>\n",
       "      <td>0</td>\n",
       "      <td>0</td>\n",
       "      <td>0</td>\n",
       "      <td>0</td>\n",
       "      <td>0</td>\n",
       "      <td>0</td>\n",
       "      <td>0</td>\n",
       "      <td>0</td>\n",
       "      <td>0</td>\n",
       "      <td>0</td>\n",
       "    </tr>\n",
       "    <tr>\n",
       "      <th>1</th>\n",
       "      <td>0</td>\n",
       "      <td>1</td>\n",
       "      <td>0</td>\n",
       "      <td>0</td>\n",
       "      <td>0</td>\n",
       "      <td>0</td>\n",
       "      <td>0</td>\n",
       "      <td>1</td>\n",
       "      <td>0</td>\n",
       "      <td>0</td>\n",
       "      <td>0</td>\n",
       "      <td>0</td>\n",
       "      <td>0</td>\n",
       "      <td>0</td>\n",
       "    </tr>\n",
       "    <tr>\n",
       "      <th>2</th>\n",
       "      <td>0</td>\n",
       "      <td>0</td>\n",
       "      <td>0</td>\n",
       "      <td>0</td>\n",
       "      <td>0</td>\n",
       "      <td>0</td>\n",
       "      <td>0</td>\n",
       "      <td>1</td>\n",
       "      <td>0</td>\n",
       "      <td>0</td>\n",
       "      <td>0</td>\n",
       "      <td>0</td>\n",
       "      <td>0</td>\n",
       "      <td>0</td>\n",
       "    </tr>\n",
       "    <tr>\n",
       "      <th>3</th>\n",
       "      <td>0</td>\n",
       "      <td>0</td>\n",
       "      <td>0</td>\n",
       "      <td>0</td>\n",
       "      <td>0</td>\n",
       "      <td>0</td>\n",
       "      <td>0</td>\n",
       "      <td>0</td>\n",
       "      <td>0</td>\n",
       "      <td>1</td>\n",
       "      <td>0</td>\n",
       "      <td>0</td>\n",
       "      <td>0</td>\n",
       "      <td>0</td>\n",
       "    </tr>\n",
       "    <tr>\n",
       "      <th>4</th>\n",
       "      <td>0</td>\n",
       "      <td>0</td>\n",
       "      <td>0</td>\n",
       "      <td>0</td>\n",
       "      <td>0</td>\n",
       "      <td>0</td>\n",
       "      <td>0</td>\n",
       "      <td>0</td>\n",
       "      <td>0</td>\n",
       "      <td>0</td>\n",
       "      <td>0</td>\n",
       "      <td>0</td>\n",
       "      <td>0</td>\n",
       "      <td>0</td>\n",
       "    </tr>\n",
       "  </tbody>\n",
       "</table>\n",
       "</div>"
      ],
      "text/plain": [
       "   bc  br  dz  fg  fg+  fu  gr  hz  mi  ra  sn  sq  ts  vc\n",
       "0   0   0   0   0    0   0   0   0   0   0   0   0   0   0\n",
       "1   0   1   0   0    0   0   0   1   0   0   0   0   0   0\n",
       "2   0   0   0   0    0   0   0   1   0   0   0   0   0   0\n",
       "3   0   0   0   0    0   0   0   0   0   1   0   0   0   0\n",
       "4   0   0   0   0    0   0   0   0   0   0   0   0   0   0"
      ]
     },
     "execution_count": 79,
     "metadata": {},
     "output_type": "execute_result"
    }
   ],
   "source": [
    "# Applying CountVectorizer to create dummy columns of each individual weather condition.\n",
    "\n",
    "cvec = CountVectorizer(analyzer='word', token_pattern=r'[\\w\\+]+')\n",
    "code_sum_cvec = cvec.fit_transform(code_sum_list)\n",
    "code_sum_df = pd.DataFrame(code_sum_cvec.toarray(), columns=cvec.get_feature_names())\n",
    "code_sum_df.head()"
   ]
  },
  {
   "cell_type": "code",
   "execution_count": 80,
   "metadata": {},
   "outputs": [
    {
     "data": {
      "text/plain": [
       "(1472, 14)"
      ]
     },
     "execution_count": 80,
     "metadata": {},
     "output_type": "execute_result"
    }
   ],
   "source": [
    "code_sum_df.shape"
   ]
  },
  {
   "cell_type": "code",
   "execution_count": 81,
   "metadata": {},
   "outputs": [
    {
     "data": {
      "text/plain": [
       "(1472, 16)"
      ]
     },
     "execution_count": 81,
     "metadata": {},
     "output_type": "execute_result"
    }
   ],
   "source": [
    "weather_stations_combined = weather_stations_combined.reset_index()\n",
    "weather_stations_combined.shape"
   ]
  },
  {
   "cell_type": "code",
   "execution_count": 82,
   "metadata": {},
   "outputs": [
    {
     "data": {
      "text/html": [
       "<div>\n",
       "<style scoped>\n",
       "    .dataframe tbody tr th:only-of-type {\n",
       "        vertical-align: middle;\n",
       "    }\n",
       "\n",
       "    .dataframe tbody tr th {\n",
       "        vertical-align: top;\n",
       "    }\n",
       "\n",
       "    .dataframe thead th {\n",
       "        text-align: right;\n",
       "    }\n",
       "</style>\n",
       "<table border=\"1\" class=\"dataframe\">\n",
       "  <thead>\n",
       "    <tr style=\"text-align: right;\">\n",
       "      <th></th>\n",
       "      <th>Date</th>\n",
       "      <th>Tmax</th>\n",
       "      <th>Tmin</th>\n",
       "      <th>Tavg</th>\n",
       "      <th>DewPoint</th>\n",
       "      <th>WetBulb</th>\n",
       "      <th>Heat</th>\n",
       "      <th>Cool</th>\n",
       "      <th>PrecipTotal</th>\n",
       "      <th>StnPressure</th>\n",
       "      <th>SeaLevel</th>\n",
       "      <th>ResultSpeed</th>\n",
       "      <th>ResultDir</th>\n",
       "      <th>AvgSpeed</th>\n",
       "      <th>Sunrise</th>\n",
       "      <th>Sunset</th>\n",
       "      <th>bc</th>\n",
       "      <th>br</th>\n",
       "      <th>dz</th>\n",
       "      <th>fg</th>\n",
       "      <th>fg+</th>\n",
       "      <th>fu</th>\n",
       "      <th>gr</th>\n",
       "      <th>hz</th>\n",
       "      <th>mi</th>\n",
       "      <th>ra</th>\n",
       "      <th>sn</th>\n",
       "      <th>sq</th>\n",
       "      <th>ts</th>\n",
       "      <th>vc</th>\n",
       "    </tr>\n",
       "  </thead>\n",
       "  <tbody>\n",
       "    <tr>\n",
       "      <th>0</th>\n",
       "      <td>2007-05-01</td>\n",
       "      <td>83.5</td>\n",
       "      <td>51.0</td>\n",
       "      <td>67.25</td>\n",
       "      <td>51.0</td>\n",
       "      <td>56.5</td>\n",
       "      <td>0.0</td>\n",
       "      <td>2.5</td>\n",
       "      <td>0.0</td>\n",
       "      <td>29.140</td>\n",
       "      <td>29.820</td>\n",
       "      <td>2.20</td>\n",
       "      <td>26.0</td>\n",
       "      <td>9.40</td>\n",
       "      <td>4.800000</td>\n",
       "      <td>18.816667</td>\n",
       "      <td>0</td>\n",
       "      <td>0</td>\n",
       "      <td>0</td>\n",
       "      <td>0</td>\n",
       "      <td>0</td>\n",
       "      <td>0</td>\n",
       "      <td>0</td>\n",
       "      <td>0</td>\n",
       "      <td>0</td>\n",
       "      <td>0</td>\n",
       "      <td>0</td>\n",
       "      <td>0</td>\n",
       "      <td>0</td>\n",
       "      <td>0</td>\n",
       "    </tr>\n",
       "    <tr>\n",
       "      <th>1</th>\n",
       "      <td>2007-05-02</td>\n",
       "      <td>59.5</td>\n",
       "      <td>42.5</td>\n",
       "      <td>51.00</td>\n",
       "      <td>42.0</td>\n",
       "      <td>47.0</td>\n",
       "      <td>13.5</td>\n",
       "      <td>0.0</td>\n",
       "      <td>0.0</td>\n",
       "      <td>29.410</td>\n",
       "      <td>30.085</td>\n",
       "      <td>13.15</td>\n",
       "      <td>3.0</td>\n",
       "      <td>13.40</td>\n",
       "      <td>4.783333</td>\n",
       "      <td>18.833333</td>\n",
       "      <td>0</td>\n",
       "      <td>1</td>\n",
       "      <td>0</td>\n",
       "      <td>0</td>\n",
       "      <td>0</td>\n",
       "      <td>0</td>\n",
       "      <td>0</td>\n",
       "      <td>1</td>\n",
       "      <td>0</td>\n",
       "      <td>0</td>\n",
       "      <td>0</td>\n",
       "      <td>0</td>\n",
       "      <td>0</td>\n",
       "      <td>0</td>\n",
       "    </tr>\n",
       "    <tr>\n",
       "      <th>2</th>\n",
       "      <td>2007-05-03</td>\n",
       "      <td>66.5</td>\n",
       "      <td>47.0</td>\n",
       "      <td>56.75</td>\n",
       "      <td>40.0</td>\n",
       "      <td>49.0</td>\n",
       "      <td>8.0</td>\n",
       "      <td>0.0</td>\n",
       "      <td>0.0</td>\n",
       "      <td>29.425</td>\n",
       "      <td>30.120</td>\n",
       "      <td>12.30</td>\n",
       "      <td>6.5</td>\n",
       "      <td>12.55</td>\n",
       "      <td>4.766667</td>\n",
       "      <td>18.850000</td>\n",
       "      <td>0</td>\n",
       "      <td>0</td>\n",
       "      <td>0</td>\n",
       "      <td>0</td>\n",
       "      <td>0</td>\n",
       "      <td>0</td>\n",
       "      <td>0</td>\n",
       "      <td>1</td>\n",
       "      <td>0</td>\n",
       "      <td>0</td>\n",
       "      <td>0</td>\n",
       "      <td>0</td>\n",
       "      <td>0</td>\n",
       "      <td>0</td>\n",
       "    </tr>\n",
       "    <tr>\n",
       "      <th>3</th>\n",
       "      <td>2007-05-04</td>\n",
       "      <td>72.0</td>\n",
       "      <td>50.0</td>\n",
       "      <td>61.00</td>\n",
       "      <td>41.5</td>\n",
       "      <td>50.0</td>\n",
       "      <td>3.5</td>\n",
       "      <td>0.0</td>\n",
       "      <td>0.0</td>\n",
       "      <td>29.335</td>\n",
       "      <td>30.045</td>\n",
       "      <td>10.25</td>\n",
       "      <td>7.5</td>\n",
       "      <td>10.60</td>\n",
       "      <td>4.733333</td>\n",
       "      <td>18.866667</td>\n",
       "      <td>0</td>\n",
       "      <td>0</td>\n",
       "      <td>0</td>\n",
       "      <td>0</td>\n",
       "      <td>0</td>\n",
       "      <td>0</td>\n",
       "      <td>0</td>\n",
       "      <td>0</td>\n",
       "      <td>0</td>\n",
       "      <td>1</td>\n",
       "      <td>0</td>\n",
       "      <td>0</td>\n",
       "      <td>0</td>\n",
       "      <td>0</td>\n",
       "    </tr>\n",
       "    <tr>\n",
       "      <th>4</th>\n",
       "      <td>2007-05-05</td>\n",
       "      <td>66.0</td>\n",
       "      <td>53.5</td>\n",
       "      <td>59.75</td>\n",
       "      <td>38.5</td>\n",
       "      <td>49.5</td>\n",
       "      <td>5.0</td>\n",
       "      <td>0.0</td>\n",
       "      <td>0.0</td>\n",
       "      <td>29.430</td>\n",
       "      <td>30.095</td>\n",
       "      <td>11.45</td>\n",
       "      <td>7.0</td>\n",
       "      <td>11.75</td>\n",
       "      <td>4.716667</td>\n",
       "      <td>18.883333</td>\n",
       "      <td>0</td>\n",
       "      <td>0</td>\n",
       "      <td>0</td>\n",
       "      <td>0</td>\n",
       "      <td>0</td>\n",
       "      <td>0</td>\n",
       "      <td>0</td>\n",
       "      <td>0</td>\n",
       "      <td>0</td>\n",
       "      <td>0</td>\n",
       "      <td>0</td>\n",
       "      <td>0</td>\n",
       "      <td>0</td>\n",
       "      <td>0</td>\n",
       "    </tr>\n",
       "  </tbody>\n",
       "</table>\n",
       "</div>"
      ],
      "text/plain": [
       "         Date  Tmax  Tmin   Tavg  DewPoint  WetBulb  Heat  Cool  PrecipTotal  \\\n",
       "0  2007-05-01  83.5  51.0  67.25      51.0     56.5   0.0   2.5          0.0   \n",
       "1  2007-05-02  59.5  42.5  51.00      42.0     47.0  13.5   0.0          0.0   \n",
       "2  2007-05-03  66.5  47.0  56.75      40.0     49.0   8.0   0.0          0.0   \n",
       "3  2007-05-04  72.0  50.0  61.00      41.5     50.0   3.5   0.0          0.0   \n",
       "4  2007-05-05  66.0  53.5  59.75      38.5     49.5   5.0   0.0          0.0   \n",
       "\n",
       "   StnPressure  SeaLevel  ResultSpeed  ResultDir  AvgSpeed   Sunrise  \\\n",
       "0       29.140    29.820         2.20       26.0      9.40  4.800000   \n",
       "1       29.410    30.085        13.15        3.0     13.40  4.783333   \n",
       "2       29.425    30.120        12.30        6.5     12.55  4.766667   \n",
       "3       29.335    30.045        10.25        7.5     10.60  4.733333   \n",
       "4       29.430    30.095        11.45        7.0     11.75  4.716667   \n",
       "\n",
       "      Sunset  bc  br  dz  fg  fg+  fu  gr  hz  mi  ra  sn  sq  ts  vc  \n",
       "0  18.816667   0   0   0   0    0   0   0   0   0   0   0   0   0   0  \n",
       "1  18.833333   0   1   0   0    0   0   0   1   0   0   0   0   0   0  \n",
       "2  18.850000   0   0   0   0    0   0   0   1   0   0   0   0   0   0  \n",
       "3  18.866667   0   0   0   0    0   0   0   0   0   1   0   0   0   0  \n",
       "4  18.883333   0   0   0   0    0   0   0   0   0   0   0   0   0   0  "
      ]
     },
     "execution_count": 82,
     "metadata": {},
     "output_type": "execute_result"
    }
   ],
   "source": [
    "# Merging weather_stations_combined and the dummy columns of all weather conditions.\n",
    "\n",
    "cleaned_weather = pd.concat([weather_stations_combined, code_sum_df.reset_index(drop=True)], axis=1)\n",
    "cleaned_weather.head()"
   ]
  },
  {
   "cell_type": "code",
   "execution_count": 83,
   "metadata": {},
   "outputs": [
    {
     "data": {
      "text/plain": [
       "(1472, 30)"
      ]
     },
     "execution_count": 83,
     "metadata": {},
     "output_type": "execute_result"
    }
   ],
   "source": [
    "cleaned_weather.shape"
   ]
  },
  {
   "cell_type": "markdown",
   "metadata": {},
   "source": [
    "### Exporting cleaned data"
   ]
  },
  {
   "cell_type": "code",
   "execution_count": 84,
   "metadata": {
    "colab": {},
    "colab_type": "code",
    "id": "xzowUv_d2TVy"
   },
   "outputs": [],
   "source": [
    "# Exporting cleaned dataframes as CSV files.\n",
    "\n",
    "train.to_csv(\"../input/cleaned_train.csv\", index=False)\n",
    "test.to_csv(\"../input/cleaned_test.csv\", index=False)\n",
    "spray.to_csv(\"../input/cleaned_spray.csv\", index=False)\n",
    "cleaned_weather.to_csv(\"../input/cleaned_weather.csv\", index=False)"
   ]
  }
 ],
 "metadata": {
  "colab": {
   "collapsed_sections": [],
   "name": "1_data_cleaning_train_test.ipynb",
   "provenance": []
  },
  "kernelspec": {
   "display_name": "Python 3",
   "language": "python",
   "name": "python3"
  },
  "language_info": {
   "codemirror_mode": {
    "name": "ipython",
    "version": 3
   },
   "file_extension": ".py",
   "mimetype": "text/x-python",
   "name": "python",
   "nbconvert_exporter": "python",
   "pygments_lexer": "ipython3",
   "version": "3.7.3"
  }
 },
 "nbformat": 4,
 "nbformat_minor": 1
}
