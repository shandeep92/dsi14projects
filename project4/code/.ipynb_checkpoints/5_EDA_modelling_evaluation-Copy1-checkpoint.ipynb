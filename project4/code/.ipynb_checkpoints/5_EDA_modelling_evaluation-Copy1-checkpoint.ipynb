{
 "cells": [
  {
   "cell_type": "markdown",
   "metadata": {},
   "source": [
    "# Project 4: "
   ]
  },
  {
   "cell_type": "markdown",
   "metadata": {},
   "source": [
    "## Problem Statement"
   ]
  },
  {
   "cell_type": "markdown",
   "metadata": {},
   "source": []
  },
  {
   "cell_type": "markdown",
   "metadata": {},
   "source": [
    "## Executive Summary"
   ]
  },
  {
   "cell_type": "markdown",
   "metadata": {},
   "source": []
  },
  {
   "cell_type": "markdown",
   "metadata": {},
   "source": [
    "### Contents:\n",
    "\n",
    "- Data Cleaning\n",
    "    - Cleaning of train and test csv\n",
    "    - Cleaning of spray csv\n",
    "    - Cleaning of weather csv\n",
    "- Merging csv and Feature Engineering\n",
    "    - Explain merging of spray csv into train and test csv\n",
    "    - Explain reasoning behind one chosen lag in weather data\n",
    "- EDA\n",
    "- Model Prep\n",
    "    - Refer back to explanation of lag briefly\n",
    "    - Justify the approach → Try diff classifiers with SMOTE (why SMOTE?), choose best classifier, try diff balancing techniques, final model\n",
    "    - Explain classification metrics accuracy and sensitivity in this context, justify why we need to balance both, mention cost-benefit analysis\n",
    "    - Train-test-split\n",
    "    - Scaling of features\n",
    "    - Balancing of classes\n",
    "- Classification Modelling\n",
    "    - LogReg with SMOTE → GridSearchCV\n",
    "    - RandomForest with SMOTE → Just say we did GridSearchCV and manual tuning to arrive at final set of hyperparameters \n",
    "    - SVC with SMOTE → Just say we did GridSearchCV and manual tuning to arrive at final set of hyperparameters\n",
    "    - GradientBoosting with SMOTE → Just say we did GridSearchCV and manual tuning to arrive at final set of hyperparameters\n",
    "    - Make **summary of scores and CHOOSE BEST CLASSIFIER**\n",
    "\n",
    "    - Best classifier with SMOTE (already done above)\n",
    "    - Best classifier with ADASYN\n",
    "    - Best classifier with ClusterCentroids\n",
    "    - Best classifier with class_weight='balanced' (if available)\n",
    "    - Make **summary of scores and CHOOSE BEST CLASSIFIER + BALANCING TECHNIQUE**\n",
    "- Conclusion and Recommendations\n",
    "    - Final model scores and their meaning\n",
    "    - Cost-benefit analysis in detail\n",
    "    - Limitations of current model\n",
    "    - Potential future improvements"
   ]
  },
  {
   "cell_type": "code",
   "execution_count": 1,
   "metadata": {},
   "outputs": [],
   "source": [
    "# Imports\n",
    "\n",
    "import pandas as pd\n",
    "import numpy as np\n",
    "import matplotlib.pyplot as plt\n",
    "import seaborn as sns\n",
    "\n",
    "from imblearn.over_sampling import SMOTE, ADASYN\n",
    "from imblearn.under_sampling import ClusterCentroids\n",
    "from imblearn.pipeline import Pipeline, make_pipeline\n",
    "\n",
    "from sklearn.preprocessing import StandardScaler\n",
    "from sklearn.model_selection import train_test_split, cross_val_score, GridSearchCV\n",
    "from sklearn.linear_model import LogisticRegression\n",
    "from sklearn.ensemble import RandomForestClassifier, GradientBoostingClassifier\n",
    "from sklearn.svm import SVC\n",
    "from sklearn.metrics import confusion_matrix, roc_auc_score\n",
    "from sklearn.inspection import permutation_importance\n",
    "\n",
    "# import time\n",
    "\n",
    "pd.set_option('display.max_columns', None)\n",
    "# pd.set_option('display.max_rows', None)\n",
    "pd.set_option('display.max_colwidth', None)"
   ]
  },
  {
   "cell_type": "markdown",
   "metadata": {},
   "source": [
    "## Exploratory Data Analysis??"
   ]
  },
  {
   "cell_type": "code",
   "execution_count": null,
   "metadata": {},
   "outputs": [],
   "source": []
  },
  {
   "cell_type": "markdown",
   "metadata": {},
   "source": [
    "## Model Preparation"
   ]
  },
  {
   "cell_type": "markdown",
   "metadata": {},
   "source": [
    "### Lag in Weather Data"
   ]
  },
  {
   "cell_type": "markdown",
   "metadata": {},
   "source": [
    "***Refer back to explanation of lag in weather data briefly***"
   ]
  },
  {
   "cell_type": "markdown",
   "metadata": {},
   "source": [
    "### Modelling Approach"
   ]
  },
  {
   "cell_type": "markdown",
   "metadata": {},
   "source": [
    "***Justify the approach → Try diff classifiers with SMOTE (why SMOTE?), choose best classifier, try diff balancing techniques, final model***"
   ]
  },
  {
   "cell_type": "markdown",
   "metadata": {},
   "source": [
    "### Classification Metrics for WNV"
   ]
  },
  {
   "cell_type": "markdown",
   "metadata": {},
   "source": [
    "***Explain classification metrics accuracy and sensitivity in this context, justify why we need to balance both, mention cost-benefit analysis***"
   ]
  },
  {
   "cell_type": "code",
   "execution_count": 2,
   "metadata": {},
   "outputs": [],
   "source": [
    "# Importing merged_train and merged_test csv files.\n",
    "\n",
    "train = pd.read_csv(\"../input/merged_train_lag_10.csv\")\n",
    "test = pd.read_csv(\"../input/merged_test_lag_10.csv\")"
   ]
  },
  {
   "cell_type": "code",
   "execution_count": 3,
   "metadata": {},
   "outputs": [
    {
     "data": {
      "text/html": [
       "<div>\n",
       "<style scoped>\n",
       "    .dataframe tbody tr th:only-of-type {\n",
       "        vertical-align: middle;\n",
       "    }\n",
       "\n",
       "    .dataframe tbody tr th {\n",
       "        vertical-align: top;\n",
       "    }\n",
       "\n",
       "    .dataframe thead th {\n",
       "        text-align: right;\n",
       "    }\n",
       "</style>\n",
       "<table border=\"1\" class=\"dataframe\">\n",
       "  <thead>\n",
       "    <tr style=\"text-align: right;\">\n",
       "      <th></th>\n",
       "      <th>Date</th>\n",
       "      <th>Latitude</th>\n",
       "      <th>Longitude</th>\n",
       "      <th>Species_CULEX PIPIENS</th>\n",
       "      <th>Species_CULEX PIPIENS/RESTUANS</th>\n",
       "      <th>Species_CULEX RESTUANS</th>\n",
       "      <th>WnvPresent</th>\n",
       "      <th>Sprayed</th>\n",
       "      <th>Avg Pos Dist</th>\n",
       "      <th>Tmax</th>\n",
       "      <th>Tmin</th>\n",
       "      <th>Tavg</th>\n",
       "      <th>DewPoint</th>\n",
       "      <th>WetBulb</th>\n",
       "      <th>Heat</th>\n",
       "      <th>Cool</th>\n",
       "      <th>PrecipTotal</th>\n",
       "      <th>StnPressure</th>\n",
       "      <th>SeaLevel</th>\n",
       "      <th>ResultSpeed</th>\n",
       "      <th>ResultDir</th>\n",
       "      <th>AvgSpeed</th>\n",
       "      <th>Sunrise</th>\n",
       "      <th>Sunset</th>\n",
       "      <th>bc</th>\n",
       "      <th>br</th>\n",
       "      <th>dz</th>\n",
       "      <th>fg</th>\n",
       "      <th>fg+</th>\n",
       "      <th>fu</th>\n",
       "      <th>gr</th>\n",
       "      <th>hz</th>\n",
       "      <th>mi</th>\n",
       "      <th>ra</th>\n",
       "      <th>sn</th>\n",
       "      <th>sq</th>\n",
       "      <th>ts</th>\n",
       "      <th>vc</th>\n",
       "    </tr>\n",
       "  </thead>\n",
       "  <tbody>\n",
       "    <tr>\n",
       "      <th>0</th>\n",
       "      <td>2007-05-29</td>\n",
       "      <td>41.954690</td>\n",
       "      <td>-87.800991</td>\n",
       "      <td>0</td>\n",
       "      <td>1</td>\n",
       "      <td>0</td>\n",
       "      <td>0</td>\n",
       "      <td>0</td>\n",
       "      <td>1.0</td>\n",
       "      <td>80.0</td>\n",
       "      <td>56.0</td>\n",
       "      <td>68.0</td>\n",
       "      <td>38.0</td>\n",
       "      <td>53.0</td>\n",
       "      <td>0.0</td>\n",
       "      <td>3.0</td>\n",
       "      <td>0.0</td>\n",
       "      <td>29.375</td>\n",
       "      <td>30.08</td>\n",
       "      <td>11.1</td>\n",
       "      <td>23.5</td>\n",
       "      <td>11.4</td>\n",
       "      <td>4.466667</td>\n",
       "      <td>19.133333</td>\n",
       "      <td>0</td>\n",
       "      <td>0</td>\n",
       "      <td>0</td>\n",
       "      <td>0</td>\n",
       "      <td>0</td>\n",
       "      <td>0</td>\n",
       "      <td>0</td>\n",
       "      <td>0</td>\n",
       "      <td>0</td>\n",
       "      <td>0</td>\n",
       "      <td>0</td>\n",
       "      <td>0</td>\n",
       "      <td>0</td>\n",
       "      <td>0</td>\n",
       "    </tr>\n",
       "    <tr>\n",
       "      <th>1</th>\n",
       "      <td>2007-05-29</td>\n",
       "      <td>41.954690</td>\n",
       "      <td>-87.800991</td>\n",
       "      <td>0</td>\n",
       "      <td>0</td>\n",
       "      <td>1</td>\n",
       "      <td>0</td>\n",
       "      <td>0</td>\n",
       "      <td>1.0</td>\n",
       "      <td>80.0</td>\n",
       "      <td>56.0</td>\n",
       "      <td>68.0</td>\n",
       "      <td>38.0</td>\n",
       "      <td>53.0</td>\n",
       "      <td>0.0</td>\n",
       "      <td>3.0</td>\n",
       "      <td>0.0</td>\n",
       "      <td>29.375</td>\n",
       "      <td>30.08</td>\n",
       "      <td>11.1</td>\n",
       "      <td>23.5</td>\n",
       "      <td>11.4</td>\n",
       "      <td>4.466667</td>\n",
       "      <td>19.133333</td>\n",
       "      <td>0</td>\n",
       "      <td>0</td>\n",
       "      <td>0</td>\n",
       "      <td>0</td>\n",
       "      <td>0</td>\n",
       "      <td>0</td>\n",
       "      <td>0</td>\n",
       "      <td>0</td>\n",
       "      <td>0</td>\n",
       "      <td>0</td>\n",
       "      <td>0</td>\n",
       "      <td>0</td>\n",
       "      <td>0</td>\n",
       "      <td>0</td>\n",
       "    </tr>\n",
       "    <tr>\n",
       "      <th>2</th>\n",
       "      <td>2007-05-29</td>\n",
       "      <td>41.994991</td>\n",
       "      <td>-87.769279</td>\n",
       "      <td>0</td>\n",
       "      <td>0</td>\n",
       "      <td>1</td>\n",
       "      <td>0</td>\n",
       "      <td>0</td>\n",
       "      <td>1.0</td>\n",
       "      <td>80.0</td>\n",
       "      <td>56.0</td>\n",
       "      <td>68.0</td>\n",
       "      <td>38.0</td>\n",
       "      <td>53.0</td>\n",
       "      <td>0.0</td>\n",
       "      <td>3.0</td>\n",
       "      <td>0.0</td>\n",
       "      <td>29.375</td>\n",
       "      <td>30.08</td>\n",
       "      <td>11.1</td>\n",
       "      <td>23.5</td>\n",
       "      <td>11.4</td>\n",
       "      <td>4.466667</td>\n",
       "      <td>19.133333</td>\n",
       "      <td>0</td>\n",
       "      <td>0</td>\n",
       "      <td>0</td>\n",
       "      <td>0</td>\n",
       "      <td>0</td>\n",
       "      <td>0</td>\n",
       "      <td>0</td>\n",
       "      <td>0</td>\n",
       "      <td>0</td>\n",
       "      <td>0</td>\n",
       "      <td>0</td>\n",
       "      <td>0</td>\n",
       "      <td>0</td>\n",
       "      <td>0</td>\n",
       "    </tr>\n",
       "    <tr>\n",
       "      <th>3</th>\n",
       "      <td>2007-05-29</td>\n",
       "      <td>41.974089</td>\n",
       "      <td>-87.824812</td>\n",
       "      <td>0</td>\n",
       "      <td>1</td>\n",
       "      <td>0</td>\n",
       "      <td>0</td>\n",
       "      <td>0</td>\n",
       "      <td>1.0</td>\n",
       "      <td>80.0</td>\n",
       "      <td>56.0</td>\n",
       "      <td>68.0</td>\n",
       "      <td>38.0</td>\n",
       "      <td>53.0</td>\n",
       "      <td>0.0</td>\n",
       "      <td>3.0</td>\n",
       "      <td>0.0</td>\n",
       "      <td>29.375</td>\n",
       "      <td>30.08</td>\n",
       "      <td>11.1</td>\n",
       "      <td>23.5</td>\n",
       "      <td>11.4</td>\n",
       "      <td>4.466667</td>\n",
       "      <td>19.133333</td>\n",
       "      <td>0</td>\n",
       "      <td>0</td>\n",
       "      <td>0</td>\n",
       "      <td>0</td>\n",
       "      <td>0</td>\n",
       "      <td>0</td>\n",
       "      <td>0</td>\n",
       "      <td>0</td>\n",
       "      <td>0</td>\n",
       "      <td>0</td>\n",
       "      <td>0</td>\n",
       "      <td>0</td>\n",
       "      <td>0</td>\n",
       "      <td>0</td>\n",
       "    </tr>\n",
       "    <tr>\n",
       "      <th>4</th>\n",
       "      <td>2007-05-29</td>\n",
       "      <td>41.974089</td>\n",
       "      <td>-87.824812</td>\n",
       "      <td>0</td>\n",
       "      <td>0</td>\n",
       "      <td>1</td>\n",
       "      <td>0</td>\n",
       "      <td>0</td>\n",
       "      <td>1.0</td>\n",
       "      <td>80.0</td>\n",
       "      <td>56.0</td>\n",
       "      <td>68.0</td>\n",
       "      <td>38.0</td>\n",
       "      <td>53.0</td>\n",
       "      <td>0.0</td>\n",
       "      <td>3.0</td>\n",
       "      <td>0.0</td>\n",
       "      <td>29.375</td>\n",
       "      <td>30.08</td>\n",
       "      <td>11.1</td>\n",
       "      <td>23.5</td>\n",
       "      <td>11.4</td>\n",
       "      <td>4.466667</td>\n",
       "      <td>19.133333</td>\n",
       "      <td>0</td>\n",
       "      <td>0</td>\n",
       "      <td>0</td>\n",
       "      <td>0</td>\n",
       "      <td>0</td>\n",
       "      <td>0</td>\n",
       "      <td>0</td>\n",
       "      <td>0</td>\n",
       "      <td>0</td>\n",
       "      <td>0</td>\n",
       "      <td>0</td>\n",
       "      <td>0</td>\n",
       "      <td>0</td>\n",
       "      <td>0</td>\n",
       "    </tr>\n",
       "  </tbody>\n",
       "</table>\n",
       "</div>"
      ],
      "text/plain": [
       "         Date   Latitude  Longitude  Species_CULEX PIPIENS  \\\n",
       "0  2007-05-29  41.954690 -87.800991                      0   \n",
       "1  2007-05-29  41.954690 -87.800991                      0   \n",
       "2  2007-05-29  41.994991 -87.769279                      0   \n",
       "3  2007-05-29  41.974089 -87.824812                      0   \n",
       "4  2007-05-29  41.974089 -87.824812                      0   \n",
       "\n",
       "   Species_CULEX PIPIENS/RESTUANS  Species_CULEX RESTUANS  WnvPresent  \\\n",
       "0                               1                       0           0   \n",
       "1                               0                       1           0   \n",
       "2                               0                       1           0   \n",
       "3                               1                       0           0   \n",
       "4                               0                       1           0   \n",
       "\n",
       "   Sprayed  Avg Pos Dist  Tmax  Tmin  Tavg  DewPoint  WetBulb  Heat  Cool  \\\n",
       "0        0           1.0  80.0  56.0  68.0      38.0     53.0   0.0   3.0   \n",
       "1        0           1.0  80.0  56.0  68.0      38.0     53.0   0.0   3.0   \n",
       "2        0           1.0  80.0  56.0  68.0      38.0     53.0   0.0   3.0   \n",
       "3        0           1.0  80.0  56.0  68.0      38.0     53.0   0.0   3.0   \n",
       "4        0           1.0  80.0  56.0  68.0      38.0     53.0   0.0   3.0   \n",
       "\n",
       "   PrecipTotal  StnPressure  SeaLevel  ResultSpeed  ResultDir  AvgSpeed  \\\n",
       "0          0.0       29.375     30.08         11.1       23.5      11.4   \n",
       "1          0.0       29.375     30.08         11.1       23.5      11.4   \n",
       "2          0.0       29.375     30.08         11.1       23.5      11.4   \n",
       "3          0.0       29.375     30.08         11.1       23.5      11.4   \n",
       "4          0.0       29.375     30.08         11.1       23.5      11.4   \n",
       "\n",
       "    Sunrise     Sunset  bc  br  dz  fg  fg+  fu  gr  hz  mi  ra  sn  sq  ts  \\\n",
       "0  4.466667  19.133333   0   0   0   0    0   0   0   0   0   0   0   0   0   \n",
       "1  4.466667  19.133333   0   0   0   0    0   0   0   0   0   0   0   0   0   \n",
       "2  4.466667  19.133333   0   0   0   0    0   0   0   0   0   0   0   0   0   \n",
       "3  4.466667  19.133333   0   0   0   0    0   0   0   0   0   0   0   0   0   \n",
       "4  4.466667  19.133333   0   0   0   0    0   0   0   0   0   0   0   0   0   \n",
       "\n",
       "   vc  \n",
       "0   0  \n",
       "1   0  \n",
       "2   0  \n",
       "3   0  \n",
       "4   0  "
      ]
     },
     "execution_count": 3,
     "metadata": {},
     "output_type": "execute_result"
    }
   ],
   "source": [
    "train.head()"
   ]
  },
  {
   "cell_type": "code",
   "execution_count": 4,
   "metadata": {},
   "outputs": [
    {
     "data": {
      "text/html": [
       "<div>\n",
       "<style scoped>\n",
       "    .dataframe tbody tr th:only-of-type {\n",
       "        vertical-align: middle;\n",
       "    }\n",
       "\n",
       "    .dataframe tbody tr th {\n",
       "        vertical-align: top;\n",
       "    }\n",
       "\n",
       "    .dataframe thead th {\n",
       "        text-align: right;\n",
       "    }\n",
       "</style>\n",
       "<table border=\"1\" class=\"dataframe\">\n",
       "  <thead>\n",
       "    <tr style=\"text-align: right;\">\n",
       "      <th></th>\n",
       "      <th>Id</th>\n",
       "      <th>Date</th>\n",
       "      <th>Latitude</th>\n",
       "      <th>Longitude</th>\n",
       "      <th>Species_CULEX PIPIENS</th>\n",
       "      <th>Species_CULEX PIPIENS/RESTUANS</th>\n",
       "      <th>Species_CULEX RESTUANS</th>\n",
       "      <th>Sprayed</th>\n",
       "      <th>Avg Pos Dist</th>\n",
       "      <th>Tmax</th>\n",
       "      <th>Tmin</th>\n",
       "      <th>Tavg</th>\n",
       "      <th>DewPoint</th>\n",
       "      <th>WetBulb</th>\n",
       "      <th>Heat</th>\n",
       "      <th>Cool</th>\n",
       "      <th>PrecipTotal</th>\n",
       "      <th>StnPressure</th>\n",
       "      <th>SeaLevel</th>\n",
       "      <th>ResultSpeed</th>\n",
       "      <th>ResultDir</th>\n",
       "      <th>AvgSpeed</th>\n",
       "      <th>Sunrise</th>\n",
       "      <th>Sunset</th>\n",
       "      <th>bc</th>\n",
       "      <th>br</th>\n",
       "      <th>dz</th>\n",
       "      <th>fg</th>\n",
       "      <th>fg+</th>\n",
       "      <th>fu</th>\n",
       "      <th>gr</th>\n",
       "      <th>hz</th>\n",
       "      <th>mi</th>\n",
       "      <th>ra</th>\n",
       "      <th>sn</th>\n",
       "      <th>sq</th>\n",
       "      <th>ts</th>\n",
       "      <th>vc</th>\n",
       "    </tr>\n",
       "  </thead>\n",
       "  <tbody>\n",
       "    <tr>\n",
       "      <th>0</th>\n",
       "      <td>1</td>\n",
       "      <td>2008-06-11</td>\n",
       "      <td>41.95469</td>\n",
       "      <td>-87.800991</td>\n",
       "      <td>0</td>\n",
       "      <td>1</td>\n",
       "      <td>0</td>\n",
       "      <td>0</td>\n",
       "      <td>0.014806</td>\n",
       "      <td>72.5</td>\n",
       "      <td>54.5</td>\n",
       "      <td>63.5</td>\n",
       "      <td>46.5</td>\n",
       "      <td>55.0</td>\n",
       "      <td>1.0</td>\n",
       "      <td>0.0</td>\n",
       "      <td>0.0</td>\n",
       "      <td>29.26</td>\n",
       "      <td>29.945</td>\n",
       "      <td>5.1</td>\n",
       "      <td>9.0</td>\n",
       "      <td>5.65</td>\n",
       "      <td>4.316667</td>\n",
       "      <td>19.333333</td>\n",
       "      <td>0</td>\n",
       "      <td>0</td>\n",
       "      <td>0</td>\n",
       "      <td>0</td>\n",
       "      <td>0</td>\n",
       "      <td>0</td>\n",
       "      <td>0</td>\n",
       "      <td>0</td>\n",
       "      <td>0</td>\n",
       "      <td>0</td>\n",
       "      <td>0</td>\n",
       "      <td>0</td>\n",
       "      <td>0</td>\n",
       "      <td>0</td>\n",
       "    </tr>\n",
       "    <tr>\n",
       "      <th>1</th>\n",
       "      <td>2</td>\n",
       "      <td>2008-06-11</td>\n",
       "      <td>41.95469</td>\n",
       "      <td>-87.800991</td>\n",
       "      <td>0</td>\n",
       "      <td>0</td>\n",
       "      <td>1</td>\n",
       "      <td>0</td>\n",
       "      <td>0.014806</td>\n",
       "      <td>72.5</td>\n",
       "      <td>54.5</td>\n",
       "      <td>63.5</td>\n",
       "      <td>46.5</td>\n",
       "      <td>55.0</td>\n",
       "      <td>1.0</td>\n",
       "      <td>0.0</td>\n",
       "      <td>0.0</td>\n",
       "      <td>29.26</td>\n",
       "      <td>29.945</td>\n",
       "      <td>5.1</td>\n",
       "      <td>9.0</td>\n",
       "      <td>5.65</td>\n",
       "      <td>4.316667</td>\n",
       "      <td>19.333333</td>\n",
       "      <td>0</td>\n",
       "      <td>0</td>\n",
       "      <td>0</td>\n",
       "      <td>0</td>\n",
       "      <td>0</td>\n",
       "      <td>0</td>\n",
       "      <td>0</td>\n",
       "      <td>0</td>\n",
       "      <td>0</td>\n",
       "      <td>0</td>\n",
       "      <td>0</td>\n",
       "      <td>0</td>\n",
       "      <td>0</td>\n",
       "      <td>0</td>\n",
       "    </tr>\n",
       "    <tr>\n",
       "      <th>2</th>\n",
       "      <td>3</td>\n",
       "      <td>2008-06-11</td>\n",
       "      <td>41.95469</td>\n",
       "      <td>-87.800991</td>\n",
       "      <td>1</td>\n",
       "      <td>0</td>\n",
       "      <td>0</td>\n",
       "      <td>0</td>\n",
       "      <td>0.014806</td>\n",
       "      <td>72.5</td>\n",
       "      <td>54.5</td>\n",
       "      <td>63.5</td>\n",
       "      <td>46.5</td>\n",
       "      <td>55.0</td>\n",
       "      <td>1.0</td>\n",
       "      <td>0.0</td>\n",
       "      <td>0.0</td>\n",
       "      <td>29.26</td>\n",
       "      <td>29.945</td>\n",
       "      <td>5.1</td>\n",
       "      <td>9.0</td>\n",
       "      <td>5.65</td>\n",
       "      <td>4.316667</td>\n",
       "      <td>19.333333</td>\n",
       "      <td>0</td>\n",
       "      <td>0</td>\n",
       "      <td>0</td>\n",
       "      <td>0</td>\n",
       "      <td>0</td>\n",
       "      <td>0</td>\n",
       "      <td>0</td>\n",
       "      <td>0</td>\n",
       "      <td>0</td>\n",
       "      <td>0</td>\n",
       "      <td>0</td>\n",
       "      <td>0</td>\n",
       "      <td>0</td>\n",
       "      <td>0</td>\n",
       "    </tr>\n",
       "    <tr>\n",
       "      <th>3</th>\n",
       "      <td>4</td>\n",
       "      <td>2008-06-11</td>\n",
       "      <td>41.95469</td>\n",
       "      <td>-87.800991</td>\n",
       "      <td>0</td>\n",
       "      <td>0</td>\n",
       "      <td>0</td>\n",
       "      <td>0</td>\n",
       "      <td>0.014806</td>\n",
       "      <td>72.5</td>\n",
       "      <td>54.5</td>\n",
       "      <td>63.5</td>\n",
       "      <td>46.5</td>\n",
       "      <td>55.0</td>\n",
       "      <td>1.0</td>\n",
       "      <td>0.0</td>\n",
       "      <td>0.0</td>\n",
       "      <td>29.26</td>\n",
       "      <td>29.945</td>\n",
       "      <td>5.1</td>\n",
       "      <td>9.0</td>\n",
       "      <td>5.65</td>\n",
       "      <td>4.316667</td>\n",
       "      <td>19.333333</td>\n",
       "      <td>0</td>\n",
       "      <td>0</td>\n",
       "      <td>0</td>\n",
       "      <td>0</td>\n",
       "      <td>0</td>\n",
       "      <td>0</td>\n",
       "      <td>0</td>\n",
       "      <td>0</td>\n",
       "      <td>0</td>\n",
       "      <td>0</td>\n",
       "      <td>0</td>\n",
       "      <td>0</td>\n",
       "      <td>0</td>\n",
       "      <td>0</td>\n",
       "    </tr>\n",
       "    <tr>\n",
       "      <th>4</th>\n",
       "      <td>5</td>\n",
       "      <td>2008-06-11</td>\n",
       "      <td>41.95469</td>\n",
       "      <td>-87.800991</td>\n",
       "      <td>0</td>\n",
       "      <td>0</td>\n",
       "      <td>0</td>\n",
       "      <td>0</td>\n",
       "      <td>0.014806</td>\n",
       "      <td>72.5</td>\n",
       "      <td>54.5</td>\n",
       "      <td>63.5</td>\n",
       "      <td>46.5</td>\n",
       "      <td>55.0</td>\n",
       "      <td>1.0</td>\n",
       "      <td>0.0</td>\n",
       "      <td>0.0</td>\n",
       "      <td>29.26</td>\n",
       "      <td>29.945</td>\n",
       "      <td>5.1</td>\n",
       "      <td>9.0</td>\n",
       "      <td>5.65</td>\n",
       "      <td>4.316667</td>\n",
       "      <td>19.333333</td>\n",
       "      <td>0</td>\n",
       "      <td>0</td>\n",
       "      <td>0</td>\n",
       "      <td>0</td>\n",
       "      <td>0</td>\n",
       "      <td>0</td>\n",
       "      <td>0</td>\n",
       "      <td>0</td>\n",
       "      <td>0</td>\n",
       "      <td>0</td>\n",
       "      <td>0</td>\n",
       "      <td>0</td>\n",
       "      <td>0</td>\n",
       "      <td>0</td>\n",
       "    </tr>\n",
       "  </tbody>\n",
       "</table>\n",
       "</div>"
      ],
      "text/plain": [
       "   Id        Date  Latitude  Longitude  Species_CULEX PIPIENS  \\\n",
       "0   1  2008-06-11  41.95469 -87.800991                      0   \n",
       "1   2  2008-06-11  41.95469 -87.800991                      0   \n",
       "2   3  2008-06-11  41.95469 -87.800991                      1   \n",
       "3   4  2008-06-11  41.95469 -87.800991                      0   \n",
       "4   5  2008-06-11  41.95469 -87.800991                      0   \n",
       "\n",
       "   Species_CULEX PIPIENS/RESTUANS  Species_CULEX RESTUANS  Sprayed  \\\n",
       "0                               1                       0        0   \n",
       "1                               0                       1        0   \n",
       "2                               0                       0        0   \n",
       "3                               0                       0        0   \n",
       "4                               0                       0        0   \n",
       "\n",
       "   Avg Pos Dist  Tmax  Tmin  Tavg  DewPoint  WetBulb  Heat  Cool  PrecipTotal  \\\n",
       "0      0.014806  72.5  54.5  63.5      46.5     55.0   1.0   0.0          0.0   \n",
       "1      0.014806  72.5  54.5  63.5      46.5     55.0   1.0   0.0          0.0   \n",
       "2      0.014806  72.5  54.5  63.5      46.5     55.0   1.0   0.0          0.0   \n",
       "3      0.014806  72.5  54.5  63.5      46.5     55.0   1.0   0.0          0.0   \n",
       "4      0.014806  72.5  54.5  63.5      46.5     55.0   1.0   0.0          0.0   \n",
       "\n",
       "   StnPressure  SeaLevel  ResultSpeed  ResultDir  AvgSpeed   Sunrise  \\\n",
       "0        29.26    29.945          5.1        9.0      5.65  4.316667   \n",
       "1        29.26    29.945          5.1        9.0      5.65  4.316667   \n",
       "2        29.26    29.945          5.1        9.0      5.65  4.316667   \n",
       "3        29.26    29.945          5.1        9.0      5.65  4.316667   \n",
       "4        29.26    29.945          5.1        9.0      5.65  4.316667   \n",
       "\n",
       "      Sunset  bc  br  dz  fg  fg+  fu  gr  hz  mi  ra  sn  sq  ts  vc  \n",
       "0  19.333333   0   0   0   0    0   0   0   0   0   0   0   0   0   0  \n",
       "1  19.333333   0   0   0   0    0   0   0   0   0   0   0   0   0   0  \n",
       "2  19.333333   0   0   0   0    0   0   0   0   0   0   0   0   0   0  \n",
       "3  19.333333   0   0   0   0    0   0   0   0   0   0   0   0   0   0  \n",
       "4  19.333333   0   0   0   0    0   0   0   0   0   0   0   0   0   0  "
      ]
     },
     "execution_count": 4,
     "metadata": {},
     "output_type": "execute_result"
    }
   ],
   "source": [
    "test.head()"
   ]
  },
  {
   "cell_type": "code",
   "execution_count": 5,
   "metadata": {},
   "outputs": [
    {
     "data": {
      "text/plain": [
       "(8304, 38)"
      ]
     },
     "execution_count": 5,
     "metadata": {},
     "output_type": "execute_result"
    }
   ],
   "source": [
    "train.shape"
   ]
  },
  {
   "cell_type": "code",
   "execution_count": 6,
   "metadata": {},
   "outputs": [
    {
     "data": {
      "text/plain": [
       "0"
      ]
     },
     "execution_count": 6,
     "metadata": {},
     "output_type": "execute_result"
    }
   ],
   "source": [
    "train.isnull().sum().sum()"
   ]
  },
  {
   "cell_type": "code",
   "execution_count": 7,
   "metadata": {},
   "outputs": [
    {
     "data": {
      "text/plain": [
       "(116293, 38)"
      ]
     },
     "execution_count": 7,
     "metadata": {},
     "output_type": "execute_result"
    }
   ],
   "source": [
    "test.shape"
   ]
  },
  {
   "cell_type": "code",
   "execution_count": 8,
   "metadata": {},
   "outputs": [
    {
     "data": {
      "text/plain": [
       "0"
      ]
     },
     "execution_count": 8,
     "metadata": {},
     "output_type": "execute_result"
    }
   ],
   "source": [
    "test.isnull().sum().sum()"
   ]
  },
  {
   "cell_type": "markdown",
   "metadata": {},
   "source": [
    "### *train_test_split*"
   ]
  },
  {
   "cell_type": "code",
   "execution_count": 9,
   "metadata": {},
   "outputs": [],
   "source": [
    "# Defining features dataframe X and target variable y from train dataframe.\n",
    "\n",
    "X = train[[col for col in train.columns if col not in ['Date', 'WnvPresent']]]\n",
    "y = train['WnvPresent']"
   ]
  },
  {
   "cell_type": "code",
   "execution_count": 10,
   "metadata": {},
   "outputs": [],
   "source": [
    "# Preparing test dataframe for predictions and submissions to kaggle later.\n",
    "\n",
    "act_test_X = test[[col for col in test.columns if col not in ['Date', 'Id']]]"
   ]
  },
  {
   "cell_type": "code",
   "execution_count": 11,
   "metadata": {},
   "outputs": [],
   "source": [
    "# Splitting X and y into training and testing datasets.\n",
    "\n",
    "X_train, X_test, y_train, y_test = train_test_split(X, y, stratify=y, random_state=42)"
   ]
  },
  {
   "cell_type": "code",
   "execution_count": 12,
   "metadata": {},
   "outputs": [
    {
     "data": {
      "text/html": [
       "<div>\n",
       "<style scoped>\n",
       "    .dataframe tbody tr th:only-of-type {\n",
       "        vertical-align: middle;\n",
       "    }\n",
       "\n",
       "    .dataframe tbody tr th {\n",
       "        vertical-align: top;\n",
       "    }\n",
       "\n",
       "    .dataframe thead th {\n",
       "        text-align: right;\n",
       "    }\n",
       "</style>\n",
       "<table border=\"1\" class=\"dataframe\">\n",
       "  <thead>\n",
       "    <tr style=\"text-align: right;\">\n",
       "      <th></th>\n",
       "      <th>Latitude</th>\n",
       "      <th>Longitude</th>\n",
       "      <th>Species_CULEX PIPIENS</th>\n",
       "      <th>Species_CULEX PIPIENS/RESTUANS</th>\n",
       "      <th>Species_CULEX RESTUANS</th>\n",
       "      <th>Sprayed</th>\n",
       "      <th>Avg Pos Dist</th>\n",
       "      <th>Tmax</th>\n",
       "      <th>Tmin</th>\n",
       "      <th>Tavg</th>\n",
       "      <th>DewPoint</th>\n",
       "      <th>WetBulb</th>\n",
       "      <th>Heat</th>\n",
       "      <th>Cool</th>\n",
       "      <th>PrecipTotal</th>\n",
       "      <th>StnPressure</th>\n",
       "      <th>SeaLevel</th>\n",
       "      <th>ResultSpeed</th>\n",
       "      <th>ResultDir</th>\n",
       "      <th>AvgSpeed</th>\n",
       "      <th>Sunrise</th>\n",
       "      <th>Sunset</th>\n",
       "      <th>bc</th>\n",
       "      <th>br</th>\n",
       "      <th>dz</th>\n",
       "      <th>fg</th>\n",
       "      <th>fg+</th>\n",
       "      <th>fu</th>\n",
       "      <th>gr</th>\n",
       "      <th>hz</th>\n",
       "      <th>mi</th>\n",
       "      <th>ra</th>\n",
       "      <th>sn</th>\n",
       "      <th>sq</th>\n",
       "      <th>ts</th>\n",
       "      <th>vc</th>\n",
       "    </tr>\n",
       "  </thead>\n",
       "  <tbody>\n",
       "    <tr>\n",
       "      <th>942</th>\n",
       "      <td>41.822536</td>\n",
       "      <td>-87.666343</td>\n",
       "      <td>0</td>\n",
       "      <td>1</td>\n",
       "      <td>0</td>\n",
       "      <td>0</td>\n",
       "      <td>1.000000</td>\n",
       "      <td>82.5</td>\n",
       "      <td>61.5</td>\n",
       "      <td>72.00</td>\n",
       "      <td>55.0</td>\n",
       "      <td>63.0</td>\n",
       "      <td>0.0</td>\n",
       "      <td>7.5</td>\n",
       "      <td>0.000</td>\n",
       "      <td>29.395</td>\n",
       "      <td>30.095</td>\n",
       "      <td>3.05</td>\n",
       "      <td>10.5</td>\n",
       "      <td>3.95</td>\n",
       "      <td>4.600000</td>\n",
       "      <td>19.333333</td>\n",
       "      <td>0</td>\n",
       "      <td>0</td>\n",
       "      <td>0</td>\n",
       "      <td>0</td>\n",
       "      <td>0</td>\n",
       "      <td>0</td>\n",
       "      <td>0</td>\n",
       "      <td>0</td>\n",
       "      <td>0</td>\n",
       "      <td>0</td>\n",
       "      <td>0</td>\n",
       "      <td>0</td>\n",
       "      <td>0</td>\n",
       "      <td>0</td>\n",
       "    </tr>\n",
       "    <tr>\n",
       "      <th>4069</th>\n",
       "      <td>41.992478</td>\n",
       "      <td>-87.862995</td>\n",
       "      <td>1</td>\n",
       "      <td>0</td>\n",
       "      <td>0</td>\n",
       "      <td>0</td>\n",
       "      <td>0.000000</td>\n",
       "      <td>89.0</td>\n",
       "      <td>68.5</td>\n",
       "      <td>78.75</td>\n",
       "      <td>61.0</td>\n",
       "      <td>67.5</td>\n",
       "      <td>0.0</td>\n",
       "      <td>14.0</td>\n",
       "      <td>0.000</td>\n",
       "      <td>29.350</td>\n",
       "      <td>30.030</td>\n",
       "      <td>8.50</td>\n",
       "      <td>19.0</td>\n",
       "      <td>8.80</td>\n",
       "      <td>4.983333</td>\n",
       "      <td>18.900000</td>\n",
       "      <td>0</td>\n",
       "      <td>0</td>\n",
       "      <td>0</td>\n",
       "      <td>0</td>\n",
       "      <td>0</td>\n",
       "      <td>0</td>\n",
       "      <td>0</td>\n",
       "      <td>0</td>\n",
       "      <td>0</td>\n",
       "      <td>0</td>\n",
       "      <td>0</td>\n",
       "      <td>0</td>\n",
       "      <td>0</td>\n",
       "      <td>0</td>\n",
       "    </tr>\n",
       "    <tr>\n",
       "      <th>5362</th>\n",
       "      <td>41.867108</td>\n",
       "      <td>-87.654224</td>\n",
       "      <td>0</td>\n",
       "      <td>1</td>\n",
       "      <td>0</td>\n",
       "      <td>0</td>\n",
       "      <td>0.012672</td>\n",
       "      <td>84.0</td>\n",
       "      <td>71.5</td>\n",
       "      <td>77.75</td>\n",
       "      <td>62.5</td>\n",
       "      <td>68.0</td>\n",
       "      <td>0.0</td>\n",
       "      <td>13.0</td>\n",
       "      <td>0.005</td>\n",
       "      <td>29.205</td>\n",
       "      <td>29.870</td>\n",
       "      <td>6.10</td>\n",
       "      <td>5.5</td>\n",
       "      <td>8.25</td>\n",
       "      <td>4.650000</td>\n",
       "      <td>19.300000</td>\n",
       "      <td>0</td>\n",
       "      <td>0</td>\n",
       "      <td>0</td>\n",
       "      <td>0</td>\n",
       "      <td>0</td>\n",
       "      <td>0</td>\n",
       "      <td>0</td>\n",
       "      <td>0</td>\n",
       "      <td>0</td>\n",
       "      <td>0</td>\n",
       "      <td>0</td>\n",
       "      <td>0</td>\n",
       "      <td>0</td>\n",
       "      <td>0</td>\n",
       "    </tr>\n",
       "    <tr>\n",
       "      <th>2001</th>\n",
       "      <td>41.781416</td>\n",
       "      <td>-87.776532</td>\n",
       "      <td>0</td>\n",
       "      <td>1</td>\n",
       "      <td>0</td>\n",
       "      <td>0</td>\n",
       "      <td>0.017086</td>\n",
       "      <td>78.5</td>\n",
       "      <td>60.5</td>\n",
       "      <td>69.50</td>\n",
       "      <td>55.0</td>\n",
       "      <td>61.5</td>\n",
       "      <td>0.0</td>\n",
       "      <td>5.0</td>\n",
       "      <td>0.000</td>\n",
       "      <td>29.410</td>\n",
       "      <td>30.075</td>\n",
       "      <td>3.65</td>\n",
       "      <td>11.0</td>\n",
       "      <td>5.00</td>\n",
       "      <td>5.183333</td>\n",
       "      <td>18.616667</td>\n",
       "      <td>0</td>\n",
       "      <td>0</td>\n",
       "      <td>0</td>\n",
       "      <td>0</td>\n",
       "      <td>0</td>\n",
       "      <td>0</td>\n",
       "      <td>0</td>\n",
       "      <td>0</td>\n",
       "      <td>0</td>\n",
       "      <td>0</td>\n",
       "      <td>0</td>\n",
       "      <td>0</td>\n",
       "      <td>0</td>\n",
       "      <td>0</td>\n",
       "    </tr>\n",
       "    <tr>\n",
       "      <th>3466</th>\n",
       "      <td>41.801498</td>\n",
       "      <td>-87.763416</td>\n",
       "      <td>0</td>\n",
       "      <td>0</td>\n",
       "      <td>1</td>\n",
       "      <td>0</td>\n",
       "      <td>0.027500</td>\n",
       "      <td>76.5</td>\n",
       "      <td>62.0</td>\n",
       "      <td>69.25</td>\n",
       "      <td>54.5</td>\n",
       "      <td>60.5</td>\n",
       "      <td>0.0</td>\n",
       "      <td>4.5</td>\n",
       "      <td>0.000</td>\n",
       "      <td>29.210</td>\n",
       "      <td>29.885</td>\n",
       "      <td>5.90</td>\n",
       "      <td>7.0</td>\n",
       "      <td>7.25</td>\n",
       "      <td>4.383333</td>\n",
       "      <td>19.500000</td>\n",
       "      <td>0</td>\n",
       "      <td>0</td>\n",
       "      <td>0</td>\n",
       "      <td>0</td>\n",
       "      <td>0</td>\n",
       "      <td>0</td>\n",
       "      <td>0</td>\n",
       "      <td>0</td>\n",
       "      <td>0</td>\n",
       "      <td>1</td>\n",
       "      <td>0</td>\n",
       "      <td>0</td>\n",
       "      <td>0</td>\n",
       "      <td>0</td>\n",
       "    </tr>\n",
       "  </tbody>\n",
       "</table>\n",
       "</div>"
      ],
      "text/plain": [
       "       Latitude  Longitude  Species_CULEX PIPIENS  \\\n",
       "942   41.822536 -87.666343                      0   \n",
       "4069  41.992478 -87.862995                      1   \n",
       "5362  41.867108 -87.654224                      0   \n",
       "2001  41.781416 -87.776532                      0   \n",
       "3466  41.801498 -87.763416                      0   \n",
       "\n",
       "      Species_CULEX PIPIENS/RESTUANS  Species_CULEX RESTUANS  Sprayed  \\\n",
       "942                                1                       0        0   \n",
       "4069                               0                       0        0   \n",
       "5362                               1                       0        0   \n",
       "2001                               1                       0        0   \n",
       "3466                               0                       1        0   \n",
       "\n",
       "      Avg Pos Dist  Tmax  Tmin   Tavg  DewPoint  WetBulb  Heat  Cool  \\\n",
       "942       1.000000  82.5  61.5  72.00      55.0     63.0   0.0   7.5   \n",
       "4069      0.000000  89.0  68.5  78.75      61.0     67.5   0.0  14.0   \n",
       "5362      0.012672  84.0  71.5  77.75      62.5     68.0   0.0  13.0   \n",
       "2001      0.017086  78.5  60.5  69.50      55.0     61.5   0.0   5.0   \n",
       "3466      0.027500  76.5  62.0  69.25      54.5     60.5   0.0   4.5   \n",
       "\n",
       "      PrecipTotal  StnPressure  SeaLevel  ResultSpeed  ResultDir  AvgSpeed  \\\n",
       "942         0.000       29.395    30.095         3.05       10.5      3.95   \n",
       "4069        0.000       29.350    30.030         8.50       19.0      8.80   \n",
       "5362        0.005       29.205    29.870         6.10        5.5      8.25   \n",
       "2001        0.000       29.410    30.075         3.65       11.0      5.00   \n",
       "3466        0.000       29.210    29.885         5.90        7.0      7.25   \n",
       "\n",
       "       Sunrise     Sunset  bc  br  dz  fg  fg+  fu  gr  hz  mi  ra  sn  sq  \\\n",
       "942   4.600000  19.333333   0   0   0   0    0   0   0   0   0   0   0   0   \n",
       "4069  4.983333  18.900000   0   0   0   0    0   0   0   0   0   0   0   0   \n",
       "5362  4.650000  19.300000   0   0   0   0    0   0   0   0   0   0   0   0   \n",
       "2001  5.183333  18.616667   0   0   0   0    0   0   0   0   0   0   0   0   \n",
       "3466  4.383333  19.500000   0   0   0   0    0   0   0   0   0   1   0   0   \n",
       "\n",
       "      ts  vc  \n",
       "942    0   0  \n",
       "4069   0   0  \n",
       "5362   0   0  \n",
       "2001   0   0  \n",
       "3466   0   0  "
      ]
     },
     "execution_count": 12,
     "metadata": {},
     "output_type": "execute_result"
    }
   ],
   "source": [
    "X_train.head()"
   ]
  },
  {
   "cell_type": "code",
   "execution_count": 13,
   "metadata": {},
   "outputs": [
    {
     "data": {
      "text/plain": [
       "(6228, 36)"
      ]
     },
     "execution_count": 13,
     "metadata": {},
     "output_type": "execute_result"
    }
   ],
   "source": [
    "X_train.shape"
   ]
  },
  {
   "cell_type": "code",
   "execution_count": 14,
   "metadata": {},
   "outputs": [
    {
     "data": {
      "text/html": [
       "<div>\n",
       "<style scoped>\n",
       "    .dataframe tbody tr th:only-of-type {\n",
       "        vertical-align: middle;\n",
       "    }\n",
       "\n",
       "    .dataframe tbody tr th {\n",
       "        vertical-align: top;\n",
       "    }\n",
       "\n",
       "    .dataframe thead th {\n",
       "        text-align: right;\n",
       "    }\n",
       "</style>\n",
       "<table border=\"1\" class=\"dataframe\">\n",
       "  <thead>\n",
       "    <tr style=\"text-align: right;\">\n",
       "      <th></th>\n",
       "      <th>Latitude</th>\n",
       "      <th>Longitude</th>\n",
       "      <th>Species_CULEX PIPIENS</th>\n",
       "      <th>Species_CULEX PIPIENS/RESTUANS</th>\n",
       "      <th>Species_CULEX RESTUANS</th>\n",
       "      <th>Sprayed</th>\n",
       "      <th>Avg Pos Dist</th>\n",
       "      <th>Tmax</th>\n",
       "      <th>Tmin</th>\n",
       "      <th>Tavg</th>\n",
       "      <th>DewPoint</th>\n",
       "      <th>WetBulb</th>\n",
       "      <th>Heat</th>\n",
       "      <th>Cool</th>\n",
       "      <th>PrecipTotal</th>\n",
       "      <th>StnPressure</th>\n",
       "      <th>SeaLevel</th>\n",
       "      <th>ResultSpeed</th>\n",
       "      <th>ResultDir</th>\n",
       "      <th>AvgSpeed</th>\n",
       "      <th>Sunrise</th>\n",
       "      <th>Sunset</th>\n",
       "      <th>bc</th>\n",
       "      <th>br</th>\n",
       "      <th>dz</th>\n",
       "      <th>fg</th>\n",
       "      <th>fg+</th>\n",
       "      <th>fu</th>\n",
       "      <th>gr</th>\n",
       "      <th>hz</th>\n",
       "      <th>mi</th>\n",
       "      <th>ra</th>\n",
       "      <th>sn</th>\n",
       "      <th>sq</th>\n",
       "      <th>ts</th>\n",
       "      <th>vc</th>\n",
       "    </tr>\n",
       "  </thead>\n",
       "  <tbody>\n",
       "    <tr>\n",
       "      <th>3391</th>\n",
       "      <td>41.825610</td>\n",
       "      <td>-87.726549</td>\n",
       "      <td>0</td>\n",
       "      <td>0</td>\n",
       "      <td>1</td>\n",
       "      <td>0</td>\n",
       "      <td>0.022351</td>\n",
       "      <td>67.0</td>\n",
       "      <td>60.0</td>\n",
       "      <td>63.50</td>\n",
       "      <td>53.0</td>\n",
       "      <td>57.5</td>\n",
       "      <td>1.0</td>\n",
       "      <td>0.0</td>\n",
       "      <td>0.000</td>\n",
       "      <td>28.975</td>\n",
       "      <td>29.645</td>\n",
       "      <td>8.50</td>\n",
       "      <td>30.0</td>\n",
       "      <td>8.70</td>\n",
       "      <td>4.316667</td>\n",
       "      <td>19.516667</td>\n",
       "      <td>0</td>\n",
       "      <td>0</td>\n",
       "      <td>0</td>\n",
       "      <td>0</td>\n",
       "      <td>0</td>\n",
       "      <td>0</td>\n",
       "      <td>0</td>\n",
       "      <td>0</td>\n",
       "      <td>0</td>\n",
       "      <td>0</td>\n",
       "      <td>0</td>\n",
       "      <td>0</td>\n",
       "      <td>0</td>\n",
       "      <td>0</td>\n",
       "    </tr>\n",
       "    <tr>\n",
       "      <th>6660</th>\n",
       "      <td>41.682587</td>\n",
       "      <td>-87.707973</td>\n",
       "      <td>0</td>\n",
       "      <td>1</td>\n",
       "      <td>0</td>\n",
       "      <td>0</td>\n",
       "      <td>0.019559</td>\n",
       "      <td>83.0</td>\n",
       "      <td>67.5</td>\n",
       "      <td>75.25</td>\n",
       "      <td>60.5</td>\n",
       "      <td>65.5</td>\n",
       "      <td>0.0</td>\n",
       "      <td>10.5</td>\n",
       "      <td>0.080</td>\n",
       "      <td>28.940</td>\n",
       "      <td>29.625</td>\n",
       "      <td>9.75</td>\n",
       "      <td>30.0</td>\n",
       "      <td>10.35</td>\n",
       "      <td>4.316667</td>\n",
       "      <td>19.516667</td>\n",
       "      <td>0</td>\n",
       "      <td>0</td>\n",
       "      <td>0</td>\n",
       "      <td>0</td>\n",
       "      <td>0</td>\n",
       "      <td>0</td>\n",
       "      <td>0</td>\n",
       "      <td>0</td>\n",
       "      <td>0</td>\n",
       "      <td>1</td>\n",
       "      <td>0</td>\n",
       "      <td>0</td>\n",
       "      <td>0</td>\n",
       "      <td>0</td>\n",
       "    </tr>\n",
       "    <tr>\n",
       "      <th>4820</th>\n",
       "      <td>41.778297</td>\n",
       "      <td>-87.752411</td>\n",
       "      <td>0</td>\n",
       "      <td>1</td>\n",
       "      <td>0</td>\n",
       "      <td>0</td>\n",
       "      <td>0.020156</td>\n",
       "      <td>79.5</td>\n",
       "      <td>67.0</td>\n",
       "      <td>73.25</td>\n",
       "      <td>67.0</td>\n",
       "      <td>69.0</td>\n",
       "      <td>0.0</td>\n",
       "      <td>8.5</td>\n",
       "      <td>0.705</td>\n",
       "      <td>29.040</td>\n",
       "      <td>29.710</td>\n",
       "      <td>7.10</td>\n",
       "      <td>16.0</td>\n",
       "      <td>8.80</td>\n",
       "      <td>4.266667</td>\n",
       "      <td>19.500000</td>\n",
       "      <td>0</td>\n",
       "      <td>1</td>\n",
       "      <td>0</td>\n",
       "      <td>0</td>\n",
       "      <td>0</td>\n",
       "      <td>0</td>\n",
       "      <td>0</td>\n",
       "      <td>0</td>\n",
       "      <td>0</td>\n",
       "      <td>1</td>\n",
       "      <td>0</td>\n",
       "      <td>0</td>\n",
       "      <td>1</td>\n",
       "      <td>0</td>\n",
       "    </tr>\n",
       "    <tr>\n",
       "      <th>8132</th>\n",
       "      <td>41.662014</td>\n",
       "      <td>-87.724608</td>\n",
       "      <td>1</td>\n",
       "      <td>0</td>\n",
       "      <td>0</td>\n",
       "      <td>0</td>\n",
       "      <td>0.010176</td>\n",
       "      <td>94.0</td>\n",
       "      <td>68.5</td>\n",
       "      <td>81.25</td>\n",
       "      <td>69.0</td>\n",
       "      <td>73.5</td>\n",
       "      <td>0.0</td>\n",
       "      <td>16.5</td>\n",
       "      <td>0.000</td>\n",
       "      <td>29.185</td>\n",
       "      <td>29.860</td>\n",
       "      <td>8.75</td>\n",
       "      <td>20.0</td>\n",
       "      <td>9.65</td>\n",
       "      <td>5.416667</td>\n",
       "      <td>18.233333</td>\n",
       "      <td>0</td>\n",
       "      <td>0</td>\n",
       "      <td>0</td>\n",
       "      <td>0</td>\n",
       "      <td>0</td>\n",
       "      <td>0</td>\n",
       "      <td>0</td>\n",
       "      <td>1</td>\n",
       "      <td>0</td>\n",
       "      <td>0</td>\n",
       "      <td>0</td>\n",
       "      <td>0</td>\n",
       "      <td>0</td>\n",
       "      <td>0</td>\n",
       "    </tr>\n",
       "    <tr>\n",
       "      <th>2155</th>\n",
       "      <td>41.726465</td>\n",
       "      <td>-87.585413</td>\n",
       "      <td>0</td>\n",
       "      <td>1</td>\n",
       "      <td>0</td>\n",
       "      <td>0</td>\n",
       "      <td>0.011834</td>\n",
       "      <td>84.5</td>\n",
       "      <td>61.5</td>\n",
       "      <td>73.00</td>\n",
       "      <td>56.5</td>\n",
       "      <td>63.0</td>\n",
       "      <td>0.0</td>\n",
       "      <td>8.0</td>\n",
       "      <td>0.000</td>\n",
       "      <td>29.440</td>\n",
       "      <td>30.140</td>\n",
       "      <td>4.50</td>\n",
       "      <td>21.0</td>\n",
       "      <td>5.50</td>\n",
       "      <td>5.300000</td>\n",
       "      <td>18.433333</td>\n",
       "      <td>0</td>\n",
       "      <td>0</td>\n",
       "      <td>0</td>\n",
       "      <td>0</td>\n",
       "      <td>0</td>\n",
       "      <td>0</td>\n",
       "      <td>0</td>\n",
       "      <td>0</td>\n",
       "      <td>0</td>\n",
       "      <td>0</td>\n",
       "      <td>0</td>\n",
       "      <td>0</td>\n",
       "      <td>0</td>\n",
       "      <td>0</td>\n",
       "    </tr>\n",
       "  </tbody>\n",
       "</table>\n",
       "</div>"
      ],
      "text/plain": [
       "       Latitude  Longitude  Species_CULEX PIPIENS  \\\n",
       "3391  41.825610 -87.726549                      0   \n",
       "6660  41.682587 -87.707973                      0   \n",
       "4820  41.778297 -87.752411                      0   \n",
       "8132  41.662014 -87.724608                      1   \n",
       "2155  41.726465 -87.585413                      0   \n",
       "\n",
       "      Species_CULEX PIPIENS/RESTUANS  Species_CULEX RESTUANS  Sprayed  \\\n",
       "3391                               0                       1        0   \n",
       "6660                               1                       0        0   \n",
       "4820                               1                       0        0   \n",
       "8132                               0                       0        0   \n",
       "2155                               1                       0        0   \n",
       "\n",
       "      Avg Pos Dist  Tmax  Tmin   Tavg  DewPoint  WetBulb  Heat  Cool  \\\n",
       "3391      0.022351  67.0  60.0  63.50      53.0     57.5   1.0   0.0   \n",
       "6660      0.019559  83.0  67.5  75.25      60.5     65.5   0.0  10.5   \n",
       "4820      0.020156  79.5  67.0  73.25      67.0     69.0   0.0   8.5   \n",
       "8132      0.010176  94.0  68.5  81.25      69.0     73.5   0.0  16.5   \n",
       "2155      0.011834  84.5  61.5  73.00      56.5     63.0   0.0   8.0   \n",
       "\n",
       "      PrecipTotal  StnPressure  SeaLevel  ResultSpeed  ResultDir  AvgSpeed  \\\n",
       "3391        0.000       28.975    29.645         8.50       30.0      8.70   \n",
       "6660        0.080       28.940    29.625         9.75       30.0     10.35   \n",
       "4820        0.705       29.040    29.710         7.10       16.0      8.80   \n",
       "8132        0.000       29.185    29.860         8.75       20.0      9.65   \n",
       "2155        0.000       29.440    30.140         4.50       21.0      5.50   \n",
       "\n",
       "       Sunrise     Sunset  bc  br  dz  fg  fg+  fu  gr  hz  mi  ra  sn  sq  \\\n",
       "3391  4.316667  19.516667   0   0   0   0    0   0   0   0   0   0   0   0   \n",
       "6660  4.316667  19.516667   0   0   0   0    0   0   0   0   0   1   0   0   \n",
       "4820  4.266667  19.500000   0   1   0   0    0   0   0   0   0   1   0   0   \n",
       "8132  5.416667  18.233333   0   0   0   0    0   0   0   1   0   0   0   0   \n",
       "2155  5.300000  18.433333   0   0   0   0    0   0   0   0   0   0   0   0   \n",
       "\n",
       "      ts  vc  \n",
       "3391   0   0  \n",
       "6660   0   0  \n",
       "4820   1   0  \n",
       "8132   0   0  \n",
       "2155   0   0  "
      ]
     },
     "execution_count": 14,
     "metadata": {},
     "output_type": "execute_result"
    }
   ],
   "source": [
    "X_test.head()"
   ]
  },
  {
   "cell_type": "code",
   "execution_count": 15,
   "metadata": {},
   "outputs": [
    {
     "data": {
      "text/plain": [
       "(2076, 36)"
      ]
     },
     "execution_count": 15,
     "metadata": {},
     "output_type": "execute_result"
    }
   ],
   "source": [
    "X_test.shape"
   ]
  },
  {
   "cell_type": "code",
   "execution_count": 16,
   "metadata": {},
   "outputs": [
    {
     "data": {
      "text/plain": [
       "0    0.944926\n",
       "1    0.055074\n",
       "Name: WnvPresent, dtype: float64"
      ]
     },
     "execution_count": 16,
     "metadata": {},
     "output_type": "execute_result"
    }
   ],
   "source": [
    "# Checking the distribution of classes to ensure it is same as y_test.\n",
    "\n",
    "y_train.value_counts(normalize=True)"
   ]
  },
  {
   "cell_type": "code",
   "execution_count": 17,
   "metadata": {},
   "outputs": [
    {
     "data": {
      "text/plain": [
       "0    0.945087\n",
       "1    0.054913\n",
       "Name: WnvPresent, dtype: float64"
      ]
     },
     "execution_count": 17,
     "metadata": {},
     "output_type": "execute_result"
    }
   ],
   "source": [
    "# Checking the distribution of classes to ensure it is same as y_train.\n",
    "\n",
    "y_test.value_counts(normalize=True)"
   ]
  },
  {
   "cell_type": "markdown",
   "metadata": {},
   "source": [
    "### Scaling of features using StandardScaler"
   ]
  },
  {
   "cell_type": "code",
   "execution_count": 18,
   "metadata": {},
   "outputs": [],
   "source": [
    "# Scaling X_train to the standard scale.\n",
    "\n",
    "ss = StandardScaler()\n",
    "X_train_sc = ss.fit_transform(X_train)"
   ]
  },
  {
   "cell_type": "code",
   "execution_count": 19,
   "metadata": {},
   "outputs": [],
   "source": [
    "# Transforming X_test to the same scale.\n",
    "\n",
    "X_test_sc = ss.transform(X_test)"
   ]
  },
  {
   "cell_type": "code",
   "execution_count": 20,
   "metadata": {},
   "outputs": [],
   "source": [
    "# Transforming actual test dataframe to the same scale (to generate predictions for kaggle submission later).\n",
    "\n",
    "act_test_X_sc = ss.transform(act_test_X)"
   ]
  },
  {
   "cell_type": "markdown",
   "metadata": {},
   "source": [
    "### SMOTE vs. ADASYN vs. ClusterCentroids"
   ]
  },
  {
   "cell_type": "code",
   "execution_count": 21,
   "metadata": {},
   "outputs": [],
   "source": [
    "smote = SMOTE(random_state=42)\n",
    "adasyn = ADASYN(random_state=42)\n",
    "clustercentroids = ClusterCentroids(random_state=42)"
   ]
  },
  {
   "cell_type": "code",
   "execution_count": 22,
   "metadata": {},
   "outputs": [],
   "source": [
    "X_train_sc_smote, y_train_smote = smote.fit_resample(X_train_sc, y_train)\n",
    "X_train_sc_adasyn, y_train_adasyn = adasyn.fit_resample(X_train_sc, y_train)\n",
    "X_train_sc_clustercentroids, y_train_clustercentroids = clustercentroids.fit_resample(X_train_sc, y_train)"
   ]
  },
  {
   "cell_type": "code",
   "execution_count": 23,
   "metadata": {},
   "outputs": [
    {
     "data": {
      "text/plain": [
       "1    5885\n",
       "0    5885\n",
       "Name: WnvPresent, dtype: int64"
      ]
     },
     "execution_count": 23,
     "metadata": {},
     "output_type": "execute_result"
    }
   ],
   "source": [
    "# Checking the distribution of classes with SMOTE balancing technique.\n",
    "\n",
    "y_train_smote.value_counts()"
   ]
  },
  {
   "cell_type": "code",
   "execution_count": 24,
   "metadata": {},
   "outputs": [
    {
     "data": {
      "text/plain": [
       "1    0.5\n",
       "0    0.5\n",
       "Name: WnvPresent, dtype: float64"
      ]
     },
     "execution_count": 24,
     "metadata": {},
     "output_type": "execute_result"
    }
   ],
   "source": [
    "# Checking the distribution of classes with SMOTE balancing technique.\n",
    "\n",
    "y_train_smote.value_counts(normalize=True)"
   ]
  },
  {
   "cell_type": "code",
   "execution_count": 25,
   "metadata": {},
   "outputs": [
    {
     "data": {
      "text/plain": [
       "1    5888\n",
       "0    5885\n",
       "Name: WnvPresent, dtype: int64"
      ]
     },
     "execution_count": 25,
     "metadata": {},
     "output_type": "execute_result"
    }
   ],
   "source": [
    "# Checking the distribution of classes with ADASYN balancing technique.\n",
    "\n",
    "y_train_adasyn.value_counts()"
   ]
  },
  {
   "cell_type": "code",
   "execution_count": 26,
   "metadata": {},
   "outputs": [
    {
     "data": {
      "text/plain": [
       "1    0.500127\n",
       "0    0.499873\n",
       "Name: WnvPresent, dtype: float64"
      ]
     },
     "execution_count": 26,
     "metadata": {},
     "output_type": "execute_result"
    }
   ],
   "source": [
    "# Checking the distribution of classes with ADASYN balancing technique.\n",
    "\n",
    "y_train_adasyn.value_counts(normalize=True)"
   ]
  },
  {
   "cell_type": "code",
   "execution_count": 27,
   "metadata": {},
   "outputs": [
    {
     "data": {
      "text/plain": [
       "1    343\n",
       "0    343\n",
       "Name: WnvPresent, dtype: int64"
      ]
     },
     "execution_count": 27,
     "metadata": {},
     "output_type": "execute_result"
    }
   ],
   "source": [
    "# Checking the distribution of classes with ClusterCentroids balancing technique.\n",
    "\n",
    "y_train_clustercentroids.value_counts()"
   ]
  },
  {
   "cell_type": "code",
   "execution_count": 28,
   "metadata": {},
   "outputs": [
    {
     "data": {
      "text/plain": [
       "1    0.5\n",
       "0    0.5\n",
       "Name: WnvPresent, dtype: float64"
      ]
     },
     "execution_count": 28,
     "metadata": {},
     "output_type": "execute_result"
    }
   ],
   "source": [
    "# Checking the distribution of classes with ClusterCentroids balancing technique.\n",
    "\n",
    "y_train_clustercentroids.value_counts(normalize=True)"
   ]
  },
  {
   "cell_type": "markdown",
   "metadata": {},
   "source": [
    "## Classification Modelling"
   ]
  },
  {
   "cell_type": "markdown",
   "metadata": {},
   "source": [
    "### GridSearchCV for LogisticRegression with SMOTE balancing technique"
   ]
  },
  {
   "cell_type": "code",
   "execution_count": 29,
   "metadata": {},
   "outputs": [],
   "source": [
    "# Creating a pipeline object using imblearn.pipeline with SMOTE and LogisticRegression.\n",
    "\n",
    "pipe1 = make_pipeline(SMOTE(random_state=42),\n",
    "                      LogisticRegression(penalty='elasticnet', solver='saga', random_state=42, max_iter=500, tol=0.005)\n",
    "                     )"
   ]
  },
  {
   "cell_type": "code",
   "execution_count": 30,
   "metadata": {},
   "outputs": [
    {
     "data": {
      "text/plain": [
       "{'memory': None,\n",
       " 'steps': [('smote',\n",
       "   SMOTE(k_neighbors=5, n_jobs=None, random_state=42, sampling_strategy='auto')),\n",
       "  ('logisticregression',\n",
       "   LogisticRegression(C=1.0, class_weight=None, dual=False, fit_intercept=True,\n",
       "                      intercept_scaling=1, l1_ratio=None, max_iter=500,\n",
       "                      multi_class='auto', n_jobs=None, penalty='elasticnet',\n",
       "                      random_state=42, solver='saga', tol=0.005, verbose=0,\n",
       "                      warm_start=False))],\n",
       " 'verbose': False,\n",
       " 'smote': SMOTE(k_neighbors=5, n_jobs=None, random_state=42, sampling_strategy='auto'),\n",
       " 'logisticregression': LogisticRegression(C=1.0, class_weight=None, dual=False, fit_intercept=True,\n",
       "                    intercept_scaling=1, l1_ratio=None, max_iter=500,\n",
       "                    multi_class='auto', n_jobs=None, penalty='elasticnet',\n",
       "                    random_state=42, solver='saga', tol=0.005, verbose=0,\n",
       "                    warm_start=False),\n",
       " 'smote__k_neighbors': 5,\n",
       " 'smote__n_jobs': None,\n",
       " 'smote__random_state': 42,\n",
       " 'smote__sampling_strategy': 'auto',\n",
       " 'logisticregression__C': 1.0,\n",
       " 'logisticregression__class_weight': None,\n",
       " 'logisticregression__dual': False,\n",
       " 'logisticregression__fit_intercept': True,\n",
       " 'logisticregression__intercept_scaling': 1,\n",
       " 'logisticregression__l1_ratio': None,\n",
       " 'logisticregression__max_iter': 500,\n",
       " 'logisticregression__multi_class': 'auto',\n",
       " 'logisticregression__n_jobs': None,\n",
       " 'logisticregression__penalty': 'elasticnet',\n",
       " 'logisticregression__random_state': 42,\n",
       " 'logisticregression__solver': 'saga',\n",
       " 'logisticregression__tol': 0.005,\n",
       " 'logisticregression__verbose': 0,\n",
       " 'logisticregression__warm_start': False}"
      ]
     },
     "execution_count": 30,
     "metadata": {},
     "output_type": "execute_result"
    }
   ],
   "source": [
    "pipe1.get_params()"
   ]
  },
  {
   "cell_type": "code",
   "execution_count": 31,
   "metadata": {},
   "outputs": [],
   "source": [
    "# Establishing ranges of hyperparameters C and l1_ratio for GridSearchCV.\n",
    "\n",
    "pipe1_params = {'logisticregression__C': np.logspace(-2, 2, 5),\n",
    "                'logisticregression__l1_ratio': [0, 0.25, 0.5, 0.75, 1]\n",
    "               }"
   ]
  },
  {
   "cell_type": "markdown",
   "metadata": {},
   "source": [
    "WRITE HYPERPARAMETER COMBINATIONS DURING OPTIMIZATION WITH GRIDSEARCHCV\n",
    "\n",
    "n_estimators started with 100, 150, 200 --> GridSearchCV suggested 200\n",
    "\n",
    "n_estimators changed to 200, 300, 500 --> GridSearchCV suggested 500\n",
    "\n",
    "n_estimators changed to 300, 500, 700 --> GridSearchCV suggested "
   ]
  },
  {
   "cell_type": "code",
   "execution_count": 32,
   "metadata": {},
   "outputs": [],
   "source": [
    "# Creating a GridSearchCV object for the pipeline object defined above.\n",
    "\n",
    "gs_pipe1 = GridSearchCV(pipe1, \n",
    "                        param_grid=pipe1_params, \n",
    "                        cv=5, \n",
    "                        scoring='roc_auc'\n",
    "                       )"
   ]
  },
  {
   "cell_type": "code",
   "execution_count": 33,
   "metadata": {
    "scrolled": true
   },
   "outputs": [
    {
     "data": {
      "text/plain": [
       "GridSearchCV(cv=5, error_score=nan,\n",
       "             estimator=Pipeline(memory=None,\n",
       "                                steps=[('smote',\n",
       "                                        SMOTE(k_neighbors=5, n_jobs=None,\n",
       "                                              random_state=42,\n",
       "                                              sampling_strategy='auto')),\n",
       "                                       ('logisticregression',\n",
       "                                        LogisticRegression(C=1.0,\n",
       "                                                           class_weight=None,\n",
       "                                                           dual=False,\n",
       "                                                           fit_intercept=True,\n",
       "                                                           intercept_scaling=1,\n",
       "                                                           l1_ratio=None,\n",
       "                                                           max_iter=500,\n",
       "                                                           multi_class='auto',\n",
       "                                                           n_jobs=None,\n",
       "                                                           penalty='elasticnet',\n",
       "                                                           random_state=42,\n",
       "                                                           solver='saga',\n",
       "                                                           tol=0.005, verbose=0,\n",
       "                                                           warm_start=False))],\n",
       "                                verbose=False),\n",
       "             iid='deprecated', n_jobs=None,\n",
       "             param_grid={'logisticregression__C': array([1.e-02, 1.e-01, 1.e+00, 1.e+01, 1.e+02]),\n",
       "                         'logisticregression__l1_ratio': [0, 0.25, 0.5, 0.75,\n",
       "                                                          1]},\n",
       "             pre_dispatch='2*n_jobs', refit=True, return_train_score=False,\n",
       "             scoring='roc_auc', verbose=0)"
      ]
     },
     "execution_count": 33,
     "metadata": {},
     "output_type": "execute_result"
    }
   ],
   "source": [
    "# Fitting GridSearchCV with SMOTE and LogisticRegression on X_train_sc and y_train.\n",
    "\n",
    "gs_pipe1.fit(X_train_sc, y_train)"
   ]
  },
  {
   "cell_type": "code",
   "execution_count": 34,
   "metadata": {},
   "outputs": [
    {
     "data": {
      "text/plain": [
       "{'logisticregression__C': 100.0, 'logisticregression__l1_ratio': 0.75}"
      ]
     },
     "execution_count": 34,
     "metadata": {},
     "output_type": "execute_result"
    }
   ],
   "source": [
    "# Best combination of hyperparameters suggested by GridSearchCV.\n",
    "\n",
    "gs_pipe1.best_params_"
   ]
  },
  {
   "cell_type": "code",
   "execution_count": 35,
   "metadata": {},
   "outputs": [
    {
     "data": {
      "text/plain": [
       "0.8308626878774117"
      ]
     },
     "execution_count": 35,
     "metadata": {},
     "output_type": "execute_result"
    }
   ],
   "source": [
    "# Best roc_auc score obtained by above combination of hyperparameters.\n",
    "\n",
    "gs_pipe1.best_score_"
   ]
  },
  {
   "cell_type": "code",
   "execution_count": 36,
   "metadata": {},
   "outputs": [
    {
     "data": {
      "text/plain": [
       "0.8477267153978961"
      ]
     },
     "execution_count": 36,
     "metadata": {},
     "output_type": "execute_result"
    }
   ],
   "source": [
    "# Scoring the model on training dataset (roc_auc score).\n",
    "\n",
    "gs_pipe1.score(X_train_sc, y_train)"
   ]
  },
  {
   "cell_type": "code",
   "execution_count": 37,
   "metadata": {},
   "outputs": [
    {
     "data": {
      "text/plain": [
       "0.8584129155712931"
      ]
     },
     "execution_count": 37,
     "metadata": {},
     "output_type": "execute_result"
    }
   ],
   "source": [
    "# Scoring the model on testing dataset (roc_auc score).\n",
    "\n",
    "gs_pipe1.score(X_test_sc, y_test)"
   ]
  },
  {
   "cell_type": "markdown",
   "metadata": {},
   "source": [
    "Even though the best parameters were suggested above by *GridSearchCV*, the model was further tuned manually using different combinations of hyperparameters. *GridSearchCV* only optimizes the model using a single scoring parameter (set as *'roc_auc'* above). However, in this context, we need to find a good balance between *Accuracy* and *Sensitivity* scores, and so a manual tuning of hyperparameters is required.\n",
    "\n",
    "The final set of hyperparameters chosen after manual tuning of the model are as shown below."
   ]
  },
  {
   "cell_type": "code",
   "execution_count": 38,
   "metadata": {},
   "outputs": [],
   "source": [
    "# Creating a pipeline object using imblearn.pipeline with SMOTE and LogisticRegression using best params suggested by GridSearchCV above.\n",
    "\n",
    "lr_smote_pipe1 = make_pipeline(SMOTE(random_state=42),\n",
    "                               LogisticRegression(penalty='elasticnet',\n",
    "                                                  solver='saga',\n",
    "                                                  C=100,\n",
    "                                                  l1_ratio=0.75,\n",
    "                                                  random_state=42,\n",
    "                                                  max_iter=500,\n",
    "                                                  tol=0.005\n",
    "                                                 )\n",
    "                              )"
   ]
  },
  {
   "cell_type": "code",
   "execution_count": 39,
   "metadata": {},
   "outputs": [
    {
     "data": {
      "text/plain": [
       "Pipeline(memory=None,\n",
       "         steps=[('smote',\n",
       "                 SMOTE(k_neighbors=5, n_jobs=None, random_state=42,\n",
       "                       sampling_strategy='auto')),\n",
       "                ('logisticregression',\n",
       "                 LogisticRegression(C=100, class_weight=None, dual=False,\n",
       "                                    fit_intercept=True, intercept_scaling=1,\n",
       "                                    l1_ratio=0.75, max_iter=500,\n",
       "                                    multi_class='auto', n_jobs=None,\n",
       "                                    penalty='elasticnet', random_state=42,\n",
       "                                    solver='saga', tol=0.005, verbose=0,\n",
       "                                    warm_start=False))],\n",
       "         verbose=False)"
      ]
     },
     "execution_count": 39,
     "metadata": {},
     "output_type": "execute_result"
    }
   ],
   "source": [
    "# Fitting X_train_sc and y_train on the pipeline object defined above.\n",
    "\n",
    "lr_smote_pipe1.fit(X_train_sc, y_train)"
   ]
  },
  {
   "cell_type": "code",
   "execution_count": 40,
   "metadata": {},
   "outputs": [
    {
     "data": {
      "text/plain": [
       "0.7074502247912653"
      ]
     },
     "execution_count": 40,
     "metadata": {},
     "output_type": "execute_result"
    }
   ],
   "source": [
    "# Scoring the model on training dataset.\n",
    "# Training Accuracy\n",
    "\n",
    "train_acc1 = lr_smote_pipe1.score(X_train_sc, y_train)\n",
    "train_acc1"
   ]
  },
  {
   "cell_type": "code",
   "execution_count": 41,
   "metadata": {},
   "outputs": [
    {
     "data": {
      "text/plain": [
       "0.6976570165090539"
      ]
     },
     "execution_count": 41,
     "metadata": {},
     "output_type": "execute_result"
    }
   ],
   "source": [
    "# Estimated Testing Accuracy\n",
    "\n",
    "est_test_acc1 = cross_val_score(lr_smote_pipe1, X_train_sc, y_train, cv=5).mean()\n",
    "est_test_acc1"
   ]
  },
  {
   "cell_type": "code",
   "execution_count": 42,
   "metadata": {},
   "outputs": [
    {
     "data": {
      "text/plain": [
       "0.7119460500963392"
      ]
     },
     "execution_count": 42,
     "metadata": {},
     "output_type": "execute_result"
    }
   ],
   "source": [
    "# Actual Testing Accuracy\n",
    "\n",
    "test_acc1 = lr_smote_pipe1.score(X_test_sc, y_test)\n",
    "test_acc1"
   ]
  },
  {
   "cell_type": "code",
   "execution_count": 43,
   "metadata": {},
   "outputs": [],
   "source": [
    "# Generating predictions on testing dataset using the model above.\n",
    "\n",
    "y_pred1 = lr_smote_pipe1.predict(X_test_sc)"
   ]
  },
  {
   "cell_type": "code",
   "execution_count": 44,
   "metadata": {},
   "outputs": [],
   "source": [
    "# Generating prediction probabilities on testing dataset using the model above.\n",
    "\n",
    "y_pred_proba1 = lr_smote_pipe1.predict_proba(X_test_sc)"
   ]
  },
  {
   "cell_type": "code",
   "execution_count": 45,
   "metadata": {},
   "outputs": [],
   "source": [
    "# Generating a confusion matrix.\n",
    "\n",
    "tn, fp, fn, tp = confusion_matrix(y_test, y_pred1).ravel()"
   ]
  },
  {
   "cell_type": "code",
   "execution_count": 46,
   "metadata": {},
   "outputs": [
    {
     "data": {
      "text/html": [
       "<div>\n",
       "<style scoped>\n",
       "    .dataframe tbody tr th:only-of-type {\n",
       "        vertical-align: middle;\n",
       "    }\n",
       "\n",
       "    .dataframe tbody tr th {\n",
       "        vertical-align: top;\n",
       "    }\n",
       "\n",
       "    .dataframe thead th {\n",
       "        text-align: right;\n",
       "    }\n",
       "</style>\n",
       "<table border=\"1\" class=\"dataframe\">\n",
       "  <thead>\n",
       "    <tr style=\"text-align: right;\">\n",
       "      <th></th>\n",
       "      <th>Actual WnvPresent=1</th>\n",
       "      <th>Actual WnvPresent=0</th>\n",
       "    </tr>\n",
       "  </thead>\n",
       "  <tbody>\n",
       "    <tr>\n",
       "      <th>Predicted WnvPresent=1</th>\n",
       "      <td>97 (True Pos)</td>\n",
       "      <td>581 (False Pos)</td>\n",
       "    </tr>\n",
       "    <tr>\n",
       "      <th>Predicted WnvPresent=0</th>\n",
       "      <td>17 (False Neg)</td>\n",
       "      <td>1381 (True Neg)</td>\n",
       "    </tr>\n",
       "  </tbody>\n",
       "</table>\n",
       "</div>"
      ],
      "text/plain": [
       "                       Actual WnvPresent=1 Actual WnvPresent=0\n",
       "Predicted WnvPresent=1       97 (True Pos)     581 (False Pos)\n",
       "Predicted WnvPresent=0      17 (False Neg)     1381 (True Neg)"
      ]
     },
     "execution_count": 46,
     "metadata": {},
     "output_type": "execute_result"
    }
   ],
   "source": [
    "conf_mat1 = pd.DataFrame(columns=['Actual WnvPresent=1', 'Actual WnvPresent=0'], \n",
    "                         index=['Predicted WnvPresent=1', 'Predicted WnvPresent=0'],\n",
    "                         data=[[f'{tp} (True Pos)', f'{fp} (False Pos)'], [f'{fn} (False Neg)', f'{tn} (True Neg)']]\n",
    "                        )\n",
    "conf_mat1"
   ]
  },
  {
   "cell_type": "code",
   "execution_count": 47,
   "metadata": {},
   "outputs": [
    {
     "data": {
      "text/plain": [
       "0.8508771929824561"
      ]
     },
     "execution_count": 47,
     "metadata": {},
     "output_type": "execute_result"
    }
   ],
   "source": [
    "sensitivity1 = tp/(tp+fn)\n",
    "sensitivity1"
   ]
  },
  {
   "cell_type": "code",
   "execution_count": 48,
   "metadata": {},
   "outputs": [
    {
     "data": {
      "text/plain": [
       "0.7038735983690112"
      ]
     },
     "execution_count": 48,
     "metadata": {},
     "output_type": "execute_result"
    }
   ],
   "source": [
    "specificity1 = tn/(tn+fp)\n",
    "specificity1"
   ]
  },
  {
   "cell_type": "code",
   "execution_count": 49,
   "metadata": {},
   "outputs": [
    {
     "data": {
      "text/plain": [
       "0.1430678466076696"
      ]
     },
     "execution_count": 49,
     "metadata": {},
     "output_type": "execute_result"
    }
   ],
   "source": [
    "precision1 = tp/(tp+fp)\n",
    "precision1"
   ]
  },
  {
   "cell_type": "code",
   "execution_count": 50,
   "metadata": {},
   "outputs": [
    {
     "data": {
      "text/plain": [
       "0.8584129155712931"
      ]
     },
     "execution_count": 50,
     "metadata": {},
     "output_type": "execute_result"
    }
   ],
   "source": [
    "roc_auc1 = roc_auc_score(y_test, y_pred_proba1[:, 1])\n",
    "roc_auc1"
   ]
  },
  {
   "cell_type": "code",
   "execution_count": 51,
   "metadata": {},
   "outputs": [],
   "source": [
    "# Generating prediction probabilities on actual testing dataset using the model above (for kaggle submission).\n",
    "\n",
    "submission_pred_proba1 = lr_smote_pipe1.predict_proba(act_test_X_sc)[:, 1]"
   ]
  },
  {
   "cell_type": "code",
   "execution_count": 52,
   "metadata": {},
   "outputs": [],
   "source": [
    "# Putting the above predicted probabilities into a dataframe and exporting it as a csv file for submission to kaggle.\n",
    "\n",
    "# sub1 = pd.DataFrame({'Id' : test['Id'].values, 'WnvPresent' : submission_pred_proba1})\n",
    "# sub1.to_csv('../kaggle_submissions/submission_1.csv', index=False)"
   ]
  },
  {
   "cell_type": "code",
   "execution_count": 53,
   "metadata": {},
   "outputs": [],
   "source": [
    "summary_df = pd.DataFrame(columns=['Classifier',\n",
    "                                   'Class Balancing Technique',\n",
    "                                   'Train Accuracy',\n",
    "                                   'Est. Test Accuracy (cv=5)',\n",
    "                                   'Actual Test Accuracy',\n",
    "                                   'Overfit / Underfit',\n",
    "                                   'Sensitivity',\n",
    "                                   'Specificity',\n",
    "                                   'Precision',\n",
    "                                   'ROC-AUC',\n",
    "                                   'Kaggle ROC-AUC'\n",
    "                                  ])"
   ]
  },
  {
   "cell_type": "code",
   "execution_count": 54,
   "metadata": {},
   "outputs": [
    {
     "data": {
      "text/html": [
       "<div>\n",
       "<style scoped>\n",
       "    .dataframe tbody tr th:only-of-type {\n",
       "        vertical-align: middle;\n",
       "    }\n",
       "\n",
       "    .dataframe tbody tr th {\n",
       "        vertical-align: top;\n",
       "    }\n",
       "\n",
       "    .dataframe thead th {\n",
       "        text-align: right;\n",
       "    }\n",
       "</style>\n",
       "<table border=\"1\" class=\"dataframe\">\n",
       "  <thead>\n",
       "    <tr style=\"text-align: right;\">\n",
       "      <th></th>\n",
       "      <th>Classifier</th>\n",
       "      <th>Class Balancing Technique</th>\n",
       "      <th>Train Accuracy</th>\n",
       "      <th>Est. Test Accuracy (cv=5)</th>\n",
       "      <th>Actual Test Accuracy</th>\n",
       "      <th>Overfit / Underfit</th>\n",
       "      <th>Sensitivity</th>\n",
       "      <th>Specificity</th>\n",
       "      <th>Precision</th>\n",
       "      <th>ROC-AUC</th>\n",
       "      <th>Kaggle ROC-AUC</th>\n",
       "    </tr>\n",
       "  </thead>\n",
       "  <tbody>\n",
       "    <tr>\n",
       "      <th>1</th>\n",
       "      <td>LogisticRegression</td>\n",
       "      <td>SMOTE</td>\n",
       "      <td>0.707</td>\n",
       "      <td>0.698</td>\n",
       "      <td>0.712</td>\n",
       "      <td>-0.004</td>\n",
       "      <td>0.851</td>\n",
       "      <td>0.704</td>\n",
       "      <td>0.143</td>\n",
       "      <td>0.858</td>\n",
       "      <td>0</td>\n",
       "    </tr>\n",
       "  </tbody>\n",
       "</table>\n",
       "</div>"
      ],
      "text/plain": [
       "           Classifier Class Balancing Technique  Train Accuracy  \\\n",
       "1  LogisticRegression                     SMOTE           0.707   \n",
       "\n",
       "   Est. Test Accuracy (cv=5)  Actual Test Accuracy  Overfit / Underfit  \\\n",
       "1                      0.698                 0.712              -0.004   \n",
       "\n",
       "   Sensitivity  Specificity  Precision  ROC-AUC Kaggle ROC-AUC  \n",
       "1        0.851        0.704      0.143    0.858              0  "
      ]
     },
     "execution_count": 54,
     "metadata": {},
     "output_type": "execute_result"
    }
   ],
   "source": [
    "summary_df.loc[1] = [\"LogisticRegression\",\n",
    "                     \"SMOTE\",\n",
    "                     round(train_acc1, 3),\n",
    "                     round(est_test_acc1, 3),\n",
    "                     round(test_acc1, 3),\n",
    "                     round(train_acc1-test_acc1, 3),\n",
    "                     round(sensitivity1, 3),\n",
    "                     round(specificity1, 3),\n",
    "                     round(precision1, 3),\n",
    "                     round(roc_auc1, 3),\n",
    "                     0\n",
    "                    ]\n",
    "\n",
    "summary_df"
   ]
  },
  {
   "cell_type": "markdown",
   "metadata": {},
   "source": [
    "### RandomForestClassifier with SMOTE balancing technique"
   ]
  },
  {
   "cell_type": "markdown",
   "metadata": {},
   "source": [
    "Using a similar approach as with *LogisticRegression* above, manual tweaking of hyperparameters was done after using *GridSearchCV*. As explained above, *GridSearchCV* only optimizes the model using a single scoring parameter. However, in this context, we need to find a good balance between *Accuracy* and *Sensitivity* scores, and so a manual tuning of hyperparameters is required.\n",
    "\n",
    "The final set of hyperparameters chosen after manual tuning of the model are as shown below."
   ]
  },
  {
   "cell_type": "code",
   "execution_count": 55,
   "metadata": {},
   "outputs": [],
   "source": [
    "# Creating a pipeline object using imblearn.pipeline with SMOTE and RandomForestClassifier.\n",
    "\n",
    "rfc_smote_pipe2 = make_pipeline(SMOTE(random_state=42),\n",
    "                                RandomForestClassifier(n_estimators=100,\n",
    "                                                       ccp_alpha=0,\n",
    "                                                       max_depth=5,\n",
    "                                                       min_samples_split=2,\n",
    "                                                       min_samples_leaf=3,\n",
    "                                                       random_state=42\n",
    "                                                      )\n",
    "                               )"
   ]
  },
  {
   "cell_type": "code",
   "execution_count": 56,
   "metadata": {},
   "outputs": [
    {
     "data": {
      "text/plain": [
       "Pipeline(memory=None,\n",
       "         steps=[('smote',\n",
       "                 SMOTE(k_neighbors=5, n_jobs=None, random_state=42,\n",
       "                       sampling_strategy='auto')),\n",
       "                ('randomforestclassifier',\n",
       "                 RandomForestClassifier(bootstrap=True, ccp_alpha=0,\n",
       "                                        class_weight=None, criterion='gini',\n",
       "                                        max_depth=5, max_features='auto',\n",
       "                                        max_leaf_nodes=None, max_samples=None,\n",
       "                                        min_impurity_decrease=0.0,\n",
       "                                        min_impurity_split=None,\n",
       "                                        min_samples_leaf=3, min_samples_split=2,\n",
       "                                        min_weight_fraction_leaf=0.0,\n",
       "                                        n_estimators=100, n_jobs=None,\n",
       "                                        oob_score=False, random_state=42,\n",
       "                                        verbose=0, warm_start=False))],\n",
       "         verbose=False)"
      ]
     },
     "execution_count": 56,
     "metadata": {},
     "output_type": "execute_result"
    }
   ],
   "source": [
    "# Fitting X_train_sc and y_train on the pipeline object defined above.\n",
    "\n",
    "rfc_smote_pipe2.fit(X_train_sc, y_train)"
   ]
  },
  {
   "cell_type": "code",
   "execution_count": 57,
   "metadata": {},
   "outputs": [
    {
     "data": {
      "text/plain": [
       "0.7784200385356455"
      ]
     },
     "execution_count": 57,
     "metadata": {},
     "output_type": "execute_result"
    }
   ],
   "source": [
    "# Scoring the model on training dataset.\n",
    "# Training Accuracy\n",
    "\n",
    "train_acc2 = rfc_smote_pipe2.score(X_train_sc, y_train)\n",
    "train_acc2"
   ]
  },
  {
   "cell_type": "code",
   "execution_count": 58,
   "metadata": {},
   "outputs": [
    {
     "data": {
      "text/plain": [
       "0.7681431343350933"
      ]
     },
     "execution_count": 58,
     "metadata": {},
     "output_type": "execute_result"
    }
   ],
   "source": [
    "# Estimated Testing Accuracy\n",
    "\n",
    "est_test_acc2 = cross_val_score(rfc_smote_pipe2, X_train_sc, y_train, cv=5).mean()\n",
    "est_test_acc2"
   ]
  },
  {
   "cell_type": "code",
   "execution_count": 59,
   "metadata": {},
   "outputs": [
    {
     "data": {
      "text/plain": [
       "0.7750481695568401"
      ]
     },
     "execution_count": 59,
     "metadata": {},
     "output_type": "execute_result"
    }
   ],
   "source": [
    "# Actual Testing Accuracy\n",
    "\n",
    "test_acc2 = rfc_smote_pipe2.score(X_test_sc, y_test)\n",
    "test_acc2"
   ]
  },
  {
   "cell_type": "code",
   "execution_count": 60,
   "metadata": {},
   "outputs": [],
   "source": [
    "# Generating predictions on testing dataset using the model above.\n",
    "\n",
    "y_pred2 = rfc_smote_pipe2.predict(X_test_sc)"
   ]
  },
  {
   "cell_type": "code",
   "execution_count": 61,
   "metadata": {},
   "outputs": [],
   "source": [
    "# Generating prediction probabilities on testing dataset using the model above.\n",
    "\n",
    "y_pred_proba2 = rfc_smote_pipe2.predict_proba(X_test_sc)"
   ]
  },
  {
   "cell_type": "code",
   "execution_count": 62,
   "metadata": {},
   "outputs": [],
   "source": [
    "# Generating a confusion matrix.\n",
    "\n",
    "tn, fp, fn, tp = confusion_matrix(y_test, y_pred2).ravel()"
   ]
  },
  {
   "cell_type": "code",
   "execution_count": 63,
   "metadata": {},
   "outputs": [
    {
     "data": {
      "text/html": [
       "<div>\n",
       "<style scoped>\n",
       "    .dataframe tbody tr th:only-of-type {\n",
       "        vertical-align: middle;\n",
       "    }\n",
       "\n",
       "    .dataframe tbody tr th {\n",
       "        vertical-align: top;\n",
       "    }\n",
       "\n",
       "    .dataframe thead th {\n",
       "        text-align: right;\n",
       "    }\n",
       "</style>\n",
       "<table border=\"1\" class=\"dataframe\">\n",
       "  <thead>\n",
       "    <tr style=\"text-align: right;\">\n",
       "      <th></th>\n",
       "      <th>Actual WnvPresent=1</th>\n",
       "      <th>Actual WnvPresent=0</th>\n",
       "    </tr>\n",
       "  </thead>\n",
       "  <tbody>\n",
       "    <tr>\n",
       "      <th>Predicted WnvPresent=1</th>\n",
       "      <td>97 (True Pos)</td>\n",
       "      <td>450 (False Pos)</td>\n",
       "    </tr>\n",
       "    <tr>\n",
       "      <th>Predicted WnvPresent=0</th>\n",
       "      <td>17 (False Neg)</td>\n",
       "      <td>1512 (True Neg)</td>\n",
       "    </tr>\n",
       "  </tbody>\n",
       "</table>\n",
       "</div>"
      ],
      "text/plain": [
       "                       Actual WnvPresent=1 Actual WnvPresent=0\n",
       "Predicted WnvPresent=1       97 (True Pos)     450 (False Pos)\n",
       "Predicted WnvPresent=0      17 (False Neg)     1512 (True Neg)"
      ]
     },
     "execution_count": 63,
     "metadata": {},
     "output_type": "execute_result"
    }
   ],
   "source": [
    "conf_mat2 = pd.DataFrame(columns=['Actual WnvPresent=1', 'Actual WnvPresent=0'], \n",
    "                         index=['Predicted WnvPresent=1', 'Predicted WnvPresent=0'],\n",
    "                         data=[[f'{tp} (True Pos)', f'{fp} (False Pos)'], [f'{fn} (False Neg)', f'{tn} (True Neg)']]\n",
    "                        )\n",
    "conf_mat2"
   ]
  },
  {
   "cell_type": "code",
   "execution_count": 64,
   "metadata": {},
   "outputs": [
    {
     "data": {
      "text/plain": [
       "0.8508771929824561"
      ]
     },
     "execution_count": 64,
     "metadata": {},
     "output_type": "execute_result"
    }
   ],
   "source": [
    "sensitivity2 = tp/(tp+fn)\n",
    "sensitivity2"
   ]
  },
  {
   "cell_type": "code",
   "execution_count": 65,
   "metadata": {},
   "outputs": [
    {
     "data": {
      "text/plain": [
       "0.7706422018348624"
      ]
     },
     "execution_count": 65,
     "metadata": {},
     "output_type": "execute_result"
    }
   ],
   "source": [
    "specificity2 = tn/(tn+fp)\n",
    "specificity2"
   ]
  },
  {
   "cell_type": "code",
   "execution_count": 66,
   "metadata": {},
   "outputs": [
    {
     "data": {
      "text/plain": [
       "0.1773308957952468"
      ]
     },
     "execution_count": 66,
     "metadata": {},
     "output_type": "execute_result"
    }
   ],
   "source": [
    "precision2 = tp/(tp+fp)\n",
    "precision2"
   ]
  },
  {
   "cell_type": "code",
   "execution_count": 67,
   "metadata": {},
   "outputs": [
    {
     "data": {
      "text/plain": [
       "0.8722369762326305"
      ]
     },
     "execution_count": 67,
     "metadata": {},
     "output_type": "execute_result"
    }
   ],
   "source": [
    "roc_auc2 = roc_auc_score(y_test, y_pred_proba2[:, 1])\n",
    "roc_auc2"
   ]
  },
  {
   "cell_type": "code",
   "execution_count": 68,
   "metadata": {},
   "outputs": [],
   "source": [
    "# Generating prediction probabilities on actual testing dataset using the model above (for kaggle submission).\n",
    "\n",
    "submission_pred_proba2 = rfc_smote_pipe2.predict_proba(act_test_X_sc)[:, 1]"
   ]
  },
  {
   "cell_type": "code",
   "execution_count": 69,
   "metadata": {},
   "outputs": [],
   "source": [
    "# Putting the above predicted probabilities into a dataframe and exporting it as a csv file for submission to kaggle.\n",
    "\n",
    "# sub2 = pd.DataFrame({'Id' : test['Id'].values, 'WnvPresent' : submission_pred_proba2})\n",
    "# sub2.to_csv('../kaggle_submissions/submission_2.csv', index=False)"
   ]
  },
  {
   "cell_type": "code",
   "execution_count": 70,
   "metadata": {},
   "outputs": [
    {
     "data": {
      "text/html": [
       "<div>\n",
       "<style scoped>\n",
       "    .dataframe tbody tr th:only-of-type {\n",
       "        vertical-align: middle;\n",
       "    }\n",
       "\n",
       "    .dataframe tbody tr th {\n",
       "        vertical-align: top;\n",
       "    }\n",
       "\n",
       "    .dataframe thead th {\n",
       "        text-align: right;\n",
       "    }\n",
       "</style>\n",
       "<table border=\"1\" class=\"dataframe\">\n",
       "  <thead>\n",
       "    <tr style=\"text-align: right;\">\n",
       "      <th></th>\n",
       "      <th>Classifier</th>\n",
       "      <th>Class Balancing Technique</th>\n",
       "      <th>Train Accuracy</th>\n",
       "      <th>Est. Test Accuracy (cv=5)</th>\n",
       "      <th>Actual Test Accuracy</th>\n",
       "      <th>Overfit / Underfit</th>\n",
       "      <th>Sensitivity</th>\n",
       "      <th>Specificity</th>\n",
       "      <th>Precision</th>\n",
       "      <th>ROC-AUC</th>\n",
       "      <th>Kaggle ROC-AUC</th>\n",
       "    </tr>\n",
       "  </thead>\n",
       "  <tbody>\n",
       "    <tr>\n",
       "      <th>1</th>\n",
       "      <td>LogisticRegression</td>\n",
       "      <td>SMOTE</td>\n",
       "      <td>0.707</td>\n",
       "      <td>0.698</td>\n",
       "      <td>0.712</td>\n",
       "      <td>-0.004</td>\n",
       "      <td>0.851</td>\n",
       "      <td>0.704</td>\n",
       "      <td>0.143</td>\n",
       "      <td>0.858</td>\n",
       "      <td>0</td>\n",
       "    </tr>\n",
       "    <tr>\n",
       "      <th>2</th>\n",
       "      <td>RandomForestClassifier</td>\n",
       "      <td>SMOTE</td>\n",
       "      <td>0.778</td>\n",
       "      <td>0.768</td>\n",
       "      <td>0.775</td>\n",
       "      <td>0.003</td>\n",
       "      <td>0.851</td>\n",
       "      <td>0.771</td>\n",
       "      <td>0.177</td>\n",
       "      <td>0.872</td>\n",
       "      <td>0</td>\n",
       "    </tr>\n",
       "  </tbody>\n",
       "</table>\n",
       "</div>"
      ],
      "text/plain": [
       "               Classifier Class Balancing Technique  Train Accuracy  \\\n",
       "1      LogisticRegression                     SMOTE           0.707   \n",
       "2  RandomForestClassifier                     SMOTE           0.778   \n",
       "\n",
       "   Est. Test Accuracy (cv=5)  Actual Test Accuracy  Overfit / Underfit  \\\n",
       "1                      0.698                 0.712              -0.004   \n",
       "2                      0.768                 0.775               0.003   \n",
       "\n",
       "   Sensitivity  Specificity  Precision  ROC-AUC Kaggle ROC-AUC  \n",
       "1        0.851        0.704      0.143    0.858              0  \n",
       "2        0.851        0.771      0.177    0.872              0  "
      ]
     },
     "execution_count": 70,
     "metadata": {},
     "output_type": "execute_result"
    }
   ],
   "source": [
    "summary_df.loc[2] = [\"RandomForestClassifier\",\n",
    "                     \"SMOTE\",\n",
    "                     round(train_acc2, 3),\n",
    "                     round(est_test_acc2, 3),\n",
    "                     round(test_acc2, 3),\n",
    "                     round(train_acc2-test_acc2, 3),\n",
    "                     round(sensitivity2, 3),\n",
    "                     round(specificity2, 3),\n",
    "                     round(precision2, 3),\n",
    "                     round(roc_auc2, 3),\n",
    "                     0\n",
    "                    ]\n",
    "\n",
    "summary_df"
   ]
  },
  {
   "cell_type": "markdown",
   "metadata": {},
   "source": [
    "### SVC with SMOTE balancing technique"
   ]
  },
  {
   "cell_type": "markdown",
   "metadata": {},
   "source": [
    "Using a similar approach as above, manual tweaking of hyperparameters was done after using *GridSearchCV*. As explained above, *GridSearchCV* only optimizes the model using a single scoring parameter. However, in this context, we need to find a good balance between *Accuracy* and *Sensitivity* scores, and so a manual tuning of hyperparameters is required.\n",
    "\n",
    "The final set of hyperparameters chosen after manual tuning of the model are as shown below."
   ]
  },
  {
   "cell_type": "code",
   "execution_count": 71,
   "metadata": {},
   "outputs": [],
   "source": [
    "# Creating a pipeline object using imblearn.pipeline with SMOTE and SVC.\n",
    "\n",
    "svc_smote_pipe3 = make_pipeline(SMOTE(random_state=42),\n",
    "                                SVC(C=0.1,\n",
    "                                    kernel='rbf',\n",
    "                                    probability=True, \n",
    "                                    random_state=42\n",
    "                                   )\n",
    "                               )"
   ]
  },
  {
   "cell_type": "code",
   "execution_count": 72,
   "metadata": {},
   "outputs": [
    {
     "data": {
      "text/plain": [
       "Pipeline(memory=None,\n",
       "         steps=[('smote',\n",
       "                 SMOTE(k_neighbors=5, n_jobs=None, random_state=42,\n",
       "                       sampling_strategy='auto')),\n",
       "                ('svc',\n",
       "                 SVC(C=0.1, break_ties=False, cache_size=200, class_weight=None,\n",
       "                     coef0=0.0, decision_function_shape='ovr', degree=3,\n",
       "                     gamma='scale', kernel='rbf', max_iter=-1, probability=True,\n",
       "                     random_state=42, shrinking=True, tol=0.001,\n",
       "                     verbose=False))],\n",
       "         verbose=False)"
      ]
     },
     "execution_count": 72,
     "metadata": {},
     "output_type": "execute_result"
    }
   ],
   "source": [
    "# Fitting X_train_sc and y_train on the pipeline object defined above.\n",
    "\n",
    "svc_smote_pipe3.fit(X_train_sc, y_train)"
   ]
  },
  {
   "cell_type": "code",
   "execution_count": 73,
   "metadata": {},
   "outputs": [
    {
     "data": {
      "text/plain": [
       "0.7032755298651252"
      ]
     },
     "execution_count": 73,
     "metadata": {},
     "output_type": "execute_result"
    }
   ],
   "source": [
    "# Scoring the model on training dataset.\n",
    "# Training Accuracy\n",
    "\n",
    "train_acc3 = svc_smote_pipe3.score(X_train_sc, y_train)\n",
    "train_acc3"
   ]
  },
  {
   "cell_type": "code",
   "execution_count": 74,
   "metadata": {},
   "outputs": [
    {
     "data": {
      "text/plain": [
       "0.6931616030736106"
      ]
     },
     "execution_count": 74,
     "metadata": {},
     "output_type": "execute_result"
    }
   ],
   "source": [
    "# Estimated Testing Accuracy\n",
    "\n",
    "est_test_acc3 = cross_val_score(svc_smote_pipe3, X_train_sc, y_train, cv=5).mean()\n",
    "est_test_acc3"
   ]
  },
  {
   "cell_type": "code",
   "execution_count": 75,
   "metadata": {},
   "outputs": [
    {
     "data": {
      "text/plain": [
       "0.6936416184971098"
      ]
     },
     "execution_count": 75,
     "metadata": {},
     "output_type": "execute_result"
    }
   ],
   "source": [
    "# Actual Testing Accuracy\n",
    "\n",
    "test_acc3 = svc_smote_pipe3.score(X_test_sc, y_test)\n",
    "test_acc3"
   ]
  },
  {
   "cell_type": "code",
   "execution_count": 76,
   "metadata": {},
   "outputs": [],
   "source": [
    "# Generating predictions on testing dataset using the model above.\n",
    "\n",
    "y_pred3 = svc_smote_pipe3.predict(X_test_sc)"
   ]
  },
  {
   "cell_type": "code",
   "execution_count": 77,
   "metadata": {},
   "outputs": [],
   "source": [
    "# Generating prediction probabilities on testing dataset using the model above.\n",
    "\n",
    "y_pred_proba3 = svc_smote_pipe3.predict_proba(X_test_sc)"
   ]
  },
  {
   "cell_type": "code",
   "execution_count": 78,
   "metadata": {},
   "outputs": [],
   "source": [
    "# Generating a confusion matrix.\n",
    "\n",
    "tn, fp, fn, tp = confusion_matrix(y_test, y_pred3).ravel()"
   ]
  },
  {
   "cell_type": "code",
   "execution_count": 79,
   "metadata": {},
   "outputs": [
    {
     "data": {
      "text/html": [
       "<div>\n",
       "<style scoped>\n",
       "    .dataframe tbody tr th:only-of-type {\n",
       "        vertical-align: middle;\n",
       "    }\n",
       "\n",
       "    .dataframe tbody tr th {\n",
       "        vertical-align: top;\n",
       "    }\n",
       "\n",
       "    .dataframe thead th {\n",
       "        text-align: right;\n",
       "    }\n",
       "</style>\n",
       "<table border=\"1\" class=\"dataframe\">\n",
       "  <thead>\n",
       "    <tr style=\"text-align: right;\">\n",
       "      <th></th>\n",
       "      <th>Actual WnvPresent=1</th>\n",
       "      <th>Actual WnvPresent=0</th>\n",
       "    </tr>\n",
       "  </thead>\n",
       "  <tbody>\n",
       "    <tr>\n",
       "      <th>Predicted WnvPresent=1</th>\n",
       "      <td>98 (True Pos)</td>\n",
       "      <td>620 (False Pos)</td>\n",
       "    </tr>\n",
       "    <tr>\n",
       "      <th>Predicted WnvPresent=0</th>\n",
       "      <td>16 (False Neg)</td>\n",
       "      <td>1342 (True Neg)</td>\n",
       "    </tr>\n",
       "  </tbody>\n",
       "</table>\n",
       "</div>"
      ],
      "text/plain": [
       "                       Actual WnvPresent=1 Actual WnvPresent=0\n",
       "Predicted WnvPresent=1       98 (True Pos)     620 (False Pos)\n",
       "Predicted WnvPresent=0      16 (False Neg)     1342 (True Neg)"
      ]
     },
     "execution_count": 79,
     "metadata": {},
     "output_type": "execute_result"
    }
   ],
   "source": [
    "conf_mat3 = pd.DataFrame(columns=['Actual WnvPresent=1', 'Actual WnvPresent=0'], \n",
    "                         index=['Predicted WnvPresent=1', 'Predicted WnvPresent=0'],\n",
    "                         data=[[f'{tp} (True Pos)', f'{fp} (False Pos)'], [f'{fn} (False Neg)', f'{tn} (True Neg)']]\n",
    "                        )\n",
    "conf_mat3"
   ]
  },
  {
   "cell_type": "code",
   "execution_count": 80,
   "metadata": {},
   "outputs": [
    {
     "data": {
      "text/plain": [
       "0.8596491228070176"
      ]
     },
     "execution_count": 80,
     "metadata": {},
     "output_type": "execute_result"
    }
   ],
   "source": [
    "sensitivity3 = tp/(tp+fn)\n",
    "sensitivity3"
   ]
  },
  {
   "cell_type": "code",
   "execution_count": 81,
   "metadata": {},
   "outputs": [
    {
     "data": {
      "text/plain": [
       "0.6839959225280327"
      ]
     },
     "execution_count": 81,
     "metadata": {},
     "output_type": "execute_result"
    }
   ],
   "source": [
    "specificity3 = tn/(tn+fp)\n",
    "specificity3"
   ]
  },
  {
   "cell_type": "code",
   "execution_count": 82,
   "metadata": {},
   "outputs": [
    {
     "data": {
      "text/plain": [
       "0.13649025069637882"
      ]
     },
     "execution_count": 82,
     "metadata": {},
     "output_type": "execute_result"
    }
   ],
   "source": [
    "precision3 = tp/(tp+fp)\n",
    "precision3"
   ]
  },
  {
   "cell_type": "code",
   "execution_count": 83,
   "metadata": {},
   "outputs": [
    {
     "data": {
      "text/plain": [
       "0.8443451901926069"
      ]
     },
     "execution_count": 83,
     "metadata": {},
     "output_type": "execute_result"
    }
   ],
   "source": [
    "roc_auc3 = roc_auc_score(y_test, y_pred_proba3[:, 1])\n",
    "roc_auc3"
   ]
  },
  {
   "cell_type": "code",
   "execution_count": 84,
   "metadata": {},
   "outputs": [],
   "source": [
    "# Generating prediction probabilities on actual testing dataset using the model above (for kaggle submission).\n",
    "\n",
    "submission_pred_proba3 = svc_smote_pipe3.predict_proba(act_test_X_sc)[:, 1]"
   ]
  },
  {
   "cell_type": "code",
   "execution_count": 85,
   "metadata": {},
   "outputs": [],
   "source": [
    "# Putting the above predicted probabilities into a dataframe and exporting it as a csv file for submission to kaggle.\n",
    "\n",
    "# sub3 = pd.DataFrame({'Id' : test['Id'].values, 'WnvPresent' : submission_pred_proba3})\n",
    "# sub3.to_csv('../kaggle_submissions/submission_3.csv', index=False)"
   ]
  },
  {
   "cell_type": "code",
   "execution_count": 86,
   "metadata": {},
   "outputs": [
    {
     "data": {
      "text/html": [
       "<div>\n",
       "<style scoped>\n",
       "    .dataframe tbody tr th:only-of-type {\n",
       "        vertical-align: middle;\n",
       "    }\n",
       "\n",
       "    .dataframe tbody tr th {\n",
       "        vertical-align: top;\n",
       "    }\n",
       "\n",
       "    .dataframe thead th {\n",
       "        text-align: right;\n",
       "    }\n",
       "</style>\n",
       "<table border=\"1\" class=\"dataframe\">\n",
       "  <thead>\n",
       "    <tr style=\"text-align: right;\">\n",
       "      <th></th>\n",
       "      <th>Classifier</th>\n",
       "      <th>Class Balancing Technique</th>\n",
       "      <th>Train Accuracy</th>\n",
       "      <th>Est. Test Accuracy (cv=5)</th>\n",
       "      <th>Actual Test Accuracy</th>\n",
       "      <th>Overfit / Underfit</th>\n",
       "      <th>Sensitivity</th>\n",
       "      <th>Specificity</th>\n",
       "      <th>Precision</th>\n",
       "      <th>ROC-AUC</th>\n",
       "      <th>Kaggle ROC-AUC</th>\n",
       "    </tr>\n",
       "  </thead>\n",
       "  <tbody>\n",
       "    <tr>\n",
       "      <th>1</th>\n",
       "      <td>LogisticRegression</td>\n",
       "      <td>SMOTE</td>\n",
       "      <td>0.707</td>\n",
       "      <td>0.698</td>\n",
       "      <td>0.712</td>\n",
       "      <td>-0.004</td>\n",
       "      <td>0.851</td>\n",
       "      <td>0.704</td>\n",
       "      <td>0.143</td>\n",
       "      <td>0.858</td>\n",
       "      <td>0</td>\n",
       "    </tr>\n",
       "    <tr>\n",
       "      <th>2</th>\n",
       "      <td>RandomForestClassifier</td>\n",
       "      <td>SMOTE</td>\n",
       "      <td>0.778</td>\n",
       "      <td>0.768</td>\n",
       "      <td>0.775</td>\n",
       "      <td>0.003</td>\n",
       "      <td>0.851</td>\n",
       "      <td>0.771</td>\n",
       "      <td>0.177</td>\n",
       "      <td>0.872</td>\n",
       "      <td>0</td>\n",
       "    </tr>\n",
       "    <tr>\n",
       "      <th>3</th>\n",
       "      <td>SVC</td>\n",
       "      <td>SMOTE</td>\n",
       "      <td>0.703</td>\n",
       "      <td>0.693</td>\n",
       "      <td>0.694</td>\n",
       "      <td>0.010</td>\n",
       "      <td>0.860</td>\n",
       "      <td>0.684</td>\n",
       "      <td>0.136</td>\n",
       "      <td>0.844</td>\n",
       "      <td>0</td>\n",
       "    </tr>\n",
       "  </tbody>\n",
       "</table>\n",
       "</div>"
      ],
      "text/plain": [
       "               Classifier Class Balancing Technique  Train Accuracy  \\\n",
       "1      LogisticRegression                     SMOTE           0.707   \n",
       "2  RandomForestClassifier                     SMOTE           0.778   \n",
       "3                     SVC                     SMOTE           0.703   \n",
       "\n",
       "   Est. Test Accuracy (cv=5)  Actual Test Accuracy  Overfit / Underfit  \\\n",
       "1                      0.698                 0.712              -0.004   \n",
       "2                      0.768                 0.775               0.003   \n",
       "3                      0.693                 0.694               0.010   \n",
       "\n",
       "   Sensitivity  Specificity  Precision  ROC-AUC Kaggle ROC-AUC  \n",
       "1        0.851        0.704      0.143    0.858              0  \n",
       "2        0.851        0.771      0.177    0.872              0  \n",
       "3        0.860        0.684      0.136    0.844              0  "
      ]
     },
     "execution_count": 86,
     "metadata": {},
     "output_type": "execute_result"
    }
   ],
   "source": [
    "summary_df.loc[3] = [\"SVC\",\n",
    "                     \"SMOTE\",\n",
    "                     round(train_acc3, 3),\n",
    "                     round(est_test_acc3, 3),\n",
    "                     round(test_acc3, 3),\n",
    "                     round(train_acc3-test_acc3, 3),\n",
    "                     round(sensitivity3, 3),\n",
    "                     round(specificity3, 3),\n",
    "                     round(precision3, 3),\n",
    "                     round(roc_auc3, 3),\n",
    "                     0\n",
    "                    ]\n",
    "\n",
    "summary_df"
   ]
  },
  {
   "cell_type": "markdown",
   "metadata": {},
   "source": [
    "### GradientBoosting with SMOTE balancing technique"
   ]
  },
  {
   "cell_type": "markdown",
   "metadata": {},
   "source": [
    "Using a similar approach as above, manual tweaking of hyperparameters was done after using *GridSearchCV*. As explained above, *GridSearchCV* only optimizes the model using a single scoring parameter. However, in this context, we need to find a good balance between *Accuracy* and *Sensitivity* scores, and so a manual tuning of hyperparameters is required.\n",
    "\n",
    "The final set of hyperparameters chosen after manual tuning of the model are as shown below."
   ]
  },
  {
   "cell_type": "code",
   "execution_count": 87,
   "metadata": {},
   "outputs": [],
   "source": [
    "# Creating a pipeline object using imblearn.pipeline with SMOTE and RandomForestClassifier.\n",
    "\n",
    "grb_smote_pipe4 = make_pipeline(SMOTE(random_state=42),\n",
    "                                GradientBoostingClassifier(learning_rate=0.01,\n",
    "                                                           n_estimators=80,\n",
    "                                                           ccp_alpha=0,\n",
    "                                                           max_depth=5,\n",
    "                                                           min_samples_split=2,\n",
    "                                                           min_samples_leaf=1,\n",
    "                                                           subsample=0.2,\n",
    "                                                           random_state=42\n",
    "                                                          )\n",
    "                               )"
   ]
  },
  {
   "cell_type": "code",
   "execution_count": 88,
   "metadata": {},
   "outputs": [
    {
     "data": {
      "text/plain": [
       "Pipeline(memory=None,\n",
       "         steps=[('smote',\n",
       "                 SMOTE(k_neighbors=5, n_jobs=None, random_state=42,\n",
       "                       sampling_strategy='auto')),\n",
       "                ('gradientboostingclassifier',\n",
       "                 GradientBoostingClassifier(ccp_alpha=0,\n",
       "                                            criterion='friedman_mse', init=None,\n",
       "                                            learning_rate=0.01, loss='deviance',\n",
       "                                            max_depth=5, max_features=None,\n",
       "                                            max_leaf_nodes=None,\n",
       "                                            min_impurity_decrease=0.0,\n",
       "                                            min_impurity_split=None,\n",
       "                                            min_samples_leaf=1,\n",
       "                                            min_samples_split=2,\n",
       "                                            min_weight_fraction_leaf=0.0,\n",
       "                                            n_estimators=80,\n",
       "                                            n_iter_no_change=None,\n",
       "                                            presort='deprecated',\n",
       "                                            random_state=42, subsample=0.2,\n",
       "                                            tol=0.0001, validation_fraction=0.1,\n",
       "                                            verbose=0, warm_start=False))],\n",
       "         verbose=False)"
      ]
     },
     "execution_count": 88,
     "metadata": {},
     "output_type": "execute_result"
    }
   ],
   "source": [
    "# Fitting X_train_sc and y_train on the pipeline object defined above.\n",
    "\n",
    "grb_smote_pipe4.fit(X_train_sc, y_train)"
   ]
  },
  {
   "cell_type": "code",
   "execution_count": 89,
   "metadata": {},
   "outputs": [
    {
     "data": {
      "text/plain": [
       "0.7800256904303147"
      ]
     },
     "execution_count": 89,
     "metadata": {},
     "output_type": "execute_result"
    }
   ],
   "source": [
    "# Scoring the model on training dataset.\n",
    "# Training Accuracy\n",
    "\n",
    "train_acc4 = grb_smote_pipe4.score(X_train_sc, y_train)\n",
    "train_acc4"
   ]
  },
  {
   "cell_type": "code",
   "execution_count": 90,
   "metadata": {},
   "outputs": [
    {
     "data": {
      "text/plain": [
       "0.7782585881245689"
      ]
     },
     "execution_count": 90,
     "metadata": {},
     "output_type": "execute_result"
    }
   ],
   "source": [
    "# Estimated Testing Accuracy\n",
    "\n",
    "est_test_acc4 = cross_val_score(grb_smote_pipe4, X_train_sc, y_train, cv=5).mean()\n",
    "est_test_acc4"
   ]
  },
  {
   "cell_type": "code",
   "execution_count": 91,
   "metadata": {},
   "outputs": [
    {
     "data": {
      "text/plain": [
       "0.7649325626204239"
      ]
     },
     "execution_count": 91,
     "metadata": {},
     "output_type": "execute_result"
    }
   ],
   "source": [
    "# Actual Testing Accuracy\n",
    "\n",
    "test_acc4 = grb_smote_pipe4.score(X_test_sc, y_test)\n",
    "test_acc4"
   ]
  },
  {
   "cell_type": "code",
   "execution_count": 92,
   "metadata": {},
   "outputs": [],
   "source": [
    "# Generating predictions on testing dataset using the model above.\n",
    "\n",
    "y_pred4 = grb_smote_pipe4.predict(X_test_sc)"
   ]
  },
  {
   "cell_type": "code",
   "execution_count": 93,
   "metadata": {},
   "outputs": [],
   "source": [
    "# Generating prediction probabilities on testing dataset using the model above.\n",
    "\n",
    "y_pred_proba4 = grb_smote_pipe4.predict_proba(X_test_sc)"
   ]
  },
  {
   "cell_type": "code",
   "execution_count": 94,
   "metadata": {},
   "outputs": [],
   "source": [
    "# Generating a confusion matrix.\n",
    "\n",
    "tn, fp, fn, tp = confusion_matrix(y_test, y_pred4).ravel()"
   ]
  },
  {
   "cell_type": "code",
   "execution_count": 95,
   "metadata": {},
   "outputs": [
    {
     "data": {
      "text/html": [
       "<div>\n",
       "<style scoped>\n",
       "    .dataframe tbody tr th:only-of-type {\n",
       "        vertical-align: middle;\n",
       "    }\n",
       "\n",
       "    .dataframe tbody tr th {\n",
       "        vertical-align: top;\n",
       "    }\n",
       "\n",
       "    .dataframe thead th {\n",
       "        text-align: right;\n",
       "    }\n",
       "</style>\n",
       "<table border=\"1\" class=\"dataframe\">\n",
       "  <thead>\n",
       "    <tr style=\"text-align: right;\">\n",
       "      <th></th>\n",
       "      <th>Actual WnvPresent=1</th>\n",
       "      <th>Actual WnvPresent=0</th>\n",
       "    </tr>\n",
       "  </thead>\n",
       "  <tbody>\n",
       "    <tr>\n",
       "      <th>Predicted WnvPresent=1</th>\n",
       "      <td>95 (True Pos)</td>\n",
       "      <td>469 (False Pos)</td>\n",
       "    </tr>\n",
       "    <tr>\n",
       "      <th>Predicted WnvPresent=0</th>\n",
       "      <td>19 (False Neg)</td>\n",
       "      <td>1493 (True Neg)</td>\n",
       "    </tr>\n",
       "  </tbody>\n",
       "</table>\n",
       "</div>"
      ],
      "text/plain": [
       "                       Actual WnvPresent=1 Actual WnvPresent=0\n",
       "Predicted WnvPresent=1       95 (True Pos)     469 (False Pos)\n",
       "Predicted WnvPresent=0      19 (False Neg)     1493 (True Neg)"
      ]
     },
     "execution_count": 95,
     "metadata": {},
     "output_type": "execute_result"
    }
   ],
   "source": [
    "conf_mat4 = pd.DataFrame(columns=['Actual WnvPresent=1', 'Actual WnvPresent=0'], \n",
    "                         index=['Predicted WnvPresent=1', 'Predicted WnvPresent=0'],\n",
    "                         data=[[f'{tp} (True Pos)', f'{fp} (False Pos)'], [f'{fn} (False Neg)', f'{tn} (True Neg)']]\n",
    "                        )\n",
    "conf_mat4"
   ]
  },
  {
   "cell_type": "code",
   "execution_count": 96,
   "metadata": {},
   "outputs": [
    {
     "data": {
      "text/plain": [
       "0.8333333333333334"
      ]
     },
     "execution_count": 96,
     "metadata": {},
     "output_type": "execute_result"
    }
   ],
   "source": [
    "sensitivity4 = tp/(tp+fn)\n",
    "sensitivity4"
   ]
  },
  {
   "cell_type": "code",
   "execution_count": 97,
   "metadata": {},
   "outputs": [
    {
     "data": {
      "text/plain": [
       "0.7609582059123343"
      ]
     },
     "execution_count": 97,
     "metadata": {},
     "output_type": "execute_result"
    }
   ],
   "source": [
    "specificity4 = tn/(tn+fp)\n",
    "specificity4"
   ]
  },
  {
   "cell_type": "code",
   "execution_count": 98,
   "metadata": {},
   "outputs": [
    {
     "data": {
      "text/plain": [
       "0.16843971631205673"
      ]
     },
     "execution_count": 98,
     "metadata": {},
     "output_type": "execute_result"
    }
   ],
   "source": [
    "precision4 = tp/(tp+fp)\n",
    "precision4"
   ]
  },
  {
   "cell_type": "code",
   "execution_count": 99,
   "metadata": {},
   "outputs": [
    {
     "data": {
      "text/plain": [
       "0.8709247634887423"
      ]
     },
     "execution_count": 99,
     "metadata": {},
     "output_type": "execute_result"
    }
   ],
   "source": [
    "roc_auc4 = roc_auc_score(y_test, y_pred_proba4[:, 1])\n",
    "roc_auc4"
   ]
  },
  {
   "cell_type": "code",
   "execution_count": 100,
   "metadata": {},
   "outputs": [],
   "source": [
    "# Generating prediction probabilities on actual testing dataset using the model above (for kaggle submission).\n",
    "\n",
    "submission_pred_proba4 = grb_smote_pipe4.predict_proba(act_test_X_sc)[:, 1]"
   ]
  },
  {
   "cell_type": "code",
   "execution_count": 101,
   "metadata": {},
   "outputs": [],
   "source": [
    "# Putting the above predicted probabilities into a dataframe and exporting it as a csv file for submission to kaggle.\n",
    "\n",
    "# sub4 = pd.DataFrame({'Id' : test['Id'].values, 'WnvPresent' : submission_pred_proba4})\n",
    "# sub4.to_csv('../kaggle_submissions/submission_4.csv', index=False)"
   ]
  },
  {
   "cell_type": "code",
   "execution_count": 102,
   "metadata": {},
   "outputs": [
    {
     "data": {
      "text/html": [
       "<div>\n",
       "<style scoped>\n",
       "    .dataframe tbody tr th:only-of-type {\n",
       "        vertical-align: middle;\n",
       "    }\n",
       "\n",
       "    .dataframe tbody tr th {\n",
       "        vertical-align: top;\n",
       "    }\n",
       "\n",
       "    .dataframe thead th {\n",
       "        text-align: right;\n",
       "    }\n",
       "</style>\n",
       "<table border=\"1\" class=\"dataframe\">\n",
       "  <thead>\n",
       "    <tr style=\"text-align: right;\">\n",
       "      <th></th>\n",
       "      <th>Classifier</th>\n",
       "      <th>Class Balancing Technique</th>\n",
       "      <th>Train Accuracy</th>\n",
       "      <th>Est. Test Accuracy (cv=5)</th>\n",
       "      <th>Actual Test Accuracy</th>\n",
       "      <th>Overfit / Underfit</th>\n",
       "      <th>Sensitivity</th>\n",
       "      <th>Specificity</th>\n",
       "      <th>Precision</th>\n",
       "      <th>ROC-AUC</th>\n",
       "      <th>Kaggle ROC-AUC</th>\n",
       "    </tr>\n",
       "  </thead>\n",
       "  <tbody>\n",
       "    <tr>\n",
       "      <th>1</th>\n",
       "      <td>LogisticRegression</td>\n",
       "      <td>SMOTE</td>\n",
       "      <td>0.707</td>\n",
       "      <td>0.698</td>\n",
       "      <td>0.712</td>\n",
       "      <td>-0.004</td>\n",
       "      <td>0.851</td>\n",
       "      <td>0.704</td>\n",
       "      <td>0.143</td>\n",
       "      <td>0.858</td>\n",
       "      <td>0</td>\n",
       "    </tr>\n",
       "    <tr>\n",
       "      <th>2</th>\n",
       "      <td>RandomForestClassifier</td>\n",
       "      <td>SMOTE</td>\n",
       "      <td>0.778</td>\n",
       "      <td>0.768</td>\n",
       "      <td>0.775</td>\n",
       "      <td>0.003</td>\n",
       "      <td>0.851</td>\n",
       "      <td>0.771</td>\n",
       "      <td>0.177</td>\n",
       "      <td>0.872</td>\n",
       "      <td>0</td>\n",
       "    </tr>\n",
       "    <tr>\n",
       "      <th>3</th>\n",
       "      <td>SVC</td>\n",
       "      <td>SMOTE</td>\n",
       "      <td>0.703</td>\n",
       "      <td>0.693</td>\n",
       "      <td>0.694</td>\n",
       "      <td>0.010</td>\n",
       "      <td>0.860</td>\n",
       "      <td>0.684</td>\n",
       "      <td>0.136</td>\n",
       "      <td>0.844</td>\n",
       "      <td>0</td>\n",
       "    </tr>\n",
       "    <tr>\n",
       "      <th>4</th>\n",
       "      <td>GradientBoostingClassifier</td>\n",
       "      <td>SMOTE</td>\n",
       "      <td>0.780</td>\n",
       "      <td>0.778</td>\n",
       "      <td>0.765</td>\n",
       "      <td>0.015</td>\n",
       "      <td>0.833</td>\n",
       "      <td>0.761</td>\n",
       "      <td>0.168</td>\n",
       "      <td>0.871</td>\n",
       "      <td>0</td>\n",
       "    </tr>\n",
       "  </tbody>\n",
       "</table>\n",
       "</div>"
      ],
      "text/plain": [
       "                   Classifier Class Balancing Technique  Train Accuracy  \\\n",
       "1          LogisticRegression                     SMOTE           0.707   \n",
       "2      RandomForestClassifier                     SMOTE           0.778   \n",
       "3                         SVC                     SMOTE           0.703   \n",
       "4  GradientBoostingClassifier                     SMOTE           0.780   \n",
       "\n",
       "   Est. Test Accuracy (cv=5)  Actual Test Accuracy  Overfit / Underfit  \\\n",
       "1                      0.698                 0.712              -0.004   \n",
       "2                      0.768                 0.775               0.003   \n",
       "3                      0.693                 0.694               0.010   \n",
       "4                      0.778                 0.765               0.015   \n",
       "\n",
       "   Sensitivity  Specificity  Precision  ROC-AUC Kaggle ROC-AUC  \n",
       "1        0.851        0.704      0.143    0.858              0  \n",
       "2        0.851        0.771      0.177    0.872              0  \n",
       "3        0.860        0.684      0.136    0.844              0  \n",
       "4        0.833        0.761      0.168    0.871              0  "
      ]
     },
     "execution_count": 102,
     "metadata": {},
     "output_type": "execute_result"
    }
   ],
   "source": [
    "summary_df.loc[4] = [\"GradientBoostingClassifier\",\n",
    "                     \"SMOTE\",\n",
    "                     round(train_acc4, 3),\n",
    "                     round(est_test_acc4, 3),\n",
    "                     round(test_acc4, 3),\n",
    "                     round(train_acc4-test_acc4, 3),\n",
    "                     round(sensitivity4, 3),\n",
    "                     round(specificity4, 3),\n",
    "                     round(precision4, 3),\n",
    "                     round(roc_auc4, 3),\n",
    "                     0\n",
    "                    ]\n",
    "\n",
    "summary_df"
   ]
  },
  {
   "cell_type": "markdown",
   "metadata": {},
   "source": [
    "## CONCLUDE THAT BASED ON ABOVE SCORES, WE CHOSE RANDOMFOREST AS THE BEST CLASSIFIER"
   ]
  },
  {
   "cell_type": "markdown",
   "metadata": {},
   "source": [
    "### RandomForestClassifier with ADASYN balancing technique"
   ]
  },
  {
   "cell_type": "markdown",
   "metadata": {},
   "source": [
    "Using a similar approach as with *LogisticRegression* above, manual tweaking of hyperparameters was done after using *GridSearchCV*. As explained above, *GridSearchCV* only optimizes the model using a single scoring parameter. However, in this context, we need to find a good balance between *Accuracy* and *Sensitivity* scores, and so a manual tuning of hyperparameters is required.\n",
    "\n",
    "The final set of hyperparameters chosen after manual tuning of the model are as shown below."
   ]
  },
  {
   "cell_type": "code",
   "execution_count": 103,
   "metadata": {},
   "outputs": [],
   "source": [
    "# Creating a pipeline object using imblearn.pipeline with SMOTE and RandomForestClassifier.\n",
    "\n",
    "rfc_adasyn_pipe5 = make_pipeline(ADASYN(random_state=42),\n",
    "                                 RandomForestClassifier(n_estimators=100,\n",
    "                                                        ccp_alpha=0,\n",
    "                                                        max_depth=5,\n",
    "                                                        min_samples_split=2,\n",
    "                                                        min_samples_leaf=3,\n",
    "                                                        random_state=42\n",
    "                                                       )\n",
    "                                )"
   ]
  },
  {
   "cell_type": "code",
   "execution_count": 104,
   "metadata": {},
   "outputs": [
    {
     "data": {
      "text/plain": [
       "Pipeline(memory=None,\n",
       "         steps=[('adasyn',\n",
       "                 ADASYN(n_jobs=None, n_neighbors=5, random_state=42,\n",
       "                        sampling_strategy='auto')),\n",
       "                ('randomforestclassifier',\n",
       "                 RandomForestClassifier(bootstrap=True, ccp_alpha=0,\n",
       "                                        class_weight=None, criterion='gini',\n",
       "                                        max_depth=5, max_features='auto',\n",
       "                                        max_leaf_nodes=None, max_samples=None,\n",
       "                                        min_impurity_decrease=0.0,\n",
       "                                        min_impurity_split=None,\n",
       "                                        min_samples_leaf=3, min_samples_split=2,\n",
       "                                        min_weight_fraction_leaf=0.0,\n",
       "                                        n_estimators=100, n_jobs=None,\n",
       "                                        oob_score=False, random_state=42,\n",
       "                                        verbose=0, warm_start=False))],\n",
       "         verbose=False)"
      ]
     },
     "execution_count": 104,
     "metadata": {},
     "output_type": "execute_result"
    }
   ],
   "source": [
    "# Fitting X_train_sc and y_train on the pipeline object defined above.\n",
    "\n",
    "rfc_adasyn_pipe5.fit(X_train_sc, y_train)"
   ]
  },
  {
   "cell_type": "code",
   "execution_count": 105,
   "metadata": {},
   "outputs": [
    {
     "data": {
      "text/plain": [
       "0.7707129094412332"
      ]
     },
     "execution_count": 105,
     "metadata": {},
     "output_type": "execute_result"
    }
   ],
   "source": [
    "# Scoring the model on training dataset.\n",
    "# Training Accuracy\n",
    "\n",
    "train_acc5 = rfc_adasyn_pipe5.score(X_train_sc, y_train)\n",
    "train_acc5"
   ]
  },
  {
   "cell_type": "code",
   "execution_count": 106,
   "metadata": {},
   "outputs": [
    {
     "data": {
      "text/plain": [
       "0.7605955120643086"
      ]
     },
     "execution_count": 106,
     "metadata": {},
     "output_type": "execute_result"
    }
   ],
   "source": [
    "# Estimated Testing Accuracy\n",
    "\n",
    "est_test_acc5 = cross_val_score(rfc_adasyn_pipe5, X_train_sc, y_train, cv=5).mean()\n",
    "est_test_acc5"
   ]
  },
  {
   "cell_type": "code",
   "execution_count": 107,
   "metadata": {},
   "outputs": [
    {
     "data": {
      "text/plain": [
       "0.7615606936416185"
      ]
     },
     "execution_count": 107,
     "metadata": {},
     "output_type": "execute_result"
    }
   ],
   "source": [
    "# Actual Testing Accuracy\n",
    "\n",
    "test_acc5 = rfc_adasyn_pipe5.score(X_test_sc, y_test)\n",
    "test_acc5"
   ]
  },
  {
   "cell_type": "code",
   "execution_count": 108,
   "metadata": {},
   "outputs": [],
   "source": [
    "# Generating predictions on testing dataset using the model above.\n",
    "\n",
    "y_pred5 = rfc_adasyn_pipe5.predict(X_test_sc)"
   ]
  },
  {
   "cell_type": "code",
   "execution_count": 109,
   "metadata": {},
   "outputs": [],
   "source": [
    "# Generating prediction probabilities on testing dataset using the model above.\n",
    "\n",
    "y_pred_proba5 = rfc_adasyn_pipe5.predict_proba(X_test_sc)"
   ]
  },
  {
   "cell_type": "code",
   "execution_count": 110,
   "metadata": {},
   "outputs": [],
   "source": [
    "# Generating a confusion matrix.\n",
    "\n",
    "tn, fp, fn, tp = confusion_matrix(y_test, y_pred5).ravel()"
   ]
  },
  {
   "cell_type": "code",
   "execution_count": 111,
   "metadata": {},
   "outputs": [
    {
     "data": {
      "text/html": [
       "<div>\n",
       "<style scoped>\n",
       "    .dataframe tbody tr th:only-of-type {\n",
       "        vertical-align: middle;\n",
       "    }\n",
       "\n",
       "    .dataframe tbody tr th {\n",
       "        vertical-align: top;\n",
       "    }\n",
       "\n",
       "    .dataframe thead th {\n",
       "        text-align: right;\n",
       "    }\n",
       "</style>\n",
       "<table border=\"1\" class=\"dataframe\">\n",
       "  <thead>\n",
       "    <tr style=\"text-align: right;\">\n",
       "      <th></th>\n",
       "      <th>Actual WnvPresent=1</th>\n",
       "      <th>Actual WnvPresent=0</th>\n",
       "    </tr>\n",
       "  </thead>\n",
       "  <tbody>\n",
       "    <tr>\n",
       "      <th>Predicted WnvPresent=1</th>\n",
       "      <td>96 (True Pos)</td>\n",
       "      <td>477 (False Pos)</td>\n",
       "    </tr>\n",
       "    <tr>\n",
       "      <th>Predicted WnvPresent=0</th>\n",
       "      <td>18 (False Neg)</td>\n",
       "      <td>1485 (True Neg)</td>\n",
       "    </tr>\n",
       "  </tbody>\n",
       "</table>\n",
       "</div>"
      ],
      "text/plain": [
       "                       Actual WnvPresent=1 Actual WnvPresent=0\n",
       "Predicted WnvPresent=1       96 (True Pos)     477 (False Pos)\n",
       "Predicted WnvPresent=0      18 (False Neg)     1485 (True Neg)"
      ]
     },
     "execution_count": 111,
     "metadata": {},
     "output_type": "execute_result"
    }
   ],
   "source": [
    "conf_mat5 = pd.DataFrame(columns=['Actual WnvPresent=1', 'Actual WnvPresent=0'], \n",
    "                         index=['Predicted WnvPresent=1', 'Predicted WnvPresent=0'],\n",
    "                         data=[[f'{tp} (True Pos)', f'{fp} (False Pos)'], [f'{fn} (False Neg)', f'{tn} (True Neg)']]\n",
    "                        )\n",
    "conf_mat5"
   ]
  },
  {
   "cell_type": "code",
   "execution_count": 112,
   "metadata": {},
   "outputs": [
    {
     "data": {
      "text/plain": [
       "0.8421052631578947"
      ]
     },
     "execution_count": 112,
     "metadata": {},
     "output_type": "execute_result"
    }
   ],
   "source": [
    "sensitivity5 = tp/(tp+fn)\n",
    "sensitivity5"
   ]
  },
  {
   "cell_type": "code",
   "execution_count": 113,
   "metadata": {},
   "outputs": [
    {
     "data": {
      "text/plain": [
       "0.7568807339449541"
      ]
     },
     "execution_count": 113,
     "metadata": {},
     "output_type": "execute_result"
    }
   ],
   "source": [
    "specificity5 = tn/(tn+fp)\n",
    "specificity5"
   ]
  },
  {
   "cell_type": "code",
   "execution_count": 114,
   "metadata": {},
   "outputs": [
    {
     "data": {
      "text/plain": [
       "0.16753926701570682"
      ]
     },
     "execution_count": 114,
     "metadata": {},
     "output_type": "execute_result"
    }
   ],
   "source": [
    "precision5 = tp/(tp+fp)\n",
    "precision5"
   ]
  },
  {
   "cell_type": "code",
   "execution_count": 115,
   "metadata": {},
   "outputs": [
    {
     "data": {
      "text/plain": [
       "0.8715573975714005"
      ]
     },
     "execution_count": 115,
     "metadata": {},
     "output_type": "execute_result"
    }
   ],
   "source": [
    "roc_auc5 = roc_auc_score(y_test, y_pred_proba5[:, 1])\n",
    "roc_auc5"
   ]
  },
  {
   "cell_type": "code",
   "execution_count": 116,
   "metadata": {},
   "outputs": [],
   "source": [
    "# Generating prediction probabilities on actual testing dataset using the model above (for kaggle submission).\n",
    "\n",
    "submission_pred_proba5 = rfc_adasyn_pipe5.predict_proba(act_test_X_sc)[:, 1]"
   ]
  },
  {
   "cell_type": "code",
   "execution_count": 117,
   "metadata": {},
   "outputs": [],
   "source": [
    "# Putting the above predicted probabilities into a dataframe and exporting it as a csv file for submission to kaggle.\n",
    "\n",
    "# sub5 = pd.DataFrame({'Id' : test['Id'].values, 'WnvPresent' : submission_pred_proba5})\n",
    "# sub5.to_csv('../kaggle_submissions/submission_5.csv', index=False)"
   ]
  },
  {
   "cell_type": "code",
   "execution_count": 118,
   "metadata": {},
   "outputs": [
    {
     "data": {
      "text/html": [
       "<div>\n",
       "<style scoped>\n",
       "    .dataframe tbody tr th:only-of-type {\n",
       "        vertical-align: middle;\n",
       "    }\n",
       "\n",
       "    .dataframe tbody tr th {\n",
       "        vertical-align: top;\n",
       "    }\n",
       "\n",
       "    .dataframe thead th {\n",
       "        text-align: right;\n",
       "    }\n",
       "</style>\n",
       "<table border=\"1\" class=\"dataframe\">\n",
       "  <thead>\n",
       "    <tr style=\"text-align: right;\">\n",
       "      <th></th>\n",
       "      <th>Classifier</th>\n",
       "      <th>Class Balancing Technique</th>\n",
       "      <th>Train Accuracy</th>\n",
       "      <th>Est. Test Accuracy (cv=5)</th>\n",
       "      <th>Actual Test Accuracy</th>\n",
       "      <th>Overfit / Underfit</th>\n",
       "      <th>Sensitivity</th>\n",
       "      <th>Specificity</th>\n",
       "      <th>Precision</th>\n",
       "      <th>ROC-AUC</th>\n",
       "      <th>Kaggle ROC-AUC</th>\n",
       "    </tr>\n",
       "  </thead>\n",
       "  <tbody>\n",
       "    <tr>\n",
       "      <th>1</th>\n",
       "      <td>LogisticRegression</td>\n",
       "      <td>SMOTE</td>\n",
       "      <td>0.707</td>\n",
       "      <td>0.698</td>\n",
       "      <td>0.712</td>\n",
       "      <td>-0.004</td>\n",
       "      <td>0.851</td>\n",
       "      <td>0.704</td>\n",
       "      <td>0.143</td>\n",
       "      <td>0.858</td>\n",
       "      <td>0</td>\n",
       "    </tr>\n",
       "    <tr>\n",
       "      <th>2</th>\n",
       "      <td>RandomForestClassifier</td>\n",
       "      <td>SMOTE</td>\n",
       "      <td>0.778</td>\n",
       "      <td>0.768</td>\n",
       "      <td>0.775</td>\n",
       "      <td>0.003</td>\n",
       "      <td>0.851</td>\n",
       "      <td>0.771</td>\n",
       "      <td>0.177</td>\n",
       "      <td>0.872</td>\n",
       "      <td>0</td>\n",
       "    </tr>\n",
       "    <tr>\n",
       "      <th>3</th>\n",
       "      <td>SVC</td>\n",
       "      <td>SMOTE</td>\n",
       "      <td>0.703</td>\n",
       "      <td>0.693</td>\n",
       "      <td>0.694</td>\n",
       "      <td>0.010</td>\n",
       "      <td>0.860</td>\n",
       "      <td>0.684</td>\n",
       "      <td>0.136</td>\n",
       "      <td>0.844</td>\n",
       "      <td>0</td>\n",
       "    </tr>\n",
       "    <tr>\n",
       "      <th>4</th>\n",
       "      <td>GradientBoostingClassifier</td>\n",
       "      <td>SMOTE</td>\n",
       "      <td>0.780</td>\n",
       "      <td>0.778</td>\n",
       "      <td>0.765</td>\n",
       "      <td>0.015</td>\n",
       "      <td>0.833</td>\n",
       "      <td>0.761</td>\n",
       "      <td>0.168</td>\n",
       "      <td>0.871</td>\n",
       "      <td>0</td>\n",
       "    </tr>\n",
       "    <tr>\n",
       "      <th>5</th>\n",
       "      <td>RandomForestClassifier</td>\n",
       "      <td>ADASYN</td>\n",
       "      <td>0.771</td>\n",
       "      <td>0.761</td>\n",
       "      <td>0.762</td>\n",
       "      <td>0.009</td>\n",
       "      <td>0.842</td>\n",
       "      <td>0.757</td>\n",
       "      <td>0.168</td>\n",
       "      <td>0.872</td>\n",
       "      <td>0</td>\n",
       "    </tr>\n",
       "  </tbody>\n",
       "</table>\n",
       "</div>"
      ],
      "text/plain": [
       "                   Classifier Class Balancing Technique  Train Accuracy  \\\n",
       "1          LogisticRegression                     SMOTE           0.707   \n",
       "2      RandomForestClassifier                     SMOTE           0.778   \n",
       "3                         SVC                     SMOTE           0.703   \n",
       "4  GradientBoostingClassifier                     SMOTE           0.780   \n",
       "5      RandomForestClassifier                    ADASYN           0.771   \n",
       "\n",
       "   Est. Test Accuracy (cv=5)  Actual Test Accuracy  Overfit / Underfit  \\\n",
       "1                      0.698                 0.712              -0.004   \n",
       "2                      0.768                 0.775               0.003   \n",
       "3                      0.693                 0.694               0.010   \n",
       "4                      0.778                 0.765               0.015   \n",
       "5                      0.761                 0.762               0.009   \n",
       "\n",
       "   Sensitivity  Specificity  Precision  ROC-AUC Kaggle ROC-AUC  \n",
       "1        0.851        0.704      0.143    0.858              0  \n",
       "2        0.851        0.771      0.177    0.872              0  \n",
       "3        0.860        0.684      0.136    0.844              0  \n",
       "4        0.833        0.761      0.168    0.871              0  \n",
       "5        0.842        0.757      0.168    0.872              0  "
      ]
     },
     "execution_count": 118,
     "metadata": {},
     "output_type": "execute_result"
    }
   ],
   "source": [
    "summary_df.loc[5] = [\"RandomForestClassifier\",\n",
    "                     \"ADASYN\",\n",
    "                     round(train_acc5, 3),\n",
    "                     round(est_test_acc5, 3),\n",
    "                     round(test_acc5, 3),\n",
    "                     round(train_acc5-test_acc5, 3),\n",
    "                     round(sensitivity5, 3),\n",
    "                     round(specificity5, 3),\n",
    "                     round(precision5, 3),\n",
    "                     round(roc_auc5, 3),\n",
    "                     0\n",
    "                    ]\n",
    "\n",
    "summary_df"
   ]
  },
  {
   "cell_type": "markdown",
   "metadata": {},
   "source": [
    "### RandomForestClassifier with ClusterCentroids balancing technique"
   ]
  },
  {
   "cell_type": "markdown",
   "metadata": {},
   "source": [
    "Using a similar approach as with *LogisticRegression* above, manual tweaking of hyperparameters was done after using *GridSearchCV*. As explained above, *GridSearchCV* only optimizes the model using a single scoring parameter. However, in this context, we need to find a good balance between *Accuracy* and *Sensitivity* scores, and so a manual tuning of hyperparameters is required.\n",
    "\n",
    "The final set of hyperparameters chosen after manual tuning of the model are as shown below."
   ]
  },
  {
   "cell_type": "code",
   "execution_count": 119,
   "metadata": {},
   "outputs": [],
   "source": [
    "# Creating a pipeline object using imblearn.pipeline with SMOTE and RandomForestClassifier.\n",
    "\n",
    "rfc_clustercentroids_pipe6 = make_pipeline(ClusterCentroids(random_state=42),\n",
    "                                           RandomForestClassifier(n_estimators=100,\n",
    "                                                                  ccp_alpha=0,\n",
    "                                                                  max_depth=5,\n",
    "                                                                  min_samples_split=2,\n",
    "                                                                  min_samples_leaf=3,\n",
    "                                                                  random_state=42\n",
    "                                                                 )\n",
    "                                          )"
   ]
  },
  {
   "cell_type": "code",
   "execution_count": 120,
   "metadata": {},
   "outputs": [
    {
     "data": {
      "text/plain": [
       "Pipeline(memory=None,\n",
       "         steps=[('clustercentroids',\n",
       "                 ClusterCentroids(estimator=None, n_jobs=None, random_state=42,\n",
       "                                  sampling_strategy='auto', voting='auto')),\n",
       "                ('randomforestclassifier',\n",
       "                 RandomForestClassifier(bootstrap=True, ccp_alpha=0,\n",
       "                                        class_weight=None, criterion='gini',\n",
       "                                        max_depth=5, max_features='auto',\n",
       "                                        max_leaf_nodes=None, max_samples=None,\n",
       "                                        min_impurity_decrease=0.0,\n",
       "                                        min_impurity_split=None,\n",
       "                                        min_samples_leaf=3, min_samples_split=2,\n",
       "                                        min_weight_fraction_leaf=0.0,\n",
       "                                        n_estimators=100, n_jobs=None,\n",
       "                                        oob_score=False, random_state=42,\n",
       "                                        verbose=0, warm_start=False))],\n",
       "         verbose=False)"
      ]
     },
     "execution_count": 120,
     "metadata": {},
     "output_type": "execute_result"
    }
   ],
   "source": [
    "# Fitting X_train_sc and y_train on the pipeline object defined above.\n",
    "\n",
    "rfc_clustercentroids_pipe6.fit(X_train_sc, y_train)"
   ]
  },
  {
   "cell_type": "code",
   "execution_count": 121,
   "metadata": {},
   "outputs": [
    {
     "data": {
      "text/plain": [
       "0.6274887604367373"
      ]
     },
     "execution_count": 121,
     "metadata": {},
     "output_type": "execute_result"
    }
   ],
   "source": [
    "# Scoring the model on training dataset.\n",
    "# Training Accuracy\n",
    "\n",
    "train_acc6 = rfc_clustercentroids_pipe6.score(X_train_sc, y_train)\n",
    "train_acc6"
   ]
  },
  {
   "cell_type": "code",
   "execution_count": 122,
   "metadata": {},
   "outputs": [
    {
     "data": {
      "text/plain": [
       "0.6178545320930592"
      ]
     },
     "execution_count": 122,
     "metadata": {},
     "output_type": "execute_result"
    }
   ],
   "source": [
    "# Estimated Testing Accuracy\n",
    "\n",
    "est_test_acc6 = cross_val_score(rfc_clustercentroids_pipe6, X_train_sc, y_train, cv=5).mean()\n",
    "est_test_acc6"
   ]
  },
  {
   "cell_type": "code",
   "execution_count": 123,
   "metadata": {},
   "outputs": [
    {
     "data": {
      "text/plain": [
       "0.6242774566473989"
      ]
     },
     "execution_count": 123,
     "metadata": {},
     "output_type": "execute_result"
    }
   ],
   "source": [
    "# Actual Testing Accuracy\n",
    "\n",
    "test_acc6 = rfc_clustercentroids_pipe6.score(X_test_sc, y_test)\n",
    "test_acc6"
   ]
  },
  {
   "cell_type": "code",
   "execution_count": 124,
   "metadata": {},
   "outputs": [],
   "source": [
    "# Generating predictions on testing dataset using the model above.\n",
    "\n",
    "y_pred6 = rfc_clustercentroids_pipe6.predict(X_test_sc)"
   ]
  },
  {
   "cell_type": "code",
   "execution_count": 125,
   "metadata": {},
   "outputs": [],
   "source": [
    "# Generating prediction probabilities on testing dataset using the model above.\n",
    "\n",
    "y_pred_proba6 = rfc_clustercentroids_pipe6.predict_proba(X_test_sc)"
   ]
  },
  {
   "cell_type": "code",
   "execution_count": 126,
   "metadata": {},
   "outputs": [],
   "source": [
    "# Generating a confusion matrix.\n",
    "\n",
    "tn, fp, fn, tp = confusion_matrix(y_test, y_pred6).ravel()"
   ]
  },
  {
   "cell_type": "code",
   "execution_count": 127,
   "metadata": {},
   "outputs": [
    {
     "data": {
      "text/html": [
       "<div>\n",
       "<style scoped>\n",
       "    .dataframe tbody tr th:only-of-type {\n",
       "        vertical-align: middle;\n",
       "    }\n",
       "\n",
       "    .dataframe tbody tr th {\n",
       "        vertical-align: top;\n",
       "    }\n",
       "\n",
       "    .dataframe thead th {\n",
       "        text-align: right;\n",
       "    }\n",
       "</style>\n",
       "<table border=\"1\" class=\"dataframe\">\n",
       "  <thead>\n",
       "    <tr style=\"text-align: right;\">\n",
       "      <th></th>\n",
       "      <th>Actual WnvPresent=1</th>\n",
       "      <th>Actual WnvPresent=0</th>\n",
       "    </tr>\n",
       "  </thead>\n",
       "  <tbody>\n",
       "    <tr>\n",
       "      <th>Predicted WnvPresent=1</th>\n",
       "      <td>105 (True Pos)</td>\n",
       "      <td>771 (False Pos)</td>\n",
       "    </tr>\n",
       "    <tr>\n",
       "      <th>Predicted WnvPresent=0</th>\n",
       "      <td>9 (False Neg)</td>\n",
       "      <td>1191 (True Neg)</td>\n",
       "    </tr>\n",
       "  </tbody>\n",
       "</table>\n",
       "</div>"
      ],
      "text/plain": [
       "                       Actual WnvPresent=1 Actual WnvPresent=0\n",
       "Predicted WnvPresent=1      105 (True Pos)     771 (False Pos)\n",
       "Predicted WnvPresent=0       9 (False Neg)     1191 (True Neg)"
      ]
     },
     "execution_count": 127,
     "metadata": {},
     "output_type": "execute_result"
    }
   ],
   "source": [
    "conf_mat6 = pd.DataFrame(columns=['Actual WnvPresent=1', 'Actual WnvPresent=0'], \n",
    "                         index=['Predicted WnvPresent=1', 'Predicted WnvPresent=0'],\n",
    "                         data=[[f'{tp} (True Pos)', f'{fp} (False Pos)'], [f'{fn} (False Neg)', f'{tn} (True Neg)']]\n",
    "                        )\n",
    "conf_mat6"
   ]
  },
  {
   "cell_type": "code",
   "execution_count": 128,
   "metadata": {},
   "outputs": [
    {
     "data": {
      "text/plain": [
       "0.9210526315789473"
      ]
     },
     "execution_count": 128,
     "metadata": {},
     "output_type": "execute_result"
    }
   ],
   "source": [
    "sensitivity6 = tp/(tp+fn)\n",
    "sensitivity6"
   ]
  },
  {
   "cell_type": "code",
   "execution_count": 129,
   "metadata": {},
   "outputs": [
    {
     "data": {
      "text/plain": [
       "0.6070336391437309"
      ]
     },
     "execution_count": 129,
     "metadata": {},
     "output_type": "execute_result"
    }
   ],
   "source": [
    "specificity6 = tn/(tn+fp)\n",
    "specificity6"
   ]
  },
  {
   "cell_type": "code",
   "execution_count": 130,
   "metadata": {},
   "outputs": [
    {
     "data": {
      "text/plain": [
       "0.11986301369863013"
      ]
     },
     "execution_count": 130,
     "metadata": {},
     "output_type": "execute_result"
    }
   ],
   "source": [
    "precision6 = tp/(tp+fp)\n",
    "precision6"
   ]
  },
  {
   "cell_type": "code",
   "execution_count": 131,
   "metadata": {},
   "outputs": [
    {
     "data": {
      "text/plain": [
       "0.8479465100059017"
      ]
     },
     "execution_count": 131,
     "metadata": {},
     "output_type": "execute_result"
    }
   ],
   "source": [
    "roc_auc6 = roc_auc_score(y_test, y_pred_proba6[:, 1])\n",
    "roc_auc6"
   ]
  },
  {
   "cell_type": "code",
   "execution_count": 132,
   "metadata": {},
   "outputs": [],
   "source": [
    "# Generating prediction probabilities on actual testing dataset using the model above (for kaggle submission).\n",
    "\n",
    "submission_pred_proba6 = rfc_clustercentroids_pipe6.predict_proba(act_test_X_sc)[:, 1]"
   ]
  },
  {
   "cell_type": "code",
   "execution_count": 133,
   "metadata": {},
   "outputs": [],
   "source": [
    "# Putting the above predicted probabilities into a dataframe and exporting it as a csv file for submission to kaggle.\n",
    "\n",
    "# sub6 = pd.DataFrame({'Id' : test['Id'].values, 'WnvPresent' : submission_pred_proba6})\n",
    "# sub6.to_csv('../kaggle_submissions/submission_6.csv', index=False)"
   ]
  },
  {
   "cell_type": "code",
   "execution_count": 134,
   "metadata": {},
   "outputs": [
    {
     "data": {
      "text/html": [
       "<div>\n",
       "<style scoped>\n",
       "    .dataframe tbody tr th:only-of-type {\n",
       "        vertical-align: middle;\n",
       "    }\n",
       "\n",
       "    .dataframe tbody tr th {\n",
       "        vertical-align: top;\n",
       "    }\n",
       "\n",
       "    .dataframe thead th {\n",
       "        text-align: right;\n",
       "    }\n",
       "</style>\n",
       "<table border=\"1\" class=\"dataframe\">\n",
       "  <thead>\n",
       "    <tr style=\"text-align: right;\">\n",
       "      <th></th>\n",
       "      <th>Classifier</th>\n",
       "      <th>Class Balancing Technique</th>\n",
       "      <th>Train Accuracy</th>\n",
       "      <th>Est. Test Accuracy (cv=5)</th>\n",
       "      <th>Actual Test Accuracy</th>\n",
       "      <th>Overfit / Underfit</th>\n",
       "      <th>Sensitivity</th>\n",
       "      <th>Specificity</th>\n",
       "      <th>Precision</th>\n",
       "      <th>ROC-AUC</th>\n",
       "      <th>Kaggle ROC-AUC</th>\n",
       "    </tr>\n",
       "  </thead>\n",
       "  <tbody>\n",
       "    <tr>\n",
       "      <th>1</th>\n",
       "      <td>LogisticRegression</td>\n",
       "      <td>SMOTE</td>\n",
       "      <td>0.707</td>\n",
       "      <td>0.698</td>\n",
       "      <td>0.712</td>\n",
       "      <td>-0.004</td>\n",
       "      <td>0.851</td>\n",
       "      <td>0.704</td>\n",
       "      <td>0.143</td>\n",
       "      <td>0.858</td>\n",
       "      <td>0</td>\n",
       "    </tr>\n",
       "    <tr>\n",
       "      <th>2</th>\n",
       "      <td>RandomForestClassifier</td>\n",
       "      <td>SMOTE</td>\n",
       "      <td>0.778</td>\n",
       "      <td>0.768</td>\n",
       "      <td>0.775</td>\n",
       "      <td>0.003</td>\n",
       "      <td>0.851</td>\n",
       "      <td>0.771</td>\n",
       "      <td>0.177</td>\n",
       "      <td>0.872</td>\n",
       "      <td>0</td>\n",
       "    </tr>\n",
       "    <tr>\n",
       "      <th>3</th>\n",
       "      <td>SVC</td>\n",
       "      <td>SMOTE</td>\n",
       "      <td>0.703</td>\n",
       "      <td>0.693</td>\n",
       "      <td>0.694</td>\n",
       "      <td>0.010</td>\n",
       "      <td>0.860</td>\n",
       "      <td>0.684</td>\n",
       "      <td>0.136</td>\n",
       "      <td>0.844</td>\n",
       "      <td>0</td>\n",
       "    </tr>\n",
       "    <tr>\n",
       "      <th>4</th>\n",
       "      <td>GradientBoostingClassifier</td>\n",
       "      <td>SMOTE</td>\n",
       "      <td>0.780</td>\n",
       "      <td>0.778</td>\n",
       "      <td>0.765</td>\n",
       "      <td>0.015</td>\n",
       "      <td>0.833</td>\n",
       "      <td>0.761</td>\n",
       "      <td>0.168</td>\n",
       "      <td>0.871</td>\n",
       "      <td>0</td>\n",
       "    </tr>\n",
       "    <tr>\n",
       "      <th>5</th>\n",
       "      <td>RandomForestClassifier</td>\n",
       "      <td>ADASYN</td>\n",
       "      <td>0.771</td>\n",
       "      <td>0.761</td>\n",
       "      <td>0.762</td>\n",
       "      <td>0.009</td>\n",
       "      <td>0.842</td>\n",
       "      <td>0.757</td>\n",
       "      <td>0.168</td>\n",
       "      <td>0.872</td>\n",
       "      <td>0</td>\n",
       "    </tr>\n",
       "    <tr>\n",
       "      <th>6</th>\n",
       "      <td>RandomForestClassifier</td>\n",
       "      <td>ClusterCentroids</td>\n",
       "      <td>0.627</td>\n",
       "      <td>0.618</td>\n",
       "      <td>0.624</td>\n",
       "      <td>0.003</td>\n",
       "      <td>0.921</td>\n",
       "      <td>0.607</td>\n",
       "      <td>0.120</td>\n",
       "      <td>0.848</td>\n",
       "      <td>0</td>\n",
       "    </tr>\n",
       "  </tbody>\n",
       "</table>\n",
       "</div>"
      ],
      "text/plain": [
       "                   Classifier Class Balancing Technique  Train Accuracy  \\\n",
       "1          LogisticRegression                     SMOTE           0.707   \n",
       "2      RandomForestClassifier                     SMOTE           0.778   \n",
       "3                         SVC                     SMOTE           0.703   \n",
       "4  GradientBoostingClassifier                     SMOTE           0.780   \n",
       "5      RandomForestClassifier                    ADASYN           0.771   \n",
       "6      RandomForestClassifier          ClusterCentroids           0.627   \n",
       "\n",
       "   Est. Test Accuracy (cv=5)  Actual Test Accuracy  Overfit / Underfit  \\\n",
       "1                      0.698                 0.712              -0.004   \n",
       "2                      0.768                 0.775               0.003   \n",
       "3                      0.693                 0.694               0.010   \n",
       "4                      0.778                 0.765               0.015   \n",
       "5                      0.761                 0.762               0.009   \n",
       "6                      0.618                 0.624               0.003   \n",
       "\n",
       "   Sensitivity  Specificity  Precision  ROC-AUC Kaggle ROC-AUC  \n",
       "1        0.851        0.704      0.143    0.858              0  \n",
       "2        0.851        0.771      0.177    0.872              0  \n",
       "3        0.860        0.684      0.136    0.844              0  \n",
       "4        0.833        0.761      0.168    0.871              0  \n",
       "5        0.842        0.757      0.168    0.872              0  \n",
       "6        0.921        0.607      0.120    0.848              0  "
      ]
     },
     "execution_count": 134,
     "metadata": {},
     "output_type": "execute_result"
    }
   ],
   "source": [
    "summary_df.loc[6] = [\"RandomForestClassifier\",\n",
    "                     \"ClusterCentroids\",\n",
    "                     round(train_acc6, 3),\n",
    "                     round(est_test_acc6, 3),\n",
    "                     round(test_acc6, 3),\n",
    "                     round(train_acc6-test_acc6, 3),\n",
    "                     round(sensitivity6, 3),\n",
    "                     round(specificity6, 3),\n",
    "                     round(precision6, 3),\n",
    "                     round(roc_auc6, 3),\n",
    "                     0\n",
    "                    ]\n",
    "\n",
    "summary_df"
   ]
  },
  {
   "cell_type": "markdown",
   "metadata": {},
   "source": [
    "### RandomForestClassifier with hyperparameter *class_weight='balanced_subsample'*"
   ]
  },
  {
   "cell_type": "markdown",
   "metadata": {},
   "source": [
    "Using a similar approach as with *LogisticRegression* above, manual tweaking of hyperparameters was done after using *GridSearchCV*. As explained above, *GridSearchCV* only optimizes the model using a single scoring parameter. However, in this context, we need to find a good balance between *Accuracy* and *Sensitivity* scores, and so a manual tuning of hyperparameters is required.\n",
    "\n",
    "The final set of hyperparameters chosen after manual tuning of the model are as shown below."
   ]
  },
  {
   "cell_type": "code",
   "execution_count": 135,
   "metadata": {},
   "outputs": [],
   "source": [
    "# Creating a RandomForestClassifier object.\n",
    "\n",
    "rfc7 = RandomForestClassifier(class_weight='balanced_subsample', \n",
    "                              n_estimators=200,\n",
    "                              ccp_alpha=0,\n",
    "                              max_depth=5,\n",
    "                              min_samples_split=2,\n",
    "                              min_samples_leaf=1,\n",
    "                              random_state=42\n",
    "                             )"
   ]
  },
  {
   "cell_type": "code",
   "execution_count": 136,
   "metadata": {},
   "outputs": [
    {
     "data": {
      "text/plain": [
       "RandomForestClassifier(bootstrap=True, ccp_alpha=0,\n",
       "                       class_weight='balanced_subsample', criterion='gini',\n",
       "                       max_depth=5, max_features='auto', max_leaf_nodes=None,\n",
       "                       max_samples=None, min_impurity_decrease=0.0,\n",
       "                       min_impurity_split=None, min_samples_leaf=1,\n",
       "                       min_samples_split=2, min_weight_fraction_leaf=0.0,\n",
       "                       n_estimators=200, n_jobs=None, oob_score=False,\n",
       "                       random_state=42, verbose=0, warm_start=False)"
      ]
     },
     "execution_count": 136,
     "metadata": {},
     "output_type": "execute_result"
    }
   ],
   "source": [
    "# Fitting X_train_sc and y_train on RandomForestClassifier object defined above.\n",
    "\n",
    "rfc7.fit(X_train_sc, y_train)"
   ]
  },
  {
   "cell_type": "code",
   "execution_count": 137,
   "metadata": {},
   "outputs": [
    {
     "data": {
      "text/plain": [
       "0.7408477842003853"
      ]
     },
     "execution_count": 137,
     "metadata": {},
     "output_type": "execute_result"
    }
   ],
   "source": [
    "# Scoring the model on training dataset.\n",
    "# Training Accuracy\n",
    "\n",
    "train_acc7 = rfc7.score(X_train_sc, y_train)\n",
    "train_acc7"
   ]
  },
  {
   "cell_type": "code",
   "execution_count": 138,
   "metadata": {},
   "outputs": [
    {
     "data": {
      "text/plain": [
       "0.7430972042262147"
      ]
     },
     "execution_count": 138,
     "metadata": {},
     "output_type": "execute_result"
    }
   ],
   "source": [
    "# Estimated Testing Accuracy\n",
    "\n",
    "est_test_acc7 = cross_val_score(rfc7, X_train_sc, y_train, cv=5).mean()\n",
    "est_test_acc7"
   ]
  },
  {
   "cell_type": "code",
   "execution_count": 139,
   "metadata": {},
   "outputs": [
    {
     "data": {
      "text/plain": [
       "0.7345857418111753"
      ]
     },
     "execution_count": 139,
     "metadata": {},
     "output_type": "execute_result"
    }
   ],
   "source": [
    "# Actual Testing Accuracy\n",
    "\n",
    "test_acc7 = rfc7.score(X_test_sc, y_test)\n",
    "test_acc7"
   ]
  },
  {
   "cell_type": "code",
   "execution_count": 140,
   "metadata": {},
   "outputs": [],
   "source": [
    "# Generating predictions on testing dataset using the model above.\n",
    "\n",
    "y_pred7 = rfc7.predict(X_test_sc)"
   ]
  },
  {
   "cell_type": "code",
   "execution_count": 141,
   "metadata": {},
   "outputs": [],
   "source": [
    "# Generating prediction probabilities on testing dataset using the model above.\n",
    "\n",
    "y_pred_proba7 = rfc7.predict_proba(X_test_sc)"
   ]
  },
  {
   "cell_type": "code",
   "execution_count": 142,
   "metadata": {},
   "outputs": [],
   "source": [
    "# Generating a confusion matrix.\n",
    "\n",
    "tn, fp, fn, tp = confusion_matrix(y_test, y_pred7).ravel()"
   ]
  },
  {
   "cell_type": "code",
   "execution_count": 143,
   "metadata": {},
   "outputs": [
    {
     "data": {
      "text/html": [
       "<div>\n",
       "<style scoped>\n",
       "    .dataframe tbody tr th:only-of-type {\n",
       "        vertical-align: middle;\n",
       "    }\n",
       "\n",
       "    .dataframe tbody tr th {\n",
       "        vertical-align: top;\n",
       "    }\n",
       "\n",
       "    .dataframe thead th {\n",
       "        text-align: right;\n",
       "    }\n",
       "</style>\n",
       "<table border=\"1\" class=\"dataframe\">\n",
       "  <thead>\n",
       "    <tr style=\"text-align: right;\">\n",
       "      <th></th>\n",
       "      <th>Actual WnvPresent=1</th>\n",
       "      <th>Actual WnvPresent=0</th>\n",
       "    </tr>\n",
       "  </thead>\n",
       "  <tbody>\n",
       "    <tr>\n",
       "      <th>Predicted WnvPresent=1</th>\n",
       "      <td>104 (True Pos)</td>\n",
       "      <td>541 (False Pos)</td>\n",
       "    </tr>\n",
       "    <tr>\n",
       "      <th>Predicted WnvPresent=0</th>\n",
       "      <td>10 (False Neg)</td>\n",
       "      <td>1421 (True Neg)</td>\n",
       "    </tr>\n",
       "  </tbody>\n",
       "</table>\n",
       "</div>"
      ],
      "text/plain": [
       "                       Actual WnvPresent=1 Actual WnvPresent=0\n",
       "Predicted WnvPresent=1      104 (True Pos)     541 (False Pos)\n",
       "Predicted WnvPresent=0      10 (False Neg)     1421 (True Neg)"
      ]
     },
     "execution_count": 143,
     "metadata": {},
     "output_type": "execute_result"
    }
   ],
   "source": [
    "conf_mat7 = pd.DataFrame(columns=['Actual WnvPresent=1', 'Actual WnvPresent=0'], \n",
    "                         index=['Predicted WnvPresent=1', 'Predicted WnvPresent=0'],\n",
    "                         data=[[f'{tp} (True Pos)', f'{fp} (False Pos)'], [f'{fn} (False Neg)', f'{tn} (True Neg)']]\n",
    "                        )\n",
    "conf_mat7"
   ]
  },
  {
   "cell_type": "code",
   "execution_count": 144,
   "metadata": {},
   "outputs": [
    {
     "data": {
      "text/plain": [
       "0.9122807017543859"
      ]
     },
     "execution_count": 144,
     "metadata": {},
     "output_type": "execute_result"
    }
   ],
   "source": [
    "sensitivity7 = tp/(tp+fn)\n",
    "sensitivity7"
   ]
  },
  {
   "cell_type": "code",
   "execution_count": 145,
   "metadata": {},
   "outputs": [
    {
     "data": {
      "text/plain": [
       "0.7242609582059123"
      ]
     },
     "execution_count": 145,
     "metadata": {},
     "output_type": "execute_result"
    }
   ],
   "source": [
    "specificity7 = tn/(tn+fp)\n",
    "specificity7"
   ]
  },
  {
   "cell_type": "code",
   "execution_count": 146,
   "metadata": {},
   "outputs": [
    {
     "data": {
      "text/plain": [
       "0.16124031007751938"
      ]
     },
     "execution_count": 146,
     "metadata": {},
     "output_type": "execute_result"
    }
   ],
   "source": [
    "precision7 = tp/(tp+fp)\n",
    "precision7"
   ]
  },
  {
   "cell_type": "code",
   "execution_count": 147,
   "metadata": {},
   "outputs": [
    {
     "data": {
      "text/plain": [
       "0.8820372158735269"
      ]
     },
     "execution_count": 147,
     "metadata": {},
     "output_type": "execute_result"
    }
   ],
   "source": [
    "roc_auc7 = roc_auc_score(y_test, y_pred_proba7[:, 1])\n",
    "roc_auc7"
   ]
  },
  {
   "cell_type": "code",
   "execution_count": 148,
   "metadata": {},
   "outputs": [],
   "source": [
    "# Generating prediction probabilities on actual testing dataset using the model above (for kaggle submission).\n",
    "\n",
    "submission_pred_proba7 = rfc7.predict_proba(act_test_X_sc)[:, 1]"
   ]
  },
  {
   "cell_type": "code",
   "execution_count": 149,
   "metadata": {},
   "outputs": [],
   "source": [
    "# Putting the above predicted probabilities into a dataframe and exporting it as a csv file for submission to kaggle.\n",
    "\n",
    "# sub7 = pd.DataFrame({'Id' : test['Id'].values, 'WnvPresent' : submission_pred_proba7})\n",
    "# sub7.to_csv('../kaggle_submissions/submission_7.csv', index=False)"
   ]
  },
  {
   "cell_type": "code",
   "execution_count": 150,
   "metadata": {},
   "outputs": [
    {
     "data": {
      "text/html": [
       "<div>\n",
       "<style scoped>\n",
       "    .dataframe tbody tr th:only-of-type {\n",
       "        vertical-align: middle;\n",
       "    }\n",
       "\n",
       "    .dataframe tbody tr th {\n",
       "        vertical-align: top;\n",
       "    }\n",
       "\n",
       "    .dataframe thead th {\n",
       "        text-align: right;\n",
       "    }\n",
       "</style>\n",
       "<table border=\"1\" class=\"dataframe\">\n",
       "  <thead>\n",
       "    <tr style=\"text-align: right;\">\n",
       "      <th></th>\n",
       "      <th>Classifier</th>\n",
       "      <th>Class Balancing Technique</th>\n",
       "      <th>Train Accuracy</th>\n",
       "      <th>Est. Test Accuracy (cv=5)</th>\n",
       "      <th>Actual Test Accuracy</th>\n",
       "      <th>Overfit / Underfit</th>\n",
       "      <th>Sensitivity</th>\n",
       "      <th>Specificity</th>\n",
       "      <th>Precision</th>\n",
       "      <th>ROC-AUC</th>\n",
       "      <th>Kaggle ROC-AUC</th>\n",
       "    </tr>\n",
       "  </thead>\n",
       "  <tbody>\n",
       "    <tr>\n",
       "      <th>1</th>\n",
       "      <td>LogisticRegression</td>\n",
       "      <td>SMOTE</td>\n",
       "      <td>0.707</td>\n",
       "      <td>0.698</td>\n",
       "      <td>0.712</td>\n",
       "      <td>-0.004</td>\n",
       "      <td>0.851</td>\n",
       "      <td>0.704</td>\n",
       "      <td>0.143</td>\n",
       "      <td>0.858</td>\n",
       "      <td>0</td>\n",
       "    </tr>\n",
       "    <tr>\n",
       "      <th>2</th>\n",
       "      <td>RandomForestClassifier</td>\n",
       "      <td>SMOTE</td>\n",
       "      <td>0.778</td>\n",
       "      <td>0.768</td>\n",
       "      <td>0.775</td>\n",
       "      <td>0.003</td>\n",
       "      <td>0.851</td>\n",
       "      <td>0.771</td>\n",
       "      <td>0.177</td>\n",
       "      <td>0.872</td>\n",
       "      <td>0</td>\n",
       "    </tr>\n",
       "    <tr>\n",
       "      <th>3</th>\n",
       "      <td>SVC</td>\n",
       "      <td>SMOTE</td>\n",
       "      <td>0.703</td>\n",
       "      <td>0.693</td>\n",
       "      <td>0.694</td>\n",
       "      <td>0.010</td>\n",
       "      <td>0.860</td>\n",
       "      <td>0.684</td>\n",
       "      <td>0.136</td>\n",
       "      <td>0.844</td>\n",
       "      <td>0</td>\n",
       "    </tr>\n",
       "    <tr>\n",
       "      <th>4</th>\n",
       "      <td>GradientBoostingClassifier</td>\n",
       "      <td>SMOTE</td>\n",
       "      <td>0.780</td>\n",
       "      <td>0.778</td>\n",
       "      <td>0.765</td>\n",
       "      <td>0.015</td>\n",
       "      <td>0.833</td>\n",
       "      <td>0.761</td>\n",
       "      <td>0.168</td>\n",
       "      <td>0.871</td>\n",
       "      <td>0</td>\n",
       "    </tr>\n",
       "    <tr>\n",
       "      <th>5</th>\n",
       "      <td>RandomForestClassifier</td>\n",
       "      <td>ADASYN</td>\n",
       "      <td>0.771</td>\n",
       "      <td>0.761</td>\n",
       "      <td>0.762</td>\n",
       "      <td>0.009</td>\n",
       "      <td>0.842</td>\n",
       "      <td>0.757</td>\n",
       "      <td>0.168</td>\n",
       "      <td>0.872</td>\n",
       "      <td>0</td>\n",
       "    </tr>\n",
       "    <tr>\n",
       "      <th>6</th>\n",
       "      <td>RandomForestClassifier</td>\n",
       "      <td>ClusterCentroids</td>\n",
       "      <td>0.627</td>\n",
       "      <td>0.618</td>\n",
       "      <td>0.624</td>\n",
       "      <td>0.003</td>\n",
       "      <td>0.921</td>\n",
       "      <td>0.607</td>\n",
       "      <td>0.120</td>\n",
       "      <td>0.848</td>\n",
       "      <td>0</td>\n",
       "    </tr>\n",
       "    <tr>\n",
       "      <th>7</th>\n",
       "      <td>RandomForestClassifier</td>\n",
       "      <td>class_weight='balanced_subsample'</td>\n",
       "      <td>0.741</td>\n",
       "      <td>0.743</td>\n",
       "      <td>0.735</td>\n",
       "      <td>0.006</td>\n",
       "      <td>0.912</td>\n",
       "      <td>0.724</td>\n",
       "      <td>0.161</td>\n",
       "      <td>0.882</td>\n",
       "      <td>0</td>\n",
       "    </tr>\n",
       "  </tbody>\n",
       "</table>\n",
       "</div>"
      ],
      "text/plain": [
       "                   Classifier          Class Balancing Technique  \\\n",
       "1          LogisticRegression                              SMOTE   \n",
       "2      RandomForestClassifier                              SMOTE   \n",
       "3                         SVC                              SMOTE   \n",
       "4  GradientBoostingClassifier                              SMOTE   \n",
       "5      RandomForestClassifier                             ADASYN   \n",
       "6      RandomForestClassifier                   ClusterCentroids   \n",
       "7      RandomForestClassifier  class_weight='balanced_subsample'   \n",
       "\n",
       "   Train Accuracy  Est. Test Accuracy (cv=5)  Actual Test Accuracy  \\\n",
       "1           0.707                      0.698                 0.712   \n",
       "2           0.778                      0.768                 0.775   \n",
       "3           0.703                      0.693                 0.694   \n",
       "4           0.780                      0.778                 0.765   \n",
       "5           0.771                      0.761                 0.762   \n",
       "6           0.627                      0.618                 0.624   \n",
       "7           0.741                      0.743                 0.735   \n",
       "\n",
       "   Overfit / Underfit  Sensitivity  Specificity  Precision  ROC-AUC  \\\n",
       "1              -0.004        0.851        0.704      0.143    0.858   \n",
       "2               0.003        0.851        0.771      0.177    0.872   \n",
       "3               0.010        0.860        0.684      0.136    0.844   \n",
       "4               0.015        0.833        0.761      0.168    0.871   \n",
       "5               0.009        0.842        0.757      0.168    0.872   \n",
       "6               0.003        0.921        0.607      0.120    0.848   \n",
       "7               0.006        0.912        0.724      0.161    0.882   \n",
       "\n",
       "  Kaggle ROC-AUC  \n",
       "1              0  \n",
       "2              0  \n",
       "3              0  \n",
       "4              0  \n",
       "5              0  \n",
       "6              0  \n",
       "7              0  "
      ]
     },
     "execution_count": 150,
     "metadata": {},
     "output_type": "execute_result"
    }
   ],
   "source": [
    "summary_df.loc[7] = [\"RandomForestClassifier\",\n",
    "                     \"class_weight='balanced_subsample'\",\n",
    "                     round(train_acc7, 3),\n",
    "                     round(est_test_acc7, 3),\n",
    "                     round(test_acc7, 3),\n",
    "                     round(train_acc7-test_acc7, 3),\n",
    "                     round(sensitivity7, 3),\n",
    "                     round(specificity7, 3),\n",
    "                     round(precision7, 3),\n",
    "                     round(roc_auc7, 3),\n",
    "                     0\n",
    "                    ]\n",
    "\n",
    "summary_df"
   ]
  },
  {
   "cell_type": "markdown",
   "metadata": {},
   "source": [
    "We choose RandomForestClassifier with hyperparameter *class_weight='balanced_subsample'* to be the best model, because of the following reasons:\n",
    "- For a small drop in train and test accuracy scores compared to other models, we see a significant increase in the sensitivity score, while maintaining a good value of specificity score.\n",
    "- Very little overfitting in the model. The model generalizes well on unseen test data.\n",
    "- Highest ROC-AUC score among all models.\n",
    "- Balancing of classes using an inbuilt hyperparameter *class_weight='balanced_subsample'* is easier to do as compared to the more complicated balancing techniques from the *imblearn* library, such as SMOTE, ADASYN and ClusterCentroids."
   ]
  },
  {
   "cell_type": "markdown",
   "metadata": {},
   "source": [
    "### Feature Importance"
   ]
  },
  {
   "cell_type": "code",
   "execution_count": 151,
   "metadata": {},
   "outputs": [
    {
     "data": {
      "text/plain": [
       "Index(['Latitude', 'Longitude', 'Species_CULEX PIPIENS',\n",
       "       'Species_CULEX PIPIENS/RESTUANS', 'Species_CULEX RESTUANS', 'Sprayed',\n",
       "       'Avg Pos Dist', 'Tmax', 'Tmin', 'Tavg', 'DewPoint', 'WetBulb', 'Heat',\n",
       "       'Cool', 'PrecipTotal', 'StnPressure', 'SeaLevel', 'ResultSpeed',\n",
       "       'ResultDir', 'AvgSpeed', 'Sunrise', 'Sunset', 'bc', 'br', 'dz', 'fg',\n",
       "       'fg+', 'fu', 'gr', 'hz', 'mi', 'ra', 'sn', 'sq', 'ts', 'vc'],\n",
       "      dtype='object')"
      ]
     },
     "execution_count": 151,
     "metadata": {},
     "output_type": "execute_result"
    }
   ],
   "source": [
    "X_train.columns"
   ]
  },
  {
   "cell_type": "code",
   "execution_count": 152,
   "metadata": {},
   "outputs": [
    {
     "data": {
      "text/plain": [
       "array([2.34938426e-02, 4.07983120e-02, 5.07102224e-03, 3.57027912e-03,\n",
       "       4.03722840e-02, 2.40621912e-04, 2.62690709e-01, 1.76577927e-02,\n",
       "       4.47762999e-02, 2.39571394e-02, 5.59165182e-02, 3.59608667e-02,\n",
       "       1.14653187e-02, 1.96581114e-02, 6.42191121e-03, 2.18501209e-02,\n",
       "       2.54631778e-02, 1.88310283e-02, 2.73594506e-02, 1.87533045e-02,\n",
       "       1.66662326e-01, 1.16151837e-01, 2.12546267e-05, 2.46147874e-03,\n",
       "       5.63184698e-04, 0.00000000e+00, 0.00000000e+00, 1.19572647e-03,\n",
       "       0.00000000e+00, 5.93697894e-03, 1.39103963e-04, 1.52766210e-03,\n",
       "       0.00000000e+00, 0.00000000e+00, 8.73867346e-04, 1.58468526e-04])"
      ]
     },
     "execution_count": 152,
     "metadata": {},
     "output_type": "execute_result"
    }
   ],
   "source": [
    "rfc7.feature_importances_"
   ]
  },
  {
   "cell_type": "code",
   "execution_count": 153,
   "metadata": {},
   "outputs": [
    {
     "data": {
      "text/plain": [
       "array([2.62690709e-01, 1.66662326e-01, 1.16151837e-01, 5.59165182e-02,\n",
       "       4.47762999e-02, 4.07983120e-02, 4.03722840e-02, 3.59608667e-02,\n",
       "       2.73594506e-02, 2.54631778e-02, 2.39571394e-02, 2.34938426e-02,\n",
       "       2.18501209e-02, 1.96581114e-02, 1.88310283e-02, 1.87533045e-02,\n",
       "       1.76577927e-02, 1.14653187e-02, 6.42191121e-03, 5.93697894e-03,\n",
       "       5.07102224e-03, 3.57027912e-03, 2.46147874e-03, 1.52766210e-03,\n",
       "       1.19572647e-03, 8.73867346e-04, 5.63184698e-04, 2.40621912e-04,\n",
       "       1.58468526e-04, 1.39103963e-04, 2.12546267e-05, 0.00000000e+00,\n",
       "       0.00000000e+00, 0.00000000e+00, 0.00000000e+00, 0.00000000e+00])"
      ]
     },
     "execution_count": 153,
     "metadata": {},
     "output_type": "execute_result"
    }
   ],
   "source": [
    "# Sorting feature importance values in descending order.\n",
    "\n",
    "feature_imp_sorted = np.sort(rfc7.feature_importances_)[::-1]\n",
    "feature_imp_sorted"
   ]
  },
  {
   "cell_type": "code",
   "execution_count": 154,
   "metadata": {},
   "outputs": [
    {
     "data": {
      "text/plain": [
       "array([28, 33, 25, 26, 32, 22, 30, 35,  5, 24, 34, 27, 31, 23,  3,  2, 29,\n",
       "       14, 12,  7, 19, 17, 13, 15,  0,  9, 16, 18, 11,  4,  1,  8, 10, 21,\n",
       "       20,  6], dtype=int64)"
      ]
     },
     "execution_count": 154,
     "metadata": {},
     "output_type": "execute_result"
    }
   ],
   "source": [
    "# Sorting the indexes of probabilities from above using the np.argsort() function.\n",
    "# np.argsort() returns an array of indexes of probabilities from above sorted in an ascending order (feature with lowest probability first).\n",
    "\n",
    "rfc7.feature_importances_.argsort()"
   ]
  },
  {
   "cell_type": "markdown",
   "metadata": {},
   "source": [
    "The 1st element in the array above shows that the feature with the lowest probability is at index 28 in list of X_train columns, the 2nd element in the array above shows that the feature with the second lowest probability is at index 33 in the list of X_train columns, and so on. So, to access the most important features (with highest probabilities), we will have to first reverse the above array."
   ]
  },
  {
   "cell_type": "code",
   "execution_count": 155,
   "metadata": {},
   "outputs": [
    {
     "data": {
      "text/plain": [
       "array([ 6, 20, 21, 10,  8,  1,  4, 11, 18, 16,  9,  0, 15, 13, 17, 19,  7,\n",
       "       12, 14, 29,  2,  3, 23, 31, 27, 34, 24,  5, 35, 30, 22, 32, 26, 25,\n",
       "       33, 28], dtype=int64)"
      ]
     },
     "execution_count": 155,
     "metadata": {},
     "output_type": "execute_result"
    }
   ],
   "source": [
    "# Reversing the array of feature importances to sort them in descending order.\n",
    "\n",
    "rfc7.feature_importances_.argsort()[::-1]"
   ]
  },
  {
   "cell_type": "code",
   "execution_count": 156,
   "metadata": {},
   "outputs": [
    {
     "data": {
      "text/plain": [
       "Index(['Avg Pos Dist', 'Sunrise', 'Sunset', 'DewPoint', 'Tmin', 'Longitude',\n",
       "       'Species_CULEX RESTUANS', 'WetBulb', 'ResultDir', 'SeaLevel', 'Tavg',\n",
       "       'Latitude', 'StnPressure', 'Cool', 'ResultSpeed', 'AvgSpeed', 'Tmax',\n",
       "       'Heat', 'PrecipTotal', 'hz', 'Species_CULEX PIPIENS',\n",
       "       'Species_CULEX PIPIENS/RESTUANS', 'br', 'ra', 'fu', 'ts', 'dz',\n",
       "       'Sprayed', 'vc', 'mi', 'bc', 'sn', 'fg+', 'fg', 'sq', 'gr'],\n",
       "      dtype='object')"
      ]
     },
     "execution_count": 156,
     "metadata": {},
     "output_type": "execute_result"
    }
   ],
   "source": [
    "feature_names_sorted = np.take(X_train.columns, rfc7.feature_importances_.argsort()[::-1])\n",
    "feature_names_sorted"
   ]
  },
  {
   "cell_type": "code",
   "execution_count": 157,
   "metadata": {},
   "outputs": [
    {
     "data": {
      "text/plain": [
       "Text(0.5, 1.0, 'Barplot of features and their importances (weather lag = 10 days)')"
      ]
     },
     "execution_count": 157,
     "metadata": {},
     "output_type": "execute_result"
    },
    {
     "data": {
      "image/png": "[encoded data removed]",
      "text/plain": [
       "<Figure size 720x1080 with 1 Axes>"
      ]
     },
     "metadata": {
      "needs_background": "light"
     },
     "output_type": "display_data"
    }
   ],
   "source": [
    "# Plotting barplot of features and the logreg coefs.\n",
    "\n",
    "plt.figure(figsize=(10,15))\n",
    "\n",
    "sns.barplot(orient='h', x=feature_imp_sorted, y=feature_names_sorted, color='royalblue')\n",
    "\n",
    "# plt.tick_params(axis='x', labelrotation=25)\n",
    "\n",
    "# Setting the size of axis ticks.\n",
    "plt.tick_params(axis='x', labelsize=12)\n",
    "plt.tick_params(axis='y', labelsize=14.5)\n",
    "\n",
    "plt.xlabel('Feature Importance', fontsize=14)\n",
    "plt.ylabel('Features', fontsize=14)\n",
    "\n",
    "plt.title(\"Barplot of features and their importances (weather lag = 10 days)\", fontsize=18)\n",
    "\n",
    "# Exporting plot image in PNG format.\n",
    "# plt.savefig('../plot_images/barplot_rfc_feature_importance_lag10.png', bbox_inches='tight');"
   ]
  },
  {
   "cell_type": "code",
   "execution_count": null,
   "metadata": {},
   "outputs": [],
   "source": []
  },
  {
   "cell_type": "code",
   "execution_count": null,
   "metadata": {},
   "outputs": [],
   "source": []
  },
  {
   "cell_type": "code",
   "execution_count": null,
   "metadata": {},
   "outputs": [],
   "source": []
  },
  {
   "cell_type": "code",
   "execution_count": null,
   "metadata": {},
   "outputs": [],
   "source": []
  },
  {
   "cell_type": "code",
   "execution_count": null,
   "metadata": {},
   "outputs": [],
   "source": []
  },
  {
   "cell_type": "code",
   "execution_count": null,
   "metadata": {},
   "outputs": [],
   "source": []
  },
  {
   "cell_type": "code",
   "execution_count": null,
   "metadata": {},
   "outputs": [],
   "source": []
  },
  {
   "cell_type": "code",
   "execution_count": null,
   "metadata": {},
   "outputs": [],
   "source": [
    "# Creating a pipeline object using imblearn.pipeline with SMOTE and RandomForestClassifier.\n",
    "\n",
    "pipe4 = make_pipeline(SMOTE(random_state=42),\n",
    "                      SVC(probability=True, random_state=42)\n",
    "                      #GradientBoostingClassifier(#learning_rate=0.01,\n",
    "                      #                           #n_estimators=200,\n",
    "                      #                           ccp_alpha=0,\n",
    "                      #                           #max_depth=5,\n",
    "                      #                           min_samples_split=2,\n",
    "                      #                           min_samples_leaf=1,\n",
    "                      #                           subsample=1,\n",
    "                      #                           random_state=42\n",
    "                      #                          )\n",
    "                     )"
   ]
  },
  {
   "cell_type": "code",
   "execution_count": null,
   "metadata": {},
   "outputs": [],
   "source": [
    "pipe4.get_params()"
   ]
  },
  {
   "cell_type": "code",
   "execution_count": null,
   "metadata": {},
   "outputs": [],
   "source": [
    "# Establishing ranges of hyperparameters C and l1_ratio for GridSearchCV.\n",
    "\n",
    "pipe4_params = {'svc__C': [0.1, 0.2, 0.4, 1],\n",
    "                'svc__kernel': ['rbf', 'poly'],\n",
    "                'svc__degree': [3, 5]\n",
    "                #'gradientboostingclassifier__learning_rate': [0.01, 0.1],\n",
    "                #'gradientboostingclassifier__n_estimators': [50, 100, 200, 500],\n",
    "                #'gradientboostingclassifier__max_depth': [3, 5],\n",
    "                #'gradientboostingclassifier__min_samples_split': ,\n",
    "                #'gradientboostingclassifier__min_samples_leaf': ,\n",
    "                #'gradientboostingclassifier__subsample':\n",
    "               }"
   ]
  },
  {
   "cell_type": "code",
   "execution_count": null,
   "metadata": {},
   "outputs": [],
   "source": [
    "# Creating a GridSearchCV object for the pipeline object defined above.\n",
    "\n",
    "gs_pipe4 = GridSearchCV(pipe4, \n",
    "                        param_grid=pipe4_params, \n",
    "                        cv=5, \n",
    "                        scoring=['accuracy', 'recall', 'roc_auc'],\n",
    "                        refit='accuracy',\n",
    "                        return_train_score=False,\n",
    "                        n_jobs=-1\n",
    "                       )"
   ]
  },
  {
   "cell_type": "code",
   "execution_count": null,
   "metadata": {},
   "outputs": [],
   "source": [
    "# Fitting GridSearchCV with SMOTE and LogisticRegression on X_train_sc and y_train.\n",
    "\n",
    "gs_pipe4.fit(X_train_sc, y_train)"
   ]
  },
  {
   "cell_type": "code",
   "execution_count": null,
   "metadata": {},
   "outputs": [],
   "source": [
    "# Best combination of hyperparameters suggested by GridSearchCV.\n",
    "\n",
    "gs_pipe4.best_params_"
   ]
  },
  {
   "cell_type": "code",
   "execution_count": null,
   "metadata": {},
   "outputs": [],
   "source": [
    "# Best roc_auc score obtained by above combination of hyperparameters.\n",
    "\n",
    "gs_pipe4.best_score_"
   ]
  },
  {
   "cell_type": "code",
   "execution_count": null,
   "metadata": {},
   "outputs": [],
   "source": [
    "# Scoring the model on training dataset (roc_auc score).\n",
    "\n",
    "gs_pipe4.score(X_train_sc, y_train)"
   ]
  },
  {
   "cell_type": "code",
   "execution_count": null,
   "metadata": {},
   "outputs": [],
   "source": [
    "# Scoring the model on testing dataset (roc_auc score).\n",
    "\n",
    "gs_pipe4.score(X_test_sc, y_test)"
   ]
  },
  {
   "cell_type": "code",
   "execution_count": null,
   "metadata": {},
   "outputs": [],
   "source": [
    "pd.DataFrame(gs_pipe4.cv_results_).columns"
   ]
  },
  {
   "cell_type": "code",
   "execution_count": null,
   "metadata": {},
   "outputs": [],
   "source": [
    "cols_list = ['mean_fit_time',\n",
    "             'mean_score_time',\n",
    "             'param_svc__C',\n",
    "             'param_svc__degree',\n",
    "             'param_svc__kernel',\n",
    "             'params',\n",
    "             'mean_test_accuracy',\n",
    "             'rank_test_accuracy',\n",
    "             'mean_test_recall',\n",
    "             'rank_test_recall',\n",
    "             'mean_test_roc_auc',\n",
    "             'rank_test_roc_auc',\n",
    "            ]"
   ]
  },
  {
   "cell_type": "code",
   "execution_count": null,
   "metadata": {},
   "outputs": [],
   "source": [
    "pd.DataFrame(gs_pipe4.cv_results_)[cols_list]"
   ]
  },
  {
   "cell_type": "code",
   "execution_count": null,
   "metadata": {},
   "outputs": [],
   "source": []
  },
  {
   "cell_type": "code",
   "execution_count": null,
   "metadata": {},
   "outputs": [],
   "source": []
  },
  {
   "cell_type": "code",
   "execution_count": 339,
   "metadata": {},
   "outputs": [
    {
     "data": {
      "text/html": [
       "<div>\n",
       "<style scoped>\n",
       "    .dataframe tbody tr th:only-of-type {\n",
       "        vertical-align: middle;\n",
       "    }\n",
       "\n",
       "    .dataframe tbody tr th {\n",
       "        vertical-align: top;\n",
       "    }\n",
       "\n",
       "    .dataframe thead th {\n",
       "        text-align: right;\n",
       "    }\n",
       "</style>\n",
       "<table border=\"1\" class=\"dataframe\">\n",
       "  <thead>\n",
       "    <tr style=\"text-align: right;\">\n",
       "      <th></th>\n",
       "      <th>Lag in Weather data (days)</th>\n",
       "      <th>Train Accuracy %</th>\n",
       "      <th>Test Accuracy %</th>\n",
       "      <th>Sensitivity %</th>\n",
       "      <th>Specificity %</th>\n",
       "      <th>ROC-AUC * 100</th>\n",
       "    </tr>\n",
       "  </thead>\n",
       "  <tbody>\n",
       "    <tr>\n",
       "      <th>0</th>\n",
       "      <td>0</td>\n",
       "      <td>66.2</td>\n",
       "      <td>65.8</td>\n",
       "      <td>90.4</td>\n",
       "      <td>64.3</td>\n",
       "      <td>85.5</td>\n",
       "    </tr>\n",
       "    <tr>\n",
       "      <th>1</th>\n",
       "      <td>0</td>\n",
       "      <td>73.2</td>\n",
       "      <td>72.2</td>\n",
       "      <td>90.4</td>\n",
       "      <td>71.2</td>\n",
       "      <td>88.9</td>\n",
       "    </tr>\n",
       "    <tr>\n",
       "      <th>2</th>\n",
       "      <td>2</td>\n",
       "      <td>74.4</td>\n",
       "      <td>73.7</td>\n",
       "      <td>91.2</td>\n",
       "      <td>72.7</td>\n",
       "      <td>88.7</td>\n",
       "    </tr>\n",
       "    <tr>\n",
       "      <th>3</th>\n",
       "      <td>5</td>\n",
       "      <td>76.9</td>\n",
       "      <td>76.0</td>\n",
       "      <td>86.8</td>\n",
       "      <td>75.4</td>\n",
       "      <td>88.7</td>\n",
       "    </tr>\n",
       "    <tr>\n",
       "      <th>4</th>\n",
       "      <td>7</td>\n",
       "      <td>72.1</td>\n",
       "      <td>70.5</td>\n",
       "      <td>92.1</td>\n",
       "      <td>69.3</td>\n",
       "      <td>89.0</td>\n",
       "    </tr>\n",
       "    <tr>\n",
       "      <th>5</th>\n",
       "      <td>10</td>\n",
       "      <td>74.1</td>\n",
       "      <td>73.5</td>\n",
       "      <td>91.2</td>\n",
       "      <td>72.4</td>\n",
       "      <td>88.2</td>\n",
       "    </tr>\n",
       "    <tr>\n",
       "      <th>6</th>\n",
       "      <td>14</td>\n",
       "      <td>70.2</td>\n",
       "      <td>69.3</td>\n",
       "      <td>93.0</td>\n",
       "      <td>67.9</td>\n",
       "      <td>88.6</td>\n",
       "    </tr>\n",
       "    <tr>\n",
       "      <th>7</th>\n",
       "      <td>21</td>\n",
       "      <td>70.4</td>\n",
       "      <td>69.7</td>\n",
       "      <td>93.9</td>\n",
       "      <td>68.3</td>\n",
       "      <td>88.4</td>\n",
       "    </tr>\n",
       "  </tbody>\n",
       "</table>\n",
       "</div>"
      ],
      "text/plain": [
       "   Lag in Weather data (days)  Train Accuracy %  Test Accuracy %  \\\n",
       "0                           0              66.2             65.8   \n",
       "1                           0              73.2             72.2   \n",
       "2                           2              74.4             73.7   \n",
       "3                           5              76.9             76.0   \n",
       "4                           7              72.1             70.5   \n",
       "5                          10              74.1             73.5   \n",
       "6                          14              70.2             69.3   \n",
       "7                          21              70.4             69.7   \n",
       "\n",
       "   Sensitivity %  Specificity %  ROC-AUC * 100  \n",
       "0           90.4           64.3           85.5  \n",
       "1           90.4           71.2           88.9  \n",
       "2           91.2           72.7           88.7  \n",
       "3           86.8           75.4           88.7  \n",
       "4           92.1           69.3           89.0  \n",
       "5           91.2           72.4           88.2  \n",
       "6           93.0           67.9           88.6  \n",
       "7           93.9           68.3           88.4  "
      ]
     },
     "execution_count": 339,
     "metadata": {},
     "output_type": "execute_result"
    }
   ],
   "source": [
    "weather_lag_scores = pd.DataFrame({'Lag in Weather data (days)' : [0, 0, 2, 5, 7, 10, 14, 21],\n",
    "                                   'Train Accuracy %' : [66.2, 73.2, 74.4, 76.9, 72.1, 74.1, 70.2, 70.4],\n",
    "                                   'Test Accuracy %' : [65.8, 72.2, 73.7, 76.0, 70.5, 73.5, 69.3, 69.7],\n",
    "                                   'Sensitivity %' : [90.4, 90.4, 91.2, 86.8, 92.1, 91.2, 93.0, 93.9],\n",
    "                                   'Specificity %' : [64.3, 71.2, 72.7, 75.4, 69.3, 72.4, 67.9, 68.3],\n",
    "                                   'ROC-AUC * 100' : [85.5, 88.9, 88.7, 88.7, 89.0, 88.2, 88.6, 88.4],\n",
    "                                  })\n",
    "\n",
    "weather_lag_scores"
   ]
  },
  {
   "cell_type": "code",
   "execution_count": 345,
   "metadata": {},
   "outputs": [
    {
     "data": {
      "text/html": [
       "<div>\n",
       "<style scoped>\n",
       "    .dataframe tbody tr th:only-of-type {\n",
       "        vertical-align: middle;\n",
       "    }\n",
       "\n",
       "    .dataframe tbody tr th {\n",
       "        vertical-align: top;\n",
       "    }\n",
       "\n",
       "    .dataframe thead th {\n",
       "        text-align: right;\n",
       "    }\n",
       "</style>\n",
       "<table border=\"1\" class=\"dataframe\">\n",
       "  <thead>\n",
       "    <tr style=\"text-align: right;\">\n",
       "      <th></th>\n",
       "      <th>Lag in Weather data (days)</th>\n",
       "      <th>Train Accuracy %</th>\n",
       "      <th>Test Accuracy %</th>\n",
       "      <th>Sensitivity %</th>\n",
       "      <th>Specificity %</th>\n",
       "      <th>ROC-AUC * 100</th>\n",
       "    </tr>\n",
       "  </thead>\n",
       "  <tbody>\n",
       "    <tr>\n",
       "      <th>1</th>\n",
       "      <td>0</td>\n",
       "      <td>73.2</td>\n",
       "      <td>72.2</td>\n",
       "      <td>90.4</td>\n",
       "      <td>71.2</td>\n",
       "      <td>88.9</td>\n",
       "    </tr>\n",
       "    <tr>\n",
       "      <th>2</th>\n",
       "      <td>2</td>\n",
       "      <td>74.4</td>\n",
       "      <td>73.7</td>\n",
       "      <td>91.2</td>\n",
       "      <td>72.7</td>\n",
       "      <td>88.7</td>\n",
       "    </tr>\n",
       "    <tr>\n",
       "      <th>3</th>\n",
       "      <td>5</td>\n",
       "      <td>76.9</td>\n",
       "      <td>76.0</td>\n",
       "      <td>86.8</td>\n",
       "      <td>75.4</td>\n",
       "      <td>88.7</td>\n",
       "    </tr>\n",
       "    <tr>\n",
       "      <th>4</th>\n",
       "      <td>7</td>\n",
       "      <td>72.1</td>\n",
       "      <td>70.5</td>\n",
       "      <td>92.1</td>\n",
       "      <td>69.3</td>\n",
       "      <td>89.0</td>\n",
       "    </tr>\n",
       "    <tr>\n",
       "      <th>5</th>\n",
       "      <td>10</td>\n",
       "      <td>74.1</td>\n",
       "      <td>73.5</td>\n",
       "      <td>91.2</td>\n",
       "      <td>72.4</td>\n",
       "      <td>88.2</td>\n",
       "    </tr>\n",
       "    <tr>\n",
       "      <th>6</th>\n",
       "      <td>14</td>\n",
       "      <td>70.2</td>\n",
       "      <td>69.3</td>\n",
       "      <td>93.0</td>\n",
       "      <td>67.9</td>\n",
       "      <td>88.6</td>\n",
       "    </tr>\n",
       "    <tr>\n",
       "      <th>7</th>\n",
       "      <td>21</td>\n",
       "      <td>70.4</td>\n",
       "      <td>69.7</td>\n",
       "      <td>93.9</td>\n",
       "      <td>68.3</td>\n",
       "      <td>88.4</td>\n",
       "    </tr>\n",
       "  </tbody>\n",
       "</table>\n",
       "</div>"
      ],
      "text/plain": [
       "   Lag in Weather data (days)  Train Accuracy %  Test Accuracy %  \\\n",
       "1                           0              73.2             72.2   \n",
       "2                           2              74.4             73.7   \n",
       "3                           5              76.9             76.0   \n",
       "4                           7              72.1             70.5   \n",
       "5                          10              74.1             73.5   \n",
       "6                          14              70.2             69.3   \n",
       "7                          21              70.4             69.7   \n",
       "\n",
       "   Sensitivity %  Specificity %  ROC-AUC * 100  \n",
       "1           90.4           71.2           88.9  \n",
       "2           91.2           72.7           88.7  \n",
       "3           86.8           75.4           88.7  \n",
       "4           92.1           69.3           89.0  \n",
       "5           91.2           72.4           88.2  \n",
       "6           93.0           67.9           88.6  \n",
       "7           93.9           68.3           88.4  "
      ]
     },
     "execution_count": 345,
     "metadata": {},
     "output_type": "execute_result"
    }
   ],
   "source": [
    "weather_lag_scores.loc[1:]"
   ]
  },
  {
   "cell_type": "code",
   "execution_count": 426,
   "metadata": {},
   "outputs": [],
   "source": [
    "from scipy.interpolate import splrep, splev\n",
    "\n",
    "lag = np.array(weather_lag_scores.loc[1:, 'Lag in Weather data (days)'])\n",
    "train_acc = np.array(weather_lag_scores.loc[1:, 'Train Accuracy %'])\n",
    "test_acc = np.array(weather_lag_scores.loc[1:, 'Test Accuracy %'])\n",
    "sens = np.array(weather_lag_scores.loc[1:, 'Sensitivity %'])\n",
    "spec = np.array(weather_lag_scores.loc[1:, 'Specificity %'])\n",
    "roc = np.array(weather_lag_scores.loc[1:, 'ROC-AUC * 100'])\n",
    "\n",
    "lag_smooth = np.linspace(lag.min(), lag.max(), 100)\n",
    "train_acc_tck = splrep(lag, train_acc, k=2)\n",
    "train_acc_smooth = splev(lag_smooth, train_acc_tck)"
   ]
  },
  {
   "cell_type": "code",
   "execution_count": 427,
   "metadata": {},
   "outputs": [
    {
     "data": {
      "text/plain": [
       "<matplotlib.legend.Legend at 0x28175f10c50>"
      ]
     },
     "execution_count": 427,
     "metadata": {},
     "output_type": "execute_result"
    },
    {
     "data": {
      "image/png": "[encoded data removed]",
      "text/plain": [
       "<Figure size 1296x648 with 1 Axes>"
      ]
     },
     "metadata": {
      "needs_background": "light"
     },
     "output_type": "display_data"
    }
   ],
   "source": [
    "plt.figure(figsize=(18,9))\n",
    "\n",
    "plt.plot(list(lag_smooth), \n",
    "         list(train_acc_smooth), \n",
    "         #data=weather_lag_scores.loc[1:], \n",
    "         # marker='o', \n",
    "         label='Train Accuracy %',\n",
    "         color='royalblue'\n",
    "        )\n",
    "\n",
    "plt.plot('Lag in Weather data (days)', \n",
    "         'Train Accuracy %', \n",
    "         data=weather_lag_scores.loc[1:], \n",
    "         marker='o', \n",
    "         label='Train Accuracy %',\n",
    "         color='royalblue'\n",
    "        )\n",
    "\n",
    "plt.plot('Lag in Weather data (days)', \n",
    "         'Test Accuracy %', \n",
    "         data=weather_lag_scores.loc[1:], \n",
    "         marker='o', \n",
    "         label='Test Accuracy %',\n",
    "         color='red'\n",
    "        )\n",
    "\n",
    "plt.plot('Lag in Weather data (days)', \n",
    "         'Sensitivity %', \n",
    "         data=weather_lag_scores.loc[1:], \n",
    "         marker='o', \n",
    "         label='Sensitivity %',\n",
    "         color='green'\n",
    "        )\n",
    "\n",
    "plt.plot('Lag in Weather data (days)', \n",
    "         'Specificity %', \n",
    "         data=weather_lag_scores.loc[1:], \n",
    "         marker='o', \n",
    "         label='Specificity %',\n",
    "         color='orange'\n",
    "        )\n",
    "\n",
    "plt.plot('Lag in Weather data (days)', \n",
    "         'ROC-AUC * 100', \n",
    "         data=weather_lag_scores.loc[1:], \n",
    "         marker='o', \n",
    "         label='ROC-AUC * 100',\n",
    "         color='orangered'\n",
    "        )\n",
    "\n",
    "plt.legend()"
   ]
  },
  {
   "cell_type": "code",
   "execution_count": null,
   "metadata": {},
   "outputs": [],
   "source": []
  }
 ],
 "metadata": {
  "kernelspec": {
   "display_name": "Python 3",
   "language": "python",
   "name": "python3"
  },
  "language_info": {
   "codemirror_mode": {
    "name": "ipython",
    "version": 3
   },
   "file_extension": ".py",
   "mimetype": "text/x-python",
   "name": "python",
   "nbconvert_exporter": "python",
   "pygments_lexer": "ipython3",
   "version": "3.7.3"
  }
 },
 "nbformat": 4,
 "nbformat_minor": 4
}
