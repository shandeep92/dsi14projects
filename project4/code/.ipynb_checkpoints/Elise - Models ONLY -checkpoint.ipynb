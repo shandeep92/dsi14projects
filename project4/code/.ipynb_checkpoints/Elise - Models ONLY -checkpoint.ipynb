{
 "cells": [
  {
   "cell_type": "code",
   "execution_count": 1,
   "metadata": {},
   "outputs": [],
   "source": [
    "import pandas as pd\n",
    "import numpy as np\n",
    "import matplotlib.pyplot as plt\n",
    "\n",
    "\n",
    "plt.style.use('fivethirtyeight')\n",
    "%matplotlib inline"
   ]
  },
  {
   "cell_type": "code",
   "execution_count": 2,
   "metadata": {},
   "outputs": [],
   "source": [
    "merged_train = pd.read_csv('./input/merged_train_lag_7.csv')\n",
    "train = pd.read_csv('./input/train.csv')\n",
    "mapdata = np.loadtxt(\"./input/mapdata_copyright_openstreetmap_contributors.txt\")"
   ]
  },
  {
   "cell_type": "code",
   "execution_count": 3,
   "metadata": {},
   "outputs": [
    {
     "data": {
      "text/html": [
       "<div>\n",
       "<style scoped>\n",
       "    .dataframe tbody tr th:only-of-type {\n",
       "        vertical-align: middle;\n",
       "    }\n",
       "\n",
       "    .dataframe tbody tr th {\n",
       "        vertical-align: top;\n",
       "    }\n",
       "\n",
       "    .dataframe thead th {\n",
       "        text-align: right;\n",
       "    }\n",
       "</style>\n",
       "<table border=\"1\" class=\"dataframe\">\n",
       "  <thead>\n",
       "    <tr style=\"text-align: right;\">\n",
       "      <th></th>\n",
       "      <th>Date</th>\n",
       "      <th>Latitude</th>\n",
       "      <th>Longitude</th>\n",
       "      <th>Species_CULEX PIPIENS</th>\n",
       "      <th>Species_CULEX PIPIENS/RESTUANS</th>\n",
       "      <th>Species_CULEX RESTUANS</th>\n",
       "      <th>WnvPresent</th>\n",
       "      <th>Sprayed</th>\n",
       "      <th>Avg Pos Dist</th>\n",
       "      <th>Tmax</th>\n",
       "      <th>...</th>\n",
       "      <th>fg+</th>\n",
       "      <th>fu</th>\n",
       "      <th>gr</th>\n",
       "      <th>hz</th>\n",
       "      <th>mi</th>\n",
       "      <th>ra</th>\n",
       "      <th>sn</th>\n",
       "      <th>sq</th>\n",
       "      <th>ts</th>\n",
       "      <th>vc</th>\n",
       "    </tr>\n",
       "  </thead>\n",
       "  <tbody>\n",
       "    <tr>\n",
       "      <th>0</th>\n",
       "      <td>2007-05-29</td>\n",
       "      <td>41.954690</td>\n",
       "      <td>-87.800991</td>\n",
       "      <td>0</td>\n",
       "      <td>1</td>\n",
       "      <td>0</td>\n",
       "      <td>0</td>\n",
       "      <td>0</td>\n",
       "      <td>1.0</td>\n",
       "      <td>87.0</td>\n",
       "      <td>...</td>\n",
       "      <td>0</td>\n",
       "      <td>0</td>\n",
       "      <td>0</td>\n",
       "      <td>0</td>\n",
       "      <td>0</td>\n",
       "      <td>0</td>\n",
       "      <td>0</td>\n",
       "      <td>0</td>\n",
       "      <td>0</td>\n",
       "      <td>0</td>\n",
       "    </tr>\n",
       "    <tr>\n",
       "      <th>1</th>\n",
       "      <td>2007-05-29</td>\n",
       "      <td>41.954690</td>\n",
       "      <td>-87.800991</td>\n",
       "      <td>0</td>\n",
       "      <td>0</td>\n",
       "      <td>1</td>\n",
       "      <td>0</td>\n",
       "      <td>0</td>\n",
       "      <td>1.0</td>\n",
       "      <td>87.0</td>\n",
       "      <td>...</td>\n",
       "      <td>0</td>\n",
       "      <td>0</td>\n",
       "      <td>0</td>\n",
       "      <td>0</td>\n",
       "      <td>0</td>\n",
       "      <td>0</td>\n",
       "      <td>0</td>\n",
       "      <td>0</td>\n",
       "      <td>0</td>\n",
       "      <td>0</td>\n",
       "    </tr>\n",
       "    <tr>\n",
       "      <th>2</th>\n",
       "      <td>2007-05-29</td>\n",
       "      <td>41.994991</td>\n",
       "      <td>-87.769279</td>\n",
       "      <td>0</td>\n",
       "      <td>0</td>\n",
       "      <td>1</td>\n",
       "      <td>0</td>\n",
       "      <td>0</td>\n",
       "      <td>1.0</td>\n",
       "      <td>87.0</td>\n",
       "      <td>...</td>\n",
       "      <td>0</td>\n",
       "      <td>0</td>\n",
       "      <td>0</td>\n",
       "      <td>0</td>\n",
       "      <td>0</td>\n",
       "      <td>0</td>\n",
       "      <td>0</td>\n",
       "      <td>0</td>\n",
       "      <td>0</td>\n",
       "      <td>0</td>\n",
       "    </tr>\n",
       "    <tr>\n",
       "      <th>3</th>\n",
       "      <td>2007-05-29</td>\n",
       "      <td>41.974089</td>\n",
       "      <td>-87.824812</td>\n",
       "      <td>0</td>\n",
       "      <td>1</td>\n",
       "      <td>0</td>\n",
       "      <td>0</td>\n",
       "      <td>0</td>\n",
       "      <td>1.0</td>\n",
       "      <td>87.0</td>\n",
       "      <td>...</td>\n",
       "      <td>0</td>\n",
       "      <td>0</td>\n",
       "      <td>0</td>\n",
       "      <td>0</td>\n",
       "      <td>0</td>\n",
       "      <td>0</td>\n",
       "      <td>0</td>\n",
       "      <td>0</td>\n",
       "      <td>0</td>\n",
       "      <td>0</td>\n",
       "    </tr>\n",
       "    <tr>\n",
       "      <th>4</th>\n",
       "      <td>2007-05-29</td>\n",
       "      <td>41.974089</td>\n",
       "      <td>-87.824812</td>\n",
       "      <td>0</td>\n",
       "      <td>0</td>\n",
       "      <td>1</td>\n",
       "      <td>0</td>\n",
       "      <td>0</td>\n",
       "      <td>1.0</td>\n",
       "      <td>87.0</td>\n",
       "      <td>...</td>\n",
       "      <td>0</td>\n",
       "      <td>0</td>\n",
       "      <td>0</td>\n",
       "      <td>0</td>\n",
       "      <td>0</td>\n",
       "      <td>0</td>\n",
       "      <td>0</td>\n",
       "      <td>0</td>\n",
       "      <td>0</td>\n",
       "      <td>0</td>\n",
       "    </tr>\n",
       "  </tbody>\n",
       "</table>\n",
       "<p>5 rows × 38 columns</p>\n",
       "</div>"
      ],
      "text/plain": [
       "         Date   Latitude  Longitude  Species_CULEX PIPIENS  \\\n",
       "0  2007-05-29  41.954690 -87.800991                      0   \n",
       "1  2007-05-29  41.954690 -87.800991                      0   \n",
       "2  2007-05-29  41.994991 -87.769279                      0   \n",
       "3  2007-05-29  41.974089 -87.824812                      0   \n",
       "4  2007-05-29  41.974089 -87.824812                      0   \n",
       "\n",
       "   Species_CULEX PIPIENS/RESTUANS  Species_CULEX RESTUANS  WnvPresent  \\\n",
       "0                               1                       0           0   \n",
       "1                               0                       1           0   \n",
       "2                               0                       1           0   \n",
       "3                               1                       0           0   \n",
       "4                               0                       1           0   \n",
       "\n",
       "   Sprayed  Avg Pos Dist  Tmax  ...  fg+  fu  gr  hz  mi  ra  sn  sq  ts  vc  \n",
       "0        0           1.0  87.0  ...    0   0   0   0   0   0   0   0   0   0  \n",
       "1        0           1.0  87.0  ...    0   0   0   0   0   0   0   0   0   0  \n",
       "2        0           1.0  87.0  ...    0   0   0   0   0   0   0   0   0   0  \n",
       "3        0           1.0  87.0  ...    0   0   0   0   0   0   0   0   0   0  \n",
       "4        0           1.0  87.0  ...    0   0   0   0   0   0   0   0   0   0  \n",
       "\n",
       "[5 rows x 38 columns]"
      ]
     },
     "execution_count": 3,
     "metadata": {},
     "output_type": "execute_result"
    }
   ],
   "source": [
    "merged_train.head()"
   ]
  },
  {
   "cell_type": "code",
   "execution_count": 4,
   "metadata": {},
   "outputs": [
    {
     "data": {
      "text/plain": [
       "(8304, 38)"
      ]
     },
     "execution_count": 4,
     "metadata": {},
     "output_type": "execute_result"
    }
   ],
   "source": [
    "merged_train.shape"
   ]
  },
  {
   "cell_type": "code",
   "execution_count": 5,
   "metadata": {},
   "outputs": [
    {
     "data": {
      "text/plain": [
       "Index(['Date', 'Latitude', 'Longitude', 'Species_CULEX PIPIENS',\n",
       "       'Species_CULEX PIPIENS/RESTUANS', 'Species_CULEX RESTUANS',\n",
       "       'WnvPresent', 'Sprayed', 'Avg Pos Dist', 'Tmax', 'Tmin', 'Tavg',\n",
       "       'DewPoint', 'WetBulb', 'Heat', 'Cool', 'PrecipTotal', 'StnPressure',\n",
       "       'SeaLevel', 'ResultSpeed', 'ResultDir', 'AvgSpeed', 'Sunrise', 'Sunset',\n",
       "       'bc', 'br', 'dz', 'fg', 'fg+', 'fu', 'gr', 'hz', 'mi', 'ra', 'sn', 'sq',\n",
       "       'ts', 'vc'],\n",
       "      dtype='object')"
      ]
     },
     "execution_count": 5,
     "metadata": {},
     "output_type": "execute_result"
    }
   ],
   "source": [
    "merged_train.columns"
   ]
  },
  {
   "cell_type": "code",
   "execution_count": 6,
   "metadata": {},
   "outputs": [
    {
     "data": {
      "text/html": [
       "<div>\n",
       "<style scoped>\n",
       "    .dataframe tbody tr th:only-of-type {\n",
       "        vertical-align: middle;\n",
       "    }\n",
       "\n",
       "    .dataframe tbody tr th {\n",
       "        vertical-align: top;\n",
       "    }\n",
       "\n",
       "    .dataframe thead th {\n",
       "        text-align: right;\n",
       "    }\n",
       "</style>\n",
       "<table border=\"1\" class=\"dataframe\">\n",
       "  <thead>\n",
       "    <tr style=\"text-align: right;\">\n",
       "      <th></th>\n",
       "      <th>date</th>\n",
       "      <th>latitude</th>\n",
       "      <th>longitude</th>\n",
       "      <th>species_culex pipiens</th>\n",
       "      <th>species_culex pipiens/restuans</th>\n",
       "      <th>species_culex restuans</th>\n",
       "      <th>wnvpresent</th>\n",
       "      <th>sprayed</th>\n",
       "      <th>avg pos dist</th>\n",
       "      <th>tmax</th>\n",
       "      <th>...</th>\n",
       "      <th>fg+</th>\n",
       "      <th>fu</th>\n",
       "      <th>gr</th>\n",
       "      <th>hz</th>\n",
       "      <th>mi</th>\n",
       "      <th>ra</th>\n",
       "      <th>sn</th>\n",
       "      <th>sq</th>\n",
       "      <th>ts</th>\n",
       "      <th>vc</th>\n",
       "    </tr>\n",
       "  </thead>\n",
       "  <tbody>\n",
       "    <tr>\n",
       "      <th>0</th>\n",
       "      <td>2007-05-29</td>\n",
       "      <td>41.95469</td>\n",
       "      <td>-87.800991</td>\n",
       "      <td>0</td>\n",
       "      <td>1</td>\n",
       "      <td>0</td>\n",
       "      <td>0</td>\n",
       "      <td>0</td>\n",
       "      <td>1.0</td>\n",
       "      <td>87.0</td>\n",
       "      <td>...</td>\n",
       "      <td>0</td>\n",
       "      <td>0</td>\n",
       "      <td>0</td>\n",
       "      <td>0</td>\n",
       "      <td>0</td>\n",
       "      <td>0</td>\n",
       "      <td>0</td>\n",
       "      <td>0</td>\n",
       "      <td>0</td>\n",
       "      <td>0</td>\n",
       "    </tr>\n",
       "    <tr>\n",
       "      <th>1</th>\n",
       "      <td>2007-05-29</td>\n",
       "      <td>41.95469</td>\n",
       "      <td>-87.800991</td>\n",
       "      <td>0</td>\n",
       "      <td>0</td>\n",
       "      <td>1</td>\n",
       "      <td>0</td>\n",
       "      <td>0</td>\n",
       "      <td>1.0</td>\n",
       "      <td>87.0</td>\n",
       "      <td>...</td>\n",
       "      <td>0</td>\n",
       "      <td>0</td>\n",
       "      <td>0</td>\n",
       "      <td>0</td>\n",
       "      <td>0</td>\n",
       "      <td>0</td>\n",
       "      <td>0</td>\n",
       "      <td>0</td>\n",
       "      <td>0</td>\n",
       "      <td>0</td>\n",
       "    </tr>\n",
       "  </tbody>\n",
       "</table>\n",
       "<p>2 rows × 38 columns</p>\n",
       "</div>"
      ],
      "text/plain": [
       "         date  latitude  longitude  species_culex pipiens  \\\n",
       "0  2007-05-29  41.95469 -87.800991                      0   \n",
       "1  2007-05-29  41.95469 -87.800991                      0   \n",
       "\n",
       "   species_culex pipiens/restuans  species_culex restuans  wnvpresent  \\\n",
       "0                               1                       0           0   \n",
       "1                               0                       1           0   \n",
       "\n",
       "   sprayed  avg pos dist  tmax  ...  fg+  fu  gr  hz  mi  ra  sn  sq  ts  vc  \n",
       "0        0           1.0  87.0  ...    0   0   0   0   0   0   0   0   0   0  \n",
       "1        0           1.0  87.0  ...    0   0   0   0   0   0   0   0   0   0  \n",
       "\n",
       "[2 rows x 38 columns]"
      ]
     },
     "execution_count": 6,
     "metadata": {},
     "output_type": "execute_result"
    }
   ],
   "source": [
    "merged_train.columns = [_.lower() for _ in merged_train.columns]\n",
    "merged_train.head(2)"
   ]
  },
  {
   "cell_type": "code",
   "execution_count": 7,
   "metadata": {},
   "outputs": [
    {
     "data": {
      "text/plain": [
       "0    7847\n",
       "1     457\n",
       "Name: wnvpresent, dtype: int64"
      ]
     },
     "execution_count": 7,
     "metadata": {},
     "output_type": "execute_result"
    }
   ],
   "source": [
    "merged_train['wnvpresent'].value_counts()"
   ]
  },
  {
   "cell_type": "code",
   "execution_count": 8,
   "metadata": {},
   "outputs": [],
   "source": [
    "from sklearn.model_selection import train_test_split, cross_val_score, KFold, GridSearchCV\n",
    "from sklearn.svm import SVC \n",
    "from sklearn.preprocessing import StandardScaler\n",
    "from sklearn.metrics import accuracy_score,recall_score, precision_score, roc_auc_score\n",
    "from sklearn.metrics import confusion_matrix, plot_confusion_matrix, classification_report\n",
    "from sklearn.linear_model import LogisticRegression\n",
    "from imblearn.pipeline import Pipeline, make_pipeline\n",
    "from imblearn.over_sampling import SMOTE"
   ]
  },
  {
   "cell_type": "code",
   "execution_count": 9,
   "metadata": {},
   "outputs": [
    {
     "name": "stdout",
     "output_type": "stream",
     "text": [
      "['latitude', 'longitude', 'species_culex pipiens', 'species_culex pipiens/restuans', 'species_culex restuans', 'sprayed', 'avg pos dist', 'tmax', 'tmin', 'tavg', 'dewpoint', 'wetbulb', 'heat', 'cool', 'preciptotal', 'stnpressure', 'sealevel', 'resultspeed', 'resultdir', 'avgspeed', 'sunrise', 'sunset', 'bc', 'br', 'dz', 'fg', 'fg+', 'fu', 'gr', 'hz', 'mi', 'ra', 'sn', 'sq', 'ts', 'vc']\n"
     ]
    }
   ],
   "source": [
    "features = [col for col in merged_train.columns if (col!= 'wnvpresent' and col!= 'date')]\n",
    "print(features)"
   ]
  },
  {
   "cell_type": "markdown",
   "metadata": {},
   "source": [
    "## Pre-processing"
   ]
  },
  {
   "cell_type": "code",
   "execution_count": 10,
   "metadata": {},
   "outputs": [],
   "source": [
    "X = merged_train[features]\n",
    "y = merged_train['wnvpresent']\n",
    "\n",
    "# Train/Test Split.\n",
    "X_train, X_test, y_train, y_test = train_test_split(X,y, random_state=42, test_size=0.25,stratify=y)\n",
    "\n",
    "ss = StandardScaler()\n",
    "X_train_s = ss.fit_transform(X_train)\n",
    "X_test_s = ss.transform(X_test)"
   ]
  },
  {
   "cell_type": "markdown",
   "metadata": {},
   "source": [
    "### Using SMOTE +SVM + Gridsearch"
   ]
  },
  {
   "cell_type": "code",
   "execution_count": 11,
   "metadata": {},
   "outputs": [
    {
     "name": "stdout",
     "output_type": "stream",
     "text": [
      "0    7847\n",
      "1     457\n",
      "Name: wnvpresent, dtype: int64\n",
      "1    5885\n",
      "0    5885\n",
      "Name: wnvpresent, dtype: int64\n"
     ]
    }
   ],
   "source": [
    "# First, look at initial value counts\n",
    "print(y.value_counts())\n",
    "\n",
    "# Start SMOTE instance\n",
    "#over = SMOTE(sampling_strategy=0.2)\n",
    "#under = RandomUnderSampler(sampling_strategy=0.5)\n",
    "\n",
    "#steps = [('o', over), ('u', under)]\n",
    "#pipeline = Pipeline(steps=steps)\n",
    "\n",
    "smote = SMOTE(random_state=42)\n",
    "\n",
    "# Apply SMOTE to X_train and y_train\n",
    "X_resampled, y_resampled =smote.fit_resample(X_train_s, y_train) \n",
    "\n",
    "# Look at your new, resampled value counts - should be equal!\n",
    "print(pd.Series(y_resampled).value_counts())"
   ]
  },
  {
   "cell_type": "code",
   "execution_count": 12,
   "metadata": {},
   "outputs": [
    {
     "name": "stderr",
     "output_type": "stream",
     "text": [
      "[Parallel(n_jobs=-1)]: Using backend LokyBackend with 8 concurrent workers.\n",
      "[Parallel(n_jobs=-1)]: Done  60 out of  60 | elapsed:  1.9min finished\n"
     ]
    },
    {
     "name": "stdout",
     "output_type": "stream",
     "text": [
      "train accuracy score: 0.7906229929351317\n",
      "test accuracy score: 0.7967244701348748\n",
      "test recall score: 0.5175438596491229\n",
      "auc_roc score: 0.7749812221685712\n"
     ]
    }
   ],
   "source": [
    "svc_params = {\n",
    "    'kernel':['poly','rbf'],\n",
    "    'degree':[2,3,4],\n",
    "    'C':[0.01,0.1]\n",
    "}\n",
    "\n",
    "\n",
    "svc_gridsearch = GridSearchCV(SVC(kernel='rbf',random_state=42,probability=True,class_weight= 'balanced'),\n",
    "                              svc_params, scoring='accuracy',\n",
    "                              cv=5, verbose=-1, n_jobs=-1)\n",
    "\n",
    "\n",
    "svc_gridsearch.fit(X_train_s, y_train)\n",
    "\n",
    "train_pred = svc_gridsearch.predict(X_train_s)\n",
    "test_pred = svc_gridsearch.predict(X_test_s)\n",
    "\n",
    "print(f'train accuracy score: {accuracy_score(y_train,train_pred)}')\n",
    "print(f'test accuracy score: {accuracy_score(y_test,test_pred)}')\n",
    "print(f'test recall score: {recall_score(y_test,test_pred)}')\n",
    "\n",
    "\n",
    "\n",
    "\n",
    "svc_predict_proba = svc_gridsearch.predict_proba(X_test_s)\n",
    "svc_pb_class1 = [ele[1] for ele in svc_predict_proba]\n",
    "\n",
    "\n",
    "print(f'auc_roc score: {roc_auc_score(y_test,svc_pb_class1)}')"
   ]
  },
  {
   "cell_type": "code",
   "execution_count": 13,
   "metadata": {},
   "outputs": [
    {
     "data": {
      "image/png": "[encoded data removed]",
      "text/plain": [
       "<Figure size 432x288 with 2 Axes>"
      ]
     },
     "metadata": {
      "needs_background": "light"
     },
     "output_type": "display_data"
    }
   ],
   "source": [
    "plot_confusion_matrix(svc_gridsearch, X_test_s, y_test,\n",
    "                      values_format = 'd',\n",
    "                      display_labels = [\"WNV Absent \",\"WNV Present\"],\n",
    "                     cmap='copper')\n",
    "\n",
    "plt.grid(False)\n",
    "plt.show()"
   ]
  },
  {
   "cell_type": "markdown",
   "metadata": {},
   "source": [
    "## SVM + ADASYN"
   ]
  },
  {
   "cell_type": "code",
   "execution_count": 14,
   "metadata": {},
   "outputs": [
    {
     "name": "stdout",
     "output_type": "stream",
     "text": [
      "1    5894\n",
      "0    5885\n",
      "Name: wnvpresent, dtype: int64\n"
     ]
    }
   ],
   "source": [
    "# Import the ADASYN package from the imblearn library\n",
    "from imblearn.over_sampling import ADASYN\n",
    "\n",
    "# Start your ADASYN instance\n",
    "adasyn = ADASYN(random_state=42)\n",
    "\n",
    "# Apply ADASYN to your data, some previously defined X and y\n",
    "X_resampled, y_resampled = adasyn.fit_resample(X_train_s, y_train)\n",
    "print(pd.Series(y_resampled).value_counts())"
   ]
  },
  {
   "cell_type": "code",
   "execution_count": 15,
   "metadata": {},
   "outputs": [
    {
     "name": "stdout",
     "output_type": "stream",
     "text": [
      "train accuracy score: 0.7400449582530507\n",
      "test accuracy score: 0.7235067437379576\n",
      "test recall score: 0.8070175438596491\n",
      "auc_roc score: 0.8266850868251159\n"
     ]
    }
   ],
   "source": [
    "svc_adaysn = SVC(probability=True)\n",
    "svc_adaysn.fit(X_resampled, y_resampled)\n",
    "\n",
    "train_pred = svc_adaysn.predict(X_train_s)\n",
    "test_pred = svc_adaysn.predict(X_test_s)\n",
    "\n",
    "print(f'train accuracy score: {accuracy_score(y_train,train_pred)}')\n",
    "print(f'test accuracy score: {accuracy_score(y_test,test_pred)}')\n",
    "print(f'test recall score: {recall_score(y_test,test_pred)}')\n",
    "\n",
    "\n",
    "svc_predict_proba = svc_adaysn.predict_proba(X_test_s)\n",
    "svc_pb_class1 = [ele[1] for ele in svc_predict_proba]\n",
    "\n",
    "print(f'auc_roc score: {roc_auc_score(y_test,svc_pb_class1)}')"
   ]
  },
  {
   "cell_type": "markdown",
   "metadata": {},
   "source": [
    "## SVM + Class Weight Balanced "
   ]
  },
  {
   "cell_type": "code",
   "execution_count": 16,
   "metadata": {},
   "outputs": [
    {
     "name": "stdout",
     "output_type": "stream",
     "text": [
      "train accuracy score: 0.7291265253692999\n",
      "test accuracy score: 0.720616570327553\n",
      "test recall score: 0.8421052631578947\n",
      "auc_roc score: 0.8400911171915518\n"
     ]
    }
   ],
   "source": [
    "svc_balanced = SVC(class_weight='balanced',random_state=42,probability=True)\n",
    "svc_balanced.fit(X_train_s, y_train)\n",
    "\n",
    "train_pred = svc_balanced.predict(X_train_s)\n",
    "test_pred = svc_balanced.predict(X_test_s)\n",
    "\n",
    "print(f'train accuracy score: {accuracy_score(y_train,train_pred)}')\n",
    "print(f'test accuracy score: {accuracy_score(y_test,test_pred)}')\n",
    "print(f'test recall score: {recall_score(y_test,test_pred)}')\n",
    "\n",
    "\n",
    "svc_predict_proba = svc_balanced.predict_proba(X_test_s)\n",
    "svc_pb_class1 = [ele[1] for ele in svc_predict_proba]\n",
    "\n",
    "print(f'auc_roc score: {roc_auc_score(y_test,svc_pb_class1)}')"
   ]
  },
  {
   "cell_type": "markdown",
   "metadata": {},
   "source": [
    "# Logistic Regression"
   ]
  },
  {
   "cell_type": "markdown",
   "metadata": {},
   "source": [
    "### Logreg + Class Weight Balanced"
   ]
  },
  {
   "cell_type": "code",
   "execution_count": 17,
   "metadata": {},
   "outputs": [
    {
     "name": "stderr",
     "output_type": "stream",
     "text": [
      "[Parallel(n_jobs=-1)]: Using backend LokyBackend with 8 concurrent workers.\n",
      "[Parallel(n_jobs=-1)]: Done  45 out of  60 | elapsed:    2.5s remaining:    0.8s\n"
     ]
    },
    {
     "name": "stdout",
     "output_type": "stream",
     "text": [
      "test recall score: 0.8333333333333334\n",
      "train accuracy score:0.6101477199743096\n",
      "test accuracy score:0.6021194605009634\n",
      "auc_roc score: 0.7879602804156159\n"
     ]
    },
    {
     "name": "stderr",
     "output_type": "stream",
     "text": [
      "[Parallel(n_jobs=-1)]: Done  60 out of  60 | elapsed:    6.3s finished\n"
     ]
    }
   ],
   "source": [
    "logreg_params = {\n",
    "    'C':[0.01,0.1,1,10],\n",
    "    'penalty':['l1', 'l2', 'elasticnet']\n",
    "}\n",
    "\n",
    "\n",
    "logreg_balanced = GridSearchCV(LogisticRegression(random_state=42,solver='liblinear',max_iter=10000,\n",
    "                                                  class_weight= 'balanced'),logreg_params, scoring='recall',\n",
    "                                                  cv=5, verbose=-1, n_jobs=-1)\n",
    "logreg_balanced.fit(X_train_s,y_train)\n",
    "\n",
    "\n",
    "train_pred = logreg_balanced.predict(X_train_s)\n",
    "test_pred = logreg_balanced.predict(X_test_s)\n",
    "\n",
    "\n",
    "print(f'test recall score: {recall_score(y_test,test_pred)}')\n",
    "print(f'train accuracy score:{accuracy_score(y_train,train_pred)}')\n",
    "print(f'test accuracy score:{accuracy_score(y_test,test_pred)}')\n",
    "\n",
    "\n",
    "predict_proba = logreg_balanced.predict_proba(X_test_s)\n",
    "pb_class1 = [ele[1] for ele in predict_proba]\n",
    "\n",
    "print(f'auc_roc score: {roc_auc_score(y_test,pb_class1)}')"
   ]
  },
  {
   "cell_type": "markdown",
   "metadata": {},
   "source": [
    "### Logreg Pipeline with SMOTE"
   ]
  },
  {
   "cell_type": "code",
   "execution_count": 18,
   "metadata": {},
   "outputs": [],
   "source": [
    "logreg_pipeline = make_pipeline(SMOTE(random_state=42), \n",
    "                              LogisticRegression(random_state=42,solver='liblinear', max_iter=10000))\n"
   ]
  },
  {
   "cell_type": "markdown",
   "metadata": {},
   "source": [
    "### Logistic Regression + SMOTE"
   ]
  },
  {
   "cell_type": "code",
   "execution_count": 19,
   "metadata": {},
   "outputs": [
    {
     "name": "stderr",
     "output_type": "stream",
     "text": [
      "[Parallel(n_jobs=-1)]: Using backend LokyBackend with 8 concurrent workers.\n"
     ]
    },
    {
     "name": "stdout",
     "output_type": "stream",
     "text": [
      "Fitting 5 folds for each of 12 candidates, totalling 60 fits\n"
     ]
    },
    {
     "name": "stderr",
     "output_type": "stream",
     "text": [
      "[Parallel(n_jobs=-1)]: Done  34 tasks      | elapsed:    4.9s\n",
      "[Parallel(n_jobs=-1)]: Done  60 out of  60 | elapsed:   13.0s finished\n"
     ]
    },
    {
     "name": "stdout",
     "output_type": "stream",
     "text": [
      "test recall score: 0.8508771929824561\n",
      "train accuracy score:0.7419717405266538\n",
      "test accuracy score:0.7442196531791907\n",
      "auc_roc score: 0.8561193375896419\n"
     ]
    }
   ],
   "source": [
    "logreg_params = {\n",
    "    'logisticregression__C':[0.01,0.1,1,10],\n",
    "    'logisticregression__penalty': ['l1', 'l2', 'elasticnet']\n",
    "}\n",
    "\n",
    "logreg_smote = GridSearchCV(logreg_pipeline, param_grid=logreg_params, cv=5, scoring='accuracy',verbose=True,n_jobs=-1)\n",
    "\n",
    "logreg_smote.fit(X_train_s,y_train)\n",
    "train_pred = logreg_smote.predict(X_train_s)\n",
    "test_pred = logreg_smote.predict(X_test_s)\n",
    "\n",
    "print(f'test recall score: {recall_score(y_test,test_pred)}')\n",
    "print(f'train accuracy score:{accuracy_score(y_train,train_pred)}')\n",
    "print(f'test accuracy score:{accuracy_score(y_test,test_pred)}')\n",
    "\n",
    "predict_proba = logreg_smote.predict_proba(X_test_s)\n",
    "pb_class1 = [ele[1] for ele in predict_proba]\n",
    "\n",
    "print(f'auc_roc score: {roc_auc_score(y_test,pb_class1)}')"
   ]
  },
  {
   "cell_type": "code",
   "execution_count": 20,
   "metadata": {},
   "outputs": [
    {
     "data": {
      "text/plain": [
       "{'logisticregression__C': 10, 'logisticregression__penalty': 'l1'}"
      ]
     },
     "execution_count": 20,
     "metadata": {},
     "output_type": "execute_result"
    }
   ],
   "source": [
    "logreg_smote.best_params_"
   ]
  },
  {
   "cell_type": "code",
   "execution_count": 21,
   "metadata": {},
   "outputs": [
    {
     "name": "stdout",
     "output_type": "stream",
     "text": [
      "test recall score: 0.868421052631579\n",
      "train accuracy score:0.73747591522158\n",
      "test accuracy score:0.7398843930635838\n",
      "auc_roc score: 0.8547870057406514\n"
     ]
    }
   ],
   "source": [
    "best_log_reg = LogisticRegression(solver='liblinear',max_iter=10000,random_state=42,penalty='l1',C=10)\n",
    "best_log_reg.fit(X_resampled,y_resampled)\n",
    "\n",
    "train_pred = best_log_reg.predict(X_train_s)\n",
    "test_pred = best_log_reg.predict(X_test_s)\n",
    "\n",
    "print(f'test recall score: {recall_score(y_test,test_pred)}')\n",
    "print(f'train accuracy score:{accuracy_score(y_train,train_pred)}')\n",
    "print(f'test accuracy score:{accuracy_score(y_test,test_pred)}')\n",
    "\n",
    "predict_proba = best_log_reg.predict_proba(X_test_s)\n",
    "pb_class1 = [ele[1] for ele in predict_proba]\n",
    "\n",
    "print(f'auc_roc score: {roc_auc_score(y_test,pb_class1)}')"
   ]
  },
  {
   "cell_type": "markdown",
   "metadata": {},
   "source": [
    "## Trying out different Classifiers"
   ]
  },
  {
   "cell_type": "code",
   "execution_count": 22,
   "metadata": {},
   "outputs": [],
   "source": [
    "from sklearn.neighbors import KNeighborsClassifier\n",
    "from sklearn.ensemble import RandomForestClassifier, VotingClassifier\n",
    "from sklearn.naive_bayes import GaussianNB"
   ]
  },
  {
   "cell_type": "code",
   "execution_count": 23,
   "metadata": {},
   "outputs": [],
   "source": [
    "X_train_s = pd.DataFrame(X_train_s)\n",
    "kf = KFold(n_splits=5,shuffle=False)\n",
    "default_params = {'random_state': 42}\n",
    "\n",
    "def score_model(model, params,cv=None):\n",
    "    \"\"\"\n",
    "    Creates folds manually, and upsamples within each fold.\n",
    "    Returns an array of validation (recall) scores\n",
    "    \"\"\"\n",
    "    if cv is None:\n",
    "        cv = KFold(n_splits=5)\n",
    "\n",
    "    smoter = SMOTE(random_state=42)\n",
    "    \n",
    "    scores = []\n",
    "\n",
    "    for train_index, val_index in list(kf.split(X_train,y_train)):\n",
    "        X_train_fold = X_train_s.values[train_index,:]\n",
    "        y_train_fold = y_train.values[train_index]\n",
    "    \n",
    "        X_val_fold = X_train_s.values[val_index,:]\n",
    "        y_val_fold = y_train.values[val_index]\n",
    "        \n",
    "    \n",
    "        # Upsample only the data in the training section\n",
    "        X_train_fold_upsample, y_train_fold_upsample = smoter.fit_resample(X_train_fold,\n",
    "                                                                           y_train_fold)\n",
    "        # Fit the model on the upsampled training data\n",
    "        model_obj = model(**params).fit(X_train_fold_upsample, y_train_fold_upsample)\n",
    "        # Score the model on the (non-upsampled) validation data\n",
    "        score = accuracy_score(y_val_fold, model_obj.predict(X_val_fold))\n",
    "        scores.append(score)\n",
    "    return np.array(scores)"
   ]
  },
  {
   "cell_type": "markdown",
   "metadata": {},
   "source": [
    "Support Vector CV Recall: 0.6565362220957315\n",
    "Logreg CV Recall: 0.6908698232271785\n",
    "KNN CV Recall: 0.5199707973839747\n",
    "Random Forest CV Recall: 0.3036756731617313\n",
    "Gaussian NB CV Recall: 0.8203540628554551"
   ]
  },
  {
   "cell_type": "code",
   "execution_count": 24,
   "metadata": {},
   "outputs": [
    {
     "name": "stdout",
     "output_type": "stream",
     "text": [
      "svc_cv_accuracy score: [0.75842697 0.74959872 0.73595506 0.74698795 0.74859438]\n",
      "logreg_cv_accuracy score: [0.70545746 0.70224719 0.68138042 0.69959839 0.70361446]\n",
      "knn_cv_accuracy score: [0.84269663 0.83547352 0.82423756 0.80883534 0.82248996]\n",
      "rf_cv_accuracy score: [0.89967897 0.90288925 0.89566613 0.89477912 0.89156627]\n",
      "nb_accuracy score: [0.24398074 0.26404494 0.26243981 0.23614458 0.25381526]\n"
     ]
    }
   ],
   "source": [
    "print(f'svc_cv_accuracy score: {score_model(SVC, default_params, cv=kf)}')\n",
    "\n",
    "\n",
    "lr_params = {'max_iter':10000,\n",
    "                  'solver':'liblinear',\n",
    "                 'random_state': 42\n",
    "    }\n",
    "\n",
    "general_params = {\n",
    "    }\n",
    "print(f'logreg_cv_accuracy score: {score_model(LogisticRegression, lr_params, cv=kf)}')\n",
    "print(f'knn_cv_accuracy score: {score_model(KNeighborsClassifier, general_params, cv=kf)}')\n",
    "print(f'rf_cv_accuracy score: {score_model(RandomForestClassifier, default_params, cv=kf)}')\n",
    "print(f'nb_accuracy score: {score_model(GaussianNB, general_params, cv=kf)}')"
   ]
  },
  {
   "cell_type": "code",
   "execution_count": 25,
   "metadata": {},
   "outputs": [],
   "source": [
    "X_train_s = pd.DataFrame(X_train_s)\n",
    "kf = KFold(n_splits=5,shuffle=False)\n",
    "default_params = {'random_state': 42}\n",
    "\n",
    "def score_model(model, params,cv=None):\n",
    "    \"\"\"\n",
    "    Creates folds manually, and upsamples within each fold.\n",
    "    Returns an array of validation (recall) scores\n",
    "    \"\"\"\n",
    "    if cv is None:\n",
    "        cv = KFold(n_splits=5)\n",
    "\n",
    "    smoter = SMOTE(random_state=42)\n",
    "    \n",
    "    scores = []\n",
    "\n",
    "    for train_index, val_index in list(kf.split(X_train,y_train)):\n",
    "        X_train_fold = X_train_s.values[train_index,:]\n",
    "        y_train_fold = y_train.values[train_index]\n",
    "    \n",
    "        X_val_fold = X_train_s.values[val_index,:]\n",
    "        y_val_fold = y_train.values[val_index]\n",
    "        \n",
    "    \n",
    "        # Upsample only the data in the training section\n",
    "        X_train_fold_upsample, y_train_fold_upsample = smoter.fit_resample(X_train_fold,\n",
    "                                                                           y_train_fold)\n",
    "        # Fit the model on the upsampled training data\n",
    "        model_obj = model(**params).fit(X_train_fold_upsample, y_train_fold_upsample)\n",
    "        # Score the model on the (non-upsampled) validation data\n",
    "        score = recall_score(y_val_fold, model_obj.predict(X_val_fold))\n",
    "        scores.append(score)\n",
    "    return np.array(scores)"
   ]
  },
  {
   "cell_type": "code",
   "execution_count": 26,
   "metadata": {},
   "outputs": [
    {
     "name": "stdout",
     "output_type": "stream",
     "text": [
      "svc_cv_recall score: [0.73529412 0.79032258 0.70588235 0.80555556 0.79452055]\n",
      "logreg_cv_recall score: [0.79411765 0.74193548 0.75       0.84722222 0.80821918]\n",
      "knn_cv_recall score: [0.44117647 0.56451613 0.39705882 0.52777778 0.36986301]\n",
      "rf_cv_recallscore: [0.26470588 0.38709677 0.19117647 0.26388889 0.24657534]\n",
      "nb_recall score: [0.98529412 0.96774194 0.98529412 0.98611111 0.95890411]\n"
     ]
    }
   ],
   "source": [
    "print(f'svc_cv_recall score: {score_model(SVC, default_params, cv=kf)}')\n",
    "\n",
    "\n",
    "lr_params = {'max_iter':10000,\n",
    "                  'solver':'liblinear',\n",
    "                 'random_state': 42\n",
    "    }\n",
    "\n",
    "general_params = {\n",
    "    }\n",
    "print(f'logreg_cv_recall score: {score_model(LogisticRegression, lr_params, cv=kf)}')\n",
    "print(f'knn_cv_recall score: {score_model(KNeighborsClassifier, general_params, cv=kf)}')\n",
    "print(f'rf_cv_recallscore: {score_model(RandomForestClassifier, default_params, cv=kf)}')\n",
    "print(f'nb_recall score: {score_model(GaussianNB, general_params, cv=kf)}')"
   ]
  },
  {
   "cell_type": "code",
   "execution_count": 27,
   "metadata": {},
   "outputs": [],
   "source": [
    "vote = VotingClassifier([\n",
    "    ('tree', RandomForestClassifier(random_state=42)),\n",
    "    ('nb', GaussianNB()),\n",
    "    ('svm', SVC(random_state=42)),\n",
    "    ('knn',KNeighborsClassifier()),\n",
    "    ('lr',LogisticRegression(max_iter=10000,solver='liblinear',random_state=42))\n",
    "])"
   ]
  },
  {
   "cell_type": "code",
   "execution_count": 28,
   "metadata": {},
   "outputs": [
    {
     "data": {
      "text/plain": [
       "VotingClassifier(estimators=[('tree',\n",
       "                              RandomForestClassifier(bootstrap=True,\n",
       "                                                     ccp_alpha=0.0,\n",
       "                                                     class_weight=None,\n",
       "                                                     criterion='gini',\n",
       "                                                     max_depth=None,\n",
       "                                                     max_features='auto',\n",
       "                                                     max_leaf_nodes=None,\n",
       "                                                     max_samples=None,\n",
       "                                                     min_impurity_decrease=0.0,\n",
       "                                                     min_impurity_split=None,\n",
       "                                                     min_samples_leaf=1,\n",
       "                                                     min_samples_split=2,\n",
       "                                                     min_weight_fraction_leaf=0.0,\n",
       "                                                     n_estimators=100,\n",
       "                                                     n_jobs=None,\n",
       "                                                     oob_sco...\n",
       "                                                   n_jobs=None, n_neighbors=5,\n",
       "                                                   p=2, weights='uniform')),\n",
       "                             ('lr',\n",
       "                              LogisticRegression(C=1.0, class_weight=None,\n",
       "                                                 dual=False, fit_intercept=True,\n",
       "                                                 intercept_scaling=1,\n",
       "                                                 l1_ratio=None, max_iter=10000,\n",
       "                                                 multi_class='auto',\n",
       "                                                 n_jobs=None, penalty='l2',\n",
       "                                                 random_state=42,\n",
       "                                                 solver='liblinear', tol=0.0001,\n",
       "                                                 verbose=0,\n",
       "                                                 warm_start=False))],\n",
       "                 flatten_transform=True, n_jobs=None, voting='hard',\n",
       "                 weights=None)"
      ]
     },
     "execution_count": 28,
     "metadata": {},
     "output_type": "execute_result"
    }
   ],
   "source": [
    "vote.fit(X_resampled, y_resampled)"
   ]
  },
  {
   "cell_type": "code",
   "execution_count": 29,
   "metadata": {},
   "outputs": [
    {
     "name": "stdout",
     "output_type": "stream",
     "text": [
      "train accuracy score: 0.7776172125883108\n",
      "test accuracy score: 0.7461464354527938\n",
      "Specificity: 0.743\n",
      "Sensitivity: 0.798\n"
     ]
    }
   ],
   "source": [
    "print(f'train accuracy score: {vote.score(X_train_s,y_train)}')\n",
    "print(f'test accuracy score: {vote.score(X_test_s,y_test)}')\n",
    "\n",
    "\n",
    "pred = vote.predict(X_test_s)\n",
    "accuracy_score(y_test,pred)\n",
    "\n",
    "tn, fp, fn, tp = confusion_matrix(y_test,\n",
    "                                  pred).ravel()\n",
    "\n",
    "#true negatives/all negatives\n",
    "specificity = round(tn/(tn+fp),3)\n",
    "\n",
    "#true positives/all positives\n",
    "sensitivity= round(tp/(tp+fn),3)\n",
    "\n",
    "print(f\"Specificity: {specificity}\")\n",
    "print(f\"Sensitivity: {sensitivity}\")"
   ]
  },
  {
   "cell_type": "markdown",
   "metadata": {},
   "source": [
    "## Kaggle Submission"
   ]
  },
  {
   "cell_type": "code",
   "execution_count": 30,
   "metadata": {},
   "outputs": [],
   "source": [
    "merged_test = pd.read_csv('./input/merged_test_lag_7.csv')"
   ]
  },
  {
   "cell_type": "code",
   "execution_count": 31,
   "metadata": {},
   "outputs": [
    {
     "data": {
      "text/html": [
       "<div>\n",
       "<style scoped>\n",
       "    .dataframe tbody tr th:only-of-type {\n",
       "        vertical-align: middle;\n",
       "    }\n",
       "\n",
       "    .dataframe tbody tr th {\n",
       "        vertical-align: top;\n",
       "    }\n",
       "\n",
       "    .dataframe thead th {\n",
       "        text-align: right;\n",
       "    }\n",
       "</style>\n",
       "<table border=\"1\" class=\"dataframe\">\n",
       "  <thead>\n",
       "    <tr style=\"text-align: right;\">\n",
       "      <th></th>\n",
       "      <th>Id</th>\n",
       "      <th>Date</th>\n",
       "      <th>Latitude</th>\n",
       "      <th>Longitude</th>\n",
       "      <th>Species_CULEX PIPIENS</th>\n",
       "      <th>Species_CULEX PIPIENS/RESTUANS</th>\n",
       "      <th>Species_CULEX RESTUANS</th>\n",
       "      <th>Sprayed</th>\n",
       "      <th>Avg Pos Dist</th>\n",
       "      <th>Tmax</th>\n",
       "      <th>...</th>\n",
       "      <th>fg+</th>\n",
       "      <th>fu</th>\n",
       "      <th>gr</th>\n",
       "      <th>hz</th>\n",
       "      <th>mi</th>\n",
       "      <th>ra</th>\n",
       "      <th>sn</th>\n",
       "      <th>sq</th>\n",
       "      <th>ts</th>\n",
       "      <th>vc</th>\n",
       "    </tr>\n",
       "  </thead>\n",
       "  <tbody>\n",
       "    <tr>\n",
       "      <th>0</th>\n",
       "      <td>1</td>\n",
       "      <td>2008-06-11</td>\n",
       "      <td>41.95469</td>\n",
       "      <td>-87.800991</td>\n",
       "      <td>0</td>\n",
       "      <td>1</td>\n",
       "      <td>0</td>\n",
       "      <td>0</td>\n",
       "      <td>0.014806</td>\n",
       "      <td>78.0</td>\n",
       "      <td>...</td>\n",
       "      <td>1</td>\n",
       "      <td>0</td>\n",
       "      <td>0</td>\n",
       "      <td>1</td>\n",
       "      <td>0</td>\n",
       "      <td>1</td>\n",
       "      <td>0</td>\n",
       "      <td>0</td>\n",
       "      <td>1</td>\n",
       "      <td>0</td>\n",
       "    </tr>\n",
       "    <tr>\n",
       "      <th>1</th>\n",
       "      <td>2</td>\n",
       "      <td>2008-06-11</td>\n",
       "      <td>41.95469</td>\n",
       "      <td>-87.800991</td>\n",
       "      <td>0</td>\n",
       "      <td>0</td>\n",
       "      <td>1</td>\n",
       "      <td>0</td>\n",
       "      <td>0.014806</td>\n",
       "      <td>78.0</td>\n",
       "      <td>...</td>\n",
       "      <td>1</td>\n",
       "      <td>0</td>\n",
       "      <td>0</td>\n",
       "      <td>1</td>\n",
       "      <td>0</td>\n",
       "      <td>1</td>\n",
       "      <td>0</td>\n",
       "      <td>0</td>\n",
       "      <td>1</td>\n",
       "      <td>0</td>\n",
       "    </tr>\n",
       "    <tr>\n",
       "      <th>2</th>\n",
       "      <td>3</td>\n",
       "      <td>2008-06-11</td>\n",
       "      <td>41.95469</td>\n",
       "      <td>-87.800991</td>\n",
       "      <td>1</td>\n",
       "      <td>0</td>\n",
       "      <td>0</td>\n",
       "      <td>0</td>\n",
       "      <td>0.014806</td>\n",
       "      <td>78.0</td>\n",
       "      <td>...</td>\n",
       "      <td>1</td>\n",
       "      <td>0</td>\n",
       "      <td>0</td>\n",
       "      <td>1</td>\n",
       "      <td>0</td>\n",
       "      <td>1</td>\n",
       "      <td>0</td>\n",
       "      <td>0</td>\n",
       "      <td>1</td>\n",
       "      <td>0</td>\n",
       "    </tr>\n",
       "    <tr>\n",
       "      <th>3</th>\n",
       "      <td>4</td>\n",
       "      <td>2008-06-11</td>\n",
       "      <td>41.95469</td>\n",
       "      <td>-87.800991</td>\n",
       "      <td>0</td>\n",
       "      <td>0</td>\n",
       "      <td>0</td>\n",
       "      <td>0</td>\n",
       "      <td>0.014806</td>\n",
       "      <td>78.0</td>\n",
       "      <td>...</td>\n",
       "      <td>1</td>\n",
       "      <td>0</td>\n",
       "      <td>0</td>\n",
       "      <td>1</td>\n",
       "      <td>0</td>\n",
       "      <td>1</td>\n",
       "      <td>0</td>\n",
       "      <td>0</td>\n",
       "      <td>1</td>\n",
       "      <td>0</td>\n",
       "    </tr>\n",
       "    <tr>\n",
       "      <th>4</th>\n",
       "      <td>5</td>\n",
       "      <td>2008-06-11</td>\n",
       "      <td>41.95469</td>\n",
       "      <td>-87.800991</td>\n",
       "      <td>0</td>\n",
       "      <td>0</td>\n",
       "      <td>0</td>\n",
       "      <td>0</td>\n",
       "      <td>0.014806</td>\n",
       "      <td>78.0</td>\n",
       "      <td>...</td>\n",
       "      <td>1</td>\n",
       "      <td>0</td>\n",
       "      <td>0</td>\n",
       "      <td>1</td>\n",
       "      <td>0</td>\n",
       "      <td>1</td>\n",
       "      <td>0</td>\n",
       "      <td>0</td>\n",
       "      <td>1</td>\n",
       "      <td>0</td>\n",
       "    </tr>\n",
       "  </tbody>\n",
       "</table>\n",
       "<p>5 rows × 38 columns</p>\n",
       "</div>"
      ],
      "text/plain": [
       "   Id        Date  Latitude  Longitude  Species_CULEX PIPIENS  \\\n",
       "0   1  2008-06-11  41.95469 -87.800991                      0   \n",
       "1   2  2008-06-11  41.95469 -87.800991                      0   \n",
       "2   3  2008-06-11  41.95469 -87.800991                      1   \n",
       "3   4  2008-06-11  41.95469 -87.800991                      0   \n",
       "4   5  2008-06-11  41.95469 -87.800991                      0   \n",
       "\n",
       "   Species_CULEX PIPIENS/RESTUANS  Species_CULEX RESTUANS  Sprayed  \\\n",
       "0                               1                       0        0   \n",
       "1                               0                       1        0   \n",
       "2                               0                       0        0   \n",
       "3                               0                       0        0   \n",
       "4                               0                       0        0   \n",
       "\n",
       "   Avg Pos Dist  Tmax  ...  fg+  fu  gr  hz  mi  ra  sn  sq  ts  vc  \n",
       "0      0.014806  78.0  ...    1   0   0   1   0   1   0   0   1   0  \n",
       "1      0.014806  78.0  ...    1   0   0   1   0   1   0   0   1   0  \n",
       "2      0.014806  78.0  ...    1   0   0   1   0   1   0   0   1   0  \n",
       "3      0.014806  78.0  ...    1   0   0   1   0   1   0   0   1   0  \n",
       "4      0.014806  78.0  ...    1   0   0   1   0   1   0   0   1   0  \n",
       "\n",
       "[5 rows x 38 columns]"
      ]
     },
     "execution_count": 31,
     "metadata": {},
     "output_type": "execute_result"
    }
   ],
   "source": [
    "merged_test.head()"
   ]
  },
  {
   "cell_type": "code",
   "execution_count": 32,
   "metadata": {},
   "outputs": [],
   "source": [
    "merged_test.columns = [_.lower() for _ in merged_test.columns]"
   ]
  },
  {
   "cell_type": "code",
   "execution_count": 33,
   "metadata": {},
   "outputs": [
    {
     "data": {
      "text/plain": [
       "(116293, 36)"
      ]
     },
     "execution_count": 33,
     "metadata": {},
     "output_type": "execute_result"
    }
   ],
   "source": [
    "X_holdout = merged_test[features]\n",
    "X_holdout_s = ss.transform(X_holdout)\n",
    "X_holdout.shape"
   ]
  },
  {
   "cell_type": "code",
   "execution_count": 34,
   "metadata": {},
   "outputs": [],
   "source": [
    "pred = svc_adaysn.predict(X_holdout_s)"
   ]
  },
  {
   "cell_type": "code",
   "execution_count": 35,
   "metadata": {},
   "outputs": [],
   "source": [
    "predict_proba = svc_adaysn.predict_proba(X_holdout_s)\n",
    "class_1_prob = [ele[1] for ele in predict_proba]"
   ]
  },
  {
   "cell_type": "code",
   "execution_count": 36,
   "metadata": {},
   "outputs": [
    {
     "data": {
      "text/plain": [
       "array([[9.99534373e-01, 4.65627231e-04],\n",
       "       [9.99534373e-01, 4.65627235e-04],\n",
       "       [9.99534373e-01, 4.65627256e-04],\n",
       "       [9.99534373e-01, 4.65627262e-04],\n",
       "       [9.99534373e-01, 4.65627262e-04],\n",
       "       [9.99534373e-01, 4.65627262e-04],\n",
       "       [9.99534373e-01, 4.65627262e-04],\n",
       "       [9.99534373e-01, 4.65627262e-04],\n",
       "       [9.99534373e-01, 4.65627202e-04],\n",
       "       [9.99534373e-01, 4.65627224e-04]])"
      ]
     },
     "execution_count": 36,
     "metadata": {},
     "output_type": "execute_result"
    }
   ],
   "source": [
    "predict_proba[:10]"
   ]
  },
  {
   "cell_type": "code",
   "execution_count": 37,
   "metadata": {},
   "outputs": [],
   "source": [
    "merged_test[\"WnvPresent\"] = class_1_prob\n",
    "kaggle_submission= merged_test.loc[:,['id','WnvPresent']]\n",
    "kaggle_submission.rename(columns={\n",
    "    \"id\":\"Id\"},inplace=True)"
   ]
  },
  {
   "cell_type": "code",
   "execution_count": 38,
   "metadata": {},
   "outputs": [],
   "source": [
    "#save the data \n",
    "kaggle_submission.to_csv('./input/svc_adasyn_lag7.csv',index=False)"
   ]
  }
 ],
 "metadata": {
  "kernelspec": {
   "display_name": "Python 3",
   "language": "python",
   "name": "python3"
  },
  "language_info": {
   "codemirror_mode": {
    "name": "ipython",
    "version": 3
   },
   "file_extension": ".py",
   "mimetype": "text/x-python",
   "name": "python",
   "nbconvert_exporter": "python",
   "pygments_lexer": "ipython3",
   "version": "3.7.3"
  }
 },
 "nbformat": 4,
 "nbformat_minor": 4
}
