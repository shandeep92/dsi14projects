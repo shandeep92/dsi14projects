{
 "cells": [
  {
   "cell_type": "code",
   "execution_count": 522,
   "metadata": {},
   "outputs": [],
   "source": [
    "import pandas as pd\n",
    "import numpy as np\n",
    "import matplotlib.pyplot as plt\n",
    "from sklearn.model_selection import train_test_split, cross_val_score, KFold, GridSearchCV\n",
    "from sklearn.svm import SVC \n",
    "from sklearn.preprocessing import StandardScaler\n",
    "from sklearn.metrics import accuracy_score,recall_score, precision_score, roc_auc_score\n",
    "from sklearn.metrics import confusion_matrix, plot_confusion_matrix, classification_report\n",
    "from sklearn.linear_model import LogisticRegression\n",
    "from sklearn.ensemble import GradientBoostingClassifier, RandomForestClassifier\n",
    "from imblearn.pipeline import Pipeline, make_pipeline\n",
    "from imblearn.over_sampling import SMOTE, ADASYN\n",
    "pd.set_option('display.max_columns', None)\n",
    "\n",
    "plt.style.use('fivethirtyeight')\n",
    "%matplotlib inline"
   ]
  },
  {
   "cell_type": "code",
   "execution_count": 4,
   "metadata": {},
   "outputs": [],
   "source": [
    "merged_train = pd.read_csv('merged_train_lag_2.csv')\n",
    "merged_test = pd.read_csv('merged_test_lag_2.csv')"
   ]
  },
  {
   "cell_type": "code",
   "execution_count": 7,
   "metadata": {},
   "outputs": [
    {
     "data": {
      "text/html": [
       "<div>\n",
       "<style scoped>\n",
       "    .dataframe tbody tr th:only-of-type {\n",
       "        vertical-align: middle;\n",
       "    }\n",
       "\n",
       "    .dataframe tbody tr th {\n",
       "        vertical-align: top;\n",
       "    }\n",
       "\n",
       "    .dataframe thead th {\n",
       "        text-align: right;\n",
       "    }\n",
       "</style>\n",
       "<table border=\"1\" class=\"dataframe\">\n",
       "  <thead>\n",
       "    <tr style=\"text-align: right;\">\n",
       "      <th></th>\n",
       "      <th>Date</th>\n",
       "      <th>Latitude</th>\n",
       "      <th>Longitude</th>\n",
       "      <th>Species_CULEX PIPIENS</th>\n",
       "      <th>Species_CULEX PIPIENS/RESTUANS</th>\n",
       "      <th>Species_CULEX RESTUANS</th>\n",
       "      <th>WnvPresent</th>\n",
       "      <th>Sprayed</th>\n",
       "      <th>Avg Pos Dist</th>\n",
       "      <th>Tmax</th>\n",
       "      <th>Tmin</th>\n",
       "      <th>Tavg</th>\n",
       "      <th>DewPoint</th>\n",
       "      <th>WetBulb</th>\n",
       "      <th>Heat</th>\n",
       "      <th>Cool</th>\n",
       "      <th>PrecipTotal</th>\n",
       "      <th>StnPressure</th>\n",
       "      <th>SeaLevel</th>\n",
       "      <th>ResultSpeed</th>\n",
       "      <th>ResultDir</th>\n",
       "      <th>AvgSpeed</th>\n",
       "      <th>Sunrise</th>\n",
       "      <th>Sunset</th>\n",
       "      <th>bc</th>\n",
       "      <th>br</th>\n",
       "      <th>dz</th>\n",
       "      <th>fg</th>\n",
       "      <th>fg+</th>\n",
       "      <th>fu</th>\n",
       "      <th>gr</th>\n",
       "      <th>hz</th>\n",
       "      <th>mi</th>\n",
       "      <th>ra</th>\n",
       "      <th>sn</th>\n",
       "      <th>sq</th>\n",
       "      <th>ts</th>\n",
       "      <th>vc</th>\n",
       "    </tr>\n",
       "  </thead>\n",
       "  <tbody>\n",
       "    <tr>\n",
       "      <th>0</th>\n",
       "      <td>2007-05-29</td>\n",
       "      <td>41.954690</td>\n",
       "      <td>-87.800991</td>\n",
       "      <td>0</td>\n",
       "      <td>1</td>\n",
       "      <td>0</td>\n",
       "      <td>0</td>\n",
       "      <td>0</td>\n",
       "      <td>1.0</td>\n",
       "      <td>75.0</td>\n",
       "      <td>58.0</td>\n",
       "      <td>66.5</td>\n",
       "      <td>48.0</td>\n",
       "      <td>56.5</td>\n",
       "      <td>0.0</td>\n",
       "      <td>1.5</td>\n",
       "      <td>0.06</td>\n",
       "      <td>29.375</td>\n",
       "      <td>30.055</td>\n",
       "      <td>8.55</td>\n",
       "      <td>25.0</td>\n",
       "      <td>9.35</td>\n",
       "      <td>4.366667</td>\n",
       "      <td>19.266667</td>\n",
       "      <td>0</td>\n",
       "      <td>1</td>\n",
       "      <td>0</td>\n",
       "      <td>0</td>\n",
       "      <td>0</td>\n",
       "      <td>0</td>\n",
       "      <td>0</td>\n",
       "      <td>0</td>\n",
       "      <td>0</td>\n",
       "      <td>1</td>\n",
       "      <td>0</td>\n",
       "      <td>0</td>\n",
       "      <td>0</td>\n",
       "      <td>0</td>\n",
       "    </tr>\n",
       "    <tr>\n",
       "      <th>1</th>\n",
       "      <td>2007-05-29</td>\n",
       "      <td>41.954690</td>\n",
       "      <td>-87.800991</td>\n",
       "      <td>0</td>\n",
       "      <td>0</td>\n",
       "      <td>1</td>\n",
       "      <td>0</td>\n",
       "      <td>0</td>\n",
       "      <td>1.0</td>\n",
       "      <td>75.0</td>\n",
       "      <td>58.0</td>\n",
       "      <td>66.5</td>\n",
       "      <td>48.0</td>\n",
       "      <td>56.5</td>\n",
       "      <td>0.0</td>\n",
       "      <td>1.5</td>\n",
       "      <td>0.06</td>\n",
       "      <td>29.375</td>\n",
       "      <td>30.055</td>\n",
       "      <td>8.55</td>\n",
       "      <td>25.0</td>\n",
       "      <td>9.35</td>\n",
       "      <td>4.366667</td>\n",
       "      <td>19.266667</td>\n",
       "      <td>0</td>\n",
       "      <td>1</td>\n",
       "      <td>0</td>\n",
       "      <td>0</td>\n",
       "      <td>0</td>\n",
       "      <td>0</td>\n",
       "      <td>0</td>\n",
       "      <td>0</td>\n",
       "      <td>0</td>\n",
       "      <td>1</td>\n",
       "      <td>0</td>\n",
       "      <td>0</td>\n",
       "      <td>0</td>\n",
       "      <td>0</td>\n",
       "    </tr>\n",
       "    <tr>\n",
       "      <th>2</th>\n",
       "      <td>2007-05-29</td>\n",
       "      <td>41.994991</td>\n",
       "      <td>-87.769279</td>\n",
       "      <td>0</td>\n",
       "      <td>0</td>\n",
       "      <td>1</td>\n",
       "      <td>0</td>\n",
       "      <td>0</td>\n",
       "      <td>1.0</td>\n",
       "      <td>75.0</td>\n",
       "      <td>58.0</td>\n",
       "      <td>66.5</td>\n",
       "      <td>48.0</td>\n",
       "      <td>56.5</td>\n",
       "      <td>0.0</td>\n",
       "      <td>1.5</td>\n",
       "      <td>0.06</td>\n",
       "      <td>29.375</td>\n",
       "      <td>30.055</td>\n",
       "      <td>8.55</td>\n",
       "      <td>25.0</td>\n",
       "      <td>9.35</td>\n",
       "      <td>4.366667</td>\n",
       "      <td>19.266667</td>\n",
       "      <td>0</td>\n",
       "      <td>1</td>\n",
       "      <td>0</td>\n",
       "      <td>0</td>\n",
       "      <td>0</td>\n",
       "      <td>0</td>\n",
       "      <td>0</td>\n",
       "      <td>0</td>\n",
       "      <td>0</td>\n",
       "      <td>1</td>\n",
       "      <td>0</td>\n",
       "      <td>0</td>\n",
       "      <td>0</td>\n",
       "      <td>0</td>\n",
       "    </tr>\n",
       "    <tr>\n",
       "      <th>3</th>\n",
       "      <td>2007-05-29</td>\n",
       "      <td>41.974089</td>\n",
       "      <td>-87.824812</td>\n",
       "      <td>0</td>\n",
       "      <td>1</td>\n",
       "      <td>0</td>\n",
       "      <td>0</td>\n",
       "      <td>0</td>\n",
       "      <td>1.0</td>\n",
       "      <td>75.0</td>\n",
       "      <td>58.0</td>\n",
       "      <td>66.5</td>\n",
       "      <td>48.0</td>\n",
       "      <td>56.5</td>\n",
       "      <td>0.0</td>\n",
       "      <td>1.5</td>\n",
       "      <td>0.06</td>\n",
       "      <td>29.375</td>\n",
       "      <td>30.055</td>\n",
       "      <td>8.55</td>\n",
       "      <td>25.0</td>\n",
       "      <td>9.35</td>\n",
       "      <td>4.366667</td>\n",
       "      <td>19.266667</td>\n",
       "      <td>0</td>\n",
       "      <td>1</td>\n",
       "      <td>0</td>\n",
       "      <td>0</td>\n",
       "      <td>0</td>\n",
       "      <td>0</td>\n",
       "      <td>0</td>\n",
       "      <td>0</td>\n",
       "      <td>0</td>\n",
       "      <td>1</td>\n",
       "      <td>0</td>\n",
       "      <td>0</td>\n",
       "      <td>0</td>\n",
       "      <td>0</td>\n",
       "    </tr>\n",
       "    <tr>\n",
       "      <th>4</th>\n",
       "      <td>2007-05-29</td>\n",
       "      <td>41.974089</td>\n",
       "      <td>-87.824812</td>\n",
       "      <td>0</td>\n",
       "      <td>0</td>\n",
       "      <td>1</td>\n",
       "      <td>0</td>\n",
       "      <td>0</td>\n",
       "      <td>1.0</td>\n",
       "      <td>75.0</td>\n",
       "      <td>58.0</td>\n",
       "      <td>66.5</td>\n",
       "      <td>48.0</td>\n",
       "      <td>56.5</td>\n",
       "      <td>0.0</td>\n",
       "      <td>1.5</td>\n",
       "      <td>0.06</td>\n",
       "      <td>29.375</td>\n",
       "      <td>30.055</td>\n",
       "      <td>8.55</td>\n",
       "      <td>25.0</td>\n",
       "      <td>9.35</td>\n",
       "      <td>4.366667</td>\n",
       "      <td>19.266667</td>\n",
       "      <td>0</td>\n",
       "      <td>1</td>\n",
       "      <td>0</td>\n",
       "      <td>0</td>\n",
       "      <td>0</td>\n",
       "      <td>0</td>\n",
       "      <td>0</td>\n",
       "      <td>0</td>\n",
       "      <td>0</td>\n",
       "      <td>1</td>\n",
       "      <td>0</td>\n",
       "      <td>0</td>\n",
       "      <td>0</td>\n",
       "      <td>0</td>\n",
       "    </tr>\n",
       "  </tbody>\n",
       "</table>\n",
       "</div>"
      ],
      "text/plain": [
       "         Date   Latitude  Longitude  Species_CULEX PIPIENS  \\\n",
       "0  2007-05-29  41.954690 -87.800991                      0   \n",
       "1  2007-05-29  41.954690 -87.800991                      0   \n",
       "2  2007-05-29  41.994991 -87.769279                      0   \n",
       "3  2007-05-29  41.974089 -87.824812                      0   \n",
       "4  2007-05-29  41.974089 -87.824812                      0   \n",
       "\n",
       "   Species_CULEX PIPIENS/RESTUANS  Species_CULEX RESTUANS  WnvPresent  \\\n",
       "0                               1                       0           0   \n",
       "1                               0                       1           0   \n",
       "2                               0                       1           0   \n",
       "3                               1                       0           0   \n",
       "4                               0                       1           0   \n",
       "\n",
       "   Sprayed  Avg Pos Dist  Tmax  Tmin  Tavg  DewPoint  WetBulb  Heat  Cool  \\\n",
       "0        0           1.0  75.0  58.0  66.5      48.0     56.5   0.0   1.5   \n",
       "1        0           1.0  75.0  58.0  66.5      48.0     56.5   0.0   1.5   \n",
       "2        0           1.0  75.0  58.0  66.5      48.0     56.5   0.0   1.5   \n",
       "3        0           1.0  75.0  58.0  66.5      48.0     56.5   0.0   1.5   \n",
       "4        0           1.0  75.0  58.0  66.5      48.0     56.5   0.0   1.5   \n",
       "\n",
       "   PrecipTotal  StnPressure  SeaLevel  ResultSpeed  ResultDir  AvgSpeed  \\\n",
       "0         0.06       29.375    30.055         8.55       25.0      9.35   \n",
       "1         0.06       29.375    30.055         8.55       25.0      9.35   \n",
       "2         0.06       29.375    30.055         8.55       25.0      9.35   \n",
       "3         0.06       29.375    30.055         8.55       25.0      9.35   \n",
       "4         0.06       29.375    30.055         8.55       25.0      9.35   \n",
       "\n",
       "    Sunrise     Sunset  bc  br  dz  fg  fg+  fu  gr  hz  mi  ra  sn  sq  ts  \\\n",
       "0  4.366667  19.266667   0   1   0   0    0   0   0   0   0   1   0   0   0   \n",
       "1  4.366667  19.266667   0   1   0   0    0   0   0   0   0   1   0   0   0   \n",
       "2  4.366667  19.266667   0   1   0   0    0   0   0   0   0   1   0   0   0   \n",
       "3  4.366667  19.266667   0   1   0   0    0   0   0   0   0   1   0   0   0   \n",
       "4  4.366667  19.266667   0   1   0   0    0   0   0   0   0   1   0   0   0   \n",
       "\n",
       "   vc  \n",
       "0   0  \n",
       "1   0  \n",
       "2   0  \n",
       "3   0  \n",
       "4   0  "
      ]
     },
     "execution_count": 7,
     "metadata": {},
     "output_type": "execute_result"
    }
   ],
   "source": [
    "merged_train.head()"
   ]
  },
  {
   "cell_type": "code",
   "execution_count": 8,
   "metadata": {},
   "outputs": [
    {
     "data": {
      "text/plain": [
       "0    0.944966\n",
       "1    0.055034\n",
       "Name: WnvPresent, dtype: float64"
      ]
     },
     "execution_count": 8,
     "metadata": {},
     "output_type": "execute_result"
    }
   ],
   "source": [
    "merged_train['WnvPresent'].value_counts(normalize=True)"
   ]
  },
  {
   "cell_type": "code",
   "execution_count": 9,
   "metadata": {},
   "outputs": [
    {
     "data": {
      "text/plain": [
       "Index(['Date', 'Latitude', 'Longitude', 'Species_CULEX PIPIENS',\n",
       "       'Species_CULEX PIPIENS/RESTUANS', 'Species_CULEX RESTUANS',\n",
       "       'WnvPresent', 'Sprayed', 'Avg Pos Dist', 'Tmax', 'Tmin', 'Tavg',\n",
       "       'DewPoint', 'WetBulb', 'Heat', 'Cool', 'PrecipTotal', 'StnPressure',\n",
       "       'SeaLevel', 'ResultSpeed', 'ResultDir', 'AvgSpeed', 'Sunrise', 'Sunset',\n",
       "       'bc', 'br', 'dz', 'fg', 'fg+', 'fu', 'gr', 'hz', 'mi', 'ra', 'sn', 'sq',\n",
       "       'ts', 'vc'],\n",
       "      dtype='object')"
      ]
     },
     "execution_count": 9,
     "metadata": {},
     "output_type": "execute_result"
    }
   ],
   "source": [
    "merged_train.columns"
   ]
  },
  {
   "cell_type": "code",
   "execution_count": 11,
   "metadata": {},
   "outputs": [
    {
     "name": "stdout",
     "output_type": "stream",
     "text": [
      "['Latitude', 'Longitude', 'Species_CULEX PIPIENS', 'Species_CULEX PIPIENS/RESTUANS', 'Species_CULEX RESTUANS', 'Sprayed', 'Avg Pos Dist', 'Tmax', 'Tmin', 'Tavg', 'DewPoint', 'WetBulb', 'Heat', 'Cool', 'PrecipTotal', 'StnPressure', 'SeaLevel', 'ResultSpeed', 'ResultDir', 'AvgSpeed', 'Sunrise', 'Sunset', 'bc', 'br', 'dz', 'fg', 'fg+', 'fu', 'gr', 'hz', 'mi', 'ra', 'sn', 'sq', 'ts', 'vc']\n"
     ]
    }
   ],
   "source": [
    "features = [col for col in merged_train.columns if (col!= 'WnvPresent' and col!= 'Date')]\n",
    "print(features)"
   ]
  },
  {
   "cell_type": "markdown",
   "metadata": {},
   "source": [
    "### Model Preparation"
   ]
  },
  {
   "cell_type": "markdown",
   "metadata": {},
   "source": [
    "a. (Why we choose number of days of lag 2)\n",
    "1.We tried random forest classification and it showed a trend of various metrics for number of days of lag. As we are dealing with a virus, we emphasize on accuracy and sensitivity scores as it's vital we can predict true positive for traps that have mosquitos with West Nile Virus as much as possible and minimize the amount of false negatives(Type 2 error is usually seen as worse than Type 1 error). We balanced accuracy scores with sensitivity and felt 2 days showed the best balance. \n",
    "\n",
    "2.Mosquitoes need 2 days to hatch from eggs and become larvae. So, if today's weather is ideal for mosquito breeding, these mosquitos will breed today and lay eggs. Then, only 2 days later these mosquitos will hatch from their eggs and become larvae (at which point, they can contain the virus in their bodies??) (We have decided on lag 10 days so TBC)"
   ]
  },
  {
   "cell_type": "markdown",
   "metadata": {},
   "source": [
    "b. Justify the approach → Try diff classifiers with SMOTE (why SMOTE?), choose best classifier, try diff balancing techniques, final model\n",
    "\n",
    "Because the data is imbalanced(West Nile Virus present is 5.5% of dataset while West Nile Virus not present is 94.4% of dataset), it could have an impact on metrics where for example, accruacy could be high because the model correctly predicted most traps with West Nile Virus not present but with viruses we are more concerned with detecting positive cases. Therefore, we should use imbalancing methods for our modeling. We will work with various classifiers using SMOTE as because new synthetic examples from the minority class are created that are plausible, that is, are relatively close in feature space to existing examples from the minority class (https://machinelearningmastery.com/smote-oversampling-for-imbalanced-classification/)"
   ]
  },
  {
   "cell_type": "markdown",
   "metadata": {},
   "source": [
    "c. Explain classification metrics accuracy and sensitivity in this context, justify why we need to balance both, mention cost-benefit analysis\n",
    "\n",
    "Accuracy is defined as the total number of correct predictions over the total number of  predictions. In this context, we are calculating the total number of correctly predicted traps which contain West Nile Virus and those that don't over the total number of predictions that we make. Sensitivity is the amount of true positives over the number of true positives and false negatives. In this context, we are calculating the number of correctly predicted traps which contain mosquitos with West Nile Virus over the total number of traps predicted to not have West Nile virus but it doesand traps correctly predicted to have West Nile Virus.\n",
    "\n",
    "It's important to balance both metrics because while accuracy is a good overall measure of the model's prediction, a high score does not neccessarily mean the model accurately predicted each class. For example, the model could correctly predict all traps with no West Nile virus and a few traps with West Nile Virus and the score could still be decent so it would be good to also look at the sensitivity to see how well the model correctly predicited traps with West Nile Virus as it's always vital to detect positive cases of viruses\n",
    "\n",
    "(cost benefit analysis TBC)\n",
    "'start at dusk in parts of Austin, Belmont-Cragin, Dunning and Montclare and will last until about 1 a.m.'\n",
    "'Licensed technicians in trucks will be spraying an insecticide called Zenivex at a rate of 1.5 ounces per acre, the health department said. It has been approved by the EPA for mosquito control in outdoor residential and recreational areas and is routinely used across the country.' https://www.nbcchicago.com/news/local/city-to-spray-mosquito-killing-insecticide-wednesday-night/64951/\n",
    "\n",
    "'It is sprayed from the truck at 4.5-9.0 ounces per minute, at a vehicle speed of 10-15 miles per hour'\n",
    "https://www.cmmcp.org/pesticide-information/pages/zenivex-e4-etofenprox\n",
    "https://chicago.cbslocal.com/2017/08/30/spray-mosquitoes-far-south-side-west-nile-prevention/ (mentions the trucks as well)\n",
    "\n",
    "'Zenivex E4,  2 x 2.5 gal/case, $431.80, 5 gallons is 640 ounces'\n",
    "https://www.tarrantcounty.com/content/dam/main/purchasing/Bids%20and%20RFPs/Bid-RFP%20Awards/2019%20Bid-RFP%20Awards/reaward_2019-061_MosquitoControlPesticidesandPrevention.pdf\n",
    "\n",
    "'WNND(West Nile neuroinvasive disease) $33,143 per inpatient, $6,317 per outpatient, $18,097 for time in a nursing home, 46 patients'\n",
    "'A total of 117 WNF(West Nile Flu) cases were reported for Sacramento County in 2005. Treating each WNF patient cost ≈$167 for the diagnostic physician visit and ≈$135 for the diagnostic test.'\n",
    "'Total cost of the 2005 Sacramento County WNV epidemic was ≈$2,979,037, 163 patients in total, cost for each patient = $18,276,30' \n",
    "https://www.ncbi.nlm.nih.gov/pmc/articles/PMC3322011/\n",
    "\n"
   ]
  },
  {
   "cell_type": "code",
   "execution_count": 12,
   "metadata": {},
   "outputs": [],
   "source": [
    "X = merged_train[features]\n",
    "y = merged_train['WnvPresent']"
   ]
  },
  {
   "cell_type": "code",
   "execution_count": 13,
   "metadata": {},
   "outputs": [],
   "source": [
    "# Train/Test Split.\n",
    "X_train, X_test, y_train, y_test = train_test_split(X,y, random_state=42, test_size=0.25,stratify=y)\n",
    "\n",
    "ss = StandardScaler()\n",
    "X_train_sc = ss.fit_transform(X_train)\n",
    "X_test_sc = ss.transform(X_test)"
   ]
  },
  {
   "cell_type": "code",
   "execution_count": 14,
   "metadata": {},
   "outputs": [],
   "source": [
    "# Start your SMOTE instance\n",
    "smote = SMOTE(random_state=42)\n",
    "\n",
    "# Apply SMOTE to X_train and y_train\n",
    "X_resampled, y_resampled =smote.fit_resample(X_train_sc, y_train) "
   ]
  },
  {
   "cell_type": "code",
   "execution_count": 37,
   "metadata": {},
   "outputs": [],
   "source": [
    "# Normal SMOTE instance\n",
    "norm_smote = SMOTE(random_state=42)\n",
    "\n",
    "# Apply SMOTE to X_train and y_train\n",
    "X_resamplednorm, y_resamplednorm =norm_smote.fit_resample(X_train, y_train) "
   ]
  },
  {
   "cell_type": "markdown",
   "metadata": {},
   "source": [
    "### SMOTE SVM gridsearchCV"
   ]
  },
  {
   "cell_type": "code",
   "execution_count": 15,
   "metadata": {},
   "outputs": [
    {
     "name": "stderr",
     "output_type": "stream",
     "text": [
      "[Parallel(n_jobs=-1)]: Using backend LokyBackend with 4 concurrent workers.\n",
      "[Parallel(n_jobs=-1)]: Done  60 out of  60 | elapsed: 23.1min finished\n"
     ]
    },
    {
     "data": {
      "text/plain": [
       "GridSearchCV(cv=5, error_score=nan,\n",
       "             estimator=SVC(C=1.0, break_ties=False, cache_size=200,\n",
       "                           class_weight=None, coef0=0.0,\n",
       "                           decision_function_shape='ovr', degree=3,\n",
       "                           gamma='scale', kernel='rbf', max_iter=-1,\n",
       "                           probability=True, random_state=42, shrinking=True,\n",
       "                           tol=0.001, verbose=False),\n",
       "             iid='deprecated', n_jobs=-1,\n",
       "             param_grid={'C': [0.01, 0.1], 'degree': [2, 3, 4],\n",
       "                         'kernel': ['poly', 'rbf']},\n",
       "             pre_dispatch='2*n_jobs', refit=True, return_train_score=False,\n",
       "             scoring='accuracy', verbose=-1)"
      ]
     },
     "execution_count": 15,
     "metadata": {},
     "output_type": "execute_result"
    }
   ],
   "source": [
    "svc_params = {\n",
    "    'kernel':['poly','rbf'],\n",
    "    'degree':[2,3,4],\n",
    "    'C':[0.01,0.1]\n",
    "}\n",
    "\n",
    "\n",
    "svc_gridsearch = GridSearchCV(SVC(kernel='rbf',random_state=42,probability=True),\n",
    "                              svc_params, scoring='accuracy',\n",
    "                              cv=5, verbose=-1, n_jobs=-1)\n",
    "\n",
    "\n",
    "svc_gridsearch.fit(X_resampled, y_resampled)\n"
   ]
  },
  {
   "cell_type": "code",
   "execution_count": 17,
   "metadata": {},
   "outputs": [],
   "source": [
    "train_pred = svc_gridsearch.predict(X_resampled)\n",
    "test_pred = svc_gridsearch.predict(X_test_sc)"
   ]
  },
  {
   "cell_type": "code",
   "execution_count": 18,
   "metadata": {},
   "outputs": [
    {
     "name": "stdout",
     "output_type": "stream",
     "text": [
      "Best params: {'C': 0.1, 'degree': 2, 'kernel': 'rbf'}\n",
      "train accuracy score: 0.8043330501274426\n",
      "test accuracy score: 0.7124277456647399\n",
      "test recall score: 0.8421052631578947\n"
     ]
    }
   ],
   "source": [
    "print(f\"Best params: {svc_gridsearch.best_params_}\")\n",
    "print(f'train accuracy score: {accuracy_score(y_resampled,train_pred)}')\n",
    "print(f'test accuracy score: {accuracy_score(y_test,test_pred)}')\n",
    "print(f'test recall score: {recall_score(y_test,test_pred)}')"
   ]
  },
  {
   "cell_type": "code",
   "execution_count": 20,
   "metadata": {},
   "outputs": [
    {
     "name": "stdout",
     "output_type": "stream",
     "text": [
      "auc_roc score: 0.8470210311712002\n"
     ]
    }
   ],
   "source": [
    "svc_predict_proba = svc_gridsearch.predict_proba(X_test_sc)\n",
    "svc_pb_class1 = [ele[1] for ele in svc_predict_proba]\n",
    "\n",
    "\n",
    "print(f'auc_roc score: {roc_auc_score(y_test,svc_pb_class1)}')"
   ]
  },
  {
   "cell_type": "markdown",
   "metadata": {},
   "source": [
    "### SMOTE SVM "
   ]
  },
  {
   "cell_type": "code",
   "execution_count": 21,
   "metadata": {},
   "outputs": [
    {
     "data": {
      "text/plain": [
       "SVC(C=0.1, break_ties=False, cache_size=200, class_weight=None, coef0=0.0,\n",
       "    decision_function_shape='ovr', degree=2, gamma='scale', kernel='rbf',\n",
       "    max_iter=-1, probability=True, random_state=42, shrinking=True, tol=0.001,\n",
       "    verbose=False)"
      ]
     },
     "execution_count": 21,
     "metadata": {},
     "output_type": "execute_result"
    }
   ],
   "source": [
    "# Instantiate and fit SVM \n",
    "svc = SVC(random_state=42, probability=True, C = 0.1, degree = 2)\n",
    "svc.fit(X_resampled, y_resampled)"
   ]
  },
  {
   "cell_type": "code",
   "execution_count": 27,
   "metadata": {},
   "outputs": [],
   "source": [
    "svc_train_pred = svc.predict(X_train_sc)\n",
    "svc_test_pred = svc.predict(X_test_sc)"
   ]
  },
  {
   "cell_type": "code",
   "execution_count": 28,
   "metadata": {},
   "outputs": [
    {
     "name": "stdout",
     "output_type": "stream",
     "text": [
      "0.8043330501274426\n",
      "0.714193962748876\n",
      "0.7124277456647399\n"
     ]
    }
   ],
   "source": [
    "#print the scores\n",
    "print(svc.score(X_resampled, y_resampled))\n",
    "print(svc.score(X_train_sc, y_train))\n",
    "print(svc.score(X_test_sc, y_test))\n"
   ]
  },
  {
   "cell_type": "code",
   "execution_count": 44,
   "metadata": {},
   "outputs": [
    {
     "name": "stdout",
     "output_type": "stream",
     "text": [
      "auc_roc score: 0.8470210311712002\n"
     ]
    }
   ],
   "source": [
    "#print the roc_auc score\n",
    "svc_model_predict_proba = svc.predict_proba(X_test_sc)\n",
    "svc_model_pb_class1 = [ele[1] for ele in svc_model_predict_proba]\n",
    "\n",
    "\n",
    "print(f'auc_roc score: {roc_auc_score(y_test,svc_model_pb_class1)}')"
   ]
  },
  {
   "cell_type": "code",
   "execution_count": 26,
   "metadata": {},
   "outputs": [
    {
     "data": {
      "image/png": "[encoded data removed]",
      "text/plain": [
       "<Figure size 432x288 with 2 Axes>"
      ]
     },
     "metadata": {
      "needs_background": "light"
     },
     "output_type": "display_data"
    }
   ],
   "source": [
    "#plot the confusion matrix\n",
    "plot_confusion_matrix(svc, X_test_sc, y_test,\n",
    "                      values_format = 'd',\n",
    "                      display_labels = [\"WNV Absent \",\"WNV Present\"],\n",
    "                     cmap='copper')\n",
    "\n",
    "plt.grid(False)\n",
    "plt.show()"
   ]
  },
  {
   "cell_type": "code",
   "execution_count": 30,
   "metadata": {},
   "outputs": [
    {
     "name": "stdout",
     "output_type": "stream",
     "text": [
      "Sensitivity: 0.8421\n",
      "Specificity: 0.7049\n"
     ]
    }
   ],
   "source": [
    "# Generate classification metrics \n",
    "tn, fp, fn, tp = confusion_matrix(y_test, svc_test_pred).ravel()\n",
    "\n",
    "print(f'Sensitivity: {round(tp/(tp+fn),4)}')\n",
    "print(f'Specificity: {round(tn/(tn+fp),4)}')"
   ]
  },
  {
   "cell_type": "code",
   "execution_count": 50,
   "metadata": {},
   "outputs": [],
   "source": [
    "# Kaggle submission\n",
    "merged_test_sc = ss.transform(merged_test[features])\n",
    "kag_smotesvc_pred = pd.DataFrame(svc.predict_proba(merged_test_sc), columns=['0','1']) \n",
    "kag_smotesvc_submission = pd.DataFrame()\n",
    "kag_smotesvc_submission['WnvPresent'] = kag_smotesvc_pred['1']\n",
    "kag_smotesvc_submission['Id'] = kag_smotesvc_submission.index + 1\n",
    "kag_smotesvc_submission[['Id', 'WnvPresent']].to_csv('P4_smote_svc_submit.csv', index = False)\n",
    "\n",
    "#score is 0.7"
   ]
  },
  {
   "cell_type": "markdown",
   "metadata": {},
   "source": [
    "### SMOTE Gradient Boosting GridsearchCV"
   ]
  },
  {
   "cell_type": "code",
   "execution_count": 54,
   "metadata": {},
   "outputs": [
    {
     "name": "stderr",
     "output_type": "stream",
     "text": [
      "[Parallel(n_jobs=-1)]: Using backend LokyBackend with 4 concurrent workers.\n",
      "[Parallel(n_jobs=-1)]: Done  64 tasks      | elapsed:   57.4s\n",
      "[Parallel(n_jobs=-1)]: Done 280 tasks      | elapsed:  5.3min\n",
      "[Parallel(n_jobs=-1)]: Done 540 out of 540 | elapsed: 12.5min finished\n"
     ]
    },
    {
     "data": {
      "text/plain": [
       "GridSearchCV(cv=5, error_score=nan,\n",
       "             estimator=GradientBoostingClassifier(ccp_alpha=0.0,\n",
       "                                                  criterion='friedman_mse',\n",
       "                                                  init=None, learning_rate=0.1,\n",
       "                                                  loss='deviance', max_depth=3,\n",
       "                                                  max_features=None,\n",
       "                                                  max_leaf_nodes=None,\n",
       "                                                  min_impurity_decrease=0.0,\n",
       "                                                  min_impurity_split=None,\n",
       "                                                  min_samples_leaf=1,\n",
       "                                                  min_samples_split=2,\n",
       "                                                  min_weight_fraction_leaf=0.0,\n",
       "                                                  n_estimators=100,\n",
       "                                                  n_iter_no_c...,\n",
       "                                                  presort='deprecated',\n",
       "                                                  random_state=42,\n",
       "                                                  subsample=1.0, tol=0.0001,\n",
       "                                                  validation_fraction=0.1,\n",
       "                                                  verbose=0, warm_start=False),\n",
       "             iid='deprecated', n_jobs=-1,\n",
       "             param_grid={'learning_rate': [0.1, 0.5, 1], 'max_depth': [2, 3, 4],\n",
       "                         'max_features': [10, 20, 30, 36],\n",
       "                         'n_estimators': [100, 150, 200]},\n",
       "             pre_dispatch='2*n_jobs', refit=True, return_train_score=False,\n",
       "             scoring='roc_auc', verbose=-1)"
      ]
     },
     "execution_count": 54,
     "metadata": {},
     "output_type": "execute_result"
    }
   ],
   "source": [
    "grb_params = {\n",
    "    'max_depth':[2,3,4],\n",
    "          'n_estimators':[100,150,200],\n",
    "          'learning_rate':[.1,.5,1], \n",
    "          'max_features':[10,20,30,36]\n",
    "}\n",
    "\n",
    "\n",
    "grb_gridsearch = GridSearchCV(GradientBoostingClassifier(random_state=42),\n",
    "                              grb_params, scoring='recall',\n",
    "                              cv=5, verbose=-1, n_jobs=-1)\n",
    "\n",
    "\n",
    "grb_gridsearch.fit(X_resamplednorm, y_resamplednorm)"
   ]
  },
  {
   "cell_type": "code",
   "execution_count": 55,
   "metadata": {},
   "outputs": [
    {
     "name": "stdout",
     "output_type": "stream",
     "text": [
      "Best params: {'learning_rate': 0.5, 'max_depth': 4, 'max_features': 20, 'n_estimators': 200}\n"
     ]
    }
   ],
   "source": [
    "print(f\"Best params: {grb_gridsearch.best_params_}\")\n"
   ]
  },
  {
   "cell_type": "code",
   "execution_count": null,
   "metadata": {},
   "outputs": [],
   "source": []
  },
  {
   "cell_type": "markdown",
   "metadata": {},
   "source": [
    "### SMOTE Gradient Boosting"
   ]
  },
  {
   "cell_type": "code",
   "execution_count": 194,
   "metadata": {},
   "outputs": [
    {
     "data": {
      "text/plain": [
       "GradientBoostingClassifier(ccp_alpha=0.0, criterion='friedman_mse', init=None,\n",
       "                           learning_rate=0.1, loss='deviance', max_depth=3,\n",
       "                           max_features=36, max_leaf_nodes=None,\n",
       "                           min_impurity_decrease=0.0, min_impurity_split=None,\n",
       "                           min_samples_leaf=1, min_samples_split=2,\n",
       "                           min_weight_fraction_leaf=0.0, n_estimators=50,\n",
       "                           n_iter_no_change=None, presort='deprecated',\n",
       "                           random_state=42, subsample=0.8, tol=0.0001,\n",
       "                           validation_fraction=0.1, verbose=0,\n",
       "                           warm_start=False)"
      ]
     },
     "execution_count": 194,
     "metadata": {},
     "output_type": "execute_result"
    }
   ],
   "source": [
    "#Instantiate Gradient boosting classifier\n",
    "grb = GradientBoostingClassifier(random_state=42, learning_rate=0.1,  \n",
    "                                   max_depth=3,\n",
    "                                  max_features=36,\n",
    "                                  n_estimators=50,\n",
    "                                  subsample=0.8\n",
    "                                   )\n",
    "grb.fit(X_resamplednorm, y_resamplednorm)"
   ]
  },
  {
   "cell_type": "code",
   "execution_count": 195,
   "metadata": {},
   "outputs": [],
   "source": [
    "#Get the predicts\n",
    "grb_train_pred = grb.predict(X_train)\n",
    "grb_test_pred = grb.predict(X_test)"
   ]
  },
  {
   "cell_type": "code",
   "execution_count": 196,
   "metadata": {},
   "outputs": [
    {
     "name": "stdout",
     "output_type": "stream",
     "text": [
      "0.8794392523364486\n",
      "0.8135838150289018\n",
      "0.8082851637764933\n"
     ]
    }
   ],
   "source": [
    "#print the scores\n",
    "print(grb.score(X_resamplednorm, y_resamplednorm))\n",
    "print(grb.score(X_train, y_train))\n",
    "print(grb.score(X_test, y_test))"
   ]
  },
  {
   "cell_type": "code",
   "execution_count": 197,
   "metadata": {},
   "outputs": [
    {
     "name": "stdout",
     "output_type": "stream",
     "text": [
      "auc_roc score: 0.8770096750540981\n"
     ]
    }
   ],
   "source": [
    "#print the roc auc\n",
    "grb_model_predict_proba = grb.predict_proba(X_test)\n",
    "grb_model_pb_class1 = [ele[1] for ele in grb_model_predict_proba]\n",
    "\n",
    "\n",
    "print(f'auc_roc score: {roc_auc_score(y_test,grb_model_pb_class1)}')"
   ]
  },
  {
   "cell_type": "code",
   "execution_count": 198,
   "metadata": {},
   "outputs": [
    {
     "data": {
      "image/png": "[encoded data removed]",
      "text/plain": [
       "<Figure size 432x288 with 2 Axes>"
      ]
     },
     "metadata": {
      "needs_background": "light"
     },
     "output_type": "display_data"
    }
   ],
   "source": [
    "#plot the confusion matrix\n",
    "plot_confusion_matrix(grb, X_test, y_test,\n",
    "                      values_format = 'd',\n",
    "                      display_labels = [\"WNV Absent \",\"WNV Present\"],\n",
    "                     cmap='copper')\n",
    "\n",
    "plt.grid(False)\n",
    "plt.show()"
   ]
  },
  {
   "cell_type": "code",
   "execution_count": 199,
   "metadata": {},
   "outputs": [
    {
     "name": "stdout",
     "output_type": "stream",
     "text": [
      "Sensitivity: 0.7982\n",
      "Specificity: 0.8089\n"
     ]
    }
   ],
   "source": [
    "# Generate classification metrics \n",
    "tn, fp, fn, tp = confusion_matrix(y_test, grb_test_pred).ravel()\n",
    "\n",
    "print(f'Sensitivity: {round(tp/(tp+fn),4)}')\n",
    "print(f'Specificity: {round(tn/(tn+fp),4)}')"
   ]
  },
  {
   "cell_type": "code",
   "execution_count": 200,
   "metadata": {},
   "outputs": [],
   "source": [
    "feat_imp = pd.Series(grb.feature_importances_, features).sort_values(ascending=False)"
   ]
  },
  {
   "cell_type": "code",
   "execution_count": 201,
   "metadata": {},
   "outputs": [
    {
     "data": {
      "image/png": "[encoded data removed]",
      "text/plain": [
       "<Figure size 720x576 with 1 Axes>"
      ]
     },
     "metadata": {
      "needs_background": "light"
     },
     "output_type": "display_data"
    }
   ],
   "source": [
    "fig = plt.figure(figsize=(10,8))\n",
    "feat_imp.plot(kind='bar', title='Feature Importances');"
   ]
  },
  {
   "cell_type": "code",
   "execution_count": 121,
   "metadata": {},
   "outputs": [],
   "source": [
    "# Kaggle submission\n",
    "\n",
    "kag_smotesgrb_pred = pd.DataFrame(grb.predict_proba(merged_test[features]), columns=['0','1']) \n",
    "kag_smotegrb_submission = pd.DataFrame()\n",
    "kag_smotegrb_submission['WnvPresent'] = kag_smotesgrb_pred['1']\n",
    "kag_smotegrb_submission['Id'] = kag_smotegrb_submission.index + 1\n",
    "kag_smotegrb_submission[['Id', 'WnvPresent']].to_csv('P4_smote_grb_submit.csv', index = False)\n",
    "\n",
    "#score is 0.71"
   ]
  },
  {
   "cell_type": "markdown",
   "metadata": {},
   "source": [
    "|Model|train ACCURACY %|test ACCURACY %|Overfitting / Underfitting|test SENSITIVITY %|test SPECIFICITY %|test ROC-AUC|kaggle ROC-AUC|\n",
    "|---|---|---|---|---|---|---|---|\n",
    "|SMOTE SVM|80.4|71.2|9.2|84.2|70.4|0.847|0.7|\n",
    "|SMOTE gradient boosting|88|80.7|7.3|78|80.8|0.87|0.71|"
   ]
  },
  {
   "cell_type": "markdown",
   "metadata": {},
   "source": [
    "## Lag 10"
   ]
  },
  {
   "cell_type": "code",
   "execution_count": 203,
   "metadata": {},
   "outputs": [],
   "source": [
    "merged_train10 =  pd.read_csv('merged_train_lag_10.csv')\n",
    "merged_test10 =  pd.read_csv('merged_test_lag_10.csv')\n"
   ]
  },
  {
   "cell_type": "code",
   "execution_count": 255,
   "metadata": {},
   "outputs": [
    {
     "data": {
      "text/plain": [
       "(8304, 38)"
      ]
     },
     "execution_count": 255,
     "metadata": {},
     "output_type": "execute_result"
    }
   ],
   "source": [
    "merged_train10.shape"
   ]
  },
  {
   "cell_type": "markdown",
   "metadata": {},
   "source": [
    "## Model Preparation"
   ]
  },
  {
   "cell_type": "code",
   "execution_count": 216,
   "metadata": {},
   "outputs": [],
   "source": [
    "X = merged_train10[features]\n",
    "y = merged_train10['WnvPresent']\n"
   ]
  },
  {
   "cell_type": "code",
   "execution_count": 217,
   "metadata": {},
   "outputs": [],
   "source": [
    "# Train/Test Split.\n",
    "X_train, X_test, y_train, y_test = train_test_split(X,y, random_state=42, test_size=0.25,stratify=y)"
   ]
  },
  {
   "cell_type": "code",
   "execution_count": 218,
   "metadata": {},
   "outputs": [],
   "source": [
    "ss = StandardScaler()\n",
    "X_train_sc = ss.fit_transform(X_train)\n",
    "X_test_sc = ss.transform(X_test)"
   ]
  },
  {
   "cell_type": "code",
   "execution_count": 219,
   "metadata": {},
   "outputs": [],
   "source": [
    "# Start your SMOTE instance\n",
    "smote = SMOTE(random_state=42)\n",
    "\n",
    "# Apply SMOTE to X_train and y_train\n",
    "X_resampled, y_resampled =smote.fit_resample(X_train_sc, y_train) "
   ]
  },
  {
   "cell_type": "code",
   "execution_count": 220,
   "metadata": {},
   "outputs": [],
   "source": [
    "# Normal SMOTE instance\n",
    "norm_smote = SMOTE(random_state=42)\n",
    "\n",
    "# Apply SMOTE to X_train and y_train\n",
    "X_resamplednorm, y_resamplednorm =norm_smote.fit_resample(X_train, y_train) "
   ]
  },
  {
   "cell_type": "markdown",
   "metadata": {},
   "source": [
    "## SMOTE SVM"
   ]
  },
  {
   "cell_type": "code",
   "execution_count": 513,
   "metadata": {},
   "outputs": [
    {
     "data": {
      "text/plain": [
       "SVC(C=0.1, break_ties=False, cache_size=200, class_weight=None, coef0=0.0,\n",
       "    decision_function_shape='ovr', degree=2, gamma='scale', kernel='rbf',\n",
       "    max_iter=-1, probability=True, random_state=42, shrinking=True, tol=0.001,\n",
       "    verbose=False)"
      ]
     },
     "execution_count": 513,
     "metadata": {},
     "output_type": "execute_result"
    }
   ],
   "source": [
    "# Instantiate and fit SVM \n",
    "svc = SVC(random_state=42, probability=True, C = 0.1, degree = 2, kernel='rbf')\n",
    "svc.fit(X_resampled, y_resampled)\n"
   ]
  },
  {
   "cell_type": "code",
   "execution_count": 514,
   "metadata": {},
   "outputs": [],
   "source": [
    "svc_train_pred = svc.predict(X_train_sc)\n",
    "svc_test_pred = svc.predict(X_test_sc)"
   ]
  },
  {
   "cell_type": "code",
   "execution_count": 515,
   "metadata": {},
   "outputs": [
    {
     "name": "stdout",
     "output_type": "stream",
     "text": [
      "0.7970263381478335\n",
      "0.7032755298651252\n",
      "0.6936416184971098\n"
     ]
    }
   ],
   "source": [
    "#print the scores\n",
    "print(svc.score(X_resampled, y_resampled))\n",
    "print(svc.score(X_train_sc, y_train))\n",
    "print(svc.score(X_test_sc, y_test))"
   ]
  },
  {
   "cell_type": "code",
   "execution_count": 516,
   "metadata": {},
   "outputs": [
    {
     "name": "stdout",
     "output_type": "stream",
     "text": [
      "auc_roc score: 0.8443451901926069\n"
     ]
    }
   ],
   "source": [
    "#print the roc_auc score\n",
    "svc_model_predict_proba = svc.predict_proba(X_test_sc)\n",
    "svc_model_pb_class1 = [ele[1] for ele in svc_model_predict_proba]\n",
    "\n",
    "print(f'auc_roc score: {roc_auc_score(y_test,svc_model_pb_class1)}')"
   ]
  },
  {
   "cell_type": "code",
   "execution_count": 517,
   "metadata": {},
   "outputs": [
    {
     "data": {
      "image/png": "[encoded data removed]",
      "text/plain": [
       "<Figure size 432x288 with 2 Axes>"
      ]
     },
     "metadata": {
      "needs_background": "light"
     },
     "output_type": "display_data"
    }
   ],
   "source": [
    "#plot the confusion matrix\n",
    "plot_confusion_matrix(svc, X_test_sc, y_test,\n",
    "                      values_format = 'd',\n",
    "                      display_labels = [\"WNV Absent \",\"WNV Present\"],\n",
    "                     cmap='copper')\n",
    "\n",
    "plt.grid(False)\n",
    "plt.show()"
   ]
  },
  {
   "cell_type": "code",
   "execution_count": 518,
   "metadata": {},
   "outputs": [
    {
     "name": "stdout",
     "output_type": "stream",
     "text": [
      "Sensitivity: 0.8596\n",
      "Specificity: 0.684\n"
     ]
    }
   ],
   "source": [
    "# Generate classification metrics \n",
    "tn, fp, fn, tp = confusion_matrix(y_test, svc_test_pred).ravel()\n",
    "\n",
    "print(f'Sensitivity: {round(tp/(tp+fn),4)}')\n",
    "print(f'Specificity: {round(tn/(tn+fp),4)}')"
   ]
  },
  {
   "cell_type": "code",
   "execution_count": 215,
   "metadata": {},
   "outputs": [],
   "source": [
    "# Kaggle submission\n",
    "merged_test10_sc = ss.transform(merged_test10[features])\n",
    "kag_smotesvc_pred = pd.DataFrame(svc.predict_proba(merged_test10_sc), columns=['0','1']) \n",
    "kag_smotesvc_submission = pd.DataFrame()\n",
    "kag_smotesvc_submission['WnvPresent'] = kag_smotesvc_pred['1']\n",
    "kag_smotesvc_submission['Id'] = kag_smotesvc_submission.index + 1\n",
    "kag_smotesvc_submission[['Id', 'WnvPresent']].to_csv('P4_smote_svc10_submit.csv', index = False)\n",
    "\n",
    "#score is 0.67"
   ]
  },
  {
   "cell_type": "markdown",
   "metadata": {},
   "source": [
    "## SMOTE Gradient Boosting"
   ]
  },
  {
   "cell_type": "code",
   "execution_count": 495,
   "metadata": {},
   "outputs": [
    {
     "data": {
      "text/plain": [
       "GradientBoostingClassifier(ccp_alpha=0.0, criterion='friedman_mse', init=None,\n",
       "                           learning_rate=0.1, loss='deviance', max_depth=3,\n",
       "                           max_features=36, max_leaf_nodes=None,\n",
       "                           min_impurity_decrease=0.0, min_impurity_split=None,\n",
       "                           min_samples_leaf=1, min_samples_split=2,\n",
       "                           min_weight_fraction_leaf=0.0, n_estimators=50,\n",
       "                           n_iter_no_change=None, presort='deprecated',\n",
       "                           random_state=42, subsample=0.6, tol=0.0001,\n",
       "                           validation_fraction=0.1, verbose=0,\n",
       "                           warm_start=False)"
      ]
     },
     "execution_count": 495,
     "metadata": {},
     "output_type": "execute_result"
    }
   ],
   "source": [
    "#Instantiate Gradient boosting classifier\n",
    "grb = GradientBoostingClassifier(random_state=42, learning_rate=0.1,  \n",
    "                                   max_depth=3,\n",
    "                                  max_features=36,\n",
    "                                  n_estimators=50,\n",
    "                                  subsample=0.6,\n",
    "                                \n",
    "                           \n",
    "                                   )\n",
    "grb.fit(X_resamplednorm, y_resamplednorm)\n",
    "\n"
   ]
  },
  {
   "cell_type": "code",
   "execution_count": 496,
   "metadata": {},
   "outputs": [],
   "source": [
    "#Get the predicts\n",
    "grb_train_pred = grb.predict(X_train)\n",
    "grb_test_pred = grb.predict(X_test)"
   ]
  },
  {
   "cell_type": "code",
   "execution_count": 497,
   "metadata": {},
   "outputs": [
    {
     "name": "stdout",
     "output_type": "stream",
     "text": [
      "0.88071367884452\n",
      "0.8187219010918433\n",
      "0.8078034682080925\n"
     ]
    }
   ],
   "source": [
    "#print the scores\n",
    "print(grb.score(X_resamplednorm, y_resamplednorm))\n",
    "print(grb.score(X_train, y_train))\n",
    "print(grb.score(X_test, y_test))"
   ]
  },
  {
   "cell_type": "code",
   "execution_count": 498,
   "metadata": {},
   "outputs": [
    {
     "name": "stdout",
     "output_type": "stream",
     "text": [
      "auc_roc score: 0.8746087951785682\n"
     ]
    }
   ],
   "source": [
    "#print the roc auc\n",
    "grb_model_predict_proba = grb.predict_proba(X_test)\n",
    "grb_model_pb_class1 = [ele[1] for ele in grb_model_predict_proba]\n",
    "\n",
    "print(f'auc_roc score: {roc_auc_score(y_test,grb_model_pb_class1)}')"
   ]
  },
  {
   "cell_type": "code",
   "execution_count": 499,
   "metadata": {},
   "outputs": [
    {
     "data": {
      "image/png": "[encoded data removed]",
      "text/plain": [
       "<Figure size 432x288 with 2 Axes>"
      ]
     },
     "metadata": {
      "needs_background": "light"
     },
     "output_type": "display_data"
    }
   ],
   "source": [
    "#plot the confusion matrix\n",
    "plot_confusion_matrix(grb, X_test, y_test,\n",
    "                      values_format = 'd',\n",
    "                      display_labels = [\"WNV Absent \",\"WNV Present\"],\n",
    "                     cmap='copper')\n",
    "\n",
    "plt.grid(False)\n",
    "plt.show()"
   ]
  },
  {
   "cell_type": "code",
   "execution_count": 500,
   "metadata": {},
   "outputs": [
    {
     "name": "stdout",
     "output_type": "stream",
     "text": [
      "Sensitivity: 0.8246\n",
      "Specificity: 0.8068\n"
     ]
    }
   ],
   "source": [
    "# Generate classification metrics \n",
    "tn, fp, fn, tp = confusion_matrix(y_test, grb_test_pred).ravel()\n",
    "\n",
    "print(f'Sensitivity: {round(tp/(tp+fn),4)}')\n",
    "print(f'Specificity: {round(tn/(tn+fp),4)}')"
   ]
  },
  {
   "cell_type": "code",
   "execution_count": 383,
   "metadata": {},
   "outputs": [
    {
     "data": {
      "text/plain": [
       "0    1962\n",
       "1     114\n",
       "Name: WnvPresent, dtype: int64"
      ]
     },
     "execution_count": 383,
     "metadata": {},
     "output_type": "execute_result"
    }
   ],
   "source": [
    "y_test.value_counts()"
   ]
  },
  {
   "cell_type": "code",
   "execution_count": 252,
   "metadata": {},
   "outputs": [
    {
     "data": {
      "image/png": "[encoded data removed]",
      "text/plain": [
       "<Figure size 720x576 with 1 Axes>"
      ]
     },
     "metadata": {
      "needs_background": "light"
     },
     "output_type": "display_data"
    }
   ],
   "source": [
    "feat_imp = pd.Series(grb.feature_importances_, features).sort_values(ascending=False)\n",
    "\n",
    "fig = plt.figure(figsize=(10,8))\n",
    "feat_imp.plot(kind='bar', title='Feature Importances');\n"
   ]
  },
  {
   "cell_type": "code",
   "execution_count": 253,
   "metadata": {},
   "outputs": [],
   "source": [
    "# Kaggle submission\n",
    "\n",
    "kag_smotesgrb_pred = pd.DataFrame(grb.predict_proba(merged_test10[features]), columns=['0','1']) \n",
    "kag_smotegrb_submission = pd.DataFrame()\n",
    "kag_smotegrb_submission['WnvPresent'] = kag_smotesgrb_pred['1']\n",
    "kag_smotegrb_submission['Id'] = kag_smotegrb_submission.index + 1\n",
    "kag_smotegrb_submission[['Id', 'WnvPresent']].to_csv('P4_smote_grb10_submit.csv', index = False)\n",
    "\n",
    "#score is 0.70"
   ]
  },
  {
   "cell_type": "markdown",
   "metadata": {},
   "source": [
    "|Model|train ACCURACY %|test ACCURACY %|Overfitting / Underfitting|test SENSITIVITY %|test SPECIFICITY %|test ROC-AUC|kaggle ROC-AUC|\n",
    "|---|---|---|---|---|---|---|---|\n",
    "|SMOTE SVM|79.7|69.3|10.4|85.9|68.4|0.844|0.67|\n",
    "|SMOTE gradient boosting|88|80.7|7.3|82.4|80.6|0.87|0.70|"
   ]
  },
  {
   "cell_type": "markdown",
   "metadata": {},
   "source": [
    "## ADASYN Random Forest"
   ]
  },
  {
   "cell_type": "code",
   "execution_count": 520,
   "metadata": {},
   "outputs": [],
   "source": [
    "# Start your ADASYN instance\n",
    "ada = ADASYN(random_state=42)\n",
    "\n",
    "# Apply ADASYN to X_train and y_train\n",
    "X_ada_resampled, y_ada_resampled =ada.fit_resample(X_train_sc, y_train) "
   ]
  },
  {
   "cell_type": "code",
   "execution_count": 532,
   "metadata": {},
   "outputs": [
    {
     "data": {
      "text/plain": [
       "1    5888\n",
       "0    5885\n",
       "Name: WnvPresent, dtype: int64"
      ]
     },
     "execution_count": 532,
     "metadata": {},
     "output_type": "execute_result"
    }
   ],
   "source": [
    "y_ada_resampled.value_counts()"
   ]
  },
  {
   "cell_type": "code",
   "execution_count": 605,
   "metadata": {},
   "outputs": [
    {
     "data": {
      "text/plain": [
       "RandomForestClassifier(bootstrap=True, ccp_alpha=0, class_weight=None,\n",
       "                       criterion='gini', max_depth=5, max_features='auto',\n",
       "                       max_leaf_nodes=None, max_samples=None,\n",
       "                       min_impurity_decrease=0.0, min_impurity_split=None,\n",
       "                       min_samples_leaf=3, min_samples_split=600,\n",
       "                       min_weight_fraction_leaf=0.0, n_estimators=100,\n",
       "                       n_jobs=None, oob_score=False, random_state=42, verbose=0,\n",
       "                       warm_start=False)"
      ]
     },
     "execution_count": 605,
     "metadata": {},
     "output_type": "execute_result"
    }
   ],
   "source": [
    "rfc = RandomForestClassifier(n_estimators=100,\n",
    "                              ccp_alpha=0,\n",
    "                              max_depth=5,\n",
    "                              min_samples_split=600,\n",
    "                              min_samples_leaf=3,\n",
    "                              random_state=42\n",
    "                             )\n",
    "rfc.fit(X_ada_resampled, y_ada_resampled)"
   ]
  },
  {
   "cell_type": "code",
   "execution_count": 606,
   "metadata": {},
   "outputs": [],
   "source": [
    "#Get the predicts\n",
    "rfc_train_pred = rfc.predict(X_train_sc)\n",
    "rfc_test_pred = rfc.predict(X_test_sc)\n"
   ]
  },
  {
   "cell_type": "code",
   "execution_count": 607,
   "metadata": {},
   "outputs": [
    {
     "name": "stdout",
     "output_type": "stream",
     "text": [
      "0.7771355170199101\n",
      "0.7711946050096339\n"
     ]
    }
   ],
   "source": [
    "#print the scores\n",
    "\n",
    "print(rfc.score(X_train_sc, y_train))\n",
    "print(rfc.score(X_test_sc, y_test))"
   ]
  },
  {
   "cell_type": "code",
   "execution_count": 608,
   "metadata": {},
   "outputs": [
    {
     "name": "stdout",
     "output_type": "stream",
     "text": [
      "auc_roc score: 0.8719061287265053\n"
     ]
    }
   ],
   "source": [
    "#print the roc auc\n",
    "rfc_model_predict_proba = rfc.predict_proba(X_test_sc)\n",
    "rfc_model_pb_class1 = [ele[1] for ele in rfc_model_predict_proba]\n",
    "\n",
    "print(f'auc_roc score: {roc_auc_score(y_test,rfc_model_pb_class1)}')"
   ]
  },
  {
   "cell_type": "code",
   "execution_count": 609,
   "metadata": {},
   "outputs": [
    {
     "data": {
      "image/png": "[encoded data removed]",
      "text/plain": [
       "<Figure size 432x288 with 2 Axes>"
      ]
     },
     "metadata": {
      "needs_background": "light"
     },
     "output_type": "display_data"
    }
   ],
   "source": [
    "#plot the confusion matrix\n",
    "plot_confusion_matrix(rfc, X_test_sc, y_test,\n",
    "                      values_format = 'd',\n",
    "                      display_labels = [\"WNV Absent \",\"WNV Present\"],\n",
    "                     cmap='copper')\n",
    "\n",
    "plt.grid(False)\n",
    "plt.show()"
   ]
  },
  {
   "cell_type": "code",
   "execution_count": 610,
   "metadata": {},
   "outputs": [
    {
     "name": "stdout",
     "output_type": "stream",
     "text": [
      "Sensitivity: 0.8421\n",
      "Specificity: 0.7671\n"
     ]
    }
   ],
   "source": [
    "# Generate classification metrics \n",
    "tn, fp, fn, tp = confusion_matrix(y_test, rfc_test_pred).ravel()\n",
    "\n",
    "print(f'Sensitivity: {round(tp/(tp+fn),4)}')\n",
    "print(f'Specificity: {round(tn/(tn+fp),4)}')"
   ]
  },
  {
   "cell_type": "code",
   "execution_count": 583,
   "metadata": {},
   "outputs": [
    {
     "data": {
      "image/png": "[encoded data removed]",
      "text/plain": [
       "<Figure size 720x576 with 1 Axes>"
      ]
     },
     "metadata": {
      "needs_background": "light"
     },
     "output_type": "display_data"
    }
   ],
   "source": [
    "feat_imp = pd.Series(rfc.feature_importances_, features).sort_values(ascending=False)\n",
    "\n",
    "fig = plt.figure(figsize=(10,8))\n",
    "feat_imp.plot(kind='bar', title='Feature Importances');"
   ]
  },
  {
   "cell_type": "code",
   "execution_count": 592,
   "metadata": {},
   "outputs": [],
   "source": [
    "# Kaggle submission\n",
    "\n",
    "kag_smotesrfc_pred = pd.DataFrame(rfc.predict_proba(merged_test10[features]), columns=['0','1']) \n",
    "kag_smoterfc_submission = pd.DataFrame()\n",
    "kag_smoterfc_submission['WnvPresent'] = kag_smotesrfc_pred['1']\n",
    "kag_smoterfc_submission['Id'] = kag_smoterfc_submission.index + 1\n",
    "kag_smoterfc_submission[['Id', 'WnvPresent']].to_csv('P4_ada_rfc10_submit.csv', index = False)\n",
    "\n",
    "#score is 0.61"
   ]
  },
  {
   "cell_type": "markdown",
   "metadata": {},
   "source": [
    "|Model|train ACCURACY %|test ACCURACY %|Overfitting / Underfitting|test SENSITIVITY %|test SPECIFICITY %|test ROC-AUC|kaggle ROC-AUC|\n",
    "|---|---|---|---|---|---|---|---|\n",
    "|ADA RFC|77.7|77.1|0.6|84.2|76.7|0.871|0.61|"
   ]
  },
  {
   "cell_type": "code",
   "execution_count": null,
   "metadata": {},
   "outputs": [],
   "source": []
  }
 ],
 "metadata": {
  "kernelspec": {
   "display_name": "Python 3",
   "language": "python",
   "name": "python3"
  },
  "language_info": {
   "codemirror_mode": {
    "name": "ipython",
    "version": 3
   },
   "file_extension": ".py",
   "mimetype": "text/x-python",
   "name": "python",
   "nbconvert_exporter": "python",
   "pygments_lexer": "ipython3",
   "version": "3.7.3"
  }
 },
 "nbformat": 4,
 "nbformat_minor": 4
}
