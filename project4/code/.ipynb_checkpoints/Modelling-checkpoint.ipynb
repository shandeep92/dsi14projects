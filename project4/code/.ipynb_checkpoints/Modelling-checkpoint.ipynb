{
 "cells": [
  {
   "cell_type": "code",
   "execution_count": 1,
   "metadata": {},
   "outputs": [],
   "source": [
    "# Imports\n",
    "\n",
    "import pandas as pd\n",
    "import numpy as np\n",
    "import matplotlib.pyplot as plt\n",
    "import seaborn as sns\n",
    "\n",
    "from sklearn.preprocessing import StandardScaler, PolynomialFeatures\n",
    "from sklearn.model_selection import train_test_split, GridSearchCV\n",
    "from sklearn.linear_model import LogisticRegressionCV, LogisticRegression\n",
    "from sklearn.ensemble import RandomForestClassifier, AdaBoostClassifier\n",
    "from sklearn.svm import SVC\n",
    "from sklearn.metrics import confusion_matrix, roc_auc_score\n",
    "\n",
    "import time\n",
    "\n",
    "pd.set_option('display.max_columns', None)\n",
    "# pd.set_option('display.max_rows', None)\n",
    "pd.set_option('display.max_colwidth', None)"
   ]
  },
  {
   "cell_type": "code",
   "execution_count": 2,
   "metadata": {},
   "outputs": [],
   "source": [
    "# Importing merged_train and merged_test csv files.\n",
    "\n",
    "train = pd.read_csv(\"../input/merged_train_lag_10.csv\")\n",
    "test = pd.read_csv(\"../input/merged_test_lag_10.csv\")"
   ]
  },
  {
   "cell_type": "code",
   "execution_count": 3,
   "metadata": {},
   "outputs": [
    {
     "data": {
      "text/html": [
       "<div>\n",
       "<style scoped>\n",
       "    .dataframe tbody tr th:only-of-type {\n",
       "        vertical-align: middle;\n",
       "    }\n",
       "\n",
       "    .dataframe tbody tr th {\n",
       "        vertical-align: top;\n",
       "    }\n",
       "\n",
       "    .dataframe thead th {\n",
       "        text-align: right;\n",
       "    }\n",
       "</style>\n",
       "<table border=\"1\" class=\"dataframe\">\n",
       "  <thead>\n",
       "    <tr style=\"text-align: right;\">\n",
       "      <th></th>\n",
       "      <th>Date</th>\n",
       "      <th>Latitude</th>\n",
       "      <th>Longitude</th>\n",
       "      <th>Species_CULEX PIPIENS</th>\n",
       "      <th>Species_CULEX PIPIENS/RESTUANS</th>\n",
       "      <th>Species_CULEX RESTUANS</th>\n",
       "      <th>WnvPresent</th>\n",
       "      <th>Sprayed</th>\n",
       "      <th>Avg Pos Dist</th>\n",
       "      <th>Tmax</th>\n",
       "      <th>Tmin</th>\n",
       "      <th>Tavg</th>\n",
       "      <th>DewPoint</th>\n",
       "      <th>WetBulb</th>\n",
       "      <th>Heat</th>\n",
       "      <th>Cool</th>\n",
       "      <th>PrecipTotal</th>\n",
       "      <th>StnPressure</th>\n",
       "      <th>SeaLevel</th>\n",
       "      <th>ResultSpeed</th>\n",
       "      <th>ResultDir</th>\n",
       "      <th>AvgSpeed</th>\n",
       "      <th>Sunrise</th>\n",
       "      <th>Sunset</th>\n",
       "      <th>bc</th>\n",
       "      <th>br</th>\n",
       "      <th>dz</th>\n",
       "      <th>fg</th>\n",
       "      <th>fg+</th>\n",
       "      <th>fu</th>\n",
       "      <th>gr</th>\n",
       "      <th>hz</th>\n",
       "      <th>mi</th>\n",
       "      <th>ra</th>\n",
       "      <th>sn</th>\n",
       "      <th>sq</th>\n",
       "      <th>ts</th>\n",
       "      <th>vc</th>\n",
       "    </tr>\n",
       "  </thead>\n",
       "  <tbody>\n",
       "    <tr>\n",
       "      <th>0</th>\n",
       "      <td>2007-05-29</td>\n",
       "      <td>41.954690</td>\n",
       "      <td>-87.800991</td>\n",
       "      <td>0</td>\n",
       "      <td>1</td>\n",
       "      <td>0</td>\n",
       "      <td>0</td>\n",
       "      <td>0</td>\n",
       "      <td>1.0</td>\n",
       "      <td>80.0</td>\n",
       "      <td>56.0</td>\n",
       "      <td>68.0</td>\n",
       "      <td>38.0</td>\n",
       "      <td>53.0</td>\n",
       "      <td>0.0</td>\n",
       "      <td>3.0</td>\n",
       "      <td>0.0</td>\n",
       "      <td>29.375</td>\n",
       "      <td>30.08</td>\n",
       "      <td>11.1</td>\n",
       "      <td>23.5</td>\n",
       "      <td>11.4</td>\n",
       "      <td>4.466667</td>\n",
       "      <td>19.133333</td>\n",
       "      <td>0</td>\n",
       "      <td>0</td>\n",
       "      <td>0</td>\n",
       "      <td>0</td>\n",
       "      <td>0</td>\n",
       "      <td>0</td>\n",
       "      <td>0</td>\n",
       "      <td>0</td>\n",
       "      <td>0</td>\n",
       "      <td>0</td>\n",
       "      <td>0</td>\n",
       "      <td>0</td>\n",
       "      <td>0</td>\n",
       "      <td>0</td>\n",
       "    </tr>\n",
       "    <tr>\n",
       "      <th>1</th>\n",
       "      <td>2007-05-29</td>\n",
       "      <td>41.954690</td>\n",
       "      <td>-87.800991</td>\n",
       "      <td>0</td>\n",
       "      <td>0</td>\n",
       "      <td>1</td>\n",
       "      <td>0</td>\n",
       "      <td>0</td>\n",
       "      <td>1.0</td>\n",
       "      <td>80.0</td>\n",
       "      <td>56.0</td>\n",
       "      <td>68.0</td>\n",
       "      <td>38.0</td>\n",
       "      <td>53.0</td>\n",
       "      <td>0.0</td>\n",
       "      <td>3.0</td>\n",
       "      <td>0.0</td>\n",
       "      <td>29.375</td>\n",
       "      <td>30.08</td>\n",
       "      <td>11.1</td>\n",
       "      <td>23.5</td>\n",
       "      <td>11.4</td>\n",
       "      <td>4.466667</td>\n",
       "      <td>19.133333</td>\n",
       "      <td>0</td>\n",
       "      <td>0</td>\n",
       "      <td>0</td>\n",
       "      <td>0</td>\n",
       "      <td>0</td>\n",
       "      <td>0</td>\n",
       "      <td>0</td>\n",
       "      <td>0</td>\n",
       "      <td>0</td>\n",
       "      <td>0</td>\n",
       "      <td>0</td>\n",
       "      <td>0</td>\n",
       "      <td>0</td>\n",
       "      <td>0</td>\n",
       "    </tr>\n",
       "    <tr>\n",
       "      <th>2</th>\n",
       "      <td>2007-05-29</td>\n",
       "      <td>41.994991</td>\n",
       "      <td>-87.769279</td>\n",
       "      <td>0</td>\n",
       "      <td>0</td>\n",
       "      <td>1</td>\n",
       "      <td>0</td>\n",
       "      <td>0</td>\n",
       "      <td>1.0</td>\n",
       "      <td>80.0</td>\n",
       "      <td>56.0</td>\n",
       "      <td>68.0</td>\n",
       "      <td>38.0</td>\n",
       "      <td>53.0</td>\n",
       "      <td>0.0</td>\n",
       "      <td>3.0</td>\n",
       "      <td>0.0</td>\n",
       "      <td>29.375</td>\n",
       "      <td>30.08</td>\n",
       "      <td>11.1</td>\n",
       "      <td>23.5</td>\n",
       "      <td>11.4</td>\n",
       "      <td>4.466667</td>\n",
       "      <td>19.133333</td>\n",
       "      <td>0</td>\n",
       "      <td>0</td>\n",
       "      <td>0</td>\n",
       "      <td>0</td>\n",
       "      <td>0</td>\n",
       "      <td>0</td>\n",
       "      <td>0</td>\n",
       "      <td>0</td>\n",
       "      <td>0</td>\n",
       "      <td>0</td>\n",
       "      <td>0</td>\n",
       "      <td>0</td>\n",
       "      <td>0</td>\n",
       "      <td>0</td>\n",
       "    </tr>\n",
       "    <tr>\n",
       "      <th>3</th>\n",
       "      <td>2007-05-29</td>\n",
       "      <td>41.974089</td>\n",
       "      <td>-87.824812</td>\n",
       "      <td>0</td>\n",
       "      <td>1</td>\n",
       "      <td>0</td>\n",
       "      <td>0</td>\n",
       "      <td>0</td>\n",
       "      <td>1.0</td>\n",
       "      <td>80.0</td>\n",
       "      <td>56.0</td>\n",
       "      <td>68.0</td>\n",
       "      <td>38.0</td>\n",
       "      <td>53.0</td>\n",
       "      <td>0.0</td>\n",
       "      <td>3.0</td>\n",
       "      <td>0.0</td>\n",
       "      <td>29.375</td>\n",
       "      <td>30.08</td>\n",
       "      <td>11.1</td>\n",
       "      <td>23.5</td>\n",
       "      <td>11.4</td>\n",
       "      <td>4.466667</td>\n",
       "      <td>19.133333</td>\n",
       "      <td>0</td>\n",
       "      <td>0</td>\n",
       "      <td>0</td>\n",
       "      <td>0</td>\n",
       "      <td>0</td>\n",
       "      <td>0</td>\n",
       "      <td>0</td>\n",
       "      <td>0</td>\n",
       "      <td>0</td>\n",
       "      <td>0</td>\n",
       "      <td>0</td>\n",
       "      <td>0</td>\n",
       "      <td>0</td>\n",
       "      <td>0</td>\n",
       "    </tr>\n",
       "    <tr>\n",
       "      <th>4</th>\n",
       "      <td>2007-05-29</td>\n",
       "      <td>41.974089</td>\n",
       "      <td>-87.824812</td>\n",
       "      <td>0</td>\n",
       "      <td>0</td>\n",
       "      <td>1</td>\n",
       "      <td>0</td>\n",
       "      <td>0</td>\n",
       "      <td>1.0</td>\n",
       "      <td>80.0</td>\n",
       "      <td>56.0</td>\n",
       "      <td>68.0</td>\n",
       "      <td>38.0</td>\n",
       "      <td>53.0</td>\n",
       "      <td>0.0</td>\n",
       "      <td>3.0</td>\n",
       "      <td>0.0</td>\n",
       "      <td>29.375</td>\n",
       "      <td>30.08</td>\n",
       "      <td>11.1</td>\n",
       "      <td>23.5</td>\n",
       "      <td>11.4</td>\n",
       "      <td>4.466667</td>\n",
       "      <td>19.133333</td>\n",
       "      <td>0</td>\n",
       "      <td>0</td>\n",
       "      <td>0</td>\n",
       "      <td>0</td>\n",
       "      <td>0</td>\n",
       "      <td>0</td>\n",
       "      <td>0</td>\n",
       "      <td>0</td>\n",
       "      <td>0</td>\n",
       "      <td>0</td>\n",
       "      <td>0</td>\n",
       "      <td>0</td>\n",
       "      <td>0</td>\n",
       "      <td>0</td>\n",
       "    </tr>\n",
       "  </tbody>\n",
       "</table>\n",
       "</div>"
      ],
      "text/plain": [
       "         Date   Latitude  Longitude  Species_CULEX PIPIENS  \\\n",
       "0  2007-05-29  41.954690 -87.800991                      0   \n",
       "1  2007-05-29  41.954690 -87.800991                      0   \n",
       "2  2007-05-29  41.994991 -87.769279                      0   \n",
       "3  2007-05-29  41.974089 -87.824812                      0   \n",
       "4  2007-05-29  41.974089 -87.824812                      0   \n",
       "\n",
       "   Species_CULEX PIPIENS/RESTUANS  Species_CULEX RESTUANS  WnvPresent  \\\n",
       "0                               1                       0           0   \n",
       "1                               0                       1           0   \n",
       "2                               0                       1           0   \n",
       "3                               1                       0           0   \n",
       "4                               0                       1           0   \n",
       "\n",
       "   Sprayed  Avg Pos Dist  Tmax  Tmin  Tavg  DewPoint  WetBulb  Heat  Cool  \\\n",
       "0        0           1.0  80.0  56.0  68.0      38.0     53.0   0.0   3.0   \n",
       "1        0           1.0  80.0  56.0  68.0      38.0     53.0   0.0   3.0   \n",
       "2        0           1.0  80.0  56.0  68.0      38.0     53.0   0.0   3.0   \n",
       "3        0           1.0  80.0  56.0  68.0      38.0     53.0   0.0   3.0   \n",
       "4        0           1.0  80.0  56.0  68.0      38.0     53.0   0.0   3.0   \n",
       "\n",
       "   PrecipTotal  StnPressure  SeaLevel  ResultSpeed  ResultDir  AvgSpeed  \\\n",
       "0          0.0       29.375     30.08         11.1       23.5      11.4   \n",
       "1          0.0       29.375     30.08         11.1       23.5      11.4   \n",
       "2          0.0       29.375     30.08         11.1       23.5      11.4   \n",
       "3          0.0       29.375     30.08         11.1       23.5      11.4   \n",
       "4          0.0       29.375     30.08         11.1       23.5      11.4   \n",
       "\n",
       "    Sunrise     Sunset  bc  br  dz  fg  fg+  fu  gr  hz  mi  ra  sn  sq  ts  \\\n",
       "0  4.466667  19.133333   0   0   0   0    0   0   0   0   0   0   0   0   0   \n",
       "1  4.466667  19.133333   0   0   0   0    0   0   0   0   0   0   0   0   0   \n",
       "2  4.466667  19.133333   0   0   0   0    0   0   0   0   0   0   0   0   0   \n",
       "3  4.466667  19.133333   0   0   0   0    0   0   0   0   0   0   0   0   0   \n",
       "4  4.466667  19.133333   0   0   0   0    0   0   0   0   0   0   0   0   0   \n",
       "\n",
       "   vc  \n",
       "0   0  \n",
       "1   0  \n",
       "2   0  \n",
       "3   0  \n",
       "4   0  "
      ]
     },
     "execution_count": 3,
     "metadata": {},
     "output_type": "execute_result"
    }
   ],
   "source": [
    "train.head()"
   ]
  },
  {
   "cell_type": "code",
   "execution_count": 4,
   "metadata": {},
   "outputs": [
    {
     "data": {
      "text/plain": [
       "(8304, 38)"
      ]
     },
     "execution_count": 4,
     "metadata": {},
     "output_type": "execute_result"
    }
   ],
   "source": [
    "train.shape"
   ]
  },
  {
   "cell_type": "code",
   "execution_count": 5,
   "metadata": {},
   "outputs": [
    {
     "data": {
      "text/plain": [
       "0"
      ]
     },
     "execution_count": 5,
     "metadata": {},
     "output_type": "execute_result"
    }
   ],
   "source": [
    "train.isnull().sum().sum()"
   ]
  },
  {
   "cell_type": "code",
   "execution_count": 6,
   "metadata": {},
   "outputs": [],
   "source": [
    "# Defining features dataframe X and target variable y from train dataframe.\n",
    "\n",
    "X = train[[col for col in train.columns if col not in ['Date', 'WnvPresent']]]\n",
    "y = train['WnvPresent']"
   ]
  },
  {
   "cell_type": "code",
   "execution_count": 7,
   "metadata": {},
   "outputs": [],
   "source": [
    "# Preparing test dataframe for predictions and submissions to kaggle later.\n",
    "\n",
    "act_test_X = test[[col for col in test.columns if col not in ['Date', 'Id']]]"
   ]
  },
  {
   "cell_type": "code",
   "execution_count": 8,
   "metadata": {},
   "outputs": [],
   "source": [
    "# Splitting X and y into training and testing datasets.\n",
    "\n",
    "X_train, X_test, y_train, y_test = train_test_split(X, y, stratify=y, random_state=42)"
   ]
  },
  {
   "cell_type": "code",
   "execution_count": 9,
   "metadata": {},
   "outputs": [
    {
     "data": {
      "text/html": [
       "<div>\n",
       "<style scoped>\n",
       "    .dataframe tbody tr th:only-of-type {\n",
       "        vertical-align: middle;\n",
       "    }\n",
       "\n",
       "    .dataframe tbody tr th {\n",
       "        vertical-align: top;\n",
       "    }\n",
       "\n",
       "    .dataframe thead th {\n",
       "        text-align: right;\n",
       "    }\n",
       "</style>\n",
       "<table border=\"1\" class=\"dataframe\">\n",
       "  <thead>\n",
       "    <tr style=\"text-align: right;\">\n",
       "      <th></th>\n",
       "      <th>Latitude</th>\n",
       "      <th>Longitude</th>\n",
       "      <th>Species_CULEX PIPIENS</th>\n",
       "      <th>Species_CULEX PIPIENS/RESTUANS</th>\n",
       "      <th>Species_CULEX RESTUANS</th>\n",
       "      <th>Sprayed</th>\n",
       "      <th>Avg Pos Dist</th>\n",
       "      <th>Tmax</th>\n",
       "      <th>Tmin</th>\n",
       "      <th>Tavg</th>\n",
       "      <th>DewPoint</th>\n",
       "      <th>WetBulb</th>\n",
       "      <th>Heat</th>\n",
       "      <th>Cool</th>\n",
       "      <th>PrecipTotal</th>\n",
       "      <th>StnPressure</th>\n",
       "      <th>SeaLevel</th>\n",
       "      <th>ResultSpeed</th>\n",
       "      <th>ResultDir</th>\n",
       "      <th>AvgSpeed</th>\n",
       "      <th>Sunrise</th>\n",
       "      <th>Sunset</th>\n",
       "      <th>bc</th>\n",
       "      <th>br</th>\n",
       "      <th>dz</th>\n",
       "      <th>fg</th>\n",
       "      <th>fg+</th>\n",
       "      <th>fu</th>\n",
       "      <th>gr</th>\n",
       "      <th>hz</th>\n",
       "      <th>mi</th>\n",
       "      <th>ra</th>\n",
       "      <th>sn</th>\n",
       "      <th>sq</th>\n",
       "      <th>ts</th>\n",
       "      <th>vc</th>\n",
       "    </tr>\n",
       "  </thead>\n",
       "  <tbody>\n",
       "    <tr>\n",
       "      <th>942</th>\n",
       "      <td>41.822536</td>\n",
       "      <td>-87.666343</td>\n",
       "      <td>0</td>\n",
       "      <td>1</td>\n",
       "      <td>0</td>\n",
       "      <td>0</td>\n",
       "      <td>1.000000</td>\n",
       "      <td>82.5</td>\n",
       "      <td>61.5</td>\n",
       "      <td>72.00</td>\n",
       "      <td>55.0</td>\n",
       "      <td>63.0</td>\n",
       "      <td>0.0</td>\n",
       "      <td>7.5</td>\n",
       "      <td>0.000</td>\n",
       "      <td>29.395</td>\n",
       "      <td>30.095</td>\n",
       "      <td>3.05</td>\n",
       "      <td>10.5</td>\n",
       "      <td>3.95</td>\n",
       "      <td>4.600000</td>\n",
       "      <td>19.333333</td>\n",
       "      <td>0</td>\n",
       "      <td>0</td>\n",
       "      <td>0</td>\n",
       "      <td>0</td>\n",
       "      <td>0</td>\n",
       "      <td>0</td>\n",
       "      <td>0</td>\n",
       "      <td>0</td>\n",
       "      <td>0</td>\n",
       "      <td>0</td>\n",
       "      <td>0</td>\n",
       "      <td>0</td>\n",
       "      <td>0</td>\n",
       "      <td>0</td>\n",
       "    </tr>\n",
       "    <tr>\n",
       "      <th>4069</th>\n",
       "      <td>41.992478</td>\n",
       "      <td>-87.862995</td>\n",
       "      <td>1</td>\n",
       "      <td>0</td>\n",
       "      <td>0</td>\n",
       "      <td>0</td>\n",
       "      <td>0.000000</td>\n",
       "      <td>89.0</td>\n",
       "      <td>68.5</td>\n",
       "      <td>78.75</td>\n",
       "      <td>61.0</td>\n",
       "      <td>67.5</td>\n",
       "      <td>0.0</td>\n",
       "      <td>14.0</td>\n",
       "      <td>0.000</td>\n",
       "      <td>29.350</td>\n",
       "      <td>30.030</td>\n",
       "      <td>8.50</td>\n",
       "      <td>19.0</td>\n",
       "      <td>8.80</td>\n",
       "      <td>4.983333</td>\n",
       "      <td>18.900000</td>\n",
       "      <td>0</td>\n",
       "      <td>0</td>\n",
       "      <td>0</td>\n",
       "      <td>0</td>\n",
       "      <td>0</td>\n",
       "      <td>0</td>\n",
       "      <td>0</td>\n",
       "      <td>0</td>\n",
       "      <td>0</td>\n",
       "      <td>0</td>\n",
       "      <td>0</td>\n",
       "      <td>0</td>\n",
       "      <td>0</td>\n",
       "      <td>0</td>\n",
       "    </tr>\n",
       "    <tr>\n",
       "      <th>5362</th>\n",
       "      <td>41.867108</td>\n",
       "      <td>-87.654224</td>\n",
       "      <td>0</td>\n",
       "      <td>1</td>\n",
       "      <td>0</td>\n",
       "      <td>0</td>\n",
       "      <td>0.012672</td>\n",
       "      <td>84.0</td>\n",
       "      <td>71.5</td>\n",
       "      <td>77.75</td>\n",
       "      <td>62.5</td>\n",
       "      <td>68.0</td>\n",
       "      <td>0.0</td>\n",
       "      <td>13.0</td>\n",
       "      <td>0.005</td>\n",
       "      <td>29.205</td>\n",
       "      <td>29.870</td>\n",
       "      <td>6.10</td>\n",
       "      <td>5.5</td>\n",
       "      <td>8.25</td>\n",
       "      <td>4.650000</td>\n",
       "      <td>19.300000</td>\n",
       "      <td>0</td>\n",
       "      <td>0</td>\n",
       "      <td>0</td>\n",
       "      <td>0</td>\n",
       "      <td>0</td>\n",
       "      <td>0</td>\n",
       "      <td>0</td>\n",
       "      <td>0</td>\n",
       "      <td>0</td>\n",
       "      <td>0</td>\n",
       "      <td>0</td>\n",
       "      <td>0</td>\n",
       "      <td>0</td>\n",
       "      <td>0</td>\n",
       "    </tr>\n",
       "    <tr>\n",
       "      <th>2001</th>\n",
       "      <td>41.781416</td>\n",
       "      <td>-87.776532</td>\n",
       "      <td>0</td>\n",
       "      <td>1</td>\n",
       "      <td>0</td>\n",
       "      <td>0</td>\n",
       "      <td>0.017086</td>\n",
       "      <td>78.5</td>\n",
       "      <td>60.5</td>\n",
       "      <td>69.50</td>\n",
       "      <td>55.0</td>\n",
       "      <td>61.5</td>\n",
       "      <td>0.0</td>\n",
       "      <td>5.0</td>\n",
       "      <td>0.000</td>\n",
       "      <td>29.410</td>\n",
       "      <td>30.075</td>\n",
       "      <td>3.65</td>\n",
       "      <td>11.0</td>\n",
       "      <td>5.00</td>\n",
       "      <td>5.183333</td>\n",
       "      <td>18.616667</td>\n",
       "      <td>0</td>\n",
       "      <td>0</td>\n",
       "      <td>0</td>\n",
       "      <td>0</td>\n",
       "      <td>0</td>\n",
       "      <td>0</td>\n",
       "      <td>0</td>\n",
       "      <td>0</td>\n",
       "      <td>0</td>\n",
       "      <td>0</td>\n",
       "      <td>0</td>\n",
       "      <td>0</td>\n",
       "      <td>0</td>\n",
       "      <td>0</td>\n",
       "    </tr>\n",
       "    <tr>\n",
       "      <th>3466</th>\n",
       "      <td>41.801498</td>\n",
       "      <td>-87.763416</td>\n",
       "      <td>0</td>\n",
       "      <td>0</td>\n",
       "      <td>1</td>\n",
       "      <td>0</td>\n",
       "      <td>0.027500</td>\n",
       "      <td>76.5</td>\n",
       "      <td>62.0</td>\n",
       "      <td>69.25</td>\n",
       "      <td>54.5</td>\n",
       "      <td>60.5</td>\n",
       "      <td>0.0</td>\n",
       "      <td>4.5</td>\n",
       "      <td>0.000</td>\n",
       "      <td>29.210</td>\n",
       "      <td>29.885</td>\n",
       "      <td>5.90</td>\n",
       "      <td>7.0</td>\n",
       "      <td>7.25</td>\n",
       "      <td>4.383333</td>\n",
       "      <td>19.500000</td>\n",
       "      <td>0</td>\n",
       "      <td>0</td>\n",
       "      <td>0</td>\n",
       "      <td>0</td>\n",
       "      <td>0</td>\n",
       "      <td>0</td>\n",
       "      <td>0</td>\n",
       "      <td>0</td>\n",
       "      <td>0</td>\n",
       "      <td>1</td>\n",
       "      <td>0</td>\n",
       "      <td>0</td>\n",
       "      <td>0</td>\n",
       "      <td>0</td>\n",
       "    </tr>\n",
       "  </tbody>\n",
       "</table>\n",
       "</div>"
      ],
      "text/plain": [
       "       Latitude  Longitude  Species_CULEX PIPIENS  \\\n",
       "942   41.822536 -87.666343                      0   \n",
       "4069  41.992478 -87.862995                      1   \n",
       "5362  41.867108 -87.654224                      0   \n",
       "2001  41.781416 -87.776532                      0   \n",
       "3466  41.801498 -87.763416                      0   \n",
       "\n",
       "      Species_CULEX PIPIENS/RESTUANS  Species_CULEX RESTUANS  Sprayed  \\\n",
       "942                                1                       0        0   \n",
       "4069                               0                       0        0   \n",
       "5362                               1                       0        0   \n",
       "2001                               1                       0        0   \n",
       "3466                               0                       1        0   \n",
       "\n",
       "      Avg Pos Dist  Tmax  Tmin   Tavg  DewPoint  WetBulb  Heat  Cool  \\\n",
       "942       1.000000  82.5  61.5  72.00      55.0     63.0   0.0   7.5   \n",
       "4069      0.000000  89.0  68.5  78.75      61.0     67.5   0.0  14.0   \n",
       "5362      0.012672  84.0  71.5  77.75      62.5     68.0   0.0  13.0   \n",
       "2001      0.017086  78.5  60.5  69.50      55.0     61.5   0.0   5.0   \n",
       "3466      0.027500  76.5  62.0  69.25      54.5     60.5   0.0   4.5   \n",
       "\n",
       "      PrecipTotal  StnPressure  SeaLevel  ResultSpeed  ResultDir  AvgSpeed  \\\n",
       "942         0.000       29.395    30.095         3.05       10.5      3.95   \n",
       "4069        0.000       29.350    30.030         8.50       19.0      8.80   \n",
       "5362        0.005       29.205    29.870         6.10        5.5      8.25   \n",
       "2001        0.000       29.410    30.075         3.65       11.0      5.00   \n",
       "3466        0.000       29.210    29.885         5.90        7.0      7.25   \n",
       "\n",
       "       Sunrise     Sunset  bc  br  dz  fg  fg+  fu  gr  hz  mi  ra  sn  sq  \\\n",
       "942   4.600000  19.333333   0   0   0   0    0   0   0   0   0   0   0   0   \n",
       "4069  4.983333  18.900000   0   0   0   0    0   0   0   0   0   0   0   0   \n",
       "5362  4.650000  19.300000   0   0   0   0    0   0   0   0   0   0   0   0   \n",
       "2001  5.183333  18.616667   0   0   0   0    0   0   0   0   0   0   0   0   \n",
       "3466  4.383333  19.500000   0   0   0   0    0   0   0   0   0   1   0   0   \n",
       "\n",
       "      ts  vc  \n",
       "942    0   0  \n",
       "4069   0   0  \n",
       "5362   0   0  \n",
       "2001   0   0  \n",
       "3466   0   0  "
      ]
     },
     "execution_count": 9,
     "metadata": {},
     "output_type": "execute_result"
    }
   ],
   "source": [
    "X_train.head()"
   ]
  },
  {
   "cell_type": "code",
   "execution_count": 10,
   "metadata": {},
   "outputs": [
    {
     "data": {
      "text/plain": [
       "(6228, 36)"
      ]
     },
     "execution_count": 10,
     "metadata": {},
     "output_type": "execute_result"
    }
   ],
   "source": [
    "X_train.shape"
   ]
  },
  {
   "cell_type": "code",
   "execution_count": 11,
   "metadata": {},
   "outputs": [
    {
     "data": {
      "text/html": [
       "<div>\n",
       "<style scoped>\n",
       "    .dataframe tbody tr th:only-of-type {\n",
       "        vertical-align: middle;\n",
       "    }\n",
       "\n",
       "    .dataframe tbody tr th {\n",
       "        vertical-align: top;\n",
       "    }\n",
       "\n",
       "    .dataframe thead th {\n",
       "        text-align: right;\n",
       "    }\n",
       "</style>\n",
       "<table border=\"1\" class=\"dataframe\">\n",
       "  <thead>\n",
       "    <tr style=\"text-align: right;\">\n",
       "      <th></th>\n",
       "      <th>Latitude</th>\n",
       "      <th>Longitude</th>\n",
       "      <th>Species_CULEX PIPIENS</th>\n",
       "      <th>Species_CULEX PIPIENS/RESTUANS</th>\n",
       "      <th>Species_CULEX RESTUANS</th>\n",
       "      <th>Sprayed</th>\n",
       "      <th>Avg Pos Dist</th>\n",
       "      <th>Tmax</th>\n",
       "      <th>Tmin</th>\n",
       "      <th>Tavg</th>\n",
       "      <th>DewPoint</th>\n",
       "      <th>WetBulb</th>\n",
       "      <th>Heat</th>\n",
       "      <th>Cool</th>\n",
       "      <th>PrecipTotal</th>\n",
       "      <th>StnPressure</th>\n",
       "      <th>SeaLevel</th>\n",
       "      <th>ResultSpeed</th>\n",
       "      <th>ResultDir</th>\n",
       "      <th>AvgSpeed</th>\n",
       "      <th>Sunrise</th>\n",
       "      <th>Sunset</th>\n",
       "      <th>bc</th>\n",
       "      <th>br</th>\n",
       "      <th>dz</th>\n",
       "      <th>fg</th>\n",
       "      <th>fg+</th>\n",
       "      <th>fu</th>\n",
       "      <th>gr</th>\n",
       "      <th>hz</th>\n",
       "      <th>mi</th>\n",
       "      <th>ra</th>\n",
       "      <th>sn</th>\n",
       "      <th>sq</th>\n",
       "      <th>ts</th>\n",
       "      <th>vc</th>\n",
       "    </tr>\n",
       "  </thead>\n",
       "  <tbody>\n",
       "    <tr>\n",
       "      <th>3391</th>\n",
       "      <td>41.825610</td>\n",
       "      <td>-87.726549</td>\n",
       "      <td>0</td>\n",
       "      <td>0</td>\n",
       "      <td>1</td>\n",
       "      <td>0</td>\n",
       "      <td>0.022351</td>\n",
       "      <td>67.0</td>\n",
       "      <td>60.0</td>\n",
       "      <td>63.50</td>\n",
       "      <td>53.0</td>\n",
       "      <td>57.5</td>\n",
       "      <td>1.0</td>\n",
       "      <td>0.0</td>\n",
       "      <td>0.000</td>\n",
       "      <td>28.975</td>\n",
       "      <td>29.645</td>\n",
       "      <td>8.50</td>\n",
       "      <td>30.0</td>\n",
       "      <td>8.70</td>\n",
       "      <td>4.316667</td>\n",
       "      <td>19.516667</td>\n",
       "      <td>0</td>\n",
       "      <td>0</td>\n",
       "      <td>0</td>\n",
       "      <td>0</td>\n",
       "      <td>0</td>\n",
       "      <td>0</td>\n",
       "      <td>0</td>\n",
       "      <td>0</td>\n",
       "      <td>0</td>\n",
       "      <td>0</td>\n",
       "      <td>0</td>\n",
       "      <td>0</td>\n",
       "      <td>0</td>\n",
       "      <td>0</td>\n",
       "    </tr>\n",
       "    <tr>\n",
       "      <th>6660</th>\n",
       "      <td>41.682587</td>\n",
       "      <td>-87.707973</td>\n",
       "      <td>0</td>\n",
       "      <td>1</td>\n",
       "      <td>0</td>\n",
       "      <td>0</td>\n",
       "      <td>0.019559</td>\n",
       "      <td>83.0</td>\n",
       "      <td>67.5</td>\n",
       "      <td>75.25</td>\n",
       "      <td>60.5</td>\n",
       "      <td>65.5</td>\n",
       "      <td>0.0</td>\n",
       "      <td>10.5</td>\n",
       "      <td>0.080</td>\n",
       "      <td>28.940</td>\n",
       "      <td>29.625</td>\n",
       "      <td>9.75</td>\n",
       "      <td>30.0</td>\n",
       "      <td>10.35</td>\n",
       "      <td>4.316667</td>\n",
       "      <td>19.516667</td>\n",
       "      <td>0</td>\n",
       "      <td>0</td>\n",
       "      <td>0</td>\n",
       "      <td>0</td>\n",
       "      <td>0</td>\n",
       "      <td>0</td>\n",
       "      <td>0</td>\n",
       "      <td>0</td>\n",
       "      <td>0</td>\n",
       "      <td>1</td>\n",
       "      <td>0</td>\n",
       "      <td>0</td>\n",
       "      <td>0</td>\n",
       "      <td>0</td>\n",
       "    </tr>\n",
       "    <tr>\n",
       "      <th>4820</th>\n",
       "      <td>41.778297</td>\n",
       "      <td>-87.752411</td>\n",
       "      <td>0</td>\n",
       "      <td>1</td>\n",
       "      <td>0</td>\n",
       "      <td>0</td>\n",
       "      <td>0.020156</td>\n",
       "      <td>79.5</td>\n",
       "      <td>67.0</td>\n",
       "      <td>73.25</td>\n",
       "      <td>67.0</td>\n",
       "      <td>69.0</td>\n",
       "      <td>0.0</td>\n",
       "      <td>8.5</td>\n",
       "      <td>0.705</td>\n",
       "      <td>29.040</td>\n",
       "      <td>29.710</td>\n",
       "      <td>7.10</td>\n",
       "      <td>16.0</td>\n",
       "      <td>8.80</td>\n",
       "      <td>4.266667</td>\n",
       "      <td>19.500000</td>\n",
       "      <td>0</td>\n",
       "      <td>1</td>\n",
       "      <td>0</td>\n",
       "      <td>0</td>\n",
       "      <td>0</td>\n",
       "      <td>0</td>\n",
       "      <td>0</td>\n",
       "      <td>0</td>\n",
       "      <td>0</td>\n",
       "      <td>1</td>\n",
       "      <td>0</td>\n",
       "      <td>0</td>\n",
       "      <td>1</td>\n",
       "      <td>0</td>\n",
       "    </tr>\n",
       "    <tr>\n",
       "      <th>8132</th>\n",
       "      <td>41.662014</td>\n",
       "      <td>-87.724608</td>\n",
       "      <td>1</td>\n",
       "      <td>0</td>\n",
       "      <td>0</td>\n",
       "      <td>0</td>\n",
       "      <td>0.010176</td>\n",
       "      <td>94.0</td>\n",
       "      <td>68.5</td>\n",
       "      <td>81.25</td>\n",
       "      <td>69.0</td>\n",
       "      <td>73.5</td>\n",
       "      <td>0.0</td>\n",
       "      <td>16.5</td>\n",
       "      <td>0.000</td>\n",
       "      <td>29.185</td>\n",
       "      <td>29.860</td>\n",
       "      <td>8.75</td>\n",
       "      <td>20.0</td>\n",
       "      <td>9.65</td>\n",
       "      <td>5.416667</td>\n",
       "      <td>18.233333</td>\n",
       "      <td>0</td>\n",
       "      <td>0</td>\n",
       "      <td>0</td>\n",
       "      <td>0</td>\n",
       "      <td>0</td>\n",
       "      <td>0</td>\n",
       "      <td>0</td>\n",
       "      <td>1</td>\n",
       "      <td>0</td>\n",
       "      <td>0</td>\n",
       "      <td>0</td>\n",
       "      <td>0</td>\n",
       "      <td>0</td>\n",
       "      <td>0</td>\n",
       "    </tr>\n",
       "    <tr>\n",
       "      <th>2155</th>\n",
       "      <td>41.726465</td>\n",
       "      <td>-87.585413</td>\n",
       "      <td>0</td>\n",
       "      <td>1</td>\n",
       "      <td>0</td>\n",
       "      <td>0</td>\n",
       "      <td>0.011834</td>\n",
       "      <td>84.5</td>\n",
       "      <td>61.5</td>\n",
       "      <td>73.00</td>\n",
       "      <td>56.5</td>\n",
       "      <td>63.0</td>\n",
       "      <td>0.0</td>\n",
       "      <td>8.0</td>\n",
       "      <td>0.000</td>\n",
       "      <td>29.440</td>\n",
       "      <td>30.140</td>\n",
       "      <td>4.50</td>\n",
       "      <td>21.0</td>\n",
       "      <td>5.50</td>\n",
       "      <td>5.300000</td>\n",
       "      <td>18.433333</td>\n",
       "      <td>0</td>\n",
       "      <td>0</td>\n",
       "      <td>0</td>\n",
       "      <td>0</td>\n",
       "      <td>0</td>\n",
       "      <td>0</td>\n",
       "      <td>0</td>\n",
       "      <td>0</td>\n",
       "      <td>0</td>\n",
       "      <td>0</td>\n",
       "      <td>0</td>\n",
       "      <td>0</td>\n",
       "      <td>0</td>\n",
       "      <td>0</td>\n",
       "    </tr>\n",
       "  </tbody>\n",
       "</table>\n",
       "</div>"
      ],
      "text/plain": [
       "       Latitude  Longitude  Species_CULEX PIPIENS  \\\n",
       "3391  41.825610 -87.726549                      0   \n",
       "6660  41.682587 -87.707973                      0   \n",
       "4820  41.778297 -87.752411                      0   \n",
       "8132  41.662014 -87.724608                      1   \n",
       "2155  41.726465 -87.585413                      0   \n",
       "\n",
       "      Species_CULEX PIPIENS/RESTUANS  Species_CULEX RESTUANS  Sprayed  \\\n",
       "3391                               0                       1        0   \n",
       "6660                               1                       0        0   \n",
       "4820                               1                       0        0   \n",
       "8132                               0                       0        0   \n",
       "2155                               1                       0        0   \n",
       "\n",
       "      Avg Pos Dist  Tmax  Tmin   Tavg  DewPoint  WetBulb  Heat  Cool  \\\n",
       "3391      0.022351  67.0  60.0  63.50      53.0     57.5   1.0   0.0   \n",
       "6660      0.019559  83.0  67.5  75.25      60.5     65.5   0.0  10.5   \n",
       "4820      0.020156  79.5  67.0  73.25      67.0     69.0   0.0   8.5   \n",
       "8132      0.010176  94.0  68.5  81.25      69.0     73.5   0.0  16.5   \n",
       "2155      0.011834  84.5  61.5  73.00      56.5     63.0   0.0   8.0   \n",
       "\n",
       "      PrecipTotal  StnPressure  SeaLevel  ResultSpeed  ResultDir  AvgSpeed  \\\n",
       "3391        0.000       28.975    29.645         8.50       30.0      8.70   \n",
       "6660        0.080       28.940    29.625         9.75       30.0     10.35   \n",
       "4820        0.705       29.040    29.710         7.10       16.0      8.80   \n",
       "8132        0.000       29.185    29.860         8.75       20.0      9.65   \n",
       "2155        0.000       29.440    30.140         4.50       21.0      5.50   \n",
       "\n",
       "       Sunrise     Sunset  bc  br  dz  fg  fg+  fu  gr  hz  mi  ra  sn  sq  \\\n",
       "3391  4.316667  19.516667   0   0   0   0    0   0   0   0   0   0   0   0   \n",
       "6660  4.316667  19.516667   0   0   0   0    0   0   0   0   0   1   0   0   \n",
       "4820  4.266667  19.500000   0   1   0   0    0   0   0   0   0   1   0   0   \n",
       "8132  5.416667  18.233333   0   0   0   0    0   0   0   1   0   0   0   0   \n",
       "2155  5.300000  18.433333   0   0   0   0    0   0   0   0   0   0   0   0   \n",
       "\n",
       "      ts  vc  \n",
       "3391   0   0  \n",
       "6660   0   0  \n",
       "4820   1   0  \n",
       "8132   0   0  \n",
       "2155   0   0  "
      ]
     },
     "execution_count": 11,
     "metadata": {},
     "output_type": "execute_result"
    }
   ],
   "source": [
    "X_test.head()"
   ]
  },
  {
   "cell_type": "code",
   "execution_count": 12,
   "metadata": {},
   "outputs": [
    {
     "data": {
      "text/plain": [
       "(2076, 36)"
      ]
     },
     "execution_count": 12,
     "metadata": {},
     "output_type": "execute_result"
    }
   ],
   "source": [
    "X_test.shape"
   ]
  },
  {
   "cell_type": "code",
   "execution_count": 13,
   "metadata": {},
   "outputs": [
    {
     "data": {
      "text/plain": [
       "0    0.944926\n",
       "1    0.055074\n",
       "Name: WnvPresent, dtype: float64"
      ]
     },
     "execution_count": 13,
     "metadata": {},
     "output_type": "execute_result"
    }
   ],
   "source": [
    "# Checking the distribution of classes to ensure is is same as y_test.\n",
    "\n",
    "y_train.value_counts(normalize=True)"
   ]
  },
  {
   "cell_type": "code",
   "execution_count": 14,
   "metadata": {},
   "outputs": [
    {
     "data": {
      "text/plain": [
       "0    0.945087\n",
       "1    0.054913\n",
       "Name: WnvPresent, dtype: float64"
      ]
     },
     "execution_count": 14,
     "metadata": {},
     "output_type": "execute_result"
    }
   ],
   "source": [
    "# Checking the distribution of classes to ensure is is same as y_train.\n",
    "\n",
    "y_test.value_counts(normalize=True)"
   ]
  },
  {
   "cell_type": "markdown",
   "metadata": {},
   "source": [
    "### Scaling X_train and X_test using StandardScaler"
   ]
  },
  {
   "cell_type": "code",
   "execution_count": 15,
   "metadata": {},
   "outputs": [],
   "source": [
    "# Scaling X_train to the standard scale.\n",
    "\n",
    "ss = StandardScaler()\n",
    "X_train_sc = ss.fit_transform(X_train)"
   ]
  },
  {
   "cell_type": "code",
   "execution_count": 16,
   "metadata": {},
   "outputs": [],
   "source": [
    "# Transforming X_test to the same scale.\n",
    "\n",
    "X_test_sc = ss.transform(X_test)"
   ]
  },
  {
   "cell_type": "code",
   "execution_count": 17,
   "metadata": {},
   "outputs": [],
   "source": [
    "# Transforming actual test dataframe to the same scale (to generate predictions for kaggle submission later).\n",
    "\n",
    "act_test_X_sc = ss.transform(act_test_X)"
   ]
  },
  {
   "cell_type": "markdown",
   "metadata": {},
   "source": [
    "### Trying basic LogisticRegression with *class_weight='balanced '*"
   ]
  },
  {
   "cell_type": "code",
   "execution_count": 18,
   "metadata": {},
   "outputs": [],
   "source": [
    "# Defining a LogisticRegressionCV object.\n",
    "\n",
    "logregcv1 = LogisticRegressionCV(class_weight='balanced',\n",
    "                                 cv=5,\n",
    "                                 random_state=42,\n",
    "                                 penalty='elasticnet',\n",
    "                                 solver='saga',\n",
    "                                 Cs=5,\n",
    "                                 l1_ratios=[0, 0.5, 1],\n",
    "                                 max_iter=500,\n",
    "                                 tol=0.01,\n",
    "                                )"
   ]
  },
  {
   "cell_type": "code",
   "execution_count": 19,
   "metadata": {},
   "outputs": [
    {
     "data": {
      "text/plain": [
       "LogisticRegressionCV(Cs=5, class_weight='balanced', cv=5, dual=False,\n",
       "                     fit_intercept=True, intercept_scaling=1.0,\n",
       "                     l1_ratios=[0, 0.5, 1], max_iter=500, multi_class='auto',\n",
       "                     n_jobs=None, penalty='elasticnet', random_state=42,\n",
       "                     refit=True, scoring=None, solver='saga', tol=0.01,\n",
       "                     verbose=0)"
      ]
     },
     "execution_count": 19,
     "metadata": {},
     "output_type": "execute_result"
    }
   ],
   "source": [
    "# Fitting scaled X_train_sc on LogisticRegressionCV object defined above.\n",
    "\n",
    "logregcv1.fit(X_train_sc, y_train)"
   ]
  },
  {
   "cell_type": "code",
   "execution_count": 20,
   "metadata": {},
   "outputs": [
    {
     "data": {
      "text/plain": [
       "(100.0, 0.5)"
      ]
     },
     "execution_count": 20,
     "metadata": {},
     "output_type": "execute_result"
    }
   ],
   "source": [
    "# Best combination of hyperparameters suggested by LogisticRegressionCV.\n",
    "\n",
    "logregcv1.C_[0], logregcv1.l1_ratio_[0]"
   ]
  },
  {
   "cell_type": "code",
   "execution_count": 21,
   "metadata": {},
   "outputs": [
    {
     "data": {
      "text/plain": [
       "0.6706807964033398"
      ]
     },
     "execution_count": 21,
     "metadata": {},
     "output_type": "execute_result"
    }
   ],
   "source": [
    "# Scoring the model on training dataset.\n",
    "\n",
    "logregcv1.score(X_train_sc, y_train)"
   ]
  },
  {
   "cell_type": "code",
   "execution_count": 22,
   "metadata": {},
   "outputs": [
    {
     "data": {
      "text/plain": [
       "0.6714836223506744"
      ]
     },
     "execution_count": 22,
     "metadata": {},
     "output_type": "execute_result"
    }
   ],
   "source": [
    "# Scoring the model on testing dataset.\n",
    "\n",
    "logregcv1.score(X_test_sc, y_test)"
   ]
  },
  {
   "cell_type": "code",
   "execution_count": 23,
   "metadata": {},
   "outputs": [],
   "source": [
    "# Generating predictions on testing dataset using the model above.\n",
    "\n",
    "y_pred1 = logregcv1.predict(X_test_sc)"
   ]
  },
  {
   "cell_type": "code",
   "execution_count": 24,
   "metadata": {},
   "outputs": [],
   "source": [
    "# Generating prediction probabilities on testing dataset using the model above.\n",
    "\n",
    "y_pred_proba1 = logregcv1.predict_proba(X_test_sc)"
   ]
  },
  {
   "cell_type": "code",
   "execution_count": 25,
   "metadata": {},
   "outputs": [],
   "source": [
    "# Generating a confusion matrix.\n",
    "\n",
    "tn, fp, fn, tp = confusion_matrix(y_test, y_pred1).ravel()"
   ]
  },
  {
   "cell_type": "code",
   "execution_count": 26,
   "metadata": {},
   "outputs": [
    {
     "data": {
      "text/html": [
       "<div>\n",
       "<style scoped>\n",
       "    .dataframe tbody tr th:only-of-type {\n",
       "        vertical-align: middle;\n",
       "    }\n",
       "\n",
       "    .dataframe tbody tr th {\n",
       "        vertical-align: top;\n",
       "    }\n",
       "\n",
       "    .dataframe thead th {\n",
       "        text-align: right;\n",
       "    }\n",
       "</style>\n",
       "<table border=\"1\" class=\"dataframe\">\n",
       "  <thead>\n",
       "    <tr style=\"text-align: right;\">\n",
       "      <th></th>\n",
       "      <th>Actual WnvPresent=1</th>\n",
       "      <th>Actual WnvPresent=0</th>\n",
       "    </tr>\n",
       "  </thead>\n",
       "  <tbody>\n",
       "    <tr>\n",
       "      <th>Predicted WnvPresent=1</th>\n",
       "      <td>99 (True Pos)</td>\n",
       "      <td>667 (False Pos)</td>\n",
       "    </tr>\n",
       "    <tr>\n",
       "      <th>Predicted WnvPresent=0</th>\n",
       "      <td>15 (False Neg)</td>\n",
       "      <td>1295 (True Neg)</td>\n",
       "    </tr>\n",
       "  </tbody>\n",
       "</table>\n",
       "</div>"
      ],
      "text/plain": [
       "                       Actual WnvPresent=1 Actual WnvPresent=0\n",
       "Predicted WnvPresent=1       99 (True Pos)     667 (False Pos)\n",
       "Predicted WnvPresent=0      15 (False Neg)     1295 (True Neg)"
      ]
     },
     "execution_count": 26,
     "metadata": {},
     "output_type": "execute_result"
    }
   ],
   "source": [
    "conf_mat1 = pd.DataFrame(columns=['Actual WnvPresent=1', 'Actual WnvPresent=0'], \n",
    "                         index=['Predicted WnvPresent=1', 'Predicted WnvPresent=0'],\n",
    "                         data=[[f'{tp} (True Pos)', f'{fp} (False Pos)'], [f'{fn} (False Neg)', f'{tn} (True Neg)']]\n",
    "                        )\n",
    "conf_mat1"
   ]
  },
  {
   "cell_type": "code",
   "execution_count": 27,
   "metadata": {},
   "outputs": [
    {
     "data": {
      "text/plain": [
       "0.868421052631579"
      ]
     },
     "execution_count": 27,
     "metadata": {},
     "output_type": "execute_result"
    }
   ],
   "source": [
    "sensitivity1 = tp/(tp+fn)\n",
    "sensitivity1"
   ]
  },
  {
   "cell_type": "code",
   "execution_count": 28,
   "metadata": {},
   "outputs": [
    {
     "data": {
      "text/plain": [
       "0.6600407747196738"
      ]
     },
     "execution_count": 28,
     "metadata": {},
     "output_type": "execute_result"
    }
   ],
   "source": [
    "specificity1 = tn/(tn+fp)\n",
    "specificity1"
   ]
  },
  {
   "cell_type": "code",
   "execution_count": 29,
   "metadata": {},
   "outputs": [
    {
     "data": {
      "text/plain": [
       "0.12924281984334204"
      ]
     },
     "execution_count": 29,
     "metadata": {},
     "output_type": "execute_result"
    }
   ],
   "source": [
    "precision1 = tp/(tp+fp)\n",
    "precision1"
   ]
  },
  {
   "cell_type": "code",
   "execution_count": 30,
   "metadata": {},
   "outputs": [
    {
     "data": {
      "text/plain": [
       "0.8503473898814313"
      ]
     },
     "execution_count": 30,
     "metadata": {},
     "output_type": "execute_result"
    }
   ],
   "source": [
    "roc_auc1 = roc_auc_score(y_test, y_pred_proba1[:, 1])\n",
    "roc_auc1"
   ]
  },
  {
   "cell_type": "code",
   "execution_count": 31,
   "metadata": {},
   "outputs": [],
   "source": [
    "# Generating prediction probabilities on actual testing dataset using the model above (for kaggle submission).\n",
    "\n",
    "submission_pred_proba1 = logregcv1.predict_proba(act_test_X_sc)[:, 1]"
   ]
  },
  {
   "cell_type": "code",
   "execution_count": 32,
   "metadata": {},
   "outputs": [],
   "source": [
    "# Putting the above predicted probabilities into a dataframe and exporting it as a csv file for submission to kaggle.\n",
    "\n",
    "sub1 = pd.DataFrame({'Id' : test['Id'].values, 'WnvPresent' : submission_pred_proba1})\n",
    "sub1.to_csv('../kaggle_submissions/submission_1.csv', index=False)"
   ]
  },
  {
   "cell_type": "code",
   "execution_count": 33,
   "metadata": {},
   "outputs": [],
   "source": [
    "summary_df = pd.DataFrame(columns=['model_details', \n",
    "                                   'train_accuracy', \n",
    "                                   'test_accuracy', \n",
    "                                   'sensitivity', \n",
    "                                   'specificity',\n",
    "                                   'precision',\n",
    "                                   'roc_auc',\n",
    "                                   'kaggle_roc_auc'\n",
    "                                  ])"
   ]
  },
  {
   "cell_type": "code",
   "execution_count": 34,
   "metadata": {},
   "outputs": [
    {
     "data": {
      "text/html": [
       "<div>\n",
       "<style scoped>\n",
       "    .dataframe tbody tr th:only-of-type {\n",
       "        vertical-align: middle;\n",
       "    }\n",
       "\n",
       "    .dataframe tbody tr th {\n",
       "        vertical-align: top;\n",
       "    }\n",
       "\n",
       "    .dataframe thead th {\n",
       "        text-align: right;\n",
       "    }\n",
       "</style>\n",
       "<table border=\"1\" class=\"dataframe\">\n",
       "  <thead>\n",
       "    <tr style=\"text-align: right;\">\n",
       "      <th></th>\n",
       "      <th>model_details</th>\n",
       "      <th>train_accuracy</th>\n",
       "      <th>test_accuracy</th>\n",
       "      <th>sensitivity</th>\n",
       "      <th>specificity</th>\n",
       "      <th>precision</th>\n",
       "      <th>roc_auc</th>\n",
       "      <th>kaggle_roc_auc</th>\n",
       "    </tr>\n",
       "  </thead>\n",
       "  <tbody>\n",
       "    <tr>\n",
       "      <th>1</th>\n",
       "      <td>LogRegCV (class_weight='balanced')</td>\n",
       "      <td>0.671</td>\n",
       "      <td>0.671</td>\n",
       "      <td>0.868</td>\n",
       "      <td>0.66</td>\n",
       "      <td>0.129</td>\n",
       "      <td>0.85</td>\n",
       "      <td>0.725</td>\n",
       "    </tr>\n",
       "  </tbody>\n",
       "</table>\n",
       "</div>"
      ],
      "text/plain": [
       "                        model_details  train_accuracy  test_accuracy  \\\n",
       "1  LogRegCV (class_weight='balanced')           0.671          0.671   \n",
       "\n",
       "   sensitivity  specificity  precision  roc_auc  kaggle_roc_auc  \n",
       "1        0.868         0.66      0.129     0.85           0.725  "
      ]
     },
     "execution_count": 34,
     "metadata": {},
     "output_type": "execute_result"
    }
   ],
   "source": [
    "summary_df.loc[1] = [\"LogRegCV (class_weight='balanced')\",\n",
    "                     round(logregcv1.score(X_train_sc, y_train), 3),\n",
    "                     round(logregcv1.score(X_test_sc, y_test), 3),\n",
    "                     round(sensitivity1, 3),\n",
    "                     round(specificity1, 3),\n",
    "                     round(precision1, 3),\n",
    "                     round(roc_auc1, 3),\n",
    "                     0.725\n",
    "                    ]\n",
    "\n",
    "summary_df"
   ]
  },
  {
   "cell_type": "code",
   "execution_count": 35,
   "metadata": {},
   "outputs": [
    {
     "data": {
      "text/plain": [
       "Text(0.5, 1.0, 'Barplot of features and their odds')"
      ]
     },
     "execution_count": 35,
     "metadata": {},
     "output_type": "execute_result"
    },
    {
     "data": {
      "image/png": "[encoded data removed]",
      "text/plain": [
       "<Figure size 1296x504 with 1 Axes>"
      ]
     },
     "metadata": {
      "needs_background": "light"
     },
     "output_type": "display_data"
    }
   ],
   "source": [
    "# Plotting barplot of features and the logreg coefs.\n",
    "\n",
    "plt.figure(figsize=(18,7))\n",
    "\n",
    "plt.bar(X_train.columns, logregcv1.coef_[0])\n",
    "\n",
    "plt.tick_params(axis='x', labelrotation=25)\n",
    "\n",
    "plt.xlabel('Features', fontsize=14)\n",
    "plt.ylabel('Log Odds', fontsize=14)\n",
    "\n",
    "plt.title(\"Barplot of features and their odds\", fontsize=18)"
   ]
  },
  {
   "cell_type": "markdown",
   "metadata": {},
   "source": [
    "### Trying basic LogisticRegression with *class_weight='balanced '* AND PolynomialFeatures of upto degree 2"
   ]
  },
  {
   "cell_type": "code",
   "execution_count": 36,
   "metadata": {},
   "outputs": [
    {
     "data": {
      "text/html": [
       "<div>\n",
       "<style scoped>\n",
       "    .dataframe tbody tr th:only-of-type {\n",
       "        vertical-align: middle;\n",
       "    }\n",
       "\n",
       "    .dataframe tbody tr th {\n",
       "        vertical-align: top;\n",
       "    }\n",
       "\n",
       "    .dataframe thead th {\n",
       "        text-align: right;\n",
       "    }\n",
       "</style>\n",
       "<table border=\"1\" class=\"dataframe\">\n",
       "  <thead>\n",
       "    <tr style=\"text-align: right;\">\n",
       "      <th></th>\n",
       "      <th>Latitude</th>\n",
       "      <th>Longitude</th>\n",
       "      <th>Species_CULEX PIPIENS</th>\n",
       "      <th>Species_CULEX PIPIENS/RESTUANS</th>\n",
       "      <th>Species_CULEX RESTUANS</th>\n",
       "      <th>Sprayed</th>\n",
       "      <th>Avg Pos Dist</th>\n",
       "      <th>Tmax</th>\n",
       "      <th>Tmin</th>\n",
       "      <th>Tavg</th>\n",
       "      <th>DewPoint</th>\n",
       "      <th>WetBulb</th>\n",
       "      <th>Heat</th>\n",
       "      <th>Cool</th>\n",
       "      <th>PrecipTotal</th>\n",
       "      <th>StnPressure</th>\n",
       "      <th>SeaLevel</th>\n",
       "      <th>ResultSpeed</th>\n",
       "      <th>ResultDir</th>\n",
       "      <th>AvgSpeed</th>\n",
       "      <th>Sunrise</th>\n",
       "      <th>Sunset</th>\n",
       "      <th>bc</th>\n",
       "      <th>br</th>\n",
       "      <th>dz</th>\n",
       "      <th>fg</th>\n",
       "      <th>fg+</th>\n",
       "      <th>fu</th>\n",
       "      <th>gr</th>\n",
       "      <th>hz</th>\n",
       "      <th>mi</th>\n",
       "      <th>ra</th>\n",
       "      <th>sn</th>\n",
       "      <th>sq</th>\n",
       "      <th>ts</th>\n",
       "      <th>vc</th>\n",
       "    </tr>\n",
       "  </thead>\n",
       "  <tbody>\n",
       "    <tr>\n",
       "      <th>942</th>\n",
       "      <td>41.822536</td>\n",
       "      <td>-87.666343</td>\n",
       "      <td>0</td>\n",
       "      <td>1</td>\n",
       "      <td>0</td>\n",
       "      <td>0</td>\n",
       "      <td>1.000000</td>\n",
       "      <td>82.5</td>\n",
       "      <td>61.5</td>\n",
       "      <td>72.00</td>\n",
       "      <td>55.0</td>\n",
       "      <td>63.0</td>\n",
       "      <td>0.0</td>\n",
       "      <td>7.5</td>\n",
       "      <td>0.000</td>\n",
       "      <td>29.395</td>\n",
       "      <td>30.095</td>\n",
       "      <td>3.05</td>\n",
       "      <td>10.5</td>\n",
       "      <td>3.95</td>\n",
       "      <td>4.600000</td>\n",
       "      <td>19.333333</td>\n",
       "      <td>0</td>\n",
       "      <td>0</td>\n",
       "      <td>0</td>\n",
       "      <td>0</td>\n",
       "      <td>0</td>\n",
       "      <td>0</td>\n",
       "      <td>0</td>\n",
       "      <td>0</td>\n",
       "      <td>0</td>\n",
       "      <td>0</td>\n",
       "      <td>0</td>\n",
       "      <td>0</td>\n",
       "      <td>0</td>\n",
       "      <td>0</td>\n",
       "    </tr>\n",
       "    <tr>\n",
       "      <th>4069</th>\n",
       "      <td>41.992478</td>\n",
       "      <td>-87.862995</td>\n",
       "      <td>1</td>\n",
       "      <td>0</td>\n",
       "      <td>0</td>\n",
       "      <td>0</td>\n",
       "      <td>0.000000</td>\n",
       "      <td>89.0</td>\n",
       "      <td>68.5</td>\n",
       "      <td>78.75</td>\n",
       "      <td>61.0</td>\n",
       "      <td>67.5</td>\n",
       "      <td>0.0</td>\n",
       "      <td>14.0</td>\n",
       "      <td>0.000</td>\n",
       "      <td>29.350</td>\n",
       "      <td>30.030</td>\n",
       "      <td>8.50</td>\n",
       "      <td>19.0</td>\n",
       "      <td>8.80</td>\n",
       "      <td>4.983333</td>\n",
       "      <td>18.900000</td>\n",
       "      <td>0</td>\n",
       "      <td>0</td>\n",
       "      <td>0</td>\n",
       "      <td>0</td>\n",
       "      <td>0</td>\n",
       "      <td>0</td>\n",
       "      <td>0</td>\n",
       "      <td>0</td>\n",
       "      <td>0</td>\n",
       "      <td>0</td>\n",
       "      <td>0</td>\n",
       "      <td>0</td>\n",
       "      <td>0</td>\n",
       "      <td>0</td>\n",
       "    </tr>\n",
       "    <tr>\n",
       "      <th>5362</th>\n",
       "      <td>41.867108</td>\n",
       "      <td>-87.654224</td>\n",
       "      <td>0</td>\n",
       "      <td>1</td>\n",
       "      <td>0</td>\n",
       "      <td>0</td>\n",
       "      <td>0.012672</td>\n",
       "      <td>84.0</td>\n",
       "      <td>71.5</td>\n",
       "      <td>77.75</td>\n",
       "      <td>62.5</td>\n",
       "      <td>68.0</td>\n",
       "      <td>0.0</td>\n",
       "      <td>13.0</td>\n",
       "      <td>0.005</td>\n",
       "      <td>29.205</td>\n",
       "      <td>29.870</td>\n",
       "      <td>6.10</td>\n",
       "      <td>5.5</td>\n",
       "      <td>8.25</td>\n",
       "      <td>4.650000</td>\n",
       "      <td>19.300000</td>\n",
       "      <td>0</td>\n",
       "      <td>0</td>\n",
       "      <td>0</td>\n",
       "      <td>0</td>\n",
       "      <td>0</td>\n",
       "      <td>0</td>\n",
       "      <td>0</td>\n",
       "      <td>0</td>\n",
       "      <td>0</td>\n",
       "      <td>0</td>\n",
       "      <td>0</td>\n",
       "      <td>0</td>\n",
       "      <td>0</td>\n",
       "      <td>0</td>\n",
       "    </tr>\n",
       "    <tr>\n",
       "      <th>2001</th>\n",
       "      <td>41.781416</td>\n",
       "      <td>-87.776532</td>\n",
       "      <td>0</td>\n",
       "      <td>1</td>\n",
       "      <td>0</td>\n",
       "      <td>0</td>\n",
       "      <td>0.017086</td>\n",
       "      <td>78.5</td>\n",
       "      <td>60.5</td>\n",
       "      <td>69.50</td>\n",
       "      <td>55.0</td>\n",
       "      <td>61.5</td>\n",
       "      <td>0.0</td>\n",
       "      <td>5.0</td>\n",
       "      <td>0.000</td>\n",
       "      <td>29.410</td>\n",
       "      <td>30.075</td>\n",
       "      <td>3.65</td>\n",
       "      <td>11.0</td>\n",
       "      <td>5.00</td>\n",
       "      <td>5.183333</td>\n",
       "      <td>18.616667</td>\n",
       "      <td>0</td>\n",
       "      <td>0</td>\n",
       "      <td>0</td>\n",
       "      <td>0</td>\n",
       "      <td>0</td>\n",
       "      <td>0</td>\n",
       "      <td>0</td>\n",
       "      <td>0</td>\n",
       "      <td>0</td>\n",
       "      <td>0</td>\n",
       "      <td>0</td>\n",
       "      <td>0</td>\n",
       "      <td>0</td>\n",
       "      <td>0</td>\n",
       "    </tr>\n",
       "    <tr>\n",
       "      <th>3466</th>\n",
       "      <td>41.801498</td>\n",
       "      <td>-87.763416</td>\n",
       "      <td>0</td>\n",
       "      <td>0</td>\n",
       "      <td>1</td>\n",
       "      <td>0</td>\n",
       "      <td>0.027500</td>\n",
       "      <td>76.5</td>\n",
       "      <td>62.0</td>\n",
       "      <td>69.25</td>\n",
       "      <td>54.5</td>\n",
       "      <td>60.5</td>\n",
       "      <td>0.0</td>\n",
       "      <td>4.5</td>\n",
       "      <td>0.000</td>\n",
       "      <td>29.210</td>\n",
       "      <td>29.885</td>\n",
       "      <td>5.90</td>\n",
       "      <td>7.0</td>\n",
       "      <td>7.25</td>\n",
       "      <td>4.383333</td>\n",
       "      <td>19.500000</td>\n",
       "      <td>0</td>\n",
       "      <td>0</td>\n",
       "      <td>0</td>\n",
       "      <td>0</td>\n",
       "      <td>0</td>\n",
       "      <td>0</td>\n",
       "      <td>0</td>\n",
       "      <td>0</td>\n",
       "      <td>0</td>\n",
       "      <td>1</td>\n",
       "      <td>0</td>\n",
       "      <td>0</td>\n",
       "      <td>0</td>\n",
       "      <td>0</td>\n",
       "    </tr>\n",
       "  </tbody>\n",
       "</table>\n",
       "</div>"
      ],
      "text/plain": [
       "       Latitude  Longitude  Species_CULEX PIPIENS  \\\n",
       "942   41.822536 -87.666343                      0   \n",
       "4069  41.992478 -87.862995                      1   \n",
       "5362  41.867108 -87.654224                      0   \n",
       "2001  41.781416 -87.776532                      0   \n",
       "3466  41.801498 -87.763416                      0   \n",
       "\n",
       "      Species_CULEX PIPIENS/RESTUANS  Species_CULEX RESTUANS  Sprayed  \\\n",
       "942                                1                       0        0   \n",
       "4069                               0                       0        0   \n",
       "5362                               1                       0        0   \n",
       "2001                               1                       0        0   \n",
       "3466                               0                       1        0   \n",
       "\n",
       "      Avg Pos Dist  Tmax  Tmin   Tavg  DewPoint  WetBulb  Heat  Cool  \\\n",
       "942       1.000000  82.5  61.5  72.00      55.0     63.0   0.0   7.5   \n",
       "4069      0.000000  89.0  68.5  78.75      61.0     67.5   0.0  14.0   \n",
       "5362      0.012672  84.0  71.5  77.75      62.5     68.0   0.0  13.0   \n",
       "2001      0.017086  78.5  60.5  69.50      55.0     61.5   0.0   5.0   \n",
       "3466      0.027500  76.5  62.0  69.25      54.5     60.5   0.0   4.5   \n",
       "\n",
       "      PrecipTotal  StnPressure  SeaLevel  ResultSpeed  ResultDir  AvgSpeed  \\\n",
       "942         0.000       29.395    30.095         3.05       10.5      3.95   \n",
       "4069        0.000       29.350    30.030         8.50       19.0      8.80   \n",
       "5362        0.005       29.205    29.870         6.10        5.5      8.25   \n",
       "2001        0.000       29.410    30.075         3.65       11.0      5.00   \n",
       "3466        0.000       29.210    29.885         5.90        7.0      7.25   \n",
       "\n",
       "       Sunrise     Sunset  bc  br  dz  fg  fg+  fu  gr  hz  mi  ra  sn  sq  \\\n",
       "942   4.600000  19.333333   0   0   0   0    0   0   0   0   0   0   0   0   \n",
       "4069  4.983333  18.900000   0   0   0   0    0   0   0   0   0   0   0   0   \n",
       "5362  4.650000  19.300000   0   0   0   0    0   0   0   0   0   0   0   0   \n",
       "2001  5.183333  18.616667   0   0   0   0    0   0   0   0   0   0   0   0   \n",
       "3466  4.383333  19.500000   0   0   0   0    0   0   0   0   0   1   0   0   \n",
       "\n",
       "      ts  vc  \n",
       "942    0   0  \n",
       "4069   0   0  \n",
       "5362   0   0  \n",
       "2001   0   0  \n",
       "3466   0   0  "
      ]
     },
     "execution_count": 36,
     "metadata": {},
     "output_type": "execute_result"
    }
   ],
   "source": [
    "X_train.head()"
   ]
  },
  {
   "cell_type": "code",
   "execution_count": 37,
   "metadata": {},
   "outputs": [
    {
     "data": {
      "text/html": [
       "<div>\n",
       "<style scoped>\n",
       "    .dataframe tbody tr th:only-of-type {\n",
       "        vertical-align: middle;\n",
       "    }\n",
       "\n",
       "    .dataframe tbody tr th {\n",
       "        vertical-align: top;\n",
       "    }\n",
       "\n",
       "    .dataframe thead th {\n",
       "        text-align: right;\n",
       "    }\n",
       "</style>\n",
       "<table border=\"1\" class=\"dataframe\">\n",
       "  <thead>\n",
       "    <tr style=\"text-align: right;\">\n",
       "      <th></th>\n",
       "      <th>Latitude</th>\n",
       "      <th>Longitude</th>\n",
       "      <th>Species_CULEX PIPIENS</th>\n",
       "      <th>Species_CULEX PIPIENS/RESTUANS</th>\n",
       "      <th>Species_CULEX RESTUANS</th>\n",
       "      <th>Sprayed</th>\n",
       "      <th>Avg Pos Dist</th>\n",
       "      <th>Tmax</th>\n",
       "      <th>Tmin</th>\n",
       "      <th>Tavg</th>\n",
       "      <th>DewPoint</th>\n",
       "      <th>WetBulb</th>\n",
       "      <th>Heat</th>\n",
       "      <th>Cool</th>\n",
       "      <th>PrecipTotal</th>\n",
       "      <th>StnPressure</th>\n",
       "      <th>SeaLevel</th>\n",
       "      <th>ResultSpeed</th>\n",
       "      <th>ResultDir</th>\n",
       "      <th>AvgSpeed</th>\n",
       "      <th>Sunrise</th>\n",
       "      <th>Sunset</th>\n",
       "      <th>bc</th>\n",
       "      <th>br</th>\n",
       "      <th>dz</th>\n",
       "      <th>fg</th>\n",
       "      <th>fg+</th>\n",
       "      <th>fu</th>\n",
       "      <th>gr</th>\n",
       "      <th>hz</th>\n",
       "      <th>mi</th>\n",
       "      <th>ra</th>\n",
       "      <th>sn</th>\n",
       "      <th>sq</th>\n",
       "      <th>ts</th>\n",
       "      <th>vc</th>\n",
       "    </tr>\n",
       "  </thead>\n",
       "  <tbody>\n",
       "    <tr>\n",
       "      <th>3391</th>\n",
       "      <td>41.825610</td>\n",
       "      <td>-87.726549</td>\n",
       "      <td>0</td>\n",
       "      <td>0</td>\n",
       "      <td>1</td>\n",
       "      <td>0</td>\n",
       "      <td>0.022351</td>\n",
       "      <td>67.0</td>\n",
       "      <td>60.0</td>\n",
       "      <td>63.50</td>\n",
       "      <td>53.0</td>\n",
       "      <td>57.5</td>\n",
       "      <td>1.0</td>\n",
       "      <td>0.0</td>\n",
       "      <td>0.000</td>\n",
       "      <td>28.975</td>\n",
       "      <td>29.645</td>\n",
       "      <td>8.50</td>\n",
       "      <td>30.0</td>\n",
       "      <td>8.70</td>\n",
       "      <td>4.316667</td>\n",
       "      <td>19.516667</td>\n",
       "      <td>0</td>\n",
       "      <td>0</td>\n",
       "      <td>0</td>\n",
       "      <td>0</td>\n",
       "      <td>0</td>\n",
       "      <td>0</td>\n",
       "      <td>0</td>\n",
       "      <td>0</td>\n",
       "      <td>0</td>\n",
       "      <td>0</td>\n",
       "      <td>0</td>\n",
       "      <td>0</td>\n",
       "      <td>0</td>\n",
       "      <td>0</td>\n",
       "    </tr>\n",
       "    <tr>\n",
       "      <th>6660</th>\n",
       "      <td>41.682587</td>\n",
       "      <td>-87.707973</td>\n",
       "      <td>0</td>\n",
       "      <td>1</td>\n",
       "      <td>0</td>\n",
       "      <td>0</td>\n",
       "      <td>0.019559</td>\n",
       "      <td>83.0</td>\n",
       "      <td>67.5</td>\n",
       "      <td>75.25</td>\n",
       "      <td>60.5</td>\n",
       "      <td>65.5</td>\n",
       "      <td>0.0</td>\n",
       "      <td>10.5</td>\n",
       "      <td>0.080</td>\n",
       "      <td>28.940</td>\n",
       "      <td>29.625</td>\n",
       "      <td>9.75</td>\n",
       "      <td>30.0</td>\n",
       "      <td>10.35</td>\n",
       "      <td>4.316667</td>\n",
       "      <td>19.516667</td>\n",
       "      <td>0</td>\n",
       "      <td>0</td>\n",
       "      <td>0</td>\n",
       "      <td>0</td>\n",
       "      <td>0</td>\n",
       "      <td>0</td>\n",
       "      <td>0</td>\n",
       "      <td>0</td>\n",
       "      <td>0</td>\n",
       "      <td>1</td>\n",
       "      <td>0</td>\n",
       "      <td>0</td>\n",
       "      <td>0</td>\n",
       "      <td>0</td>\n",
       "    </tr>\n",
       "    <tr>\n",
       "      <th>4820</th>\n",
       "      <td>41.778297</td>\n",
       "      <td>-87.752411</td>\n",
       "      <td>0</td>\n",
       "      <td>1</td>\n",
       "      <td>0</td>\n",
       "      <td>0</td>\n",
       "      <td>0.020156</td>\n",
       "      <td>79.5</td>\n",
       "      <td>67.0</td>\n",
       "      <td>73.25</td>\n",
       "      <td>67.0</td>\n",
       "      <td>69.0</td>\n",
       "      <td>0.0</td>\n",
       "      <td>8.5</td>\n",
       "      <td>0.705</td>\n",
       "      <td>29.040</td>\n",
       "      <td>29.710</td>\n",
       "      <td>7.10</td>\n",
       "      <td>16.0</td>\n",
       "      <td>8.80</td>\n",
       "      <td>4.266667</td>\n",
       "      <td>19.500000</td>\n",
       "      <td>0</td>\n",
       "      <td>1</td>\n",
       "      <td>0</td>\n",
       "      <td>0</td>\n",
       "      <td>0</td>\n",
       "      <td>0</td>\n",
       "      <td>0</td>\n",
       "      <td>0</td>\n",
       "      <td>0</td>\n",
       "      <td>1</td>\n",
       "      <td>0</td>\n",
       "      <td>0</td>\n",
       "      <td>1</td>\n",
       "      <td>0</td>\n",
       "    </tr>\n",
       "    <tr>\n",
       "      <th>8132</th>\n",
       "      <td>41.662014</td>\n",
       "      <td>-87.724608</td>\n",
       "      <td>1</td>\n",
       "      <td>0</td>\n",
       "      <td>0</td>\n",
       "      <td>0</td>\n",
       "      <td>0.010176</td>\n",
       "      <td>94.0</td>\n",
       "      <td>68.5</td>\n",
       "      <td>81.25</td>\n",
       "      <td>69.0</td>\n",
       "      <td>73.5</td>\n",
       "      <td>0.0</td>\n",
       "      <td>16.5</td>\n",
       "      <td>0.000</td>\n",
       "      <td>29.185</td>\n",
       "      <td>29.860</td>\n",
       "      <td>8.75</td>\n",
       "      <td>20.0</td>\n",
       "      <td>9.65</td>\n",
       "      <td>5.416667</td>\n",
       "      <td>18.233333</td>\n",
       "      <td>0</td>\n",
       "      <td>0</td>\n",
       "      <td>0</td>\n",
       "      <td>0</td>\n",
       "      <td>0</td>\n",
       "      <td>0</td>\n",
       "      <td>0</td>\n",
       "      <td>1</td>\n",
       "      <td>0</td>\n",
       "      <td>0</td>\n",
       "      <td>0</td>\n",
       "      <td>0</td>\n",
       "      <td>0</td>\n",
       "      <td>0</td>\n",
       "    </tr>\n",
       "    <tr>\n",
       "      <th>2155</th>\n",
       "      <td>41.726465</td>\n",
       "      <td>-87.585413</td>\n",
       "      <td>0</td>\n",
       "      <td>1</td>\n",
       "      <td>0</td>\n",
       "      <td>0</td>\n",
       "      <td>0.011834</td>\n",
       "      <td>84.5</td>\n",
       "      <td>61.5</td>\n",
       "      <td>73.00</td>\n",
       "      <td>56.5</td>\n",
       "      <td>63.0</td>\n",
       "      <td>0.0</td>\n",
       "      <td>8.0</td>\n",
       "      <td>0.000</td>\n",
       "      <td>29.440</td>\n",
       "      <td>30.140</td>\n",
       "      <td>4.50</td>\n",
       "      <td>21.0</td>\n",
       "      <td>5.50</td>\n",
       "      <td>5.300000</td>\n",
       "      <td>18.433333</td>\n",
       "      <td>0</td>\n",
       "      <td>0</td>\n",
       "      <td>0</td>\n",
       "      <td>0</td>\n",
       "      <td>0</td>\n",
       "      <td>0</td>\n",
       "      <td>0</td>\n",
       "      <td>0</td>\n",
       "      <td>0</td>\n",
       "      <td>0</td>\n",
       "      <td>0</td>\n",
       "      <td>0</td>\n",
       "      <td>0</td>\n",
       "      <td>0</td>\n",
       "    </tr>\n",
       "  </tbody>\n",
       "</table>\n",
       "</div>"
      ],
      "text/plain": [
       "       Latitude  Longitude  Species_CULEX PIPIENS  \\\n",
       "3391  41.825610 -87.726549                      0   \n",
       "6660  41.682587 -87.707973                      0   \n",
       "4820  41.778297 -87.752411                      0   \n",
       "8132  41.662014 -87.724608                      1   \n",
       "2155  41.726465 -87.585413                      0   \n",
       "\n",
       "      Species_CULEX PIPIENS/RESTUANS  Species_CULEX RESTUANS  Sprayed  \\\n",
       "3391                               0                       1        0   \n",
       "6660                               1                       0        0   \n",
       "4820                               1                       0        0   \n",
       "8132                               0                       0        0   \n",
       "2155                               1                       0        0   \n",
       "\n",
       "      Avg Pos Dist  Tmax  Tmin   Tavg  DewPoint  WetBulb  Heat  Cool  \\\n",
       "3391      0.022351  67.0  60.0  63.50      53.0     57.5   1.0   0.0   \n",
       "6660      0.019559  83.0  67.5  75.25      60.5     65.5   0.0  10.5   \n",
       "4820      0.020156  79.5  67.0  73.25      67.0     69.0   0.0   8.5   \n",
       "8132      0.010176  94.0  68.5  81.25      69.0     73.5   0.0  16.5   \n",
       "2155      0.011834  84.5  61.5  73.00      56.5     63.0   0.0   8.0   \n",
       "\n",
       "      PrecipTotal  StnPressure  SeaLevel  ResultSpeed  ResultDir  AvgSpeed  \\\n",
       "3391        0.000       28.975    29.645         8.50       30.0      8.70   \n",
       "6660        0.080       28.940    29.625         9.75       30.0     10.35   \n",
       "4820        0.705       29.040    29.710         7.10       16.0      8.80   \n",
       "8132        0.000       29.185    29.860         8.75       20.0      9.65   \n",
       "2155        0.000       29.440    30.140         4.50       21.0      5.50   \n",
       "\n",
       "       Sunrise     Sunset  bc  br  dz  fg  fg+  fu  gr  hz  mi  ra  sn  sq  \\\n",
       "3391  4.316667  19.516667   0   0   0   0    0   0   0   0   0   0   0   0   \n",
       "6660  4.316667  19.516667   0   0   0   0    0   0   0   0   0   1   0   0   \n",
       "4820  4.266667  19.500000   0   1   0   0    0   0   0   0   0   1   0   0   \n",
       "8132  5.416667  18.233333   0   0   0   0    0   0   0   1   0   0   0   0   \n",
       "2155  5.300000  18.433333   0   0   0   0    0   0   0   0   0   0   0   0   \n",
       "\n",
       "      ts  vc  \n",
       "3391   0   0  \n",
       "6660   0   0  \n",
       "4820   1   0  \n",
       "8132   0   0  \n",
       "2155   0   0  "
      ]
     },
     "execution_count": 37,
     "metadata": {},
     "output_type": "execute_result"
    }
   ],
   "source": [
    "X_test.head()"
   ]
  },
  {
   "cell_type": "code",
   "execution_count": 38,
   "metadata": {},
   "outputs": [
    {
     "data": {
      "text/html": [
       "<div>\n",
       "<style scoped>\n",
       "    .dataframe tbody tr th:only-of-type {\n",
       "        vertical-align: middle;\n",
       "    }\n",
       "\n",
       "    .dataframe tbody tr th {\n",
       "        vertical-align: top;\n",
       "    }\n",
       "\n",
       "    .dataframe thead th {\n",
       "        text-align: right;\n",
       "    }\n",
       "</style>\n",
       "<table border=\"1\" class=\"dataframe\">\n",
       "  <thead>\n",
       "    <tr style=\"text-align: right;\">\n",
       "      <th></th>\n",
       "      <th>Latitude</th>\n",
       "      <th>Longitude</th>\n",
       "      <th>Species_CULEX PIPIENS</th>\n",
       "      <th>Species_CULEX PIPIENS/RESTUANS</th>\n",
       "      <th>Species_CULEX RESTUANS</th>\n",
       "      <th>Sprayed</th>\n",
       "      <th>Avg Pos Dist</th>\n",
       "      <th>Tmax</th>\n",
       "      <th>Tmin</th>\n",
       "      <th>Tavg</th>\n",
       "      <th>DewPoint</th>\n",
       "      <th>WetBulb</th>\n",
       "      <th>Heat</th>\n",
       "      <th>Cool</th>\n",
       "      <th>PrecipTotal</th>\n",
       "      <th>StnPressure</th>\n",
       "      <th>SeaLevel</th>\n",
       "      <th>ResultSpeed</th>\n",
       "      <th>ResultDir</th>\n",
       "      <th>AvgSpeed</th>\n",
       "      <th>Sunrise</th>\n",
       "      <th>Sunset</th>\n",
       "      <th>bc</th>\n",
       "      <th>br</th>\n",
       "      <th>dz</th>\n",
       "      <th>fg</th>\n",
       "      <th>fg+</th>\n",
       "      <th>fu</th>\n",
       "      <th>gr</th>\n",
       "      <th>hz</th>\n",
       "      <th>mi</th>\n",
       "      <th>ra</th>\n",
       "      <th>sn</th>\n",
       "      <th>sq</th>\n",
       "      <th>ts</th>\n",
       "      <th>vc</th>\n",
       "    </tr>\n",
       "  </thead>\n",
       "  <tbody>\n",
       "    <tr>\n",
       "      <th>0</th>\n",
       "      <td>41.95469</td>\n",
       "      <td>-87.800991</td>\n",
       "      <td>0</td>\n",
       "      <td>1</td>\n",
       "      <td>0</td>\n",
       "      <td>0</td>\n",
       "      <td>0.014806</td>\n",
       "      <td>72.5</td>\n",
       "      <td>54.5</td>\n",
       "      <td>63.5</td>\n",
       "      <td>46.5</td>\n",
       "      <td>55.0</td>\n",
       "      <td>1.0</td>\n",
       "      <td>0.0</td>\n",
       "      <td>0.0</td>\n",
       "      <td>29.26</td>\n",
       "      <td>29.945</td>\n",
       "      <td>5.1</td>\n",
       "      <td>9.0</td>\n",
       "      <td>5.65</td>\n",
       "      <td>4.316667</td>\n",
       "      <td>19.333333</td>\n",
       "      <td>0</td>\n",
       "      <td>0</td>\n",
       "      <td>0</td>\n",
       "      <td>0</td>\n",
       "      <td>0</td>\n",
       "      <td>0</td>\n",
       "      <td>0</td>\n",
       "      <td>0</td>\n",
       "      <td>0</td>\n",
       "      <td>0</td>\n",
       "      <td>0</td>\n",
       "      <td>0</td>\n",
       "      <td>0</td>\n",
       "      <td>0</td>\n",
       "    </tr>\n",
       "    <tr>\n",
       "      <th>1</th>\n",
       "      <td>41.95469</td>\n",
       "      <td>-87.800991</td>\n",
       "      <td>0</td>\n",
       "      <td>0</td>\n",
       "      <td>1</td>\n",
       "      <td>0</td>\n",
       "      <td>0.014806</td>\n",
       "      <td>72.5</td>\n",
       "      <td>54.5</td>\n",
       "      <td>63.5</td>\n",
       "      <td>46.5</td>\n",
       "      <td>55.0</td>\n",
       "      <td>1.0</td>\n",
       "      <td>0.0</td>\n",
       "      <td>0.0</td>\n",
       "      <td>29.26</td>\n",
       "      <td>29.945</td>\n",
       "      <td>5.1</td>\n",
       "      <td>9.0</td>\n",
       "      <td>5.65</td>\n",
       "      <td>4.316667</td>\n",
       "      <td>19.333333</td>\n",
       "      <td>0</td>\n",
       "      <td>0</td>\n",
       "      <td>0</td>\n",
       "      <td>0</td>\n",
       "      <td>0</td>\n",
       "      <td>0</td>\n",
       "      <td>0</td>\n",
       "      <td>0</td>\n",
       "      <td>0</td>\n",
       "      <td>0</td>\n",
       "      <td>0</td>\n",
       "      <td>0</td>\n",
       "      <td>0</td>\n",
       "      <td>0</td>\n",
       "    </tr>\n",
       "    <tr>\n",
       "      <th>2</th>\n",
       "      <td>41.95469</td>\n",
       "      <td>-87.800991</td>\n",
       "      <td>1</td>\n",
       "      <td>0</td>\n",
       "      <td>0</td>\n",
       "      <td>0</td>\n",
       "      <td>0.014806</td>\n",
       "      <td>72.5</td>\n",
       "      <td>54.5</td>\n",
       "      <td>63.5</td>\n",
       "      <td>46.5</td>\n",
       "      <td>55.0</td>\n",
       "      <td>1.0</td>\n",
       "      <td>0.0</td>\n",
       "      <td>0.0</td>\n",
       "      <td>29.26</td>\n",
       "      <td>29.945</td>\n",
       "      <td>5.1</td>\n",
       "      <td>9.0</td>\n",
       "      <td>5.65</td>\n",
       "      <td>4.316667</td>\n",
       "      <td>19.333333</td>\n",
       "      <td>0</td>\n",
       "      <td>0</td>\n",
       "      <td>0</td>\n",
       "      <td>0</td>\n",
       "      <td>0</td>\n",
       "      <td>0</td>\n",
       "      <td>0</td>\n",
       "      <td>0</td>\n",
       "      <td>0</td>\n",
       "      <td>0</td>\n",
       "      <td>0</td>\n",
       "      <td>0</td>\n",
       "      <td>0</td>\n",
       "      <td>0</td>\n",
       "    </tr>\n",
       "    <tr>\n",
       "      <th>3</th>\n",
       "      <td>41.95469</td>\n",
       "      <td>-87.800991</td>\n",
       "      <td>0</td>\n",
       "      <td>0</td>\n",
       "      <td>0</td>\n",
       "      <td>0</td>\n",
       "      <td>0.014806</td>\n",
       "      <td>72.5</td>\n",
       "      <td>54.5</td>\n",
       "      <td>63.5</td>\n",
       "      <td>46.5</td>\n",
       "      <td>55.0</td>\n",
       "      <td>1.0</td>\n",
       "      <td>0.0</td>\n",
       "      <td>0.0</td>\n",
       "      <td>29.26</td>\n",
       "      <td>29.945</td>\n",
       "      <td>5.1</td>\n",
       "      <td>9.0</td>\n",
       "      <td>5.65</td>\n",
       "      <td>4.316667</td>\n",
       "      <td>19.333333</td>\n",
       "      <td>0</td>\n",
       "      <td>0</td>\n",
       "      <td>0</td>\n",
       "      <td>0</td>\n",
       "      <td>0</td>\n",
       "      <td>0</td>\n",
       "      <td>0</td>\n",
       "      <td>0</td>\n",
       "      <td>0</td>\n",
       "      <td>0</td>\n",
       "      <td>0</td>\n",
       "      <td>0</td>\n",
       "      <td>0</td>\n",
       "      <td>0</td>\n",
       "    </tr>\n",
       "    <tr>\n",
       "      <th>4</th>\n",
       "      <td>41.95469</td>\n",
       "      <td>-87.800991</td>\n",
       "      <td>0</td>\n",
       "      <td>0</td>\n",
       "      <td>0</td>\n",
       "      <td>0</td>\n",
       "      <td>0.014806</td>\n",
       "      <td>72.5</td>\n",
       "      <td>54.5</td>\n",
       "      <td>63.5</td>\n",
       "      <td>46.5</td>\n",
       "      <td>55.0</td>\n",
       "      <td>1.0</td>\n",
       "      <td>0.0</td>\n",
       "      <td>0.0</td>\n",
       "      <td>29.26</td>\n",
       "      <td>29.945</td>\n",
       "      <td>5.1</td>\n",
       "      <td>9.0</td>\n",
       "      <td>5.65</td>\n",
       "      <td>4.316667</td>\n",
       "      <td>19.333333</td>\n",
       "      <td>0</td>\n",
       "      <td>0</td>\n",
       "      <td>0</td>\n",
       "      <td>0</td>\n",
       "      <td>0</td>\n",
       "      <td>0</td>\n",
       "      <td>0</td>\n",
       "      <td>0</td>\n",
       "      <td>0</td>\n",
       "      <td>0</td>\n",
       "      <td>0</td>\n",
       "      <td>0</td>\n",
       "      <td>0</td>\n",
       "      <td>0</td>\n",
       "    </tr>\n",
       "  </tbody>\n",
       "</table>\n",
       "</div>"
      ],
      "text/plain": [
       "   Latitude  Longitude  Species_CULEX PIPIENS  Species_CULEX PIPIENS/RESTUANS  \\\n",
       "0  41.95469 -87.800991                      0                               1   \n",
       "1  41.95469 -87.800991                      0                               0   \n",
       "2  41.95469 -87.800991                      1                               0   \n",
       "3  41.95469 -87.800991                      0                               0   \n",
       "4  41.95469 -87.800991                      0                               0   \n",
       "\n",
       "   Species_CULEX RESTUANS  Sprayed  Avg Pos Dist  Tmax  Tmin  Tavg  DewPoint  \\\n",
       "0                       0        0      0.014806  72.5  54.5  63.5      46.5   \n",
       "1                       1        0      0.014806  72.5  54.5  63.5      46.5   \n",
       "2                       0        0      0.014806  72.5  54.5  63.5      46.5   \n",
       "3                       0        0      0.014806  72.5  54.5  63.5      46.5   \n",
       "4                       0        0      0.014806  72.5  54.5  63.5      46.5   \n",
       "\n",
       "   WetBulb  Heat  Cool  PrecipTotal  StnPressure  SeaLevel  ResultSpeed  \\\n",
       "0     55.0   1.0   0.0          0.0        29.26    29.945          5.1   \n",
       "1     55.0   1.0   0.0          0.0        29.26    29.945          5.1   \n",
       "2     55.0   1.0   0.0          0.0        29.26    29.945          5.1   \n",
       "3     55.0   1.0   0.0          0.0        29.26    29.945          5.1   \n",
       "4     55.0   1.0   0.0          0.0        29.26    29.945          5.1   \n",
       "\n",
       "   ResultDir  AvgSpeed   Sunrise     Sunset  bc  br  dz  fg  fg+  fu  gr  hz  \\\n",
       "0        9.0      5.65  4.316667  19.333333   0   0   0   0    0   0   0   0   \n",
       "1        9.0      5.65  4.316667  19.333333   0   0   0   0    0   0   0   0   \n",
       "2        9.0      5.65  4.316667  19.333333   0   0   0   0    0   0   0   0   \n",
       "3        9.0      5.65  4.316667  19.333333   0   0   0   0    0   0   0   0   \n",
       "4        9.0      5.65  4.316667  19.333333   0   0   0   0    0   0   0   0   \n",
       "\n",
       "   mi  ra  sn  sq  ts  vc  \n",
       "0   0   0   0   0   0   0  \n",
       "1   0   0   0   0   0   0  \n",
       "2   0   0   0   0   0   0  \n",
       "3   0   0   0   0   0   0  \n",
       "4   0   0   0   0   0   0  "
      ]
     },
     "execution_count": 38,
     "metadata": {},
     "output_type": "execute_result"
    }
   ],
   "source": [
    "act_test_X.head()"
   ]
  },
  {
   "cell_type": "code",
   "execution_count": 39,
   "metadata": {},
   "outputs": [],
   "source": [
    "# Creating polynomial features of up to degree 2.\n",
    "# .fit_transform on X_train, and .transform on X_test and act_test_X.\n",
    "\n",
    "poly = PolynomialFeatures(degree=2, include_bias=False)\n",
    "\n",
    "X_train_poly = poly.fit_transform(X_train)\n",
    "X_test_poly = poly.transform(X_test)\n",
    "act_test_X_poly = poly.transform(act_test_X)"
   ]
  },
  {
   "cell_type": "code",
   "execution_count": 40,
   "metadata": {},
   "outputs": [],
   "source": [
    "# Scaling X_train_poly, X_test_poly and act_test_X_poly to the standard scale.\n",
    "\n",
    "ss2 = StandardScaler()\n",
    "X_train_poly_sc = ss2.fit_transform(X_train_poly)\n",
    "X_test_poly_sc = ss2.transform(X_test_poly)\n",
    "act_test_X_poly_sc = ss2.transform(act_test_X_poly)"
   ]
  },
  {
   "cell_type": "code",
   "execution_count": 41,
   "metadata": {},
   "outputs": [],
   "source": [
    "# Defining a LogisticRegressionCV object.\n",
    "\n",
    "logregcv2 = LogisticRegressionCV(class_weight='balanced',\n",
    "                                 cv=5,\n",
    "                                 random_state=42,\n",
    "                                 penalty='elasticnet',\n",
    "                                 solver='saga',\n",
    "                                 Cs=5,\n",
    "                                 l1_ratios=[0, 0.5, 1],\n",
    "                                 max_iter=500,\n",
    "                                 tol=0.01\n",
    "                                )"
   ]
  },
  {
   "cell_type": "code",
   "execution_count": 42,
   "metadata": {},
   "outputs": [
    {
     "data": {
      "text/plain": [
       "LogisticRegressionCV(Cs=5, class_weight='balanced', cv=5, dual=False,\n",
       "                     fit_intercept=True, intercept_scaling=1.0,\n",
       "                     l1_ratios=[0, 0.5, 1], max_iter=500, multi_class='auto',\n",
       "                     n_jobs=None, penalty='elasticnet', random_state=42,\n",
       "                     refit=True, scoring=None, solver='saga', tol=0.01,\n",
       "                     verbose=0)"
      ]
     },
     "execution_count": 42,
     "metadata": {},
     "output_type": "execute_result"
    }
   ],
   "source": [
    "# Fitting scaled X_train_poly_sc on LogisticRegressionCV object defined above.\n",
    "\n",
    "logregcv2.fit(X_train_poly_sc, y_train)"
   ]
  },
  {
   "cell_type": "code",
   "execution_count": 43,
   "metadata": {},
   "outputs": [
    {
     "data": {
      "text/plain": [
       "(10000.0, 0)"
      ]
     },
     "execution_count": 43,
     "metadata": {},
     "output_type": "execute_result"
    }
   ],
   "source": [
    "# Best combination of hyperparameters suggested by LogisticRegressionCV.\n",
    "\n",
    "logregcv2.C_[0], logregcv2.l1_ratio_[0]"
   ]
  },
  {
   "cell_type": "code",
   "execution_count": 44,
   "metadata": {},
   "outputs": [
    {
     "data": {
      "text/plain": [
       "0.6868978805394991"
      ]
     },
     "execution_count": 44,
     "metadata": {},
     "output_type": "execute_result"
    }
   ],
   "source": [
    "# Scoring the model on training dataset.\n",
    "\n",
    "logregcv2.score(X_train_poly_sc, y_train)"
   ]
  },
  {
   "cell_type": "code",
   "execution_count": 45,
   "metadata": {},
   "outputs": [
    {
     "data": {
      "text/plain": [
       "0.6917148362235067"
      ]
     },
     "execution_count": 45,
     "metadata": {},
     "output_type": "execute_result"
    }
   ],
   "source": [
    "# Scoring the model on testing dataset.\n",
    "\n",
    "logregcv2.score(X_test_poly_sc, y_test)"
   ]
  },
  {
   "cell_type": "code",
   "execution_count": 46,
   "metadata": {},
   "outputs": [],
   "source": [
    "# Generating predictions on testing dataset using the model above.\n",
    "\n",
    "y_pred2 = logregcv2.predict(X_test_poly_sc)"
   ]
  },
  {
   "cell_type": "code",
   "execution_count": 47,
   "metadata": {},
   "outputs": [],
   "source": [
    "# Generating prediction probabilities on testing dataset using the model above.\n",
    "\n",
    "y_pred_proba2 = logregcv2.predict_proba(X_test_poly_sc)"
   ]
  },
  {
   "cell_type": "code",
   "execution_count": 48,
   "metadata": {},
   "outputs": [],
   "source": [
    "# Generating a confusion matrix.\n",
    "\n",
    "tn, fp, fn, tp = confusion_matrix(y_test, y_pred2).ravel()"
   ]
  },
  {
   "cell_type": "code",
   "execution_count": 49,
   "metadata": {},
   "outputs": [
    {
     "data": {
      "text/html": [
       "<div>\n",
       "<style scoped>\n",
       "    .dataframe tbody tr th:only-of-type {\n",
       "        vertical-align: middle;\n",
       "    }\n",
       "\n",
       "    .dataframe tbody tr th {\n",
       "        vertical-align: top;\n",
       "    }\n",
       "\n",
       "    .dataframe thead th {\n",
       "        text-align: right;\n",
       "    }\n",
       "</style>\n",
       "<table border=\"1\" class=\"dataframe\">\n",
       "  <thead>\n",
       "    <tr style=\"text-align: right;\">\n",
       "      <th></th>\n",
       "      <th>Actual WnvPresent=1</th>\n",
       "      <th>Actual WnvPresent=0</th>\n",
       "    </tr>\n",
       "  </thead>\n",
       "  <tbody>\n",
       "    <tr>\n",
       "      <th>Predicted WnvPresent=1</th>\n",
       "      <td>97 (True Pos)</td>\n",
       "      <td>623 (False Pos)</td>\n",
       "    </tr>\n",
       "    <tr>\n",
       "      <th>Predicted WnvPresent=0</th>\n",
       "      <td>17 (False Neg)</td>\n",
       "      <td>1339 (True Neg)</td>\n",
       "    </tr>\n",
       "  </tbody>\n",
       "</table>\n",
       "</div>"
      ],
      "text/plain": [
       "                       Actual WnvPresent=1 Actual WnvPresent=0\n",
       "Predicted WnvPresent=1       97 (True Pos)     623 (False Pos)\n",
       "Predicted WnvPresent=0      17 (False Neg)     1339 (True Neg)"
      ]
     },
     "execution_count": 49,
     "metadata": {},
     "output_type": "execute_result"
    }
   ],
   "source": [
    "conf_mat2 = pd.DataFrame(columns=['Actual WnvPresent=1', 'Actual WnvPresent=0'], \n",
    "                         index=['Predicted WnvPresent=1', 'Predicted WnvPresent=0'],\n",
    "                         data=[[f'{tp} (True Pos)', f'{fp} (False Pos)'], [f'{fn} (False Neg)', f'{tn} (True Neg)']]\n",
    "                        )\n",
    "conf_mat2"
   ]
  },
  {
   "cell_type": "code",
   "execution_count": 50,
   "metadata": {},
   "outputs": [
    {
     "data": {
      "text/plain": [
       "0.8508771929824561"
      ]
     },
     "execution_count": 50,
     "metadata": {},
     "output_type": "execute_result"
    }
   ],
   "source": [
    "sensitivity2 = tp/(tp+fn)\n",
    "sensitivity2"
   ]
  },
  {
   "cell_type": "code",
   "execution_count": 51,
   "metadata": {},
   "outputs": [
    {
     "data": {
      "text/plain": [
       "0.682466870540265"
      ]
     },
     "execution_count": 51,
     "metadata": {},
     "output_type": "execute_result"
    }
   ],
   "source": [
    "specificity2 = tn/(tn+fp)\n",
    "specificity2"
   ]
  },
  {
   "cell_type": "code",
   "execution_count": 52,
   "metadata": {},
   "outputs": [
    {
     "data": {
      "text/plain": [
       "0.13472222222222222"
      ]
     },
     "execution_count": 52,
     "metadata": {},
     "output_type": "execute_result"
    }
   ],
   "source": [
    "precision2 = tp/(tp+fp)\n",
    "precision2"
   ]
  },
  {
   "cell_type": "code",
   "execution_count": 53,
   "metadata": {},
   "outputs": [
    {
     "data": {
      "text/plain": [
       "0.8391432837956256"
      ]
     },
     "execution_count": 53,
     "metadata": {},
     "output_type": "execute_result"
    }
   ],
   "source": [
    "roc_auc2 = roc_auc_score(y_test, y_pred_proba2[:, 1])\n",
    "roc_auc2"
   ]
  },
  {
   "cell_type": "code",
   "execution_count": 54,
   "metadata": {},
   "outputs": [],
   "source": [
    "# Generating prediction probabilities on actual testing dataset using the model above (for kaggle submission).\n",
    "\n",
    "submission_pred_proba2 = logregcv2.predict_proba(act_test_X_poly_sc)[:, 1]"
   ]
  },
  {
   "cell_type": "code",
   "execution_count": 55,
   "metadata": {},
   "outputs": [],
   "source": [
    "# Putting the above predicted probabilities into a dataframe and exporting it as a csv file for submission to kaggle.\n",
    "\n",
    "sub2 = pd.DataFrame({'Id' : test['Id'].values, 'WnvPresent' : submission_pred_proba2})\n",
    "sub2.to_csv('../kaggle_submissions/submission_2.csv', index=False)"
   ]
  },
  {
   "cell_type": "code",
   "execution_count": 56,
   "metadata": {},
   "outputs": [
    {
     "data": {
      "text/html": [
       "<div>\n",
       "<style scoped>\n",
       "    .dataframe tbody tr th:only-of-type {\n",
       "        vertical-align: middle;\n",
       "    }\n",
       "\n",
       "    .dataframe tbody tr th {\n",
       "        vertical-align: top;\n",
       "    }\n",
       "\n",
       "    .dataframe thead th {\n",
       "        text-align: right;\n",
       "    }\n",
       "</style>\n",
       "<table border=\"1\" class=\"dataframe\">\n",
       "  <thead>\n",
       "    <tr style=\"text-align: right;\">\n",
       "      <th></th>\n",
       "      <th>model_details</th>\n",
       "      <th>train_accuracy</th>\n",
       "      <th>test_accuracy</th>\n",
       "      <th>sensitivity</th>\n",
       "      <th>specificity</th>\n",
       "      <th>precision</th>\n",
       "      <th>roc_auc</th>\n",
       "      <th>kaggle_roc_auc</th>\n",
       "    </tr>\n",
       "  </thead>\n",
       "  <tbody>\n",
       "    <tr>\n",
       "      <th>1</th>\n",
       "      <td>LogRegCV (class_weight='balanced')</td>\n",
       "      <td>0.671</td>\n",
       "      <td>0.671</td>\n",
       "      <td>0.868</td>\n",
       "      <td>0.660</td>\n",
       "      <td>0.129</td>\n",
       "      <td>0.850</td>\n",
       "      <td>0.725</td>\n",
       "    </tr>\n",
       "    <tr>\n",
       "      <th>2</th>\n",
       "      <td>LogRegCV (class_weight='balanced') with PolyFeats (degree=2)</td>\n",
       "      <td>0.687</td>\n",
       "      <td>0.692</td>\n",
       "      <td>0.851</td>\n",
       "      <td>0.682</td>\n",
       "      <td>0.135</td>\n",
       "      <td>0.839</td>\n",
       "      <td>0.658</td>\n",
       "    </tr>\n",
       "  </tbody>\n",
       "</table>\n",
       "</div>"
      ],
      "text/plain": [
       "                                                  model_details  \\\n",
       "1                            LogRegCV (class_weight='balanced')   \n",
       "2  LogRegCV (class_weight='balanced') with PolyFeats (degree=2)   \n",
       "\n",
       "   train_accuracy  test_accuracy  sensitivity  specificity  precision  \\\n",
       "1           0.671          0.671        0.868        0.660      0.129   \n",
       "2           0.687          0.692        0.851        0.682      0.135   \n",
       "\n",
       "   roc_auc  kaggle_roc_auc  \n",
       "1    0.850           0.725  \n",
       "2    0.839           0.658  "
      ]
     },
     "execution_count": 56,
     "metadata": {},
     "output_type": "execute_result"
    }
   ],
   "source": [
    "summary_df.loc[2] = [\"LogRegCV (class_weight='balanced') with PolyFeats (degree=2)\",\n",
    "                     round(logregcv2.score(X_train_poly_sc, y_train), 3),\n",
    "                     round(logregcv2.score(X_test_poly_sc, y_test), 3),\n",
    "                     round(sensitivity2, 3),\n",
    "                     round(specificity2, 3),\n",
    "                     round(precision2, 3),\n",
    "                     round(roc_auc2, 3),\n",
    "                     0.658\n",
    "                    ]\n",
    "\n",
    "summary_df"
   ]
  },
  {
   "cell_type": "markdown",
   "metadata": {},
   "source": [
    "### Trying RandomForestClassifier with GridSearchCV"
   ]
  },
  {
   "cell_type": "code",
   "execution_count": 57,
   "metadata": {},
   "outputs": [],
   "source": [
    "# Establishing ranges of hyperparameters of RandomForestClassifier for GridSearchCV.\n",
    "\n",
    "rfc3_params = {'n_estimators' : [100, 200, 300],\n",
    "               'max_depth' : [3, 5, 7],\n",
    "               # 'ccp_alpha' : [0, 1, 5, 10],\n",
    "               # 'min_samples_split' : [5, 10, 15, 20],\n",
    "               # 'min_samples_leaf' : [2, 3, 4, 5, 6],\n",
    "               'class_weight' : ['balanced', 'balanced_subsample']\n",
    "              }"
   ]
  },
  {
   "cell_type": "markdown",
   "metadata": {},
   "source": [
    "n_estimators started with 100, 150, 200 --> GridSearchCV suggested 200\n",
    "n_estimators changed to 200, 300, 500 --> GridSearchCV suggested 500\n",
    "n_estimators changed to 300, 500, 700 --> GridSearchCV suggested "
   ]
  },
  {
   "cell_type": "code",
   "execution_count": 58,
   "metadata": {},
   "outputs": [],
   "source": [
    "gs_rfc3 = GridSearchCV(RandomForestClassifier(random_state=42),\n",
    "                       param_grid=rfc3_params,\n",
    "                       cv=5,\n",
    "                       scoring='roc_auc'\n",
    "                      )"
   ]
  },
  {
   "cell_type": "code",
   "execution_count": 59,
   "metadata": {},
   "outputs": [
    {
     "name": "stdout",
     "output_type": "stream",
     "text": [
      "TIME TAKEN: 0.0 seconds\n"
     ]
    }
   ],
   "source": [
    "# Fitting GridSearchCV with RandomForestClassifier X_train_sc and y_train.\n",
    "\n",
    "t_start = time.time()\n",
    "\n",
    "# gs_rfc3.fit(X_train_sc, y_train)\n",
    "\n",
    "t_end = time.time()\n",
    "\n",
    "print(f\"TIME TAKEN: {round(t_end-t_start, 0)} seconds\")"
   ]
  },
  {
   "cell_type": "code",
   "execution_count": 60,
   "metadata": {},
   "outputs": [],
   "source": [
    "# Best combination of hyperparameters suggested by GridSearchCV.\n",
    "\n",
    "# gs_rfc3.best_params_"
   ]
  },
  {
   "cell_type": "code",
   "execution_count": 61,
   "metadata": {},
   "outputs": [],
   "source": [
    "# gs_rfc3.best_score_"
   ]
  },
  {
   "cell_type": "code",
   "execution_count": 62,
   "metadata": {},
   "outputs": [],
   "source": [
    "# Scoring the model on training dataset (ROC-AUC score).\n",
    "\n",
    "# gs_rfc3.score(X_train_sc, y_train)"
   ]
  },
  {
   "cell_type": "code",
   "execution_count": 63,
   "metadata": {},
   "outputs": [],
   "source": [
    "# Scoring the model on testing dataset (ROC-AUC score).\n",
    "\n",
    "# gs_rfc3.score(X_test_sc, y_test)"
   ]
  },
  {
   "cell_type": "markdown",
   "metadata": {},
   "source": [
    "Even though the best parameters were suggested above by GridSearchCV, the model was further tweaked manually using different sets of hyperparameters. GridSearchCV only optimizes the scoring parameter (set as *'roc_auc'* above). However, in this case, we need to find a good balance between *Accuracy* and *Sensitivity*. Thus, a more manual tweaking of the model is needed.\n",
    "\n",
    "The final set of hyperparameters chosen after manual tweaking are as shown below."
   ]
  },
  {
   "cell_type": "code",
   "execution_count": 64,
   "metadata": {},
   "outputs": [],
   "source": [
    "# Defining a RandomForestClassifier object using best params suggested by GridSearchCV.\n",
    "\n",
    "rfc3 = RandomForestClassifier(class_weight='balanced_subsample', \n",
    "                              n_estimators=200,\n",
    "                              ccp_alpha=0,\n",
    "                              max_depth=5,\n",
    "                              random_state=42\n",
    "                             )"
   ]
  },
  {
   "cell_type": "code",
   "execution_count": 65,
   "metadata": {},
   "outputs": [
    {
     "data": {
      "text/plain": [
       "RandomForestClassifier(bootstrap=True, ccp_alpha=0,\n",
       "                       class_weight='balanced_subsample', criterion='gini',\n",
       "                       max_depth=5, max_features='auto', max_leaf_nodes=None,\n",
       "                       max_samples=None, min_impurity_decrease=0.0,\n",
       "                       min_impurity_split=None, min_samples_leaf=1,\n",
       "                       min_samples_split=2, min_weight_fraction_leaf=0.0,\n",
       "                       n_estimators=200, n_jobs=None, oob_score=False,\n",
       "                       random_state=42, verbose=0, warm_start=False)"
      ]
     },
     "execution_count": 65,
     "metadata": {},
     "output_type": "execute_result"
    }
   ],
   "source": [
    "# Fitting scaled X_train_sc on RandomForestClassifier object defined above.\n",
    "\n",
    "rfc3.fit(X_train_sc, y_train)"
   ]
  },
  {
   "cell_type": "code",
   "execution_count": 66,
   "metadata": {},
   "outputs": [
    {
     "data": {
      "text/plain": [
       "0.7408477842003853"
      ]
     },
     "execution_count": 66,
     "metadata": {},
     "output_type": "execute_result"
    }
   ],
   "source": [
    "# Scoring the model on training dataset.\n",
    "\n",
    "rfc3.score(X_train_sc, y_train)"
   ]
  },
  {
   "cell_type": "code",
   "execution_count": 67,
   "metadata": {},
   "outputs": [
    {
     "data": {
      "text/plain": [
       "0.7345857418111753"
      ]
     },
     "execution_count": 67,
     "metadata": {},
     "output_type": "execute_result"
    }
   ],
   "source": [
    "# Scoring the model on testing dataset.\n",
    "\n",
    "rfc3.score(X_test_sc, y_test)"
   ]
  },
  {
   "cell_type": "code",
   "execution_count": 68,
   "metadata": {},
   "outputs": [],
   "source": [
    "# Generating predictions on testing dataset using the model above.\n",
    "\n",
    "y_pred3 = rfc3.predict(X_test_sc)"
   ]
  },
  {
   "cell_type": "code",
   "execution_count": 69,
   "metadata": {},
   "outputs": [],
   "source": [
    "# Generating prediction probabilities on testing dataset using the model above.\n",
    "\n",
    "y_pred_proba3 = rfc3.predict_proba(X_test_sc)"
   ]
  },
  {
   "cell_type": "code",
   "execution_count": 70,
   "metadata": {},
   "outputs": [],
   "source": [
    "# Generating a confusion matrix.\n",
    "\n",
    "tn, fp, fn, tp = confusion_matrix(y_test, y_pred3).ravel()"
   ]
  },
  {
   "cell_type": "code",
   "execution_count": 71,
   "metadata": {},
   "outputs": [
    {
     "data": {
      "text/html": [
       "<div>\n",
       "<style scoped>\n",
       "    .dataframe tbody tr th:only-of-type {\n",
       "        vertical-align: middle;\n",
       "    }\n",
       "\n",
       "    .dataframe tbody tr th {\n",
       "        vertical-align: top;\n",
       "    }\n",
       "\n",
       "    .dataframe thead th {\n",
       "        text-align: right;\n",
       "    }\n",
       "</style>\n",
       "<table border=\"1\" class=\"dataframe\">\n",
       "  <thead>\n",
       "    <tr style=\"text-align: right;\">\n",
       "      <th></th>\n",
       "      <th>Actual WnvPresent=1</th>\n",
       "      <th>Actual WnvPresent=0</th>\n",
       "    </tr>\n",
       "  </thead>\n",
       "  <tbody>\n",
       "    <tr>\n",
       "      <th>Predicted WnvPresent=1</th>\n",
       "      <td>104 (True Pos)</td>\n",
       "      <td>541 (False Pos)</td>\n",
       "    </tr>\n",
       "    <tr>\n",
       "      <th>Predicted WnvPresent=0</th>\n",
       "      <td>10 (False Neg)</td>\n",
       "      <td>1421 (True Neg)</td>\n",
       "    </tr>\n",
       "  </tbody>\n",
       "</table>\n",
       "</div>"
      ],
      "text/plain": [
       "                       Actual WnvPresent=1 Actual WnvPresent=0\n",
       "Predicted WnvPresent=1      104 (True Pos)     541 (False Pos)\n",
       "Predicted WnvPresent=0      10 (False Neg)     1421 (True Neg)"
      ]
     },
     "execution_count": 71,
     "metadata": {},
     "output_type": "execute_result"
    }
   ],
   "source": [
    "conf_mat3 = pd.DataFrame(columns=['Actual WnvPresent=1', 'Actual WnvPresent=0'], \n",
    "                         index=['Predicted WnvPresent=1', 'Predicted WnvPresent=0'],\n",
    "                         data=[[f'{tp} (True Pos)', f'{fp} (False Pos)'], [f'{fn} (False Neg)', f'{tn} (True Neg)']]\n",
    "                        )\n",
    "conf_mat3"
   ]
  },
  {
   "cell_type": "code",
   "execution_count": 72,
   "metadata": {},
   "outputs": [
    {
     "data": {
      "text/plain": [
       "0.9122807017543859"
      ]
     },
     "execution_count": 72,
     "metadata": {},
     "output_type": "execute_result"
    }
   ],
   "source": [
    "sensitivity3 = tp/(tp+fn)\n",
    "sensitivity3"
   ]
  },
  {
   "cell_type": "code",
   "execution_count": 73,
   "metadata": {},
   "outputs": [
    {
     "data": {
      "text/plain": [
       "0.7242609582059123"
      ]
     },
     "execution_count": 73,
     "metadata": {},
     "output_type": "execute_result"
    }
   ],
   "source": [
    "specificity3 = tn/(tn+fp)\n",
    "specificity3"
   ]
  },
  {
   "cell_type": "code",
   "execution_count": 74,
   "metadata": {},
   "outputs": [
    {
     "data": {
      "text/plain": [
       "0.16124031007751938"
      ]
     },
     "execution_count": 74,
     "metadata": {},
     "output_type": "execute_result"
    }
   ],
   "source": [
    "precision3 = tp/(tp+fp)\n",
    "precision3"
   ]
  },
  {
   "cell_type": "code",
   "execution_count": 75,
   "metadata": {},
   "outputs": [
    {
     "data": {
      "text/plain": [
       "0.8820372158735269"
      ]
     },
     "execution_count": 75,
     "metadata": {},
     "output_type": "execute_result"
    }
   ],
   "source": [
    "roc_auc3 = roc_auc_score(y_test, y_pred_proba3[:, 1])\n",
    "roc_auc3"
   ]
  },
  {
   "cell_type": "code",
   "execution_count": 76,
   "metadata": {},
   "outputs": [],
   "source": [
    "# Generating prediction probabilities on actual testing dataset using the model above (for kaggle submission).\n",
    "\n",
    "submission_pred_proba3 = rfc3.predict_proba(act_test_X_sc)[:, 1]"
   ]
  },
  {
   "cell_type": "code",
   "execution_count": 77,
   "metadata": {},
   "outputs": [],
   "source": [
    "# Putting the above predicted probabilities into a dataframe and exporting it as a csv file for submission to kaggle.\n",
    "\n",
    "sub3 = pd.DataFrame({'Id' : test['Id'].values, 'WnvPresent' : submission_pred_proba3})\n",
    "sub3.to_csv('../kaggle_submissions/submission_3.csv', index=False)"
   ]
  },
  {
   "cell_type": "code",
   "execution_count": 78,
   "metadata": {},
   "outputs": [
    {
     "data": {
      "text/html": [
       "<div>\n",
       "<style scoped>\n",
       "    .dataframe tbody tr th:only-of-type {\n",
       "        vertical-align: middle;\n",
       "    }\n",
       "\n",
       "    .dataframe tbody tr th {\n",
       "        vertical-align: top;\n",
       "    }\n",
       "\n",
       "    .dataframe thead th {\n",
       "        text-align: right;\n",
       "    }\n",
       "</style>\n",
       "<table border=\"1\" class=\"dataframe\">\n",
       "  <thead>\n",
       "    <tr style=\"text-align: right;\">\n",
       "      <th></th>\n",
       "      <th>model_details</th>\n",
       "      <th>train_accuracy</th>\n",
       "      <th>test_accuracy</th>\n",
       "      <th>sensitivity</th>\n",
       "      <th>specificity</th>\n",
       "      <th>precision</th>\n",
       "      <th>roc_auc</th>\n",
       "      <th>kaggle_roc_auc</th>\n",
       "    </tr>\n",
       "  </thead>\n",
       "  <tbody>\n",
       "    <tr>\n",
       "      <th>1</th>\n",
       "      <td>LogRegCV (class_weight='balanced')</td>\n",
       "      <td>0.671</td>\n",
       "      <td>0.671</td>\n",
       "      <td>0.868</td>\n",
       "      <td>0.660</td>\n",
       "      <td>0.129</td>\n",
       "      <td>0.850</td>\n",
       "      <td>0.725</td>\n",
       "    </tr>\n",
       "    <tr>\n",
       "      <th>2</th>\n",
       "      <td>LogRegCV (class_weight='balanced') with PolyFeats (degree=2)</td>\n",
       "      <td>0.687</td>\n",
       "      <td>0.692</td>\n",
       "      <td>0.851</td>\n",
       "      <td>0.682</td>\n",
       "      <td>0.135</td>\n",
       "      <td>0.839</td>\n",
       "      <td>0.658</td>\n",
       "    </tr>\n",
       "    <tr>\n",
       "      <th>3</th>\n",
       "      <td>RandomForestClassifier (class_weight='balanced_subsample')</td>\n",
       "      <td>0.741</td>\n",
       "      <td>0.735</td>\n",
       "      <td>0.912</td>\n",
       "      <td>0.724</td>\n",
       "      <td>0.161</td>\n",
       "      <td>0.882</td>\n",
       "      <td>0.722</td>\n",
       "    </tr>\n",
       "  </tbody>\n",
       "</table>\n",
       "</div>"
      ],
      "text/plain": [
       "                                                  model_details  \\\n",
       "1                            LogRegCV (class_weight='balanced')   \n",
       "2  LogRegCV (class_weight='balanced') with PolyFeats (degree=2)   \n",
       "3    RandomForestClassifier (class_weight='balanced_subsample')   \n",
       "\n",
       "   train_accuracy  test_accuracy  sensitivity  specificity  precision  \\\n",
       "1           0.671          0.671        0.868        0.660      0.129   \n",
       "2           0.687          0.692        0.851        0.682      0.135   \n",
       "3           0.741          0.735        0.912        0.724      0.161   \n",
       "\n",
       "   roc_auc  kaggle_roc_auc  \n",
       "1    0.850           0.725  \n",
       "2    0.839           0.658  \n",
       "3    0.882           0.722  "
      ]
     },
     "execution_count": 78,
     "metadata": {},
     "output_type": "execute_result"
    }
   ],
   "source": [
    "summary_df.loc[3] = [\"RandomForestClassifier (class_weight='balanced_subsample')\",\n",
    "                     round(rfc3.score(X_train_sc, y_train), 3),\n",
    "                     round(rfc3.score(X_test_sc, y_test), 3),\n",
    "                     round(sensitivity3, 3),\n",
    "                     round(specificity3, 3),\n",
    "                     round(precision3, 3),\n",
    "                     round(roc_auc3, 3),\n",
    "                     0.722\n",
    "                    ]\n",
    "\n",
    "summary_df"
   ]
  },
  {
   "cell_type": "code",
   "execution_count": 79,
   "metadata": {},
   "outputs": [
    {
     "data": {
      "image/png": "[encoded data removed]",
      "text/plain": [
       "<Figure size 1296x504 with 1 Axes>"
      ]
     },
     "metadata": {
      "needs_background": "light"
     },
     "output_type": "display_data"
    }
   ],
   "source": [
    "# Plotting barplot of features and the logreg coefs.\n",
    "\n",
    "plt.figure(figsize=(18,7))\n",
    "\n",
    "plt.bar(X_train.columns, rfc3.feature_importances_)\n",
    "\n",
    "plt.tick_params(axis='x', labelrotation=25)\n",
    "\n",
    "plt.xlabel('Features', fontsize=14)\n",
    "plt.ylabel('Feature Importances', fontsize=14)\n",
    "\n",
    "plt.title(\"Barplot of features and their importances (weather lag = 10 days)\", fontsize=18)\n",
    "\n",
    "# Exporting plot image in PNG format.\n",
    "plt.savefig('../plot_images/barplot_rfc_feature_importance_lag10.png', bbox_inches='tight');"
   ]
  },
  {
   "cell_type": "markdown",
   "metadata": {},
   "source": [
    "### Trying SVM with GridSearchCV"
   ]
  },
  {
   "cell_type": "code",
   "execution_count": 80,
   "metadata": {},
   "outputs": [],
   "source": [
    "# Establishing ranges of hyperparameters of SVC for GridSearchCV.\n",
    "\n",
    "svc4_params = {'C' : [0.1, 0.2, 0.4, 1],\n",
    "               'kernel' : ['rbf', 'poly'],\n",
    "               'degree' : [3, 5]\n",
    "              }"
   ]
  },
  {
   "cell_type": "markdown",
   "metadata": {},
   "source": []
  },
  {
   "cell_type": "code",
   "execution_count": 81,
   "metadata": {},
   "outputs": [],
   "source": [
    "gs_svc4 = GridSearchCV(SVC(class_weight='balanced', probability=True, random_state=42),\n",
    "                       param_grid=svc4_params,\n",
    "                       cv=5,\n",
    "                       scoring='roc_auc'\n",
    "                      )"
   ]
  },
  {
   "cell_type": "code",
   "execution_count": 82,
   "metadata": {},
   "outputs": [
    {
     "name": "stdout",
     "output_type": "stream",
     "text": [
      "TIME TAKEN: 0.0 seconds\n"
     ]
    }
   ],
   "source": [
    "# Fitting GridSearchCV with SVC X_train_sc and y_train.\n",
    "\n",
    "t_start = time.time()\n",
    "\n",
    "# gs_svc4.fit(X_train_sc, y_train)\n",
    "\n",
    "t_end = time.time()\n",
    "\n",
    "print(f\"TIME TAKEN: {round(t_end-t_start, 0)} seconds\")"
   ]
  },
  {
   "cell_type": "code",
   "execution_count": 83,
   "metadata": {},
   "outputs": [],
   "source": [
    "# Best combination of hyperparameters suggested by GridSearchCV.\n",
    "\n",
    "# gs_svc4.best_params_"
   ]
  },
  {
   "cell_type": "code",
   "execution_count": 84,
   "metadata": {},
   "outputs": [],
   "source": [
    "# gs_svc4.best_score_"
   ]
  },
  {
   "cell_type": "code",
   "execution_count": 85,
   "metadata": {},
   "outputs": [],
   "source": [
    "# Scoring the model on training dataset (ROC-AUC score).\n",
    "\n",
    "# gs_svc4.score(X_train_sc, y_train)"
   ]
  },
  {
   "cell_type": "code",
   "execution_count": 86,
   "metadata": {},
   "outputs": [],
   "source": [
    "# Scoring the model on testing dataset (ROC-AUC score).\n",
    "\n",
    "# gs_svc4.score(X_test_sc, y_test)"
   ]
  },
  {
   "cell_type": "code",
   "execution_count": 87,
   "metadata": {},
   "outputs": [],
   "source": [
    "# Defining a SVC object using best params suggested by GridSearchCV.\n",
    "\n",
    "svc4 = SVC(class_weight='balanced',\n",
    "           C=0.4,\n",
    "           kernel='rbf',\n",
    "           probability=True, \n",
    "           random_state=42)"
   ]
  },
  {
   "cell_type": "code",
   "execution_count": 88,
   "metadata": {},
   "outputs": [
    {
     "data": {
      "text/plain": [
       "SVC(C=0.4, break_ties=False, cache_size=200, class_weight='balanced', coef0=0.0,\n",
       "    decision_function_shape='ovr', degree=3, gamma='scale', kernel='rbf',\n",
       "    max_iter=-1, probability=True, random_state=42, shrinking=True, tol=0.001,\n",
       "    verbose=False)"
      ]
     },
     "execution_count": 88,
     "metadata": {},
     "output_type": "execute_result"
    }
   ],
   "source": [
    "# Fitting scaled X_train_sc on SVC object defined above.\n",
    "\n",
    "svc4.fit(X_train_sc, y_train)"
   ]
  },
  {
   "cell_type": "code",
   "execution_count": 89,
   "metadata": {},
   "outputs": [
    {
     "data": {
      "text/plain": [
       "0.7106615285806037"
      ]
     },
     "execution_count": 89,
     "metadata": {},
     "output_type": "execute_result"
    }
   ],
   "source": [
    "# Scoring the model on training dataset.\n",
    "\n",
    "svc4.score(X_train_sc, y_train)"
   ]
  },
  {
   "cell_type": "code",
   "execution_count": 90,
   "metadata": {},
   "outputs": [
    {
     "data": {
      "text/plain": [
       "0.6999036608863198"
      ]
     },
     "execution_count": 90,
     "metadata": {},
     "output_type": "execute_result"
    }
   ],
   "source": [
    "# Scoring the model on testing dataset.\n",
    "\n",
    "svc4.score(X_test_sc, y_test)"
   ]
  },
  {
   "cell_type": "code",
   "execution_count": 91,
   "metadata": {},
   "outputs": [],
   "source": [
    "# Generating predictions on testing dataset using the model above.\n",
    "\n",
    "y_pred4 = svc4.predict(X_test_sc)"
   ]
  },
  {
   "cell_type": "code",
   "execution_count": 92,
   "metadata": {},
   "outputs": [],
   "source": [
    "# Generating prediction probabilities on testing dataset using the model above.\n",
    "\n",
    "y_pred_proba4 = svc4.predict_proba(X_test_sc)"
   ]
  },
  {
   "cell_type": "code",
   "execution_count": 93,
   "metadata": {},
   "outputs": [],
   "source": [
    "# Generating a confusion matrix.\n",
    "\n",
    "tn, fp, fn, tp = confusion_matrix(y_test, y_pred4).ravel()"
   ]
  },
  {
   "cell_type": "code",
   "execution_count": 94,
   "metadata": {},
   "outputs": [
    {
     "data": {
      "text/html": [
       "<div>\n",
       "<style scoped>\n",
       "    .dataframe tbody tr th:only-of-type {\n",
       "        vertical-align: middle;\n",
       "    }\n",
       "\n",
       "    .dataframe tbody tr th {\n",
       "        vertical-align: top;\n",
       "    }\n",
       "\n",
       "    .dataframe thead th {\n",
       "        text-align: right;\n",
       "    }\n",
       "</style>\n",
       "<table border=\"1\" class=\"dataframe\">\n",
       "  <thead>\n",
       "    <tr style=\"text-align: right;\">\n",
       "      <th></th>\n",
       "      <th>Actual WnvPresent=1</th>\n",
       "      <th>Actual WnvPresent=0</th>\n",
       "    </tr>\n",
       "  </thead>\n",
       "  <tbody>\n",
       "    <tr>\n",
       "      <th>Predicted WnvPresent=1</th>\n",
       "      <td>100 (True Pos)</td>\n",
       "      <td>609 (False Pos)</td>\n",
       "    </tr>\n",
       "    <tr>\n",
       "      <th>Predicted WnvPresent=0</th>\n",
       "      <td>14 (False Neg)</td>\n",
       "      <td>1353 (True Neg)</td>\n",
       "    </tr>\n",
       "  </tbody>\n",
       "</table>\n",
       "</div>"
      ],
      "text/plain": [
       "                       Actual WnvPresent=1 Actual WnvPresent=0\n",
       "Predicted WnvPresent=1      100 (True Pos)     609 (False Pos)\n",
       "Predicted WnvPresent=0      14 (False Neg)     1353 (True Neg)"
      ]
     },
     "execution_count": 94,
     "metadata": {},
     "output_type": "execute_result"
    }
   ],
   "source": [
    "conf_mat4 = pd.DataFrame(columns=['Actual WnvPresent=1', 'Actual WnvPresent=0'], \n",
    "                         index=['Predicted WnvPresent=1', 'Predicted WnvPresent=0'],\n",
    "                         data=[[f'{tp} (True Pos)', f'{fp} (False Pos)'], [f'{fn} (False Neg)', f'{tn} (True Neg)']]\n",
    "                        )\n",
    "conf_mat4"
   ]
  },
  {
   "cell_type": "code",
   "execution_count": 95,
   "metadata": {},
   "outputs": [
    {
     "data": {
      "text/plain": [
       "0.8771929824561403"
      ]
     },
     "execution_count": 95,
     "metadata": {},
     "output_type": "execute_result"
    }
   ],
   "source": [
    "sensitivity4 = tp/(tp+fn)\n",
    "sensitivity4"
   ]
  },
  {
   "cell_type": "code",
   "execution_count": 96,
   "metadata": {},
   "outputs": [
    {
     "data": {
      "text/plain": [
       "0.6896024464831805"
      ]
     },
     "execution_count": 96,
     "metadata": {},
     "output_type": "execute_result"
    }
   ],
   "source": [
    "specificity4 = tn/(tn+fp)\n",
    "specificity4"
   ]
  },
  {
   "cell_type": "code",
   "execution_count": 97,
   "metadata": {},
   "outputs": [
    {
     "data": {
      "text/plain": [
       "0.14104372355430184"
      ]
     },
     "execution_count": 97,
     "metadata": {},
     "output_type": "execute_result"
    }
   ],
   "source": [
    "precision4 = tp/(tp+fp)\n",
    "precision4"
   ]
  },
  {
   "cell_type": "code",
   "execution_count": 98,
   "metadata": {},
   "outputs": [
    {
     "data": {
      "text/plain": [
       "0.8432609939732102"
      ]
     },
     "execution_count": 98,
     "metadata": {},
     "output_type": "execute_result"
    }
   ],
   "source": [
    "roc_auc4 = roc_auc_score(y_test, y_pred_proba4[:, 1])\n",
    "roc_auc4"
   ]
  },
  {
   "cell_type": "code",
   "execution_count": 99,
   "metadata": {},
   "outputs": [],
   "source": [
    "# Generating prediction probabilities on actual testing dataset using the model above (for kaggle submission).\n",
    "\n",
    "submission_pred_proba4 = svc4.predict_proba(act_test_X_sc)[:, 1]"
   ]
  },
  {
   "cell_type": "code",
   "execution_count": 100,
   "metadata": {},
   "outputs": [],
   "source": [
    "# Putting the above predicted probabilities into a dataframe and exporting it as a csv file for submission to kaggle.\n",
    "\n",
    "sub4 = pd.DataFrame({'Id' : test['Id'].values, 'WnvPresent' : submission_pred_proba4})\n",
    "sub4.to_csv('../kaggle_submissions/submission_4.csv', index=False)"
   ]
  },
  {
   "cell_type": "code",
   "execution_count": 101,
   "metadata": {},
   "outputs": [
    {
     "data": {
      "text/html": [
       "<div>\n",
       "<style scoped>\n",
       "    .dataframe tbody tr th:only-of-type {\n",
       "        vertical-align: middle;\n",
       "    }\n",
       "\n",
       "    .dataframe tbody tr th {\n",
       "        vertical-align: top;\n",
       "    }\n",
       "\n",
       "    .dataframe thead th {\n",
       "        text-align: right;\n",
       "    }\n",
       "</style>\n",
       "<table border=\"1\" class=\"dataframe\">\n",
       "  <thead>\n",
       "    <tr style=\"text-align: right;\">\n",
       "      <th></th>\n",
       "      <th>model_details</th>\n",
       "      <th>train_accuracy</th>\n",
       "      <th>test_accuracy</th>\n",
       "      <th>sensitivity</th>\n",
       "      <th>specificity</th>\n",
       "      <th>precision</th>\n",
       "      <th>roc_auc</th>\n",
       "      <th>kaggle_roc_auc</th>\n",
       "    </tr>\n",
       "  </thead>\n",
       "  <tbody>\n",
       "    <tr>\n",
       "      <th>1</th>\n",
       "      <td>LogRegCV (class_weight='balanced')</td>\n",
       "      <td>0.671</td>\n",
       "      <td>0.671</td>\n",
       "      <td>0.868</td>\n",
       "      <td>0.660</td>\n",
       "      <td>0.129</td>\n",
       "      <td>0.850</td>\n",
       "      <td>0.725</td>\n",
       "    </tr>\n",
       "    <tr>\n",
       "      <th>2</th>\n",
       "      <td>LogRegCV (class_weight='balanced') with PolyFeats (degree=2)</td>\n",
       "      <td>0.687</td>\n",
       "      <td>0.692</td>\n",
       "      <td>0.851</td>\n",
       "      <td>0.682</td>\n",
       "      <td>0.135</td>\n",
       "      <td>0.839</td>\n",
       "      <td>0.658</td>\n",
       "    </tr>\n",
       "    <tr>\n",
       "      <th>3</th>\n",
       "      <td>RandomForestClassifier (class_weight='balanced_subsample')</td>\n",
       "      <td>0.741</td>\n",
       "      <td>0.735</td>\n",
       "      <td>0.912</td>\n",
       "      <td>0.724</td>\n",
       "      <td>0.161</td>\n",
       "      <td>0.882</td>\n",
       "      <td>0.722</td>\n",
       "    </tr>\n",
       "    <tr>\n",
       "      <th>4</th>\n",
       "      <td>SVC (class_weight='balanced')</td>\n",
       "      <td>0.711</td>\n",
       "      <td>0.700</td>\n",
       "      <td>0.877</td>\n",
       "      <td>0.690</td>\n",
       "      <td>0.141</td>\n",
       "      <td>0.843</td>\n",
       "      <td>0.662</td>\n",
       "    </tr>\n",
       "  </tbody>\n",
       "</table>\n",
       "</div>"
      ],
      "text/plain": [
       "                                                  model_details  \\\n",
       "1                            LogRegCV (class_weight='balanced')   \n",
       "2  LogRegCV (class_weight='balanced') with PolyFeats (degree=2)   \n",
       "3    RandomForestClassifier (class_weight='balanced_subsample')   \n",
       "4                                 SVC (class_weight='balanced')   \n",
       "\n",
       "   train_accuracy  test_accuracy  sensitivity  specificity  precision  \\\n",
       "1           0.671          0.671        0.868        0.660      0.129   \n",
       "2           0.687          0.692        0.851        0.682      0.135   \n",
       "3           0.741          0.735        0.912        0.724      0.161   \n",
       "4           0.711          0.700        0.877        0.690      0.141   \n",
       "\n",
       "   roc_auc  kaggle_roc_auc  \n",
       "1    0.850           0.725  \n",
       "2    0.839           0.658  \n",
       "3    0.882           0.722  \n",
       "4    0.843           0.662  "
      ]
     },
     "execution_count": 101,
     "metadata": {},
     "output_type": "execute_result"
    }
   ],
   "source": [
    "summary_df.loc[4] = [\"SVC (class_weight='balanced')\",\n",
    "                     round(svc4.score(X_train_sc, y_train), 3),\n",
    "                     round(svc4.score(X_test_sc, y_test), 3),\n",
    "                     round(sensitivity4, 3),\n",
    "                     round(specificity4, 3),\n",
    "                     round(precision4, 3),\n",
    "                     round(roc_auc4, 3),\n",
    "                     0.662\n",
    "                    ]\n",
    "\n",
    "summary_df"
   ]
  },
  {
   "cell_type": "code",
   "execution_count": null,
   "metadata": {},
   "outputs": [],
   "source": []
  },
  {
   "cell_type": "markdown",
   "metadata": {},
   "source": [
    "### Trying LogReg with ADAboost"
   ]
  },
  {
   "cell_type": "code",
   "execution_count": null,
   "metadata": {},
   "outputs": [],
   "source": [
    "ada = AdaBoostClassifier(base_estimator=LogisticRegression())\n",
    "ada_params = {\n",
    "    'n_estimators': [50,100],\n",
    "    'base_estimator__max_depth': [1,2],\n",
    "    'learning_rate': [.9, 1.]\n",
    "}"
   ]
  },
  {
   "cell_type": "code",
   "execution_count": null,
   "metadata": {},
   "outputs": [],
   "source": [
    "gs = GridSearchCV(ada, param_grid=ada_params, cv=5)"
   ]
  },
  {
   "cell_type": "code",
   "execution_count": null,
   "metadata": {},
   "outputs": [],
   "source": [
    "gs.fit(X_train, y_train)"
   ]
  },
  {
   "cell_type": "code",
   "execution_count": null,
   "metadata": {},
   "outputs": [],
   "source": [
    "gs.best_params_"
   ]
  },
  {
   "cell_type": "code",
   "execution_count": null,
   "metadata": {},
   "outputs": [],
   "source": [
    "gs.best_score_"
   ]
  },
  {
   "cell_type": "code",
   "execution_count": null,
   "metadata": {},
   "outputs": [],
   "source": [
    "gs.score(X_train, y_train)"
   ]
  },
  {
   "cell_type": "code",
   "execution_count": null,
   "metadata": {},
   "outputs": [],
   "source": [
    "gs.score(X_test, y_test)"
   ]
  },
  {
   "cell_type": "code",
   "execution_count": null,
   "metadata": {},
   "outputs": [],
   "source": []
  },
  {
   "cell_type": "code",
   "execution_count": null,
   "metadata": {},
   "outputs": [],
   "source": [
    "scores_test = []\n",
    "scores_train = []\n",
    "n_estimators = []\n",
    "\n",
    "for n_est in range(30):\n",
    "    ada = AdaBoostClassifier(n_estimators=n_est+1, random_state=42)\n",
    "    ada.fit(X_train, y_train)\n",
    "    n_estimators.append(n_est+1)\n",
    "    scores_test.append(ada.score(X_test, y_test))\n",
    "    scores_train.append(ada.score(X_train, y_train))"
   ]
  },
  {
   "cell_type": "code",
   "execution_count": null,
   "metadata": {},
   "outputs": [],
   "source": []
  },
  {
   "cell_type": "code",
   "execution_count": null,
   "metadata": {},
   "outputs": [],
   "source": []
  },
  {
   "cell_type": "code",
   "execution_count": null,
   "metadata": {},
   "outputs": [],
   "source": []
  },
  {
   "cell_type": "code",
   "execution_count": 295,
   "metadata": {},
   "outputs": [],
   "source": [
    "# Defining a AdaBoostClassifier object using the RandomForestClassifier defined above.\n",
    "\n",
    "ada5 = AdaBoostClassifier(LogisticRegression(class_weight='balanced',\n",
    "                                             random_state=42,\n",
    "                                             penalty='elasticnet',\n",
    "                                             solver='saga',\n",
    "                                             C=100,\n",
    "                                             l1_ratio=0.5,\n",
    "                                             max_iter=500,\n",
    "                                             tol=0.01,\n",
    "                                            ),\n",
    "                          n_estimators=3,\n",
    "                          learning_rate=0.2,\n",
    "                          random_state=42\n",
    "                         )"
   ]
  },
  {
   "cell_type": "code",
   "execution_count": 296,
   "metadata": {},
   "outputs": [
    {
     "data": {
      "text/plain": [
       "AdaBoostClassifier(algorithm='SAMME.R',\n",
       "                   base_estimator=LogisticRegression(C=100,\n",
       "                                                     class_weight='balanced',\n",
       "                                                     dual=False,\n",
       "                                                     fit_intercept=True,\n",
       "                                                     intercept_scaling=1,\n",
       "                                                     l1_ratio=0.5, max_iter=500,\n",
       "                                                     multi_class='auto',\n",
       "                                                     n_jobs=None,\n",
       "                                                     penalty='elasticnet',\n",
       "                                                     random_state=42,\n",
       "                                                     solver='saga', tol=0.01,\n",
       "                                                     verbose=0,\n",
       "                                                     warm_start=False),\n",
       "                   learning_rate=0.2, n_estimators=3, random_state=42)"
      ]
     },
     "execution_count": 296,
     "metadata": {},
     "output_type": "execute_result"
    }
   ],
   "source": [
    "# Fitting scaled X_train_sc on AdaBoostClassifier object defined above.\n",
    "\n",
    "ada5.fit(X_train_sc, y_train)"
   ]
  },
  {
   "cell_type": "code",
   "execution_count": 297,
   "metadata": {},
   "outputs": [
    {
     "data": {
      "text/plain": [
       "0.3098908156711625"
      ]
     },
     "execution_count": 297,
     "metadata": {},
     "output_type": "execute_result"
    }
   ],
   "source": [
    "# Scoring the model on training dataset.\n",
    "\n",
    "ada5.score(X_train_sc, y_train)"
   ]
  },
  {
   "cell_type": "code",
   "execution_count": 298,
   "metadata": {},
   "outputs": [
    {
     "data": {
      "text/plain": [
       "0.31454720616570325"
      ]
     },
     "execution_count": 298,
     "metadata": {},
     "output_type": "execute_result"
    }
   ],
   "source": [
    "# Scoring the model on testing dataset.\n",
    "\n",
    "ada5.score(X_test_sc, y_test)"
   ]
  },
  {
   "cell_type": "code",
   "execution_count": 291,
   "metadata": {},
   "outputs": [],
   "source": [
    "# Generating predictions on testing dataset using the model above.\n",
    "\n",
    "y_pred5 = ada5.predict(X_test_sc)"
   ]
  },
  {
   "cell_type": "code",
   "execution_count": 292,
   "metadata": {},
   "outputs": [],
   "source": [
    "# Generating prediction probabilities on testing dataset using the model above.\n",
    "\n",
    "y_pred_proba5 = ada5.predict_proba(X_test_sc)"
   ]
  },
  {
   "cell_type": "code",
   "execution_count": 293,
   "metadata": {},
   "outputs": [],
   "source": [
    "# Generating a confusion matrix.\n",
    "\n",
    "tn, fp, fn, tp = confusion_matrix(y_test, y_pred5).ravel()"
   ]
  },
  {
   "cell_type": "code",
   "execution_count": 294,
   "metadata": {},
   "outputs": [
    {
     "data": {
      "text/html": [
       "<div>\n",
       "<style scoped>\n",
       "    .dataframe tbody tr th:only-of-type {\n",
       "        vertical-align: middle;\n",
       "    }\n",
       "\n",
       "    .dataframe tbody tr th {\n",
       "        vertical-align: top;\n",
       "    }\n",
       "\n",
       "    .dataframe thead th {\n",
       "        text-align: right;\n",
       "    }\n",
       "</style>\n",
       "<table border=\"1\" class=\"dataframe\">\n",
       "  <thead>\n",
       "    <tr style=\"text-align: right;\">\n",
       "      <th></th>\n",
       "      <th>Actual WnvPresent=1</th>\n",
       "      <th>Actual WnvPresent=0</th>\n",
       "    </tr>\n",
       "  </thead>\n",
       "  <tbody>\n",
       "    <tr>\n",
       "      <th>Predicted WnvPresent=1</th>\n",
       "      <td>111 (True Pos)</td>\n",
       "      <td>1455 (False Pos)</td>\n",
       "    </tr>\n",
       "    <tr>\n",
       "      <th>Predicted WnvPresent=0</th>\n",
       "      <td>3 (False Neg)</td>\n",
       "      <td>507 (True Neg)</td>\n",
       "    </tr>\n",
       "  </tbody>\n",
       "</table>\n",
       "</div>"
      ],
      "text/plain": [
       "                       Actual WnvPresent=1 Actual WnvPresent=0\n",
       "Predicted WnvPresent=1      111 (True Pos)    1455 (False Pos)\n",
       "Predicted WnvPresent=0       3 (False Neg)      507 (True Neg)"
      ]
     },
     "execution_count": 294,
     "metadata": {},
     "output_type": "execute_result"
    }
   ],
   "source": [
    "conf_mat5 = pd.DataFrame(columns=['Actual WnvPresent=1', 'Actual WnvPresent=0'], \n",
    "                         index=['Predicted WnvPresent=1', 'Predicted WnvPresent=0'],\n",
    "                         data=[[f'{tp} (True Pos)', f'{fp} (False Pos)'], [f'{fn} (False Neg)', f'{tn} (True Neg)']]\n",
    "                        )\n",
    "conf_mat5"
   ]
  },
  {
   "cell_type": "code",
   "execution_count": 286,
   "metadata": {},
   "outputs": [
    {
     "data": {
      "text/plain": [
       "0.9912280701754386"
      ]
     },
     "execution_count": 286,
     "metadata": {},
     "output_type": "execute_result"
    }
   ],
   "source": [
    "sensitivity5 = tp/(tp+fn)\n",
    "sensitivity5"
   ]
  },
  {
   "cell_type": "code",
   "execution_count": null,
   "metadata": {},
   "outputs": [],
   "source": [
    "specificity5 = tn/(tn+fp)\n",
    "specificity5"
   ]
  },
  {
   "cell_type": "code",
   "execution_count": null,
   "metadata": {},
   "outputs": [],
   "source": [
    "precision5 = tp/(tp+fp)\n",
    "precision5"
   ]
  },
  {
   "cell_type": "code",
   "execution_count": null,
   "metadata": {},
   "outputs": [],
   "source": [
    "roc_auc5 = roc_auc_score(y_test, y_pred_proba5[:, 1])\n",
    "roc_auc5"
   ]
  },
  {
   "cell_type": "code",
   "execution_count": null,
   "metadata": {},
   "outputs": [],
   "source": []
  },
  {
   "cell_type": "code",
   "execution_count": null,
   "metadata": {},
   "outputs": [],
   "source": []
  },
  {
   "cell_type": "code",
   "execution_count": null,
   "metadata": {},
   "outputs": [],
   "source": []
  },
  {
   "cell_type": "code",
   "execution_count": null,
   "metadata": {},
   "outputs": [],
   "source": []
  },
  {
   "cell_type": "code",
   "execution_count": null,
   "metadata": {},
   "outputs": [],
   "source": []
  },
  {
   "cell_type": "code",
   "execution_count": null,
   "metadata": {},
   "outputs": [],
   "source": []
  }
 ],
 "metadata": {
  "kernelspec": {
   "display_name": "Python 3",
   "language": "python",
   "name": "python3"
  },
  "language_info": {
   "codemirror_mode": {
    "name": "ipython",
    "version": 3
   },
   "file_extension": ".py",
   "mimetype": "text/x-python",
   "name": "python",
   "nbconvert_exporter": "python",
   "pygments_lexer": "ipython3",
   "version": "3.7.3"
  }
 },
 "nbformat": 4,
 "nbformat_minor": 4
}
