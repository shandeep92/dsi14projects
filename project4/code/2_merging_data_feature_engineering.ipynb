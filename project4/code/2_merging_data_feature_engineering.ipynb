{
 "cells": [
  {
   "cell_type": "markdown",
   "metadata": {},
   "source": [
    "# Project 4: West Nile Virus Prediction"
   ]
  },
  {
   "cell_type": "markdown",
   "metadata": {},
   "source": [
    "## Problem Statement"
   ]
  },
  {
   "cell_type": "markdown",
   "metadata": {},
   "source": [
    "1. **To predict locations with high potential** of having mosquitoes carrying West Nile Virus.\n",
    "2. Find out **factors that contribute to the growth and spread** of the virus in mosquitoes."
   ]
  },
  {
   "cell_type": "markdown",
   "metadata": {},
   "source": [
    "## Executive Summary"
   ]
  },
  {
   "cell_type": "markdown",
   "metadata": {},
   "source": [
    "### Context\n",
    "\n",
    "West-Nile-Virus(WNV) is a mosquito-borne disease that has plagued the continental United States since 1999. The vast majority of infected people will develop mild symptoms that will subside over a few days to several weeks ([source](https://medlineplus.gov/westnilevirus.html)). About 1 out of 150 infected people develop a serious illness. The sometimes neuroinvasive virus may cause encephalitis and meningitis, which can prove to be fatal. There is currently no vaccine to prevent or medication to treat WNV ([source](https://www.cdc.gov/westnile/index.html)).\n",
    "\n",
    "Outbreaks typically intensify over as little as a couple of weeks; however, human case reports are lagging indicators of risk since case reports occur weeks after the time of infection. Thus, environmental surveillance – monitoring enzootic and epizootic WNV transmission in mosquitoes and birds – forms a timelier index of risk, and is an important cornerstone for implementing effective WNV risk reduction efforts.Research and operational experience shows that increases in WNV infection rates in mosquito populations can provide an indicator of developing outbreak conditions several weeks in advance of increases in human infections. Aggressive and timely efforts to reduce the number of infected adult mosquitoes will optimally impact human WNV case incidence ([source](https://www.cdc.gov/westnile/resources/pdfs/wnvGuidelines.pdf)).\n",
    "\n",
    "### Scope\n",
    "\n",
    "The goal of this project is to derive a plan to deploy pesticides throughout the city of Chicago. Hence, the scope of our plan for deployment and cost analysis will also be limited within the city of Chicago. \n",
    "\n",
    "However, the model that we have trained can certainly be used in other states/cities within the United States to predict the potential outbreak of West Nile Virus. \n",
    "\n",
    "The modelling techniques and strategies will be presented to biostaticians,  epidemiologists, American Public Health Service and decision makers from Centers for Disease Control and Prevention (CDC)."
   ]
  },
  {
   "cell_type": "markdown",
   "metadata": {},
   "source": [
    "### Contents:\n",
    "- Jupyter Notebook 1 - ***1_data_cleaning.ipynb***\n",
    "    - Data Importing and Cleaning\n",
    "        - Cleaning train.csv\n",
    "        - Cleaning test.csv\n",
    "        - Cleaning spray.csv\n",
    "        - Cleaning weather.csv\n",
    "        - Exporting cleaned data\n",
    "- Jupyter Notebook 2 - ***2_merging_data_feature_engineering.ipynb***\n",
    "   - [Feature Engineering & Data Merging](#Feature-Engineering-&-Data-Merging)\n",
    "        - [Feature engineering to merge spray data with train & test data](#Feature-engineering-to-merge-spray-data-with-train-&-test-data)\n",
    "        - [Feature engineering for spatial correlation](#Feature-engineering-for-Spatial-Coorelation)\n",
    "        - [Merging weather data with train & test data](#Merging-weather-data-with-train-&-test-data)\n",
    "        - [Exporting merged data](#Exporting-merged-data)\n",
    "- Jupyter Notebook 3 - ***3_EDA_modelling_evaluation.ipynb.ipynb***\n",
    "     - Exploratory Data Analysis\n",
    "     - Model Preparation\n",
    "        - Modelling Approach\n",
    "        - Classification Metrics\n",
    "        - Class Balancing Techniques\n",
    "     - Classfication Modelling\n",
    "        - *GridSearchCV* for *LogisticRegression* with *SMOTE* balancing technique\n",
    "        - *RandomForestClassifier* with *SMOTE* balancing technique\n",
    "        - *SVC* with *SMOTE* balancing technique\n",
    "        - *GradientBoostingClassifier* with *SMOTE* balancing technique\n",
    "        - *RandomForestClassifier* with *ADASYN* balancing technique\n",
    "        - *RandomForestClassifier* with *ClusterCentroids* balancing technique\n",
    "        - *RandomForestClassifier* with hyperparameter *class_weight='balanced_subsample'*\n",
    "        - Feature Importance\n",
    "        - ROC Curve\n",
    "        - Visualizing the Predictions\n",
    "        - Cost-Benefit Analysis\n",
    "        - Deployment of Model\n",
    "     - Conclusions and Recommendations"
   ]
  },
  {
   "cell_type": "code",
   "execution_count": 1,
   "metadata": {
    "colab": {
     "base_uri": "https://localhost:8080/",
     "height": 122
    },
    "colab_type": "code",
    "id": "6IA_gNFHgfmP",
    "outputId": "d2d6ff74-73e9-4604-86a1-7f520257c30a"
   },
   "outputs": [],
   "source": [
    "# Imports\n",
    "\n",
    "import pandas as pd\n",
    "import numpy as np\n",
    "from datetime import datetime, timedelta\n",
    "\n",
    "pd.set_option('display.max_columns', None)\n",
    "# pd.set_option('display.max_rows', None)\n",
    "pd.set_option('display.max_colwidth', None)"
   ]
  },
  {
   "cell_type": "markdown",
   "metadata": {},
   "source": [
    "## Feature Engineering & Data Merging"
   ]
  },
  {
   "cell_type": "code",
   "execution_count": 2,
   "metadata": {
    "colab": {},
    "colab_type": "code",
    "id": "ohRdJkfYgfmV"
   },
   "outputs": [],
   "source": [
    "# Importing cleaned_train.csv, cleaned_test.csv, cleaned_spray.csv and cleaned_weather.csv.\n",
    "\n",
    "train = pd.read_csv(\"../input/cleaned_train.csv\")\n",
    "test = pd.read_csv(\"../input/cleaned_test.csv\")\n",
    "spray = pd.read_csv(\"../input/cleaned_spray.csv\")\n",
    "weather = pd.read_csv(\"../input/cleaned_weather.csv\")"
   ]
  },
  {
   "cell_type": "code",
   "execution_count": 3,
   "metadata": {
    "colab": {
     "base_uri": "https://localhost:8080/",
     "height": 204
    },
    "colab_type": "code",
    "id": "DW9jAOmigfmb",
    "outputId": "d2b2f663-e98c-4d0b-b18c-cf4b7c81cec4"
   },
   "outputs": [
    {
     "data": {
      "text/html": [
       "<div>\n",
       "<style scoped>\n",
       "    .dataframe tbody tr th:only-of-type {\n",
       "        vertical-align: middle;\n",
       "    }\n",
       "\n",
       "    .dataframe tbody tr th {\n",
       "        vertical-align: top;\n",
       "    }\n",
       "\n",
       "    .dataframe thead th {\n",
       "        text-align: right;\n",
       "    }\n",
       "</style>\n",
       "<table border=\"1\" class=\"dataframe\">\n",
       "  <thead>\n",
       "    <tr style=\"text-align: right;\">\n",
       "      <th></th>\n",
       "      <th>Date</th>\n",
       "      <th>Latitude</th>\n",
       "      <th>Longitude</th>\n",
       "      <th>Species_CULEX PIPIENS</th>\n",
       "      <th>Species_CULEX PIPIENS/RESTUANS</th>\n",
       "      <th>Species_CULEX RESTUANS</th>\n",
       "      <th>WnvPresent</th>\n",
       "    </tr>\n",
       "  </thead>\n",
       "  <tbody>\n",
       "    <tr>\n",
       "      <th>0</th>\n",
       "      <td>2007-05-29</td>\n",
       "      <td>41.954690</td>\n",
       "      <td>-87.800991</td>\n",
       "      <td>0</td>\n",
       "      <td>1</td>\n",
       "      <td>0</td>\n",
       "      <td>0</td>\n",
       "    </tr>\n",
       "    <tr>\n",
       "      <th>1</th>\n",
       "      <td>2007-05-29</td>\n",
       "      <td>41.954690</td>\n",
       "      <td>-87.800991</td>\n",
       "      <td>0</td>\n",
       "      <td>0</td>\n",
       "      <td>1</td>\n",
       "      <td>0</td>\n",
       "    </tr>\n",
       "    <tr>\n",
       "      <th>2</th>\n",
       "      <td>2007-05-29</td>\n",
       "      <td>41.994991</td>\n",
       "      <td>-87.769279</td>\n",
       "      <td>0</td>\n",
       "      <td>0</td>\n",
       "      <td>1</td>\n",
       "      <td>0</td>\n",
       "    </tr>\n",
       "    <tr>\n",
       "      <th>3</th>\n",
       "      <td>2007-05-29</td>\n",
       "      <td>41.974089</td>\n",
       "      <td>-87.824812</td>\n",
       "      <td>0</td>\n",
       "      <td>1</td>\n",
       "      <td>0</td>\n",
       "      <td>0</td>\n",
       "    </tr>\n",
       "    <tr>\n",
       "      <th>4</th>\n",
       "      <td>2007-05-29</td>\n",
       "      <td>41.974089</td>\n",
       "      <td>-87.824812</td>\n",
       "      <td>0</td>\n",
       "      <td>0</td>\n",
       "      <td>1</td>\n",
       "      <td>0</td>\n",
       "    </tr>\n",
       "  </tbody>\n",
       "</table>\n",
       "</div>"
      ],
      "text/plain": [
       "         Date   Latitude  Longitude  Species_CULEX PIPIENS  \\\n",
       "0  2007-05-29  41.954690 -87.800991                      0   \n",
       "1  2007-05-29  41.954690 -87.800991                      0   \n",
       "2  2007-05-29  41.994991 -87.769279                      0   \n",
       "3  2007-05-29  41.974089 -87.824812                      0   \n",
       "4  2007-05-29  41.974089 -87.824812                      0   \n",
       "\n",
       "   Species_CULEX PIPIENS/RESTUANS  Species_CULEX RESTUANS  WnvPresent  \n",
       "0                               1                       0           0  \n",
       "1                               0                       1           0  \n",
       "2                               0                       1           0  \n",
       "3                               1                       0           0  \n",
       "4                               0                       1           0  "
      ]
     },
     "execution_count": 3,
     "metadata": {},
     "output_type": "execute_result"
    }
   ],
   "source": [
    "train.head()"
   ]
  },
  {
   "cell_type": "code",
   "execution_count": 4,
   "metadata": {
    "colab": {
     "base_uri": "https://localhost:8080/",
     "height": 34
    },
    "colab_type": "code",
    "id": "tqOcn1ejgfmi",
    "outputId": "e10bf89c-943c-4339-d1b7-1f56884ecf8f"
   },
   "outputs": [
    {
     "data": {
      "text/plain": [
       "(8304, 7)"
      ]
     },
     "execution_count": 4,
     "metadata": {},
     "output_type": "execute_result"
    }
   ],
   "source": [
    "train.shape"
   ]
  },
  {
   "cell_type": "code",
   "execution_count": 5,
   "metadata": {
    "colab": {
     "base_uri": "https://localhost:8080/",
     "height": 204
    },
    "colab_type": "code",
    "id": "5bFxPAUT3GMO",
    "outputId": "8bd5a556-08dd-4903-c062-974e72f37106"
   },
   "outputs": [
    {
     "data": {
      "text/html": [
       "<div>\n",
       "<style scoped>\n",
       "    .dataframe tbody tr th:only-of-type {\n",
       "        vertical-align: middle;\n",
       "    }\n",
       "\n",
       "    .dataframe tbody tr th {\n",
       "        vertical-align: top;\n",
       "    }\n",
       "\n",
       "    .dataframe thead th {\n",
       "        text-align: right;\n",
       "    }\n",
       "</style>\n",
       "<table border=\"1\" class=\"dataframe\">\n",
       "  <thead>\n",
       "    <tr style=\"text-align: right;\">\n",
       "      <th></th>\n",
       "      <th>Id</th>\n",
       "      <th>Date</th>\n",
       "      <th>Latitude</th>\n",
       "      <th>Longitude</th>\n",
       "      <th>Species_CULEX PIPIENS</th>\n",
       "      <th>Species_CULEX PIPIENS/RESTUANS</th>\n",
       "      <th>Species_CULEX RESTUANS</th>\n",
       "    </tr>\n",
       "  </thead>\n",
       "  <tbody>\n",
       "    <tr>\n",
       "      <th>0</th>\n",
       "      <td>1</td>\n",
       "      <td>2008-06-11</td>\n",
       "      <td>41.95469</td>\n",
       "      <td>-87.800991</td>\n",
       "      <td>0</td>\n",
       "      <td>1</td>\n",
       "      <td>0</td>\n",
       "    </tr>\n",
       "    <tr>\n",
       "      <th>1</th>\n",
       "      <td>2</td>\n",
       "      <td>2008-06-11</td>\n",
       "      <td>41.95469</td>\n",
       "      <td>-87.800991</td>\n",
       "      <td>0</td>\n",
       "      <td>0</td>\n",
       "      <td>1</td>\n",
       "    </tr>\n",
       "    <tr>\n",
       "      <th>2</th>\n",
       "      <td>3</td>\n",
       "      <td>2008-06-11</td>\n",
       "      <td>41.95469</td>\n",
       "      <td>-87.800991</td>\n",
       "      <td>1</td>\n",
       "      <td>0</td>\n",
       "      <td>0</td>\n",
       "    </tr>\n",
       "    <tr>\n",
       "      <th>3</th>\n",
       "      <td>4</td>\n",
       "      <td>2008-06-11</td>\n",
       "      <td>41.95469</td>\n",
       "      <td>-87.800991</td>\n",
       "      <td>0</td>\n",
       "      <td>0</td>\n",
       "      <td>0</td>\n",
       "    </tr>\n",
       "    <tr>\n",
       "      <th>4</th>\n",
       "      <td>5</td>\n",
       "      <td>2008-06-11</td>\n",
       "      <td>41.95469</td>\n",
       "      <td>-87.800991</td>\n",
       "      <td>0</td>\n",
       "      <td>0</td>\n",
       "      <td>0</td>\n",
       "    </tr>\n",
       "  </tbody>\n",
       "</table>\n",
       "</div>"
      ],
      "text/plain": [
       "   Id        Date  Latitude  Longitude  Species_CULEX PIPIENS  \\\n",
       "0   1  2008-06-11  41.95469 -87.800991                      0   \n",
       "1   2  2008-06-11  41.95469 -87.800991                      0   \n",
       "2   3  2008-06-11  41.95469 -87.800991                      1   \n",
       "3   4  2008-06-11  41.95469 -87.800991                      0   \n",
       "4   5  2008-06-11  41.95469 -87.800991                      0   \n",
       "\n",
       "   Species_CULEX PIPIENS/RESTUANS  Species_CULEX RESTUANS  \n",
       "0                               1                       0  \n",
       "1                               0                       1  \n",
       "2                               0                       0  \n",
       "3                               0                       0  \n",
       "4                               0                       0  "
      ]
     },
     "execution_count": 5,
     "metadata": {},
     "output_type": "execute_result"
    }
   ],
   "source": [
    "test.head()"
   ]
  },
  {
   "cell_type": "code",
   "execution_count": 6,
   "metadata": {
    "colab": {
     "base_uri": "https://localhost:8080/",
     "height": 34
    },
    "colab_type": "code",
    "id": "bhdynuJKztvk",
    "outputId": "d6f4eb0d-764e-4f27-dcd7-cd6c2baaaa71"
   },
   "outputs": [
    {
     "data": {
      "text/plain": [
       "(116293, 7)"
      ]
     },
     "execution_count": 6,
     "metadata": {},
     "output_type": "execute_result"
    }
   ],
   "source": [
    "test.shape"
   ]
  },
  {
   "cell_type": "code",
   "execution_count": 7,
   "metadata": {
    "colab": {
     "base_uri": "https://localhost:8080/",
     "height": 153
    },
    "colab_type": "code",
    "id": "hLJK36jugfmm",
    "outputId": "cb233f66-eff2-4cdf-d578-b65f7600c566"
   },
   "outputs": [
    {
     "data": {
      "text/plain": [
       "Date                               object\n",
       "Latitude                          float64\n",
       "Longitude                         float64\n",
       "Species_CULEX PIPIENS               int64\n",
       "Species_CULEX PIPIENS/RESTUANS      int64\n",
       "Species_CULEX RESTUANS              int64\n",
       "WnvPresent                          int64\n",
       "dtype: object"
      ]
     },
     "execution_count": 7,
     "metadata": {},
     "output_type": "execute_result"
    }
   ],
   "source": [
    "train.dtypes"
   ]
  },
  {
   "cell_type": "code",
   "execution_count": 8,
   "metadata": {
    "colab": {
     "base_uri": "https://localhost:8080/",
     "height": 153
    },
    "colab_type": "code",
    "id": "kTtM34kAzvxf",
    "outputId": "ebcb1d39-5542-4fea-f5da-50685e27c042"
   },
   "outputs": [
    {
     "data": {
      "text/plain": [
       "Id                                  int64\n",
       "Date                               object\n",
       "Latitude                          float64\n",
       "Longitude                         float64\n",
       "Species_CULEX PIPIENS               int64\n",
       "Species_CULEX PIPIENS/RESTUANS      int64\n",
       "Species_CULEX RESTUANS              int64\n",
       "dtype: object"
      ]
     },
     "execution_count": 8,
     "metadata": {},
     "output_type": "execute_result"
    }
   ],
   "source": [
    "test.dtypes"
   ]
  },
  {
   "cell_type": "code",
   "execution_count": 9,
   "metadata": {
    "colab": {},
    "colab_type": "code",
    "id": "1_PqFIOvgfmq"
   },
   "outputs": [],
   "source": [
    "# Converting dates from str to datetime type.\n",
    "\n",
    "train['Date'] = train['Date'].map(lambda date: datetime.strptime(date, '%Y-%m-%d'))\n",
    "test['Date'] = test['Date'].map(lambda date: datetime.strptime(date, '%Y-%m-%d'))"
   ]
  },
  {
   "cell_type": "code",
   "execution_count": 10,
   "metadata": {
    "colab": {
     "base_uri": "https://localhost:8080/",
     "height": 153
    },
    "colab_type": "code",
    "id": "Wwh5kHV_gfmw",
    "outputId": "f1d1fac6-93d8-4d61-f43e-14f2518e234e"
   },
   "outputs": [
    {
     "data": {
      "text/plain": [
       "Date                              datetime64[ns]\n",
       "Latitude                                 float64\n",
       "Longitude                                float64\n",
       "Species_CULEX PIPIENS                      int64\n",
       "Species_CULEX PIPIENS/RESTUANS             int64\n",
       "Species_CULEX RESTUANS                     int64\n",
       "WnvPresent                                 int64\n",
       "dtype: object"
      ]
     },
     "execution_count": 10,
     "metadata": {},
     "output_type": "execute_result"
    }
   ],
   "source": [
    "train.dtypes"
   ]
  },
  {
   "cell_type": "code",
   "execution_count": 11,
   "metadata": {
    "colab": {
     "base_uri": "https://localhost:8080/",
     "height": 153
    },
    "colab_type": "code",
    "id": "sUcbHSMXzyML",
    "outputId": "cbe0c7af-7499-4f7d-d725-e168a2849a7b"
   },
   "outputs": [
    {
     "data": {
      "text/plain": [
       "Id                                         int64\n",
       "Date                              datetime64[ns]\n",
       "Latitude                                 float64\n",
       "Longitude                                float64\n",
       "Species_CULEX PIPIENS                      int64\n",
       "Species_CULEX PIPIENS/RESTUANS             int64\n",
       "Species_CULEX RESTUANS                     int64\n",
       "dtype: object"
      ]
     },
     "execution_count": 11,
     "metadata": {},
     "output_type": "execute_result"
    }
   ],
   "source": [
    "test.dtypes"
   ]
  },
  {
   "cell_type": "markdown",
   "metadata": {
    "colab_type": "text",
    "id": "y_h7vDyVx4sO"
   },
   "source": [
    "### Feature engineering to merge *spray* data with *train* & *test* data"
   ]
  },
  {
   "cell_type": "code",
   "execution_count": 12,
   "metadata": {
    "colab": {
     "base_uri": "https://localhost:8080/",
     "height": 204
    },
    "colab_type": "code",
    "id": "QGZYfav1gfoF",
    "outputId": "bc94076c-4115-42f9-e285-968ac6b3c4ed"
   },
   "outputs": [
    {
     "data": {
      "text/html": [
       "<div>\n",
       "<style scoped>\n",
       "    .dataframe tbody tr th:only-of-type {\n",
       "        vertical-align: middle;\n",
       "    }\n",
       "\n",
       "    .dataframe tbody tr th {\n",
       "        vertical-align: top;\n",
       "    }\n",
       "\n",
       "    .dataframe thead th {\n",
       "        text-align: right;\n",
       "    }\n",
       "</style>\n",
       "<table border=\"1\" class=\"dataframe\">\n",
       "  <thead>\n",
       "    <tr style=\"text-align: right;\">\n",
       "      <th></th>\n",
       "      <th>Date</th>\n",
       "      <th>Latitude</th>\n",
       "      <th>Longitude</th>\n",
       "    </tr>\n",
       "  </thead>\n",
       "  <tbody>\n",
       "    <tr>\n",
       "      <th>0</th>\n",
       "      <td>2011-08-29</td>\n",
       "      <td>42.391623</td>\n",
       "      <td>-88.089163</td>\n",
       "    </tr>\n",
       "    <tr>\n",
       "      <th>1</th>\n",
       "      <td>2011-08-29</td>\n",
       "      <td>42.391348</td>\n",
       "      <td>-88.089163</td>\n",
       "    </tr>\n",
       "    <tr>\n",
       "      <th>2</th>\n",
       "      <td>2011-08-29</td>\n",
       "      <td>42.391022</td>\n",
       "      <td>-88.089157</td>\n",
       "    </tr>\n",
       "    <tr>\n",
       "      <th>3</th>\n",
       "      <td>2011-08-29</td>\n",
       "      <td>42.390637</td>\n",
       "      <td>-88.089158</td>\n",
       "    </tr>\n",
       "    <tr>\n",
       "      <th>4</th>\n",
       "      <td>2011-08-29</td>\n",
       "      <td>42.390410</td>\n",
       "      <td>-88.088858</td>\n",
       "    </tr>\n",
       "  </tbody>\n",
       "</table>\n",
       "</div>"
      ],
      "text/plain": [
       "         Date   Latitude  Longitude\n",
       "0  2011-08-29  42.391623 -88.089163\n",
       "1  2011-08-29  42.391348 -88.089163\n",
       "2  2011-08-29  42.391022 -88.089157\n",
       "3  2011-08-29  42.390637 -88.089158\n",
       "4  2011-08-29  42.390410 -88.088858"
      ]
     },
     "execution_count": 12,
     "metadata": {},
     "output_type": "execute_result"
    }
   ],
   "source": [
    "spray.head()"
   ]
  },
  {
   "cell_type": "code",
   "execution_count": 13,
   "metadata": {
    "colab": {
     "base_uri": "https://localhost:8080/",
     "height": 34
    },
    "colab_type": "code",
    "id": "0Jb0SLAXgfoJ",
    "outputId": "cf47700c-5301-4137-a9c8-6ddc0d99ceac"
   },
   "outputs": [
    {
     "data": {
      "text/plain": [
       "(14835, 3)"
      ]
     },
     "execution_count": 13,
     "metadata": {},
     "output_type": "execute_result"
    }
   ],
   "source": [
    "spray.shape"
   ]
  },
  {
   "cell_type": "code",
   "execution_count": 14,
   "metadata": {
    "colab": {
     "base_uri": "https://localhost:8080/",
     "height": 85
    },
    "colab_type": "code",
    "id": "T4T7RBwWgfoN",
    "outputId": "1ec3bab2-e643-43bd-dcf3-be092fdc05e8"
   },
   "outputs": [
    {
     "data": {
      "text/plain": [
       "Date          object\n",
       "Latitude     float64\n",
       "Longitude    float64\n",
       "dtype: object"
      ]
     },
     "execution_count": 14,
     "metadata": {},
     "output_type": "execute_result"
    }
   ],
   "source": [
    "spray.dtypes"
   ]
  },
  {
   "cell_type": "code",
   "execution_count": 15,
   "metadata": {
    "colab": {},
    "colab_type": "code",
    "id": "2oKovFuFgfoV"
   },
   "outputs": [],
   "source": [
    "# Converting dates from str to datetime type.\n",
    "\n",
    "spray['Date'] = spray['Date'].map(lambda date: datetime.strptime(date, '%Y-%m-%d'))"
   ]
  },
  {
   "cell_type": "code",
   "execution_count": 16,
   "metadata": {
    "colab": {
     "base_uri": "https://localhost:8080/",
     "height": 85
    },
    "colab_type": "code",
    "id": "J6Y5gIGCgfob",
    "outputId": "7ae63d2d-abb9-4e5c-b236-3cc4b9016a32"
   },
   "outputs": [
    {
     "data": {
      "text/plain": [
       "Date         datetime64[ns]\n",
       "Latitude            float64\n",
       "Longitude           float64\n",
       "dtype: object"
      ]
     },
     "execution_count": 16,
     "metadata": {},
     "output_type": "execute_result"
    }
   ],
   "source": [
    "spray.dtypes"
   ]
  },
  {
   "cell_type": "markdown",
   "metadata": {
    "colab_type": "text",
    "id": "mKYlTVGoyNf1"
   },
   "source": [
    "In terms of the Latitude & Longitude coordinates given to us in GIS, **a change of 0.001 in the coordinate value corresponds to roughly 0.1112km (111.2m) distance**.\n",
    "\n",
    "To engineer a new feature to merge the *spray* data with *train* and *test* data, let us first start with making some assumptions about the effectiveness of spraying on the mosquito traps.\n",
    "\n",
    "In this context, we make the following **assumptions**:\n",
    "1. **Spraying is effective for up to 7 days.**\n",
    "2. **Spraying is effective in a ~100m radius from the location of spraying.**\n",
    "\n",
    "We will now engineer a new feature called *Sprayed* which will use the above assumptions to merge *spray* data with *train* and *test* data. So, **for every mozzie trap on any particular testing date, it will be considered sprayed *(Sprayed = 1)* if:**\n",
    "1. **Spraying happened within a period of 7 days prior to the testing date.**\n",
    "2. **Spraying happened within a distance of ~100m from the location of the mozzie trap.**\n",
    "\n",
    "**Otherwise the mozzie trap is considered not sprayed *(Sprayed = 0)*.**"
   ]
  },
  {
   "cell_type": "code",
   "execution_count": 17,
   "metadata": {
    "colab": {},
    "colab_type": "code",
    "id": "Ic2e-eNIgfoj"
   },
   "outputs": [],
   "source": [
    "# Defining a function to apply the above mentioned conditions on every row of train & test dataframes.\n",
    "# Function will take in each row from train & test dataframes (corresponding to individual mozzie traps on any particular testing date).\n",
    "\n",
    "def spray_within_days(row, days=7, dist=0.001):\n",
    "    \n",
    "    # Accessing the tested mozzie trap's Latitude & Longitude.\n",
    "    lat = row['Latitude']\n",
    "    lon = row['Longitude']\n",
    "    \n",
    "    # Accessing the test date for that mozzie trap, and calculating the date_before using the given no. of days as input.\n",
    "    date = row['Date']\n",
    "    date_before = row['Date'] - timedelta(days=days)\n",
    "    \n",
    "    # Filtering spray df to only take values between the dates caluclated above.\n",
    "    spray_filtered = spray[(spray['Date']<=date) & (spray['Date']>date_before)]\n",
    "    \n",
    "    for i in spray_filtered.index:\n",
    "        \n",
    "        # Calculating euclidean distance between the row's location and the spray's location (using values in Latitude and Longitude columns)\n",
    "        spray_dist = ((spray_filtered.loc[i, 'Latitude'] - lat) ** 2 + (spray_filtered.loc[i, 'Longitude'] - lon) ** 2) ** 0.5\n",
    "        \n",
    "        # So if the calculated distance is <= distance value given as input, the tested trap is considered sprayed, so return 1.\n",
    "        if spray_dist <= dist:\n",
    "            return 1\n",
    "    \n",
    "    # Return 0 (mozzie trap not sprayed) if spray_dist > dist.\n",
    "    return 0"
   ]
  },
  {
   "cell_type": "code",
   "execution_count": 18,
   "metadata": {
    "colab": {},
    "colab_type": "code",
    "id": "P1aSnzYQgfom"
   },
   "outputs": [],
   "source": [
    "# Creating a new Sprayed column in train & test dataframes using the above defined function.\n",
    "# THIS CELL TAKES ABOUT 1-2 MINUTES TO RUN.\n",
    "\n",
    "train['Sprayed'] = train.apply(spray_within_days, axis=1)\n",
    "test['Sprayed'] = test.apply(spray_within_days, axis=1)"
   ]
  },
  {
   "cell_type": "code",
   "execution_count": 19,
   "metadata": {
    "colab": {
     "base_uri": "https://localhost:8080/",
     "height": 326
    },
    "colab_type": "code",
    "id": "5OOVBUPP4bIn",
    "outputId": "a2c19ccd-11f9-46f0-f914-a3be663a813b"
   },
   "outputs": [
    {
     "data": {
      "text/html": [
       "<div>\n",
       "<style scoped>\n",
       "    .dataframe tbody tr th:only-of-type {\n",
       "        vertical-align: middle;\n",
       "    }\n",
       "\n",
       "    .dataframe tbody tr th {\n",
       "        vertical-align: top;\n",
       "    }\n",
       "\n",
       "    .dataframe thead th {\n",
       "        text-align: right;\n",
       "    }\n",
       "</style>\n",
       "<table border=\"1\" class=\"dataframe\">\n",
       "  <thead>\n",
       "    <tr style=\"text-align: right;\">\n",
       "      <th></th>\n",
       "      <th>Date</th>\n",
       "      <th>Latitude</th>\n",
       "      <th>Longitude</th>\n",
       "      <th>Species_CULEX PIPIENS</th>\n",
       "      <th>Species_CULEX PIPIENS/RESTUANS</th>\n",
       "      <th>Species_CULEX RESTUANS</th>\n",
       "      <th>WnvPresent</th>\n",
       "      <th>Sprayed</th>\n",
       "    </tr>\n",
       "  </thead>\n",
       "  <tbody>\n",
       "    <tr>\n",
       "      <th>0</th>\n",
       "      <td>2007-05-29</td>\n",
       "      <td>41.954690</td>\n",
       "      <td>-87.800991</td>\n",
       "      <td>0</td>\n",
       "      <td>1</td>\n",
       "      <td>0</td>\n",
       "      <td>0</td>\n",
       "      <td>0</td>\n",
       "    </tr>\n",
       "    <tr>\n",
       "      <th>1</th>\n",
       "      <td>2007-05-29</td>\n",
       "      <td>41.954690</td>\n",
       "      <td>-87.800991</td>\n",
       "      <td>0</td>\n",
       "      <td>0</td>\n",
       "      <td>1</td>\n",
       "      <td>0</td>\n",
       "      <td>0</td>\n",
       "    </tr>\n",
       "    <tr>\n",
       "      <th>2</th>\n",
       "      <td>2007-05-29</td>\n",
       "      <td>41.994991</td>\n",
       "      <td>-87.769279</td>\n",
       "      <td>0</td>\n",
       "      <td>0</td>\n",
       "      <td>1</td>\n",
       "      <td>0</td>\n",
       "      <td>0</td>\n",
       "    </tr>\n",
       "    <tr>\n",
       "      <th>3</th>\n",
       "      <td>2007-05-29</td>\n",
       "      <td>41.974089</td>\n",
       "      <td>-87.824812</td>\n",
       "      <td>0</td>\n",
       "      <td>1</td>\n",
       "      <td>0</td>\n",
       "      <td>0</td>\n",
       "      <td>0</td>\n",
       "    </tr>\n",
       "    <tr>\n",
       "      <th>4</th>\n",
       "      <td>2007-05-29</td>\n",
       "      <td>41.974089</td>\n",
       "      <td>-87.824812</td>\n",
       "      <td>0</td>\n",
       "      <td>0</td>\n",
       "      <td>1</td>\n",
       "      <td>0</td>\n",
       "      <td>0</td>\n",
       "    </tr>\n",
       "  </tbody>\n",
       "</table>\n",
       "</div>"
      ],
      "text/plain": [
       "        Date   Latitude  Longitude  Species_CULEX PIPIENS  \\\n",
       "0 2007-05-29  41.954690 -87.800991                      0   \n",
       "1 2007-05-29  41.954690 -87.800991                      0   \n",
       "2 2007-05-29  41.994991 -87.769279                      0   \n",
       "3 2007-05-29  41.974089 -87.824812                      0   \n",
       "4 2007-05-29  41.974089 -87.824812                      0   \n",
       "\n",
       "   Species_CULEX PIPIENS/RESTUANS  Species_CULEX RESTUANS  WnvPresent  Sprayed  \n",
       "0                               1                       0           0        0  \n",
       "1                               0                       1           0        0  \n",
       "2                               0                       1           0        0  \n",
       "3                               1                       0           0        0  \n",
       "4                               0                       1           0        0  "
      ]
     },
     "execution_count": 19,
     "metadata": {},
     "output_type": "execute_result"
    }
   ],
   "source": [
    "train.head()"
   ]
  },
  {
   "cell_type": "code",
   "execution_count": 20,
   "metadata": {
    "colab": {
     "base_uri": "https://localhost:8080/",
     "height": 34
    },
    "colab_type": "code",
    "id": "VtGsQhSX4rbu",
    "outputId": "afd392d0-8647-437a-edfc-10ecf9aea24e"
   },
   "outputs": [
    {
     "data": {
      "text/plain": [
       "(8304, 8)"
      ]
     },
     "execution_count": 20,
     "metadata": {},
     "output_type": "execute_result"
    }
   ],
   "source": [
    "train.shape"
   ]
  },
  {
   "cell_type": "code",
   "execution_count": 21,
   "metadata": {
    "colab": {
     "base_uri": "https://localhost:8080/",
     "height": 34
    },
    "colab_type": "code",
    "id": "XyBmFmdggfop",
    "outputId": "b6063157-5824-4ee1-f46f-18676b0ba1c7"
   },
   "outputs": [
    {
     "data": {
      "text/plain": [
       "21"
      ]
     },
     "execution_count": 21,
     "metadata": {},
     "output_type": "execute_result"
    }
   ],
   "source": [
    "# Finding number of mozzie traps which are considered sprayed (Sprayed = 1) in train dataframe.\n",
    "\n",
    "train['Sprayed'].sum()"
   ]
  },
  {
   "cell_type": "code",
   "execution_count": 22,
   "metadata": {
    "colab": {
     "base_uri": "https://localhost:8080/",
     "height": 326
    },
    "colab_type": "code",
    "id": "xbjXhWw44rXu",
    "outputId": "a6b8f2bc-f42e-4c9e-bc98-6ed3da6cb050"
   },
   "outputs": [
    {
     "data": {
      "text/html": [
       "<div>\n",
       "<style scoped>\n",
       "    .dataframe tbody tr th:only-of-type {\n",
       "        vertical-align: middle;\n",
       "    }\n",
       "\n",
       "    .dataframe tbody tr th {\n",
       "        vertical-align: top;\n",
       "    }\n",
       "\n",
       "    .dataframe thead th {\n",
       "        text-align: right;\n",
       "    }\n",
       "</style>\n",
       "<table border=\"1\" class=\"dataframe\">\n",
       "  <thead>\n",
       "    <tr style=\"text-align: right;\">\n",
       "      <th></th>\n",
       "      <th>Id</th>\n",
       "      <th>Date</th>\n",
       "      <th>Latitude</th>\n",
       "      <th>Longitude</th>\n",
       "      <th>Species_CULEX PIPIENS</th>\n",
       "      <th>Species_CULEX PIPIENS/RESTUANS</th>\n",
       "      <th>Species_CULEX RESTUANS</th>\n",
       "      <th>Sprayed</th>\n",
       "    </tr>\n",
       "  </thead>\n",
       "  <tbody>\n",
       "    <tr>\n",
       "      <th>0</th>\n",
       "      <td>1</td>\n",
       "      <td>2008-06-11</td>\n",
       "      <td>41.95469</td>\n",
       "      <td>-87.800991</td>\n",
       "      <td>0</td>\n",
       "      <td>1</td>\n",
       "      <td>0</td>\n",
       "      <td>0</td>\n",
       "    </tr>\n",
       "    <tr>\n",
       "      <th>1</th>\n",
       "      <td>2</td>\n",
       "      <td>2008-06-11</td>\n",
       "      <td>41.95469</td>\n",
       "      <td>-87.800991</td>\n",
       "      <td>0</td>\n",
       "      <td>0</td>\n",
       "      <td>1</td>\n",
       "      <td>0</td>\n",
       "    </tr>\n",
       "    <tr>\n",
       "      <th>2</th>\n",
       "      <td>3</td>\n",
       "      <td>2008-06-11</td>\n",
       "      <td>41.95469</td>\n",
       "      <td>-87.800991</td>\n",
       "      <td>1</td>\n",
       "      <td>0</td>\n",
       "      <td>0</td>\n",
       "      <td>0</td>\n",
       "    </tr>\n",
       "    <tr>\n",
       "      <th>3</th>\n",
       "      <td>4</td>\n",
       "      <td>2008-06-11</td>\n",
       "      <td>41.95469</td>\n",
       "      <td>-87.800991</td>\n",
       "      <td>0</td>\n",
       "      <td>0</td>\n",
       "      <td>0</td>\n",
       "      <td>0</td>\n",
       "    </tr>\n",
       "    <tr>\n",
       "      <th>4</th>\n",
       "      <td>5</td>\n",
       "      <td>2008-06-11</td>\n",
       "      <td>41.95469</td>\n",
       "      <td>-87.800991</td>\n",
       "      <td>0</td>\n",
       "      <td>0</td>\n",
       "      <td>0</td>\n",
       "      <td>0</td>\n",
       "    </tr>\n",
       "  </tbody>\n",
       "</table>\n",
       "</div>"
      ],
      "text/plain": [
       "   Id       Date  Latitude  Longitude  Species_CULEX PIPIENS  \\\n",
       "0   1 2008-06-11  41.95469 -87.800991                      0   \n",
       "1   2 2008-06-11  41.95469 -87.800991                      0   \n",
       "2   3 2008-06-11  41.95469 -87.800991                      1   \n",
       "3   4 2008-06-11  41.95469 -87.800991                      0   \n",
       "4   5 2008-06-11  41.95469 -87.800991                      0   \n",
       "\n",
       "   Species_CULEX PIPIENS/RESTUANS  Species_CULEX RESTUANS  Sprayed  \n",
       "0                               1                       0        0  \n",
       "1                               0                       1        0  \n",
       "2                               0                       0        0  \n",
       "3                               0                       0        0  \n",
       "4                               0                       0        0  "
      ]
     },
     "execution_count": 22,
     "metadata": {},
     "output_type": "execute_result"
    }
   ],
   "source": [
    "test.head()"
   ]
  },
  {
   "cell_type": "code",
   "execution_count": 23,
   "metadata": {
    "colab": {
     "base_uri": "https://localhost:8080/",
     "height": 34
    },
    "colab_type": "code",
    "id": "ZDvhj-Jz4a2C",
    "outputId": "adeead0e-7b4f-4f29-cd96-d5d2c3acae21"
   },
   "outputs": [
    {
     "data": {
      "text/plain": [
       "(116293, 8)"
      ]
     },
     "execution_count": 23,
     "metadata": {},
     "output_type": "execute_result"
    }
   ],
   "source": [
    "test.shape"
   ]
  },
  {
   "cell_type": "code",
   "execution_count": 24,
   "metadata": {
    "colab": {
     "base_uri": "https://localhost:8080/",
     "height": 34
    },
    "colab_type": "code",
    "id": "ixxIDepZgfo2",
    "outputId": "901fbce0-7792-4ce6-b304-a43480e3113c"
   },
   "outputs": [
    {
     "data": {
      "text/plain": [
       "0"
      ]
     },
     "execution_count": 24,
     "metadata": {},
     "output_type": "execute_result"
    }
   ],
   "source": [
    "# Finding number of mozzie traps which are considered sprayed (Sprayed = 1) in test dataframe.\n",
    "\n",
    "test['Sprayed'].sum()"
   ]
  },
  {
   "cell_type": "markdown",
   "metadata": {},
   "source": [
    "### Feature engineering for Spatial Coorelation"
   ]
  },
  {
   "cell_type": "markdown",
   "metadata": {},
   "source": [
    "Now, we will engineer a new feature to take into account the spatial correlation between the mosquito traps around Chicago. This feature will be the average distance of previously positively tested mosquito traps from each individual trap being tested.\n",
    "\n",
    "Consider testing a trap $T$. The presence of WNV in this trap $T$ could be influenced by the presence of WNV in nearby traps around this trap $T$. In order to establish this \"influence\", we need to first understand the behaviour and characteristics carrier mosquitos themselves.\n",
    "\n",
    "**How far can mosquitos fly?** - According to this [page](https://www.mosquito.org/page/faq#How%20far%20can%20mosquitoes%20fly?), **\"most mosquito species have flight ranges of 1-3 miles.\"** So, it could be said that mosquitos from any traps which are within a 1-3 miles distance from trap $T$ could have potentially flown over to trap $T$. If these mosquitos flew over from traps which were previously tested positive, then they could have potentially brought over the WNV virus with them to trap $T$ as well. So, in order to consider the spatial influence of nearby traps on trap $T$ in our model, we need to calculate the average distance of previously positively tested traps from trap $T$. **The closer (on average) these previously positively tested traps are to trap $T$, the higher the chances that mosquitos could have flown over and brought the virus to trap $T$ (and vice-versa). In this context, we will assume that on average, mosquitos fly a distance of ~2 miles (3.2km).**\n",
    "\n",
    "One key point to note before we engineer this feature is that **we will be ignoring the influence of time as a factor in determining this spatial correlation between the mosquito traps around Chicago**. Consider this - in the real world, if traps around trap $T$ test positive for WNV, then mosquitoes from these positively tested traps only have their lifespan worth of time to fly over to trap $T$ and potentially bring over the virus to trap $T$ as well. According to this [page](https://www.mosquito.org/page/faq#How%20long%20do%20mosquitoes%20live?), the average lifespan of mosquitoes is about 2-3 weeks. This means that, while engineering the new feature explained above for each trap $T$, we should not only consider the positively tested traps within a distance of ~2miles from trap $T$, but we should also consider the fact that these traps should only have tested positive within the last 2-3 weeks. If the traps around trap $T$ tested positive more than 2-3 weeks ago, then the WNV carrying mosquitoes from those traps would have already died by now, and so would no longer be able to fly over to trap $T$. While this makes sense in reality, **given the limited amount of temporal data for this project, we will ignore this time factor and consider only the spatial correlation of all traps around trap $T$ (within ~2miles distance) which tested positive for WNV historically.**"
   ]
  },
  {
   "cell_type": "code",
   "execution_count": 25,
   "metadata": {},
   "outputs": [],
   "source": [
    "# Filtering the dates, latitudes and longitudes of all traps which tested positive for WNV, and storing them in a new df called positives.\n",
    "\n",
    "positives_mask = train['WnvPresent']==1\n",
    "\n",
    "positives = train[positives_mask].loc[:, ['Date', 'Latitude', 'Longitude']]"
   ]
  },
  {
   "cell_type": "code",
   "execution_count": 26,
   "metadata": {
    "scrolled": true
   },
   "outputs": [
    {
     "data": {
      "text/html": [
       "<div>\n",
       "<style scoped>\n",
       "    .dataframe tbody tr th:only-of-type {\n",
       "        vertical-align: middle;\n",
       "    }\n",
       "\n",
       "    .dataframe tbody tr th {\n",
       "        vertical-align: top;\n",
       "    }\n",
       "\n",
       "    .dataframe thead th {\n",
       "        text-align: right;\n",
       "    }\n",
       "</style>\n",
       "<table border=\"1\" class=\"dataframe\">\n",
       "  <thead>\n",
       "    <tr style=\"text-align: right;\">\n",
       "      <th></th>\n",
       "      <th>Date</th>\n",
       "      <th>Latitude</th>\n",
       "      <th>Longitude</th>\n",
       "    </tr>\n",
       "  </thead>\n",
       "  <tbody>\n",
       "    <tr>\n",
       "      <th>514</th>\n",
       "      <td>2007-07-18</td>\n",
       "      <td>41.686398</td>\n",
       "      <td>-87.531635</td>\n",
       "    </tr>\n",
       "    <tr>\n",
       "      <th>548</th>\n",
       "      <td>2007-07-25</td>\n",
       "      <td>41.673408</td>\n",
       "      <td>-87.599862</td>\n",
       "    </tr>\n",
       "    <tr>\n",
       "      <th>550</th>\n",
       "      <td>2007-07-25</td>\n",
       "      <td>41.673408</td>\n",
       "      <td>-87.599862</td>\n",
       "    </tr>\n",
       "    <tr>\n",
       "      <th>641</th>\n",
       "      <td>2007-08-01</td>\n",
       "      <td>41.954690</td>\n",
       "      <td>-87.800991</td>\n",
       "    </tr>\n",
       "    <tr>\n",
       "      <th>646</th>\n",
       "      <td>2007-08-01</td>\n",
       "      <td>41.974089</td>\n",
       "      <td>-87.824812</td>\n",
       "    </tr>\n",
       "  </tbody>\n",
       "</table>\n",
       "</div>"
      ],
      "text/plain": [
       "          Date   Latitude  Longitude\n",
       "514 2007-07-18  41.686398 -87.531635\n",
       "548 2007-07-25  41.673408 -87.599862\n",
       "550 2007-07-25  41.673408 -87.599862\n",
       "641 2007-08-01  41.954690 -87.800991\n",
       "646 2007-08-01  41.974089 -87.824812"
      ]
     },
     "execution_count": 26,
     "metadata": {},
     "output_type": "execute_result"
    }
   ],
   "source": [
    "positives.head()"
   ]
  },
  {
   "cell_type": "code",
   "execution_count": 27,
   "metadata": {},
   "outputs": [],
   "source": [
    "# Defining a function to apply the above mentioned conditions on every row of train & test dataframes.\n",
    "# Function will take in each row from train & test dataframes (corresponding to individual mozzie traps on any particular testing date).\n",
    "\n",
    "def avg_dist_nearby_positives(row, dist=0.03):\n",
    "    \n",
    "    # Accessing the tested mozzie trap's Latitude & Longitude.\n",
    "    lat = row['Latitude']\n",
    "    lon = row['Longitude']\n",
    "    \n",
    "    # Accessing the test date for that mozzie trap.\n",
    "    date = row['Date']\n",
    "    \n",
    "    # Filtering positives df to only take values before the date caluclated above.\n",
    "    positives_filtered = positives[positives['Date']<=date]\n",
    "    \n",
    "    # Defining a list to store the distances of previously positively tested traps, and defining a variable to keep a count of such traps for average distance calculation later.\n",
    "    trap_distances = []\n",
    "    trap_count = 0\n",
    "    \n",
    "    for i in positives_filtered.index:\n",
    "        \n",
    "        # Calculating euclidean distance between the row's location and the previously positively tested trap's location (using values in Latitude and Longitude columns)\n",
    "        trap_dist = ((positives_filtered.loc[i, 'Latitude'] - lat) ** 2 + (positives_filtered.loc[i, 'Longitude'] - lon) ** 2) ** 0.5\n",
    "        \n",
    "        # So if the calculated distance is <= distance value given as input (0.03 = ~3.2km),\n",
    "        # this trap's distance should be considered in the average distance calculation for spatial correlation.\n",
    "        if trap_dist <= dist:\n",
    "            trap_distances.append(trap_dist)\n",
    "            trap_count += 1\n",
    "            \n",
    "    # Calculating the average distance, which will be used as a measure of \"influence\" of the spatial correlation.         \n",
    "    # For traps which don't have any previously positively tested traps within the 3.2km radius circle, the average distance is set to 1 (equivalent to ~100km).\n",
    "    avg_pos_trap_distance = 1\n",
    "    if trap_count!=0:\n",
    "        avg_pos_trap_distance = sum(trap_distances) / trap_count\n",
    "    \n",
    "    return avg_pos_trap_distance"
   ]
  },
  {
   "cell_type": "code",
   "execution_count": 28,
   "metadata": {},
   "outputs": [],
   "source": [
    "# Creating a new column 'Avg Pos Dist' in train & test dataframes using the above defined function.\n",
    "# THIS CELL TAKES ABOUT 15-20 MINUTES TO RUN.\n",
    "\n",
    "train['Avg Pos Dist'] = train.apply(avg_dist_nearby_positives, axis=1)\n",
    "test['Avg Pos Dist'] = test.apply(avg_dist_nearby_positives, axis=1)"
   ]
  },
  {
   "cell_type": "code",
   "execution_count": 29,
   "metadata": {
    "scrolled": true
   },
   "outputs": [
    {
     "data": {
      "text/html": [
       "<div>\n",
       "<style scoped>\n",
       "    .dataframe tbody tr th:only-of-type {\n",
       "        vertical-align: middle;\n",
       "    }\n",
       "\n",
       "    .dataframe tbody tr th {\n",
       "        vertical-align: top;\n",
       "    }\n",
       "\n",
       "    .dataframe thead th {\n",
       "        text-align: right;\n",
       "    }\n",
       "</style>\n",
       "<table border=\"1\" class=\"dataframe\">\n",
       "  <thead>\n",
       "    <tr style=\"text-align: right;\">\n",
       "      <th></th>\n",
       "      <th>Date</th>\n",
       "      <th>Latitude</th>\n",
       "      <th>Longitude</th>\n",
       "      <th>Species_CULEX PIPIENS</th>\n",
       "      <th>Species_CULEX PIPIENS/RESTUANS</th>\n",
       "      <th>Species_CULEX RESTUANS</th>\n",
       "      <th>WnvPresent</th>\n",
       "      <th>Sprayed</th>\n",
       "      <th>Avg Pos Dist</th>\n",
       "    </tr>\n",
       "  </thead>\n",
       "  <tbody>\n",
       "    <tr>\n",
       "      <th>0</th>\n",
       "      <td>2007-05-29</td>\n",
       "      <td>41.954690</td>\n",
       "      <td>-87.800991</td>\n",
       "      <td>0</td>\n",
       "      <td>1</td>\n",
       "      <td>0</td>\n",
       "      <td>0</td>\n",
       "      <td>0</td>\n",
       "      <td>1.0</td>\n",
       "    </tr>\n",
       "    <tr>\n",
       "      <th>1</th>\n",
       "      <td>2007-05-29</td>\n",
       "      <td>41.954690</td>\n",
       "      <td>-87.800991</td>\n",
       "      <td>0</td>\n",
       "      <td>0</td>\n",
       "      <td>1</td>\n",
       "      <td>0</td>\n",
       "      <td>0</td>\n",
       "      <td>1.0</td>\n",
       "    </tr>\n",
       "    <tr>\n",
       "      <th>2</th>\n",
       "      <td>2007-05-29</td>\n",
       "      <td>41.994991</td>\n",
       "      <td>-87.769279</td>\n",
       "      <td>0</td>\n",
       "      <td>0</td>\n",
       "      <td>1</td>\n",
       "      <td>0</td>\n",
       "      <td>0</td>\n",
       "      <td>1.0</td>\n",
       "    </tr>\n",
       "    <tr>\n",
       "      <th>3</th>\n",
       "      <td>2007-05-29</td>\n",
       "      <td>41.974089</td>\n",
       "      <td>-87.824812</td>\n",
       "      <td>0</td>\n",
       "      <td>1</td>\n",
       "      <td>0</td>\n",
       "      <td>0</td>\n",
       "      <td>0</td>\n",
       "      <td>1.0</td>\n",
       "    </tr>\n",
       "    <tr>\n",
       "      <th>4</th>\n",
       "      <td>2007-05-29</td>\n",
       "      <td>41.974089</td>\n",
       "      <td>-87.824812</td>\n",
       "      <td>0</td>\n",
       "      <td>0</td>\n",
       "      <td>1</td>\n",
       "      <td>0</td>\n",
       "      <td>0</td>\n",
       "      <td>1.0</td>\n",
       "    </tr>\n",
       "  </tbody>\n",
       "</table>\n",
       "</div>"
      ],
      "text/plain": [
       "        Date   Latitude  Longitude  Species_CULEX PIPIENS  \\\n",
       "0 2007-05-29  41.954690 -87.800991                      0   \n",
       "1 2007-05-29  41.954690 -87.800991                      0   \n",
       "2 2007-05-29  41.994991 -87.769279                      0   \n",
       "3 2007-05-29  41.974089 -87.824812                      0   \n",
       "4 2007-05-29  41.974089 -87.824812                      0   \n",
       "\n",
       "   Species_CULEX PIPIENS/RESTUANS  Species_CULEX RESTUANS  WnvPresent  \\\n",
       "0                               1                       0           0   \n",
       "1                               0                       1           0   \n",
       "2                               0                       1           0   \n",
       "3                               1                       0           0   \n",
       "4                               0                       1           0   \n",
       "\n",
       "   Sprayed  Avg Pos Dist  \n",
       "0        0           1.0  \n",
       "1        0           1.0  \n",
       "2        0           1.0  \n",
       "3        0           1.0  \n",
       "4        0           1.0  "
      ]
     },
     "execution_count": 29,
     "metadata": {},
     "output_type": "execute_result"
    }
   ],
   "source": [
    "train.head()"
   ]
  },
  {
   "cell_type": "code",
   "execution_count": 30,
   "metadata": {
    "scrolled": true
   },
   "outputs": [
    {
     "data": {
      "text/html": [
       "<div>\n",
       "<style scoped>\n",
       "    .dataframe tbody tr th:only-of-type {\n",
       "        vertical-align: middle;\n",
       "    }\n",
       "\n",
       "    .dataframe tbody tr th {\n",
       "        vertical-align: top;\n",
       "    }\n",
       "\n",
       "    .dataframe thead th {\n",
       "        text-align: right;\n",
       "    }\n",
       "</style>\n",
       "<table border=\"1\" class=\"dataframe\">\n",
       "  <thead>\n",
       "    <tr style=\"text-align: right;\">\n",
       "      <th></th>\n",
       "      <th>Date</th>\n",
       "      <th>Latitude</th>\n",
       "      <th>Longitude</th>\n",
       "      <th>Species_CULEX PIPIENS</th>\n",
       "      <th>Species_CULEX PIPIENS/RESTUANS</th>\n",
       "      <th>Species_CULEX RESTUANS</th>\n",
       "      <th>WnvPresent</th>\n",
       "      <th>Sprayed</th>\n",
       "      <th>Avg Pos Dist</th>\n",
       "    </tr>\n",
       "  </thead>\n",
       "  <tbody>\n",
       "    <tr>\n",
       "      <th>8299</th>\n",
       "      <td>2013-09-26</td>\n",
       "      <td>41.763733</td>\n",
       "      <td>-87.742302</td>\n",
       "      <td>0</td>\n",
       "      <td>1</td>\n",
       "      <td>0</td>\n",
       "      <td>1</td>\n",
       "      <td>0</td>\n",
       "      <td>0.017862</td>\n",
       "    </tr>\n",
       "    <tr>\n",
       "      <th>8300</th>\n",
       "      <td>2013-09-26</td>\n",
       "      <td>41.987280</td>\n",
       "      <td>-87.666066</td>\n",
       "      <td>0</td>\n",
       "      <td>1</td>\n",
       "      <td>0</td>\n",
       "      <td>0</td>\n",
       "      <td>0</td>\n",
       "      <td>0.016418</td>\n",
       "    </tr>\n",
       "    <tr>\n",
       "      <th>8301</th>\n",
       "      <td>2013-09-26</td>\n",
       "      <td>41.912563</td>\n",
       "      <td>-87.668055</td>\n",
       "      <td>0</td>\n",
       "      <td>1</td>\n",
       "      <td>0</td>\n",
       "      <td>0</td>\n",
       "      <td>0</td>\n",
       "      <td>0.013769</td>\n",
       "    </tr>\n",
       "    <tr>\n",
       "      <th>8302</th>\n",
       "      <td>2013-09-26</td>\n",
       "      <td>42.009876</td>\n",
       "      <td>-87.807277</td>\n",
       "      <td>0</td>\n",
       "      <td>1</td>\n",
       "      <td>0</td>\n",
       "      <td>0</td>\n",
       "      <td>0</td>\n",
       "      <td>0.016889</td>\n",
       "    </tr>\n",
       "    <tr>\n",
       "      <th>8303</th>\n",
       "      <td>2013-09-26</td>\n",
       "      <td>41.776428</td>\n",
       "      <td>-87.627096</td>\n",
       "      <td>0</td>\n",
       "      <td>1</td>\n",
       "      <td>0</td>\n",
       "      <td>0</td>\n",
       "      <td>0</td>\n",
       "      <td>0.012121</td>\n",
       "    </tr>\n",
       "  </tbody>\n",
       "</table>\n",
       "</div>"
      ],
      "text/plain": [
       "           Date   Latitude  Longitude  Species_CULEX PIPIENS  \\\n",
       "8299 2013-09-26  41.763733 -87.742302                      0   \n",
       "8300 2013-09-26  41.987280 -87.666066                      0   \n",
       "8301 2013-09-26  41.912563 -87.668055                      0   \n",
       "8302 2013-09-26  42.009876 -87.807277                      0   \n",
       "8303 2013-09-26  41.776428 -87.627096                      0   \n",
       "\n",
       "      Species_CULEX PIPIENS/RESTUANS  Species_CULEX RESTUANS  WnvPresent  \\\n",
       "8299                               1                       0           1   \n",
       "8300                               1                       0           0   \n",
       "8301                               1                       0           0   \n",
       "8302                               1                       0           0   \n",
       "8303                               1                       0           0   \n",
       "\n",
       "      Sprayed  Avg Pos Dist  \n",
       "8299        0      0.017862  \n",
       "8300        0      0.016418  \n",
       "8301        0      0.013769  \n",
       "8302        0      0.016889  \n",
       "8303        0      0.012121  "
      ]
     },
     "execution_count": 30,
     "metadata": {},
     "output_type": "execute_result"
    }
   ],
   "source": [
    "train.tail()"
   ]
  },
  {
   "cell_type": "code",
   "execution_count": 31,
   "metadata": {
    "scrolled": true
   },
   "outputs": [
    {
     "data": {
      "text/html": [
       "<div>\n",
       "<style scoped>\n",
       "    .dataframe tbody tr th:only-of-type {\n",
       "        vertical-align: middle;\n",
       "    }\n",
       "\n",
       "    .dataframe tbody tr th {\n",
       "        vertical-align: top;\n",
       "    }\n",
       "\n",
       "    .dataframe thead th {\n",
       "        text-align: right;\n",
       "    }\n",
       "</style>\n",
       "<table border=\"1\" class=\"dataframe\">\n",
       "  <thead>\n",
       "    <tr style=\"text-align: right;\">\n",
       "      <th></th>\n",
       "      <th>Id</th>\n",
       "      <th>Date</th>\n",
       "      <th>Latitude</th>\n",
       "      <th>Longitude</th>\n",
       "      <th>Species_CULEX PIPIENS</th>\n",
       "      <th>Species_CULEX PIPIENS/RESTUANS</th>\n",
       "      <th>Species_CULEX RESTUANS</th>\n",
       "      <th>Sprayed</th>\n",
       "      <th>Avg Pos Dist</th>\n",
       "    </tr>\n",
       "  </thead>\n",
       "  <tbody>\n",
       "    <tr>\n",
       "      <th>0</th>\n",
       "      <td>1</td>\n",
       "      <td>2008-06-11</td>\n",
       "      <td>41.95469</td>\n",
       "      <td>-87.800991</td>\n",
       "      <td>0</td>\n",
       "      <td>1</td>\n",
       "      <td>0</td>\n",
       "      <td>0</td>\n",
       "      <td>0.014806</td>\n",
       "    </tr>\n",
       "    <tr>\n",
       "      <th>1</th>\n",
       "      <td>2</td>\n",
       "      <td>2008-06-11</td>\n",
       "      <td>41.95469</td>\n",
       "      <td>-87.800991</td>\n",
       "      <td>0</td>\n",
       "      <td>0</td>\n",
       "      <td>1</td>\n",
       "      <td>0</td>\n",
       "      <td>0.014806</td>\n",
       "    </tr>\n",
       "    <tr>\n",
       "      <th>2</th>\n",
       "      <td>3</td>\n",
       "      <td>2008-06-11</td>\n",
       "      <td>41.95469</td>\n",
       "      <td>-87.800991</td>\n",
       "      <td>1</td>\n",
       "      <td>0</td>\n",
       "      <td>0</td>\n",
       "      <td>0</td>\n",
       "      <td>0.014806</td>\n",
       "    </tr>\n",
       "    <tr>\n",
       "      <th>3</th>\n",
       "      <td>4</td>\n",
       "      <td>2008-06-11</td>\n",
       "      <td>41.95469</td>\n",
       "      <td>-87.800991</td>\n",
       "      <td>0</td>\n",
       "      <td>0</td>\n",
       "      <td>0</td>\n",
       "      <td>0</td>\n",
       "      <td>0.014806</td>\n",
       "    </tr>\n",
       "    <tr>\n",
       "      <th>4</th>\n",
       "      <td>5</td>\n",
       "      <td>2008-06-11</td>\n",
       "      <td>41.95469</td>\n",
       "      <td>-87.800991</td>\n",
       "      <td>0</td>\n",
       "      <td>0</td>\n",
       "      <td>0</td>\n",
       "      <td>0</td>\n",
       "      <td>0.014806</td>\n",
       "    </tr>\n",
       "  </tbody>\n",
       "</table>\n",
       "</div>"
      ],
      "text/plain": [
       "   Id       Date  Latitude  Longitude  Species_CULEX PIPIENS  \\\n",
       "0   1 2008-06-11  41.95469 -87.800991                      0   \n",
       "1   2 2008-06-11  41.95469 -87.800991                      0   \n",
       "2   3 2008-06-11  41.95469 -87.800991                      1   \n",
       "3   4 2008-06-11  41.95469 -87.800991                      0   \n",
       "4   5 2008-06-11  41.95469 -87.800991                      0   \n",
       "\n",
       "   Species_CULEX PIPIENS/RESTUANS  Species_CULEX RESTUANS  Sprayed  \\\n",
       "0                               1                       0        0   \n",
       "1                               0                       1        0   \n",
       "2                               0                       0        0   \n",
       "3                               0                       0        0   \n",
       "4                               0                       0        0   \n",
       "\n",
       "   Avg Pos Dist  \n",
       "0      0.014806  \n",
       "1      0.014806  \n",
       "2      0.014806  \n",
       "3      0.014806  \n",
       "4      0.014806  "
      ]
     },
     "execution_count": 31,
     "metadata": {},
     "output_type": "execute_result"
    }
   ],
   "source": [
    "test.head()"
   ]
  },
  {
   "cell_type": "markdown",
   "metadata": {
    "colab_type": "text",
    "id": "tGIMeiAnw_8h"
   },
   "source": [
    "### Merging *weather* data with *train* & *test* data"
   ]
  },
  {
   "cell_type": "code",
   "execution_count": 32,
   "metadata": {
    "colab": {
     "base_uri": "https://localhost:8080/",
     "height": 204
    },
    "colab_type": "code",
    "id": "pPDGXkXXgfm9",
    "outputId": "78ed3d39-0265-4923-d893-f6deade498e3"
   },
   "outputs": [
    {
     "data": {
      "text/html": [
       "<div>\n",
       "<style scoped>\n",
       "    .dataframe tbody tr th:only-of-type {\n",
       "        vertical-align: middle;\n",
       "    }\n",
       "\n",
       "    .dataframe tbody tr th {\n",
       "        vertical-align: top;\n",
       "    }\n",
       "\n",
       "    .dataframe thead th {\n",
       "        text-align: right;\n",
       "    }\n",
       "</style>\n",
       "<table border=\"1\" class=\"dataframe\">\n",
       "  <thead>\n",
       "    <tr style=\"text-align: right;\">\n",
       "      <th></th>\n",
       "      <th>Date</th>\n",
       "      <th>Tmax</th>\n",
       "      <th>Tmin</th>\n",
       "      <th>Tavg</th>\n",
       "      <th>DewPoint</th>\n",
       "      <th>WetBulb</th>\n",
       "      <th>Heat</th>\n",
       "      <th>Cool</th>\n",
       "      <th>PrecipTotal</th>\n",
       "      <th>StnPressure</th>\n",
       "      <th>SeaLevel</th>\n",
       "      <th>ResultSpeed</th>\n",
       "      <th>ResultDir</th>\n",
       "      <th>AvgSpeed</th>\n",
       "      <th>Sunrise</th>\n",
       "      <th>Sunset</th>\n",
       "      <th>bc</th>\n",
       "      <th>br</th>\n",
       "      <th>dz</th>\n",
       "      <th>fg</th>\n",
       "      <th>fg+</th>\n",
       "      <th>fu</th>\n",
       "      <th>gr</th>\n",
       "      <th>hz</th>\n",
       "      <th>mi</th>\n",
       "      <th>ra</th>\n",
       "      <th>sn</th>\n",
       "      <th>sq</th>\n",
       "      <th>ts</th>\n",
       "      <th>vc</th>\n",
       "    </tr>\n",
       "  </thead>\n",
       "  <tbody>\n",
       "    <tr>\n",
       "      <th>0</th>\n",
       "      <td>2007-05-01</td>\n",
       "      <td>83.5</td>\n",
       "      <td>51.0</td>\n",
       "      <td>67.25</td>\n",
       "      <td>51.0</td>\n",
       "      <td>56.5</td>\n",
       "      <td>0.0</td>\n",
       "      <td>2.5</td>\n",
       "      <td>0.0</td>\n",
       "      <td>29.140</td>\n",
       "      <td>29.820</td>\n",
       "      <td>2.20</td>\n",
       "      <td>26.0</td>\n",
       "      <td>9.40</td>\n",
       "      <td>4.800000</td>\n",
       "      <td>18.816667</td>\n",
       "      <td>0</td>\n",
       "      <td>0</td>\n",
       "      <td>0</td>\n",
       "      <td>0</td>\n",
       "      <td>0</td>\n",
       "      <td>0</td>\n",
       "      <td>0</td>\n",
       "      <td>0</td>\n",
       "      <td>0</td>\n",
       "      <td>0</td>\n",
       "      <td>0</td>\n",
       "      <td>0</td>\n",
       "      <td>0</td>\n",
       "      <td>0</td>\n",
       "    </tr>\n",
       "    <tr>\n",
       "      <th>1</th>\n",
       "      <td>2007-05-02</td>\n",
       "      <td>59.5</td>\n",
       "      <td>42.5</td>\n",
       "      <td>51.00</td>\n",
       "      <td>42.0</td>\n",
       "      <td>47.0</td>\n",
       "      <td>13.5</td>\n",
       "      <td>0.0</td>\n",
       "      <td>0.0</td>\n",
       "      <td>29.410</td>\n",
       "      <td>30.085</td>\n",
       "      <td>13.15</td>\n",
       "      <td>3.0</td>\n",
       "      <td>13.40</td>\n",
       "      <td>4.783333</td>\n",
       "      <td>18.833333</td>\n",
       "      <td>0</td>\n",
       "      <td>1</td>\n",
       "      <td>0</td>\n",
       "      <td>0</td>\n",
       "      <td>0</td>\n",
       "      <td>0</td>\n",
       "      <td>0</td>\n",
       "      <td>1</td>\n",
       "      <td>0</td>\n",
       "      <td>0</td>\n",
       "      <td>0</td>\n",
       "      <td>0</td>\n",
       "      <td>0</td>\n",
       "      <td>0</td>\n",
       "    </tr>\n",
       "    <tr>\n",
       "      <th>2</th>\n",
       "      <td>2007-05-03</td>\n",
       "      <td>66.5</td>\n",
       "      <td>47.0</td>\n",
       "      <td>56.75</td>\n",
       "      <td>40.0</td>\n",
       "      <td>49.0</td>\n",
       "      <td>8.0</td>\n",
       "      <td>0.0</td>\n",
       "      <td>0.0</td>\n",
       "      <td>29.425</td>\n",
       "      <td>30.120</td>\n",
       "      <td>12.30</td>\n",
       "      <td>6.5</td>\n",
       "      <td>12.55</td>\n",
       "      <td>4.766667</td>\n",
       "      <td>18.850000</td>\n",
       "      <td>0</td>\n",
       "      <td>0</td>\n",
       "      <td>0</td>\n",
       "      <td>0</td>\n",
       "      <td>0</td>\n",
       "      <td>0</td>\n",
       "      <td>0</td>\n",
       "      <td>1</td>\n",
       "      <td>0</td>\n",
       "      <td>0</td>\n",
       "      <td>0</td>\n",
       "      <td>0</td>\n",
       "      <td>0</td>\n",
       "      <td>0</td>\n",
       "    </tr>\n",
       "    <tr>\n",
       "      <th>3</th>\n",
       "      <td>2007-05-04</td>\n",
       "      <td>72.0</td>\n",
       "      <td>50.0</td>\n",
       "      <td>61.00</td>\n",
       "      <td>41.5</td>\n",
       "      <td>50.0</td>\n",
       "      <td>3.5</td>\n",
       "      <td>0.0</td>\n",
       "      <td>0.0</td>\n",
       "      <td>29.335</td>\n",
       "      <td>30.045</td>\n",
       "      <td>10.25</td>\n",
       "      <td>7.5</td>\n",
       "      <td>10.60</td>\n",
       "      <td>4.733333</td>\n",
       "      <td>18.866667</td>\n",
       "      <td>0</td>\n",
       "      <td>0</td>\n",
       "      <td>0</td>\n",
       "      <td>0</td>\n",
       "      <td>0</td>\n",
       "      <td>0</td>\n",
       "      <td>0</td>\n",
       "      <td>0</td>\n",
       "      <td>0</td>\n",
       "      <td>1</td>\n",
       "      <td>0</td>\n",
       "      <td>0</td>\n",
       "      <td>0</td>\n",
       "      <td>0</td>\n",
       "    </tr>\n",
       "    <tr>\n",
       "      <th>4</th>\n",
       "      <td>2007-05-05</td>\n",
       "      <td>66.0</td>\n",
       "      <td>53.5</td>\n",
       "      <td>59.75</td>\n",
       "      <td>38.5</td>\n",
       "      <td>49.5</td>\n",
       "      <td>5.0</td>\n",
       "      <td>0.0</td>\n",
       "      <td>0.0</td>\n",
       "      <td>29.430</td>\n",
       "      <td>30.095</td>\n",
       "      <td>11.45</td>\n",
       "      <td>7.0</td>\n",
       "      <td>11.75</td>\n",
       "      <td>4.716667</td>\n",
       "      <td>18.883333</td>\n",
       "      <td>0</td>\n",
       "      <td>0</td>\n",
       "      <td>0</td>\n",
       "      <td>0</td>\n",
       "      <td>0</td>\n",
       "      <td>0</td>\n",
       "      <td>0</td>\n",
       "      <td>0</td>\n",
       "      <td>0</td>\n",
       "      <td>0</td>\n",
       "      <td>0</td>\n",
       "      <td>0</td>\n",
       "      <td>0</td>\n",
       "      <td>0</td>\n",
       "    </tr>\n",
       "  </tbody>\n",
       "</table>\n",
       "</div>"
      ],
      "text/plain": [
       "         Date  Tmax  Tmin   Tavg  DewPoint  WetBulb  Heat  Cool  PrecipTotal  \\\n",
       "0  2007-05-01  83.5  51.0  67.25      51.0     56.5   0.0   2.5          0.0   \n",
       "1  2007-05-02  59.5  42.5  51.00      42.0     47.0  13.5   0.0          0.0   \n",
       "2  2007-05-03  66.5  47.0  56.75      40.0     49.0   8.0   0.0          0.0   \n",
       "3  2007-05-04  72.0  50.0  61.00      41.5     50.0   3.5   0.0          0.0   \n",
       "4  2007-05-05  66.0  53.5  59.75      38.5     49.5   5.0   0.0          0.0   \n",
       "\n",
       "   StnPressure  SeaLevel  ResultSpeed  ResultDir  AvgSpeed   Sunrise  \\\n",
       "0       29.140    29.820         2.20       26.0      9.40  4.800000   \n",
       "1       29.410    30.085        13.15        3.0     13.40  4.783333   \n",
       "2       29.425    30.120        12.30        6.5     12.55  4.766667   \n",
       "3       29.335    30.045        10.25        7.5     10.60  4.733333   \n",
       "4       29.430    30.095        11.45        7.0     11.75  4.716667   \n",
       "\n",
       "      Sunset  bc  br  dz  fg  fg+  fu  gr  hz  mi  ra  sn  sq  ts  vc  \n",
       "0  18.816667   0   0   0   0    0   0   0   0   0   0   0   0   0   0  \n",
       "1  18.833333   0   1   0   0    0   0   0   1   0   0   0   0   0   0  \n",
       "2  18.850000   0   0   0   0    0   0   0   1   0   0   0   0   0   0  \n",
       "3  18.866667   0   0   0   0    0   0   0   0   0   1   0   0   0   0  \n",
       "4  18.883333   0   0   0   0    0   0   0   0   0   0   0   0   0   0  "
      ]
     },
     "execution_count": 32,
     "metadata": {},
     "output_type": "execute_result"
    }
   ],
   "source": [
    "weather.head()"
   ]
  },
  {
   "cell_type": "code",
   "execution_count": 33,
   "metadata": {
    "colab": {
     "base_uri": "https://localhost:8080/",
     "height": 34
    },
    "colab_type": "code",
    "id": "hF88pdFhgfnC",
    "outputId": "8c638877-0e3a-496f-c7e8-10e51889fb69"
   },
   "outputs": [
    {
     "data": {
      "text/plain": [
       "(1472, 30)"
      ]
     },
     "execution_count": 33,
     "metadata": {},
     "output_type": "execute_result"
    }
   ],
   "source": [
    "weather.shape"
   ]
  },
  {
   "cell_type": "code",
   "execution_count": 34,
   "metadata": {
    "colab": {
     "base_uri": "https://localhost:8080/",
     "height": 544
    },
    "colab_type": "code",
    "id": "CGlHjd0AwkX-",
    "outputId": "7aa33d31-b7fd-4c1a-8b74-48a9732b98a3",
    "scrolled": true
   },
   "outputs": [
    {
     "data": {
      "text/plain": [
       "Date            object\n",
       "Tmax           float64\n",
       "Tmin           float64\n",
       "Tavg           float64\n",
       "DewPoint       float64\n",
       "WetBulb        float64\n",
       "Heat           float64\n",
       "Cool           float64\n",
       "PrecipTotal    float64\n",
       "StnPressure    float64\n",
       "SeaLevel       float64\n",
       "ResultSpeed    float64\n",
       "ResultDir      float64\n",
       "AvgSpeed       float64\n",
       "Sunrise        float64\n",
       "Sunset         float64\n",
       "bc               int64\n",
       "br               int64\n",
       "dz               int64\n",
       "fg               int64\n",
       "fg+              int64\n",
       "fu               int64\n",
       "gr               int64\n",
       "hz               int64\n",
       "mi               int64\n",
       "ra               int64\n",
       "sn               int64\n",
       "sq               int64\n",
       "ts               int64\n",
       "vc               int64\n",
       "dtype: object"
      ]
     },
     "execution_count": 34,
     "metadata": {},
     "output_type": "execute_result"
    }
   ],
   "source": [
    "weather.dtypes"
   ]
  },
  {
   "cell_type": "code",
   "execution_count": 35,
   "metadata": {
    "colab": {},
    "colab_type": "code",
    "id": "U8e_euMDgfnT"
   },
   "outputs": [],
   "source": [
    "# Converting dates from str to datetime type.\n",
    "\n",
    "weather['Date'] = weather['Date'].map(lambda date: datetime.strptime(date, '%Y-%m-%d'))"
   ]
  },
  {
   "cell_type": "code",
   "execution_count": 36,
   "metadata": {
    "colab": {
     "base_uri": "https://localhost:8080/",
     "height": 544
    },
    "colab_type": "code",
    "id": "AacWV5T0gfnW",
    "outputId": "35430454-d582-49b1-9850-f282a1285be4"
   },
   "outputs": [
    {
     "data": {
      "text/plain": [
       "Date           datetime64[ns]\n",
       "Tmax                  float64\n",
       "Tmin                  float64\n",
       "Tavg                  float64\n",
       "DewPoint              float64\n",
       "WetBulb               float64\n",
       "Heat                  float64\n",
       "Cool                  float64\n",
       "PrecipTotal           float64\n",
       "StnPressure           float64\n",
       "SeaLevel              float64\n",
       "ResultSpeed           float64\n",
       "ResultDir             float64\n",
       "AvgSpeed              float64\n",
       "Sunrise               float64\n",
       "Sunset                float64\n",
       "bc                      int64\n",
       "br                      int64\n",
       "dz                      int64\n",
       "fg                      int64\n",
       "fg+                     int64\n",
       "fu                      int64\n",
       "gr                      int64\n",
       "hz                      int64\n",
       "mi                      int64\n",
       "ra                      int64\n",
       "sn                      int64\n",
       "sq                      int64\n",
       "ts                      int64\n",
       "vc                      int64\n",
       "dtype: object"
      ]
     },
     "execution_count": 36,
     "metadata": {},
     "output_type": "execute_result"
    }
   ],
   "source": [
    "weather.dtypes"
   ]
  },
  {
   "cell_type": "code",
   "execution_count": 37,
   "metadata": {},
   "outputs": [],
   "source": [
    "weather.set_index('Date', inplace=True)"
   ]
  },
  {
   "cell_type": "code",
   "execution_count": 38,
   "metadata": {
    "scrolled": false
   },
   "outputs": [
    {
     "data": {
      "text/html": [
       "<div>\n",
       "<style scoped>\n",
       "    .dataframe tbody tr th:only-of-type {\n",
       "        vertical-align: middle;\n",
       "    }\n",
       "\n",
       "    .dataframe tbody tr th {\n",
       "        vertical-align: top;\n",
       "    }\n",
       "\n",
       "    .dataframe thead th {\n",
       "        text-align: right;\n",
       "    }\n",
       "</style>\n",
       "<table border=\"1\" class=\"dataframe\">\n",
       "  <thead>\n",
       "    <tr style=\"text-align: right;\">\n",
       "      <th></th>\n",
       "      <th>Tmax</th>\n",
       "      <th>Tmin</th>\n",
       "      <th>Tavg</th>\n",
       "      <th>DewPoint</th>\n",
       "      <th>WetBulb</th>\n",
       "      <th>Heat</th>\n",
       "      <th>Cool</th>\n",
       "      <th>PrecipTotal</th>\n",
       "      <th>StnPressure</th>\n",
       "      <th>SeaLevel</th>\n",
       "      <th>ResultSpeed</th>\n",
       "      <th>ResultDir</th>\n",
       "      <th>AvgSpeed</th>\n",
       "      <th>Sunrise</th>\n",
       "      <th>Sunset</th>\n",
       "      <th>bc</th>\n",
       "      <th>br</th>\n",
       "      <th>dz</th>\n",
       "      <th>fg</th>\n",
       "      <th>fg+</th>\n",
       "      <th>fu</th>\n",
       "      <th>gr</th>\n",
       "      <th>hz</th>\n",
       "      <th>mi</th>\n",
       "      <th>ra</th>\n",
       "      <th>sn</th>\n",
       "      <th>sq</th>\n",
       "      <th>ts</th>\n",
       "      <th>vc</th>\n",
       "    </tr>\n",
       "    <tr>\n",
       "      <th>Date</th>\n",
       "      <th></th>\n",
       "      <th></th>\n",
       "      <th></th>\n",
       "      <th></th>\n",
       "      <th></th>\n",
       "      <th></th>\n",
       "      <th></th>\n",
       "      <th></th>\n",
       "      <th></th>\n",
       "      <th></th>\n",
       "      <th></th>\n",
       "      <th></th>\n",
       "      <th></th>\n",
       "      <th></th>\n",
       "      <th></th>\n",
       "      <th></th>\n",
       "      <th></th>\n",
       "      <th></th>\n",
       "      <th></th>\n",
       "      <th></th>\n",
       "      <th></th>\n",
       "      <th></th>\n",
       "      <th></th>\n",
       "      <th></th>\n",
       "      <th></th>\n",
       "      <th></th>\n",
       "      <th></th>\n",
       "      <th></th>\n",
       "      <th></th>\n",
       "    </tr>\n",
       "  </thead>\n",
       "  <tbody>\n",
       "    <tr>\n",
       "      <th>2007-05-01</th>\n",
       "      <td>83.5</td>\n",
       "      <td>51.0</td>\n",
       "      <td>67.25</td>\n",
       "      <td>51.0</td>\n",
       "      <td>56.5</td>\n",
       "      <td>0.0</td>\n",
       "      <td>2.5</td>\n",
       "      <td>0.000</td>\n",
       "      <td>29.140</td>\n",
       "      <td>29.820</td>\n",
       "      <td>2.20</td>\n",
       "      <td>26.0</td>\n",
       "      <td>9.40</td>\n",
       "      <td>4.800000</td>\n",
       "      <td>18.816667</td>\n",
       "      <td>0</td>\n",
       "      <td>0</td>\n",
       "      <td>0</td>\n",
       "      <td>0</td>\n",
       "      <td>0</td>\n",
       "      <td>0</td>\n",
       "      <td>0</td>\n",
       "      <td>0</td>\n",
       "      <td>0</td>\n",
       "      <td>0</td>\n",
       "      <td>0</td>\n",
       "      <td>0</td>\n",
       "      <td>0</td>\n",
       "      <td>0</td>\n",
       "    </tr>\n",
       "    <tr>\n",
       "      <th>2007-05-02</th>\n",
       "      <td>59.5</td>\n",
       "      <td>42.5</td>\n",
       "      <td>51.00</td>\n",
       "      <td>42.0</td>\n",
       "      <td>47.0</td>\n",
       "      <td>13.5</td>\n",
       "      <td>0.0</td>\n",
       "      <td>0.000</td>\n",
       "      <td>29.410</td>\n",
       "      <td>30.085</td>\n",
       "      <td>13.15</td>\n",
       "      <td>3.0</td>\n",
       "      <td>13.40</td>\n",
       "      <td>4.783333</td>\n",
       "      <td>18.833333</td>\n",
       "      <td>0</td>\n",
       "      <td>1</td>\n",
       "      <td>0</td>\n",
       "      <td>0</td>\n",
       "      <td>0</td>\n",
       "      <td>0</td>\n",
       "      <td>0</td>\n",
       "      <td>1</td>\n",
       "      <td>0</td>\n",
       "      <td>0</td>\n",
       "      <td>0</td>\n",
       "      <td>0</td>\n",
       "      <td>0</td>\n",
       "      <td>0</td>\n",
       "    </tr>\n",
       "    <tr>\n",
       "      <th>2007-05-03</th>\n",
       "      <td>66.5</td>\n",
       "      <td>47.0</td>\n",
       "      <td>56.75</td>\n",
       "      <td>40.0</td>\n",
       "      <td>49.0</td>\n",
       "      <td>8.0</td>\n",
       "      <td>0.0</td>\n",
       "      <td>0.000</td>\n",
       "      <td>29.425</td>\n",
       "      <td>30.120</td>\n",
       "      <td>12.30</td>\n",
       "      <td>6.5</td>\n",
       "      <td>12.55</td>\n",
       "      <td>4.766667</td>\n",
       "      <td>18.850000</td>\n",
       "      <td>0</td>\n",
       "      <td>0</td>\n",
       "      <td>0</td>\n",
       "      <td>0</td>\n",
       "      <td>0</td>\n",
       "      <td>0</td>\n",
       "      <td>0</td>\n",
       "      <td>1</td>\n",
       "      <td>0</td>\n",
       "      <td>0</td>\n",
       "      <td>0</td>\n",
       "      <td>0</td>\n",
       "      <td>0</td>\n",
       "      <td>0</td>\n",
       "    </tr>\n",
       "    <tr>\n",
       "      <th>2007-05-04</th>\n",
       "      <td>72.0</td>\n",
       "      <td>50.0</td>\n",
       "      <td>61.00</td>\n",
       "      <td>41.5</td>\n",
       "      <td>50.0</td>\n",
       "      <td>3.5</td>\n",
       "      <td>0.0</td>\n",
       "      <td>0.000</td>\n",
       "      <td>29.335</td>\n",
       "      <td>30.045</td>\n",
       "      <td>10.25</td>\n",
       "      <td>7.5</td>\n",
       "      <td>10.60</td>\n",
       "      <td>4.733333</td>\n",
       "      <td>18.866667</td>\n",
       "      <td>0</td>\n",
       "      <td>0</td>\n",
       "      <td>0</td>\n",
       "      <td>0</td>\n",
       "      <td>0</td>\n",
       "      <td>0</td>\n",
       "      <td>0</td>\n",
       "      <td>0</td>\n",
       "      <td>0</td>\n",
       "      <td>1</td>\n",
       "      <td>0</td>\n",
       "      <td>0</td>\n",
       "      <td>0</td>\n",
       "      <td>0</td>\n",
       "    </tr>\n",
       "    <tr>\n",
       "      <th>2007-05-05</th>\n",
       "      <td>66.0</td>\n",
       "      <td>53.5</td>\n",
       "      <td>59.75</td>\n",
       "      <td>38.5</td>\n",
       "      <td>49.5</td>\n",
       "      <td>5.0</td>\n",
       "      <td>0.0</td>\n",
       "      <td>0.000</td>\n",
       "      <td>29.430</td>\n",
       "      <td>30.095</td>\n",
       "      <td>11.45</td>\n",
       "      <td>7.0</td>\n",
       "      <td>11.75</td>\n",
       "      <td>4.716667</td>\n",
       "      <td>18.883333</td>\n",
       "      <td>0</td>\n",
       "      <td>0</td>\n",
       "      <td>0</td>\n",
       "      <td>0</td>\n",
       "      <td>0</td>\n",
       "      <td>0</td>\n",
       "      <td>0</td>\n",
       "      <td>0</td>\n",
       "      <td>0</td>\n",
       "      <td>0</td>\n",
       "      <td>0</td>\n",
       "      <td>0</td>\n",
       "      <td>0</td>\n",
       "      <td>0</td>\n",
       "    </tr>\n",
       "    <tr>\n",
       "      <th>2007-05-06</th>\n",
       "      <td>68.0</td>\n",
       "      <td>50.5</td>\n",
       "      <td>59.25</td>\n",
       "      <td>30.0</td>\n",
       "      <td>46.0</td>\n",
       "      <td>5.5</td>\n",
       "      <td>0.0</td>\n",
       "      <td>0.000</td>\n",
       "      <td>29.595</td>\n",
       "      <td>30.285</td>\n",
       "      <td>14.10</td>\n",
       "      <td>10.5</td>\n",
       "      <td>14.75</td>\n",
       "      <td>4.700000</td>\n",
       "      <td>18.916667</td>\n",
       "      <td>0</td>\n",
       "      <td>0</td>\n",
       "      <td>0</td>\n",
       "      <td>0</td>\n",
       "      <td>0</td>\n",
       "      <td>0</td>\n",
       "      <td>0</td>\n",
       "      <td>0</td>\n",
       "      <td>0</td>\n",
       "      <td>0</td>\n",
       "      <td>0</td>\n",
       "      <td>0</td>\n",
       "      <td>0</td>\n",
       "      <td>0</td>\n",
       "    </tr>\n",
       "    <tr>\n",
       "      <th>2007-05-07</th>\n",
       "      <td>83.5</td>\n",
       "      <td>48.5</td>\n",
       "      <td>66.00</td>\n",
       "      <td>40.0</td>\n",
       "      <td>53.5</td>\n",
       "      <td>0.0</td>\n",
       "      <td>1.0</td>\n",
       "      <td>0.000</td>\n",
       "      <td>29.410</td>\n",
       "      <td>30.120</td>\n",
       "      <td>8.55</td>\n",
       "      <td>17.5</td>\n",
       "      <td>10.20</td>\n",
       "      <td>4.683333</td>\n",
       "      <td>18.933333</td>\n",
       "      <td>0</td>\n",
       "      <td>0</td>\n",
       "      <td>0</td>\n",
       "      <td>0</td>\n",
       "      <td>0</td>\n",
       "      <td>0</td>\n",
       "      <td>0</td>\n",
       "      <td>0</td>\n",
       "      <td>0</td>\n",
       "      <td>1</td>\n",
       "      <td>0</td>\n",
       "      <td>0</td>\n",
       "      <td>0</td>\n",
       "      <td>0</td>\n",
       "    </tr>\n",
       "    <tr>\n",
       "      <th>2007-05-08</th>\n",
       "      <td>81.0</td>\n",
       "      <td>57.0</td>\n",
       "      <td>69.00</td>\n",
       "      <td>57.5</td>\n",
       "      <td>62.5</td>\n",
       "      <td>0.0</td>\n",
       "      <td>4.0</td>\n",
       "      <td>0.000</td>\n",
       "      <td>29.325</td>\n",
       "      <td>30.025</td>\n",
       "      <td>2.60</td>\n",
       "      <td>9.5</td>\n",
       "      <td>5.60</td>\n",
       "      <td>4.650000</td>\n",
       "      <td>18.950000</td>\n",
       "      <td>0</td>\n",
       "      <td>1</td>\n",
       "      <td>0</td>\n",
       "      <td>0</td>\n",
       "      <td>0</td>\n",
       "      <td>0</td>\n",
       "      <td>0</td>\n",
       "      <td>1</td>\n",
       "      <td>0</td>\n",
       "      <td>0</td>\n",
       "      <td>0</td>\n",
       "      <td>0</td>\n",
       "      <td>0</td>\n",
       "      <td>0</td>\n",
       "    </tr>\n",
       "    <tr>\n",
       "      <th>2007-05-09</th>\n",
       "      <td>76.5</td>\n",
       "      <td>62.0</td>\n",
       "      <td>69.25</td>\n",
       "      <td>59.5</td>\n",
       "      <td>63.0</td>\n",
       "      <td>0.0</td>\n",
       "      <td>4.5</td>\n",
       "      <td>0.075</td>\n",
       "      <td>29.245</td>\n",
       "      <td>29.935</td>\n",
       "      <td>3.90</td>\n",
       "      <td>8.0</td>\n",
       "      <td>6.05</td>\n",
       "      <td>4.633333</td>\n",
       "      <td>18.966667</td>\n",
       "      <td>0</td>\n",
       "      <td>1</td>\n",
       "      <td>0</td>\n",
       "      <td>0</td>\n",
       "      <td>0</td>\n",
       "      <td>0</td>\n",
       "      <td>0</td>\n",
       "      <td>1</td>\n",
       "      <td>0</td>\n",
       "      <td>0</td>\n",
       "      <td>0</td>\n",
       "      <td>0</td>\n",
       "      <td>0</td>\n",
       "      <td>0</td>\n",
       "    </tr>\n",
       "    <tr>\n",
       "      <th>2007-05-10</th>\n",
       "      <td>83.5</td>\n",
       "      <td>57.5</td>\n",
       "      <td>70.50</td>\n",
       "      <td>52.0</td>\n",
       "      <td>60.5</td>\n",
       "      <td>0.0</td>\n",
       "      <td>5.5</td>\n",
       "      <td>0.000</td>\n",
       "      <td>29.230</td>\n",
       "      <td>29.915</td>\n",
       "      <td>1.35</td>\n",
       "      <td>13.0</td>\n",
       "      <td>4.00</td>\n",
       "      <td>4.616667</td>\n",
       "      <td>18.983333</td>\n",
       "      <td>0</td>\n",
       "      <td>1</td>\n",
       "      <td>0</td>\n",
       "      <td>0</td>\n",
       "      <td>0</td>\n",
       "      <td>0</td>\n",
       "      <td>0</td>\n",
       "      <td>1</td>\n",
       "      <td>0</td>\n",
       "      <td>0</td>\n",
       "      <td>0</td>\n",
       "      <td>0</td>\n",
       "      <td>0</td>\n",
       "      <td>0</td>\n",
       "    </tr>\n",
       "  </tbody>\n",
       "</table>\n",
       "</div>"
      ],
      "text/plain": [
       "            Tmax  Tmin   Tavg  DewPoint  WetBulb  Heat  Cool  PrecipTotal  \\\n",
       "Date                                                                        \n",
       "2007-05-01  83.5  51.0  67.25      51.0     56.5   0.0   2.5        0.000   \n",
       "2007-05-02  59.5  42.5  51.00      42.0     47.0  13.5   0.0        0.000   \n",
       "2007-05-03  66.5  47.0  56.75      40.0     49.0   8.0   0.0        0.000   \n",
       "2007-05-04  72.0  50.0  61.00      41.5     50.0   3.5   0.0        0.000   \n",
       "2007-05-05  66.0  53.5  59.75      38.5     49.5   5.0   0.0        0.000   \n",
       "2007-05-06  68.0  50.5  59.25      30.0     46.0   5.5   0.0        0.000   \n",
       "2007-05-07  83.5  48.5  66.00      40.0     53.5   0.0   1.0        0.000   \n",
       "2007-05-08  81.0  57.0  69.00      57.5     62.5   0.0   4.0        0.000   \n",
       "2007-05-09  76.5  62.0  69.25      59.5     63.0   0.0   4.5        0.075   \n",
       "2007-05-10  83.5  57.5  70.50      52.0     60.5   0.0   5.5        0.000   \n",
       "\n",
       "            StnPressure  SeaLevel  ResultSpeed  ResultDir  AvgSpeed   Sunrise  \\\n",
       "Date                                                                            \n",
       "2007-05-01       29.140    29.820         2.20       26.0      9.40  4.800000   \n",
       "2007-05-02       29.410    30.085        13.15        3.0     13.40  4.783333   \n",
       "2007-05-03       29.425    30.120        12.30        6.5     12.55  4.766667   \n",
       "2007-05-04       29.335    30.045        10.25        7.5     10.60  4.733333   \n",
       "2007-05-05       29.430    30.095        11.45        7.0     11.75  4.716667   \n",
       "2007-05-06       29.595    30.285        14.10       10.5     14.75  4.700000   \n",
       "2007-05-07       29.410    30.120         8.55       17.5     10.20  4.683333   \n",
       "2007-05-08       29.325    30.025         2.60        9.5      5.60  4.650000   \n",
       "2007-05-09       29.245    29.935         3.90        8.0      6.05  4.633333   \n",
       "2007-05-10       29.230    29.915         1.35       13.0      4.00  4.616667   \n",
       "\n",
       "               Sunset  bc  br  dz  fg  fg+  fu  gr  hz  mi  ra  sn  sq  ts  vc  \n",
       "Date                                                                            \n",
       "2007-05-01  18.816667   0   0   0   0    0   0   0   0   0   0   0   0   0   0  \n",
       "2007-05-02  18.833333   0   1   0   0    0   0   0   1   0   0   0   0   0   0  \n",
       "2007-05-03  18.850000   0   0   0   0    0   0   0   1   0   0   0   0   0   0  \n",
       "2007-05-04  18.866667   0   0   0   0    0   0   0   0   0   1   0   0   0   0  \n",
       "2007-05-05  18.883333   0   0   0   0    0   0   0   0   0   0   0   0   0   0  \n",
       "2007-05-06  18.916667   0   0   0   0    0   0   0   0   0   0   0   0   0   0  \n",
       "2007-05-07  18.933333   0   0   0   0    0   0   0   0   0   1   0   0   0   0  \n",
       "2007-05-08  18.950000   0   1   0   0    0   0   0   1   0   0   0   0   0   0  \n",
       "2007-05-09  18.966667   0   1   0   0    0   0   0   1   0   0   0   0   0   0  \n",
       "2007-05-10  18.983333   0   1   0   0    0   0   0   1   0   0   0   0   0   0  "
      ]
     },
     "execution_count": 38,
     "metadata": {},
     "output_type": "execute_result"
    }
   ],
   "source": [
    "weather.head(10)"
   ]
  },
  {
   "cell_type": "markdown",
   "metadata": {},
   "source": [
    "In order to merge the *weather* data with *train* and *test* data, **we decided to shift the *weather* data with a lag of 10 days**. The reasoning behind doing this is that the weather conditions on any given day will not have an immediate impact on the presence of WNV on that day itself. Generally, there would be a delay of a few days before the effects of weather conditions are felt on the presence of WNV in the mosquito traps. For instance, **if the weather on a particular day is ideal for breeding of mosquitoes, the mosquitoes would breed more on that day and lay more eggs than usual. These eggs will then hatch and the hatchlings will grow into adult mosquitoes over a period of time, typically about 10 days (according to this [page](https://www.mosquito.org/page/lifecycle)). It is only after these mosquitoes grow into adults will we see an increase in the presence of WNV in the mosquito traps.**\n",
    "\n",
    "We chose a value of 10 days after trying a few different values of lag and modelling the classification using a *RandomForestClassifier* model. **The plot below shows the trend in the various classification metrics for the same model with different days of lag in weather data.** As seen in the plot, a lag of 5 days would give the highest *train* & *test accuracies* and *specificity (true negative rate)*, but the lowest *sensitivity (true positive rate)*. On the other hand, lags of 2 days and 10 days give identical values for all classification metrics, and for a small decrease in *accuracies* and *specificity* (as compared to lag of 5 days), give a significant increase in the *sensitivity*. So, a lag of 10 days was chosen as it also coincided with our explanation of the lifecycle of mosquitoes given above.\n",
    "\n",
    "![](../plot_images/eval_metrics_vs_weather_lag.png)\n",
    "\n",
    "**The code below shows how *weather* data was merged with *train* and *test* data with lags of 0, 2, 5, 7, 10, 14, 21 and 28 days. Only the merged data with lag of 10 days was used for further evaluation using different classifiers.**"
   ]
  },
  {
   "cell_type": "code",
   "execution_count": 39,
   "metadata": {},
   "outputs": [],
   "source": [
    "# Creating new columns with dates lagged by 2, 5, 7, 10, 14, 21 & 28 days.\n",
    "\n",
    "weather['Date_lag_2'] = weather.index.shift(2, freq='D')\n",
    "weather['Date_lag_5'] = weather.index.shift(5, freq='D')\n",
    "weather['Date_lag_7'] = weather.index.shift(7, freq='D')\n",
    "weather['Date_lag_10'] = weather.index.shift(10, freq='D')\n",
    "weather['Date_lag_14'] = weather.index.shift(14, freq='D')\n",
    "weather['Date_lag_21'] = weather.index.shift(21, freq='D')\n",
    "weather['Date_lag_28'] = weather.index.shift(28, freq='D')"
   ]
  },
  {
   "cell_type": "code",
   "execution_count": 40,
   "metadata": {
    "scrolled": false
   },
   "outputs": [
    {
     "data": {
      "text/html": [
       "<div>\n",
       "<style scoped>\n",
       "    .dataframe tbody tr th:only-of-type {\n",
       "        vertical-align: middle;\n",
       "    }\n",
       "\n",
       "    .dataframe tbody tr th {\n",
       "        vertical-align: top;\n",
       "    }\n",
       "\n",
       "    .dataframe thead th {\n",
       "        text-align: right;\n",
       "    }\n",
       "</style>\n",
       "<table border=\"1\" class=\"dataframe\">\n",
       "  <thead>\n",
       "    <tr style=\"text-align: right;\">\n",
       "      <th></th>\n",
       "      <th>Tmax</th>\n",
       "      <th>Tmin</th>\n",
       "      <th>Tavg</th>\n",
       "      <th>DewPoint</th>\n",
       "      <th>WetBulb</th>\n",
       "      <th>Heat</th>\n",
       "      <th>Cool</th>\n",
       "      <th>PrecipTotal</th>\n",
       "      <th>StnPressure</th>\n",
       "      <th>SeaLevel</th>\n",
       "      <th>ResultSpeed</th>\n",
       "      <th>ResultDir</th>\n",
       "      <th>AvgSpeed</th>\n",
       "      <th>Sunrise</th>\n",
       "      <th>Sunset</th>\n",
       "      <th>bc</th>\n",
       "      <th>br</th>\n",
       "      <th>dz</th>\n",
       "      <th>fg</th>\n",
       "      <th>fg+</th>\n",
       "      <th>fu</th>\n",
       "      <th>gr</th>\n",
       "      <th>hz</th>\n",
       "      <th>mi</th>\n",
       "      <th>ra</th>\n",
       "      <th>sn</th>\n",
       "      <th>sq</th>\n",
       "      <th>ts</th>\n",
       "      <th>vc</th>\n",
       "      <th>Date_lag_2</th>\n",
       "      <th>Date_lag_5</th>\n",
       "      <th>Date_lag_7</th>\n",
       "      <th>Date_lag_10</th>\n",
       "      <th>Date_lag_14</th>\n",
       "      <th>Date_lag_21</th>\n",
       "      <th>Date_lag_28</th>\n",
       "    </tr>\n",
       "    <tr>\n",
       "      <th>Date</th>\n",
       "      <th></th>\n",
       "      <th></th>\n",
       "      <th></th>\n",
       "      <th></th>\n",
       "      <th></th>\n",
       "      <th></th>\n",
       "      <th></th>\n",
       "      <th></th>\n",
       "      <th></th>\n",
       "      <th></th>\n",
       "      <th></th>\n",
       "      <th></th>\n",
       "      <th></th>\n",
       "      <th></th>\n",
       "      <th></th>\n",
       "      <th></th>\n",
       "      <th></th>\n",
       "      <th></th>\n",
       "      <th></th>\n",
       "      <th></th>\n",
       "      <th></th>\n",
       "      <th></th>\n",
       "      <th></th>\n",
       "      <th></th>\n",
       "      <th></th>\n",
       "      <th></th>\n",
       "      <th></th>\n",
       "      <th></th>\n",
       "      <th></th>\n",
       "      <th></th>\n",
       "      <th></th>\n",
       "      <th></th>\n",
       "      <th></th>\n",
       "      <th></th>\n",
       "      <th></th>\n",
       "      <th></th>\n",
       "    </tr>\n",
       "  </thead>\n",
       "  <tbody>\n",
       "    <tr>\n",
       "      <th>2007-05-01</th>\n",
       "      <td>83.5</td>\n",
       "      <td>51.0</td>\n",
       "      <td>67.25</td>\n",
       "      <td>51.0</td>\n",
       "      <td>56.5</td>\n",
       "      <td>0.0</td>\n",
       "      <td>2.5</td>\n",
       "      <td>0.000</td>\n",
       "      <td>29.140</td>\n",
       "      <td>29.820</td>\n",
       "      <td>2.20</td>\n",
       "      <td>26.0</td>\n",
       "      <td>9.40</td>\n",
       "      <td>4.800000</td>\n",
       "      <td>18.816667</td>\n",
       "      <td>0</td>\n",
       "      <td>0</td>\n",
       "      <td>0</td>\n",
       "      <td>0</td>\n",
       "      <td>0</td>\n",
       "      <td>0</td>\n",
       "      <td>0</td>\n",
       "      <td>0</td>\n",
       "      <td>0</td>\n",
       "      <td>0</td>\n",
       "      <td>0</td>\n",
       "      <td>0</td>\n",
       "      <td>0</td>\n",
       "      <td>0</td>\n",
       "      <td>2007-05-03</td>\n",
       "      <td>2007-05-06</td>\n",
       "      <td>2007-05-08</td>\n",
       "      <td>2007-05-11</td>\n",
       "      <td>2007-05-15</td>\n",
       "      <td>2007-05-22</td>\n",
       "      <td>2007-05-29</td>\n",
       "    </tr>\n",
       "    <tr>\n",
       "      <th>2007-05-02</th>\n",
       "      <td>59.5</td>\n",
       "      <td>42.5</td>\n",
       "      <td>51.00</td>\n",
       "      <td>42.0</td>\n",
       "      <td>47.0</td>\n",
       "      <td>13.5</td>\n",
       "      <td>0.0</td>\n",
       "      <td>0.000</td>\n",
       "      <td>29.410</td>\n",
       "      <td>30.085</td>\n",
       "      <td>13.15</td>\n",
       "      <td>3.0</td>\n",
       "      <td>13.40</td>\n",
       "      <td>4.783333</td>\n",
       "      <td>18.833333</td>\n",
       "      <td>0</td>\n",
       "      <td>1</td>\n",
       "      <td>0</td>\n",
       "      <td>0</td>\n",
       "      <td>0</td>\n",
       "      <td>0</td>\n",
       "      <td>0</td>\n",
       "      <td>1</td>\n",
       "      <td>0</td>\n",
       "      <td>0</td>\n",
       "      <td>0</td>\n",
       "      <td>0</td>\n",
       "      <td>0</td>\n",
       "      <td>0</td>\n",
       "      <td>2007-05-04</td>\n",
       "      <td>2007-05-07</td>\n",
       "      <td>2007-05-09</td>\n",
       "      <td>2007-05-12</td>\n",
       "      <td>2007-05-16</td>\n",
       "      <td>2007-05-23</td>\n",
       "      <td>2007-05-30</td>\n",
       "    </tr>\n",
       "    <tr>\n",
       "      <th>2007-05-03</th>\n",
       "      <td>66.5</td>\n",
       "      <td>47.0</td>\n",
       "      <td>56.75</td>\n",
       "      <td>40.0</td>\n",
       "      <td>49.0</td>\n",
       "      <td>8.0</td>\n",
       "      <td>0.0</td>\n",
       "      <td>0.000</td>\n",
       "      <td>29.425</td>\n",
       "      <td>30.120</td>\n",
       "      <td>12.30</td>\n",
       "      <td>6.5</td>\n",
       "      <td>12.55</td>\n",
       "      <td>4.766667</td>\n",
       "      <td>18.850000</td>\n",
       "      <td>0</td>\n",
       "      <td>0</td>\n",
       "      <td>0</td>\n",
       "      <td>0</td>\n",
       "      <td>0</td>\n",
       "      <td>0</td>\n",
       "      <td>0</td>\n",
       "      <td>1</td>\n",
       "      <td>0</td>\n",
       "      <td>0</td>\n",
       "      <td>0</td>\n",
       "      <td>0</td>\n",
       "      <td>0</td>\n",
       "      <td>0</td>\n",
       "      <td>2007-05-05</td>\n",
       "      <td>2007-05-08</td>\n",
       "      <td>2007-05-10</td>\n",
       "      <td>2007-05-13</td>\n",
       "      <td>2007-05-17</td>\n",
       "      <td>2007-05-24</td>\n",
       "      <td>2007-05-31</td>\n",
       "    </tr>\n",
       "    <tr>\n",
       "      <th>2007-05-04</th>\n",
       "      <td>72.0</td>\n",
       "      <td>50.0</td>\n",
       "      <td>61.00</td>\n",
       "      <td>41.5</td>\n",
       "      <td>50.0</td>\n",
       "      <td>3.5</td>\n",
       "      <td>0.0</td>\n",
       "      <td>0.000</td>\n",
       "      <td>29.335</td>\n",
       "      <td>30.045</td>\n",
       "      <td>10.25</td>\n",
       "      <td>7.5</td>\n",
       "      <td>10.60</td>\n",
       "      <td>4.733333</td>\n",
       "      <td>18.866667</td>\n",
       "      <td>0</td>\n",
       "      <td>0</td>\n",
       "      <td>0</td>\n",
       "      <td>0</td>\n",
       "      <td>0</td>\n",
       "      <td>0</td>\n",
       "      <td>0</td>\n",
       "      <td>0</td>\n",
       "      <td>0</td>\n",
       "      <td>1</td>\n",
       "      <td>0</td>\n",
       "      <td>0</td>\n",
       "      <td>0</td>\n",
       "      <td>0</td>\n",
       "      <td>2007-05-06</td>\n",
       "      <td>2007-05-09</td>\n",
       "      <td>2007-05-11</td>\n",
       "      <td>2007-05-14</td>\n",
       "      <td>2007-05-18</td>\n",
       "      <td>2007-05-25</td>\n",
       "      <td>2007-06-01</td>\n",
       "    </tr>\n",
       "    <tr>\n",
       "      <th>2007-05-05</th>\n",
       "      <td>66.0</td>\n",
       "      <td>53.5</td>\n",
       "      <td>59.75</td>\n",
       "      <td>38.5</td>\n",
       "      <td>49.5</td>\n",
       "      <td>5.0</td>\n",
       "      <td>0.0</td>\n",
       "      <td>0.000</td>\n",
       "      <td>29.430</td>\n",
       "      <td>30.095</td>\n",
       "      <td>11.45</td>\n",
       "      <td>7.0</td>\n",
       "      <td>11.75</td>\n",
       "      <td>4.716667</td>\n",
       "      <td>18.883333</td>\n",
       "      <td>0</td>\n",
       "      <td>0</td>\n",
       "      <td>0</td>\n",
       "      <td>0</td>\n",
       "      <td>0</td>\n",
       "      <td>0</td>\n",
       "      <td>0</td>\n",
       "      <td>0</td>\n",
       "      <td>0</td>\n",
       "      <td>0</td>\n",
       "      <td>0</td>\n",
       "      <td>0</td>\n",
       "      <td>0</td>\n",
       "      <td>0</td>\n",
       "      <td>2007-05-07</td>\n",
       "      <td>2007-05-10</td>\n",
       "      <td>2007-05-12</td>\n",
       "      <td>2007-05-15</td>\n",
       "      <td>2007-05-19</td>\n",
       "      <td>2007-05-26</td>\n",
       "      <td>2007-06-02</td>\n",
       "    </tr>\n",
       "    <tr>\n",
       "      <th>2007-05-06</th>\n",
       "      <td>68.0</td>\n",
       "      <td>50.5</td>\n",
       "      <td>59.25</td>\n",
       "      <td>30.0</td>\n",
       "      <td>46.0</td>\n",
       "      <td>5.5</td>\n",
       "      <td>0.0</td>\n",
       "      <td>0.000</td>\n",
       "      <td>29.595</td>\n",
       "      <td>30.285</td>\n",
       "      <td>14.10</td>\n",
       "      <td>10.5</td>\n",
       "      <td>14.75</td>\n",
       "      <td>4.700000</td>\n",
       "      <td>18.916667</td>\n",
       "      <td>0</td>\n",
       "      <td>0</td>\n",
       "      <td>0</td>\n",
       "      <td>0</td>\n",
       "      <td>0</td>\n",
       "      <td>0</td>\n",
       "      <td>0</td>\n",
       "      <td>0</td>\n",
       "      <td>0</td>\n",
       "      <td>0</td>\n",
       "      <td>0</td>\n",
       "      <td>0</td>\n",
       "      <td>0</td>\n",
       "      <td>0</td>\n",
       "      <td>2007-05-08</td>\n",
       "      <td>2007-05-11</td>\n",
       "      <td>2007-05-13</td>\n",
       "      <td>2007-05-16</td>\n",
       "      <td>2007-05-20</td>\n",
       "      <td>2007-05-27</td>\n",
       "      <td>2007-06-03</td>\n",
       "    </tr>\n",
       "    <tr>\n",
       "      <th>2007-05-07</th>\n",
       "      <td>83.5</td>\n",
       "      <td>48.5</td>\n",
       "      <td>66.00</td>\n",
       "      <td>40.0</td>\n",
       "      <td>53.5</td>\n",
       "      <td>0.0</td>\n",
       "      <td>1.0</td>\n",
       "      <td>0.000</td>\n",
       "      <td>29.410</td>\n",
       "      <td>30.120</td>\n",
       "      <td>8.55</td>\n",
       "      <td>17.5</td>\n",
       "      <td>10.20</td>\n",
       "      <td>4.683333</td>\n",
       "      <td>18.933333</td>\n",
       "      <td>0</td>\n",
       "      <td>0</td>\n",
       "      <td>0</td>\n",
       "      <td>0</td>\n",
       "      <td>0</td>\n",
       "      <td>0</td>\n",
       "      <td>0</td>\n",
       "      <td>0</td>\n",
       "      <td>0</td>\n",
       "      <td>1</td>\n",
       "      <td>0</td>\n",
       "      <td>0</td>\n",
       "      <td>0</td>\n",
       "      <td>0</td>\n",
       "      <td>2007-05-09</td>\n",
       "      <td>2007-05-12</td>\n",
       "      <td>2007-05-14</td>\n",
       "      <td>2007-05-17</td>\n",
       "      <td>2007-05-21</td>\n",
       "      <td>2007-05-28</td>\n",
       "      <td>2007-06-04</td>\n",
       "    </tr>\n",
       "    <tr>\n",
       "      <th>2007-05-08</th>\n",
       "      <td>81.0</td>\n",
       "      <td>57.0</td>\n",
       "      <td>69.00</td>\n",
       "      <td>57.5</td>\n",
       "      <td>62.5</td>\n",
       "      <td>0.0</td>\n",
       "      <td>4.0</td>\n",
       "      <td>0.000</td>\n",
       "      <td>29.325</td>\n",
       "      <td>30.025</td>\n",
       "      <td>2.60</td>\n",
       "      <td>9.5</td>\n",
       "      <td>5.60</td>\n",
       "      <td>4.650000</td>\n",
       "      <td>18.950000</td>\n",
       "      <td>0</td>\n",
       "      <td>1</td>\n",
       "      <td>0</td>\n",
       "      <td>0</td>\n",
       "      <td>0</td>\n",
       "      <td>0</td>\n",
       "      <td>0</td>\n",
       "      <td>1</td>\n",
       "      <td>0</td>\n",
       "      <td>0</td>\n",
       "      <td>0</td>\n",
       "      <td>0</td>\n",
       "      <td>0</td>\n",
       "      <td>0</td>\n",
       "      <td>2007-05-10</td>\n",
       "      <td>2007-05-13</td>\n",
       "      <td>2007-05-15</td>\n",
       "      <td>2007-05-18</td>\n",
       "      <td>2007-05-22</td>\n",
       "      <td>2007-05-29</td>\n",
       "      <td>2007-06-05</td>\n",
       "    </tr>\n",
       "    <tr>\n",
       "      <th>2007-05-09</th>\n",
       "      <td>76.5</td>\n",
       "      <td>62.0</td>\n",
       "      <td>69.25</td>\n",
       "      <td>59.5</td>\n",
       "      <td>63.0</td>\n",
       "      <td>0.0</td>\n",
       "      <td>4.5</td>\n",
       "      <td>0.075</td>\n",
       "      <td>29.245</td>\n",
       "      <td>29.935</td>\n",
       "      <td>3.90</td>\n",
       "      <td>8.0</td>\n",
       "      <td>6.05</td>\n",
       "      <td>4.633333</td>\n",
       "      <td>18.966667</td>\n",
       "      <td>0</td>\n",
       "      <td>1</td>\n",
       "      <td>0</td>\n",
       "      <td>0</td>\n",
       "      <td>0</td>\n",
       "      <td>0</td>\n",
       "      <td>0</td>\n",
       "      <td>1</td>\n",
       "      <td>0</td>\n",
       "      <td>0</td>\n",
       "      <td>0</td>\n",
       "      <td>0</td>\n",
       "      <td>0</td>\n",
       "      <td>0</td>\n",
       "      <td>2007-05-11</td>\n",
       "      <td>2007-05-14</td>\n",
       "      <td>2007-05-16</td>\n",
       "      <td>2007-05-19</td>\n",
       "      <td>2007-05-23</td>\n",
       "      <td>2007-05-30</td>\n",
       "      <td>2007-06-06</td>\n",
       "    </tr>\n",
       "    <tr>\n",
       "      <th>2007-05-10</th>\n",
       "      <td>83.5</td>\n",
       "      <td>57.5</td>\n",
       "      <td>70.50</td>\n",
       "      <td>52.0</td>\n",
       "      <td>60.5</td>\n",
       "      <td>0.0</td>\n",
       "      <td>5.5</td>\n",
       "      <td>0.000</td>\n",
       "      <td>29.230</td>\n",
       "      <td>29.915</td>\n",
       "      <td>1.35</td>\n",
       "      <td>13.0</td>\n",
       "      <td>4.00</td>\n",
       "      <td>4.616667</td>\n",
       "      <td>18.983333</td>\n",
       "      <td>0</td>\n",
       "      <td>1</td>\n",
       "      <td>0</td>\n",
       "      <td>0</td>\n",
       "      <td>0</td>\n",
       "      <td>0</td>\n",
       "      <td>0</td>\n",
       "      <td>1</td>\n",
       "      <td>0</td>\n",
       "      <td>0</td>\n",
       "      <td>0</td>\n",
       "      <td>0</td>\n",
       "      <td>0</td>\n",
       "      <td>0</td>\n",
       "      <td>2007-05-12</td>\n",
       "      <td>2007-05-15</td>\n",
       "      <td>2007-05-17</td>\n",
       "      <td>2007-05-20</td>\n",
       "      <td>2007-05-24</td>\n",
       "      <td>2007-05-31</td>\n",
       "      <td>2007-06-07</td>\n",
       "    </tr>\n",
       "  </tbody>\n",
       "</table>\n",
       "</div>"
      ],
      "text/plain": [
       "            Tmax  Tmin   Tavg  DewPoint  WetBulb  Heat  Cool  PrecipTotal  \\\n",
       "Date                                                                        \n",
       "2007-05-01  83.5  51.0  67.25      51.0     56.5   0.0   2.5        0.000   \n",
       "2007-05-02  59.5  42.5  51.00      42.0     47.0  13.5   0.0        0.000   \n",
       "2007-05-03  66.5  47.0  56.75      40.0     49.0   8.0   0.0        0.000   \n",
       "2007-05-04  72.0  50.0  61.00      41.5     50.0   3.5   0.0        0.000   \n",
       "2007-05-05  66.0  53.5  59.75      38.5     49.5   5.0   0.0        0.000   \n",
       "2007-05-06  68.0  50.5  59.25      30.0     46.0   5.5   0.0        0.000   \n",
       "2007-05-07  83.5  48.5  66.00      40.0     53.5   0.0   1.0        0.000   \n",
       "2007-05-08  81.0  57.0  69.00      57.5     62.5   0.0   4.0        0.000   \n",
       "2007-05-09  76.5  62.0  69.25      59.5     63.0   0.0   4.5        0.075   \n",
       "2007-05-10  83.5  57.5  70.50      52.0     60.5   0.0   5.5        0.000   \n",
       "\n",
       "            StnPressure  SeaLevel  ResultSpeed  ResultDir  AvgSpeed   Sunrise  \\\n",
       "Date                                                                            \n",
       "2007-05-01       29.140    29.820         2.20       26.0      9.40  4.800000   \n",
       "2007-05-02       29.410    30.085        13.15        3.0     13.40  4.783333   \n",
       "2007-05-03       29.425    30.120        12.30        6.5     12.55  4.766667   \n",
       "2007-05-04       29.335    30.045        10.25        7.5     10.60  4.733333   \n",
       "2007-05-05       29.430    30.095        11.45        7.0     11.75  4.716667   \n",
       "2007-05-06       29.595    30.285        14.10       10.5     14.75  4.700000   \n",
       "2007-05-07       29.410    30.120         8.55       17.5     10.20  4.683333   \n",
       "2007-05-08       29.325    30.025         2.60        9.5      5.60  4.650000   \n",
       "2007-05-09       29.245    29.935         3.90        8.0      6.05  4.633333   \n",
       "2007-05-10       29.230    29.915         1.35       13.0      4.00  4.616667   \n",
       "\n",
       "               Sunset  bc  br  dz  fg  fg+  fu  gr  hz  mi  ra  sn  sq  ts  \\\n",
       "Date                                                                         \n",
       "2007-05-01  18.816667   0   0   0   0    0   0   0   0   0   0   0   0   0   \n",
       "2007-05-02  18.833333   0   1   0   0    0   0   0   1   0   0   0   0   0   \n",
       "2007-05-03  18.850000   0   0   0   0    0   0   0   1   0   0   0   0   0   \n",
       "2007-05-04  18.866667   0   0   0   0    0   0   0   0   0   1   0   0   0   \n",
       "2007-05-05  18.883333   0   0   0   0    0   0   0   0   0   0   0   0   0   \n",
       "2007-05-06  18.916667   0   0   0   0    0   0   0   0   0   0   0   0   0   \n",
       "2007-05-07  18.933333   0   0   0   0    0   0   0   0   0   1   0   0   0   \n",
       "2007-05-08  18.950000   0   1   0   0    0   0   0   1   0   0   0   0   0   \n",
       "2007-05-09  18.966667   0   1   0   0    0   0   0   1   0   0   0   0   0   \n",
       "2007-05-10  18.983333   0   1   0   0    0   0   0   1   0   0   0   0   0   \n",
       "\n",
       "            vc Date_lag_2 Date_lag_5 Date_lag_7 Date_lag_10 Date_lag_14  \\\n",
       "Date                                                                      \n",
       "2007-05-01   0 2007-05-03 2007-05-06 2007-05-08  2007-05-11  2007-05-15   \n",
       "2007-05-02   0 2007-05-04 2007-05-07 2007-05-09  2007-05-12  2007-05-16   \n",
       "2007-05-03   0 2007-05-05 2007-05-08 2007-05-10  2007-05-13  2007-05-17   \n",
       "2007-05-04   0 2007-05-06 2007-05-09 2007-05-11  2007-05-14  2007-05-18   \n",
       "2007-05-05   0 2007-05-07 2007-05-10 2007-05-12  2007-05-15  2007-05-19   \n",
       "2007-05-06   0 2007-05-08 2007-05-11 2007-05-13  2007-05-16  2007-05-20   \n",
       "2007-05-07   0 2007-05-09 2007-05-12 2007-05-14  2007-05-17  2007-05-21   \n",
       "2007-05-08   0 2007-05-10 2007-05-13 2007-05-15  2007-05-18  2007-05-22   \n",
       "2007-05-09   0 2007-05-11 2007-05-14 2007-05-16  2007-05-19  2007-05-23   \n",
       "2007-05-10   0 2007-05-12 2007-05-15 2007-05-17  2007-05-20  2007-05-24   \n",
       "\n",
       "           Date_lag_21 Date_lag_28  \n",
       "Date                                \n",
       "2007-05-01  2007-05-22  2007-05-29  \n",
       "2007-05-02  2007-05-23  2007-05-30  \n",
       "2007-05-03  2007-05-24  2007-05-31  \n",
       "2007-05-04  2007-05-25  2007-06-01  \n",
       "2007-05-05  2007-05-26  2007-06-02  \n",
       "2007-05-06  2007-05-27  2007-06-03  \n",
       "2007-05-07  2007-05-28  2007-06-04  \n",
       "2007-05-08  2007-05-29  2007-06-05  \n",
       "2007-05-09  2007-05-30  2007-06-06  \n",
       "2007-05-10  2007-05-31  2007-06-07  "
      ]
     },
     "execution_count": 40,
     "metadata": {},
     "output_type": "execute_result"
    }
   ],
   "source": [
    "weather.head(10)"
   ]
  },
  {
   "cell_type": "code",
   "execution_count": 41,
   "metadata": {},
   "outputs": [],
   "source": [
    "# Resetting the index and renaming the Date column to 'Date_lag_0'.\n",
    "\n",
    "weather.reset_index(inplace=True)\n",
    "weather.rename(columns={'Date':'Date_lag_0'}, inplace=True)"
   ]
  },
  {
   "cell_type": "code",
   "execution_count": 42,
   "metadata": {},
   "outputs": [],
   "source": [
    "# Converting all date columns to type string so that they can be used in pd.merge functions later.\n",
    "\n",
    "train['Date'] = train['Date'].dt.strftime('%Y-%m-%d')\n",
    "test['Date'] = test['Date'].dt.strftime('%Y-%m-%d')\n",
    "weather['Date_lag_0'] = weather['Date_lag_0'].dt.strftime('%Y-%m-%d')\n",
    "weather['Date_lag_2'] = weather['Date_lag_2'].dt.strftime('%Y-%m-%d')\n",
    "weather['Date_lag_5'] = weather['Date_lag_5'].dt.strftime('%Y-%m-%d')\n",
    "weather['Date_lag_7'] = weather['Date_lag_7'].dt.strftime('%Y-%m-%d')\n",
    "weather['Date_lag_10'] = weather['Date_lag_10'].dt.strftime('%Y-%m-%d')\n",
    "weather['Date_lag_14'] = weather['Date_lag_14'].dt.strftime('%Y-%m-%d')\n",
    "weather['Date_lag_21'] = weather['Date_lag_21'].dt.strftime('%Y-%m-%d')\n",
    "weather['Date_lag_28'] = weather['Date_lag_28'].dt.strftime('%Y-%m-%d')"
   ]
  },
  {
   "cell_type": "code",
   "execution_count": 43,
   "metadata": {},
   "outputs": [
    {
     "data": {
      "text/plain": [
       "Index(['Date_lag_0', 'Tmax', 'Tmin', 'Tavg', 'DewPoint', 'WetBulb', 'Heat',\n",
       "       'Cool', 'PrecipTotal', 'StnPressure', 'SeaLevel', 'ResultSpeed',\n",
       "       'ResultDir', 'AvgSpeed', 'Sunrise', 'Sunset', 'bc', 'br', 'dz', 'fg',\n",
       "       'fg+', 'fu', 'gr', 'hz', 'mi', 'ra', 'sn', 'sq', 'ts', 'vc',\n",
       "       'Date_lag_2', 'Date_lag_5', 'Date_lag_7', 'Date_lag_10', 'Date_lag_14',\n",
       "       'Date_lag_21', 'Date_lag_28'],\n",
       "      dtype='object')"
      ]
     },
     "execution_count": 43,
     "metadata": {},
     "output_type": "execute_result"
    }
   ],
   "source": [
    "weather.columns"
   ]
  },
  {
   "cell_type": "markdown",
   "metadata": {},
   "source": [
    "Merging *weather* data with *train* & *test* data with **0 days lag**."
   ]
  },
  {
   "cell_type": "code",
   "execution_count": 44,
   "metadata": {
    "colab": {},
    "colab_type": "code",
    "id": "Jn9ca9oNgfnp"
   },
   "outputs": [],
   "source": [
    "# Combining weather dataframe with train & test dataframes along Date_lag_0 column.\n",
    "# Using left join to only keep rows from train & test dataframes and discard all other rows.\n",
    "\n",
    "weather_cols = weather.columns[:30]\n",
    "\n",
    "merged_train_lag_0 = pd.merge(left=train, right=weather[weather_cols], left_on='Date', right_on='Date_lag_0', how='left')\n",
    "merged_test_lag_0 = pd.merge(left=test, right=weather[weather_cols], left_on='Date', right_on='Date_lag_0', how='left')\n",
    "\n",
    "# Dropping the extra column 'Date_lag_0'.\n",
    "merged_train_lag_0.drop(columns='Date_lag_0', inplace=True)\n",
    "merged_test_lag_0.drop(columns='Date_lag_0', inplace=True)"
   ]
  },
  {
   "cell_type": "code",
   "execution_count": 45,
   "metadata": {
    "colab": {
     "base_uri": "https://localhost:8080/",
     "height": 326
    },
    "colab_type": "code",
    "id": "EAPyGAVcgfnv",
    "outputId": "dd999ec5-aeee-446f-863d-d0a42cc9f4a5"
   },
   "outputs": [
    {
     "data": {
      "text/html": [
       "<div>\n",
       "<style scoped>\n",
       "    .dataframe tbody tr th:only-of-type {\n",
       "        vertical-align: middle;\n",
       "    }\n",
       "\n",
       "    .dataframe tbody tr th {\n",
       "        vertical-align: top;\n",
       "    }\n",
       "\n",
       "    .dataframe thead th {\n",
       "        text-align: right;\n",
       "    }\n",
       "</style>\n",
       "<table border=\"1\" class=\"dataframe\">\n",
       "  <thead>\n",
       "    <tr style=\"text-align: right;\">\n",
       "      <th></th>\n",
       "      <th>Date</th>\n",
       "      <th>Latitude</th>\n",
       "      <th>Longitude</th>\n",
       "      <th>Species_CULEX PIPIENS</th>\n",
       "      <th>Species_CULEX PIPIENS/RESTUANS</th>\n",
       "      <th>Species_CULEX RESTUANS</th>\n",
       "      <th>WnvPresent</th>\n",
       "      <th>Sprayed</th>\n",
       "      <th>Avg Pos Dist</th>\n",
       "      <th>Tmax</th>\n",
       "      <th>Tmin</th>\n",
       "      <th>Tavg</th>\n",
       "      <th>DewPoint</th>\n",
       "      <th>WetBulb</th>\n",
       "      <th>Heat</th>\n",
       "      <th>Cool</th>\n",
       "      <th>PrecipTotal</th>\n",
       "      <th>StnPressure</th>\n",
       "      <th>SeaLevel</th>\n",
       "      <th>ResultSpeed</th>\n",
       "      <th>ResultDir</th>\n",
       "      <th>AvgSpeed</th>\n",
       "      <th>Sunrise</th>\n",
       "      <th>Sunset</th>\n",
       "      <th>bc</th>\n",
       "      <th>br</th>\n",
       "      <th>dz</th>\n",
       "      <th>fg</th>\n",
       "      <th>fg+</th>\n",
       "      <th>fu</th>\n",
       "      <th>gr</th>\n",
       "      <th>hz</th>\n",
       "      <th>mi</th>\n",
       "      <th>ra</th>\n",
       "      <th>sn</th>\n",
       "      <th>sq</th>\n",
       "      <th>ts</th>\n",
       "      <th>vc</th>\n",
       "    </tr>\n",
       "  </thead>\n",
       "  <tbody>\n",
       "    <tr>\n",
       "      <th>0</th>\n",
       "      <td>2007-05-29</td>\n",
       "      <td>41.954690</td>\n",
       "      <td>-87.800991</td>\n",
       "      <td>0</td>\n",
       "      <td>1</td>\n",
       "      <td>0</td>\n",
       "      <td>0</td>\n",
       "      <td>0</td>\n",
       "      <td>1.0</td>\n",
       "      <td>88.0</td>\n",
       "      <td>62.5</td>\n",
       "      <td>75.25</td>\n",
       "      <td>58.5</td>\n",
       "      <td>65.5</td>\n",
       "      <td>0.0</td>\n",
       "      <td>10.5</td>\n",
       "      <td>0.0</td>\n",
       "      <td>29.415</td>\n",
       "      <td>30.1</td>\n",
       "      <td>5.8</td>\n",
       "      <td>17.0</td>\n",
       "      <td>6.95</td>\n",
       "      <td>4.35</td>\n",
       "      <td>19.283333</td>\n",
       "      <td>0</td>\n",
       "      <td>1</td>\n",
       "      <td>0</td>\n",
       "      <td>0</td>\n",
       "      <td>0</td>\n",
       "      <td>0</td>\n",
       "      <td>0</td>\n",
       "      <td>1</td>\n",
       "      <td>0</td>\n",
       "      <td>0</td>\n",
       "      <td>0</td>\n",
       "      <td>0</td>\n",
       "      <td>0</td>\n",
       "      <td>0</td>\n",
       "    </tr>\n",
       "    <tr>\n",
       "      <th>1</th>\n",
       "      <td>2007-05-29</td>\n",
       "      <td>41.954690</td>\n",
       "      <td>-87.800991</td>\n",
       "      <td>0</td>\n",
       "      <td>0</td>\n",
       "      <td>1</td>\n",
       "      <td>0</td>\n",
       "      <td>0</td>\n",
       "      <td>1.0</td>\n",
       "      <td>88.0</td>\n",
       "      <td>62.5</td>\n",
       "      <td>75.25</td>\n",
       "      <td>58.5</td>\n",
       "      <td>65.5</td>\n",
       "      <td>0.0</td>\n",
       "      <td>10.5</td>\n",
       "      <td>0.0</td>\n",
       "      <td>29.415</td>\n",
       "      <td>30.1</td>\n",
       "      <td>5.8</td>\n",
       "      <td>17.0</td>\n",
       "      <td>6.95</td>\n",
       "      <td>4.35</td>\n",
       "      <td>19.283333</td>\n",
       "      <td>0</td>\n",
       "      <td>1</td>\n",
       "      <td>0</td>\n",
       "      <td>0</td>\n",
       "      <td>0</td>\n",
       "      <td>0</td>\n",
       "      <td>0</td>\n",
       "      <td>1</td>\n",
       "      <td>0</td>\n",
       "      <td>0</td>\n",
       "      <td>0</td>\n",
       "      <td>0</td>\n",
       "      <td>0</td>\n",
       "      <td>0</td>\n",
       "    </tr>\n",
       "    <tr>\n",
       "      <th>2</th>\n",
       "      <td>2007-05-29</td>\n",
       "      <td>41.994991</td>\n",
       "      <td>-87.769279</td>\n",
       "      <td>0</td>\n",
       "      <td>0</td>\n",
       "      <td>1</td>\n",
       "      <td>0</td>\n",
       "      <td>0</td>\n",
       "      <td>1.0</td>\n",
       "      <td>88.0</td>\n",
       "      <td>62.5</td>\n",
       "      <td>75.25</td>\n",
       "      <td>58.5</td>\n",
       "      <td>65.5</td>\n",
       "      <td>0.0</td>\n",
       "      <td>10.5</td>\n",
       "      <td>0.0</td>\n",
       "      <td>29.415</td>\n",
       "      <td>30.1</td>\n",
       "      <td>5.8</td>\n",
       "      <td>17.0</td>\n",
       "      <td>6.95</td>\n",
       "      <td>4.35</td>\n",
       "      <td>19.283333</td>\n",
       "      <td>0</td>\n",
       "      <td>1</td>\n",
       "      <td>0</td>\n",
       "      <td>0</td>\n",
       "      <td>0</td>\n",
       "      <td>0</td>\n",
       "      <td>0</td>\n",
       "      <td>1</td>\n",
       "      <td>0</td>\n",
       "      <td>0</td>\n",
       "      <td>0</td>\n",
       "      <td>0</td>\n",
       "      <td>0</td>\n",
       "      <td>0</td>\n",
       "    </tr>\n",
       "    <tr>\n",
       "      <th>3</th>\n",
       "      <td>2007-05-29</td>\n",
       "      <td>41.974089</td>\n",
       "      <td>-87.824812</td>\n",
       "      <td>0</td>\n",
       "      <td>1</td>\n",
       "      <td>0</td>\n",
       "      <td>0</td>\n",
       "      <td>0</td>\n",
       "      <td>1.0</td>\n",
       "      <td>88.0</td>\n",
       "      <td>62.5</td>\n",
       "      <td>75.25</td>\n",
       "      <td>58.5</td>\n",
       "      <td>65.5</td>\n",
       "      <td>0.0</td>\n",
       "      <td>10.5</td>\n",
       "      <td>0.0</td>\n",
       "      <td>29.415</td>\n",
       "      <td>30.1</td>\n",
       "      <td>5.8</td>\n",
       "      <td>17.0</td>\n",
       "      <td>6.95</td>\n",
       "      <td>4.35</td>\n",
       "      <td>19.283333</td>\n",
       "      <td>0</td>\n",
       "      <td>1</td>\n",
       "      <td>0</td>\n",
       "      <td>0</td>\n",
       "      <td>0</td>\n",
       "      <td>0</td>\n",
       "      <td>0</td>\n",
       "      <td>1</td>\n",
       "      <td>0</td>\n",
       "      <td>0</td>\n",
       "      <td>0</td>\n",
       "      <td>0</td>\n",
       "      <td>0</td>\n",
       "      <td>0</td>\n",
       "    </tr>\n",
       "    <tr>\n",
       "      <th>4</th>\n",
       "      <td>2007-05-29</td>\n",
       "      <td>41.974089</td>\n",
       "      <td>-87.824812</td>\n",
       "      <td>0</td>\n",
       "      <td>0</td>\n",
       "      <td>1</td>\n",
       "      <td>0</td>\n",
       "      <td>0</td>\n",
       "      <td>1.0</td>\n",
       "      <td>88.0</td>\n",
       "      <td>62.5</td>\n",
       "      <td>75.25</td>\n",
       "      <td>58.5</td>\n",
       "      <td>65.5</td>\n",
       "      <td>0.0</td>\n",
       "      <td>10.5</td>\n",
       "      <td>0.0</td>\n",
       "      <td>29.415</td>\n",
       "      <td>30.1</td>\n",
       "      <td>5.8</td>\n",
       "      <td>17.0</td>\n",
       "      <td>6.95</td>\n",
       "      <td>4.35</td>\n",
       "      <td>19.283333</td>\n",
       "      <td>0</td>\n",
       "      <td>1</td>\n",
       "      <td>0</td>\n",
       "      <td>0</td>\n",
       "      <td>0</td>\n",
       "      <td>0</td>\n",
       "      <td>0</td>\n",
       "      <td>1</td>\n",
       "      <td>0</td>\n",
       "      <td>0</td>\n",
       "      <td>0</td>\n",
       "      <td>0</td>\n",
       "      <td>0</td>\n",
       "      <td>0</td>\n",
       "    </tr>\n",
       "  </tbody>\n",
       "</table>\n",
       "</div>"
      ],
      "text/plain": [
       "         Date   Latitude  Longitude  Species_CULEX PIPIENS  \\\n",
       "0  2007-05-29  41.954690 -87.800991                      0   \n",
       "1  2007-05-29  41.954690 -87.800991                      0   \n",
       "2  2007-05-29  41.994991 -87.769279                      0   \n",
       "3  2007-05-29  41.974089 -87.824812                      0   \n",
       "4  2007-05-29  41.974089 -87.824812                      0   \n",
       "\n",
       "   Species_CULEX PIPIENS/RESTUANS  Species_CULEX RESTUANS  WnvPresent  \\\n",
       "0                               1                       0           0   \n",
       "1                               0                       1           0   \n",
       "2                               0                       1           0   \n",
       "3                               1                       0           0   \n",
       "4                               0                       1           0   \n",
       "\n",
       "   Sprayed  Avg Pos Dist  Tmax  Tmin   Tavg  DewPoint  WetBulb  Heat  Cool  \\\n",
       "0        0           1.0  88.0  62.5  75.25      58.5     65.5   0.0  10.5   \n",
       "1        0           1.0  88.0  62.5  75.25      58.5     65.5   0.0  10.5   \n",
       "2        0           1.0  88.0  62.5  75.25      58.5     65.5   0.0  10.5   \n",
       "3        0           1.0  88.0  62.5  75.25      58.5     65.5   0.0  10.5   \n",
       "4        0           1.0  88.0  62.5  75.25      58.5     65.5   0.0  10.5   \n",
       "\n",
       "   PrecipTotal  StnPressure  SeaLevel  ResultSpeed  ResultDir  AvgSpeed  \\\n",
       "0          0.0       29.415      30.1          5.8       17.0      6.95   \n",
       "1          0.0       29.415      30.1          5.8       17.0      6.95   \n",
       "2          0.0       29.415      30.1          5.8       17.0      6.95   \n",
       "3          0.0       29.415      30.1          5.8       17.0      6.95   \n",
       "4          0.0       29.415      30.1          5.8       17.0      6.95   \n",
       "\n",
       "   Sunrise     Sunset  bc  br  dz  fg  fg+  fu  gr  hz  mi  ra  sn  sq  ts  vc  \n",
       "0     4.35  19.283333   0   1   0   0    0   0   0   1   0   0   0   0   0   0  \n",
       "1     4.35  19.283333   0   1   0   0    0   0   0   1   0   0   0   0   0   0  \n",
       "2     4.35  19.283333   0   1   0   0    0   0   0   1   0   0   0   0   0   0  \n",
       "3     4.35  19.283333   0   1   0   0    0   0   0   1   0   0   0   0   0   0  \n",
       "4     4.35  19.283333   0   1   0   0    0   0   0   1   0   0   0   0   0   0  "
      ]
     },
     "execution_count": 45,
     "metadata": {},
     "output_type": "execute_result"
    }
   ],
   "source": [
    "merged_train_lag_0.head()"
   ]
  },
  {
   "cell_type": "code",
   "execution_count": 46,
   "metadata": {
    "colab": {
     "base_uri": "https://localhost:8080/",
     "height": 34
    },
    "colab_type": "code",
    "id": "_Xa_i6vTgfn1",
    "outputId": "80bf6c94-5e63-4989-ff33-04f86c8be3d0"
   },
   "outputs": [
    {
     "data": {
      "text/plain": [
       "(8304, 38)"
      ]
     },
     "execution_count": 46,
     "metadata": {},
     "output_type": "execute_result"
    }
   ],
   "source": [
    "merged_train_lag_0.shape"
   ]
  },
  {
   "cell_type": "code",
   "execution_count": 47,
   "metadata": {},
   "outputs": [
    {
     "data": {
      "text/plain": [
       "0"
      ]
     },
     "execution_count": 47,
     "metadata": {},
     "output_type": "execute_result"
    }
   ],
   "source": [
    "merged_train_lag_0.isnull().sum().sum()"
   ]
  },
  {
   "cell_type": "code",
   "execution_count": 48,
   "metadata": {
    "colab": {
     "base_uri": "https://localhost:8080/",
     "height": 326
    },
    "colab_type": "code",
    "id": "76BwDHA00L0p",
    "outputId": "4078564a-7dbe-494b-ee6f-1d78cac0d553"
   },
   "outputs": [
    {
     "data": {
      "text/html": [
       "<div>\n",
       "<style scoped>\n",
       "    .dataframe tbody tr th:only-of-type {\n",
       "        vertical-align: middle;\n",
       "    }\n",
       "\n",
       "    .dataframe tbody tr th {\n",
       "        vertical-align: top;\n",
       "    }\n",
       "\n",
       "    .dataframe thead th {\n",
       "        text-align: right;\n",
       "    }\n",
       "</style>\n",
       "<table border=\"1\" class=\"dataframe\">\n",
       "  <thead>\n",
       "    <tr style=\"text-align: right;\">\n",
       "      <th></th>\n",
       "      <th>Id</th>\n",
       "      <th>Date</th>\n",
       "      <th>Latitude</th>\n",
       "      <th>Longitude</th>\n",
       "      <th>Species_CULEX PIPIENS</th>\n",
       "      <th>Species_CULEX PIPIENS/RESTUANS</th>\n",
       "      <th>Species_CULEX RESTUANS</th>\n",
       "      <th>Sprayed</th>\n",
       "      <th>Avg Pos Dist</th>\n",
       "      <th>Tmax</th>\n",
       "      <th>Tmin</th>\n",
       "      <th>Tavg</th>\n",
       "      <th>DewPoint</th>\n",
       "      <th>WetBulb</th>\n",
       "      <th>Heat</th>\n",
       "      <th>Cool</th>\n",
       "      <th>PrecipTotal</th>\n",
       "      <th>StnPressure</th>\n",
       "      <th>SeaLevel</th>\n",
       "      <th>ResultSpeed</th>\n",
       "      <th>ResultDir</th>\n",
       "      <th>AvgSpeed</th>\n",
       "      <th>Sunrise</th>\n",
       "      <th>Sunset</th>\n",
       "      <th>bc</th>\n",
       "      <th>br</th>\n",
       "      <th>dz</th>\n",
       "      <th>fg</th>\n",
       "      <th>fg+</th>\n",
       "      <th>fu</th>\n",
       "      <th>gr</th>\n",
       "      <th>hz</th>\n",
       "      <th>mi</th>\n",
       "      <th>ra</th>\n",
       "      <th>sn</th>\n",
       "      <th>sq</th>\n",
       "      <th>ts</th>\n",
       "      <th>vc</th>\n",
       "    </tr>\n",
       "  </thead>\n",
       "  <tbody>\n",
       "    <tr>\n",
       "      <th>0</th>\n",
       "      <td>1</td>\n",
       "      <td>2008-06-11</td>\n",
       "      <td>41.95469</td>\n",
       "      <td>-87.800991</td>\n",
       "      <td>0</td>\n",
       "      <td>1</td>\n",
       "      <td>0</td>\n",
       "      <td>0</td>\n",
       "      <td>0.014806</td>\n",
       "      <td>86.0</td>\n",
       "      <td>63.5</td>\n",
       "      <td>74.75</td>\n",
       "      <td>55.5</td>\n",
       "      <td>64.0</td>\n",
       "      <td>0.0</td>\n",
       "      <td>10.0</td>\n",
       "      <td>0.0</td>\n",
       "      <td>29.31</td>\n",
       "      <td>29.98</td>\n",
       "      <td>9.15</td>\n",
       "      <td>18.0</td>\n",
       "      <td>10.2</td>\n",
       "      <td>4.266667</td>\n",
       "      <td>19.433333</td>\n",
       "      <td>0</td>\n",
       "      <td>0</td>\n",
       "      <td>0</td>\n",
       "      <td>0</td>\n",
       "      <td>0</td>\n",
       "      <td>0</td>\n",
       "      <td>0</td>\n",
       "      <td>0</td>\n",
       "      <td>0</td>\n",
       "      <td>0</td>\n",
       "      <td>0</td>\n",
       "      <td>0</td>\n",
       "      <td>0</td>\n",
       "      <td>0</td>\n",
       "    </tr>\n",
       "    <tr>\n",
       "      <th>1</th>\n",
       "      <td>2</td>\n",
       "      <td>2008-06-11</td>\n",
       "      <td>41.95469</td>\n",
       "      <td>-87.800991</td>\n",
       "      <td>0</td>\n",
       "      <td>0</td>\n",
       "      <td>1</td>\n",
       "      <td>0</td>\n",
       "      <td>0.014806</td>\n",
       "      <td>86.0</td>\n",
       "      <td>63.5</td>\n",
       "      <td>74.75</td>\n",
       "      <td>55.5</td>\n",
       "      <td>64.0</td>\n",
       "      <td>0.0</td>\n",
       "      <td>10.0</td>\n",
       "      <td>0.0</td>\n",
       "      <td>29.31</td>\n",
       "      <td>29.98</td>\n",
       "      <td>9.15</td>\n",
       "      <td>18.0</td>\n",
       "      <td>10.2</td>\n",
       "      <td>4.266667</td>\n",
       "      <td>19.433333</td>\n",
       "      <td>0</td>\n",
       "      <td>0</td>\n",
       "      <td>0</td>\n",
       "      <td>0</td>\n",
       "      <td>0</td>\n",
       "      <td>0</td>\n",
       "      <td>0</td>\n",
       "      <td>0</td>\n",
       "      <td>0</td>\n",
       "      <td>0</td>\n",
       "      <td>0</td>\n",
       "      <td>0</td>\n",
       "      <td>0</td>\n",
       "      <td>0</td>\n",
       "    </tr>\n",
       "    <tr>\n",
       "      <th>2</th>\n",
       "      <td>3</td>\n",
       "      <td>2008-06-11</td>\n",
       "      <td>41.95469</td>\n",
       "      <td>-87.800991</td>\n",
       "      <td>1</td>\n",
       "      <td>0</td>\n",
       "      <td>0</td>\n",
       "      <td>0</td>\n",
       "      <td>0.014806</td>\n",
       "      <td>86.0</td>\n",
       "      <td>63.5</td>\n",
       "      <td>74.75</td>\n",
       "      <td>55.5</td>\n",
       "      <td>64.0</td>\n",
       "      <td>0.0</td>\n",
       "      <td>10.0</td>\n",
       "      <td>0.0</td>\n",
       "      <td>29.31</td>\n",
       "      <td>29.98</td>\n",
       "      <td>9.15</td>\n",
       "      <td>18.0</td>\n",
       "      <td>10.2</td>\n",
       "      <td>4.266667</td>\n",
       "      <td>19.433333</td>\n",
       "      <td>0</td>\n",
       "      <td>0</td>\n",
       "      <td>0</td>\n",
       "      <td>0</td>\n",
       "      <td>0</td>\n",
       "      <td>0</td>\n",
       "      <td>0</td>\n",
       "      <td>0</td>\n",
       "      <td>0</td>\n",
       "      <td>0</td>\n",
       "      <td>0</td>\n",
       "      <td>0</td>\n",
       "      <td>0</td>\n",
       "      <td>0</td>\n",
       "    </tr>\n",
       "    <tr>\n",
       "      <th>3</th>\n",
       "      <td>4</td>\n",
       "      <td>2008-06-11</td>\n",
       "      <td>41.95469</td>\n",
       "      <td>-87.800991</td>\n",
       "      <td>0</td>\n",
       "      <td>0</td>\n",
       "      <td>0</td>\n",
       "      <td>0</td>\n",
       "      <td>0.014806</td>\n",
       "      <td>86.0</td>\n",
       "      <td>63.5</td>\n",
       "      <td>74.75</td>\n",
       "      <td>55.5</td>\n",
       "      <td>64.0</td>\n",
       "      <td>0.0</td>\n",
       "      <td>10.0</td>\n",
       "      <td>0.0</td>\n",
       "      <td>29.31</td>\n",
       "      <td>29.98</td>\n",
       "      <td>9.15</td>\n",
       "      <td>18.0</td>\n",
       "      <td>10.2</td>\n",
       "      <td>4.266667</td>\n",
       "      <td>19.433333</td>\n",
       "      <td>0</td>\n",
       "      <td>0</td>\n",
       "      <td>0</td>\n",
       "      <td>0</td>\n",
       "      <td>0</td>\n",
       "      <td>0</td>\n",
       "      <td>0</td>\n",
       "      <td>0</td>\n",
       "      <td>0</td>\n",
       "      <td>0</td>\n",
       "      <td>0</td>\n",
       "      <td>0</td>\n",
       "      <td>0</td>\n",
       "      <td>0</td>\n",
       "    </tr>\n",
       "    <tr>\n",
       "      <th>4</th>\n",
       "      <td>5</td>\n",
       "      <td>2008-06-11</td>\n",
       "      <td>41.95469</td>\n",
       "      <td>-87.800991</td>\n",
       "      <td>0</td>\n",
       "      <td>0</td>\n",
       "      <td>0</td>\n",
       "      <td>0</td>\n",
       "      <td>0.014806</td>\n",
       "      <td>86.0</td>\n",
       "      <td>63.5</td>\n",
       "      <td>74.75</td>\n",
       "      <td>55.5</td>\n",
       "      <td>64.0</td>\n",
       "      <td>0.0</td>\n",
       "      <td>10.0</td>\n",
       "      <td>0.0</td>\n",
       "      <td>29.31</td>\n",
       "      <td>29.98</td>\n",
       "      <td>9.15</td>\n",
       "      <td>18.0</td>\n",
       "      <td>10.2</td>\n",
       "      <td>4.266667</td>\n",
       "      <td>19.433333</td>\n",
       "      <td>0</td>\n",
       "      <td>0</td>\n",
       "      <td>0</td>\n",
       "      <td>0</td>\n",
       "      <td>0</td>\n",
       "      <td>0</td>\n",
       "      <td>0</td>\n",
       "      <td>0</td>\n",
       "      <td>0</td>\n",
       "      <td>0</td>\n",
       "      <td>0</td>\n",
       "      <td>0</td>\n",
       "      <td>0</td>\n",
       "      <td>0</td>\n",
       "    </tr>\n",
       "  </tbody>\n",
       "</table>\n",
       "</div>"
      ],
      "text/plain": [
       "   Id        Date  Latitude  Longitude  Species_CULEX PIPIENS  \\\n",
       "0   1  2008-06-11  41.95469 -87.800991                      0   \n",
       "1   2  2008-06-11  41.95469 -87.800991                      0   \n",
       "2   3  2008-06-11  41.95469 -87.800991                      1   \n",
       "3   4  2008-06-11  41.95469 -87.800991                      0   \n",
       "4   5  2008-06-11  41.95469 -87.800991                      0   \n",
       "\n",
       "   Species_CULEX PIPIENS/RESTUANS  Species_CULEX RESTUANS  Sprayed  \\\n",
       "0                               1                       0        0   \n",
       "1                               0                       1        0   \n",
       "2                               0                       0        0   \n",
       "3                               0                       0        0   \n",
       "4                               0                       0        0   \n",
       "\n",
       "   Avg Pos Dist  Tmax  Tmin   Tavg  DewPoint  WetBulb  Heat  Cool  \\\n",
       "0      0.014806  86.0  63.5  74.75      55.5     64.0   0.0  10.0   \n",
       "1      0.014806  86.0  63.5  74.75      55.5     64.0   0.0  10.0   \n",
       "2      0.014806  86.0  63.5  74.75      55.5     64.0   0.0  10.0   \n",
       "3      0.014806  86.0  63.5  74.75      55.5     64.0   0.0  10.0   \n",
       "4      0.014806  86.0  63.5  74.75      55.5     64.0   0.0  10.0   \n",
       "\n",
       "   PrecipTotal  StnPressure  SeaLevel  ResultSpeed  ResultDir  AvgSpeed  \\\n",
       "0          0.0        29.31     29.98         9.15       18.0      10.2   \n",
       "1          0.0        29.31     29.98         9.15       18.0      10.2   \n",
       "2          0.0        29.31     29.98         9.15       18.0      10.2   \n",
       "3          0.0        29.31     29.98         9.15       18.0      10.2   \n",
       "4          0.0        29.31     29.98         9.15       18.0      10.2   \n",
       "\n",
       "    Sunrise     Sunset  bc  br  dz  fg  fg+  fu  gr  hz  mi  ra  sn  sq  ts  \\\n",
       "0  4.266667  19.433333   0   0   0   0    0   0   0   0   0   0   0   0   0   \n",
       "1  4.266667  19.433333   0   0   0   0    0   0   0   0   0   0   0   0   0   \n",
       "2  4.266667  19.433333   0   0   0   0    0   0   0   0   0   0   0   0   0   \n",
       "3  4.266667  19.433333   0   0   0   0    0   0   0   0   0   0   0   0   0   \n",
       "4  4.266667  19.433333   0   0   0   0    0   0   0   0   0   0   0   0   0   \n",
       "\n",
       "   vc  \n",
       "0   0  \n",
       "1   0  \n",
       "2   0  \n",
       "3   0  \n",
       "4   0  "
      ]
     },
     "execution_count": 48,
     "metadata": {},
     "output_type": "execute_result"
    }
   ],
   "source": [
    "merged_test_lag_0.head()"
   ]
  },
  {
   "cell_type": "code",
   "execution_count": 49,
   "metadata": {
    "colab": {
     "base_uri": "https://localhost:8080/",
     "height": 34
    },
    "colab_type": "code",
    "id": "dSsm5crV0PAg",
    "outputId": "968aea53-e6fb-4d39-f9eb-6e38f6cdc44d",
    "scrolled": true
   },
   "outputs": [
    {
     "data": {
      "text/plain": [
       "(116293, 38)"
      ]
     },
     "execution_count": 49,
     "metadata": {},
     "output_type": "execute_result"
    }
   ],
   "source": [
    "merged_test_lag_0.shape"
   ]
  },
  {
   "cell_type": "code",
   "execution_count": 50,
   "metadata": {},
   "outputs": [
    {
     "data": {
      "text/plain": [
       "0"
      ]
     },
     "execution_count": 50,
     "metadata": {},
     "output_type": "execute_result"
    }
   ],
   "source": [
    "merged_test_lag_0.isnull().sum().sum()"
   ]
  },
  {
   "cell_type": "markdown",
   "metadata": {},
   "source": [
    "Merging *weather* data with *train* & *test* data with **2 days lag**."
   ]
  },
  {
   "cell_type": "code",
   "execution_count": 51,
   "metadata": {},
   "outputs": [],
   "source": [
    "# Combining weather dataframe with train & test dataframes along Date_lag_2 column.\n",
    "# Using left join to only keep rows from train & test dataframes and discard all other rows.\n",
    "\n",
    "weather_cols = ['Date_lag_2']\n",
    "weather_cols.extend(weather.columns[1:30])\n",
    "\n",
    "merged_train_lag_2 = pd.merge(left=train, right=weather[weather_cols], left_on='Date', right_on='Date_lag_2', how='left')\n",
    "merged_test_lag_2 = pd.merge(left=test, right=weather[weather_cols], left_on='Date', right_on='Date_lag_2', how='left')\n",
    "\n",
    "# Dropping the extra column 'Date_lag_2'.\n",
    "merged_train_lag_2.drop(columns='Date_lag_2', inplace=True)\n",
    "merged_test_lag_2.drop(columns='Date_lag_2', inplace=True)"
   ]
  },
  {
   "cell_type": "code",
   "execution_count": 52,
   "metadata": {},
   "outputs": [
    {
     "name": "stdout",
     "output_type": "stream",
     "text": [
      "(8304, 38)\n"
     ]
    },
    {
     "data": {
      "text/plain": [
       "0"
      ]
     },
     "execution_count": 52,
     "metadata": {},
     "output_type": "execute_result"
    }
   ],
   "source": [
    "print(merged_train_lag_2.shape)\n",
    "merged_train_lag_2.isnull().sum().sum()"
   ]
  },
  {
   "cell_type": "code",
   "execution_count": 53,
   "metadata": {},
   "outputs": [
    {
     "name": "stdout",
     "output_type": "stream",
     "text": [
      "(116293, 38)\n"
     ]
    },
    {
     "data": {
      "text/plain": [
       "0"
      ]
     },
     "execution_count": 53,
     "metadata": {},
     "output_type": "execute_result"
    }
   ],
   "source": [
    "print(merged_test_lag_2.shape)\n",
    "merged_test_lag_2.isnull().sum().sum()"
   ]
  },
  {
   "cell_type": "markdown",
   "metadata": {},
   "source": [
    "Merging *weather* data with *train* & *test* data with **5 days lag**."
   ]
  },
  {
   "cell_type": "code",
   "execution_count": 54,
   "metadata": {},
   "outputs": [],
   "source": [
    "# Combining weather dataframe with train & test dataframes along Date_lag_5 column.\n",
    "# Using left join to only keep rows from train & test dataframes and discard all other rows.\n",
    "\n",
    "weather_cols = ['Date_lag_5']\n",
    "weather_cols.extend(weather.columns[1:30])\n",
    "\n",
    "merged_train_lag_5 = pd.merge(left=train, right=weather[weather_cols], left_on='Date', right_on='Date_lag_5', how='left')\n",
    "merged_test_lag_5 = pd.merge(left=test, right=weather[weather_cols], left_on='Date', right_on='Date_lag_5', how='left')\n",
    "\n",
    "# Dropping the extra column 'Date_lag_5'.\n",
    "merged_train_lag_5.drop(columns='Date_lag_5', inplace=True)\n",
    "merged_test_lag_5.drop(columns='Date_lag_5', inplace=True)"
   ]
  },
  {
   "cell_type": "code",
   "execution_count": 55,
   "metadata": {},
   "outputs": [
    {
     "name": "stdout",
     "output_type": "stream",
     "text": [
      "(8304, 38)\n"
     ]
    },
    {
     "data": {
      "text/plain": [
       "0"
      ]
     },
     "execution_count": 55,
     "metadata": {},
     "output_type": "execute_result"
    }
   ],
   "source": [
    "print(merged_train_lag_5.shape)\n",
    "merged_train_lag_5.isnull().sum().sum()"
   ]
  },
  {
   "cell_type": "code",
   "execution_count": 56,
   "metadata": {},
   "outputs": [
    {
     "name": "stdout",
     "output_type": "stream",
     "text": [
      "(116293, 38)\n"
     ]
    },
    {
     "data": {
      "text/plain": [
       "0"
      ]
     },
     "execution_count": 56,
     "metadata": {},
     "output_type": "execute_result"
    }
   ],
   "source": [
    "print(merged_test_lag_5.shape)\n",
    "merged_test_lag_5.isnull().sum().sum()"
   ]
  },
  {
   "cell_type": "markdown",
   "metadata": {},
   "source": [
    "Merging *weather* data with *train* & *test* data with **7 days lag**."
   ]
  },
  {
   "cell_type": "code",
   "execution_count": 57,
   "metadata": {},
   "outputs": [],
   "source": [
    "# Combining weather dataframe with train & test dataframes along Date_lag_7 column.\n",
    "# Using left join to only keep rows from train & test dataframes and discard all other rows.\n",
    "\n",
    "weather_cols = ['Date_lag_7']\n",
    "weather_cols.extend(weather.columns[1:30])\n",
    "\n",
    "merged_train_lag_7 = pd.merge(left=train, right=weather[weather_cols], left_on='Date', right_on='Date_lag_7', how='left')\n",
    "merged_test_lag_7 = pd.merge(left=test, right=weather[weather_cols], left_on='Date', right_on='Date_lag_7', how='left')\n",
    "\n",
    "# Dropping the extra column 'Date_lag_7'.\n",
    "merged_train_lag_7.drop(columns='Date_lag_7', inplace=True)\n",
    "merged_test_lag_7.drop(columns='Date_lag_7', inplace=True)"
   ]
  },
  {
   "cell_type": "code",
   "execution_count": 58,
   "metadata": {},
   "outputs": [
    {
     "name": "stdout",
     "output_type": "stream",
     "text": [
      "(8304, 38)\n"
     ]
    },
    {
     "data": {
      "text/plain": [
       "0"
      ]
     },
     "execution_count": 58,
     "metadata": {},
     "output_type": "execute_result"
    }
   ],
   "source": [
    "print(merged_train_lag_7.shape)\n",
    "merged_train_lag_7.isnull().sum().sum()"
   ]
  },
  {
   "cell_type": "code",
   "execution_count": 59,
   "metadata": {},
   "outputs": [
    {
     "name": "stdout",
     "output_type": "stream",
     "text": [
      "(116293, 38)\n"
     ]
    },
    {
     "data": {
      "text/plain": [
       "0"
      ]
     },
     "execution_count": 59,
     "metadata": {},
     "output_type": "execute_result"
    }
   ],
   "source": [
    "print(merged_test_lag_7.shape)\n",
    "merged_test_lag_7.isnull().sum().sum()"
   ]
  },
  {
   "cell_type": "markdown",
   "metadata": {},
   "source": [
    "Merging *weather* data with *train* & *test* data with **10 days lag**."
   ]
  },
  {
   "cell_type": "code",
   "execution_count": 60,
   "metadata": {},
   "outputs": [],
   "source": [
    "# Combining weather dataframe with train & test dataframes along Date_lag_10 column.\n",
    "# Using left join to only keep rows from train & test dataframes and discard all other rows.\n",
    "\n",
    "weather_cols = ['Date_lag_10']\n",
    "weather_cols.extend(weather.columns[1:30])\n",
    "\n",
    "merged_train_lag_10 = pd.merge(left=train, right=weather[weather_cols], left_on='Date', right_on='Date_lag_10', how='left')\n",
    "merged_test_lag_10 = pd.merge(left=test, right=weather[weather_cols], left_on='Date', right_on='Date_lag_10', how='left')\n",
    "\n",
    "# Dropping the extra column 'Date_lag_10'.\n",
    "merged_train_lag_10.drop(columns='Date_lag_10', inplace=True)\n",
    "merged_test_lag_10.drop(columns='Date_lag_10', inplace=True)"
   ]
  },
  {
   "cell_type": "code",
   "execution_count": 61,
   "metadata": {},
   "outputs": [
    {
     "name": "stdout",
     "output_type": "stream",
     "text": [
      "(8304, 38)\n"
     ]
    },
    {
     "data": {
      "text/plain": [
       "0"
      ]
     },
     "execution_count": 61,
     "metadata": {},
     "output_type": "execute_result"
    }
   ],
   "source": [
    "print(merged_train_lag_10.shape)\n",
    "merged_train_lag_10.isnull().sum().sum()"
   ]
  },
  {
   "cell_type": "code",
   "execution_count": 62,
   "metadata": {},
   "outputs": [
    {
     "name": "stdout",
     "output_type": "stream",
     "text": [
      "(116293, 38)\n"
     ]
    },
    {
     "data": {
      "text/plain": [
       "0"
      ]
     },
     "execution_count": 62,
     "metadata": {},
     "output_type": "execute_result"
    }
   ],
   "source": [
    "print(merged_test_lag_10.shape)\n",
    "merged_test_lag_10.isnull().sum().sum()"
   ]
  },
  {
   "cell_type": "markdown",
   "metadata": {},
   "source": [
    "Merging *weather* data with *train* & *test* data with **14 days lag**."
   ]
  },
  {
   "cell_type": "code",
   "execution_count": 63,
   "metadata": {},
   "outputs": [],
   "source": [
    "# Combining weather dataframe with train & test dataframes along Date_lag_14 column.\n",
    "# Using left join to only keep rows from train & test dataframes and discard all other rows.\n",
    "\n",
    "weather_cols = ['Date_lag_14']\n",
    "weather_cols.extend(weather.columns[1:30])\n",
    "\n",
    "merged_train_lag_14 = pd.merge(left=train, right=weather[weather_cols], left_on='Date', right_on='Date_lag_14', how='left')\n",
    "merged_test_lag_14 = pd.merge(left=test, right=weather[weather_cols], left_on='Date', right_on='Date_lag_14', how='left')\n",
    "\n",
    "# Dropping the extra column 'Date_lag_14'.\n",
    "merged_train_lag_14.drop(columns='Date_lag_14', inplace=True)\n",
    "merged_test_lag_14.drop(columns='Date_lag_14', inplace=True)"
   ]
  },
  {
   "cell_type": "code",
   "execution_count": 64,
   "metadata": {},
   "outputs": [
    {
     "name": "stdout",
     "output_type": "stream",
     "text": [
      "(8304, 38)\n"
     ]
    },
    {
     "data": {
      "text/plain": [
       "0"
      ]
     },
     "execution_count": 64,
     "metadata": {},
     "output_type": "execute_result"
    }
   ],
   "source": [
    "print(merged_train_lag_14.shape)\n",
    "merged_train_lag_14.isnull().sum().sum()"
   ]
  },
  {
   "cell_type": "code",
   "execution_count": 65,
   "metadata": {},
   "outputs": [
    {
     "name": "stdout",
     "output_type": "stream",
     "text": [
      "(116293, 38)\n"
     ]
    },
    {
     "data": {
      "text/plain": [
       "0"
      ]
     },
     "execution_count": 65,
     "metadata": {},
     "output_type": "execute_result"
    }
   ],
   "source": [
    "print(merged_test_lag_14.shape)\n",
    "merged_test_lag_14.isnull().sum().sum()"
   ]
  },
  {
   "cell_type": "markdown",
   "metadata": {},
   "source": [
    "Merging *weather* data with *train* & *test* data with **21 days lag**."
   ]
  },
  {
   "cell_type": "code",
   "execution_count": 66,
   "metadata": {},
   "outputs": [],
   "source": [
    "# Combining weather dataframe with train & test dataframes along Date_lag_21 column.\n",
    "# Using left join to only keep rows from train & test dataframes and discard all other rows.\n",
    "\n",
    "weather_cols = ['Date_lag_21']\n",
    "weather_cols.extend(weather.columns[1:30])\n",
    "\n",
    "merged_train_lag_21 = pd.merge(left=train, right=weather[weather_cols], left_on='Date', right_on='Date_lag_21', how='left')\n",
    "merged_test_lag_21 = pd.merge(left=test, right=weather[weather_cols], left_on='Date', right_on='Date_lag_21', how='left')\n",
    "\n",
    "# Dropping the extra column 'Date_lag_21'.\n",
    "merged_train_lag_21.drop(columns='Date_lag_21', inplace=True)\n",
    "merged_test_lag_21.drop(columns='Date_lag_21', inplace=True)"
   ]
  },
  {
   "cell_type": "code",
   "execution_count": 67,
   "metadata": {},
   "outputs": [
    {
     "name": "stdout",
     "output_type": "stream",
     "text": [
      "(8304, 38)\n"
     ]
    },
    {
     "data": {
      "text/plain": [
       "0"
      ]
     },
     "execution_count": 67,
     "metadata": {},
     "output_type": "execute_result"
    }
   ],
   "source": [
    "print(merged_train_lag_21.shape)\n",
    "merged_train_lag_21.isnull().sum().sum()"
   ]
  },
  {
   "cell_type": "code",
   "execution_count": 68,
   "metadata": {},
   "outputs": [
    {
     "name": "stdout",
     "output_type": "stream",
     "text": [
      "(116293, 38)\n"
     ]
    },
    {
     "data": {
      "text/plain": [
       "0"
      ]
     },
     "execution_count": 68,
     "metadata": {},
     "output_type": "execute_result"
    }
   ],
   "source": [
    "print(merged_test_lag_21.shape)\n",
    "merged_test_lag_21.isnull().sum().sum()"
   ]
  },
  {
   "cell_type": "markdown",
   "metadata": {},
   "source": [
    "Merging *weather* data with *train* & *test* data with **28 days lag**."
   ]
  },
  {
   "cell_type": "code",
   "execution_count": 69,
   "metadata": {},
   "outputs": [],
   "source": [
    "# Combining weather dataframe with train & test dataframes along Date_lag_28 column.\n",
    "# Using left join to only keep rows from train & test dataframes and discard all other rows.\n",
    "\n",
    "weather_cols = ['Date_lag_28']\n",
    "weather_cols.extend(weather.columns[1:30])\n",
    "\n",
    "merged_train_lag_28 = pd.merge(left=train, right=weather[weather_cols], left_on='Date', right_on='Date_lag_28', how='left')\n",
    "merged_test_lag_28 = pd.merge(left=test, right=weather[weather_cols], left_on='Date', right_on='Date_lag_28', how='left')\n",
    "\n",
    "# Dropping the extra column 'Date_lag_28'.\n",
    "merged_train_lag_28.drop(columns='Date_lag_28', inplace=True)\n",
    "merged_test_lag_28.drop(columns='Date_lag_28', inplace=True)"
   ]
  },
  {
   "cell_type": "code",
   "execution_count": 70,
   "metadata": {},
   "outputs": [
    {
     "name": "stdout",
     "output_type": "stream",
     "text": [
      "(8304, 38)\n"
     ]
    },
    {
     "data": {
      "text/plain": [
       "1624"
      ]
     },
     "execution_count": 70,
     "metadata": {},
     "output_type": "execute_result"
    }
   ],
   "source": [
    "print(merged_train_lag_28.shape)\n",
    "merged_train_lag_28.isnull().sum().sum()"
   ]
  },
  {
   "cell_type": "code",
   "execution_count": 71,
   "metadata": {},
   "outputs": [
    {
     "name": "stdout",
     "output_type": "stream",
     "text": [
      "(116293, 38)\n"
     ]
    },
    {
     "data": {
      "text/plain": [
       "0"
      ]
     },
     "execution_count": 71,
     "metadata": {},
     "output_type": "execute_result"
    }
   ],
   "source": [
    "print(merged_test_lag_28.shape)\n",
    "merged_test_lag_28.isnull().sum().sum()"
   ]
  },
  {
   "cell_type": "markdown",
   "metadata": {},
   "source": [
    "**A lag of 28 days in *weather* data results in rows of missing values in *train* data.** This is because there are some dates in *train* data which do not correspond to dates in *weather* data after the *weather* data has been shifted by 28 days. So, we cannot use a lag of 28 days in *weather* data to do our classification modelling."
   ]
  },
  {
   "cell_type": "markdown",
   "metadata": {},
   "source": [
    "### Exporting merged data"
   ]
  },
  {
   "cell_type": "code",
   "execution_count": 72,
   "metadata": {
    "colab": {},
    "colab_type": "code",
    "id": "099VOvMB1hny"
   },
   "outputs": [],
   "source": [
    "# Exporting all merged dataframes as CSV files.\n",
    "\n",
    "# merged_train_lag_0.to_csv(\"../input/merged_train_lag_0.csv\", index=False)\n",
    "# merged_test_lag_0.to_csv(\"../input/merged_test_lag_0.csv\", index=False)\n",
    "\n",
    "# merged_train_lag_2.to_csv(\"../input/merged_train_lag_2.csv\", index=False)\n",
    "# merged_test_lag_2.to_csv(\"../input/merged_test_lag_2.csv\", index=False)\n",
    "\n",
    "# merged_train_lag_5.to_csv(\"../input/merged_train_lag_5.csv\", index=False)\n",
    "# merged_test_lag_5.to_csv(\"../input/merged_test_lag_5.csv\", index=False)\n",
    "\n",
    "# merged_train_lag_7.to_csv(\"../input/merged_train_lag_7.csv\", index=False)\n",
    "# merged_test_lag_7.to_csv(\"../input/merged_test_lag_7.csv\", index=False)\n",
    "\n",
    "merged_train_lag_10.to_csv(\"../input/merged_train_lag_10.csv\", index=False)\n",
    "merged_test_lag_10.to_csv(\"../input/merged_test_lag_10.csv\", index=False)\n",
    "\n",
    "# merged_train_lag_14.to_csv(\"../input/merged_train_lag_14.csv\", index=False)\n",
    "# merged_test_lag_14.to_csv(\"../input/merged_test_lag_14.csv\", index=False)\n",
    "\n",
    "# merged_train_lag_21.to_csv(\"../input/merged_train_lag_21.csv\", index=False)\n",
    "# merged_test_lag_21.to_csv(\"../input/merged_test_lag_21.csv\", index=False)\n",
    "\n",
    "# merged_train_lag_28.to_csv(\"../input/merged_train_lag_28.csv\", index=False)\n",
    "# merged_test_lag_28.to_csv(\"../input/merged_test_lag_28.csv\", index=False)"
   ]
  }
 ],
 "metadata": {
  "colab": {
   "collapsed_sections": [],
   "name": "4_merging_all_csv.ipynb",
   "provenance": []
  },
  "kernelspec": {
   "display_name": "Python 3",
   "language": "python",
   "name": "python3"
  },
  "language_info": {
   "codemirror_mode": {
    "name": "ipython",
    "version": 3
   },
   "file_extension": ".py",
   "mimetype": "text/x-python",
   "name": "python",
   "nbconvert_exporter": "python",
   "pygments_lexer": "ipython3",
   "version": "3.7.6"
  }
 },
 "nbformat": 4,
 "nbformat_minor": 1
}
